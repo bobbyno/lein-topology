{
 "cells": [
  {
   "cell_type": "markdown",
   "metadata": {
    "deletable": true,
    "editable": true
   },
   "source": [
    "# Analyzing the `lein-topology` function dependency network\n",
    "\n",
    "## Automating recommendations to improve the software architecture"
   ]
  },
  {
   "cell_type": "code",
   "execution_count": 1,
   "metadata": {
    "collapsed": true,
    "deletable": true,
    "editable": true
   },
   "outputs": [],
   "source": [
    "from py2cytoscape.data.cynetwork import CyNetwork\n",
    "from py2cytoscape.data.cyrest_client import CyRestClient\n",
    "from py2cytoscape.data.style import StyleUtil\n",
    "\n",
    "import sand.graph as graph\n",
    "import sand.cytoscape.app as app\n",
    "import sand.cytoscape.positions as scp\n",
    "import sand.modularity as mod\n",
    "\n",
    "from sand.degree import degree_distribution_count\n",
    "from sand.cytoscape.themes import ops, colors\n",
    "from sand.csv import csv_to_dicts\n",
    "from sand.groups import labels_to_groups, namespaces, fqn_to_groups, edge_betweenness\n",
    "\n",
    "import matplotlib.pyplot as plt\n",
    "\n",
    "%matplotlib notebook"
   ]
  },
  {
   "cell_type": "markdown",
   "metadata": {
    "collapsed": true,
    "deletable": true,
    "editable": true
   },
   "source": [
    "### `graph.from_edges` with a list of dictionaries\n",
    "\n",
    "Use `graph.from_edges` with an adjacency list consisting of two vertex names and an edge weight represented as a List of Dictionaries."
   ]
  },
  {
   "cell_type": "code",
   "execution_count": 2,
   "metadata": {
    "collapsed": false,
    "deletable": true,
    "editable": true
   },
   "outputs": [
    {
     "data": {
      "text/plain": [
       "[OrderedDict([('source', 'topology.dependencies/dependencies'),\n",
       "              ('target', 'clojure.core/defn-'),\n",
       "              ('weight', '1')]),\n",
       " OrderedDict([('source',\n",
       "               'topology.edgelist-test/syntax-quotes-add-seq-concat-list'),\n",
       "              ('target', 'clojure.core/filter'),\n",
       "              ('weight', '1')]),\n",
       " OrderedDict([('source',\n",
       "               'topology.dependencies-test/should-compute-fn-calls-in-namespace'),\n",
       "              ('target', 'clojure.core/defn'),\n",
       "              ('weight', '1')]),\n",
       " OrderedDict([('source', 'example/test-when'),\n",
       "              ('target', 'clojure.core/cons'),\n",
       "              ('weight', '1')]),\n",
       " OrderedDict([('source', 'leiningen.topology/topology'),\n",
       "              ('target', 'org.clojure/clojure'),\n",
       "              ('weight', '1')])]"
      ]
     },
     "execution_count": 2,
     "metadata": {},
     "output_type": "execute_result"
    }
   ],
   "source": [
    "network_name = \"5b2a6e3\"\n",
    "network_collection = \"lein-topology\"\n",
    "\n",
    "data_path = \"./data/\" + network_collection + \"-\" + network_name\n",
    "edgelist_file = data_path + \".csv\"\n",
    "\n",
    "edgelist_data = csv_to_dicts(edgelist_file,header=['source', 'target', 'weight'])\n",
    "edgelist_data[:5]"
   ]
  },
  {
   "cell_type": "code",
   "execution_count": 3,
   "metadata": {
    "collapsed": false,
    "deletable": true,
    "editable": true
   },
   "outputs": [
    {
     "data": {
      "text/plain": [
       "'IGRAPH DNW- 107 206 -- \\n+ attr: group (v), indegree (v), label (v), name (v), outdegree (v), weight (e)'"
      ]
     },
     "execution_count": 3,
     "metadata": {},
     "output_type": "execute_result"
    }
   ],
   "source": [
    "g = graph.from_edges(edgelist_data)\n",
    "g.summary()"
   ]
  },
  {
   "cell_type": "markdown",
   "metadata": {
    "deletable": true,
    "editable": true
   },
   "source": [
    "## Is the graph simple?\n",
    "\n",
    "A graph is simple if it does not have multiple edges between vertices and has no loops, i.e. an edge with the same source and target vertex.\n",
    "\n",
    "A graph that isn't simple can cause problems for some network analytics algorithms."
   ]
  },
  {
   "cell_type": "code",
   "execution_count": 4,
   "metadata": {
    "collapsed": false,
    "deletable": true,
    "editable": true
   },
   "outputs": [
    {
     "data": {
      "text/plain": [
       "True"
      ]
     },
     "execution_count": 4,
     "metadata": {},
     "output_type": "execute_result"
    }
   ],
   "source": [
    "g.is_simple()"
   ]
  },
  {
   "cell_type": "markdown",
   "metadata": {
    "deletable": true,
    "editable": true
   },
   "source": [
    "## Initial Clustering based on Namespace\n",
    "\n",
    "Groups represent modules or communities in the network. Groups are based on the labels by default."
   ]
  },
  {
   "cell_type": "code",
   "execution_count": 5,
   "metadata": {
    "collapsed": false,
    "deletable": true,
    "editable": true
   },
   "outputs": [
    {
     "data": {
      "text/plain": [
       "[69, 30, 43, 17, 95]"
      ]
     },
     "execution_count": 5,
     "metadata": {},
     "output_type": "execute_result"
    }
   ],
   "source": [
    "g.vs['group'][:5]"
   ]
  },
  {
   "cell_type": "markdown",
   "metadata": {
    "deletable": true,
    "editable": true
   },
   "source": [
    "The vertices in the `lein topology` data set contain fully-qualified namespaces for functions. Grouping by name isn't particularly useful here:"
   ]
  },
  {
   "cell_type": "code",
   "execution_count": 6,
   "metadata": {
    "collapsed": false,
    "deletable": true,
    "editable": true
   },
   "outputs": [
    {
     "data": {
      "text/plain": [
       "107"
      ]
     },
     "execution_count": 6,
     "metadata": {},
     "output_type": "execute_result"
    }
   ],
   "source": [
    "len(set(g.vs['group']))"
   ]
  },
  {
   "cell_type": "code",
   "execution_count": 7,
   "metadata": {
    "collapsed": false,
    "deletable": true,
    "editable": true
   },
   "outputs": [
    {
     "data": {
      "text/plain": [
       "107"
      ]
     },
     "execution_count": 7,
     "metadata": {},
     "output_type": "execute_result"
    }
   ],
   "source": [
    "len(g.vs)"
   ]
  },
  {
   "cell_type": "markdown",
   "metadata": {
    "deletable": true,
    "editable": true
   },
   "source": [
    "Because `sandbook` was build specifically for analyzing software and system networks, a `fqn_to_groups` grouping function is built in:"
   ]
  },
  {
   "cell_type": "code",
   "execution_count": 8,
   "metadata": {
    "collapsed": false,
    "deletable": true,
    "editable": true
   },
   "outputs": [],
   "source": [
    "g.vs['group'] = fqn_to_groups(g.vs['label'])"
   ]
  },
  {
   "cell_type": "code",
   "execution_count": 9,
   "metadata": {
    "collapsed": false,
    "deletable": true,
    "editable": true
   },
   "outputs": [
    {
     "data": {
      "text/plain": [
       "20"
      ]
     },
     "execution_count": 9,
     "metadata": {},
     "output_type": "execute_result"
    }
   ],
   "source": [
    "len(set(g.vs['group']))"
   ]
  },
  {
   "cell_type": "markdown",
   "metadata": {
    "deletable": true,
    "editable": true
   },
   "source": [
    "This is a much more managable number of groups.\n",
    "\n",
    "Namespaces may also be useful as a separate attribute on the vertices:"
   ]
  },
  {
   "cell_type": "code",
   "execution_count": 10,
   "metadata": {
    "collapsed": true,
    "deletable": true,
    "editable": true
   },
   "outputs": [],
   "source": [
    "g.vs['namespace'] = namespaces(g.vs['label'])"
   ]
  },
  {
   "cell_type": "markdown",
   "metadata": {
    "deletable": true,
    "editable": true
   },
   "source": [
    "## Use degree centrality to identify candidates to filter from the analysis\n",
    "\n",
    "Outdegree represents the vertices that have the most dependencies, i.e. call the most number of functions. These functions could potentially be split into smaller, more cohesive functions.\n",
    "\n",
    "Indegree represents the vertices are depended on the most...changing them will have the most impact on other parts of the system."
   ]
  },
  {
   "cell_type": "code",
   "execution_count": 11,
   "metadata": {
    "collapsed": false,
    "deletable": true,
    "editable": true
   },
   "outputs": [],
   "source": [
    "degree, count = degree_distribution_count(g)"
   ]
  },
  {
   "cell_type": "code",
   "execution_count": 12,
   "metadata": {
    "collapsed": false,
    "deletable": true,
    "editable": true
   },
   "outputs": [
    {
     "data": {
      "application/javascript": [
       "/* Put everything inside the global mpl namespace */\n",
       "window.mpl = {};\n",
       "\n",
       "\n",
       "mpl.get_websocket_type = function() {\n",
       "    if (typeof(WebSocket) !== 'undefined') {\n",
       "        return WebSocket;\n",
       "    } else if (typeof(MozWebSocket) !== 'undefined') {\n",
       "        return MozWebSocket;\n",
       "    } else {\n",
       "        alert('Your browser does not have WebSocket support.' +\n",
       "              'Please try Chrome, Safari or Firefox ≥ 6. ' +\n",
       "              'Firefox 4 and 5 are also supported but you ' +\n",
       "              'have to enable WebSockets in about:config.');\n",
       "    };\n",
       "}\n",
       "\n",
       "mpl.figure = function(figure_id, websocket, ondownload, parent_element) {\n",
       "    this.id = figure_id;\n",
       "\n",
       "    this.ws = websocket;\n",
       "\n",
       "    this.supports_binary = (this.ws.binaryType != undefined);\n",
       "\n",
       "    if (!this.supports_binary) {\n",
       "        var warnings = document.getElementById(\"mpl-warnings\");\n",
       "        if (warnings) {\n",
       "            warnings.style.display = 'block';\n",
       "            warnings.textContent = (\n",
       "                \"This browser does not support binary websocket messages. \" +\n",
       "                    \"Performance may be slow.\");\n",
       "        }\n",
       "    }\n",
       "\n",
       "    this.imageObj = new Image();\n",
       "\n",
       "    this.context = undefined;\n",
       "    this.message = undefined;\n",
       "    this.canvas = undefined;\n",
       "    this.rubberband_canvas = undefined;\n",
       "    this.rubberband_context = undefined;\n",
       "    this.format_dropdown = undefined;\n",
       "\n",
       "    this.image_mode = 'full';\n",
       "\n",
       "    this.root = $('<div/>');\n",
       "    this._root_extra_style(this.root)\n",
       "    this.root.attr('style', 'display: inline-block');\n",
       "\n",
       "    $(parent_element).append(this.root);\n",
       "\n",
       "    this._init_header(this);\n",
       "    this._init_canvas(this);\n",
       "    this._init_toolbar(this);\n",
       "\n",
       "    var fig = this;\n",
       "\n",
       "    this.waiting = false;\n",
       "\n",
       "    this.ws.onopen =  function () {\n",
       "            fig.send_message(\"supports_binary\", {value: fig.supports_binary});\n",
       "            fig.send_message(\"send_image_mode\", {});\n",
       "            if (mpl.ratio != 1) {\n",
       "                fig.send_message(\"set_dpi_ratio\", {'dpi_ratio': mpl.ratio});\n",
       "            }\n",
       "            fig.send_message(\"refresh\", {});\n",
       "        }\n",
       "\n",
       "    this.imageObj.onload = function() {\n",
       "            if (fig.image_mode == 'full') {\n",
       "                // Full images could contain transparency (where diff images\n",
       "                // almost always do), so we need to clear the canvas so that\n",
       "                // there is no ghosting.\n",
       "                fig.context.clearRect(0, 0, fig.canvas.width, fig.canvas.height);\n",
       "            }\n",
       "            fig.context.drawImage(fig.imageObj, 0, 0);\n",
       "        };\n",
       "\n",
       "    this.imageObj.onunload = function() {\n",
       "        this.ws.close();\n",
       "    }\n",
       "\n",
       "    this.ws.onmessage = this._make_on_message_function(this);\n",
       "\n",
       "    this.ondownload = ondownload;\n",
       "}\n",
       "\n",
       "mpl.figure.prototype._init_header = function() {\n",
       "    var titlebar = $(\n",
       "        '<div class=\"ui-dialog-titlebar ui-widget-header ui-corner-all ' +\n",
       "        'ui-helper-clearfix\"/>');\n",
       "    var titletext = $(\n",
       "        '<div class=\"ui-dialog-title\" style=\"width: 100%; ' +\n",
       "        'text-align: center; padding: 3px;\"/>');\n",
       "    titlebar.append(titletext)\n",
       "    this.root.append(titlebar);\n",
       "    this.header = titletext[0];\n",
       "}\n",
       "\n",
       "\n",
       "\n",
       "mpl.figure.prototype._canvas_extra_style = function(canvas_div) {\n",
       "\n",
       "}\n",
       "\n",
       "\n",
       "mpl.figure.prototype._root_extra_style = function(canvas_div) {\n",
       "\n",
       "}\n",
       "\n",
       "mpl.figure.prototype._init_canvas = function() {\n",
       "    var fig = this;\n",
       "\n",
       "    var canvas_div = $('<div/>');\n",
       "\n",
       "    canvas_div.attr('style', 'position: relative; clear: both; outline: 0');\n",
       "\n",
       "    function canvas_keyboard_event(event) {\n",
       "        return fig.key_event(event, event['data']);\n",
       "    }\n",
       "\n",
       "    canvas_div.keydown('key_press', canvas_keyboard_event);\n",
       "    canvas_div.keyup('key_release', canvas_keyboard_event);\n",
       "    this.canvas_div = canvas_div\n",
       "    this._canvas_extra_style(canvas_div)\n",
       "    this.root.append(canvas_div);\n",
       "\n",
       "    var canvas = $('<canvas/>');\n",
       "    canvas.addClass('mpl-canvas');\n",
       "    canvas.attr('style', \"left: 0; top: 0; z-index: 0; outline: 0\")\n",
       "\n",
       "    this.canvas = canvas[0];\n",
       "    this.context = canvas[0].getContext(\"2d\");\n",
       "\n",
       "    var backingStore = this.context.backingStorePixelRatio ||\n",
       "\tthis.context.webkitBackingStorePixelRatio ||\n",
       "\tthis.context.mozBackingStorePixelRatio ||\n",
       "\tthis.context.msBackingStorePixelRatio ||\n",
       "\tthis.context.oBackingStorePixelRatio ||\n",
       "\tthis.context.backingStorePixelRatio || 1;\n",
       "\n",
       "    mpl.ratio = (window.devicePixelRatio || 1) / backingStore;\n",
       "\n",
       "    var rubberband = $('<canvas/>');\n",
       "    rubberband.attr('style', \"position: absolute; left: 0; top: 0; z-index: 1;\")\n",
       "\n",
       "    var pass_mouse_events = true;\n",
       "\n",
       "    canvas_div.resizable({\n",
       "        start: function(event, ui) {\n",
       "            pass_mouse_events = false;\n",
       "        },\n",
       "        resize: function(event, ui) {\n",
       "            fig.request_resize(ui.size.width, ui.size.height);\n",
       "        },\n",
       "        stop: function(event, ui) {\n",
       "            pass_mouse_events = true;\n",
       "            fig.request_resize(ui.size.width, ui.size.height);\n",
       "        },\n",
       "    });\n",
       "\n",
       "    function mouse_event_fn(event) {\n",
       "        if (pass_mouse_events)\n",
       "            return fig.mouse_event(event, event['data']);\n",
       "    }\n",
       "\n",
       "    rubberband.mousedown('button_press', mouse_event_fn);\n",
       "    rubberband.mouseup('button_release', mouse_event_fn);\n",
       "    // Throttle sequential mouse events to 1 every 20ms.\n",
       "    rubberband.mousemove('motion_notify', mouse_event_fn);\n",
       "\n",
       "    rubberband.mouseenter('figure_enter', mouse_event_fn);\n",
       "    rubberband.mouseleave('figure_leave', mouse_event_fn);\n",
       "\n",
       "    canvas_div.on(\"wheel\", function (event) {\n",
       "        event = event.originalEvent;\n",
       "        event['data'] = 'scroll'\n",
       "        if (event.deltaY < 0) {\n",
       "            event.step = 1;\n",
       "        } else {\n",
       "            event.step = -1;\n",
       "        }\n",
       "        mouse_event_fn(event);\n",
       "    });\n",
       "\n",
       "    canvas_div.append(canvas);\n",
       "    canvas_div.append(rubberband);\n",
       "\n",
       "    this.rubberband = rubberband;\n",
       "    this.rubberband_canvas = rubberband[0];\n",
       "    this.rubberband_context = rubberband[0].getContext(\"2d\");\n",
       "    this.rubberband_context.strokeStyle = \"#000000\";\n",
       "\n",
       "    this._resize_canvas = function(width, height) {\n",
       "        // Keep the size of the canvas, canvas container, and rubber band\n",
       "        // canvas in synch.\n",
       "        canvas_div.css('width', width)\n",
       "        canvas_div.css('height', height)\n",
       "\n",
       "        canvas.attr('width', width * mpl.ratio);\n",
       "        canvas.attr('height', height * mpl.ratio);\n",
       "        canvas.attr('style', 'width: ' + width + 'px; height: ' + height + 'px;');\n",
       "\n",
       "        rubberband.attr('width', width);\n",
       "        rubberband.attr('height', height);\n",
       "    }\n",
       "\n",
       "    // Set the figure to an initial 600x600px, this will subsequently be updated\n",
       "    // upon first draw.\n",
       "    this._resize_canvas(600, 600);\n",
       "\n",
       "    // Disable right mouse context menu.\n",
       "    $(this.rubberband_canvas).bind(\"contextmenu\",function(e){\n",
       "        return false;\n",
       "    });\n",
       "\n",
       "    function set_focus () {\n",
       "        canvas.focus();\n",
       "        canvas_div.focus();\n",
       "    }\n",
       "\n",
       "    window.setTimeout(set_focus, 100);\n",
       "}\n",
       "\n",
       "mpl.figure.prototype._init_toolbar = function() {\n",
       "    var fig = this;\n",
       "\n",
       "    var nav_element = $('<div/>')\n",
       "    nav_element.attr('style', 'width: 100%');\n",
       "    this.root.append(nav_element);\n",
       "\n",
       "    // Define a callback function for later on.\n",
       "    function toolbar_event(event) {\n",
       "        return fig.toolbar_button_onclick(event['data']);\n",
       "    }\n",
       "    function toolbar_mouse_event(event) {\n",
       "        return fig.toolbar_button_onmouseover(event['data']);\n",
       "    }\n",
       "\n",
       "    for(var toolbar_ind in mpl.toolbar_items) {\n",
       "        var name = mpl.toolbar_items[toolbar_ind][0];\n",
       "        var tooltip = mpl.toolbar_items[toolbar_ind][1];\n",
       "        var image = mpl.toolbar_items[toolbar_ind][2];\n",
       "        var method_name = mpl.toolbar_items[toolbar_ind][3];\n",
       "\n",
       "        if (!name) {\n",
       "            // put a spacer in here.\n",
       "            continue;\n",
       "        }\n",
       "        var button = $('<button/>');\n",
       "        button.addClass('ui-button ui-widget ui-state-default ui-corner-all ' +\n",
       "                        'ui-button-icon-only');\n",
       "        button.attr('role', 'button');\n",
       "        button.attr('aria-disabled', 'false');\n",
       "        button.click(method_name, toolbar_event);\n",
       "        button.mouseover(tooltip, toolbar_mouse_event);\n",
       "\n",
       "        var icon_img = $('<span/>');\n",
       "        icon_img.addClass('ui-button-icon-primary ui-icon');\n",
       "        icon_img.addClass(image);\n",
       "        icon_img.addClass('ui-corner-all');\n",
       "\n",
       "        var tooltip_span = $('<span/>');\n",
       "        tooltip_span.addClass('ui-button-text');\n",
       "        tooltip_span.html(tooltip);\n",
       "\n",
       "        button.append(icon_img);\n",
       "        button.append(tooltip_span);\n",
       "\n",
       "        nav_element.append(button);\n",
       "    }\n",
       "\n",
       "    var fmt_picker_span = $('<span/>');\n",
       "\n",
       "    var fmt_picker = $('<select/>');\n",
       "    fmt_picker.addClass('mpl-toolbar-option ui-widget ui-widget-content');\n",
       "    fmt_picker_span.append(fmt_picker);\n",
       "    nav_element.append(fmt_picker_span);\n",
       "    this.format_dropdown = fmt_picker[0];\n",
       "\n",
       "    for (var ind in mpl.extensions) {\n",
       "        var fmt = mpl.extensions[ind];\n",
       "        var option = $(\n",
       "            '<option/>', {selected: fmt === mpl.default_extension}).html(fmt);\n",
       "        fmt_picker.append(option)\n",
       "    }\n",
       "\n",
       "    // Add hover states to the ui-buttons\n",
       "    $( \".ui-button\" ).hover(\n",
       "        function() { $(this).addClass(\"ui-state-hover\");},\n",
       "        function() { $(this).removeClass(\"ui-state-hover\");}\n",
       "    );\n",
       "\n",
       "    var status_bar = $('<span class=\"mpl-message\"/>');\n",
       "    nav_element.append(status_bar);\n",
       "    this.message = status_bar[0];\n",
       "}\n",
       "\n",
       "mpl.figure.prototype.request_resize = function(x_pixels, y_pixels) {\n",
       "    // Request matplotlib to resize the figure. Matplotlib will then trigger a resize in the client,\n",
       "    // which will in turn request a refresh of the image.\n",
       "    this.send_message('resize', {'width': x_pixels, 'height': y_pixels});\n",
       "}\n",
       "\n",
       "mpl.figure.prototype.send_message = function(type, properties) {\n",
       "    properties['type'] = type;\n",
       "    properties['figure_id'] = this.id;\n",
       "    this.ws.send(JSON.stringify(properties));\n",
       "}\n",
       "\n",
       "mpl.figure.prototype.send_draw_message = function() {\n",
       "    if (!this.waiting) {\n",
       "        this.waiting = true;\n",
       "        this.ws.send(JSON.stringify({type: \"draw\", figure_id: this.id}));\n",
       "    }\n",
       "}\n",
       "\n",
       "\n",
       "mpl.figure.prototype.handle_save = function(fig, msg) {\n",
       "    var format_dropdown = fig.format_dropdown;\n",
       "    var format = format_dropdown.options[format_dropdown.selectedIndex].value;\n",
       "    fig.ondownload(fig, format);\n",
       "}\n",
       "\n",
       "\n",
       "mpl.figure.prototype.handle_resize = function(fig, msg) {\n",
       "    var size = msg['size'];\n",
       "    if (size[0] != fig.canvas.width || size[1] != fig.canvas.height) {\n",
       "        fig._resize_canvas(size[0], size[1]);\n",
       "        fig.send_message(\"refresh\", {});\n",
       "    };\n",
       "}\n",
       "\n",
       "mpl.figure.prototype.handle_rubberband = function(fig, msg) {\n",
       "    var x0 = msg['x0'] / mpl.ratio;\n",
       "    var y0 = (fig.canvas.height - msg['y0']) / mpl.ratio;\n",
       "    var x1 = msg['x1'] / mpl.ratio;\n",
       "    var y1 = (fig.canvas.height - msg['y1']) / mpl.ratio;\n",
       "    x0 = Math.floor(x0) + 0.5;\n",
       "    y0 = Math.floor(y0) + 0.5;\n",
       "    x1 = Math.floor(x1) + 0.5;\n",
       "    y1 = Math.floor(y1) + 0.5;\n",
       "    var min_x = Math.min(x0, x1);\n",
       "    var min_y = Math.min(y0, y1);\n",
       "    var width = Math.abs(x1 - x0);\n",
       "    var height = Math.abs(y1 - y0);\n",
       "\n",
       "    fig.rubberband_context.clearRect(\n",
       "        0, 0, fig.canvas.width, fig.canvas.height);\n",
       "\n",
       "    fig.rubberband_context.strokeRect(min_x, min_y, width, height);\n",
       "}\n",
       "\n",
       "mpl.figure.prototype.handle_figure_label = function(fig, msg) {\n",
       "    // Updates the figure title.\n",
       "    fig.header.textContent = msg['label'];\n",
       "}\n",
       "\n",
       "mpl.figure.prototype.handle_cursor = function(fig, msg) {\n",
       "    var cursor = msg['cursor'];\n",
       "    switch(cursor)\n",
       "    {\n",
       "    case 0:\n",
       "        cursor = 'pointer';\n",
       "        break;\n",
       "    case 1:\n",
       "        cursor = 'default';\n",
       "        break;\n",
       "    case 2:\n",
       "        cursor = 'crosshair';\n",
       "        break;\n",
       "    case 3:\n",
       "        cursor = 'move';\n",
       "        break;\n",
       "    }\n",
       "    fig.rubberband_canvas.style.cursor = cursor;\n",
       "}\n",
       "\n",
       "mpl.figure.prototype.handle_message = function(fig, msg) {\n",
       "    fig.message.textContent = msg['message'];\n",
       "}\n",
       "\n",
       "mpl.figure.prototype.handle_draw = function(fig, msg) {\n",
       "    // Request the server to send over a new figure.\n",
       "    fig.send_draw_message();\n",
       "}\n",
       "\n",
       "mpl.figure.prototype.handle_image_mode = function(fig, msg) {\n",
       "    fig.image_mode = msg['mode'];\n",
       "}\n",
       "\n",
       "mpl.figure.prototype.updated_canvas_event = function() {\n",
       "    // Called whenever the canvas gets updated.\n",
       "    this.send_message(\"ack\", {});\n",
       "}\n",
       "\n",
       "// A function to construct a web socket function for onmessage handling.\n",
       "// Called in the figure constructor.\n",
       "mpl.figure.prototype._make_on_message_function = function(fig) {\n",
       "    return function socket_on_message(evt) {\n",
       "        if (evt.data instanceof Blob) {\n",
       "            /* FIXME: We get \"Resource interpreted as Image but\n",
       "             * transferred with MIME type text/plain:\" errors on\n",
       "             * Chrome.  But how to set the MIME type?  It doesn't seem\n",
       "             * to be part of the websocket stream */\n",
       "            evt.data.type = \"image/png\";\n",
       "\n",
       "            /* Free the memory for the previous frames */\n",
       "            if (fig.imageObj.src) {\n",
       "                (window.URL || window.webkitURL).revokeObjectURL(\n",
       "                    fig.imageObj.src);\n",
       "            }\n",
       "\n",
       "            fig.imageObj.src = (window.URL || window.webkitURL).createObjectURL(\n",
       "                evt.data);\n",
       "            fig.updated_canvas_event();\n",
       "            fig.waiting = false;\n",
       "            return;\n",
       "        }\n",
       "        else if (typeof evt.data === 'string' && evt.data.slice(0, 21) == \"data:image/png;base64\") {\n",
       "            fig.imageObj.src = evt.data;\n",
       "            fig.updated_canvas_event();\n",
       "            fig.waiting = false;\n",
       "            return;\n",
       "        }\n",
       "\n",
       "        var msg = JSON.parse(evt.data);\n",
       "        var msg_type = msg['type'];\n",
       "\n",
       "        // Call the  \"handle_{type}\" callback, which takes\n",
       "        // the figure and JSON message as its only arguments.\n",
       "        try {\n",
       "            var callback = fig[\"handle_\" + msg_type];\n",
       "        } catch (e) {\n",
       "            console.log(\"No handler for the '\" + msg_type + \"' message type: \", msg);\n",
       "            return;\n",
       "        }\n",
       "\n",
       "        if (callback) {\n",
       "            try {\n",
       "                // console.log(\"Handling '\" + msg_type + \"' message: \", msg);\n",
       "                callback(fig, msg);\n",
       "            } catch (e) {\n",
       "                console.log(\"Exception inside the 'handler_\" + msg_type + \"' callback:\", e, e.stack, msg);\n",
       "            }\n",
       "        }\n",
       "    };\n",
       "}\n",
       "\n",
       "// from http://stackoverflow.com/questions/1114465/getting-mouse-location-in-canvas\n",
       "mpl.findpos = function(e) {\n",
       "    //this section is from http://www.quirksmode.org/js/events_properties.html\n",
       "    var targ;\n",
       "    if (!e)\n",
       "        e = window.event;\n",
       "    if (e.target)\n",
       "        targ = e.target;\n",
       "    else if (e.srcElement)\n",
       "        targ = e.srcElement;\n",
       "    if (targ.nodeType == 3) // defeat Safari bug\n",
       "        targ = targ.parentNode;\n",
       "\n",
       "    // jQuery normalizes the pageX and pageY\n",
       "    // pageX,Y are the mouse positions relative to the document\n",
       "    // offset() returns the position of the element relative to the document\n",
       "    var x = e.pageX - $(targ).offset().left;\n",
       "    var y = e.pageY - $(targ).offset().top;\n",
       "\n",
       "    return {\"x\": x, \"y\": y};\n",
       "};\n",
       "\n",
       "/*\n",
       " * return a copy of an object with only non-object keys\n",
       " * we need this to avoid circular references\n",
       " * http://stackoverflow.com/a/24161582/3208463\n",
       " */\n",
       "function simpleKeys (original) {\n",
       "  return Object.keys(original).reduce(function (obj, key) {\n",
       "    if (typeof original[key] !== 'object')\n",
       "        obj[key] = original[key]\n",
       "    return obj;\n",
       "  }, {});\n",
       "}\n",
       "\n",
       "mpl.figure.prototype.mouse_event = function(event, name) {\n",
       "    var canvas_pos = mpl.findpos(event)\n",
       "\n",
       "    if (name === 'button_press')\n",
       "    {\n",
       "        this.canvas.focus();\n",
       "        this.canvas_div.focus();\n",
       "    }\n",
       "\n",
       "    var x = canvas_pos.x * mpl.ratio;\n",
       "    var y = canvas_pos.y * mpl.ratio;\n",
       "\n",
       "    this.send_message(name, {x: x, y: y, button: event.button,\n",
       "                             step: event.step,\n",
       "                             guiEvent: simpleKeys(event)});\n",
       "\n",
       "    /* This prevents the web browser from automatically changing to\n",
       "     * the text insertion cursor when the button is pressed.  We want\n",
       "     * to control all of the cursor setting manually through the\n",
       "     * 'cursor' event from matplotlib */\n",
       "    event.preventDefault();\n",
       "    return false;\n",
       "}\n",
       "\n",
       "mpl.figure.prototype._key_event_extra = function(event, name) {\n",
       "    // Handle any extra behaviour associated with a key event\n",
       "}\n",
       "\n",
       "mpl.figure.prototype.key_event = function(event, name) {\n",
       "\n",
       "    // Prevent repeat events\n",
       "    if (name == 'key_press')\n",
       "    {\n",
       "        if (event.which === this._key)\n",
       "            return;\n",
       "        else\n",
       "            this._key = event.which;\n",
       "    }\n",
       "    if (name == 'key_release')\n",
       "        this._key = null;\n",
       "\n",
       "    var value = '';\n",
       "    if (event.ctrlKey && event.which != 17)\n",
       "        value += \"ctrl+\";\n",
       "    if (event.altKey && event.which != 18)\n",
       "        value += \"alt+\";\n",
       "    if (event.shiftKey && event.which != 16)\n",
       "        value += \"shift+\";\n",
       "\n",
       "    value += 'k';\n",
       "    value += event.which.toString();\n",
       "\n",
       "    this._key_event_extra(event, name);\n",
       "\n",
       "    this.send_message(name, {key: value,\n",
       "                             guiEvent: simpleKeys(event)});\n",
       "    return false;\n",
       "}\n",
       "\n",
       "mpl.figure.prototype.toolbar_button_onclick = function(name) {\n",
       "    if (name == 'download') {\n",
       "        this.handle_save(this, null);\n",
       "    } else {\n",
       "        this.send_message(\"toolbar_button\", {name: name});\n",
       "    }\n",
       "};\n",
       "\n",
       "mpl.figure.prototype.toolbar_button_onmouseover = function(tooltip) {\n",
       "    this.message.textContent = tooltip;\n",
       "};\n",
       "mpl.toolbar_items = [[\"Home\", \"Reset original view\", \"fa fa-home icon-home\", \"home\"], [\"Back\", \"Back to  previous view\", \"fa fa-arrow-left icon-arrow-left\", \"back\"], [\"Forward\", \"Forward to next view\", \"fa fa-arrow-right icon-arrow-right\", \"forward\"], [\"\", \"\", \"\", \"\"], [\"Pan\", \"Pan axes with left mouse, zoom with right\", \"fa fa-arrows icon-move\", \"pan\"], [\"Zoom\", \"Zoom to rectangle\", \"fa fa-square-o icon-check-empty\", \"zoom\"], [\"\", \"\", \"\", \"\"], [\"Download\", \"Download plot\", \"fa fa-floppy-o icon-save\", \"download\"]];\n",
       "\n",
       "mpl.extensions = [\"eps\", \"pdf\", \"png\", \"ps\", \"raw\", \"svg\"];\n",
       "\n",
       "mpl.default_extension = \"png\";var comm_websocket_adapter = function(comm) {\n",
       "    // Create a \"websocket\"-like object which calls the given IPython comm\n",
       "    // object with the appropriate methods. Currently this is a non binary\n",
       "    // socket, so there is still some room for performance tuning.\n",
       "    var ws = {};\n",
       "\n",
       "    ws.close = function() {\n",
       "        comm.close()\n",
       "    };\n",
       "    ws.send = function(m) {\n",
       "        //console.log('sending', m);\n",
       "        comm.send(m);\n",
       "    };\n",
       "    // Register the callback with on_msg.\n",
       "    comm.on_msg(function(msg) {\n",
       "        //console.log('receiving', msg['content']['data'], msg);\n",
       "        // Pass the mpl event to the overriden (by mpl) onmessage function.\n",
       "        ws.onmessage(msg['content']['data'])\n",
       "    });\n",
       "    return ws;\n",
       "}\n",
       "\n",
       "mpl.mpl_figure_comm = function(comm, msg) {\n",
       "    // This is the function which gets called when the mpl process\n",
       "    // starts-up an IPython Comm through the \"matplotlib\" channel.\n",
       "\n",
       "    var id = msg.content.data.id;\n",
       "    // Get hold of the div created by the display call when the Comm\n",
       "    // socket was opened in Python.\n",
       "    var element = $(\"#\" + id);\n",
       "    var ws_proxy = comm_websocket_adapter(comm)\n",
       "\n",
       "    function ondownload(figure, format) {\n",
       "        window.open(figure.imageObj.src);\n",
       "    }\n",
       "\n",
       "    var fig = new mpl.figure(id, ws_proxy,\n",
       "                           ondownload,\n",
       "                           element.get(0));\n",
       "\n",
       "    // Call onopen now - mpl needs it, as it is assuming we've passed it a real\n",
       "    // web socket which is closed, not our websocket->open comm proxy.\n",
       "    ws_proxy.onopen();\n",
       "\n",
       "    fig.parent_element = element.get(0);\n",
       "    fig.cell_info = mpl.find_output_cell(\"<div id='\" + id + \"'></div>\");\n",
       "    if (!fig.cell_info) {\n",
       "        console.error(\"Failed to find cell for figure\", id, fig);\n",
       "        return;\n",
       "    }\n",
       "\n",
       "    var output_index = fig.cell_info[2]\n",
       "    var cell = fig.cell_info[0];\n",
       "\n",
       "};\n",
       "\n",
       "mpl.figure.prototype.handle_close = function(fig, msg) {\n",
       "    var width = fig.canvas.width/mpl.ratio\n",
       "    fig.root.unbind('remove')\n",
       "\n",
       "    // Update the output cell to use the data from the current canvas.\n",
       "    fig.push_to_output();\n",
       "    var dataURL = fig.canvas.toDataURL();\n",
       "    // Re-enable the keyboard manager in IPython - without this line, in FF,\n",
       "    // the notebook keyboard shortcuts fail.\n",
       "    IPython.keyboard_manager.enable()\n",
       "    $(fig.parent_element).html('<img src=\"' + dataURL + '\" width=\"' + width + '\">');\n",
       "    fig.close_ws(fig, msg);\n",
       "}\n",
       "\n",
       "mpl.figure.prototype.close_ws = function(fig, msg){\n",
       "    fig.send_message('closing', msg);\n",
       "    // fig.ws.close()\n",
       "}\n",
       "\n",
       "mpl.figure.prototype.push_to_output = function(remove_interactive) {\n",
       "    // Turn the data on the canvas into data in the output cell.\n",
       "    var width = this.canvas.width/mpl.ratio\n",
       "    var dataURL = this.canvas.toDataURL();\n",
       "    this.cell_info[1]['text/html'] = '<img src=\"' + dataURL + '\" width=\"' + width + '\">';\n",
       "}\n",
       "\n",
       "mpl.figure.prototype.updated_canvas_event = function() {\n",
       "    // Tell IPython that the notebook contents must change.\n",
       "    IPython.notebook.set_dirty(true);\n",
       "    this.send_message(\"ack\", {});\n",
       "    var fig = this;\n",
       "    // Wait a second, then push the new image to the DOM so\n",
       "    // that it is saved nicely (might be nice to debounce this).\n",
       "    setTimeout(function () { fig.push_to_output() }, 1000);\n",
       "}\n",
       "\n",
       "mpl.figure.prototype._init_toolbar = function() {\n",
       "    var fig = this;\n",
       "\n",
       "    var nav_element = $('<div/>')\n",
       "    nav_element.attr('style', 'width: 100%');\n",
       "    this.root.append(nav_element);\n",
       "\n",
       "    // Define a callback function for later on.\n",
       "    function toolbar_event(event) {\n",
       "        return fig.toolbar_button_onclick(event['data']);\n",
       "    }\n",
       "    function toolbar_mouse_event(event) {\n",
       "        return fig.toolbar_button_onmouseover(event['data']);\n",
       "    }\n",
       "\n",
       "    for(var toolbar_ind in mpl.toolbar_items){\n",
       "        var name = mpl.toolbar_items[toolbar_ind][0];\n",
       "        var tooltip = mpl.toolbar_items[toolbar_ind][1];\n",
       "        var image = mpl.toolbar_items[toolbar_ind][2];\n",
       "        var method_name = mpl.toolbar_items[toolbar_ind][3];\n",
       "\n",
       "        if (!name) { continue; };\n",
       "\n",
       "        var button = $('<button class=\"btn btn-default\" href=\"#\" title=\"' + name + '\"><i class=\"fa ' + image + ' fa-lg\"></i></button>');\n",
       "        button.click(method_name, toolbar_event);\n",
       "        button.mouseover(tooltip, toolbar_mouse_event);\n",
       "        nav_element.append(button);\n",
       "    }\n",
       "\n",
       "    // Add the status bar.\n",
       "    var status_bar = $('<span class=\"mpl-message\" style=\"text-align:right; float: right;\"/>');\n",
       "    nav_element.append(status_bar);\n",
       "    this.message = status_bar[0];\n",
       "\n",
       "    // Add the close button to the window.\n",
       "    var buttongrp = $('<div class=\"btn-group inline pull-right\"></div>');\n",
       "    var button = $('<button class=\"btn btn-mini btn-primary\" href=\"#\" title=\"Stop Interaction\"><i class=\"fa fa-power-off icon-remove icon-large\"></i></button>');\n",
       "    button.click(function (evt) { fig.handle_close(fig, {}); } );\n",
       "    button.mouseover('Stop Interaction', toolbar_mouse_event);\n",
       "    buttongrp.append(button);\n",
       "    var titlebar = this.root.find($('.ui-dialog-titlebar'));\n",
       "    titlebar.prepend(buttongrp);\n",
       "}\n",
       "\n",
       "mpl.figure.prototype._root_extra_style = function(el){\n",
       "    var fig = this\n",
       "    el.on(\"remove\", function(){\n",
       "\tfig.close_ws(fig, {});\n",
       "    });\n",
       "}\n",
       "\n",
       "mpl.figure.prototype._canvas_extra_style = function(el){\n",
       "    // this is important to make the div 'focusable\n",
       "    el.attr('tabindex', 0)\n",
       "    // reach out to IPython and tell the keyboard manager to turn it's self\n",
       "    // off when our div gets focus\n",
       "\n",
       "    // location in version 3\n",
       "    if (IPython.notebook.keyboard_manager) {\n",
       "        IPython.notebook.keyboard_manager.register_events(el);\n",
       "    }\n",
       "    else {\n",
       "        // location in version 2\n",
       "        IPython.keyboard_manager.register_events(el);\n",
       "    }\n",
       "\n",
       "}\n",
       "\n",
       "mpl.figure.prototype._key_event_extra = function(event, name) {\n",
       "    var manager = IPython.notebook.keyboard_manager;\n",
       "    if (!manager)\n",
       "        manager = IPython.keyboard_manager;\n",
       "\n",
       "    // Check for shift+enter\n",
       "    if (event.shiftKey && event.which == 13) {\n",
       "        this.canvas_div.blur();\n",
       "        // select the cell after this one\n",
       "        var index = IPython.notebook.find_cell_index(this.cell_info[0]);\n",
       "        IPython.notebook.select(index + 1);\n",
       "    }\n",
       "}\n",
       "\n",
       "mpl.figure.prototype.handle_save = function(fig, msg) {\n",
       "    fig.ondownload(fig, null);\n",
       "}\n",
       "\n",
       "\n",
       "mpl.find_output_cell = function(html_output) {\n",
       "    // Return the cell and output element which can be found *uniquely* in the notebook.\n",
       "    // Note - this is a bit hacky, but it is done because the \"notebook_saving.Notebook\"\n",
       "    // IPython event is triggered only after the cells have been serialised, which for\n",
       "    // our purposes (turning an active figure into a static one), is too late.\n",
       "    var cells = IPython.notebook.get_cells();\n",
       "    var ncells = cells.length;\n",
       "    for (var i=0; i<ncells; i++) {\n",
       "        var cell = cells[i];\n",
       "        if (cell.cell_type === 'code'){\n",
       "            for (var j=0; j<cell.output_area.outputs.length; j++) {\n",
       "                var data = cell.output_area.outputs[j];\n",
       "                if (data.data) {\n",
       "                    // IPython >= 3 moved mimebundle to data attribute of output\n",
       "                    data = data.data;\n",
       "                }\n",
       "                if (data['text/html'] == html_output) {\n",
       "                    return [cell, data, j];\n",
       "                }\n",
       "            }\n",
       "        }\n",
       "    }\n",
       "}\n",
       "\n",
       "// Register the function which deals with the matplotlib target/channel.\n",
       "// The kernel may be null if the page has been refreshed.\n",
       "if (IPython.notebook.kernel != null) {\n",
       "    IPython.notebook.kernel.comm_manager.register_target('matplotlib', mpl.mpl_figure_comm);\n",
       "}\n"
      ],
      "text/plain": [
       "<IPython.core.display.Javascript object>"
      ]
     },
     "metadata": {},
     "output_type": "display_data"
    },
    {
     "data": {
      "text/html": [
       "<img src=\"data:image/png;base64,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\" width=\"640\">"
      ],
      "text/plain": [
       "<IPython.core.display.HTML object>"
      ]
     },
     "metadata": {},
     "output_type": "display_data"
    }
   ],
   "source": [
    "plt.title(\"Degree Distribution\")\n",
    "plt.ylabel(\"count\")\n",
    "plt.xlabel(\"degree\")\n",
    "infig, = plt.loglog(degree, count, 'b-', marker='o')"
   ]
  },
  {
   "cell_type": "code",
   "execution_count": 13,
   "metadata": {
    "collapsed": false,
    "deletable": true,
    "editable": true
   },
   "outputs": [
    {
     "data": {
      "text/plain": [
       "[12, 0, 15, 0, 13]"
      ]
     },
     "execution_count": 13,
     "metadata": {},
     "output_type": "execute_result"
    }
   ],
   "source": [
    "g.vs['outdegree'][:5]"
   ]
  },
  {
   "cell_type": "code",
   "execution_count": 14,
   "metadata": {
    "collapsed": false,
    "deletable": true,
    "editable": true
   },
   "outputs": [
    {
     "data": {
      "text/plain": [
       "[1, 12, 0, 7, 0]"
      ]
     },
     "execution_count": 14,
     "metadata": {},
     "output_type": "execute_result"
    }
   ],
   "source": [
    "g.vs['indegree'][:5]"
   ]
  },
  {
   "cell_type": "markdown",
   "metadata": {
    "deletable": true,
    "editable": true
   },
   "source": [
    "Which vertices have a degree of more than some majority percentage of the maxdegree?"
   ]
  },
  {
   "cell_type": "code",
   "execution_count": 15,
   "metadata": {
    "collapsed": false,
    "deletable": true,
    "editable": true
   },
   "outputs": [
    {
     "data": {
      "text/plain": [
       "13"
      ]
     },
     "execution_count": 15,
     "metadata": {},
     "output_type": "execute_result"
    }
   ],
   "source": [
    "g.maxdegree(mode='IN')"
   ]
  },
  {
   "cell_type": "code",
   "execution_count": 16,
   "metadata": {
    "collapsed": false,
    "deletable": true,
    "editable": true
   },
   "outputs": [
    {
     "data": {
      "text/plain": [
       "15"
      ]
     },
     "execution_count": 16,
     "metadata": {},
     "output_type": "execute_result"
    }
   ],
   "source": [
    "g.maxdegree(mode='OUT')"
   ]
  },
  {
   "cell_type": "code",
   "execution_count": 17,
   "metadata": {
    "collapsed": true,
    "deletable": true,
    "editable": true
   },
   "outputs": [],
   "source": [
    "score = g.maxdegree() * .80"
   ]
  },
  {
   "cell_type": "markdown",
   "metadata": {
    "deletable": true,
    "editable": true
   },
   "source": [
    "### These functions call the highest number of others and could potentially be split:"
   ]
  },
  {
   "cell_type": "code",
   "execution_count": 18,
   "metadata": {
    "collapsed": false,
    "deletable": true,
    "editable": true
   },
   "outputs": [
    {
     "data": {
      "text/plain": [
       "['topology.dependencies/dependencies',\n",
       " 'topology.edgelist-test/syntax-quotes-add-seq-concat-list',\n",
       " 'topology.dependencies-test/should-compute-fn-calls-in-namespace',\n",
       " 'leiningen.topology/topology',\n",
       " 'topology.symbols/seq-map-zip',\n",
       " 'topology.dependencies/sources',\n",
       " 'topology.qualifier/fq-ns']"
      ]
     },
     "execution_count": 18,
     "metadata": {},
     "output_type": "execute_result"
    }
   ],
   "source": [
    "[v['name'] for v in g.vs.select(lambda vertex: vertex['outdegree'] >= 10)]"
   ]
  },
  {
   "cell_type": "markdown",
   "metadata": {
    "deletable": true,
    "editable": true
   },
   "source": [
    "### Changing these functions will have the most impact on other parts of the system:"
   ]
  },
  {
   "cell_type": "code",
   "execution_count": 19,
   "metadata": {
    "collapsed": false,
    "deletable": true,
    "editable": true
   },
   "outputs": [
    {
     "data": {
      "text/plain": [
       "['clojure.core/defn-',\n",
       " 'clojure.core/filter',\n",
       " 'clojure.core/defn',\n",
       " 'clojure.core/seq',\n",
       " 'clojure.core/fn',\n",
       " 'clojure.core/meta',\n",
       " 'clojure.core/=',\n",
       " 'clojure.test/is',\n",
       " 'clojure.core/symbol',\n",
       " 'clojure.test/deftest',\n",
       " 'clojure.core/->>',\n",
       " 'clojure.core/range',\n",
       " 'clojure.core/map',\n",
       " 'clojure.core/list']"
      ]
     },
     "execution_count": 19,
     "metadata": {},
     "output_type": "execute_result"
    }
   ],
   "source": [
    "[v['name'] for v in g.vs.select(lambda vertex: vertex['indegree'] >= 4)]"
   ]
  },
  {
   "cell_type": "markdown",
   "metadata": {
    "deletable": true,
    "editable": true
   },
   "source": [
    "In this case, `clojure.core` and `clojure.test` namespaces have the most dependencies...unsurprising, given these are the foundational libraries of the language! These are good candidates to filter out of a visualization, since they often don't add deep insight to the aspects of the design specific to the program."
   ]
  },
  {
   "cell_type": "markdown",
   "metadata": {
    "deletable": true,
    "editable": true
   },
   "source": [
    "## Extract the subgraph of local namespaces based on our filter criteria\n",
    "\n",
    "There are some analyses where it will be useful to see all the vertices. For the high-level architecture diagram, we can focus on the functions local to the library's namespaces. We'll also keep functions that have side-effects to see if these are isolated to only a few key parts of the program:"
   ]
  },
  {
   "cell_type": "code",
   "execution_count": 27,
   "metadata": {
    "collapsed": false,
    "deletable": true,
    "editable": true
   },
   "outputs": [
    {
     "data": {
      "text/plain": [
       "'IGRAPH DNW- 35 35 -- \\n+ attr: group (v), indegree (v), label (v), name (v), namespace (v), outdegree (v), weight (e)'"
      ]
     },
     "execution_count": 27,
     "metadata": {},
     "output_type": "execute_result"
    }
   ],
   "source": [
    "# List all patterns of vertex names that we want to keep:\n",
    "names_to_keep = ('topology', 'clojure.core/*err*', 'clojure.core/println', \n",
    "                 'clojure.zip', 'clojure.java.io', 'clojure.tools.namespace',\n",
    "                 'leiningen.core.eval', 'clojure.repl')\n",
    "\n",
    "lv = g.vs(lambda v: any(match in v['label'] for match in names_to_keep))\n",
    "lg = g.subgraph(lv)\n",
    "\n",
    "# Recompute degree after building the local subgraph (lg):\n",
    "lg.vs['indegree'] = lg.degree(mode=\"in\")\n",
    "lg.vs['outdegree'] = lg.degree(mode=\"out\")\n",
    "\n",
    "lg.summary()"
   ]
  },
  {
   "cell_type": "markdown",
   "metadata": {
    "deletable": true,
    "editable": true
   },
   "source": [
    "# Visualizing the network in Cytoscape\n",
    "\n",
    "## Verify that Cytoscape is running and get the current version"
   ]
  },
  {
   "cell_type": "code",
   "execution_count": 28,
   "metadata": {
    "collapsed": false,
    "deletable": true,
    "editable": true
   },
   "outputs": [
    {
     "name": "stdout",
     "output_type": "stream",
     "text": [
      "{\n",
      "  \"apiVersion\": \"v1\",\n",
      "  \"cytoscapeVersion\": \"3.5.1\"\n",
      "}\n"
     ]
    }
   ],
   "source": [
    "app.print_version()"
   ]
  },
  {
   "cell_type": "markdown",
   "metadata": {
    "deletable": true,
    "editable": true
   },
   "source": [
    " ## Load the network into Cytoscape with a default layout"
   ]
  },
  {
   "cell_type": "code",
   "execution_count": 29,
   "metadata": {
    "collapsed": false,
    "deletable": true,
    "editable": true
   },
   "outputs": [],
   "source": [
    "# Create py2cytoscape client\n",
    "cy = CyRestClient()"
   ]
  },
  {
   "cell_type": "code",
   "execution_count": 30,
   "metadata": {
    "collapsed": true,
    "deletable": true,
    "editable": true
   },
   "outputs": [],
   "source": [
    "# Optional: delete existing Cytoscape sessions.\n",
    "cy.session.delete()"
   ]
  },
  {
   "cell_type": "code",
   "execution_count": 31,
   "metadata": {
    "collapsed": false,
    "deletable": true,
    "editable": true
   },
   "outputs": [],
   "source": [
    "# Load the network\n",
    "network = cy.network.create_from_igraph(lg, name=network_name, collection=network_collection)"
   ]
  },
  {
   "cell_type": "markdown",
   "metadata": {
    "deletable": true,
    "editable": true
   },
   "source": [
    "## Layout"
   ]
  },
  {
   "cell_type": "code",
   "execution_count": 32,
   "metadata": {
    "collapsed": true,
    "deletable": true,
    "editable": true
   },
   "outputs": [],
   "source": [
    "# Apply default layout\n",
    "cy.layout.apply(name='force-directed', network=network)"
   ]
  },
  {
   "cell_type": "markdown",
   "metadata": {
    "deletable": true,
    "editable": true
   },
   "source": [
    "## Customize the style\n",
    "\n",
    "Use one of the included themes, or build your own."
   ]
  },
  {
   "cell_type": "code",
   "execution_count": 34,
   "metadata": {
    "collapsed": false,
    "deletable": true,
    "editable": true
   },
   "outputs": [],
   "source": [
    "style = cy.style.create('Ops')\n",
    "style.update_defaults(ops.settings)\n",
    "\n",
    "# Map the label property in the igraph data to Cytoscape's NODE_LABEL visual property\n",
    "style.create_passthrough_mapping(column='label', vp='NODE_LABEL', col_type='String')"
   ]
  },
  {
   "cell_type": "markdown",
   "metadata": {
    "deletable": true,
    "editable": true
   },
   "source": [
    "### Color vertices by namespace:"
   ]
  },
  {
   "cell_type": "code",
   "execution_count": 38,
   "metadata": {
    "collapsed": true,
    "deletable": true,
    "editable": true
   },
   "outputs": [],
   "source": [
    "border_colors = {\n",
    "  'topology.finder': colors.BRIGHT_YELLOW,\n",
    "  'topology.dependencies': colors.BRIGHT_ORANGE,\n",
    "  'topology.dependencies-test': colors.BRIGHT_ORANGE,\n",
    "  'topology.qualifier': colors.BRIGHT_PURPLE,\n",
    "  'topology.symbols': colors.BRIGHT_BLUE,\n",
    "  'clojure.core': colors.BRIGHT_RED,\n",
    "  'clojure.java.io': colors.BRIGHT_RED,\n",
    "  'topology.printer': colors.BRIGHT_RED,\n",
    "  'leiningen.topology': colors.BRIGHT_WHITE,\n",
    "}\n",
    "\n",
    "fill_colors = {\n",
    "  'topology.finder': colors.DARK_YELLOW,\n",
    "  'topology.dependencies': colors.DARK_ORANGE,\n",
    "  'topology.dependencies-test': colors.DARK_ORANGE,\n",
    "  'topology.qualifier': colors.DARK_PURPLE,\n",
    "  'topology.symbols': colors.DARK_BLUE,\n",
    "  'clojure.core': colors.DARK_RED,\n",
    "  'clojure.java.io': colors.DARK_RED,\n",
    "  'topology.printer': colors.DARK_RED,\n",
    "  'leiningen.topology': colors.DARK_WHITE,\n",
    "}\n",
    "\n",
    "style.create_discrete_mapping(column='namespace', col_type='String', vp='NODE_FILL_COLOR', mappings=fill_colors)\n",
    "style.create_discrete_mapping(column='namespace', col_type='String', vp='NODE_BORDER_PAINT', mappings=border_colors)"
   ]
  },
  {
   "cell_type": "code",
   "execution_count": 39,
   "metadata": {
    "collapsed": true,
    "deletable": true,
    "editable": true
   },
   "outputs": [],
   "source": [
    "cy.style.apply(style, network)"
   ]
  },
  {
   "cell_type": "markdown",
   "metadata": {},
   "source": [
    "## Load layout coordinates from a previous session"
   ]
  },
  {
   "cell_type": "code",
   "execution_count": 37,
   "metadata": {
    "collapsed": false,
    "deletable": true,
    "editable": true
   },
   "outputs": [],
   "source": [
    "positions_file = data_path + \"-positions.csv\"\n",
    "scp.layout_from_positions_csv(network, positions_file, cy)"
   ]
  },
  {
   "cell_type": "markdown",
   "metadata": {
    "deletable": true,
    "editable": true
   },
   "source": [
    "## Save the updated layout coordinates if you make changes\n",
    "\n",
    "A benefit of this workflow is the ability to manually tweak the algorithmic network layout in Cytoscape.\n",
    "\n",
    "After making changes, save the coordinates for a later session:"
   ]
  },
  {
   "cell_type": "code",
   "execution_count": 40,
   "metadata": {
    "collapsed": true,
    "deletable": true,
    "editable": true
   },
   "outputs": [],
   "source": [
    "scp.positions_to_csv(network=network, path=positions_file)"
   ]
  },
  {
   "cell_type": "markdown",
   "metadata": {
    "deletable": true,
    "editable": true
   },
   "source": [
    "## Generate an SVG export\n",
    "\n",
    "Position the network in Cytoscape the way you want it, then trigger this export.\n",
    "When iterating, run all cells above, then all cells below this point to avoid race conditions with cytoscape's renderer."
   ]
  },
  {
   "cell_type": "code",
   "execution_count": 41,
   "metadata": {
    "collapsed": false,
    "deletable": true,
    "editable": true
   },
   "outputs": [
    {
     "data": {
      "text/plain": [
       "True"
      ]
     },
     "execution_count": 41,
     "metadata": {},
     "output_type": "execute_result"
    }
   ],
   "source": [
    "# Hide all panels in the UI\n",
    "app.hide_panels()"
   ]
  },
  {
   "cell_type": "code",
   "execution_count": 42,
   "metadata": {
    "collapsed": true,
    "deletable": true,
    "editable": true
   },
   "outputs": [],
   "source": [
    "# Fit to the window:\n",
    "cy.layout.fit(network=network)"
   ]
  },
  {
   "cell_type": "code",
   "execution_count": 43,
   "metadata": {
    "collapsed": true,
    "deletable": true,
    "editable": true
   },
   "outputs": [],
   "source": [
    "view_id = network.get_views()[0]\n",
    "view = network.get_view(view_id=view_id, format='view')"
   ]
  },
  {
   "cell_type": "code",
   "execution_count": 44,
   "metadata": {
    "collapsed": true,
    "deletable": true,
    "editable": true
   },
   "outputs": [],
   "source": [
    "# Zoom out slightly:\n",
    "view.update_network_view('NETWORK_SCALE_FACTOR', 0.65)"
   ]
  },
  {
   "cell_type": "code",
   "execution_count": 48,
   "metadata": {
    "collapsed": true,
    "deletable": true,
    "editable": true
   },
   "outputs": [],
   "source": [
    "# Shift the network to the left:\n",
    "view.update_network_view('NETWORK_CENTER_X_LOCATION', 150.0)"
   ]
  },
  {
   "cell_type": "code",
   "execution_count": 49,
   "metadata": {
    "collapsed": false,
    "deletable": true,
    "editable": true
   },
   "outputs": [
    {
     "data": {
      "image/svg+xml": [
       "<svg baseProfile=\"full\" height=\"745px\" version=\"1.1\" viewBox=\"0 0 1441 745\" width=\"1441px\" x=\"0px\" xmlns=\"http://www.w3.org/2000/svg\" xmlns:ev=\"http://www.w3.org/2001/xml-events\" xmlns:xlink=\"http://www.w3.org/1999/xlink\" y=\"0px\">\n",
       "<title/>\n",
       "<desc>Creator: FreeHEP Graphics2D Driver Producer: org.freehep.graphicsio.svg.SVGGraphics2D Revision Source:  Date: Friday, October 27, 2017 9:21:58 AM CDT</desc>\n",
       "<g stroke-dasharray=\"none\" stroke-dashoffset=\"0\" stroke-linecap=\"square\" stroke-linejoin=\"miter\" stroke-miterlimit=\"10\" stroke-width=\"1\">\n",
       "<g fill=\"#3d3e3f\" fill-opacity=\"1\" fill-rule=\"nonzero\" stroke=\"none\">\n",
       "  <path d=\"M 0 0 L 1441 0 L 1441 745 L 0 745 L 0 0 z\"/>\n",
       "</g> <!-- drawing style -->\n",
       "<g transform=\"matrix(0.65, 0, 0, 0.65, 623, 176.16282348632816)\">\n",
       "<g fill=\"none\" stroke=\"#cccccc\" stroke-linecap=\"round\" stroke-linejoin=\"round\" stroke-opacity=\"1\" stroke-width=\"2.5\">\n",
       "  <path d=\"M -450.1114807128906 38.47267150878906 L -168.38401027466955 -19.276423914797913\"/>\n",
       "</g> <!-- drawing style -->\n",
       "</g> <!-- transform -->\n",
       "<g transform=\"matrix(-1.5919001484691013, 0.3263110744428579, -0.3263110744428579, -1.5919001484691013, 330.42753753662106, 201.17005996704106)\">\n",
       "<g fill=\"#cccccc\" fill-opacity=\"1\" fill-rule=\"nonzero\" stroke=\"none\">\n",
       "  <path d=\"M -0.00000000000000009185 0.5 C 0.27614237491539656 0.5 0.49999999999999994 0.2761423749153968 0.5 0.00000000000000012246 C 0.5000000000000001 -0.27614237491539656 0.27614237491539684 -0.4999999999999999 0.00000000000000015308 -0.5 z\"/>\n",
       "</g> <!-- drawing style -->\n",
       "</g> <!-- transform -->\n",
       "<g transform=\"matrix(5.412460504794945, -1.1094576531057168, 1.1094576531057168, 5.412460504794945, 524.3753143310547, 161.41423263549808)\">\n",
       "<g fill=\"#cccccc\" fill-opacity=\"1\" fill-rule=\"nonzero\" stroke=\"none\">\n",
       "  <path d=\"M -2 -0.5 L 0 0 L -2 0.5 z\"/>\n",
       "</g> <!-- drawing style -->\n",
       "</g> <!-- transform -->\n",
       "<g transform=\"matrix(0.65, 0, 0, 0.65, 623, 176.16282348632816)\">\n",
       "<g fill=\"none\" stroke=\"#cccccc\" stroke-linecap=\"round\" stroke-linejoin=\"round\" stroke-opacity=\"1\" stroke-width=\"2.5\">\n",
       "  <path d=\"M -45.63201904296875 135.79029846191406 L -124.62759538003746 0.2852644979152217\"/>\n",
       "</g> <!-- drawing style -->\n",
       "</g> <!-- transform -->\n",
       "<g transform=\"matrix(0.8184114141195231, 1.403861730099828, -1.403861730099828, 0.8184114141195231, 593.3391876220703, 264.4265174865723)\">\n",
       "<g fill=\"#cccccc\" fill-opacity=\"1\" fill-rule=\"nonzero\" stroke=\"none\">\n",
       "  <path d=\"M -0.00000000000000009185 0.5 C 0.27614237491539656 0.5 0.49999999999999994 0.2761423749153968 0.5 0.00000000000000012246 C 0.5000000000000001 -0.27614237491539656 0.27614237491539684 -0.4999999999999999 0.00000000000000015308 -0.5 z\"/>\n",
       "</g> <!-- drawing style -->\n",
       "</g> <!-- transform -->\n",
       "<g transform=\"matrix(-2.7825988080063784, -4.773129882339415, 4.773129882339415, -2.7825988080063784, 536.4268653869628, 166.80198564529422)\">\n",
       "<g fill=\"#cccccc\" fill-opacity=\"1\" fill-rule=\"nonzero\" stroke=\"none\">\n",
       "  <path d=\"M -2 -0.5 L 0 0 L -2 0.5 z\"/>\n",
       "</g> <!-- drawing style -->\n",
       "</g> <!-- transform -->\n",
       "<g transform=\"matrix(0.65, 0, 0, 0.65, 623, 176.16282348632816)\">\n",
       "<g fill=\"none\" stroke=\"#cccccc\" stroke-linecap=\"round\" stroke-linejoin=\"round\" stroke-opacity=\"1\" stroke-width=\"2.5\">\n",
       "  <path d=\"M -28.272939682006836 273.1868896484375 L 255.73217058645034 267.94759401718534\"/>\n",
       "</g> <!-- drawing style -->\n",
       "</g> <!-- transform -->\n",
       "<g transform=\"matrix(-1.6247235567208542, 0.02997272487341395, -0.02997272487341395, -1.6247235567208542, 604.6225892066956, 353.73430175781255)\">\n",
       "<g fill=\"#cccccc\" fill-opacity=\"1\" fill-rule=\"nonzero\" stroke=\"none\">\n",
       "  <path d=\"M -0.00000000000000009185 0.5 C 0.27614237491539656 0.5 0.49999999999999994 0.2761423749153968 0.5 0.00000000000000012246 C 0.5000000000000001 -0.27614237491539656 0.27614237491539684 -0.4999999999999999 0.00000000000000015308 -0.5 z\"/>\n",
       "</g> <!-- drawing style -->\n",
       "</g> <!-- transform -->\n",
       "<g transform=\"matrix(5.524060092850904, -0.10190726456960744, 0.10190726456960744, 5.524060092850904, 800.2740310668945, 350.1249450683594)\">\n",
       "<g fill=\"#cccccc\" fill-opacity=\"1\" fill-rule=\"nonzero\" stroke=\"none\">\n",
       "  <path d=\"M -2 -0.5 L 0 0 L -2 0.5 z\"/>\n",
       "</g> <!-- drawing style -->\n",
       "</g> <!-- transform -->\n",
       "<g transform=\"matrix(0.65, 0, 0, 0.65, 623, 176.16282348632816)\">\n",
       "<g fill=\"none\" stroke=\"#cccccc\" stroke-linecap=\"round\" stroke-linejoin=\"round\" stroke-opacity=\"1\" stroke-width=\"2.5\">\n",
       "  <path d=\"M -603.35302734375 352.417724609375 L -69.98418784450226 277.5197213176244\"/>\n",
       "</g> <!-- drawing style -->\n",
       "</g> <!-- transform -->\n",
       "<g transform=\"matrix(-1.6092114223597926, 0.2259725606058702, -0.2259725606058702, -1.6092114223597926, 230.82053222656248, 405.23434448242193)\">\n",
       "<g fill=\"#cccccc\" fill-opacity=\"1\" fill-rule=\"nonzero\" stroke=\"none\">\n",
       "  <path d=\"M -0.00000000000000009185 0.5 C 0.27614237491539656 0.5 0.49999999999999994 0.2761423749153968 0.5 0.00000000000000012246 C 0.5000000000000001 -0.27614237491539656 0.27614237491539684 -0.4999999999999999 0.00000000000000015308 -0.5 z\"/>\n",
       "</g> <!-- drawing style -->\n",
       "</g> <!-- transform -->\n",
       "<g transform=\"matrix(5.471318836023294, -0.7683067060599588, 0.7683067060599588, 5.471318836023294, 588.4529155731201, 355.0140289306641)\">\n",
       "<g fill=\"#cccccc\" fill-opacity=\"1\" fill-rule=\"nonzero\" stroke=\"none\">\n",
       "  <path d=\"M -2 -0.5 L 0 0 L -2 0.5 z\"/>\n",
       "</g> <!-- drawing style -->\n",
       "</g> <!-- transform -->\n",
       "<g transform=\"matrix(0.65, 0, 0, 0.65, 623, 176.16282348632816)\">\n",
       "<g fill=\"none\" stroke=\"#cccccc\" stroke-linecap=\"round\" stroke-linejoin=\"round\" stroke-opacity=\"1\" stroke-width=\"2.5\">\n",
       "  <path d=\"M -603.9708862304688 349.9208068847656 L -67.09173658146703 156.5842028519499\"/>\n",
       "</g> <!-- drawing style -->\n",
       "</g> <!-- transform -->\n",
       "<g transform=\"matrix(-1.5288874830177879, 0.5505706714596529, -0.5505706714596529, -1.5288874830177879, 230.41892395019528, 403.61134796142585)\">\n",
       "<g fill=\"#cccccc\" fill-opacity=\"1\" fill-rule=\"nonzero\" stroke=\"none\">\n",
       "  <path d=\"M -0.00000000000000009185 0.5 C 0.27614237491539656 0.5 0.49999999999999994 0.2761423749153968 0.5 0.00000000000000012246 C 0.5000000000000001 -0.27614237491539656 0.27614237491539684 -0.4999999999999999 0.00000000000000015308 -0.5 z\"/>\n",
       "</g> <!-- drawing style -->\n",
       "</g> <!-- transform -->\n",
       "<g transform=\"matrix(5.1982174422604785, -1.8719402829628198, 1.8719402829628198, 5.1982174422604785, 589.7868061065674, 274.19867477416994)\">\n",
       "<g fill=\"#cccccc\" fill-opacity=\"1\" fill-rule=\"nonzero\" stroke=\"none\">\n",
       "  <path d=\"M -2 -0.5 L 0 0 L -2 0.5 z\"/>\n",
       "</g> <!-- drawing style -->\n",
       "</g> <!-- transform -->\n",
       "<g transform=\"matrix(0.65, 0, 0, 0.65, 623, 176.16282348632816)\">\n",
       "<g fill=\"none\" stroke=\"#cccccc\" stroke-linecap=\"round\" stroke-linejoin=\"round\" stroke-opacity=\"1\" stroke-width=\"2.5\">\n",
       "  <path d=\"M 143.54974365234375 107.23648071289062 L 526.0032570677383 130.6475880608977\"/>\n",
       "</g> <!-- drawing style -->\n",
       "</g> <!-- transform -->\n",
       "<g transform=\"matrix(-1.6219640712191774, -0.09928520370181625, 0.09928520370181625, -1.6219640712191774, 716.3073333740234, 245.86653594970707)\">\n",
       "<g fill=\"#cccccc\" fill-opacity=\"1\" fill-rule=\"nonzero\" stroke=\"none\">\n",
       "  <path d=\"M -0.00000000000000009185 0.5 C 0.27614237491539656 0.5 0.49999999999999994 0.2761423749153968 0.5 0.00000000000000012246 C 0.5000000000000001 -0.27614237491539656 0.27614237491539684 -0.4999999999999999 0.00000000000000015308 -0.5 z\"/>\n",
       "</g> <!-- drawing style -->\n",
       "</g> <!-- transform -->\n",
       "<g transform=\"matrix(5.514677842145203, 0.33756969258617525, -0.33756969258617525, 5.514677842145203, 975.9314727783203, 261.75889511108403)\">\n",
       "<g fill=\"#cccccc\" fill-opacity=\"1\" fill-rule=\"nonzero\" stroke=\"none\">\n",
       "  <path d=\"M -2 -0.5 L 0 0 L -2 0.5 z\"/>\n",
       "</g> <!-- drawing style -->\n",
       "</g> <!-- transform -->\n",
       "<g transform=\"matrix(0.65, 0, 0, 0.65, 623, 176.16282348632816)\">\n",
       "<g fill=\"none\" stroke=\"#cccccc\" stroke-linecap=\"round\" stroke-linejoin=\"round\" stroke-opacity=\"1\" stroke-width=\"2.5\">\n",
       "  <path d=\"M 142.00247192382812 100.40657043457031 L 201.1601753861272 67.57203739310545\"/>\n",
       "</g> <!-- drawing style -->\n",
       "</g> <!-- transform -->\n",
       "<g transform=\"matrix(-1.4208200899721, 0.7886033679434001, -0.7886033679434001, -1.4208200899721, 715.3016067504883, 241.42709426879887)\">\n",
       "<g fill=\"#cccccc\" fill-opacity=\"1\" fill-rule=\"nonzero\" stroke=\"none\">\n",
       "  <path d=\"M -0.00000000000000009185 0.5 C 0.27614237491539656 0.5 0.49999999999999994 0.2761423749153968 0.5 0.00000000000000012246 C 0.5000000000000001 -0.27614237491539656 0.27614237491539684 -0.4999999999999999 0.00000000000000015308 -0.5 z\"/>\n",
       "</g> <!-- drawing style -->\n",
       "</g> <!-- transform -->\n",
       "<g transform=\"matrix(4.8307883059051395, -2.6812514510075607, 2.6812514510075607, 4.8307883059051395, 763.415690612793, 214.72214488983158)\">\n",
       "<g fill=\"#cccccc\" fill-opacity=\"1\" fill-rule=\"nonzero\" stroke=\"none\">\n",
       "  <path d=\"M -2 -0.5 L 0 0 L -2 0.5 z\"/>\n",
       "</g> <!-- drawing style -->\n",
       "</g> <!-- transform -->\n",
       "<g transform=\"matrix(0.65, 0, 0, 0.65, 623, 176.16282348632816)\">\n",
       "<g fill=\"none\" stroke=\"#cccccc\" stroke-linecap=\"round\" stroke-linejoin=\"round\" stroke-opacity=\"1\" stroke-width=\"2.5\">\n",
       "  <path d=\"M -29.747467041015625 192.45663452148438 L 105.05799321947826 120.38191147590909\"/>\n",
       "</g> <!-- drawing style -->\n",
       "</g> <!-- transform -->\n",
       "<g transform=\"matrix(-1.4330349678474357, 0.7661826028607664, -0.7661826028607664, -1.4330349678474357, 603.6641464233398, 301.259635925293)\">\n",
       "<g fill=\"#cccccc\" fill-opacity=\"1\" fill-rule=\"nonzero\" stroke=\"none\">\n",
       "  <path d=\"M -0.00000000000000009185 0.5 C 0.27614237491539656 0.5 0.49999999999999994 0.2761423749153968 0.5 0.00000000000000012246 C 0.5000000000000001 -0.27614237491539656 0.27614237491539684 -0.4999999999999999 0.00000000000000015308 -0.5 z\"/>\n",
       "</g> <!-- drawing style -->\n",
       "</g> <!-- transform -->\n",
       "<g transform=\"matrix(4.8723188906812815, -2.6050208497266056, 2.6050208497266056, 4.8723188906812815, 701.0323333740234, 249.20102424621587)\">\n",
       "<g fill=\"#cccccc\" fill-opacity=\"1\" fill-rule=\"nonzero\" stroke=\"none\">\n",
       "  <path d=\"M -2 -0.5 L 0 0 L -2 0.5 z\"/>\n",
       "</g> <!-- drawing style -->\n",
       "</g> <!-- transform -->\n",
       "<g transform=\"matrix(0.65, 0, 0, 0.65, 623, 176.16282348632816)\">\n",
       "<g fill=\"none\" stroke=\"#cccccc\" stroke-linecap=\"round\" stroke-linejoin=\"round\" stroke-opacity=\"1\" stroke-width=\"2.5\">\n",
       "  <path d=\"M -603.6666870117188 350.8865661621094 L -69.24390296609945 206.0661142382719\"/>\n",
       "</g> <!-- drawing style -->\n",
       "</g> <!-- transform -->\n",
       "<g transform=\"matrix(-1.5684328945633188, 0.42502147622411846, -0.42502147622411846, -1.5684328945633188, 230.6166534423828, 404.23909149169924)\">\n",
       "<g fill=\"#cccccc\" fill-opacity=\"1\" fill-rule=\"nonzero\" stroke=\"none\">\n",
       "  <path d=\"M -0.00000000000000009185 0.5 C 0.27614237491539656 0.5 0.49999999999999994 0.2761423749153968 0.5 0.00000000000000012246 C 0.5000000000000001 -0.27614237491539656 0.27614237491539684 -0.4999999999999999 0.00000000000000015308 -0.5 z\"/>\n",
       "</g> <!-- drawing style -->\n",
       "</g> <!-- transform -->\n",
       "<g transform=\"matrix(5.3326718415152845, -1.445073019162003, 1.445073019162003, 5.3326718415152845, 588.6568067550659, 307.2156517028809)\">\n",
       "<g fill=\"#cccccc\" fill-opacity=\"1\" fill-rule=\"nonzero\" stroke=\"none\">\n",
       "  <path d=\"M -2 -0.5 L 0 0 L -2 0.5 z\"/>\n",
       "</g> <!-- drawing style -->\n",
       "</g> <!-- transform -->\n",
       "<g transform=\"matrix(0.65, 0, 0, 0.65, 623, 176.16282348632816)\">\n",
       "<g fill=\"none\" stroke=\"#cccccc\" stroke-linecap=\"round\" stroke-linejoin=\"round\" stroke-opacity=\"1\" stroke-width=\"2.5\">\n",
       "  <path d=\"M -162.03053283691406 419.0461730957031 L -55.86622519905238 386.68511440643823\"/>\n",
       "</g> <!-- drawing style -->\n",
       "</g> <!-- transform -->\n",
       "<g transform=\"matrix(-1.5543902509786112, 0.4738100333072845, -0.4738100333072845, -1.5543902509786112, 517.6801536560058, 448.5428359985352)\">\n",
       "<g fill=\"#cccccc\" fill-opacity=\"1\" fill-rule=\"nonzero\" stroke=\"none\">\n",
       "  <path d=\"M -0.00000000000000009185 0.5 C 0.27614237491539656 0.5 0.49999999999999994 0.2761423749153968 0.5 0.00000000000000012246 C 0.5000000000000001 -0.27614237491539656 0.27614237491539684 -0.4999999999999999 0.00000000000000015308 -0.5 z\"/>\n",
       "</g> <!-- drawing style -->\n",
       "</g> <!-- transform -->\n",
       "<g transform=\"matrix(5.284926853327278, -1.6109541132447673, 1.6109541132447673, 5.284926853327278, 597.2568073272705, 424.2862396240235)\">\n",
       "<g fill=\"#cccccc\" fill-opacity=\"1\" fill-rule=\"nonzero\" stroke=\"none\">\n",
       "  <path d=\"M -2 -0.5 L 0 0 L -2 0.5 z\"/>\n",
       "</g> <!-- drawing style -->\n",
       "</g> <!-- transform -->\n",
       "<g transform=\"matrix(0.65, 0, 0, 0.65, 623, 176.16282348632816)\">\n",
       "<g fill=\"none\" stroke=\"#cccccc\" stroke-linecap=\"round\" stroke-linejoin=\"round\" stroke-opacity=\"1\" stroke-width=\"2.5\">\n",
       "  <path d=\"M -161.7245330810547 425.11419677734375 L -8.086059574242523 455.4755981635625\"/>\n",
       "</g> <!-- drawing style -->\n",
       "</g> <!-- transform -->\n",
       "<g transform=\"matrix(-1.5941703112936867, -0.3150333610743331, 0.3150333610743331, -1.5941703112936867, 517.8790534973144, 452.48705139160165)\">\n",
       "<g fill=\"#cccccc\" fill-opacity=\"1\" fill-rule=\"nonzero\" stroke=\"none\">\n",
       "  <path d=\"M -0.00000000000000009185 0.5 C 0.27614237491539656 0.5 0.49999999999999994 0.2761423749153968 0.5 0.00000000000000012246 C 0.5000000000000001 -0.27614237491539656 0.27614237491539684 -0.4999999999999999 0.00000000000000015308 -0.5 z\"/>\n",
       "</g> <!-- drawing style -->\n",
       "</g> <!-- transform -->\n",
       "<g transform=\"matrix(5.420179058398535, 1.0711134276527325, -1.0711134276527325, 5.420179058398535, 628.5844193935394, 474.3641891479492)\">\n",
       "<g fill=\"#cccccc\" fill-opacity=\"1\" fill-rule=\"nonzero\" stroke=\"none\">\n",
       "  <path d=\"M -2 -0.5 L 0 0 L -2 0.5 z\"/>\n",
       "</g> <!-- drawing style -->\n",
       "</g> <!-- transform -->\n",
       "<g transform=\"matrix(0.65, 0, 0, 0.65, 623, 176.16282348632816)\">\n",
       "<g fill=\"none\" stroke=\"#cccccc\" stroke-linecap=\"round\" stroke-linejoin=\"round\" stroke-opacity=\"1\" stroke-width=\"2.5\">\n",
       "  <path d=\"M -161.4873809814453 422.6782531738281 L 133.59682565450302 422.38078480539747\"/>\n",
       "</g> <!-- drawing style -->\n",
       "</g> <!-- transform -->\n",
       "<g transform=\"matrix(-1.6249991743182424, 0.0016381285145564055, -0.0016381285145564055, -1.6249991743182424, 518.0332023620606, 450.90368804931643)\">\n",
       "<g fill=\"#cccccc\" fill-opacity=\"1\" fill-rule=\"nonzero\" stroke=\"none\">\n",
       "  <path d=\"M -0.00000000000000009185 0.5 C 0.27614237491539656 0.5 0.49999999999999994 0.2761423749153968 0.5 0.00000000000000012246 C 0.5000000000000001 -0.27614237491539656 0.27614237491539684 -0.4999999999999999 0.00000000000000015308 -0.5 z\"/>\n",
       "</g> <!-- drawing style -->\n",
       "</g> <!-- transform -->\n",
       "<g transform=\"matrix(5.524997192682024, -0.005569636949491779, 0.005569636949491779, 5.524997192682024, 720.8879310607911, 450.6991943359376)\">\n",
       "<g fill=\"#cccccc\" fill-opacity=\"1\" fill-rule=\"nonzero\" stroke=\"none\">\n",
       "  <path d=\"M -2 -0.5 L 0 0 L -2 0.5 z\"/>\n",
       "</g> <!-- drawing style -->\n",
       "</g> <!-- transform -->\n",
       "<g transform=\"matrix(0.65, 0, 0, 0.65, 623, 176.16282348632816)\">\n",
       "<g fill=\"none\" stroke=\"#cccccc\" stroke-linecap=\"round\" stroke-linejoin=\"round\" stroke-opacity=\"1\" stroke-width=\"2.5\">\n",
       "  <path d=\"M -610.2157592773438 342.93878173828125 L -551.0857434153539 222.6894529901701\"/>\n",
       "</g> <!-- drawing style -->\n",
       "</g> <!-- transform -->\n",
       "<g transform=\"matrix(-0.7170565712976219, 1.4582369058417424, -1.4582369058417424, -0.7170565712976219, 226.35975646972656, 399.073031616211)\">\n",
       "<g fill=\"#cccccc\" fill-opacity=\"1\" fill-rule=\"nonzero\" stroke=\"none\">\n",
       "  <path d=\"M -0.00000000000000009185 0.5 C 0.27614237491539656 0.5 0.49999999999999994 0.2761423749153968 0.5 0.00000000000000012246 C 0.5000000000000001 -0.27614237491539656 0.27614237491539684 -0.4999999999999999 0.00000000000000015308 -0.5 z\"/>\n",
       "</g> <!-- drawing style -->\n",
       "</g> <!-- transform -->\n",
       "<g transform=\"matrix(2.4379923424119148, -4.958005479861924, 4.958005479861924, 2.4379923424119148, 269.6702514648437, 310.9949569702149)\">\n",
       "<g fill=\"#cccccc\" fill-opacity=\"1\" fill-rule=\"nonzero\" stroke=\"none\">\n",
       "  <path d=\"M -2 -0.5 L 0 0 L -2 0.5 z\"/>\n",
       "</g> <!-- drawing style -->\n",
       "</g> <!-- transform -->\n",
       "<g transform=\"matrix(0.65, 0, 0, 0.65, 623, 176.16282348632816)\">\n",
       "<g fill=\"none\" stroke=\"#cccccc\" stroke-linecap=\"round\" stroke-linejoin=\"round\" stroke-opacity=\"1\" stroke-width=\"2.5\">\n",
       "  <path d=\"M -685.4702758789062 477.0526123046875 L -630.2908258897708 379.8129130086719\"/>\n",
       "</g> <!-- drawing style -->\n",
       "</g> <!-- transform -->\n",
       "<g transform=\"matrix(-0.8019918948517106, 1.4133060534053346, -1.4133060534053346, -0.8019918948517106, 177.44432067871094, 486.24702148437507)\">\n",
       "<g fill=\"#cccccc\" fill-opacity=\"1\" fill-rule=\"nonzero\" stroke=\"none\">\n",
       "  <path d=\"M -0.00000000000000009185 0.5 C 0.27614237491539656 0.5 0.49999999999999994 0.2761423749153968 0.5 0.00000000000000012246 C 0.5000000000000001 -0.27614237491539656 0.27614237491539684 -0.4999999999999999 0.00000000000000015308 -0.5 z\"/>\n",
       "</g> <!-- drawing style -->\n",
       "</g> <!-- transform -->\n",
       "<g transform=\"matrix(2.726772442495816, -4.805240581578138, 4.805240581578138, 2.726772442495816, 218.76450805664064, 413.43073577880864)\">\n",
       "<g fill=\"#cccccc\" fill-opacity=\"1\" fill-rule=\"nonzero\" stroke=\"none\">\n",
       "  <path d=\"M -2 -0.5 L 0 0 L -2 0.5 z\"/>\n",
       "</g> <!-- drawing style -->\n",
       "</g> <!-- transform -->\n",
       "<g transform=\"matrix(0.65, 0, 0, 0.65, 623, 176.16282348632816)\">\n",
       "<g fill=\"none\" stroke=\"#cccccc\" stroke-linecap=\"round\" stroke-linejoin=\"round\" stroke-opacity=\"1\" stroke-width=\"2.5\">\n",
       "  <path d=\"M 544.5791625976562 330.254150390625 L -586.2377976311591 353.5484118666249\"/>\n",
       "</g> <!-- drawing style -->\n",
       "</g> <!-- transform -->\n",
       "<g transform=\"matrix(1.6246553339988115, -0.033467083966346324, 0.033467083966346324, 1.6246553339988115, 976.9764556884766, 390.8280212402344)\">\n",
       "<g fill=\"#cccccc\" fill-opacity=\"1\" fill-rule=\"nonzero\" stroke=\"none\">\n",
       "  <path d=\"M -0.00000000000000009185 0.5 C 0.27614237491539656 0.5 0.49999999999999994 0.2761423749153968 0.5 0.00000000000000012246 C 0.5000000000000001 -0.27614237491539656 0.27614237491539684 -0.4999999999999999 0.00000000000000015308 -0.5 z\"/>\n",
       "</g> <!-- drawing style -->\n",
       "</g> <!-- transform -->\n",
       "<g transform=\"matrix(-5.523828135595959, 0.1137880854855775, -0.1137880854855775, -5.523828135595959, 230.89777526855465, 406.1968673706055)\">\n",
       "<g fill=\"#cccccc\" fill-opacity=\"1\" fill-rule=\"nonzero\" stroke=\"none\">\n",
       "  <path d=\"M -2 -0.5 L 0 0 L -2 0.5 z\"/>\n",
       "</g> <!-- drawing style -->\n",
       "</g> <!-- transform -->\n",
       "<g transform=\"matrix(0.65, 0, 0, 0.65, 623, 176.16282348632816)\">\n",
       "<g fill=\"none\" stroke=\"#cccccc\" stroke-linecap=\"round\" stroke-linejoin=\"round\" stroke-opacity=\"1\" stroke-width=\"2.5\">\n",
       "  <path d=\"M -532.5775146484375 184.98741149902344 L -516.5813886964064 152.27374650624986\"/>\n",
       "</g> <!-- drawing style -->\n",
       "</g> <!-- transform -->\n",
       "<g transform=\"matrix(-0.7138165378458355, 1.4598256575008486, -1.4598256575008486, -0.7138165378458355, 276.8246154785156, 296.4046409606934)\">\n",
       "<g fill=\"#cccccc\" fill-opacity=\"1\" fill-rule=\"nonzero\" stroke=\"none\">\n",
       "  <path d=\"M -0.00000000000000009185 0.5 C 0.27614237491539656 0.5 0.49999999999999994 0.2761423749153968 0.5 0.00000000000000012246 C 0.5000000000000001 -0.27614237491539656 0.27614237491539684 -0.4999999999999999 0.00000000000000015308 -0.5 z\"/>\n",
       "</g> <!-- drawing style -->\n",
       "</g> <!-- transform -->\n",
       "<g transform=\"matrix(2.4269762286758407, -4.963407235502886, 4.963407235502886, 2.4269762286758407, 292.0760498046875, 265.21394424438483)\">\n",
       "<g fill=\"#cccccc\" fill-opacity=\"1\" fill-rule=\"nonzero\" stroke=\"none\">\n",
       "  <path d=\"M -2 -0.5 L 0 0 L -2 0.5 z\"/>\n",
       "</g> <!-- drawing style -->\n",
       "</g> <!-- transform -->\n",
       "<g transform=\"matrix(0.65, 0, 0, 0.65, 623, 176.16282348632816)\">\n",
       "<g fill=\"none\" stroke=\"#cccccc\" stroke-linecap=\"round\" stroke-linejoin=\"round\" stroke-opacity=\"1\" stroke-width=\"2.5\">\n",
       "  <path d=\"M -498.1527099609375 114.53274536132812 L -475.26642278205736 67.50809927800714\"/>\n",
       "</g> <!-- drawing style -->\n",
       "</g> <!-- transform -->\n",
       "<g transform=\"matrix(-0.711118774950793, 1.4611417069923383, -1.4611417069923383, -0.711118774950793, 299.2007385253906, 250.60910797119146)\">\n",
       "<g fill=\"#cccccc\" fill-opacity=\"1\" fill-rule=\"nonzero\" stroke=\"none\">\n",
       "  <path d=\"M -0.00000000000000009185 0.5 C 0.27614237491539656 0.5 0.49999999999999994 0.2761423749153968 0.5 0.00000000000000012246 C 0.5000000000000001 -0.27614237491539656 0.27614237491539684 -0.4999999999999999 0.00000000000000015308 -0.5 z\"/>\n",
       "</g> <!-- drawing style -->\n",
       "</g> <!-- transform -->\n",
       "<g transform=\"matrix(2.4178038348326965, -4.96788180377395, 4.96788180377395, 2.4178038348326965, 318.9124328613281, 210.1073244094849)\">\n",
       "<g fill=\"#cccccc\" fill-opacity=\"1\" fill-rule=\"nonzero\" stroke=\"none\">\n",
       "  <path d=\"M -2 -0.5 L 0 0 L -2 0.5 z\"/>\n",
       "</g> <!-- drawing style -->\n",
       "</g> <!-- transform -->\n",
       "<g transform=\"matrix(0.65, 0, 0, 0.65, 623, 176.16282348632816)\">\n",
       "<g fill=\"none\" stroke=\"#cccccc\" stroke-linecap=\"round\" stroke-linejoin=\"round\" stroke-opacity=\"1\" stroke-width=\"2.5\">\n",
       "  <path d=\"M -770.89208984375 -70.33587646484375 L -769.9386832988907 -115.91092989369906\"/>\n",
       "</g> <!-- drawing style -->\n",
       "</g> <!-- transform -->\n",
       "<g transform=\"matrix(-0.03398672359570996, 1.6246445465452526, -1.6246445465452526, -0.03398672359570996, 121.92014160156248, 130.44450378417972)\">\n",
       "<g fill=\"#cccccc\" fill-opacity=\"1\" fill-rule=\"nonzero\" stroke=\"none\">\n",
       "  <path d=\"M -0.00000000000000009185 0.5 C 0.27614237491539656 0.5 0.49999999999999994 0.2761423749153968 0.5 0.00000000000000012246 C 0.5000000000000001 -0.27614237491539656 0.27614237491539684 -0.4999999999999999 0.00000000000000015308 -0.5 z\"/>\n",
       "</g> <!-- drawing style -->\n",
       "</g> <!-- transform -->\n",
       "<g transform=\"matrix(0.11555486022541386, -5.523791458253858, 5.523791458253858, 0.11555486022541386, 122.77096557617188, 89.77313613891606)\">\n",
       "<g fill=\"#cccccc\" fill-opacity=\"1\" fill-rule=\"nonzero\" stroke=\"none\">\n",
       "  <path d=\"M -2 -0.5 L 0 0 L -2 0.5 z\"/>\n",
       "</g> <!-- drawing style -->\n",
       "</g> <!-- transform -->\n",
       "<g transform=\"matrix(0.65, 0, 0, 0.65, 623, 176.16282348632816)\">\n",
       "<g fill=\"none\" stroke=\"#cccccc\" stroke-linecap=\"round\" stroke-linejoin=\"round\" stroke-opacity=\"1\" stroke-width=\"2.5\">\n",
       "  <path d=\"M -766.399169921875 636.2280883789062 L -770.9514841543948 -28.339300351829355\"/>\n",
       "</g> <!-- drawing style -->\n",
       "</g> <!-- transform -->\n",
       "<g transform=\"matrix(0.011131056387115954, 1.6249618763477827, -1.6249618763477827, 0.011131056387115954, 124.84053955078122, 589.7110809326173)\">\n",
       "<g fill=\"#cccccc\" fill-opacity=\"1\" fill-rule=\"nonzero\" stroke=\"none\">\n",
       "  <path d=\"M -0.00000000000000009185 0.5 C 0.27614237491539656 0.5 0.49999999999999994 0.2761423749153968 0.5 0.00000000000000012246 C 0.5000000000000001 -0.27614237491539656 0.27614237491539684 -0.4999999999999999 0.00000000000000015308 -0.5 z\"/>\n",
       "</g> <!-- drawing style -->\n",
       "</g> <!-- transform -->\n",
       "<g transform=\"matrix(-0.03784559171619424, -5.524870379582461, 5.524870379582461, -0.03784559171619424, 121.80584411621089, 146.69253749847417)\">\n",
       "<g fill=\"#cccccc\" fill-opacity=\"1\" fill-rule=\"nonzero\" stroke=\"none\">\n",
       "  <path d=\"M -2 -0.5 L 0 0 L -2 0.5 z\"/>\n",
       "</g> <!-- drawing style -->\n",
       "</g> <!-- transform -->\n",
       "<g transform=\"matrix(0.65, 0, 0, 0.65, 623, 176.16282348632816)\">\n",
       "<g fill=\"none\" stroke=\"#cccccc\" stroke-linecap=\"round\" stroke-linejoin=\"round\" stroke-opacity=\"1\" stroke-width=\"2.5\">\n",
       "  <path d=\"M 239.43783569335938 52.62995529174805 L 525.9851305005155 38.26402988225158\"/>\n",
       "</g> <!-- drawing style -->\n",
       "</g> <!-- transform -->\n",
       "<g transform=\"matrix(-1.6229616431894605, 0.08136648410596455, -0.08136648410596455, -1.6229616431894605, 778.6345932006836, 210.3722944259644)\">\n",
       "<g fill=\"#cccccc\" fill-opacity=\"1\" fill-rule=\"nonzero\" stroke=\"none\">\n",
       "  <path d=\"M -0.00000000000000009185 0.5 C 0.27614237491539656 0.5 0.49999999999999994 0.2761423749153968 0.5 0.00000000000000012246 C 0.5000000000000001 -0.27614237491539656 0.27614237491539684 -0.4999999999999999 0.00000000000000015308 -0.5 z\"/>\n",
       "</g> <!-- drawing style -->\n",
       "</g> <!-- transform -->\n",
       "<g transform=\"matrix(5.518069586844166, -0.2766460459602794, 0.2766460459602794, 5.518069586844166, 975.9264739990235, 200.48115081787114)\">\n",
       "<g fill=\"#cccccc\" fill-opacity=\"1\" fill-rule=\"nonzero\" stroke=\"none\">\n",
       "  <path d=\"M -2 -0.5 L 0 0 L -2 0.5 z\"/>\n",
       "</g> <!-- drawing style -->\n",
       "</g> <!-- transform -->\n",
       "<g transform=\"matrix(0.65, 0, 0, 0.65, 623, 176.16282348632816)\">\n",
       "<g fill=\"none\" stroke=\"#cccccc\" stroke-linecap=\"round\" stroke-linejoin=\"round\" stroke-opacity=\"1\" stroke-width=\"2.5\">\n",
       "  <path d=\"M 239.39694213867188 54.443870544433594 L 526.0816534952567 81.81472886015257\"/>\n",
       "</g> <!-- drawing style -->\n",
       "</g> <!-- transform -->\n",
       "<g transform=\"matrix(-1.6176441231843384, -0.15444251593124592, 0.15444251593124592, -1.6176441231843384, 778.6080123901368, 211.55133934021)\">\n",
       "<g fill=\"#cccccc\" fill-opacity=\"1\" fill-rule=\"nonzero\" stroke=\"none\">\n",
       "  <path d=\"M -0.00000000000000009185 0.5 C 0.27614237491539656 0.5 0.49999999999999994 0.2761423749153968 0.5 0.00000000000000012246 C 0.5000000000000001 -0.27614237491539656 0.27614237491539684 -0.4999999999999999 0.00000000000000015308 -0.5 z\"/>\n",
       "</g> <!-- drawing style -->\n",
       "</g> <!-- transform -->\n",
       "<g transform=\"matrix(5.49999001882675, 0.525104554166236, -0.525104554166236, 5.49999001882675, 975.9530548095704, 230.39260635375982)\">\n",
       "<g fill=\"#cccccc\" fill-opacity=\"1\" fill-rule=\"nonzero\" stroke=\"none\">\n",
       "  <path d=\"M -2 -0.5 L 0 0 L -2 0.5 z\"/>\n",
       "</g> <!-- drawing style -->\n",
       "</g> <!-- transform -->\n",
       "<g transform=\"matrix(0.65, 0, 0, 0.65, 623, 176.16282348632816)\">\n",
       "<g fill=\"none\" stroke=\"#cccccc\" stroke-linecap=\"round\" stroke-linejoin=\"round\" stroke-opacity=\"1\" stroke-width=\"2.5\">\n",
       "  <path d=\"M 237.7352294921875 46.930931091308594 L 276.3990310334527 24.249435502595823\"/>\n",
       "</g> <!-- drawing style -->\n",
       "</g> <!-- transform -->\n",
       "<g transform=\"matrix(-1.4016230334664934, 0.8222395466384392, -0.8222395466384392, -1.4016230334664934, 777.5278991699219, 206.66792869567874)\">\n",
       "<g fill=\"#cccccc\" fill-opacity=\"1\" fill-rule=\"nonzero\" stroke=\"none\">\n",
       "  <path d=\"M -0.00000000000000009185 0.5 C 0.27614237491539656 0.5 0.49999999999999994 0.2761423749153968 0.5 0.00000000000000012246 C 0.5000000000000001 -0.27614237491539656 0.27614237491539684 -0.4999999999999999 0.00000000000000015308 -0.5 z\"/>\n",
       "</g> <!-- drawing style -->\n",
       "</g> <!-- transform -->\n",
       "<g transform=\"matrix(4.765518313786077, -2.7956144585706935, 2.7956144585706935, 4.765518313786077, 812.1904067993164, 186.33372764587406)\">\n",
       "<g fill=\"#cccccc\" fill-opacity=\"1\" fill-rule=\"nonzero\" stroke=\"none\">\n",
       "  <path d=\"M -2 -0.5 L 0 0 L -2 0.5 z\"/>\n",
       "</g> <!-- drawing style -->\n",
       "</g> <!-- transform -->\n",
       "<g transform=\"matrix(0.65, 0, 0, 0.65, 623, 176.16282348632816)\">\n",
       "<g fill=\"none\" stroke=\"#cccccc\" stroke-linecap=\"round\" stroke-linejoin=\"round\" stroke-opacity=\"1\" stroke-width=\"2.5\">\n",
       "  <path d=\"M 314.3037414550781 8.321956634521484 L 526.0427804295007 -8.683051655513106\"/>\n",
       "</g> <!-- drawing style -->\n",
       "</g> <!-- transform -->\n",
       "<g transform=\"matrix(-1.6197846853636775, 0.13008679049500974, -0.13008679049500974, -1.6197846853636775, 827.2974319458008, 181.57209529876712)\">\n",
       "<g fill=\"#cccccc\" fill-opacity=\"1\" fill-rule=\"nonzero\" stroke=\"none\">\n",
       "  <path d=\"M -0.00000000000000009185 0.5 C 0.27614237491539656 0.5 0.49999999999999994 0.2761423749153968 0.5 0.00000000000000012246 C 0.5000000000000001 -0.27614237491539656 0.27614237491539684 -0.4999999999999999 0.00000000000000015308 -0.5 z\"/>\n",
       "</g> <!-- drawing style -->\n",
       "</g> <!-- transform -->\n",
       "<g transform=\"matrix(5.5072679302365035, -0.4422950876830331, 0.4422950876830331, 5.5072679302365035, 975.9423431396485, 169.63424973487858)\">\n",
       "<g fill=\"#cccccc\" fill-opacity=\"1\" fill-rule=\"nonzero\" stroke=\"none\">\n",
       "  <path d=\"M -2 -0.5 L 0 0 L -2 0.5 z\"/>\n",
       "</g> <!-- drawing style -->\n",
       "</g> <!-- transform -->\n",
       "<g transform=\"matrix(0.65, 0, 0, 0.65, 623, 176.16282348632816)\">\n",
       "<g fill=\"none\" stroke=\"#cccccc\" stroke-linecap=\"round\" stroke-linejoin=\"round\" stroke-opacity=\"1\" stroke-width=\"2.5\">\n",
       "  <path d=\"M -766.0426635742188 661.224853515625 L -765.4773341838846 687.3070924829091\"/>\n",
       "</g> <!-- drawing style -->\n",
       "</g> <!-- transform -->\n",
       "<g transform=\"matrix(-0.03521340874792906, -1.624618421613011, 1.624618421613011, -0.03521340874792906, 125.0722686767578, 605.9589782714844)\">\n",
       "<g fill=\"#cccccc\" fill-opacity=\"1\" fill-rule=\"nonzero\" stroke=\"none\">\n",
       "  <path d=\"M -0.00000000000000009185 0.5 C 0.27614237491539656 0.5 0.49999999999999994 0.2761423749153968 0.5 0.00000000000000012246 C 0.5000000000000001 -0.27614237491539656 0.27614237491539684 -0.4999999999999999 0.00000000000000015308 -0.5 z\"/>\n",
       "</g> <!-- drawing style -->\n",
       "</g> <!-- transform -->\n",
       "<g transform=\"matrix(0.1197255897429588, 5.523702633484238, -5.523702633484238, 0.1197255897429588, 125.67918395996094, 633.9598388671875)\">\n",
       "<g fill=\"#cccccc\" fill-opacity=\"1\" fill-rule=\"nonzero\" stroke=\"none\">\n",
       "  <path d=\"M -2 -0.5 L 0 0 L -2 0.5 z\"/>\n",
       "</g> <!-- drawing style -->\n",
       "</g> <!-- transform -->\n",
       "<g transform=\"matrix(0.65, 0, 0, 0.65, 623, 176.16282348632816)\">\n",
       "<g fill=\"none\" stroke=\"#cccccc\" stroke-linecap=\"round\" stroke-linejoin=\"round\" stroke-opacity=\"1\" stroke-width=\"2.5\">\n",
       "  <path d=\"M -718.0750732421875 552.7772827148438 L -702.7747984962975 515.2418685905125\"/>\n",
       "</g> <!-- drawing style -->\n",
       "</g> <!-- transform -->\n",
       "<g transform=\"matrix(-0.6133848667474252, 1.5047870298634434, -1.5047870298634434, -0.6133848667474252, 156.25120239257814, 535.4680572509766)\">\n",
       "<g fill=\"#cccccc\" fill-opacity=\"1\" fill-rule=\"nonzero\" stroke=\"none\">\n",
       "  <path d=\"M -0.00000000000000009185 0.5 C 0.27614237491539656 0.5 0.49999999999999994 0.2761423749153968 0.5 0.00000000000000012246 C 0.5000000000000001 -0.27614237491539656 0.27614237491539684 -0.4999999999999999 0.00000000000000015308 -0.5 z\"/>\n",
       "</g> <!-- drawing style -->\n",
       "</g> <!-- transform -->\n",
       "<g transform=\"matrix(2.085508546941246, -5.116275901535707, 5.116275901535707, 2.085508546941246, 170.36739807128907, 500.83748626708984)\">\n",
       "<g fill=\"#cccccc\" fill-opacity=\"1\" fill-rule=\"nonzero\" stroke=\"none\">\n",
       "  <path d=\"M -2 -0.5 L 0 0 L -2 0.5 z\"/>\n",
       "</g> <!-- drawing style -->\n",
       "</g> <!-- transform -->\n",
       "<g transform=\"matrix(0.65, 0, 0, 0.65, 623, 176.16282348632816)\">\n",
       "<g fill=\"none\" stroke=\"#cccccc\" stroke-linecap=\"round\" stroke-linejoin=\"round\" stroke-opacity=\"1\" stroke-width=\"2.5\">\n",
       "  <path d=\"M -710.3050537109375 563.814697265625 L -281.85122860247486 545.3615043145223\"/>\n",
       "</g> <!-- drawing style -->\n",
       "</g> <!-- transform -->\n",
       "<g transform=\"matrix(-1.6234949369984037, 0.06992273979578979, -0.06992273979578979, -1.6234949369984037, 161.3017150878906, 542.6423767089844)\">\n",
       "<g fill=\"#cccccc\" fill-opacity=\"1\" fill-rule=\"nonzero\" stroke=\"none\">\n",
       "  <path d=\"M -0.00000000000000009185 0.5 C 0.27614237491539656 0.5 0.49999999999999994 0.2761423749153968 0.5 0.00000000000000012246 C 0.5000000000000001 -0.27614237491539656 0.27614237491539684 -0.4999999999999999 0.00000000000000015308 -0.5 z\"/>\n",
       "</g> <!-- drawing style -->\n",
       "</g> <!-- transform -->\n",
       "<g transform=\"matrix(5.5198827857945725, -0.23773731530568532, 0.23773731530568532, 5.5198827857945725, 450.83646697998046, 530.1723266601563)\">\n",
       "<g fill=\"#cccccc\" fill-opacity=\"1\" fill-rule=\"nonzero\" stroke=\"none\">\n",
       "  <path d=\"M -2 -0.5 L 0 0 L -2 0.5 z\"/>\n",
       "</g> <!-- drawing style -->\n",
       "</g> <!-- transform -->\n",
       "<g transform=\"matrix(0.65, 0, 0, 0.65, 623, 176.16282348632816)\">\n",
       "<g fill=\"none\" stroke=\"#cccccc\" stroke-linecap=\"round\" stroke-linejoin=\"round\" stroke-opacity=\"1\" stroke-width=\"2.5\">\n",
       "  <path d=\"M 205.26327514648438 628.508544921875 L -693.3637176018492 566.3870013445772\"/>\n",
       "</g> <!-- drawing style -->\n",
       "</g> <!-- transform -->\n",
       "<g transform=\"matrix(1.621131026569564, 0.11206781292374804, -0.11206781292374804, 1.621131026569564, 756.4211288452149, 584.6933776855469)\">\n",
       "<g fill=\"#cccccc\" fill-opacity=\"1\" fill-rule=\"nonzero\" stroke=\"none\">\n",
       "  <path d=\"M -0.00000000000000009185 0.5 C 0.27614237491539656 0.5 0.49999999999999994 0.2761423749153968 0.5 0.00000000000000012246 C 0.5000000000000001 -0.27614237491539656 0.27614237491539684 -0.4999999999999999 0.00000000000000015308 -0.5 z\"/>\n",
       "</g> <!-- drawing style -->\n",
       "</g> <!-- transform -->\n",
       "<g transform=\"matrix(-5.511845490336517, -0.3810305639407433, 0.3810305639407433, -5.511845490336517, 161.28989257812498, 543.552313232422)\">\n",
       "<g fill=\"#cccccc\" fill-opacity=\"1\" fill-rule=\"nonzero\" stroke=\"none\">\n",
       "  <path d=\"M -2 -0.5 L 0 0 L -2 0.5 z\"/>\n",
       "</g> <!-- drawing style -->\n",
       "</g> <!-- transform -->\n",
       "<g transform=\"matrix(0.65, 0, 0, 0.65, 623, 176.16282348632816)\">\n",
       "<g fill=\"none\" stroke=\"#cccccc\" stroke-linecap=\"round\" stroke-linejoin=\"round\" stroke-opacity=\"1\" stroke-width=\"2.5\">\n",
       "  <path d=\"M -760.5834350585938 637.6184692382812 L -736.3164660740449 590.5704799743594\"/>\n",
       "</g> <!-- drawing style -->\n",
       "</g> <!-- transform -->\n",
       "<g transform=\"matrix(-0.7449101805038283, 1.4442069875823735, -1.4442069875823735, -0.7449101805038283, 128.62076721191403, 590.614828491211)\">\n",
       "<g fill=\"#cccccc\" fill-opacity=\"1\" fill-rule=\"nonzero\" stroke=\"none\">\n",
       "  <path d=\"M -0.00000000000000009185 0.5 C 0.27614237491539656 0.5 0.49999999999999994 0.2761423749153968 0.5 0.00000000000000012246 C 0.5000000000000001 -0.27614237491539656 0.27614237491539684 -0.4999999999999999 0.00000000000000015308 -0.5 z\"/>\n",
       "</g> <!-- drawing style -->\n",
       "</g> <!-- transform -->\n",
       "<g transform=\"matrix(2.532694613713016, -4.91030375778007, 4.91030375778007, 2.532694613713016, 149.45968627929688, 550.2130279541016)\">\n",
       "<g fill=\"#cccccc\" fill-opacity=\"1\" fill-rule=\"nonzero\" stroke=\"none\">\n",
       "  <path d=\"M -2 -0.5 L 0 0 L -2 0.5 z\"/>\n",
       "</g> <!-- drawing style -->\n",
       "</g> <!-- transform -->\n",
       "<g transform=\"matrix(0.65, 0, 0, 0.65, 623, 176.16282348632816)\">\n",
       "<g fill=\"none\" stroke=\"#cccccc\" stroke-linecap=\"round\" stroke-linejoin=\"round\" stroke-opacity=\"1\" stroke-width=\"2.5\">\n",
       "  <path d=\"M -215.7080078125 468.5751953125 L -193.83320254266198 444.51730332451876\"/>\n",
       "</g> <!-- drawing style -->\n",
       "</g> <!-- transform -->\n",
       "<g transform=\"matrix(-1.0932025801565108, 1.2023032557300792, -1.2023032557300792, -1.0932025801565108, 482.789794921875, 480.7367004394532)\">\n",
       "<g fill=\"#cccccc\" fill-opacity=\"1\" fill-rule=\"nonzero\" stroke=\"none\">\n",
       "  <path d=\"M -0.00000000000000009185 0.5 C 0.27614237491539656 0.5 0.49999999999999994 0.2761423749153968 0.5 0.00000000000000012246 C 0.5000000000000001 -0.27614237491539656 0.27614237491539684 -0.4999999999999999 0.00000000000000015308 -0.5 z\"/>\n",
       "</g> <!-- drawing style -->\n",
       "</g> <!-- transform -->\n",
       "<g transform=\"matrix(3.716888772532137, -4.087831069482269, 4.087831069482269, 3.716888772532137, 504.442195892334, 456.9234085083008)\">\n",
       "<g fill=\"#cccccc\" fill-opacity=\"1\" fill-rule=\"nonzero\" stroke=\"none\">\n",
       "  <path d=\"M -2 -0.5 L 0 0 L -2 0.5 z\"/>\n",
       "</g> <!-- drawing style -->\n",
       "</g> <!-- transform -->\n",
       "<g transform=\"matrix(0.65, 0, 0, 0.65, 623, 176.16282348632816)\">\n",
       "<g fill=\"none\" stroke=\"#cccccc\" stroke-linecap=\"round\" stroke-linejoin=\"round\" stroke-opacity=\"1\" stroke-width=\"2.5\">\n",
       "  <path d=\"M -680.1309204101562 483.04534912109375 L -632.4237928507214 462.82077531373193\"/>\n",
       "</g> <!-- drawing style -->\n",
       "</g> <!-- transform -->\n",
       "<g transform=\"matrix(-1.4961123688017222, 0.6342497772317307, -0.6342497772317307, -1.4961123688017222, 180.91490173339844, 490.14230041503913)\">\n",
       "<g fill=\"#cccccc\" fill-opacity=\"1\" fill-rule=\"nonzero\" stroke=\"none\">\n",
       "  <path d=\"M -0.00000000000000009185 0.5 C 0.27614237491539656 0.5 0.49999999999999994 0.2761423749153968 0.5 0.00000000000000012246 C 0.5000000000000001 -0.27614237491539656 0.27614237491539684 -0.4999999999999999 0.00000000000000015308 -0.5 z\"/>\n",
       "</g> <!-- drawing style -->\n",
       "</g> <!-- transform -->\n",
       "<g transform=\"matrix(5.086782053925855, -2.1564492425878843, 2.1564492425878843, 5.086782053925855, 222.0980987548828, 472.68342895507817)\">\n",
       "<g fill=\"#cccccc\" fill-opacity=\"1\" fill-rule=\"nonzero\" stroke=\"none\">\n",
       "  <path d=\"M -2 -0.5 L 0 0 L -2 0.5 z\"/>\n",
       "</g> <!-- drawing style -->\n",
       "</g> <!-- transform -->\n",
       "<g transform=\"matrix(0.65, 0, 0, 0.65, 623, 176.16282348632816)\">\n",
       "<g fill=\"none\" stroke=\"#cccccc\" stroke-linecap=\"round\" stroke-linejoin=\"round\" stroke-opacity=\"1\" stroke-width=\"2.5\">\n",
       "  <path d=\"M -239.8931884765625 543.4873046875 L 57.15067315454839 529.0973030765526\"/>\n",
       "</g> <!-- drawing style -->\n",
       "</g> <!-- transform -->\n",
       "<g transform=\"matrix(-1.6230965551337877, 0.07862933748182867, -0.07862933748182867, -1.6230965551337877, 467.0694274902344, 529.4295715332032)\">\n",
       "<g fill=\"#cccccc\" fill-opacity=\"1\" fill-rule=\"nonzero\" stroke=\"none\">\n",
       "  <path d=\"M -0.00000000000000009185 0.5 C 0.27614237491539656 0.5 0.49999999999999994 0.2761423749153968 0.5 0.00000000000000012246 C 0.5000000000000001 -0.27614237491539656 0.27614237491539684 -0.4999999999999999 0.00000000000000015308 -0.5 z\"/>\n",
       "</g> <!-- drawing style -->\n",
       "</g> <!-- transform -->\n",
       "<g transform=\"matrix(5.5185282874548784, -0.2673397474382175, 0.2673397474382175, 5.5185282874548784, 671.1849941253662, 519.541390991211)\">\n",
       "<g fill=\"#cccccc\" fill-opacity=\"1\" fill-rule=\"nonzero\" stroke=\"none\">\n",
       "  <path d=\"M -2 -0.5 L 0 0 L -2 0.5 z\"/>\n",
       "</g> <!-- drawing style -->\n",
       "</g> <!-- transform -->\n",
       "<g transform=\"matrix(0.65, 0, 0, 0.65, 623, 176.16282348632816)\">\n",
       "<g fill=\"none\" stroke=\"#cccccc\" stroke-linecap=\"round\" stroke-linejoin=\"round\" stroke-opacity=\"1\" stroke-width=\"2.5\">\n",
       "  <path d=\"M -247.47500610351562 532.5941162109375 L -235.68959435916614 504.9591042754436\"/>\n",
       "</g> <!-- drawing style -->\n",
       "</g> <!-- transform -->\n",
       "<g transform=\"matrix(-0.6374599599266101, 1.4947474032392112, -1.4947474032392112, -0.6374599599266101, 462.14124603271483, 522.3489990234375)\">\n",
       "<g fill=\"#cccccc\" fill-opacity=\"1\" fill-rule=\"nonzero\" stroke=\"none\">\n",
       "  <path d=\"M -0.00000000000000009185 0.5 C 0.27614237491539656 0.5 0.49999999999999994 0.2761423749153968 0.5 0.00000000000000012246 C 0.5000000000000001 -0.27614237491539656 0.27614237491539684 -0.4999999999999999 0.00000000000000015308 -0.5 z\"/>\n",
       "</g> <!-- drawing style -->\n",
       "</g> <!-- transform -->\n",
       "<g transform=\"matrix(2.167363863750474, -5.082141171013317, 5.082141171013317, 2.167363863750474, 474.136491394043, 494.2219589233399)\">\n",
       "<g fill=\"#cccccc\" fill-opacity=\"1\" fill-rule=\"nonzero\" stroke=\"none\">\n",
       "  <path d=\"M -2 -0.5 L 0 0 L -2 0.5 z\"/>\n",
       "</g> <!-- drawing style -->\n",
       "</g> <!-- transform -->\n",
       "<g transform=\"matrix(0.65, 0, 0, 0.65, 623, 176.16282348632816)\">\n",
       "<g fill=\"none\" stroke=\"#cccccc\" stroke-linecap=\"round\" stroke-linejoin=\"round\" stroke-opacity=\"1\" stroke-width=\"2.5\">\n",
       "  <path d=\"M 467.6995849609375 723.5723266601562 L 245.33833809179214 639.7736912256906\"/>\n",
       "</g> <!-- drawing style -->\n",
       "</g> <!-- transform -->\n",
       "<g transform=\"matrix(1.5206039908227327, 0.5730519200683122, -0.5730519200683122, 1.5206039908227327, 927.0047302246094, 646.4848358154297)\">\n",
       "<g fill=\"#cccccc\" fill-opacity=\"1\" fill-rule=\"nonzero\" stroke=\"none\">\n",
       "  <path d=\"M -0.00000000000000009185 0.5 C 0.27614237491539656 0.5 0.49999999999999994 0.2761423749153968 0.5 0.00000000000000012246 C 0.5000000000000001 -0.27614237491539656 0.27614237491539684 -0.4999999999999999 0.00000000000000015308 -0.5 z\"/>\n",
       "</g> <!-- drawing style -->\n",
       "</g> <!-- transform -->\n",
       "<g transform=\"matrix(-5.17005356879729, -1.9483765282322614, 1.9483765282322614, -5.17005356879729, 772.1298126220703, 588.1189697265626)\">\n",
       "<g fill=\"#cccccc\" fill-opacity=\"1\" fill-rule=\"nonzero\" stroke=\"none\">\n",
       "  <path d=\"M -2 -0.5 L 0 0 L -2 0.5 z\"/>\n",
       "</g> <!-- drawing style -->\n",
       "</g> <!-- transform -->\n",
       "<g transform=\"matrix(0.65, 0, 0, 0.65, 623, 176.16282348632816)\">\n",
       "<g fill=\"none\" stroke=\"#cccccc\" stroke-linecap=\"round\" stroke-linejoin=\"round\" stroke-opacity=\"1\" stroke-width=\"2.5\">\n",
       "  <path d=\"M 466.7213439941406 632.006591796875 L 247.2318659966495 629.6828955897921\"/>\n",
       "</g> <!-- drawing style -->\n",
       "</g> <!-- transform -->\n",
       "<g transform=\"matrix(1.6249089419907397, 0.01720262301321834, -0.01720262301321834, 1.6249089419907397, 926.3688735961914, 586.967108154297)\">\n",
       "<g fill=\"#cccccc\" fill-opacity=\"1\" fill-rule=\"nonzero\" stroke=\"none\">\n",
       "  <path d=\"M -0.00000000000000009185 0.5 C 0.27614237491539656 0.5 0.49999999999999994 0.2761423749153968 0.5 0.00000000000000012246 C 0.5000000000000001 -0.27614237491539656 0.27614237491539684 -0.4999999999999999 0.00000000000000015308 -0.5 z\"/>\n",
       "</g> <!-- drawing style -->\n",
       "</g> <!-- transform -->\n",
       "<g transform=\"matrix(-5.524690402768515, -0.05848891824494236, 0.05848891824494236, -5.524690402768515, 772.6513320922852, 585.3397277832032)\">\n",
       "<g fill=\"#cccccc\" fill-opacity=\"1\" fill-rule=\"nonzero\" stroke=\"none\">\n",
       "  <path d=\"M -2 -0.5 L 0 0 L -2 0.5 z\"/>\n",
       "</g> <!-- drawing style -->\n",
       "</g> <!-- transform -->\n",
       "<g transform=\"matrix(0.65, 0, 0, 0.65, 623, 176.16282348632816)\">\n",
       "<g fill=\"none\" stroke=\"#cccccc\" stroke-linecap=\"round\" stroke-linejoin=\"round\" stroke-opacity=\"1\" stroke-width=\"2.5\">\n",
       "  <path d=\"M 465.87481689453125 679.7764282226562 L 246.643093953814 635.2431037263378\"/>\n",
       "</g> <!-- drawing style -->\n",
       "</g> <!-- transform -->\n",
       "<g transform=\"matrix(1.5924767291846558, 0.3234854973647824, -0.3234854973647824, 1.5924767291846558, 925.8186309814453, 618.0175018310547)\">\n",
       "<g fill=\"#cccccc\" fill-opacity=\"1\" fill-rule=\"nonzero\" stroke=\"none\">\n",
       "  <path d=\"M -0.00000000000000009185 0.5 C 0.27614237491539656 0.5 0.49999999999999994 0.2761423749153968 0.5 0.00000000000000012246 C 0.5000000000000001 -0.27614237491539656 0.27614237491539684 -0.4999999999999999 0.00000000000000015308 -0.5 z\"/>\n",
       "</g> <!-- drawing style -->\n",
       "</g> <!-- transform -->\n",
       "<g transform=\"matrix(-5.41442087922783, -1.0998506910402601, 1.0998506910402601, -5.41442087922783, 772.4891693115235, 586.8711395263672)\">\n",
       "<g fill=\"#cccccc\" fill-opacity=\"1\" fill-rule=\"nonzero\" stroke=\"none\">\n",
       "  <path d=\"M -2 -0.5 L 0 0 L -2 0.5 z\"/>\n",
       "</g> <!-- drawing style -->\n",
       "</g> <!-- transform -->\n",
       "<g transform=\"matrix(0.65, 0, 0, 0.65, 623, 176.16282348632816)\">\n",
       "<g fill=\"none\" stroke=\"#eb1b59\" stroke-linecap=\"round\" stroke-linejoin=\"round\" stroke-opacity=\"1\" stroke-width=\"4\">\n",
       "  <path d=\"M -128.98492431640625 -25.20022201538086 C -128.98492431640625 -19.401232142157532 -133.68592761159036 -14.70022201538086 -139.4849090576172 -14.70022201538086 C -145.28389050364402 -14.70022201538086 -149.98489379882812 -19.401232142157532 -149.98489379882812 -25.20022201538086 C -149.98489379882812 -30.99921188860419 -145.28389050364402 -35.70022201538086 -139.4849090576172 -35.70022201538086 C -133.68592761159036 -35.70022201538086 -128.98492431640625 -30.99921188860419 -128.98492431640625 -25.20022201538086 z\"/>\n",
       "</g> <!-- drawing style -->\n",
       "</g> <!-- transform -->\n",
       "<g transform=\"matrix(0.65, 0, 0, 0.65, 623, 176.16282348632816)\">\n",
       "<g fill=\"#67404a\" fill-opacity=\"1\" fill-rule=\"nonzero\" stroke=\"none\">\n",
       "  <path d=\"M -128.98492431640625 -25.20022201538086 C -128.98492431640625 -19.401232142157532 -133.68592761159036 -14.70022201538086 -139.4849090576172 -14.70022201538086 C -145.28389050364402 -14.70022201538086 -149.98489379882812 -19.401232142157532 -149.98489379882812 -25.20022201538086 C -149.98489379882812 -30.99921188860419 -145.28389050364402 -35.70022201538086 -139.4849090576172 -35.70022201538086 C -133.68592761159036 -35.70022201538086 -128.98492431640625 -30.99921188860419 -128.98492431640625 -25.20022201538086 z\"/>\n",
       "</g> <!-- drawing style -->\n",
       "</g> <!-- transform -->\n",
       "<g transform=\"matrix(0.65, 0, 0, 0.65, 540.4597991943359, 175.0881479263306)\">\n",
       "<text fill=\"#cccccc\" fill-opacity=\"1\" font-family=\"Helvetica\" font-size=\"16\" font-style=\"normal\" font-weight=\"normal\" stroke=\"none\" x=\"0\" y=\"0\">clojure.core/*err*</text>\n",
       "</g> <!-- transform -->\n",
       "<g transform=\"matrix(0.65, 0, 0, 0.65, 623, 176.16282348632816)\">\n",
       "<g fill=\"none\" stroke=\"#ff9800\" stroke-linecap=\"round\" stroke-linejoin=\"round\" stroke-opacity=\"1\" stroke-width=\"4\">\n",
       "  <path d=\"M -30.27081298828125 273.4174499511719 C -30.27081298828125 279.2164398243952 -34.97182311505792 283.9174499511719 -40.77081298828125 283.9174499511719 C -46.56980286150458 283.9174499511719 -51.27081298828125 279.2164398243952 -51.27081298828125 273.4174499511719 C -51.27081298828125 267.61846007794855 -46.56980286150458 262.9174499511719 -40.77081298828125 262.9174499511719 C -34.97182311505792 262.9174499511719 -30.27081298828125 267.61846007794855 -30.27081298828125 273.4174499511719 z\"/>\n",
       "</g> <!-- drawing style -->\n",
       "</g> <!-- transform -->\n",
       "<g transform=\"matrix(0.65, 0, 0, 0.65, 623, 176.16282348632816)\">\n",
       "<g fill=\"#685c49\" fill-opacity=\"1\" fill-rule=\"nonzero\" stroke=\"none\">\n",
       "  <path d=\"M -30.27081298828125 273.4174499511719 C -30.27081298828125 279.2164398243952 -34.97182311505792 283.9174499511719 -40.77081298828125 283.9174499511719 C -46.56980286150458 283.9174499511719 -51.27081298828125 279.2164398243952 -51.27081298828125 273.4174499511719 C -51.27081298828125 267.61846007794855 -46.56980286150458 262.9174499511719 -40.77081298828125 262.9174499511719 C -34.97182311505792 262.9174499511719 -30.27081298828125 267.61846007794855 -30.27081298828125 273.4174499511719 z\"/>\n",
       "</g> <!-- drawing style -->\n",
       "</g> <!-- transform -->\n",
       "<g transform=\"matrix(0.65, 0, 0, 0.65, 604.6239715576172, 369.1896347045899)\">\n",
       "<text fill=\"#cccccc\" fill-opacity=\"1\" font-family=\"Helvetica\" font-size=\"16\" font-style=\"normal\" font-weight=\"normal\" stroke=\"none\" x=\"0\" y=\"0\">topology.dependencies/sources </text>\n",
       "</g> <!-- transform -->\n",
       "<g transform=\"matrix(0.65, 0, 0, 0.65, 623, 176.16282348632816)\">\n",
       "<g fill=\"none\" stroke=\"#ff9800\" stroke-linecap=\"round\" stroke-linejoin=\"round\" stroke-opacity=\"1\" stroke-width=\"4\">\n",
       "  <path d=\"M -28.8365478515625 146.5892333984375 C -28.8365478515625 152.38822327166082 -33.53755797833917 157.0892333984375 -39.3365478515625 157.0892333984375 C -45.13553772478583 157.0892333984375 -49.8365478515625 152.38822327166082 -49.8365478515625 146.5892333984375 C -49.8365478515625 140.79024352521418 -45.13553772478583 136.0892333984375 -39.3365478515625 136.0892333984375 C -33.53755797833917 136.0892333984375 -28.8365478515625 140.79024352521418 -28.8365478515625 146.5892333984375 z\"/>\n",
       "</g> <!-- drawing style -->\n",
       "</g> <!-- transform -->\n",
       "<g transform=\"matrix(0.65, 0, 0, 0.65, 623, 176.16282348632816)\">\n",
       "<g fill=\"#685c49\" fill-opacity=\"1\" fill-rule=\"nonzero\" stroke=\"none\">\n",
       "  <path d=\"M -28.8365478515625 146.5892333984375 C -28.8365478515625 152.38822327166082 -33.53755797833917 157.0892333984375 -39.3365478515625 157.0892333984375 C -45.13553772478583 157.0892333984375 -49.8365478515625 152.38822327166082 -49.8365478515625 146.5892333984375 C -49.8365478515625 140.79024352521418 -45.13553772478583 136.0892333984375 -39.3365478515625 136.0892333984375 C -33.53755797833917 136.0892333984375 -28.8365478515625 140.79024352521418 -28.8365478515625 146.5892333984375 z\"/>\n",
       "</g> <!-- drawing style -->\n",
       "</g> <!-- transform -->\n",
       "<g transform=\"matrix(0.65, 0, 0, 0.65, 605.5562438964844, 286.7512939453125)\">\n",
       "<text fill=\"#cccccc\" fill-opacity=\"1\" font-family=\"Helvetica\" font-size=\"16\" font-style=\"normal\" font-weight=\"normal\" stroke=\"none\" x=\"0\" y=\"0\">topology.dependencies/interns </text>\n",
       "</g> <!-- transform -->\n",
       "<g transform=\"matrix(0.65, 0, 0, 0.65, 623, 176.16282348632816)\">\n",
       "<g fill=\"none\" stroke=\"#0278fd\" stroke-linecap=\"round\" stroke-linejoin=\"round\" stroke-opacity=\"1\" stroke-width=\"4\">\n",
       "  <path d=\"M 141.57308959960938 106.47274780273438 C 141.57308959960938 112.2717376759577 136.8720794728327 116.97274780273438 131.07308959960938 116.97274780273438 C 125.27409972638604 116.97274780273438 120.57308959960938 112.2717376759577 120.57308959960938 106.47274780273438 C 120.57308959960938 100.67375792951104 125.27409972638604 95.97274780273438 131.07308959960938 95.97274780273438 C 136.8720794728327 95.97274780273438 141.57308959960938 100.67375792951104 141.57308959960938 106.47274780273438 z\"/>\n",
       "</g> <!-- drawing style -->\n",
       "</g> <!-- transform -->\n",
       "<g transform=\"matrix(0.65, 0, 0, 0.65, 623, 176.16282348632816)\">\n",
       "<g fill=\"#294462\" fill-opacity=\"1\" fill-rule=\"nonzero\" stroke=\"none\">\n",
       "  <path d=\"M 141.57308959960938 106.47274780273438 C 141.57308959960938 112.2717376759577 136.8720794728327 116.97274780273438 131.07308959960938 116.97274780273438 C 125.27409972638604 116.97274780273438 120.57308959960938 112.2717376759577 120.57308959960938 106.47274780273438 C 120.57308959960938 100.67375792951104 125.27409972638604 95.97274780273438 131.07308959960938 95.97274780273438 C 136.8720794728327 95.97274780273438 141.57308959960938 100.67375792951104 141.57308959960938 106.47274780273438 z\"/>\n",
       "</g> <!-- drawing style -->\n",
       "</g> <!-- transform -->\n",
       "<g transform=\"matrix(0.65, 0, 0, 0.65, 716.3225082397461, 260.6755783081055)\">\n",
       "<text fill=\"#cccccc\" fill-opacity=\"1\" font-family=\"Helvetica\" font-size=\"16\" font-style=\"normal\" font-weight=\"normal\" stroke=\"none\" x=\"0\" y=\"0\">topology.symbols/symbols </text>\n",
       "</g> <!-- transform -->\n",
       "<g transform=\"matrix(0.65, 0, 0, 0.65, 623, 176.16282348632816)\">\n",
       "<g fill=\"none\" stroke=\"#ff9800\" stroke-linecap=\"round\" stroke-linejoin=\"round\" stroke-opacity=\"1\" stroke-width=\"4\">\n",
       "  <path d=\"M -30.27081298828125 198.350341796875 C -30.27081298828125 204.14933167009832 -34.97182311505792 208.850341796875 -40.77081298828125 208.850341796875 C -46.56980286150458 208.850341796875 -51.27081298828125 204.14933167009832 -51.27081298828125 198.350341796875 C -51.27081298828125 192.55135192365168 -46.56980286150458 187.850341796875 -40.77081298828125 187.850341796875 C -34.97182311505792 187.850341796875 -30.27081298828125 192.55135192365168 -30.27081298828125 198.350341796875 z\"/>\n",
       "</g> <!-- drawing style -->\n",
       "</g> <!-- transform -->\n",
       "<g transform=\"matrix(0.65, 0, 0, 0.65, 623, 176.16282348632816)\">\n",
       "<g fill=\"#685c49\" fill-opacity=\"1\" fill-rule=\"nonzero\" stroke=\"none\">\n",
       "  <path d=\"M -30.27081298828125 198.350341796875 C -30.27081298828125 204.14933167009832 -34.97182311505792 208.850341796875 -40.77081298828125 208.850341796875 C -46.56980286150458 208.850341796875 -51.27081298828125 204.14933167009832 -51.27081298828125 198.350341796875 C -51.27081298828125 192.55135192365168 -46.56980286150458 187.850341796875 -40.77081298828125 187.850341796875 C -34.97182311505792 187.850341796875 -30.27081298828125 192.55135192365168 -30.27081298828125 198.350341796875 z\"/>\n",
       "</g> <!-- drawing style -->\n",
       "</g> <!-- transform -->\n",
       "<g transform=\"matrix(0.65, 0, 0, 0.65, 604.6239715576172, 320.3960144042969)\">\n",
       "<text fill=\"#cccccc\" fill-opacity=\"1\" font-family=\"Helvetica\" font-size=\"16\" font-style=\"normal\" font-weight=\"normal\" stroke=\"none\" x=\"0\" y=\"0\">topology.dependencies/dependencies </text>\n",
       "</g> <!-- transform -->\n",
       "<g transform=\"matrix(0.65, 0, 0, 0.65, 623, 176.16282348632816)\">\n",
       "<g fill=\"none\" stroke=\"#ffff00\" stroke-linecap=\"round\" stroke-linejoin=\"round\" stroke-opacity=\"1\" stroke-width=\"4\">\n",
       "  <path d=\"M -17.14806365966797 378.0836486816406 C -17.14806365966797 383.88263855486395 -21.84907378644464 388.5836486816406 -27.64806365966797 388.5836486816406 C -33.447053532891296 388.5836486816406 -38.14806365966797 383.88263855486395 -38.14806365966797 378.0836486816406 C -38.14806365966797 372.2846588084173 -33.447053532891296 367.5836486816406 -27.64806365966797 367.5836486816406 C -21.84907378644464 367.5836486816406 -17.14806365966797 372.2846588084173 -17.14806365966797 378.0836486816406 z\"/>\n",
       "</g> <!-- drawing style -->\n",
       "</g> <!-- transform -->\n",
       "<g transform=\"matrix(0.65, 0, 0, 0.65, 623, 176.16282348632816)\">\n",
       "<g fill=\"#737360\" fill-opacity=\"1\" fill-rule=\"nonzero\" stroke=\"none\">\n",
       "  <path d=\"M -17.14806365966797 378.0836486816406 C -17.14806365966797 383.88263855486395 -21.84907378644464 388.5836486816406 -27.64806365966797 388.5836486816406 C -33.447053532891296 388.5836486816406 -38.14806365966797 383.88263855486395 -38.14806365966797 378.0836486816406 C -38.14806365966797 372.2846588084173 -33.447053532891296 367.5836486816406 -27.64806365966797 367.5836486816406 C -21.84907378644464 367.5836486816406 -17.14806365966797 372.2846588084173 -17.14806365966797 378.0836486816406 z\"/>\n",
       "</g> <!-- drawing style -->\n",
       "</g> <!-- transform -->\n",
       "<g transform=\"matrix(0.65, 0, 0, 0.65, 613.1537586212158, 437.2226638793946)\">\n",
       "<text fill=\"#cccccc\" fill-opacity=\"1\" font-family=\"Helvetica\" font-size=\"16\" font-style=\"normal\" font-weight=\"normal\" stroke=\"none\" x=\"0\" y=\"0\">topology.finder/clojurescript-file? </text>\n",
       "</g> <!-- transform -->\n",
       "<g transform=\"matrix(0.65, 0, 0, 0.65, 623, 176.16282348632816)\">\n",
       "<g fill=\"none\" stroke=\"#eb1b59\" stroke-linecap=\"round\" stroke-linejoin=\"round\" stroke-opacity=\"1\" stroke-width=\"4\">\n",
       "  <path d=\"M 31.354244232177734 461.1946716308594 C 31.354244232177734 466.9936615040827 26.653238375146415 471.6946716308594 20.8542537689209 471.6946716308594 C 15.055269162695382 471.6946716308594 10.354263305664062 466.9936615040827 10.354263305664062 461.1946716308594 C 10.354263305664062 455.39568175763605 15.055269162695382 450.6946716308594 20.8542537689209 450.6946716308594 C 26.653238375146415 450.6946716308594 31.354244232177734 455.39568175763605 31.354244232177734 461.1946716308594 z\"/>\n",
       "</g> <!-- drawing style -->\n",
       "</g> <!-- transform -->\n",
       "<g transform=\"matrix(0.65, 0, 0, 0.65, 623, 176.16282348632816)\">\n",
       "<g fill=\"#67404a\" fill-opacity=\"1\" fill-rule=\"nonzero\" stroke=\"none\">\n",
       "  <path d=\"M 31.354244232177734 461.1946716308594 C 31.354244232177734 466.9936615040827 26.653238375146415 471.6946716308594 20.8542537689209 471.6946716308594 C 15.055269162695382 471.6946716308594 10.354263305664062 466.9936615040827 10.354263305664062 461.1946716308594 C 10.354263305664062 455.39568175763605 15.055269162695382 450.6946716308594 20.8542537689209 450.6946716308594 C 26.653238375146415 450.6946716308594 31.354244232177734 455.39568175763605 31.354244232177734 461.1946716308594 z\"/>\n",
       "</g> <!-- drawing style -->\n",
       "</g> <!-- transform -->\n",
       "<g transform=\"matrix(0.65, 0, 0, 0.65, 644.6802612304688, 491.2448287963868)\">\n",
       "<text fill=\"#cccccc\" fill-opacity=\"1\" font-family=\"Helvetica\" font-size=\"16\" font-style=\"normal\" font-weight=\"normal\" stroke=\"none\" x=\"0\" y=\"0\">clojure.java.io/file</text>\n",
       "</g> <!-- transform -->\n",
       "<g transform=\"matrix(0.65, 0, 0, 0.65, 623, 176.16282348632816)\">\n",
       "<g fill=\"none\" stroke=\"#00ff2b\" stroke-linecap=\"round\" stroke-linejoin=\"round\" stroke-opacity=\"1\" stroke-width=\"4\">\n",
       "  <path d=\"M 173.59681701660156 422.3510437011719 C 173.59681701660156 428.1500335743952 168.89580688982488 432.8510437011719 163.09681701660156 432.8510437011719 C 157.29782714337824 432.8510437011719 152.59681701660156 428.1500335743952 152.59681701660156 422.3510437011719 C 152.59681701660156 416.55205382794855 157.29782714337824 411.8510437011719 163.09681701660156 411.8510437011719 C 168.89580688982488 411.8510437011719 173.59681701660156 416.55205382794855 173.59681701660156 422.3510437011719 z\"/>\n",
       "</g> <!-- drawing style -->\n",
       "</g> <!-- transform -->\n",
       "<g transform=\"matrix(0.65, 0, 0, 0.65, 623, 176.16282348632816)\">\n",
       "<g fill=\"#4a604e\" fill-opacity=\"1\" fill-rule=\"nonzero\" stroke=\"none\">\n",
       "  <path d=\"M 173.59681701660156 422.3510437011719 C 173.59681701660156 428.1500335743952 168.89580688982488 432.8510437011719 163.09681701660156 432.8510437011719 C 157.29782714337824 432.8510437011719 152.59681701660156 428.1500335743952 152.59681701660156 422.3510437011719 C 152.59681701660156 416.55205382794855 157.29782714337824 411.8510437011719 163.09681701660156 411.8510437011719 C 168.89580688982488 411.8510437011719 173.59681701660156 416.55205382794855 173.59681701660156 422.3510437011719 z\"/>\n",
       "</g> <!-- drawing style -->\n",
       "</g> <!-- transform -->\n",
       "<g transform=\"matrix(0.65, 0, 0, 0.65, 737.1379211425782, 465.99647064208983)\">\n",
       "<text fill=\"#cccccc\" fill-opacity=\"1\" font-family=\"Helvetica\" font-size=\"16\" font-style=\"normal\" font-weight=\"normal\" stroke=\"none\" x=\"0\" y=\"0\">clojure.tools.namespace.file/clojure-file? </text>\n",
       "</g> <!-- transform -->\n",
       "<g transform=\"matrix(0.65, 0, 0, 0.65, 623, 176.16282348632816)\">\n",
       "<g fill=\"none\" stroke=\"#ff9800\" stroke-linecap=\"round\" stroke-linejoin=\"round\" stroke-opacity=\"1\" stroke-width=\"4\">\n",
       "  <path d=\"M -605.2315673828125 354.1559753417969 C -605.2315673828125 359.9549652150202 -609.9325775095891 364.6559753417969 -615.7315673828125 364.6559753417969 C -621.5305572560359 364.6559753417969 -626.2315673828125 359.9549652150202 -626.2315673828125 354.1559753417969 C -626.2315673828125 348.35698546857355 -621.5305572560359 343.6559753417969 -615.7315673828125 343.6559753417969 C -609.9325775095891 343.6559753417969 -605.2315673828125 348.35698546857355 -605.2315673828125 354.1559753417969 z\"/>\n",
       "</g> <!-- drawing style -->\n",
       "</g> <!-- transform -->\n",
       "<g transform=\"matrix(0.65, 0, 0, 0.65, 623, 176.16282348632816)\">\n",
       "<g fill=\"#685c49\" fill-opacity=\"1\" fill-rule=\"nonzero\" stroke=\"none\">\n",
       "  <path d=\"M -605.2315673828125 354.1559753417969 C -605.2315673828125 359.9549652150202 -609.9325775095891 364.6559753417969 -615.7315673828125 364.6559753417969 C -621.5305572560359 364.6559753417969 -626.2315673828125 359.9549652150202 -626.2315673828125 354.1559753417969 C -626.2315673828125 348.35698546857355 -621.5305572560359 343.6559753417969 -615.7315673828125 343.6559753417969 C -609.9325775095891 343.6559753417969 -605.2315673828125 348.35698546857355 -605.2315673828125 354.1559753417969 z\"/>\n",
       "</g> <!-- drawing style -->\n",
       "</g> <!-- transform -->\n",
       "<g transform=\"matrix(0.65, 0, 0, 0.65, 230.89948120117185, 421.6696762084961)\">\n",
       "<text fill=\"#cccccc\" fill-opacity=\"1\" font-family=\"Helvetica\" font-size=\"16\" font-style=\"normal\" font-weight=\"normal\" stroke=\"none\" x=\"0\" y=\"0\">topology.dependencies/ns-&gt;fn-dep-map </text>\n",
       "</g> <!-- transform -->\n",
       "<g transform=\"matrix(0.65, 0, 0, 0.65, 623, 176.16282348632816)\">\n",
       "<g fill=\"none\" stroke=\"#c256fc\" stroke-linecap=\"round\" stroke-linejoin=\"round\" stroke-opacity=\"1\" stroke-width=\"4\">\n",
       "  <path d=\"M -527.5684204101562 196.2168426513672 C -527.5684204101562 202.0158325245905 -532.2694305369329 206.7168426513672 -538.0684204101562 206.7168426513672 C -543.8674102833796 206.7168426513672 -548.5684204101562 202.0158325245905 -548.5684204101562 196.2168426513672 C -548.5684204101562 190.41785277814387 -543.8674102833796 185.7168426513672 -538.0684204101562 185.7168426513672 C -532.2694305369329 185.7168426513672 -527.5684204101562 190.41785277814387 -527.5684204101562 196.2168426513672 z\"/>\n",
       "</g> <!-- drawing style -->\n",
       "</g> <!-- transform -->\n",
       "<g transform=\"matrix(0.65, 0, 0, 0.65, 623, 176.16282348632816)\">\n",
       "<g fill=\"#50395d\" fill-opacity=\"1\" fill-rule=\"nonzero\" stroke=\"none\">\n",
       "  <path d=\"M -527.5684204101562 196.2168426513672 C -527.5684204101562 202.0158325245905 -532.2694305369329 206.7168426513672 -538.0684204101562 206.7168426513672 C -543.8674102833796 206.7168426513672 -548.5684204101562 202.0158325245905 -548.5684204101562 196.2168426513672 C -548.5684204101562 190.41785277814387 -543.8674102833796 185.7168426513672 -538.0684204101562 185.7168426513672 C -532.2694305369329 185.7168426513672 -527.5684204101562 190.41785277814387 -527.5684204101562 196.2168426513672 z\"/>\n",
       "</g> <!-- drawing style -->\n",
       "</g> <!-- transform -->\n",
       "<g transform=\"matrix(0.65, 0, 0, 0.65, 281.3805267333984, 319.0092399597168)\">\n",
       "<text fill=\"#cccccc\" fill-opacity=\"1\" font-family=\"Helvetica\" font-size=\"16\" font-style=\"normal\" font-weight=\"normal\" stroke=\"none\" x=\"0\" y=\"0\">topology.qualifier/filter-fully-qualified </text>\n",
       "</g> <!-- transform -->\n",
       "<g transform=\"matrix(0.65, 0, 0, 0.65, 623, 176.16282348632816)\">\n",
       "<g fill=\"none\" stroke=\"#c256fc\" stroke-linecap=\"round\" stroke-linejoin=\"round\" stroke-opacity=\"1\" stroke-width=\"4\">\n",
       "  <path d=\"M -493.12286376953125 125.77229309082031 C -493.12286376953125 131.57128296404363 -497.82387389630793 136.2722930908203 -503.62286376953125 136.2722930908203 C -509.42185364275457 136.2722930908203 -514.1228637695312 131.57128296404363 -514.1228637695312 125.77229309082031 C -514.1228637695312 119.97330321759698 -509.42185364275457 115.27229309082031 -503.62286376953125 115.27229309082031 C -497.82387389630793 115.27229309082031 -493.12286376953125 119.97330321759698 -493.12286376953125 125.77229309082031 z\"/>\n",
       "</g> <!-- drawing style -->\n",
       "</g> <!-- transform -->\n",
       "<g transform=\"matrix(0.65, 0, 0, 0.65, 623, 176.16282348632816)\">\n",
       "<g fill=\"#50395d\" fill-opacity=\"1\" fill-rule=\"nonzero\" stroke=\"none\">\n",
       "  <path d=\"M -493.12286376953125 125.77229309082031 C -493.12286376953125 131.57128296404363 -497.82387389630793 136.2722930908203 -503.62286376953125 136.2722930908203 C -509.42185364275457 136.2722930908203 -514.1228637695312 131.57128296404363 -514.1228637695312 125.77229309082031 C -514.1228637695312 119.97330321759698 -509.42185364275457 115.27229309082031 -503.62286376953125 115.27229309082031 C -497.82387389630793 115.27229309082031 -493.12286376953125 119.97330321759698 -493.12286376953125 125.77229309082031 z\"/>\n",
       "</g> <!-- drawing style -->\n",
       "</g> <!-- transform -->\n",
       "<g transform=\"matrix(0.65, 0, 0, 0.65, 303.7701385498047, 273.2202827453614)\">\n",
       "<text fill=\"#cccccc\" fill-opacity=\"1\" font-family=\"Helvetica\" font-size=\"16\" font-style=\"normal\" font-weight=\"normal\" stroke=\"none\" x=\"0\" y=\"0\">topology.qualifier/all-fq</text>\n",
       "</g> <!-- transform -->\n",
       "<g transform=\"matrix(0.65, 0, 0, 0.65, 623, 176.16282348632816)\">\n",
       "<g fill=\"none\" stroke=\"#c256fc\" stroke-linecap=\"round\" stroke-linejoin=\"round\" stroke-opacity=\"1\" stroke-width=\"4\">\n",
       "  <path d=\"M -451.85687255859375 40.982757568359375 C -451.85687255859375 46.7817474415827 -456.55788268537043 51.482757568359375 -462.35687255859375 51.482757568359375 C -468.15586243181707 51.482757568359375 -472.85687255859375 46.7817474415827 -472.85687255859375 40.982757568359375 C -472.85687255859375 35.18376769513605 -468.15586243181707 30.482757568359375 -462.35687255859375 30.482757568359375 C -456.55788268537043 30.482757568359375 -451.85687255859375 35.18376769513605 -451.85687255859375 40.982757568359375 z\"/>\n",
       "</g> <!-- drawing style -->\n",
       "</g> <!-- transform -->\n",
       "<g transform=\"matrix(0.65, 0, 0, 0.65, 623, 176.16282348632816)\">\n",
       "<g fill=\"#50395d\" fill-opacity=\"1\" fill-rule=\"nonzero\" stroke=\"none\">\n",
       "  <path d=\"M -451.85687255859375 40.982757568359375 C -451.85687255859375 46.7817474415827 -456.55788268537043 51.482757568359375 -462.35687255859375 51.482757568359375 C -468.15586243181707 51.482757568359375 -472.85687255859375 46.7817474415827 -472.85687255859375 40.982757568359375 C -472.85687255859375 35.18376769513605 -468.15586243181707 30.482757568359375 -462.35687255859375 30.482757568359375 C -456.55788268537043 30.482757568359375 -451.85687255859375 35.18376769513605 -451.85687255859375 40.982757568359375 z\"/>\n",
       "</g> <!-- drawing style -->\n",
       "</g> <!-- transform -->\n",
       "<g transform=\"matrix(0.65, 0, 0, 0.65, 330.59303283691406, 218.10708465576175)\">\n",
       "<text fill=\"#cccccc\" fill-opacity=\"1\" font-family=\"Helvetica\" font-size=\"16\" font-style=\"normal\" font-weight=\"normal\" stroke=\"none\" x=\"0\" y=\"0\">topology.qualifier/fq-ns</text>\n",
       "</g> <!-- transform -->\n",
       "<g transform=\"matrix(0.65, 0, 0, 0.65, 623, 176.16282348632816)\">\n",
       "<g fill=\"none\" stroke=\"#eb1b59\" stroke-linecap=\"round\" stroke-linejoin=\"round\" stroke-opacity=\"1\" stroke-width=\"4\">\n",
       "  <path d=\"M -760.653564453125 -57.83860778808594 C -760.653564453125 -52.03961791486261 -765.3545745799016 -47.33860778808594 -771.153564453125 -47.33860778808594 C -776.9525543263484 -47.33860778808594 -781.653564453125 -52.03961791486261 -781.653564453125 -57.83860778808594 C -781.653564453125 -63.637597661309265 -776.9525543263484 -68.33860778808594 -771.153564453125 -68.33860778808594 C -765.3545745799016 -68.33860778808594 -760.653564453125 -63.637597661309265 -760.653564453125 -57.83860778808594 z\"/>\n",
       "</g> <!-- drawing style -->\n",
       "</g> <!-- transform -->\n",
       "<g transform=\"matrix(0.65, 0, 0, 0.65, 623, 176.16282348632816)\">\n",
       "<g fill=\"#67404a\" fill-opacity=\"1\" fill-rule=\"nonzero\" stroke=\"none\">\n",
       "  <path d=\"M -760.653564453125 -57.83860778808594 C -760.653564453125 -52.03961791486261 -765.3545745799016 -47.33860778808594 -771.153564453125 -47.33860778808594 C -776.9525543263484 -47.33860778808594 -781.653564453125 -52.03961791486261 -781.653564453125 -57.83860778808594 C -781.653564453125 -63.637597661309265 -776.9525543263484 -68.33860778808594 -771.153564453125 -68.33860778808594 C -765.3545745799016 -68.33860778808594 -760.653564453125 -63.637597661309265 -760.653564453125 -57.83860778808594 z\"/>\n",
       "</g> <!-- drawing style -->\n",
       "</g> <!-- transform -->\n",
       "<g transform=\"matrix(0.65, 0, 0, 0.65, 129.87518310546872, 153.8731971740723)\">\n",
       "<text fill=\"#cccccc\" fill-opacity=\"1\" font-family=\"Helvetica\" font-size=\"16\" font-style=\"normal\" font-weight=\"normal\" stroke=\"none\" x=\"0\" y=\"0\">topology.printer/print-weighted-edges </text>\n",
       "</g> <!-- transform -->\n",
       "<g transform=\"matrix(0.65, 0, 0, 0.65, 623, 176.16282348632816)\">\n",
       "<g fill=\"none\" stroke=\"#eb1b59\" stroke-linecap=\"round\" stroke-linejoin=\"round\" stroke-opacity=\"1\" stroke-width=\"4\">\n",
       "  <path d=\"M -758.8216552734375 -145.40447998046875 C -758.8216552734375 -139.60549010724543 -763.5226654002141 -134.90447998046875 -769.3216552734375 -134.90447998046875 C -775.1206451466609 -134.90447998046875 -779.8216552734375 -139.60549010724543 -779.8216552734375 -145.40447998046875 C -779.8216552734375 -151.20346985369207 -775.1206451466609 -155.90447998046875 -769.3216552734375 -155.90447998046875 C -763.5226654002141 -155.90447998046875 -758.8216552734375 -151.20346985369207 -758.8216552734375 -145.40447998046875 z\"/>\n",
       "</g> <!-- drawing style -->\n",
       "</g> <!-- transform -->\n",
       "<g transform=\"matrix(0.65, 0, 0, 0.65, 623, 176.16282348632816)\">\n",
       "<g fill=\"#67404a\" fill-opacity=\"1\" fill-rule=\"nonzero\" stroke=\"none\">\n",
       "  <path d=\"M -758.8216552734375 -145.40447998046875 C -758.8216552734375 -139.60549010724543 -763.5226654002141 -134.90447998046875 -769.3216552734375 -134.90447998046875 C -775.1206451466609 -134.90447998046875 -779.8216552734375 -139.60549010724543 -779.8216552734375 -145.40447998046875 C -779.8216552734375 -151.20346985369207 -775.1206451466609 -155.90447998046875 -769.3216552734375 -155.90447998046875 C -763.5226654002141 -155.90447998046875 -758.8216552734375 -151.20346985369207 -758.8216552734375 -145.40447998046875 z\"/>\n",
       "</g> <!-- drawing style -->\n",
       "</g> <!-- transform -->\n",
       "<g transform=\"matrix(0.65, 0, 0, 0.65, 131.06592407226563, 96.95538024902348)\">\n",
       "<text fill=\"#cccccc\" fill-opacity=\"1\" font-family=\"Helvetica\" font-size=\"16\" font-style=\"normal\" font-weight=\"normal\" stroke=\"none\" x=\"0\" y=\"0\">clojure.core/println</text>\n",
       "</g> <!-- transform -->\n",
       "<g transform=\"matrix(0.65, 0, 0, 0.65, 623, 176.16282348632816)\">\n",
       "<g fill=\"none\" stroke=\"#0278fd\" stroke-linecap=\"round\" stroke-linejoin=\"round\" stroke-opacity=\"1\" stroke-width=\"4\">\n",
       "  <path d=\"M 237.45352172851562 53.25585174560547 C 237.45352172851562 59.054841618828796 232.75251160173895 63.75585174560547 226.95352172851562 63.75585174560547 C 221.1545318552923 63.75585174560547 216.45352172851562 59.054841618828796 216.45352172851562 53.25585174560547 C 216.45352172851562 47.45686187238214 221.1545318552923 42.75585174560547 226.95352172851562 42.75585174560547 C 232.75251160173895 42.75585174560547 237.45352172851562 47.45686187238214 237.45352172851562 53.25585174560547 z\"/>\n",
       "</g> <!-- drawing style -->\n",
       "</g> <!-- transform -->\n",
       "<g transform=\"matrix(0.65, 0, 0, 0.65, 623, 176.16282348632816)\">\n",
       "<g fill=\"#294462\" fill-opacity=\"1\" fill-rule=\"nonzero\" stroke=\"none\">\n",
       "  <path d=\"M 237.45352172851562 53.25585174560547 C 237.45352172851562 59.054841618828796 232.75251160173895 63.75585174560547 226.95352172851562 63.75585174560547 C 221.1545318552923 63.75585174560547 216.45352172851562 59.054841618828796 216.45352172851562 53.25585174560547 C 216.45352172851562 47.45686187238214 221.1545318552923 42.75585174560547 226.95352172851562 42.75585174560547 C 232.75251160173895 42.75585174560547 237.45352172851562 47.45686187238214 237.45352172851562 53.25585174560547 z\"/>\n",
       "</g> <!-- drawing style -->\n",
       "</g> <!-- transform -->\n",
       "<g transform=\"matrix(0.65, 0, 0, 0.65, 778.6447891235351, 226.08459587097173)\">\n",
       "<text fill=\"#cccccc\" fill-opacity=\"1\" font-family=\"Helvetica\" font-size=\"16\" font-style=\"normal\" font-weight=\"normal\" stroke=\"none\" x=\"0\" y=\"0\">topology.symbols/zip-nodes </text>\n",
       "</g> <!-- transform -->\n",
       "<g transform=\"matrix(0.65, 0, 0, 0.65, 623, 176.16282348632816)\">\n",
       "<g fill=\"none\" stroke=\"#0278fd\" stroke-linecap=\"round\" stroke-linejoin=\"round\" stroke-opacity=\"1\" stroke-width=\"4\">\n",
       "  <path d=\"M 312.3438720703125 9.32262396812439 C 312.3438720703125 15.121613841347717 307.6428619435358 19.82262396812439 301.8438720703125 19.82262396812439 C 296.0448821970892 19.82262396812439 291.3438720703125 15.121613841347717 291.3438720703125 9.32262396812439 C 291.3438720703125 3.52363409490106 296.0448821970892 -1.1773760318756104 301.8438720703125 -1.1773760318756104 C 307.6428619435358 -1.1773760318756104 312.3438720703125 3.52363409490106 312.3438720703125 9.32262396812439 z\"/>\n",
       "</g> <!-- drawing style -->\n",
       "</g> <!-- transform -->\n",
       "<g transform=\"matrix(0.65, 0, 0, 0.65, 623, 176.16282348632816)\">\n",
       "<g fill=\"#294462\" fill-opacity=\"1\" fill-rule=\"nonzero\" stroke=\"none\">\n",
       "  <path d=\"M 312.3438720703125 9.32262396812439 C 312.3438720703125 15.121613841347717 307.6428619435358 19.82262396812439 301.8438720703125 19.82262396812439 C 296.0448821970892 19.82262396812439 291.3438720703125 15.121613841347717 291.3438720703125 9.32262396812439 C 291.3438720703125 3.52363409490106 296.0448821970892 -1.1773760318756104 301.8438720703125 -1.1773760318756104 C 307.6428619435358 -1.1773760318756104 312.3438720703125 3.52363409490106 312.3438720703125 9.32262396812439 z\"/>\n",
       "</g> <!-- drawing style -->\n",
       "</g> <!-- transform -->\n",
       "<g transform=\"matrix(0.65, 0, 0, 0.65, 827.3235168457031, 197.52799797058108)\">\n",
       "<text fill=\"#cccccc\" fill-opacity=\"1\" font-family=\"Helvetica\" font-size=\"16\" font-style=\"normal\" font-weight=\"normal\" stroke=\"none\" x=\"0\" y=\"0\">topology.symbols/seq-map-zip </text>\n",
       "</g> <!-- transform -->\n",
       "<g transform=\"matrix(0.65, 0, 0, 0.65, 623, 176.16282348632816)\">\n",
       "<g fill=\"none\" stroke=\"#00ff2b\" stroke-linecap=\"round\" stroke-linejoin=\"round\" stroke-opacity=\"1\" stroke-width=\"4\">\n",
       "  <path d=\"M 565.9481201171875 36.78691482543945 C 565.9481201171875 42.58590469866278 561.2471099904109 47.28691482543945 555.4481201171875 47.28691482543945 C 549.6491302439641 47.28691482543945 544.9481201171875 42.58590469866278 544.9481201171875 36.78691482543945 C 544.9481201171875 30.987924952216122 549.6491302439641 26.286914825439453 555.4481201171875 26.286914825439453 C 561.2471099904109 26.286914825439453 565.9481201171875 30.987924952216122 565.9481201171875 36.78691482543945 z\"/>\n",
       "</g> <!-- drawing style -->\n",
       "</g> <!-- transform -->\n",
       "<g transform=\"matrix(0.65, 0, 0, 0.65, 623, 176.16282348632816)\">\n",
       "<g fill=\"#4a604e\" fill-opacity=\"1\" fill-rule=\"nonzero\" stroke=\"none\">\n",
       "  <path d=\"M 565.9481201171875 36.78691482543945 C 565.9481201171875 42.58590469866278 561.2471099904109 47.28691482543945 555.4481201171875 47.28691482543945 C 549.6491302439641 47.28691482543945 544.9481201171875 42.58590469866278 544.9481201171875 36.78691482543945 C 544.9481201171875 30.987924952216122 549.6491302439641 26.286914825439453 555.4481201171875 26.286914825439453 C 561.2471099904109 26.286914825439453 565.9481201171875 30.987924952216122 565.9481201171875 36.78691482543945 z\"/>\n",
       "</g> <!-- drawing style -->\n",
       "</g> <!-- transform -->\n",
       "<g transform=\"matrix(0.65, 0, 0, 0.65, 992.1662780761718, 215.3797868728638)\">\n",
       "<text fill=\"#cccccc\" fill-opacity=\"1\" font-family=\"Helvetica\" font-size=\"16\" font-style=\"normal\" font-weight=\"normal\" stroke=\"none\" x=\"0\" y=\"0\">clojure.zip/end?</text>\n",
       "</g> <!-- transform -->\n",
       "<g transform=\"matrix(0.65, 0, 0, 0.65, 623, 176.16282348632816)\">\n",
       "<g fill=\"none\" stroke=\"#00ff2b\" stroke-linecap=\"round\" stroke-linejoin=\"round\" stroke-opacity=\"1\" stroke-width=\"4\">\n",
       "  <path d=\"M 295.7271423339844 267.4034729003906 C 295.7271423339844 273.20246277361395 291.0261322072077 277.9034729003906 285.2271423339844 277.9034729003906 C 279.42815246076105 277.9034729003906 274.7271423339844 273.20246277361395 274.7271423339844 267.4034729003906 C 274.7271423339844 261.6044830271673 279.42815246076105 256.9034729003906 285.2271423339844 256.9034729003906 C 291.0261322072077 256.9034729003906 295.7271423339844 261.6044830271673 295.7271423339844 267.4034729003906 z\"/>\n",
       "</g> <!-- drawing style -->\n",
       "</g> <!-- transform -->\n",
       "<g transform=\"matrix(0.65, 0, 0, 0.65, 623, 176.16282348632816)\">\n",
       "<g fill=\"#4a604e\" fill-opacity=\"1\" fill-rule=\"nonzero\" stroke=\"none\">\n",
       "  <path d=\"M 295.7271423339844 267.4034729003906 C 295.7271423339844 273.20246277361395 291.0261322072077 277.9034729003906 285.2271423339844 277.9034729003906 C 279.42815246076105 277.9034729003906 274.7271423339844 273.20246277361395 274.7271423339844 267.4034729003906 C 274.7271423339844 261.6044830271673 279.42815246076105 256.9034729003906 285.2271423339844 256.9034729003906 C 291.0261322072077 256.9034729003906 295.7271423339844 261.6044830271673 295.7271423339844 267.4034729003906 z\"/>\n",
       "</g> <!-- drawing style -->\n",
       "</g> <!-- transform -->\n",
       "<g transform=\"matrix(0.65, 0, 0, 0.65, 816.5226425170898, 365.28054962158205)\">\n",
       "<text fill=\"#cccccc\" fill-opacity=\"1\" font-family=\"Helvetica\" font-size=\"16\" font-style=\"normal\" font-weight=\"normal\" stroke=\"none\" x=\"0\" y=\"0\">clojure.repl/source-fn</text>\n",
       "</g> <!-- transform -->\n",
       "<g transform=\"matrix(0.65, 0, 0, 0.65, 623, 176.16282348632816)\">\n",
       "<g fill=\"none\" stroke=\"#00ff2b\" stroke-linecap=\"round\" stroke-linejoin=\"round\" stroke-opacity=\"1\" stroke-width=\"4\">\n",
       "  <path d=\"M 565.9481201171875 132.4499969482422 C 565.9481201171875 138.2489868214655 561.2471099904109 142.9499969482422 555.4481201171875 142.9499969482422 C 549.6491302439641 142.9499969482422 544.9481201171875 138.2489868214655 544.9481201171875 132.4499969482422 C 544.9481201171875 126.65100707501885 549.6491302439641 121.94999694824219 555.4481201171875 121.94999694824219 C 561.2471099904109 121.94999694824219 565.9481201171875 126.65100707501885 565.9481201171875 132.4499969482422 z\"/>\n",
       "</g> <!-- drawing style -->\n",
       "</g> <!-- transform -->\n",
       "<g transform=\"matrix(0.65, 0, 0, 0.65, 623, 176.16282348632816)\">\n",
       "<g fill=\"#4a604e\" fill-opacity=\"1\" fill-rule=\"nonzero\" stroke=\"none\">\n",
       "  <path d=\"M 565.9481201171875 132.4499969482422 C 565.9481201171875 138.2489868214655 561.2471099904109 142.9499969482422 555.4481201171875 142.9499969482422 C 549.6491302439641 142.9499969482422 544.9481201171875 138.2489868214655 544.9481201171875 132.4499969482422 C 544.9481201171875 126.65100707501885 549.6491302439641 121.94999694824219 555.4481201171875 121.94999694824219 C 561.2471099904109 121.94999694824219 565.9481201171875 126.65100707501885 565.9481201171875 132.4499969482422 z\"/>\n",
       "</g> <!-- drawing style -->\n",
       "</g> <!-- transform -->\n",
       "<g transform=\"matrix(0.65, 0, 0, 0.65, 992.1662780761719, 277.5607902526856)\">\n",
       "<text fill=\"#cccccc\" fill-opacity=\"1\" font-family=\"Helvetica\" font-size=\"16\" font-style=\"normal\" font-weight=\"normal\" stroke=\"none\" x=\"0\" y=\"0\">clojure.zip/node</text>\n",
       "</g> <!-- transform -->\n",
       "<g transform=\"matrix(0.65, 0, 0, 0.65, 623, 176.16282348632816)\">\n",
       "<g fill=\"none\" stroke=\"#00ff2b\" stroke-linecap=\"round\" stroke-linejoin=\"round\" stroke-opacity=\"1\" stroke-width=\"4\">\n",
       "  <path d=\"M 565.9481201171875 -11.04462718963623 C 565.9481201171875 -5.245637843112682 561.2471099904109 -0.5446281433105469 555.4481201171875 -0.5446281433105469 C 549.6491302439641 -0.5446281433105469 544.9481201171875 -5.245637843112682 544.9481201171875 -11.04462718963623 C 544.9481201171875 -16.84361653615978 549.6491302439641 -21.544626235961914 555.4481201171875 -21.544626235961914 C 561.2471099904109 -21.544626235961914 565.9481201171875 -16.84361653615978 565.9481201171875 -11.04462718963623 z\"/>\n",
       "</g> <!-- drawing style -->\n",
       "</g> <!-- transform -->\n",
       "<g transform=\"matrix(0.65, 0, 0, 0.65, 623, 176.16282348632816)\">\n",
       "<g fill=\"#4a604e\" fill-opacity=\"1\" fill-rule=\"nonzero\" stroke=\"none\">\n",
       "  <path d=\"M 565.9481201171875 -11.04462718963623 C 565.9481201171875 -5.245637843112682 561.2471099904109 -0.5446281433105469 555.4481201171875 -0.5446281433105469 C 549.6491302439641 -0.5446281433105469 544.9481201171875 -5.245637843112682 544.9481201171875 -11.04462718963623 C 544.9481201171875 -16.84361653615978 549.6491302439641 -21.544626235961914 555.4481201171875 -21.544626235961914 C 561.2471099904109 -21.544626235961914 565.9481201171875 -16.84361653615978 565.9481201171875 -11.04462718963623 z\"/>\n",
       "</g> <!-- drawing style -->\n",
       "</g> <!-- transform -->\n",
       "<g transform=\"matrix(0.65, 0, 0, 0.65, 992.1662780761719, 184.2892839431763)\">\n",
       "<text fill=\"#cccccc\" fill-opacity=\"1\" font-family=\"Helvetica\" font-size=\"16\" font-style=\"normal\" font-weight=\"normal\" stroke=\"none\" x=\"0\" y=\"0\">clojure.zip/zipper</text>\n",
       "</g> <!-- transform -->\n",
       "<g transform=\"matrix(0.65, 0, 0, 0.65, 623, 176.16282348632816)\">\n",
       "<g fill=\"none\" stroke=\"#00ff2b\" stroke-linecap=\"round\" stroke-linejoin=\"round\" stroke-opacity=\"1\" stroke-width=\"4\">\n",
       "  <path d=\"M 565.9481201171875 84.61845397949219 C 565.9481201171875 90.41744385271551 561.2471099904109 95.11845397949219 555.4481201171875 95.11845397949219 C 549.6491302439641 95.11845397949219 544.9481201171875 90.41744385271551 544.9481201171875 84.61845397949219 C 544.9481201171875 78.81946410626885 549.6491302439641 74.11845397949219 555.4481201171875 74.11845397949219 C 561.2471099904109 74.11845397949219 565.9481201171875 78.81946410626885 565.9481201171875 84.61845397949219 z\"/>\n",
       "</g> <!-- drawing style -->\n",
       "</g> <!-- transform -->\n",
       "<g transform=\"matrix(0.65, 0, 0, 0.65, 623, 176.16282348632816)\">\n",
       "<g fill=\"#4a604e\" fill-opacity=\"1\" fill-rule=\"nonzero\" stroke=\"none\">\n",
       "  <path d=\"M 565.9481201171875 84.61845397949219 C 565.9481201171875 90.41744385271551 561.2471099904109 95.11845397949219 555.4481201171875 95.11845397949219 C 549.6491302439641 95.11845397949219 544.9481201171875 90.41744385271551 544.9481201171875 84.61845397949219 C 544.9481201171875 78.81946410626885 549.6491302439641 74.11845397949219 555.4481201171875 74.11845397949219 C 561.2471099904109 74.11845397949219 565.9481201171875 78.81946410626885 565.9481201171875 84.61845397949219 z\"/>\n",
       "</g> <!-- drawing style -->\n",
       "</g> <!-- transform -->\n",
       "<g transform=\"matrix(0.65, 0, 0, 0.65, 992.1662780761719, 246.47028732299808)\">\n",
       "<text fill=\"#cccccc\" fill-opacity=\"1\" font-family=\"Helvetica\" font-size=\"16\" font-style=\"normal\" font-weight=\"normal\" stroke=\"none\" x=\"0\" y=\"0\">clojure.zip/next</text>\n",
       "</g> <!-- transform -->\n",
       "<g transform=\"matrix(0.65, 0, 0, 0.65, 623, 176.16282348632816)\">\n",
       "<g fill=\"none\" stroke=\"#ff9800\" stroke-linecap=\"round\" stroke-linejoin=\"round\" stroke-opacity=\"1\" stroke-width=\"4\">\n",
       "  <path d=\"M 567.5765380859375 329.9967041015625 C 567.5765380859375 335.7956939747858 562.8755279591609 340.4967041015625 557.0765380859375 340.4967041015625 C 551.2775482127141 340.4967041015625 546.5765380859375 335.7956939747858 546.5765380859375 329.9967041015625 C 546.5765380859375 324.1977142283392 551.2775482127141 319.4967041015625 557.0765380859375 319.4967041015625 C 562.8755279591609 319.4967041015625 567.5765380859375 324.1977142283392 567.5765380859375 329.9967041015625 z\"/>\n",
       "</g> <!-- drawing style -->\n",
       "</g> <!-- transform -->\n",
       "<g transform=\"matrix(0.65, 0, 0, 0.65, 623, 176.16282348632816)\">\n",
       "<g fill=\"#685c49\" fill-opacity=\"1\" fill-rule=\"nonzero\" stroke=\"none\">\n",
       "  <path d=\"M 567.5765380859375 329.9967041015625 C 567.5765380859375 335.7956939747858 562.8755279591609 340.4967041015625 557.0765380859375 340.4967041015625 C 551.2775482127141 340.4967041015625 546.5765380859375 335.7956939747858 546.5765380859375 329.9967041015625 C 546.5765380859375 324.1977142283392 551.2775482127141 319.4967041015625 557.0765380859375 319.4967041015625 C 562.8755279591609 319.4967041015625 567.5765380859375 324.1977142283392 567.5765380859375 329.9967041015625 z\"/>\n",
       "</g> <!-- drawing style -->\n",
       "</g> <!-- transform -->\n",
       "<g transform=\"matrix(0.65, 0, 0, 0.65, 993.2247497558594, 405.9661499023438)\">\n",
       "<text fill=\"#cccccc\" fill-opacity=\"1\" font-family=\"Helvetica\" font-size=\"16\" font-style=\"normal\" font-weight=\"normal\" stroke=\"none\" x=\"0\" y=\"0\">topology.dependencies-test/should-compute-fn-calls-in-namespace </text>\n",
       "</g> <!-- transform -->\n",
       "<g transform=\"matrix(0.65, 0, 0, 0.65, 623, 176.16282348632816)\">\n",
       "<g fill=\"none\" stroke=\"#00ff2b\" stroke-linecap=\"round\" stroke-linejoin=\"round\" stroke-opacity=\"1\" stroke-width=\"4\">\n",
       "  <path d=\"M -754.3380737304688 716.8001708984375 C -754.3380737304688 722.5991607716609 -759.0390838572454 727.3001708984375 -764.8380737304688 727.3001708984375 C -770.6370636036921 727.3001708984375 -775.3380737304688 722.5991607716609 -775.3380737304688 716.8001708984375 C -775.3380737304688 711.0011810252141 -770.6370636036921 706.3001708984375 -764.8380737304688 706.3001708984375 C -759.0390838572454 706.3001708984375 -754.3380737304688 711.0011810252141 -754.3380737304688 716.8001708984375 z\"/>\n",
       "</g> <!-- drawing style -->\n",
       "</g> <!-- transform -->\n",
       "<g transform=\"matrix(0.65, 0, 0, 0.65, 623, 176.16282348632816)\">\n",
       "<g fill=\"#4a604e\" fill-opacity=\"1\" fill-rule=\"nonzero\" stroke=\"none\">\n",
       "  <path d=\"M -754.3380737304688 716.8001708984375 C -754.3380737304688 722.5991607716609 -759.0390838572454 727.3001708984375 -764.8380737304688 727.3001708984375 C -770.6370636036921 727.3001708984375 -775.3380737304688 722.5991607716609 -775.3380737304688 716.8001708984375 C -775.3380737304688 711.0011810252141 -770.6370636036921 706.3001708984375 -764.8380737304688 706.3001708984375 C -759.0390838572454 706.3001708984375 -754.3380737304688 711.0011810252141 -754.3380737304688 716.8001708984375 z\"/>\n",
       "</g> <!-- drawing style -->\n",
       "</g> <!-- transform -->\n",
       "<g transform=\"matrix(0.65, 0, 0, 0.65, 133.98025207519527, 657.3884033203126)\">\n",
       "<text fill=\"#cccccc\" fill-opacity=\"1\" font-family=\"Helvetica\" font-size=\"16\" font-style=\"normal\" font-weight=\"normal\" stroke=\"none\" x=\"0\" y=\"0\">leiningen.core.eval/eval-in-project </text>\n",
       "</g> <!-- transform -->\n",
       "<g transform=\"matrix(0.65, 0, 0, 0.65, 623, 176.16282348632816)\">\n",
       "<g fill=\"none\" stroke=\"#00ff2b\" stroke-linecap=\"round\" stroke-linejoin=\"round\" stroke-opacity=\"1\" stroke-width=\"4\">\n",
       "  <path d=\"M -712.29345703125 564.3525390625 C -712.29345703125 570.1515289357234 -716.9944671580266 574.8525390625 -722.79345703125 574.8525390625 C -728.5924469044734 574.8525390625 -733.29345703125 570.1515289357234 -733.29345703125 564.3525390625 C -733.29345703125 558.5535491892766 -728.5924469044734 553.8525390625 -722.79345703125 553.8525390625 C -716.9944671580266 553.8525390625 -712.29345703125 558.5535491892766 -712.29345703125 564.3525390625 z\"/>\n",
       "</g> <!-- drawing style -->\n",
       "</g> <!-- transform -->\n",
       "<g transform=\"matrix(0.65, 0, 0, 0.65, 623, 176.16282348632816)\">\n",
       "<g fill=\"#4a604e\" fill-opacity=\"1\" fill-rule=\"nonzero\" stroke=\"none\">\n",
       "  <path d=\"M -712.29345703125 564.3525390625 C -712.29345703125 570.1515289357234 -716.9944671580266 574.8525390625 -722.79345703125 574.8525390625 C -728.5924469044734 574.8525390625 -733.29345703125 570.1515289357234 -733.29345703125 564.3525390625 C -733.29345703125 558.5535491892766 -728.5924469044734 553.8525390625 -722.79345703125 553.8525390625 C -716.9944671580266 553.8525390625 -712.29345703125 558.5535491892766 -712.29345703125 564.3525390625 z\"/>\n",
       "</g> <!-- drawing style -->\n",
       "</g> <!-- transform -->\n",
       "<g transform=\"matrix(0.65, 0, 0, 0.65, 161.3092529296875, 558.2974426269532)\">\n",
       "<text fill=\"#cccccc\" fill-opacity=\"1\" font-family=\"Helvetica\" font-size=\"16\" font-style=\"normal\" font-weight=\"normal\" stroke=\"none\" x=\"0\" y=\"0\">topology.edgelist/dirs-&gt;fn-edges </text>\n",
       "</g> <!-- transform -->\n",
       "<g transform=\"matrix(0.65, 0, 0, 0.65, 623, 176.16282348632816)\">\n",
       "<g fill=\"none\" stroke=\"#ffffff\" stroke-linecap=\"round\" stroke-linejoin=\"round\" stroke-opacity=\"1\" stroke-width=\"4\">\n",
       "  <path d=\"M -755.8135375976562 648.727783203125 C -755.8135375976562 654.5267730763484 -760.5145477244329 659.227783203125 -766.3135375976562 659.227783203125 C -772.1125274708796 659.227783203125 -776.8135375976562 654.5267730763484 -776.8135375976562 648.727783203125 C -776.8135375976562 642.9287933299016 -772.1125274708796 638.227783203125 -766.3135375976562 638.227783203125 C -760.5145477244329 638.227783203125 -755.8135375976562 642.9287933299016 -755.8135375976562 648.727783203125 z\"/>\n",
       "</g> <!-- drawing style -->\n",
       "</g> <!-- transform -->\n",
       "<g transform=\"matrix(0.65, 0, 0, 0.65, 623, 176.16282348632816)\">\n",
       "<g fill=\"#8d8d8d\" fill-opacity=\"1\" fill-rule=\"nonzero\" stroke=\"none\">\n",
       "  <path d=\"M -755.8135375976562 648.727783203125 C -755.8135375976562 654.5267730763484 -760.5145477244329 659.227783203125 -766.3135375976562 659.227783203125 C -772.1125274708796 659.227783203125 -776.8135375976562 654.5267730763484 -776.8135375976562 648.727783203125 C -776.8135375976562 642.9287933299016 -772.1125274708796 638.227783203125 -766.3135375976562 638.227783203125 C -760.5145477244329 638.227783203125 -755.8135375976562 642.9287933299016 -755.8135375976562 648.727783203125 z\"/>\n",
       "</g> <!-- drawing style -->\n",
       "</g> <!-- transform -->\n",
       "<g transform=\"matrix(0.65, 0, 0, 0.65, 133.02120056152341, 613.1413513183595)\">\n",
       "<text fill=\"#cccccc\" fill-opacity=\"1\" font-family=\"Helvetica\" font-size=\"16\" font-style=\"normal\" font-weight=\"normal\" stroke=\"none\" x=\"0\" y=\"0\">leiningen.topology/topology </text>\n",
       "</g> <!-- transform -->\n",
       "<g transform=\"matrix(0.65, 0, 0, 0.65, 623, 176.16282348632816)\">\n",
       "<g fill=\"none\" stroke=\"#ffff00\" stroke-linecap=\"round\" stroke-linejoin=\"round\" stroke-opacity=\"1\" stroke-width=\"4\">\n",
       "  <path d=\"M -163.4873809814453 422.69085693359375 C -163.4873809814453 428.48984680681707 -168.188391108222 433.19085693359375 -173.9873809814453 433.19085693359375 C -179.78637085466863 433.19085693359375 -184.4873809814453 428.48984680681707 -184.4873809814453 422.69085693359375 C -184.4873809814453 416.89186706037043 -179.78637085466863 412.19085693359375 -173.9873809814453 412.19085693359375 C -168.188391108222 412.19085693359375 -163.4873809814453 416.89186706037043 -163.4873809814453 422.69085693359375 z\"/>\n",
       "</g> <!-- drawing style -->\n",
       "</g> <!-- transform -->\n",
       "<g transform=\"matrix(0.65, 0, 0, 0.65, 623, 176.16282348632816)\">\n",
       "<g fill=\"#737360\" fill-opacity=\"1\" fill-rule=\"nonzero\" stroke=\"none\">\n",
       "  <path d=\"M -163.4873809814453 422.69085693359375 C -163.4873809814453 428.48984680681707 -168.188391108222 433.19085693359375 -173.9873809814453 433.19085693359375 C -179.78637085466863 433.19085693359375 -184.4873809814453 428.48984680681707 -184.4873809814453 422.69085693359375 C -184.4873809814453 416.89186706037043 -179.78637085466863 412.19085693359375 -173.9873809814453 412.19085693359375 C -168.188391108222 412.19085693359375 -163.4873809814453 416.89186706037043 -163.4873809814453 422.69085693359375 z\"/>\n",
       "</g> <!-- drawing style -->\n",
       "</g> <!-- transform -->\n",
       "<g transform=\"matrix(0.65, 0, 0, 0.65, 518.0332023620605, 466.21734924316405)\">\n",
       "<text fill=\"#cccccc\" fill-opacity=\"1\" font-family=\"Helvetica\" font-size=\"16\" font-style=\"normal\" font-weight=\"normal\" stroke=\"none\" x=\"0\" y=\"0\">topology.finder/find-sources-in-dir </text>\n",
       "</g> <!-- transform -->\n",
       "<g transform=\"matrix(0.65, 0, 0, 0.65, 623, 176.16282348632816)\">\n",
       "<g fill=\"none\" stroke=\"#00ff2b\" stroke-linecap=\"round\" stroke-linejoin=\"round\" stroke-opacity=\"1\" stroke-width=\"4\">\n",
       "  <path d=\"M -681.1394653320312 487.9241943359375 C -681.1394653320312 493.7231842091608 -685.8404754588079 498.4241943359375 -691.6394653320312 498.4241943359375 C -697.4384552052546 498.4241943359375 -702.1394653320312 493.7231842091608 -702.1394653320312 487.9241943359375 C -702.1394653320312 482.1252044627142 -697.4384552052546 477.4241943359375 -691.6394653320312 477.4241943359375 C -685.8404754588079 477.4241943359375 -681.1394653320312 482.1252044627142 -681.1394653320312 487.9241943359375 z\"/>\n",
       "</g> <!-- drawing style -->\n",
       "</g> <!-- transform -->\n",
       "<g transform=\"matrix(0.65, 0, 0, 0.65, 623, 176.16282348632816)\">\n",
       "<g fill=\"#4a604e\" fill-opacity=\"1\" fill-rule=\"nonzero\" stroke=\"none\">\n",
       "  <path d=\"M -681.1394653320312 487.9241943359375 C -681.1394653320312 493.7231842091608 -685.8404754588079 498.4241943359375 -691.6394653320312 498.4241943359375 C -697.4384552052546 498.4241943359375 -702.1394653320312 493.7231842091608 -702.1394653320312 487.9241943359375 C -702.1394653320312 482.1252044627142 -697.4384552052546 477.4241943359375 -691.6394653320312 477.4241943359375 C -685.8404754588079 477.4241943359375 -681.1394653320312 482.1252044627142 -681.1394653320312 487.9241943359375 z\"/>\n",
       "</g> <!-- drawing style -->\n",
       "</g> <!-- transform -->\n",
       "<g transform=\"matrix(0.65, 0, 0, 0.65, 181.55934753417966, 508.61901855468756)\">\n",
       "<text fill=\"#cccccc\" fill-opacity=\"1\" font-family=\"Helvetica\" font-size=\"16\" font-style=\"normal\" font-weight=\"normal\" stroke=\"none\" x=\"0\" y=\"0\">topology.edgelist/ns-&gt;edgelist </text>\n",
       "</g> <!-- transform -->\n",
       "<g transform=\"matrix(0.65, 0, 0, 0.65, 623, 176.16282348632816)\">\n",
       "<g fill=\"none\" stroke=\"#00ff2b\" stroke-linecap=\"round\" stroke-linejoin=\"round\" stroke-opacity=\"1\" stroke-width=\"4\">\n",
       "  <path d=\"M -594.7636108398438 451.30670166015625 C -594.7636108398438 457.10569153337957 -599.4646209666204 461.80670166015625 -605.2636108398438 461.80670166015625 C -611.0626007130671 461.80670166015625 -615.7636108398438 457.10569153337957 -615.7636108398438 451.30670166015625 C -615.7636108398438 445.50771178693293 -611.0626007130671 440.80670166015625 -605.2636108398438 440.80670166015625 C -599.4646209666204 440.80670166015625 -594.7636108398438 445.50771178693293 -594.7636108398438 451.30670166015625 z\"/>\n",
       "</g> <!-- drawing style -->\n",
       "</g> <!-- transform -->\n",
       "<g transform=\"matrix(0.65, 0, 0, 0.65, 623, 176.16282348632816)\">\n",
       "<g fill=\"#4a604e\" fill-opacity=\"1\" fill-rule=\"nonzero\" stroke=\"none\">\n",
       "  <path d=\"M -594.7636108398438 451.30670166015625 C -594.7636108398438 457.10569153337957 -599.4646209666204 461.80670166015625 -605.2636108398438 461.80670166015625 C -611.0626007130671 461.80670166015625 -615.7636108398438 457.10569153337957 -615.7636108398438 451.30670166015625 C -615.7636108398438 445.50771178693293 -611.0626007130671 440.80670166015625 -605.2636108398438 440.80670166015625 C -599.4646209666204 440.80670166015625 -594.7636108398438 445.50771178693293 -594.7636108398438 451.30670166015625 z\"/>\n",
       "</g> <!-- drawing style -->\n",
       "</g> <!-- transform -->\n",
       "<g transform=\"matrix(0.65, 0, 0, 0.65, 237.70365295410153, 484.8176483154297)\">\n",
       "<text fill=\"#cccccc\" fill-opacity=\"1\" font-family=\"Helvetica\" font-size=\"16\" font-style=\"normal\" font-weight=\"normal\" stroke=\"none\" x=\"0\" y=\"0\">topology.edgelist/interleave-keys </text>\n",
       "</g> <!-- transform -->\n",
       "<g transform=\"matrix(0.65, 0, 0, 0.65, 623, 176.16282348632816)\">\n",
       "<g fill=\"none\" stroke=\"#ffff00\" stroke-linecap=\"round\" stroke-linejoin=\"round\" stroke-opacity=\"1\" stroke-width=\"4\">\n",
       "  <path d=\"M -241.8785400390625 544.0921630859375 C -241.8785400390625 549.8911529591609 -246.57955016583918 554.5921630859375 -252.3785400390625 554.5921630859375 C -258.1775299122858 554.5921630859375 -262.8785400390625 549.8911529591609 -262.8785400390625 544.0921630859375 C -262.8785400390625 538.2931732127141 -258.1775299122858 533.5921630859375 -252.3785400390625 533.5921630859375 C -246.57955016583918 533.5921630859375 -241.8785400390625 538.2931732127141 -241.8785400390625 544.0921630859375 z\"/>\n",
       "</g> <!-- drawing style -->\n",
       "</g> <!-- transform -->\n",
       "<g transform=\"matrix(0.65, 0, 0, 0.65, 623, 176.16282348632816)\">\n",
       "<g fill=\"#737360\" fill-opacity=\"1\" fill-rule=\"nonzero\" stroke=\"none\">\n",
       "  <path d=\"M -241.8785400390625 544.0921630859375 C -241.8785400390625 549.8911529591609 -246.57955016583918 554.5921630859375 -252.3785400390625 554.5921630859375 C -258.1775299122858 554.5921630859375 -262.8785400390625 549.8911529591609 -262.8785400390625 544.0921630859375 C -262.8785400390625 538.2931732127141 -258.1775299122858 533.5921630859375 -252.3785400390625 533.5921630859375 C -246.57955016583918 533.5921630859375 -241.8785400390625 538.2931732127141 -241.8785400390625 544.0921630859375 z\"/>\n",
       "</g> <!-- drawing style -->\n",
       "</g> <!-- transform -->\n",
       "<g transform=\"matrix(0.65, 0, 0, 0.65, 467.0789489746094, 545.1281982421876)\">\n",
       "<text fill=\"#cccccc\" fill-opacity=\"1\" font-family=\"Helvetica\" font-size=\"16\" font-style=\"normal\" font-weight=\"normal\" stroke=\"none\" x=\"0\" y=\"0\">topology.finder/source-paths-&gt;namespaces </text>\n",
       "</g> <!-- transform -->\n",
       "<g transform=\"matrix(0.65, 0, 0, 0.65, 623, 176.16282348632816)\">\n",
       "<g fill=\"none\" stroke=\"#ffff00\" stroke-linecap=\"round\" stroke-linejoin=\"round\" stroke-opacity=\"1\" stroke-width=\"4\">\n",
       "  <path d=\"M -213.61724853515625 477.8236999511719 C -213.61724853515625 483.6226898243952 -218.31825866193293 488.3236999511719 -224.11724853515625 488.3236999511719 C -229.91623840837957 488.3236999511719 -234.61724853515625 483.6226898243952 -234.61724853515625 477.8236999511719 C -234.61724853515625 472.02471007794855 -229.91623840837957 467.3236999511719 -224.11724853515625 467.3236999511719 C -218.31825866193293 467.3236999511719 -213.61724853515625 472.02471007794855 -213.61724853515625 477.8236999511719 z\"/>\n",
       "</g> <!-- drawing style -->\n",
       "</g> <!-- transform -->\n",
       "<g transform=\"matrix(0.65, 0, 0, 0.65, 623, 176.16282348632816)\">\n",
       "<g fill=\"#737360\" fill-opacity=\"1\" fill-rule=\"nonzero\" stroke=\"none\">\n",
       "  <path d=\"M -213.61724853515625 477.8236999511719 C -213.61724853515625 483.6226898243952 -218.31825866193293 488.3236999511719 -224.11724853515625 488.3236999511719 C -229.91623840837957 488.3236999511719 -234.61724853515625 483.6226898243952 -234.61724853515625 477.8236999511719 C -234.61724853515625 472.02471007794855 -229.91623840837957 467.3236999511719 -224.11724853515625 467.3236999511719 C -218.31825866193293 467.3236999511719 -213.61724853515625 472.02471007794855 -213.61724853515625 477.8236999511719 z\"/>\n",
       "</g> <!-- drawing style -->\n",
       "</g> <!-- transform -->\n",
       "<g transform=\"matrix(0.65, 0, 0, 0.65, 485.44878845214845, 502.0536972045899)\">\n",
       "<text fill=\"#cccccc\" fill-opacity=\"1\" font-family=\"Helvetica\" font-size=\"16\" font-style=\"normal\" font-weight=\"normal\" stroke=\"none\" x=\"0\" y=\"0\">topology.finder/dirs-&gt;sources </text>\n",
       "</g> <!-- transform -->\n",
       "<g transform=\"matrix(0.65, 0, 0, 0.65, 623, 176.16282348632816)\">\n",
       "<g fill=\"none\" stroke=\"#00ff2b\" stroke-linecap=\"round\" stroke-linejoin=\"round\" stroke-opacity=\"1\" stroke-width=\"4\">\n",
       "  <path d=\"M 228.2335205078125 629.37060546875 C 228.2335205078125 635.1695953419734 223.53251038103582 639.87060546875 217.7335205078125 639.87060546875 C 211.93453063458918 639.87060546875 207.2335205078125 635.1695953419734 207.2335205078125 629.37060546875 C 207.2335205078125 623.5716155955266 211.93453063458918 618.87060546875 217.7335205078125 618.87060546875 C 223.53251038103582 618.87060546875 228.2335205078125 623.5716155955266 228.2335205078125 629.37060546875 z\"/>\n",
       "</g> <!-- drawing style -->\n",
       "</g> <!-- transform -->\n",
       "<g transform=\"matrix(0.65, 0, 0, 0.65, 623, 176.16282348632816)\">\n",
       "<g fill=\"#4a604e\" fill-opacity=\"1\" fill-rule=\"nonzero\" stroke=\"none\">\n",
       "  <path d=\"M 228.2335205078125 629.37060546875 C 228.2335205078125 635.1695953419734 223.53251038103582 639.87060546875 217.7335205078125 639.87060546875 C 211.93453063458918 639.87060546875 207.2335205078125 635.1695953419734 207.2335205078125 629.37060546875 C 207.2335205078125 623.5716155955266 211.93453063458918 618.87060546875 217.7335205078125 618.87060546875 C 223.53251038103582 618.87060546875 228.2335205078125 623.5716155955266 228.2335205078125 629.37060546875 z\"/>\n",
       "</g> <!-- drawing style -->\n",
       "</g> <!-- transform -->\n",
       "<g transform=\"matrix(0.65, 0, 0, 0.65, 772.6517883300781, 600.5591857910157)\">\n",
       "<text fill=\"#cccccc\" fill-opacity=\"1\" font-family=\"Helvetica\" font-size=\"16\" font-style=\"normal\" font-weight=\"normal\" stroke=\"none\" x=\"0\" y=\"0\">topology.edgelist-test/edges </text>\n",
       "</g> <!-- transform -->\n",
       "<g transform=\"matrix(0.65, 0, 0, 0.65, 623, 176.16282348632816)\">\n",
       "<g fill=\"none\" stroke=\"#00ff2b\" stroke-linecap=\"round\" stroke-linejoin=\"round\" stroke-opacity=\"1\" stroke-width=\"4\">\n",
       "  <path d=\"M 489.89654541015625 727.9804077148438 C 489.89654541015625 733.7793975880671 485.19553528337957 738.4804077148438 479.39654541015625 738.4804077148438 C 473.59755553693293 738.4804077148438 468.89654541015625 733.7793975880671 468.89654541015625 727.9804077148438 C 468.89654541015625 722.1814178416204 473.59755553693293 717.4804077148438 479.39654541015625 717.4804077148438 C 485.19553528337957 717.4804077148438 489.89654541015625 722.1814178416204 489.89654541015625 727.9804077148438 z\"/>\n",
       "</g> <!-- drawing style -->\n",
       "</g> <!-- transform -->\n",
       "<g transform=\"matrix(0.65, 0, 0, 0.65, 623, 176.16282348632816)\">\n",
       "<g fill=\"#4a604e\" fill-opacity=\"1\" fill-rule=\"nonzero\" stroke=\"none\">\n",
       "  <path d=\"M 489.89654541015625 727.9804077148438 C 489.89654541015625 733.7793975880671 485.19553528337957 738.4804077148438 479.39654541015625 738.4804077148438 C 473.59755553693293 738.4804077148438 468.89654541015625 733.7793975880671 468.89654541015625 727.9804077148438 C 468.89654541015625 722.1814178416204 473.59755553693293 717.4804077148438 479.39654541015625 717.4804077148438 C 485.19553528337957 717.4804077148438 489.89654541015625 722.1814178416204 489.89654541015625 727.9804077148438 z\"/>\n",
       "</g> <!-- drawing style -->\n",
       "</g> <!-- transform -->\n",
       "<g transform=\"matrix(0.65, 0, 0, 0.65, 942.7327545166015, 664.6555572509767)\">\n",
       "<text fill=\"#cccccc\" fill-opacity=\"1\" font-family=\"Helvetica\" font-size=\"16\" font-style=\"normal\" font-weight=\"normal\" stroke=\"none\" x=\"0\" y=\"0\">topology.edgelist-test/should-report-java-interop </text>\n",
       "</g> <!-- transform -->\n",
       "<g transform=\"matrix(0.65, 0, 0, 0.65, 623, 176.16282348632816)\">\n",
       "<g fill=\"none\" stroke=\"#00ff2b\" stroke-linecap=\"round\" stroke-linejoin=\"round\" stroke-opacity=\"1\" stroke-width=\"4\">\n",
       "  <path d=\"M 488.6246337890625 682.2647705078125 C 488.6246337890625 688.0637603810359 483.9236236622858 692.7647705078125 478.1246337890625 692.7647705078125 C 472.3256439158392 692.7647705078125 467.6246337890625 688.0637603810359 467.6246337890625 682.2647705078125 C 467.6246337890625 676.4657806345891 472.3256439158392 671.7647705078125 478.1246337890625 671.7647705078125 C 483.9236236622858 671.7647705078125 488.6246337890625 676.4657806345891 488.6246337890625 682.2647705078125 z\"/>\n",
       "</g> <!-- drawing style -->\n",
       "</g> <!-- transform -->\n",
       "<g transform=\"matrix(0.65, 0, 0, 0.65, 623, 176.16282348632816)\">\n",
       "<g fill=\"#4a604e\" fill-opacity=\"1\" fill-rule=\"nonzero\" stroke=\"none\">\n",
       "  <path d=\"M 488.6246337890625 682.2647705078125 C 488.6246337890625 688.0637603810359 483.9236236622858 692.7647705078125 478.1246337890625 692.7647705078125 C 472.3256439158392 692.7647705078125 467.6246337890625 688.0637603810359 467.6246337890625 682.2647705078125 C 467.6246337890625 676.4657806345891 472.3256439158392 671.7647705078125 478.1246337890625 671.7647705078125 C 483.9236236622858 671.7647705078125 488.6246337890625 676.4657806345891 488.6246337890625 682.2647705078125 z\"/>\n",
       "</g> <!-- drawing style -->\n",
       "</g> <!-- transform -->\n",
       "<g transform=\"matrix(0.65, 0, 0, 0.65, 941.9060119628907, 634.9403930664064)\">\n",
       "<text fill=\"#cccccc\" fill-opacity=\"1\" font-family=\"Helvetica\" font-size=\"16\" font-style=\"normal\" font-weight=\"normal\" stroke=\"none\" x=\"0\" y=\"0\">topology.edgelist-test/syntax-quotes-add-seq-concat-list </text>\n",
       "</g> <!-- transform -->\n",
       "<g transform=\"matrix(0.65, 0, 0, 0.65, 623, 176.16282348632816)\">\n",
       "<g fill=\"none\" stroke=\"#00ff2b\" stroke-linecap=\"round\" stroke-linejoin=\"round\" stroke-opacity=\"1\" stroke-width=\"4\">\n",
       "  <path d=\"M 97.11611938476562 527.6698608398438 C 97.11611938476562 533.4688507130671 92.41510925798895 538.1698608398438 86.61611938476562 538.1698608398438 C 80.81712951154229 538.1698608398438 76.11611938476562 533.4688507130671 76.11611938476562 527.6698608398438 C 76.11611938476562 521.8708709666204 80.81712951154229 517.1698608398438 86.61611938476562 517.1698608398438 C 92.41510925798895 517.1698608398438 97.11611938476562 521.8708709666204 97.11611938476562 527.6698608398438 z\"/>\n",
       "</g> <!-- drawing style -->\n",
       "</g> <!-- transform -->\n",
       "<g transform=\"matrix(0.65, 0, 0, 0.65, 623, 176.16282348632816)\">\n",
       "<g fill=\"#4a604e\" fill-opacity=\"1\" fill-rule=\"nonzero\" stroke=\"none\">\n",
       "  <path d=\"M 97.11611938476562 527.6698608398438 C 97.11611938476562 533.4688507130671 92.41510925798895 538.1698608398438 86.61611938476562 538.1698608398438 C 80.81712951154229 538.1698608398438 76.11611938476562 533.4688507130671 76.11611938476562 527.6698608398438 C 76.11611938476562 521.8708709666204 80.81712951154229 517.1698608398438 86.61611938476562 517.1698608398438 C 92.41510925798895 517.1698608398438 97.11611938476562 521.8708709666204 97.11611938476562 527.6698608398438 z\"/>\n",
       "</g> <!-- drawing style -->\n",
       "</g> <!-- transform -->\n",
       "<g transform=\"matrix(0.65, 0, 0, 0.65, 687.4254776000977, 534.4537017822266)\">\n",
       "<text fill=\"#cccccc\" fill-opacity=\"1\" font-family=\"Helvetica\" font-size=\"16\" font-style=\"normal\" font-weight=\"normal\" stroke=\"none\" x=\"0\" y=\"0\">clojure.tools.namespace.file/read-file-ns-decl </text>\n",
       "</g> <!-- transform -->\n",
       "<g transform=\"matrix(0.65, 0, 0, 0.65, 623, 176.16282348632816)\">\n",
       "<g fill=\"none\" stroke=\"#00ff2b\" stroke-linecap=\"round\" stroke-linejoin=\"round\" stroke-opacity=\"1\" stroke-width=\"4\">\n",
       "  <path d=\"M 489.72064208984375 632.138916015625 C 489.72064208984375 637.9379058888484 485.01963196306707 642.638916015625 479.22064208984375 642.638916015625 C 473.42165221662043 642.638916015625 468.72064208984375 637.9379058888484 468.72064208984375 632.138916015625 C 468.72064208984375 626.3399261424016 473.42165221662043 621.638916015625 479.22064208984375 621.638916015625 C 485.01963196306707 621.638916015625 489.72064208984375 626.3399261424016 489.72064208984375 632.138916015625 z\"/>\n",
       "</g> <!-- drawing style -->\n",
       "</g> <!-- transform -->\n",
       "<g transform=\"matrix(0.65, 0, 0, 0.65, 623, 176.16282348632816)\">\n",
       "<g fill=\"#4a604e\" fill-opacity=\"1\" fill-rule=\"nonzero\" stroke=\"none\">\n",
       "  <path d=\"M 489.72064208984375 632.138916015625 C 489.72064208984375 637.9379058888484 485.01963196306707 642.638916015625 479.22064208984375 642.638916015625 C 473.42165221662043 642.638916015625 468.72064208984375 637.9379058888484 468.72064208984375 632.138916015625 C 468.72064208984375 626.3399261424016 473.42165221662043 621.638916015625 479.22064208984375 621.638916015625 C 485.01963196306707 621.638916015625 489.72064208984375 626.3399261424016 489.72064208984375 632.138916015625 z\"/>\n",
       "</g> <!-- drawing style -->\n",
       "</g> <!-- transform -->\n",
       "<g transform=\"matrix(0.65, 0, 0, 0.65, 942.6184173583985, 602.3585876464845)\">\n",
       "<text fill=\"#cccccc\" fill-opacity=\"1\" font-family=\"Helvetica\" font-size=\"16\" font-style=\"normal\" font-weight=\"normal\" stroke=\"none\" x=\"0\" y=\"0\">topology.edgelist-test/should-produce-weighted-edges-for-multiple-calls </text>\n",
       "</g> <!-- transform -->\n",
       "</g> <!-- default stroke -->\n",
       "</svg>"
      ],
      "text/plain": [
       "<IPython.core.display.SVG object>"
      ]
     },
     "metadata": {},
     "output_type": "display_data"
    }
   ],
   "source": [
    "from IPython.display import SVG, display\n",
    "\n",
    "svg_data = network.get_svg()\n",
    "display(SVG(svg_data))"
   ]
  },
  {
   "cell_type": "code",
   "execution_count": 50,
   "metadata": {
    "collapsed": true,
    "deletable": true,
    "editable": true
   },
   "outputs": [],
   "source": [
    "# Write the svg to a file if everything looks good:\n",
    "with open(data_path + '.svg', 'wb') as f:\n",
    "    f.write(svg_data)"
   ]
  },
  {
   "cell_type": "markdown",
   "metadata": {
    "deletable": true,
    "editable": true
   },
   "source": [
    "## To create an updated structure after making new commits:\n",
    "\n",
    "* Generate an updated network.\n",
    "* Copy the previous position file to use as a starting point for the next visualization.\n",
    "* Open Cytoscape or destroy existing collections if Cytoscape is already running.\n",
    "* Run all cells to load the visualization.\n",
    "* [Save the new layout if you make changes to node positions](/notebooks/architecture.ipynb#Save-the-updated-layout-coordinates-if-you-make-changes)."
   ]
  },
  {
   "cell_type": "markdown",
   "metadata": {
    "deletable": true,
    "editable": true
   },
   "source": [
    "## Visualizing the network with a Dependency Structure Matrix (DSM)\n",
    "\n",
    "Each row shows a function's dependencies.\n",
    "\n",
    "Each column shows callers impacted by the function."
   ]
  },
  {
   "cell_type": "code",
   "execution_count": 51,
   "metadata": {
    "collapsed": false,
    "deletable": true,
    "editable": true
   },
   "outputs": [
    {
     "data": {
      "text/html": [
       "\n",
       "    <div class=\"bk-root\">\n",
       "        <a href=\"http://bokeh.pydata.org\" target=\"_blank\" class=\"bk-logo bk-logo-small bk-logo-notebook\"></a>\n",
       "        <span id=\"85ccaac7-e2f8-4313-87e3-7e0dd638f737\">Loading BokehJS ...</span>\n",
       "    </div>"
      ]
     },
     "metadata": {},
     "output_type": "display_data"
    },
    {
     "data": {
      "application/javascript": [
       "\n",
       "(function(global) {\n",
       "  function now() {\n",
       "    return new Date();\n",
       "  }\n",
       "\n",
       "  var force = true;\n",
       "\n",
       "  if (typeof (window._bokeh_onload_callbacks) === \"undefined\" || force === true) {\n",
       "    window._bokeh_onload_callbacks = [];\n",
       "    window._bokeh_is_loading = undefined;\n",
       "  }\n",
       "\n",
       "\n",
       "  \n",
       "  if (typeof (window._bokeh_timeout) === \"undefined\" || force === true) {\n",
       "    window._bokeh_timeout = Date.now() + 5000;\n",
       "    window._bokeh_failed_load = false;\n",
       "  }\n",
       "\n",
       "  var NB_LOAD_WARNING = {'data': {'text/html':\n",
       "     \"<div style='background-color: #fdd'>\\n\"+\n",
       "     \"<p>\\n\"+\n",
       "     \"BokehJS does not appear to have successfully loaded. If loading BokehJS from CDN, this \\n\"+\n",
       "     \"may be due to a slow or bad network connection. Possible fixes:\\n\"+\n",
       "     \"</p>\\n\"+\n",
       "     \"<ul>\\n\"+\n",
       "     \"<li>re-rerun `output_notebook()` to attempt to load from CDN again, or</li>\\n\"+\n",
       "     \"<li>use INLINE resources instead, as so:</li>\\n\"+\n",
       "     \"</ul>\\n\"+\n",
       "     \"<code>\\n\"+\n",
       "     \"from bokeh.resources import INLINE\\n\"+\n",
       "     \"output_notebook(resources=INLINE)\\n\"+\n",
       "     \"</code>\\n\"+\n",
       "     \"</div>\"}};\n",
       "\n",
       "  function display_loaded() {\n",
       "    if (window.Bokeh !== undefined) {\n",
       "      var el = document.getElementById(\"85ccaac7-e2f8-4313-87e3-7e0dd638f737\");\n",
       "      el.textContent = \"BokehJS \" + Bokeh.version + \" successfully loaded.\";\n",
       "    } else if (Date.now() < window._bokeh_timeout) {\n",
       "      setTimeout(display_loaded, 100)\n",
       "    }\n",
       "  }\n",
       "\n",
       "  function run_callbacks() {\n",
       "    try {\n",
       "      window._bokeh_onload_callbacks.forEach(function(callback) { callback() });\n",
       "    }\n",
       "    finally {\n",
       "      delete window._bokeh_onload_callbacks\n",
       "    }\n",
       "    console.info(\"Bokeh: all callbacks have finished\");\n",
       "  }\n",
       "\n",
       "  function load_libs(js_urls, callback) {\n",
       "    window._bokeh_onload_callbacks.push(callback);\n",
       "    if (window._bokeh_is_loading > 0) {\n",
       "      console.log(\"Bokeh: BokehJS is being loaded, scheduling callback at\", now());\n",
       "      return null;\n",
       "    }\n",
       "    if (js_urls == null || js_urls.length === 0) {\n",
       "      run_callbacks();\n",
       "      return null;\n",
       "    }\n",
       "    console.log(\"Bokeh: BokehJS not loaded, scheduling load and callback at\", now());\n",
       "    window._bokeh_is_loading = js_urls.length;\n",
       "    for (var i = 0; i < js_urls.length; i++) {\n",
       "      var url = js_urls[i];\n",
       "      var s = document.createElement('script');\n",
       "      s.src = url;\n",
       "      s.async = false;\n",
       "      s.onreadystatechange = s.onload = function() {\n",
       "        window._bokeh_is_loading--;\n",
       "        if (window._bokeh_is_loading === 0) {\n",
       "          console.log(\"Bokeh: all BokehJS libraries loaded\");\n",
       "          run_callbacks()\n",
       "        }\n",
       "      };\n",
       "      s.onerror = function() {\n",
       "        console.warn(\"failed to load library \" + url);\n",
       "      };\n",
       "      console.log(\"Bokeh: injecting script tag for BokehJS library: \", url);\n",
       "      document.getElementsByTagName(\"head\")[0].appendChild(s);\n",
       "    }\n",
       "  };var element = document.getElementById(\"85ccaac7-e2f8-4313-87e3-7e0dd638f737\");\n",
       "  if (element == null) {\n",
       "    console.log(\"Bokeh: ERROR: autoload.js configured with elementid '85ccaac7-e2f8-4313-87e3-7e0dd638f737' but no matching script tag was found. \")\n",
       "    return false;\n",
       "  }\n",
       "\n",
       "  var js_urls = [\"https://cdn.pydata.org/bokeh/release/bokeh-0.12.6.min.js\", \"https://cdn.pydata.org/bokeh/release/bokeh-widgets-0.12.6.min.js\"];\n",
       "\n",
       "  var inline_js = [\n",
       "    function(Bokeh) {\n",
       "      Bokeh.set_log_level(\"info\");\n",
       "    },\n",
       "    \n",
       "    function(Bokeh) {\n",
       "      \n",
       "    },\n",
       "    \n",
       "    function(Bokeh) {\n",
       "      \n",
       "      document.getElementById(\"85ccaac7-e2f8-4313-87e3-7e0dd638f737\").textContent = \"BokehJS is loading...\";\n",
       "    },\n",
       "    function(Bokeh) {\n",
       "      console.log(\"Bokeh: injecting CSS: https://cdn.pydata.org/bokeh/release/bokeh-0.12.6.min.css\");\n",
       "      Bokeh.embed.inject_css(\"https://cdn.pydata.org/bokeh/release/bokeh-0.12.6.min.css\");\n",
       "      console.log(\"Bokeh: injecting CSS: https://cdn.pydata.org/bokeh/release/bokeh-widgets-0.12.6.min.css\");\n",
       "      Bokeh.embed.inject_css(\"https://cdn.pydata.org/bokeh/release/bokeh-widgets-0.12.6.min.css\");\n",
       "    }\n",
       "  ];\n",
       "\n",
       "  function run_inline_js() {\n",
       "    \n",
       "    if ((window.Bokeh !== undefined) || (force === true)) {\n",
       "      for (var i = 0; i < inline_js.length; i++) {\n",
       "        inline_js[i](window.Bokeh);\n",
       "      }if (force === true) {\n",
       "        display_loaded();\n",
       "      }} else if (Date.now() < window._bokeh_timeout) {\n",
       "      setTimeout(run_inline_js, 100);\n",
       "    } else if (!window._bokeh_failed_load) {\n",
       "      console.log(\"Bokeh: BokehJS failed to load within specified timeout.\");\n",
       "      window._bokeh_failed_load = true;\n",
       "    } else if (force !== true) {\n",
       "      var cell = $(document.getElementById(\"85ccaac7-e2f8-4313-87e3-7e0dd638f737\")).parents('.cell').data().cell;\n",
       "      cell.output_area.append_execute_result(NB_LOAD_WARNING)\n",
       "    }\n",
       "\n",
       "  }\n",
       "\n",
       "  if (window._bokeh_is_loading === 0) {\n",
       "    console.log(\"Bokeh: BokehJS loaded, going straight to plotting\");\n",
       "    run_inline_js();\n",
       "  } else {\n",
       "    load_libs(js_urls, function() {\n",
       "      console.log(\"Bokeh: BokehJS plotting callback run at\", now());\n",
       "      run_inline_js();\n",
       "    });\n",
       "  }\n",
       "}(this));"
      ]
     },
     "metadata": {},
     "output_type": "display_data"
    }
   ],
   "source": [
    "from sand.matrix import matrix\n",
    "\n",
    "from bokeh.plotting import show, output_notebook\n",
    "from bokeh.palettes import all_palettes\n",
    "\n",
    "output_notebook()"
   ]
  },
  {
   "cell_type": "markdown",
   "metadata": {
    "deletable": true,
    "editable": true
   },
   "source": [
    "### Create a color palette\n",
    "\n",
    "We want to choose a color palette so that groups stand out.\n",
    "\n",
    "Find the number of groups that you have assigned to your vertices:"
   ]
  },
  {
   "cell_type": "code",
   "execution_count": 52,
   "metadata": {
    "collapsed": false,
    "deletable": true,
    "editable": true
   },
   "outputs": [
    {
     "data": {
      "text/plain": [
       "18"
      ]
     },
     "execution_count": 52,
     "metadata": {},
     "output_type": "execute_result"
    }
   ],
   "source": [
    "num_groups = max(set(lg.vs['group']))\n",
    "num_groups"
   ]
  },
  {
   "cell_type": "markdown",
   "metadata": {
    "deletable": true,
    "editable": true
   },
   "source": [
    "Now we need to [choose an appropriate palette](http://bokeh.pydata.org/en/latest/docs/reference/palettes.html) that accomodates this number of groups and achieves the desired visual separation.\n",
    "\n",
    "As a general rule, you'll need one of the [large palettes](http://bokeh.pydata.org/en/latest/docs/reference/palettes.html#large-palettes) for > 20 groups.\n",
    "\n",
    "Pass the name of the palette you choose to the `all_palettes` function:"
   ]
  },
  {
   "cell_type": "code",
   "execution_count": 53,
   "metadata": {
    "collapsed": false,
    "deletable": true,
    "editable": true
   },
   "outputs": [],
   "source": [
    "palette = all_palettes['Category20'][num_groups + 1]"
   ]
  },
  {
   "cell_type": "markdown",
   "metadata": {
    "deletable": true,
    "editable": true
   },
   "source": [
    "### Determine the order to sort the vertex labels\n",
    "\n",
    "The matrix visualization will be rendered according to a vertex attribute used as the `sort_by` parameter in `matrix`."
   ]
  },
  {
   "cell_type": "code",
   "execution_count": 54,
   "metadata": {
    "collapsed": false,
    "deletable": true,
    "editable": true
   },
   "outputs": [
    {
     "data": {
      "text/plain": [
       "['name', 'indegree', 'outdegree', 'label', 'group', 'namespace']"
      ]
     },
     "execution_count": 54,
     "metadata": {},
     "output_type": "execute_result"
    }
   ],
   "source": [
    "lg.vs.attributes()"
   ]
  },
  {
   "cell_type": "markdown",
   "metadata": {
    "deletable": true,
    "editable": true
   },
   "source": [
    "### Render the matrix"
   ]
  },
  {
   "cell_type": "code",
   "execution_count": 55,
   "metadata": {
    "collapsed": false,
    "deletable": true,
    "editable": true
   },
   "outputs": [
    {
     "data": {
      "text/html": [
       "\n",
       "\n",
       "    <div class=\"bk-root\">\n",
       "        <div class=\"bk-plotdiv\" id=\"1846d4e3-dc2e-49d7-9a44-8614299fb736\"></div>\n",
       "    </div>\n",
       "<script type=\"text/javascript\">\n",
       "  \n",
       "  (function(global) {\n",
       "    function now() {\n",
       "      return new Date();\n",
       "    }\n",
       "  \n",
       "    var force = false;\n",
       "  \n",
       "    if (typeof (window._bokeh_onload_callbacks) === \"undefined\" || force === true) {\n",
       "      window._bokeh_onload_callbacks = [];\n",
       "      window._bokeh_is_loading = undefined;\n",
       "    }\n",
       "  \n",
       "  \n",
       "    \n",
       "    if (typeof (window._bokeh_timeout) === \"undefined\" || force === true) {\n",
       "      window._bokeh_timeout = Date.now() + 0;\n",
       "      window._bokeh_failed_load = false;\n",
       "    }\n",
       "  \n",
       "    var NB_LOAD_WARNING = {'data': {'text/html':\n",
       "       \"<div style='background-color: #fdd'>\\n\"+\n",
       "       \"<p>\\n\"+\n",
       "       \"BokehJS does not appear to have successfully loaded. If loading BokehJS from CDN, this \\n\"+\n",
       "       \"may be due to a slow or bad network connection. Possible fixes:\\n\"+\n",
       "       \"</p>\\n\"+\n",
       "       \"<ul>\\n\"+\n",
       "       \"<li>re-rerun `output_notebook()` to attempt to load from CDN again, or</li>\\n\"+\n",
       "       \"<li>use INLINE resources instead, as so:</li>\\n\"+\n",
       "       \"</ul>\\n\"+\n",
       "       \"<code>\\n\"+\n",
       "       \"from bokeh.resources import INLINE\\n\"+\n",
       "       \"output_notebook(resources=INLINE)\\n\"+\n",
       "       \"</code>\\n\"+\n",
       "       \"</div>\"}};\n",
       "  \n",
       "    function display_loaded() {\n",
       "      if (window.Bokeh !== undefined) {\n",
       "        var el = document.getElementById(\"1846d4e3-dc2e-49d7-9a44-8614299fb736\");\n",
       "        el.textContent = \"BokehJS \" + Bokeh.version + \" successfully loaded.\";\n",
       "      } else if (Date.now() < window._bokeh_timeout) {\n",
       "        setTimeout(display_loaded, 100)\n",
       "      }\n",
       "    }\n",
       "  \n",
       "    function run_callbacks() {\n",
       "      try {\n",
       "        window._bokeh_onload_callbacks.forEach(function(callback) { callback() });\n",
       "      }\n",
       "      finally {\n",
       "        delete window._bokeh_onload_callbacks\n",
       "      }\n",
       "      console.info(\"Bokeh: all callbacks have finished\");\n",
       "    }\n",
       "  \n",
       "    function load_libs(js_urls, callback) {\n",
       "      window._bokeh_onload_callbacks.push(callback);\n",
       "      if (window._bokeh_is_loading > 0) {\n",
       "        console.log(\"Bokeh: BokehJS is being loaded, scheduling callback at\", now());\n",
       "        return null;\n",
       "      }\n",
       "      if (js_urls == null || js_urls.length === 0) {\n",
       "        run_callbacks();\n",
       "        return null;\n",
       "      }\n",
       "      console.log(\"Bokeh: BokehJS not loaded, scheduling load and callback at\", now());\n",
       "      window._bokeh_is_loading = js_urls.length;\n",
       "      for (var i = 0; i < js_urls.length; i++) {\n",
       "        var url = js_urls[i];\n",
       "        var s = document.createElement('script');\n",
       "        s.src = url;\n",
       "        s.async = false;\n",
       "        s.onreadystatechange = s.onload = function() {\n",
       "          window._bokeh_is_loading--;\n",
       "          if (window._bokeh_is_loading === 0) {\n",
       "            console.log(\"Bokeh: all BokehJS libraries loaded\");\n",
       "            run_callbacks()\n",
       "          }\n",
       "        };\n",
       "        s.onerror = function() {\n",
       "          console.warn(\"failed to load library \" + url);\n",
       "        };\n",
       "        console.log(\"Bokeh: injecting script tag for BokehJS library: \", url);\n",
       "        document.getElementsByTagName(\"head\")[0].appendChild(s);\n",
       "      }\n",
       "    };var element = document.getElementById(\"1846d4e3-dc2e-49d7-9a44-8614299fb736\");\n",
       "    if (element == null) {\n",
       "      console.log(\"Bokeh: ERROR: autoload.js configured with elementid '1846d4e3-dc2e-49d7-9a44-8614299fb736' but no matching script tag was found. \")\n",
       "      return false;\n",
       "    }\n",
       "  \n",
       "    var js_urls = [];\n",
       "  \n",
       "    var inline_js = [\n",
       "      function(Bokeh) {\n",
       "        (function() {\n",
       "          var fn = function() {\n",
       "            var docs_json = {\"3c195f51-9043-4ff3-95c8-3bd83cd73513\":{\"roots\":{\"references\":[{\"attributes\":{},\"id\":\"68bee181-f46c-431d-836a-c847ccb9887a\",\"type\":\"ToolEvents\"},{\"attributes\":{\"data_source\":{\"id\":\"4f8a7bb7-2a04-4643-b6d1-a5f7909baa8a\",\"type\":\"ColumnDataSource\"},\"glyph\":{\"id\":\"b3fe22a0-8e6d-4a50-950b-a3c64e95f374\",\"type\":\"Rect\"},\"hover_glyph\":{\"id\":\"e32dc3cd-ed3c-49fd-9086-3cfcab2c4d2b\",\"type\":\"Rect\"},\"muted_glyph\":null,\"nonselection_glyph\":{\"id\":\"652fe75f-9f8c-44f2-98b2-9a17fcfc3501\",\"type\":\"Rect\"},\"selection_glyph\":null},\"id\":\"1ba6e7e0-7fe6-4a03-aaf4-75cdf619456a\",\"type\":\"GlyphRenderer\"},{\"attributes\":{\"fill_color\":{\"field\":\"colors\"},\"height\":{\"units\":\"data\",\"value\":0.9},\"width\":{\"units\":\"data\",\"value\":0.9},\"x\":{\"field\":\"xname\"},\"y\":{\"field\":\"yname\"}},\"id\":\"e32dc3cd-ed3c-49fd-9086-3cfcab2c4d2b\",\"type\":\"Rect\"},{\"attributes\":{\"plot\":null,\"text\":\"lein-topology-5b2a6e3 by indegree\"},\"id\":\"d1912ca9-57a0-4e29-b1cd-db3e1cd21fe3\",\"type\":\"Title\"},{\"attributes\":{\"callback\":null,\"plot\":{\"id\":\"eea5e90a-af3e-462e-8382-a8bd4df740ac\",\"subtype\":\"Figure\",\"type\":\"Plot\"},\"tooltips\":[[\"names\",\"@yname, @xname\"],[\"weight\",\"@weight\"]]},\"id\":\"f056cf2b-65cc-4a2c-ab13-5e3a1a2a668e\",\"type\":\"HoverTool\"},{\"attributes\":{},\"id\":\"c6b900d7-5f13-412e-a3b3-23d131e5ef9d\",\"type\":\"CategoricalTickFormatter\"},{\"attributes\":{\"plot\":{\"id\":\"eea5e90a-af3e-462e-8382-a8bd4df740ac\",\"subtype\":\"Figure\",\"type\":\"Plot\"}},\"id\":\"c38f80af-4857-478f-a114-4a2c77e1e7ca\",\"type\":\"SaveTool\"},{\"attributes\":{\"fill_alpha\":{\"value\":0.1},\"fill_color\":{\"value\":\"#1f77b4\"},\"height\":{\"units\":\"data\",\"value\":0.9},\"line_alpha\":{\"value\":0.1},\"line_color\":{\"value\":\"#1f77b4\"},\"width\":{\"units\":\"data\",\"value\":0.9},\"x\":{\"field\":\"xname\"},\"y\":{\"field\":\"yname\"}},\"id\":\"652fe75f-9f8c-44f2-98b2-9a17fcfc3501\",\"type\":\"Rect\"},{\"attributes\":{},\"id\":\"488d65a2-70ee-4349-961d-41a5a47dd2f7\",\"type\":\"CategoricalTickFormatter\"},{\"attributes\":{\"above\":[{\"id\":\"7d814aad-72fa-4a94-8c08-17d2180fcfa0\",\"type\":\"CategoricalAxis\"}],\"left\":[{\"id\":\"d383fc1f-1f6d-42bd-8e54-da0eb8538dbd\",\"type\":\"CategoricalAxis\"}],\"name\":\"indegree\",\"plot_height\":900,\"plot_width\":900,\"renderers\":[{\"id\":\"7d814aad-72fa-4a94-8c08-17d2180fcfa0\",\"type\":\"CategoricalAxis\"},{\"id\":\"882c08b1-dc67-4575-980b-8090b8bc5313\",\"type\":\"Grid\"},{\"id\":\"d383fc1f-1f6d-42bd-8e54-da0eb8538dbd\",\"type\":\"CategoricalAxis\"},{\"id\":\"99ff3419-0056-4059-9cb0-9b9fa0829718\",\"type\":\"Grid\"},{\"id\":\"1ba6e7e0-7fe6-4a03-aaf4-75cdf619456a\",\"type\":\"GlyphRenderer\"}],\"title\":{\"id\":\"d1912ca9-57a0-4e29-b1cd-db3e1cd21fe3\",\"type\":\"Title\"},\"tool_events\":{\"id\":\"68bee181-f46c-431d-836a-c847ccb9887a\",\"type\":\"ToolEvents\"},\"toolbar\":{\"id\":\"070c578f-d921-4967-9e28-e8fcb9e395c9\",\"type\":\"Toolbar\"},\"x_range\":{\"id\":\"bc0735b0-56ba-4c88-9409-f6cbb0167708\",\"type\":\"FactorRange\"},\"x_scale\":{\"id\":\"1de47314-17b0-4619-a3db-32ddb235505e\",\"type\":\"CategoricalScale\"},\"y_range\":{\"id\":\"c02707ad-1105-474d-83e3-3d02b50d6aaa\",\"type\":\"FactorRange\"},\"y_scale\":{\"id\":\"4cb013eb-3221-4e49-b209-3c482f412d21\",\"type\":\"CategoricalScale\"}},\"id\":\"eea5e90a-af3e-462e-8382-a8bd4df740ac\",\"subtype\":\"Figure\",\"type\":\"Plot\"},{\"attributes\":{\"callback\":null,\"column_names\":[\"xname\",\"yname\",\"colors\",\"alphas\",\"weight\"],\"data\":{\"alphas\":[0.2,0.1,0.1,0.1,0.1,0.1,0.1,1.0,0.1,0.1,0.1,0.1,0.1,0.1,0.1,0.1,0.1,0.1,0.1,0.1,0.1,0.1,0.1,0.1,0.1,0.1,0.1,0.1,0.1,0.1,0.1,0.1,0.1,0.1,0.1,0.1,0.2,0.1,0.1,0.1,0.1,0.1,0.1,0.1,0.1,0.1,0.1,0.1,0.1,0.1,0.1,0.1,0.1,0.1,0.1,0.1,0.1,0.1,0.1,0.1,0.1,0.1,0.1,0.1,0.1,0.1,0.1,0.1,0.1,0.1,0.1,0.1,0.2,0.1,0.1,0.1,0.1,0.1,0.1,0.1,0.1,0.1,0.1,0.1,0.1,0.1,0.1,0.1,0.1,0.1,0.1,0.1,0.1,0.1,0.1,0.1,0.1,0.1,0.1,0.1,0.1,0.1,0.1,0.1,0.1,0.1,0.1,0.1,0.2,0.1,0.1,0.1,0.1,0.1,0.1,0.1,0.1,0.1,0.1,0.1,0.1,0.1,0.1,0.1,0.1,0.1,0.1,0.1,0.1,0.1,0.1,0.1,0.1,0.1,0.1,0.1,0.1,0.1,0.1,0.1,0.1,0.1,0.1,0.1,0.2,0.1,0.1,0.1,0.1,0.1,0.1,0.1,0.1,0.1,0.1,0.1,0.1,0.1,0.1,0.1,1.0,0.1,0.1,0.1,0.1,0.1,0.1,0.1,0.1,0.1,0.1,0.1,0.1,0.1,0.1,0.1,0.1,0.1,0.1,1.0,0.2,0.1,0.1,0.1,0.1,0.1,0.1,0.1,0.1,0.1,0.1,0.1,0.1,0.1,0.1,0.1,0.1,0.1,0.1,0.1,0.1,0.1,0.1,0.1,0.1,0.1,0.1,0.1,0.1,0.1,0.1,0.1,0.1,0.1,0.1,0.1,0.2,0.1,0.1,0.1,0.1,0.1,0.1,0.1,0.1,0.1,0.1,0.1,0.1,0.1,0.1,0.1,0.1,0.1,0.1,0.1,0.1,0.1,0.1,0.1,0.1,0.1,0.1,0.1,0.1,0.1,0.1,0.9,0.1,0.1,0.1,0.1,0.2,0.1,0.1,0.1,0.1,0.1,0.1,0.1,0.1,0.1,0.1,0.1,0.1,0.1,0.1,0.1,0.1,0.1,0.1,0.1,0.1,0.1,0.9,0.1,0.1,0.1,0.1,0.1,0.1,0.1,0.1,0.9,0.1,0.1,0.1,0.1,0.2,0.1,0.1,0.1,0.1,0.1,0.1,0.1,0.1,0.1,0.1,0.1,0.1,0.1,0.1,0.1,0.1,0.1,0.1,0.1,0.1,0.1,0.1,0.1,0.1,0.1,0.1,0.1,0.1,0.1,0.1,0.1,0.1,0.1,0.1,0.9,0.2,0.1,0.1,0.1,0.1,0.1,0.1,0.1,0.1,0.1,0.1,0.1,0.1,0.1,0.1,0.1,0.1,0.1,0.1,0.1,0.1,0.1,0.1,0.1,0.1,0.1,0.1,0.1,0.1,0.1,0.1,0.1,0.1,0.1,0.1,0.1,0.2,0.1,0.1,0.1,0.1,0.1,0.1,0.1,0.1,0.1,0.1,0.1,0.1,0.1,0.1,1.0,0.1,0.1,0.1,0.1,0.1,0.1,0.1,0.1,0.1,0.1,0.1,0.1,0.1,0.1,0.1,0.1,0.1,0.1,0.1,0.1,0.2,0.1,0.1,0.1,0.1,0.1,0.1,0.1,0.1,0.1,0.1,0.1,0.1,0.1,0.1,0.1,0.1,0.1,1.0,0.1,0.1,0.1,0.1,0.1,0.1,0.1,0.1,0.1,0.1,0.1,0.1,1.0,0.1,0.1,0.1,0.1,0.2,0.1,0.1,0.1,0.1,0.1,0.1,0.1,0.1,0.1,0.1,0.1,0.1,0.1,0.1,0.1,0.1,0.1,0.1,0.1,0.1,0.1,0.1,0.1,0.1,0.1,0.1,0.1,0.1,0.1,1.0,0.1,0.1,0.1,0.1,0.1,0.2,0.1,0.1,0.1,0.1,0.1,0.1,0.1,0.1,0.1,0.1,0.1,0.1,0.1,0.1,0.1,0.1,0.1,0.1,0.1,0.1,0.1,0.1,0.1,0.1,0.1,0.1,0.1,0.1,0.1,0.1,0.1,0.1,0.1,0.1,0.9,0.2,0.1,0.1,0.1,0.1,0.1,0.1,0.1,0.1,0.1,0.1,0.1,0.1,0.1,0.1,0.1,0.1,0.1,0.1,0.1,0.1,0.1,0.1,0.1,0.1,0.1,0.1,0.1,0.1,0.1,0.1,0.1,0.1,0.1,0.1,0.1,0.2,0.1,0.1,0.1,0.1,0.1,0.1,0.1,0.1,0.1,0.1,0.1,0.1,0.1,0.1,0.1,0.1,0.1,0.1,0.1,0.1,0.1,0.1,0.1,0.1,0.1,0.1,0.9,0.1,0.1,0.1,0.1,0.1,0.1,0.1,0.1,0.2,0.1,0.1,0.1,0.1,0.1,0.1,0.1,0.1,0.1,0.1,0.1,0.1,0.1,0.1,0.1,0.1,0.1,0.1,0.1,0.1,0.1,0.9,0.1,0.1,0.1,0.1,0.1,0.1,0.1,0.1,0.1,0.1,0.1,0.1,0.1,0.2,0.1,0.1,0.1,0.1,0.1,0.1,0.1,0.1,0.1,0.1,0.1,0.1,0.1,0.1,0.1,0.1,0.1,0.1,0.1,0.1,0.1,0.1,0.1,0.1,0.1,0.1,0.1,0.1,0.1,0.1,0.1,0.1,0.1,1.0,0.1,0.2,0.1,0.1,0.1,0.1,0.1,0.1,0.1,0.1,0.1,0.1,0.1,0.1,0.1,0.1,0.1,0.1,0.1,0.1,0.1,0.1,0.1,0.1,0.1,0.1,0.1,0.1,0.1,0.1,0.1,0.1,0.1,0.1,0.1,0.1,0.1,0.2,0.1,0.1,0.1,0.1,0.9,0.1,0.1,0.1,0.1,0.1,0.1,0.1,0.1,0.1,0.1,0.1,0.1,0.1,0.1,0.1,0.1,0.1,0.1,0.1,0.1,0.1,0.1,0.1,0.1,0.1,0.1,0.1,0.1,0.1,1.0,0.2,0.1,0.1,0.1,0.1,0.1,0.1,0.1,0.1,0.1,0.1,0.1,0.1,0.1,0.1,0.1,0.1,0.1,0.1,0.1,0.1,0.1,0.1,0.1,0.1,0.1,0.1,0.1,0.1,0.1,0.1,0.1,0.1,0.1,0.9,0.1,0.2,0.1,0.1,0.1,0.1,0.1,0.1,0.1,0.1,0.1,0.1,0.1,0.1,0.1,0.9,0.1,0.1,0.1,0.1,0.1,0.1,0.1,0.1,0.1,0.1,0.1,0.1,0.1,0.1,0.1,0.1,0.1,0.1,0.1,0.1,0.1,0.2,0.1,0.1,0.1,0.1,0.1,0.1,0.1,0.1,0.1,0.1,0.1,0.1,0.1,1.0,0.1,0.1,0.1,0.1,1.0,0.1,0.1,0.1,0.1,0.1,0.1,0.1,0.1,1.0,0.1,0.1,0.1,0.1,0.1,0.1,0.1,0.2,0.1,0.1,0.1,0.1,0.1,0.1,0.1,0.1,0.1,0.1,0.1,0.1,0.1,0.1,0.9,0.1,0.1,0.1,0.1,0.1,0.1,0.1,0.1,0.1,0.1,0.1,0.1,0.1,0.1,0.1,0.1,0.1,0.1,0.1,0.9,0.2,0.1,0.1,0.1,0.1,0.1,0.1,0.1,0.1,0.1,0.1,0.1,0.1,0.1,0.1,0.1,0.1,0.1,0.1,0.1,0.1,0.1,0.1,0.1,0.1,0.1,0.1,0.1,0.1,0.1,0.1,0.1,0.1,1.0,0.1,0.1,0.2,0.1,0.1,0.1,0.1,0.1,0.1,0.1,0.1,0.1,0.1,0.1,0.1,0.1,0.1,0.1,0.1,0.1,0.1,0.1,0.1,0.1,0.1,0.1,0.1,0.1,0.1,0.1,1.0,0.1,0.1,0.1,0.1,0.1,0.1,0.1,0.2,0.1,0.1,0.1,0.1,0.1,0.1,0.1,0.1,0.1,0.1,0.1,0.1,0.1,0.1,0.1,0.1,0.1,0.1,0.1,0.1,0.1,0.1,0.1,0.1,0.1,0.1,0.1,0.1,0.1,0.1,0.1,0.1,0.1,0.9,0.1,0.2,0.1,0.1,0.1,0.1,0.1,0.1,0.1,0.1,0.1,0.1,0.1,0.1,0.1,0.1,0.1,0.1,0.1,0.1,0.1,0.9,0.1,0.1,0.1,0.1,0.1,0.1,0.1,0.1,0.1,0.1,0.1,0.1,0.1,0.9,0.1,0.2,0.1,0.1,0.1,0.1,0.1,0.1,0.1,0.1,0.1,0.1,0.1,0.1,0.1,0.1,0.1,0.1,0.1,0.1,0.1,0.1,0.1,0.1,0.1,0.1,0.1,0.1,0.1,0.1,0.1,0.1,1.0,0.1,0.1,0.1,0.1,0.2,0.1,0.1,0.1,0.1,0.1,0.1,0.1,0.1,0.1,0.9,0.1,0.1,0.1,0.1,0.1,0.1,0.1,0.1,0.1,0.1,0.1,0.1,0.1,0.1,0.1,0.1,0.1,0.1,0.1,0.1,0.1,0.1,0.1,0.1,0.1,0.2,0.1,0.1,0.1,0.1,0.1,0.1,0.1,0.1,0.9,0.1,0.1,0.1,0.1,0.1,0.1,0.1,0.1,0.1,0.1,0.1,0.1,0.1,0.1,0.1,0.1,0.1,0.1,0.1,0.1,0.1,0.1,0.1,0.1,0.1,0.1,0.2,0.1,0.1,0.1,0.1,0.1,0.1,0.1,0.1,0.1,0.1,0.1,0.1,0.1,0.1,0.1,0.1,0.1,0.1,0.1,0.1,0.1,0.1,0.1,0.1,0.1,0.1,0.1,0.1,0.9,0.1,0.1,0.1,0.1,0.1,0.1,0.2,0.1,0.1,0.1,0.1,0.1,0.1,0.1,0.1,0.1,0.1,0.1,0.1,0.1,0.1,0.1,0.1,0.1,0.1,0.1,0.1,0.1,0.1,0.1,0.1,0.9,0.1,0.1,0.1,0.1,0.1,0.1,0.1,0.1,0.1,0.1,0.2,0.1,0.1,0.1,0.1,0.1,0.1,0.1,0.1,0.1,0.1,0.1,0.9,0.1,0.1,0.1,0.1,0.1,0.1,0.1,0.1,0.1,0.1,0.1,0.1,0.1,0.1,0.1,0.1,0.1,0.1,0.1,0.1,0.1,0.1,0.1,0.2],\"colors\":[\"lightgrey\",\"lightgrey\",\"lightgrey\",\"lightgrey\",\"lightgrey\",\"lightgrey\",\"lightgrey\",\"#e377c2\",\"lightgrey\",\"lightgrey\",\"lightgrey\",\"lightgrey\",\"lightgrey\",\"lightgrey\",\"lightgrey\",\"lightgrey\",\"lightgrey\",\"lightgrey\",\"lightgrey\",\"lightgrey\",\"lightgrey\",\"lightgrey\",\"lightgrey\",\"lightgrey\",\"lightgrey\",\"lightgrey\",\"lightgrey\",\"lightgrey\",\"lightgrey\",\"lightgrey\",\"lightgrey\",\"lightgrey\",\"lightgrey\",\"lightgrey\",\"lightgrey\",\"lightgrey\",\"lightgrey\",\"lightgrey\",\"lightgrey\",\"lightgrey\",\"lightgrey\",\"lightgrey\",\"lightgrey\",\"lightgrey\",\"lightgrey\",\"lightgrey\",\"lightgrey\",\"lightgrey\",\"lightgrey\",\"lightgrey\",\"lightgrey\",\"lightgrey\",\"lightgrey\",\"lightgrey\",\"lightgrey\",\"lightgrey\",\"lightgrey\",\"lightgrey\",\"lightgrey\",\"lightgrey\",\"lightgrey\",\"lightgrey\",\"lightgrey\",\"lightgrey\",\"lightgrey\",\"lightgrey\",\"lightgrey\",\"lightgrey\",\"lightgrey\",\"lightgrey\",\"lightgrey\",\"lightgrey\",\"lightgrey\",\"lightgrey\",\"lightgrey\",\"lightgrey\",\"lightgrey\",\"lightgrey\",\"lightgrey\",\"lightgrey\",\"lightgrey\",\"lightgrey\",\"lightgrey\",\"lightgrey\",\"lightgrey\",\"lightgrey\",\"lightgrey\",\"lightgrey\",\"lightgrey\",\"lightgrey\",\"lightgrey\",\"lightgrey\",\"lightgrey\",\"lightgrey\",\"lightgrey\",\"lightgrey\",\"lightgrey\",\"lightgrey\",\"lightgrey\",\"lightgrey\",\"lightgrey\",\"lightgrey\",\"lightgrey\",\"lightgrey\",\"lightgrey\",\"lightgrey\",\"lightgrey\",\"lightgrey\",\"lightgrey\",\"lightgrey\",\"lightgrey\",\"lightgrey\",\"lightgrey\",\"lightgrey\",\"lightgrey\",\"lightgrey\",\"lightgrey\",\"lightgrey\",\"lightgrey\",\"lightgrey\",\"lightgrey\",\"lightgrey\",\"lightgrey\",\"lightgrey\",\"lightgrey\",\"lightgrey\",\"lightgrey\",\"lightgrey\",\"lightgrey\",\"lightgrey\",\"lightgrey\",\"lightgrey\",\"lightgrey\",\"lightgrey\",\"lightgrey\",\"lightgrey\",\"lightgrey\",\"lightgrey\",\"lightgrey\",\"lightgrey\",\"lightgrey\",\"lightgrey\",\"lightgrey\",\"lightgrey\",\"lightgrey\",\"lightgrey\",\"lightgrey\",\"lightgrey\",\"lightgrey\",\"lightgrey\",\"lightgrey\",\"lightgrey\",\"lightgrey\",\"lightgrey\",\"lightgrey\",\"lightgrey\",\"lightgrey\",\"lightgrey\",\"lightgrey\",\"lightgrey\",\"#ff7f0e\",\"lightgrey\",\"lightgrey\",\"lightgrey\",\"lightgrey\",\"lightgrey\",\"lightgrey\",\"lightgrey\",\"lightgrey\",\"lightgrey\",\"lightgrey\",\"lightgrey\",\"lightgrey\",\"lightgrey\",\"lightgrey\",\"lightgrey\",\"lightgrey\",\"lightgrey\",\"lightgrey\",\"#ff7f0e\",\"lightgrey\",\"lightgrey\",\"lightgrey\",\"lightgrey\",\"lightgrey\",\"lightgrey\",\"lightgrey\",\"lightgrey\",\"lightgrey\",\"lightgrey\",\"lightgrey\",\"lightgrey\",\"lightgrey\",\"lightgrey\",\"lightgrey\",\"lightgrey\",\"lightgrey\",\"lightgrey\",\"lightgrey\",\"lightgrey\",\"lightgrey\",\"lightgrey\",\"lightgrey\",\"lightgrey\",\"lightgrey\",\"lightgrey\",\"lightgrey\",\"lightgrey\",\"lightgrey\",\"lightgrey\",\"lightgrey\",\"lightgrey\",\"lightgrey\",\"lightgrey\",\"lightgrey\",\"lightgrey\",\"lightgrey\",\"lightgrey\",\"lightgrey\",\"lightgrey\",\"lightgrey\",\"lightgrey\",\"lightgrey\",\"lightgrey\",\"lightgrey\",\"lightgrey\",\"lightgrey\",\"lightgrey\",\"lightgrey\",\"lightgrey\",\"lightgrey\",\"lightgrey\",\"lightgrey\",\"lightgrey\",\"lightgrey\",\"lightgrey\",\"lightgrey\",\"lightgrey\",\"lightgrey\",\"lightgrey\",\"lightgrey\",\"lightgrey\",\"lightgrey\",\"lightgrey\",\"lightgrey\",\"lightgrey\",\"lightgrey\",\"grey\",\"lightgrey\",\"lightgrey\",\"lightgrey\",\"lightgrey\",\"lightgrey\",\"lightgrey\",\"lightgrey\",\"lightgrey\",\"lightgrey\",\"lightgrey\",\"lightgrey\",\"lightgrey\",\"lightgrey\",\"lightgrey\",\"lightgrey\",\"lightgrey\",\"lightgrey\",\"lightgrey\",\"lightgrey\",\"lightgrey\",\"lightgrey\",\"lightgrey\",\"lightgrey\",\"lightgrey\",\"lightgrey\",\"lightgrey\",\"grey\",\"lightgrey\",\"lightgrey\",\"lightgrey\",\"lightgrey\",\"lightgrey\",\"lightgrey\",\"lightgrey\",\"lightgrey\",\"grey\",\"lightgrey\",\"lightgrey\",\"lightgrey\",\"lightgrey\",\"lightgrey\",\"lightgrey\",\"lightgrey\",\"lightgrey\",\"lightgrey\",\"lightgrey\",\"lightgrey\",\"lightgrey\",\"lightgrey\",\"lightgrey\",\"lightgrey\",\"lightgrey\",\"lightgrey\",\"lightgrey\",\"lightgrey\",\"lightgrey\",\"lightgrey\",\"lightgrey\",\"lightgrey\",\"lightgrey\",\"lightgrey\",\"lightgrey\",\"lightgrey\",\"lightgrey\",\"lightgrey\",\"lightgrey\",\"lightgrey\",\"lightgrey\",\"lightgrey\",\"lightgrey\",\"lightgrey\",\"lightgrey\",\"lightgrey\",\"lightgrey\",\"lightgrey\",\"grey\",\"lightgrey\",\"lightgrey\",\"lightgrey\",\"lightgrey\",\"lightgrey\",\"lightgrey\",\"lightgrey\",\"lightgrey\",\"lightgrey\",\"lightgrey\",\"lightgrey\",\"lightgrey\",\"lightgrey\",\"lightgrey\",\"lightgrey\",\"lightgrey\",\"lightgrey\",\"lightgrey\",\"lightgrey\",\"lightgrey\",\"lightgrey\",\"lightgrey\",\"lightgrey\",\"lightgrey\",\"lightgrey\",\"lightgrey\",\"lightgrey\",\"lightgrey\",\"lightgrey\",\"lightgrey\",\"lightgrey\",\"lightgrey\",\"lightgrey\",\"lightgrey\",\"lightgrey\",\"lightgrey\",\"lightgrey\",\"lightgrey\",\"lightgrey\",\"lightgrey\",\"lightgrey\",\"lightgrey\",\"lightgrey\",\"lightgrey\",\"lightgrey\",\"lightgrey\",\"lightgrey\",\"lightgrey\",\"lightgrey\",\"lightgrey\",\"lightgrey\",\"#dbdb8d\",\"lightgrey\",\"lightgrey\",\"lightgrey\",\"lightgrey\",\"lightgrey\",\"lightgrey\",\"lightgrey\",\"lightgrey\",\"lightgrey\",\"lightgrey\",\"lightgrey\",\"lightgrey\",\"lightgrey\",\"lightgrey\",\"lightgrey\",\"lightgrey\",\"lightgrey\",\"lightgrey\",\"lightgrey\",\"lightgrey\",\"lightgrey\",\"lightgrey\",\"lightgrey\",\"lightgrey\",\"lightgrey\",\"lightgrey\",\"lightgrey\",\"lightgrey\",\"lightgrey\",\"lightgrey\",\"lightgrey\",\"lightgrey\",\"lightgrey\",\"lightgrey\",\"lightgrey\",\"lightgrey\",\"lightgrey\",\"lightgrey\",\"#17becf\",\"lightgrey\",\"lightgrey\",\"lightgrey\",\"lightgrey\",\"lightgrey\",\"lightgrey\",\"lightgrey\",\"lightgrey\",\"lightgrey\",\"lightgrey\",\"lightgrey\",\"lightgrey\",\"#e377c2\",\"lightgrey\",\"lightgrey\",\"lightgrey\",\"lightgrey\",\"lightgrey\",\"lightgrey\",\"lightgrey\",\"lightgrey\",\"lightgrey\",\"lightgrey\",\"lightgrey\",\"lightgrey\",\"lightgrey\",\"lightgrey\",\"lightgrey\",\"lightgrey\",\"lightgrey\",\"lightgrey\",\"lightgrey\",\"lightgrey\",\"lightgrey\",\"lightgrey\",\"lightgrey\",\"lightgrey\",\"lightgrey\",\"lightgrey\",\"lightgrey\",\"lightgrey\",\"lightgrey\",\"lightgrey\",\"lightgrey\",\"lightgrey\",\"lightgrey\",\"lightgrey\",\"#e377c2\",\"lightgrey\",\"lightgrey\",\"lightgrey\",\"lightgrey\",\"lightgrey\",\"lightgrey\",\"lightgrey\",\"lightgrey\",\"lightgrey\",\"lightgrey\",\"lightgrey\",\"lightgrey\",\"lightgrey\",\"lightgrey\",\"lightgrey\",\"lightgrey\",\"lightgrey\",\"lightgrey\",\"lightgrey\",\"lightgrey\",\"lightgrey\",\"lightgrey\",\"lightgrey\",\"lightgrey\",\"lightgrey\",\"lightgrey\",\"lightgrey\",\"lightgrey\",\"lightgrey\",\"lightgrey\",\"lightgrey\",\"lightgrey\",\"lightgrey\",\"lightgrey\",\"lightgrey\",\"lightgrey\",\"lightgrey\",\"lightgrey\",\"lightgrey\",\"lightgrey\",\"grey\",\"lightgrey\",\"lightgrey\",\"lightgrey\",\"lightgrey\",\"lightgrey\",\"lightgrey\",\"lightgrey\",\"lightgrey\",\"lightgrey\",\"lightgrey\",\"lightgrey\",\"lightgrey\",\"lightgrey\",\"lightgrey\",\"lightgrey\",\"lightgrey\",\"lightgrey\",\"lightgrey\",\"lightgrey\",\"lightgrey\",\"lightgrey\",\"lightgrey\",\"lightgrey\",\"lightgrey\",\"lightgrey\",\"lightgrey\",\"lightgrey\",\"lightgrey\",\"lightgrey\",\"lightgrey\",\"lightgrey\",\"lightgrey\",\"lightgrey\",\"lightgrey\",\"lightgrey\",\"lightgrey\",\"lightgrey\",\"lightgrey\",\"lightgrey\",\"lightgrey\",\"lightgrey\",\"lightgrey\",\"lightgrey\",\"lightgrey\",\"lightgrey\",\"lightgrey\",\"lightgrey\",\"lightgrey\",\"lightgrey\",\"lightgrey\",\"lightgrey\",\"lightgrey\",\"lightgrey\",\"lightgrey\",\"lightgrey\",\"lightgrey\",\"lightgrey\",\"lightgrey\",\"lightgrey\",\"lightgrey\",\"lightgrey\",\"lightgrey\",\"lightgrey\",\"grey\",\"lightgrey\",\"lightgrey\",\"lightgrey\",\"lightgrey\",\"lightgrey\",\"lightgrey\",\"lightgrey\",\"lightgrey\",\"lightgrey\",\"lightgrey\",\"lightgrey\",\"lightgrey\",\"lightgrey\",\"lightgrey\",\"lightgrey\",\"lightgrey\",\"lightgrey\",\"lightgrey\",\"lightgrey\",\"lightgrey\",\"lightgrey\",\"lightgrey\",\"lightgrey\",\"lightgrey\",\"lightgrey\",\"lightgrey\",\"lightgrey\",\"lightgrey\",\"lightgrey\",\"lightgrey\",\"grey\",\"lightgrey\",\"lightgrey\",\"lightgrey\",\"lightgrey\",\"lightgrey\",\"lightgrey\",\"lightgrey\",\"lightgrey\",\"lightgrey\",\"lightgrey\",\"lightgrey\",\"lightgrey\",\"lightgrey\",\"lightgrey\",\"lightgrey\",\"lightgrey\",\"lightgrey\",\"lightgrey\",\"lightgrey\",\"lightgrey\",\"lightgrey\",\"lightgrey\",\"lightgrey\",\"lightgrey\",\"lightgrey\",\"lightgrey\",\"lightgrey\",\"lightgrey\",\"lightgrey\",\"lightgrey\",\"lightgrey\",\"lightgrey\",\"lightgrey\",\"lightgrey\",\"lightgrey\",\"lightgrey\",\"lightgrey\",\"lightgrey\",\"lightgrey\",\"lightgrey\",\"lightgrey\",\"lightgrey\",\"lightgrey\",\"lightgrey\",\"lightgrey\",\"lightgrey\",\"lightgrey\",\"#bcbd22\",\"lightgrey\",\"lightgrey\",\"lightgrey\",\"lightgrey\",\"lightgrey\",\"lightgrey\",\"lightgrey\",\"lightgrey\",\"lightgrey\",\"lightgrey\",\"lightgrey\",\"lightgrey\",\"lightgrey\",\"lightgrey\",\"lightgrey\",\"lightgrey\",\"lightgrey\",\"lightgrey\",\"lightgrey\",\"lightgrey\",\"lightgrey\",\"lightgrey\",\"lightgrey\",\"lightgrey\",\"lightgrey\",\"lightgrey\",\"lightgrey\",\"lightgrey\",\"lightgrey\",\"lightgrey\",\"lightgrey\",\"lightgrey\",\"lightgrey\",\"lightgrey\",\"lightgrey\",\"lightgrey\",\"lightgrey\",\"lightgrey\",\"lightgrey\",\"lightgrey\",\"lightgrey\",\"lightgrey\",\"grey\",\"lightgrey\",\"lightgrey\",\"lightgrey\",\"lightgrey\",\"lightgrey\",\"lightgrey\",\"lightgrey\",\"lightgrey\",\"lightgrey\",\"lightgrey\",\"lightgrey\",\"lightgrey\",\"lightgrey\",\"lightgrey\",\"lightgrey\",\"lightgrey\",\"lightgrey\",\"lightgrey\",\"lightgrey\",\"lightgrey\",\"lightgrey\",\"lightgrey\",\"lightgrey\",\"lightgrey\",\"lightgrey\",\"lightgrey\",\"lightgrey\",\"lightgrey\",\"lightgrey\",\"#ff7f0e\",\"lightgrey\",\"lightgrey\",\"lightgrey\",\"lightgrey\",\"lightgrey\",\"lightgrey\",\"lightgrey\",\"lightgrey\",\"lightgrey\",\"lightgrey\",\"lightgrey\",\"lightgrey\",\"lightgrey\",\"lightgrey\",\"lightgrey\",\"lightgrey\",\"lightgrey\",\"lightgrey\",\"lightgrey\",\"lightgrey\",\"lightgrey\",\"lightgrey\",\"lightgrey\",\"lightgrey\",\"lightgrey\",\"lightgrey\",\"lightgrey\",\"lightgrey\",\"lightgrey\",\"lightgrey\",\"lightgrey\",\"lightgrey\",\"lightgrey\",\"lightgrey\",\"grey\",\"lightgrey\",\"lightgrey\",\"lightgrey\",\"lightgrey\",\"lightgrey\",\"lightgrey\",\"lightgrey\",\"lightgrey\",\"lightgrey\",\"lightgrey\",\"lightgrey\",\"lightgrey\",\"lightgrey\",\"lightgrey\",\"lightgrey\",\"grey\",\"lightgrey\",\"lightgrey\",\"lightgrey\",\"lightgrey\",\"lightgrey\",\"lightgrey\",\"lightgrey\",\"lightgrey\",\"lightgrey\",\"lightgrey\",\"lightgrey\",\"lightgrey\",\"lightgrey\",\"lightgrey\",\"lightgrey\",\"lightgrey\",\"lightgrey\",\"lightgrey\",\"lightgrey\",\"lightgrey\",\"lightgrey\",\"lightgrey\",\"lightgrey\",\"lightgrey\",\"lightgrey\",\"lightgrey\",\"lightgrey\",\"lightgrey\",\"lightgrey\",\"lightgrey\",\"lightgrey\",\"lightgrey\",\"lightgrey\",\"lightgrey\",\"lightgrey\",\"#d62728\",\"lightgrey\",\"lightgrey\",\"lightgrey\",\"lightgrey\",\"#d62728\",\"lightgrey\",\"lightgrey\",\"lightgrey\",\"lightgrey\",\"lightgrey\",\"lightgrey\",\"lightgrey\",\"lightgrey\",\"#d62728\",\"lightgrey\",\"lightgrey\",\"lightgrey\",\"lightgrey\",\"lightgrey\",\"lightgrey\",\"lightgrey\",\"lightgrey\",\"lightgrey\",\"lightgrey\",\"lightgrey\",\"lightgrey\",\"lightgrey\",\"lightgrey\",\"lightgrey\",\"lightgrey\",\"lightgrey\",\"lightgrey\",\"lightgrey\",\"lightgrey\",\"lightgrey\",\"lightgrey\",\"grey\",\"lightgrey\",\"lightgrey\",\"lightgrey\",\"lightgrey\",\"lightgrey\",\"lightgrey\",\"lightgrey\",\"lightgrey\",\"lightgrey\",\"lightgrey\",\"lightgrey\",\"lightgrey\",\"lightgrey\",\"lightgrey\",\"lightgrey\",\"lightgrey\",\"lightgrey\",\"lightgrey\",\"lightgrey\",\"grey\",\"lightgrey\",\"lightgrey\",\"lightgrey\",\"lightgrey\",\"lightgrey\",\"lightgrey\",\"lightgrey\",\"lightgrey\",\"lightgrey\",\"lightgrey\",\"lightgrey\",\"lightgrey\",\"lightgrey\",\"lightgrey\",\"lightgrey\",\"lightgrey\",\"lightgrey\",\"lightgrey\",\"lightgrey\",\"lightgrey\",\"lightgrey\",\"lightgrey\",\"lightgrey\",\"lightgrey\",\"lightgrey\",\"lightgrey\",\"lightgrey\",\"lightgrey\",\"lightgrey\",\"lightgrey\",\"lightgrey\",\"lightgrey\",\"lightgrey\",\"#dbdb8d\",\"lightgrey\",\"lightgrey\",\"lightgrey\",\"lightgrey\",\"lightgrey\",\"lightgrey\",\"lightgrey\",\"lightgrey\",\"lightgrey\",\"lightgrey\",\"lightgrey\",\"lightgrey\",\"lightgrey\",\"lightgrey\",\"lightgrey\",\"lightgrey\",\"lightgrey\",\"lightgrey\",\"lightgrey\",\"lightgrey\",\"lightgrey\",\"lightgrey\",\"lightgrey\",\"lightgrey\",\"lightgrey\",\"lightgrey\",\"lightgrey\",\"lightgrey\",\"lightgrey\",\"lightgrey\",\"#bcbd22\",\"lightgrey\",\"lightgrey\",\"lightgrey\",\"lightgrey\",\"lightgrey\",\"lightgrey\",\"lightgrey\",\"lightgrey\",\"lightgrey\",\"lightgrey\",\"lightgrey\",\"lightgrey\",\"lightgrey\",\"lightgrey\",\"lightgrey\",\"lightgrey\",\"lightgrey\",\"lightgrey\",\"lightgrey\",\"lightgrey\",\"lightgrey\",\"lightgrey\",\"lightgrey\",\"lightgrey\",\"lightgrey\",\"lightgrey\",\"lightgrey\",\"lightgrey\",\"lightgrey\",\"lightgrey\",\"lightgrey\",\"lightgrey\",\"lightgrey\",\"lightgrey\",\"lightgrey\",\"lightgrey\",\"lightgrey\",\"lightgrey\",\"lightgrey\",\"lightgrey\",\"lightgrey\",\"grey\",\"lightgrey\",\"lightgrey\",\"lightgrey\",\"lightgrey\",\"lightgrey\",\"lightgrey\",\"lightgrey\",\"lightgrey\",\"lightgrey\",\"lightgrey\",\"lightgrey\",\"lightgrey\",\"lightgrey\",\"lightgrey\",\"lightgrey\",\"lightgrey\",\"lightgrey\",\"lightgrey\",\"lightgrey\",\"lightgrey\",\"lightgrey\",\"grey\",\"lightgrey\",\"lightgrey\",\"lightgrey\",\"lightgrey\",\"lightgrey\",\"lightgrey\",\"lightgrey\",\"lightgrey\",\"lightgrey\",\"lightgrey\",\"lightgrey\",\"lightgrey\",\"lightgrey\",\"grey\",\"lightgrey\",\"lightgrey\",\"lightgrey\",\"lightgrey\",\"lightgrey\",\"lightgrey\",\"lightgrey\",\"lightgrey\",\"lightgrey\",\"lightgrey\",\"lightgrey\",\"lightgrey\",\"lightgrey\",\"lightgrey\",\"lightgrey\",\"lightgrey\",\"lightgrey\",\"lightgrey\",\"lightgrey\",\"lightgrey\",\"lightgrey\",\"lightgrey\",\"lightgrey\",\"lightgrey\",\"lightgrey\",\"lightgrey\",\"lightgrey\",\"lightgrey\",\"lightgrey\",\"lightgrey\",\"lightgrey\",\"lightgrey\",\"#17becf\",\"lightgrey\",\"lightgrey\",\"lightgrey\",\"lightgrey\",\"lightgrey\",\"lightgrey\",\"lightgrey\",\"lightgrey\",\"lightgrey\",\"lightgrey\",\"lightgrey\",\"lightgrey\",\"lightgrey\",\"lightgrey\",\"grey\",\"lightgrey\",\"lightgrey\",\"lightgrey\",\"lightgrey\",\"lightgrey\",\"lightgrey\",\"lightgrey\",\"lightgrey\",\"lightgrey\",\"lightgrey\",\"lightgrey\",\"lightgrey\",\"lightgrey\",\"lightgrey\",\"lightgrey\",\"lightgrey\",\"lightgrey\",\"lightgrey\",\"lightgrey\",\"lightgrey\",\"lightgrey\",\"lightgrey\",\"lightgrey\",\"lightgrey\",\"lightgrey\",\"lightgrey\",\"lightgrey\",\"lightgrey\",\"lightgrey\",\"lightgrey\",\"lightgrey\",\"lightgrey\",\"lightgrey\",\"lightgrey\",\"grey\",\"lightgrey\",\"lightgrey\",\"lightgrey\",\"lightgrey\",\"lightgrey\",\"lightgrey\",\"lightgrey\",\"lightgrey\",\"lightgrey\",\"lightgrey\",\"lightgrey\",\"lightgrey\",\"lightgrey\",\"lightgrey\",\"lightgrey\",\"lightgrey\",\"lightgrey\",\"lightgrey\",\"lightgrey\",\"lightgrey\",\"lightgrey\",\"lightgrey\",\"lightgrey\",\"lightgrey\",\"lightgrey\",\"lightgrey\",\"lightgrey\",\"lightgrey\",\"lightgrey\",\"lightgrey\",\"lightgrey\",\"lightgrey\",\"lightgrey\",\"lightgrey\",\"lightgrey\",\"lightgrey\",\"lightgrey\",\"lightgrey\",\"lightgrey\",\"lightgrey\",\"lightgrey\",\"lightgrey\",\"lightgrey\",\"lightgrey\",\"lightgrey\",\"lightgrey\",\"lightgrey\",\"lightgrey\",\"lightgrey\",\"lightgrey\",\"lightgrey\",\"lightgrey\",\"lightgrey\",\"lightgrey\",\"lightgrey\",\"grey\",\"lightgrey\",\"lightgrey\",\"lightgrey\",\"lightgrey\",\"lightgrey\",\"lightgrey\",\"lightgrey\",\"lightgrey\",\"lightgrey\",\"lightgrey\",\"lightgrey\",\"lightgrey\",\"lightgrey\",\"lightgrey\",\"lightgrey\",\"lightgrey\",\"lightgrey\",\"lightgrey\",\"lightgrey\",\"lightgrey\",\"lightgrey\",\"lightgrey\",\"lightgrey\",\"lightgrey\",\"lightgrey\",\"lightgrey\",\"lightgrey\",\"lightgrey\",\"lightgrey\",\"lightgrey\",\"lightgrey\",\"grey\",\"lightgrey\",\"lightgrey\",\"lightgrey\",\"lightgrey\",\"lightgrey\",\"lightgrey\",\"lightgrey\",\"lightgrey\",\"lightgrey\",\"lightgrey\",\"lightgrey\",\"lightgrey\",\"lightgrey\",\"lightgrey\",\"lightgrey\",\"lightgrey\",\"lightgrey\",\"lightgrey\",\"lightgrey\",\"lightgrey\",\"lightgrey\",\"lightgrey\",\"grey\",\"lightgrey\",\"lightgrey\",\"lightgrey\",\"lightgrey\",\"lightgrey\",\"lightgrey\",\"lightgrey\",\"lightgrey\",\"lightgrey\",\"lightgrey\",\"lightgrey\",\"lightgrey\",\"lightgrey\",\"lightgrey\",\"lightgrey\",\"lightgrey\",\"lightgrey\",\"lightgrey\",\"lightgrey\",\"lightgrey\",\"lightgrey\",\"lightgrey\",\"lightgrey\",\"lightgrey\"],\"weight\":{\"__ndarray__\":\"AAAAAAAAAAAAAAAAAAAAAAAAAAAAAAAAAAAAAAAAAAAAAAAAAAAAAAAAAAAAAAAAAAAAAAAAAAAAAAAAAADwPwAAAAAAAAAAAAAAAAAAAAAAAAAAAAAAAAAAAAAAAAAAAAAAAAAAAAAAAAAAAAAAAAAAAAAAAAAAAAAAAAAAAAAAAAAAAAAAAAAAAAAAAAAAAAAAAAAAAAAAAAAAAAAAAAAAAAAAAAAAAAAAAAAAAAAAAAAAAAAAAAAAAAAAAAAAAAAAAAAAAAAAAAAAAAAAAAAAAAAAAAAAAAAAAAAAAAAAAAAAAAAAAAAAAAAAAAAAAAAAAAAAAAAAAAAAAAAAAAAAAAAAAAAAAAAAAAAAAAAAAAAAAAAAAAAAAAAAAAAAAAAAAAAAAAAAAAAAAAAAAAAAAAAAAAAAAAAAAAAAAAAAAAAAAAAAAAAAAAAAAAAAAAAAAAAAAAAAAAAAAAAAAAAAAAAAAAAAAAAAAAAAAAAAAAAAAAAAAAAAAAAAAAAAAAAAAAAAAAAAAAAAAAAAAAAAAAAAAAAAAAAAAAAAAAAAAAAAAAAAAAAAAAAAAAAAAAAAAAAAAAAAAAAAAAAAAAAAAAAAAAAAAAAAAAAAAAAAAAAAAAAAAAAAAAAAAAAAAAAAAAAAAAAAAAAAAAAAAAAAAAAAAAAAAAAAAAAAAAAAAAAAAAAAAAAAAAAAAAAAAAAAAAAAAAAAAAAAAAAAAAAAAAAAAAAAAAAAAAAAAAAAAAAAAAAAAAAAAAAAAAAAAAAAAAAAAAAAAAAAAAAAAAAAAAAAAAAAAAAAAAAAAAAAAAAAAAAAAAAAAAAAAAAAAAAAAAAAAAAAAAAAAAAAAAAAAAAAAAAAAAAAAAAAAAAAAAAAAAAAAAAAAAAAAAAAAAAAAAAAAAAAAAAAAAAAAAAAAAAAAAAAAAAAAAAAAAAAAAAAAAAAAAAAAAAAAAAAAAAAAAAAAAAAAAAAAAAAAAAAAAAAAAAAAAAAAAAAAAAAAAAAAAAAAAAAAAAAAAAAAAAAAAAAAAAAAAAAAAAAAAAAAAAAAAAAAAAAAAAAAAAAAAAAAAAAAAAAAAAAAAAAAAAAAAAAAAAAAAAAAAAAAAAAAAAAAAAAAAAAAAAAAAAAAAAAAAAAAAAAAAAAAAAAAAAAAAAAAAAAAAAAAAAAAAAAAAAAAAAAAAAAAAAAAAAAAAAAAAAAAAAAAAAAAAAAAAAAAAAAAAAAAAAAAAAAAAAAAAAAAAAAAAAAAAAAAAAAAAAAAAAAAAAAAAAAAAAAAAAAAAAAAAAAAAAAAAAAAAAAAAAAAAAAAAAAAAAAAAAAAAAAAAAAAAAAAAAAAAAAAAAAAAAAAAAAAAAAAAAAAAAAAAAAAAAAAAAAAAAAAAAAAAAAAAAAAAAAAAAAAAAAAAAAAAAAAAAAAAAAAAAAAAAAAAAAAAAAAAAAAAAAAAAAAAAAAAAAAAAAAAAAAAAAAAAAAAAAAAAAAAAAAAAAAAAAAAAAAAAAAAAAAAAAAAAAAAAAAAAAAAAAAAAAAAAAAAAAAAAAAAAAAAAAAAAAAAAAAAAAAAAAAAAAAAAAAAAAAAAAAAAAAAAAAAAAAAAAAAAAAAAAAAAAAAAAAAAAAAAAAAAAAAAAAAAAAAAAAAAAAAAAAAAAAAAAAAAAAAAAAAAAAAAAAAAAAAAAAAAAAAAAAAAAAAAAAAAAAAAAAAAAAAAAAADwPwAAAAAAAAAAAAAAAAAAAAAAAAAAAAAAAAAAAAAAAAAAAAAAAAAAAAAAAAAAAAAAAAAAAAAAAAAAAAAAAAAAAAAAAAAAAAAAAAAAAAAAAAAAAAAAAAAAAAAAAAAAAAAAAAAAAAAAAAAAAAAAAAAAAAAAAAAAAAAAAAAAAAAAAAAAAAAAAAAAAAAAAAAAAAAAAAAAAAAAAPA/AAAAAAAAAAAAAAAAAAAAAAAAAAAAAAAAAAAAAAAAAAAAAAAAAAAAAAAAAAAAAAAAAAAAAAAAAAAAAAAAAAAAAAAAAAAAAAAAAAAAAAAAAAAAAAAAAAAAAAAAAAAAAAAAAAAAAAAAAAAAAAAAAAAAAAAAAAAAAAAAAAAAAAAAAAAAAAAAAAAAAAAAAAAAAAAAAAAAAAAAAAAAAAAAAAAAAAAAAAAAAAAAAAAAAAAAAAAAAAAAAAAAAAAAAAAAAAAAAAAAAAAAAAAAAAAAAAAAAAAAAAAAAAAAAAAAAAAAAAAAAAAAAAAAAAAAAAAAAAAAAAAAAAAAAAAAAAAAAAAAAAAAAAAAAAAAAAAAAAAAAAAAAAAAAAAAAAAAAAAAAAAAAAAAAAAAAAAAAAAAAAAAAAAAAAAAAAAAAAAAAAAAAAAAAAAAAAAAAAAAAAAAAAAAAAAAAAAAAAAAAAAAAAAAAAAAAAAAAAAAAAAAAAAAAAAAAAAAAAAAAAAAAAAAAAAAAAAAAAAAAAAAAAAAAAAAAAAAAAAAAAAAAAAAAAAAAAAAAAAAAAAAAAAAAAAAAAAAAAAAAAAAAAAAAAAAAAAAAAAAAAAAAAAAAAAAAAAAAAAAAAAAAAAAAAAAAAAAAAAAAAAAAAAAAAAAAAAAAAAAAAAAAAAAAAAAAAAAAAAAAAAAAAAAAAAAAAAAAAAAAAAAAAAAAAAAAAAAAAAAAADwPwAAAAAAAAAAAAAAAAAAAAAAAAAAAAAAAAAAAAAAAAAAAAAAAAAAAAAAAAAAAAAAAAAAAAAAAAAAAAAAAAAAAAAAAAAAAAAAAAAAAAAAAAAAAAAAAAAAAAAAAAAAAAAAAAAAAAAAAAAAAAAAAAAAAAAAAAAAAAAAAAAAAAAAAAAAAAAAAAAAAAAAAAAAAAAAAAAAAAAAAAAAAAAAAAAAAAAAAAAAAAAAAAAAAAAAAAAAAAAAAAAAAAAAAAAAAAAAAAAAAAAAAAAAAAAAAAAAAAAAAAAAAADwPwAAAAAAAAAAAAAAAAAAAAAAAAAAAAAAAAAAAAAAAAAAAAAAAAAAAAAAAAAAAAAAAAAAAAAAAAAAAAAAAAAAAAAAAAAAAADwPwAAAAAAAAAAAAAAAAAAAAAAAAAAAAAAAAAAAAAAAAAAAAAAAAAAAAAAAAAAAAAAAAAAAAAAAAAAAAAAAAAAAAAAAAAAAAAAAAAAAAAAAAAAAAAAAAAAAAAAAAAAAAAAAAAAAAAAAAAAAAAAAAAAAAAAAAAAAAAAAAAAAAAAAAAAAAAAAAAAAAAAAAAAAAAAAAAAAAAAAAAAAAAAAAAAAAAAAAAAAAAAAAAAAAAAAAAAAAAAAAAAAAAAAAAAAAAAAAAAAAAAAAAAAAAAAAAAAAAAAAAAAAAAAAAAAAAAAAAAAAAAAAAAAAAAAAAAAAAAAAAAAAAAAAAAAAAAAAAAAAAAAAAAAAAAAAAAAAAAAAAAAAAAAAAAAAAAAAAAAAAAAAAAAAAAAAAAAAAAAAAAAAAAAAAAAAAAAAAAAAAAAPA/AAAAAAAAAAAAAAAAAAAAAAAAAAAAAAAAAAAAAAAAAAAAAAAAAAAAAAAAAAAAAAAAAAAAAAAAAAAAAAAAAAAAAAAAAAAAAAAAAAAAAAAAAAAAAAAAAAAAAAAAAAAAAAAAAAAAAAAAAAAAAAAAAAAAAAAAAAAAAAAAAAAAAAAAAAAAAAAAAAAAAAAAAAAAAAAAAAAAAAAAAAAAAAAAAAAAAAAAAAAAAAAAAAAAAAAAAAAAAAAAAAAAAAAAAAAAAAAAAAAAAAAAAAAAAAAAAAAAAAAAAAAAAAAAAAAAAAAAAAAAAAAAAAAAAAAAAAAAAAAAAAAAAAAAAAAAAAAAAAAAAAAAAAAAAAAAAAAAAAAAAAAAAAAAAAAAAAAAAAAAAAAAAAAAAAAAAAAAAAAAAAAAAAAAAAAAAAAAAAAAAAAAAAAAAAAAAAAAAAAAAAAAAAAAAAAAAAAAAAAAAAAAAAAAAAAAAAAAAAAAAAAAAAAAAAAAAAAAAAAAAAAAAAAAAAAAAAAAAAAAAAAAAAAAAAAAAAAAAAAAAAAAAAAAAAAA8D8AAAAAAAAAAAAAAAAAAAAAAAAAAAAAAAAAAAAAAAAAAAAAAAAAAAAAAAAAAAAAAAAAAAAAAAAAAAAAAAAAAAAAAAAAAAAAAAAAAAAAAAAAAAAAAAAAAAAAAAAAAAAAAAAAAAAAAAAAAAAAAAAAAAAAAAAAAAAAAAAAAAAAAAAAAAAAAAAAAAAAAAAAAAAAAAAAAAAAAAAAAAAAAAAAAAAAAAAAAAAAAAAAAAAAAAAAAAAAAAAAAAAAAAAAAAAAAAAAAAAAAAAAAAAAAAAAAAAAAAAAAAAAAAAAAAAAAAAAAAAAAAAAAAAAAAAAAAAAAAAAAAAAAAAAAAAAAAAAAAAAAAAAAAAAAAAAAAAAAAAAAAAAAAAAAAAAAAAAAAAAAAAAAAAAAAAAAAAAAAAAAAAAAAAAAAAA8D8AAAAAAAAAAAAAAAAAAAAAAAAAAAAAAAAAAAAAAAAAAAAAAAAAAAAAAAAAAAAAAAAAAAAAAAAAAAAAAAAAAAAAAAAAAAAAAAAAAAAAAAAAAAAAAAAAAAAAAAAAAAAAAAAAAAAAAADwPwAAAAAAAAAAAAAAAAAAAAAAAAAAAAAAAAAAAAAAAAAAAAAAAAAAAAAAAAAAAAAAAAAAAAAAAAAAAAAAAAAAAAAAAAAAAAAAAAAAAAAAAAAAAAAAAAAAAAAAAAAAAAAAAAAAAAAAAAAAAAAAAAAAAAAAAAAAAAAAAAAAAAAAAAAAAAAAAAAAAAAAAAAAAAAAAAAAAAAAAAAAAAAAAAAAAAAAAAAAAAAAAAAAAAAAAAAAAAAAAAAAAAAAAAAAAAAAAAAAAAAAAAAAAAAAAAAAAAAAAAAAAAAAAAAAAAAAAAAAAAAAAAAAAAAAAAAAAAAAAAAAAAAAAAAAAAAAAAAAAAAAAAAAAAAAAAAAAAAAAAAAAAAAAAAA8D8AAAAAAAAAAAAAAAAAAAAAAAAAAAAAAAAAAAAAAAAAAAAAAAAAAAAAAAAAAAAAAAAAAAAAAAAAAAAAAAAAAAAAAAAAAAAAAAAAAAAAAAAAAAAAAAAAAAAAAAAAAAAAAAAAAAAAAAAAAAAAAAAAAAAAAAAAAAAAAAAAAAAAAAAAAAAAAAAAAAAAAAAAAAAAAAAAAAAAAAAAAAAAAAAAAAAAAAAAAAAAAAAAAAAAAAAAAAAAAAAAAAAAAAAAAAAAAAAAAAAAAAAAAAAAAAAAAAAAAAAAAAAAAAAAAAAAAAAAAAAAAAAAAAAAAAAAAAAAAAAAAAAAAAAAAAAAAAAAAAAAAAAAAAAAAAAAAAAAAAAAAAAAAAAAAAAAAAAAAAAAAAAAAAAAAAAAAAAAAAAAAAAAAAAAAAAAAAAAAAAAAAAAAAAAAAAAAPA/AAAAAAAAAAAAAAAAAAAAAAAAAAAAAAAAAAAAAAAAAAAAAAAAAAAAAAAAAAAAAAAAAAAAAAAAAAAAAAAAAAAAAAAAAAAAAAAAAAAAAAAAAAAAAAAAAAAAAAAAAAAAAAAAAAAAAAAAAAAAAAAAAAAAAAAAAAAAAAAAAAAAAAAAAAAAAAAAAAAAAAAAAAAAAAAAAAAAAAAAAAAAAAAAAAAAAAAAAAAAAAAAAAAAAAAAAAAAAAAAAAAAAAAAAAAAAAAAAAAAAAAAAAAAAAAAAAAAAAAAAAAAAAAAAAAAAAAAAAAAAAAAAAAAAAAAAAAAAAAAAAAAAAAAAAAAAAAAAAAAAAAAAAAAAAAAAAAAAAAAAAAAAAAAAAAAAAAAAAAAAAAAAAAAAAAAAAAAAAAAAAAAAAAAAAAAAAAAAAAAAAAAAAAAAAAAAAAAAAAAAAAAAAAAAAAAAAAAAAAAAAAAAAAAAAAAAAAAAAAAAAAAAAAAAAAAAAAAAAAAAAAAAAAAAAAAAAAAAAAAAAAAAAAAAAAAAAAAAAAAAAAAAAAAAAAAAAAAAAAAAAAAAAAAAAAAAAAAAAAAAAAAAAAAAAAAAAAAAAAAAAAAAAAAAAAAAAAAAAAAAAAAAAAAAAAAAAAAAAAAAAAAAAAAAAAAAAAAAAAAAAAAAAAAAAAAAAAAAAAA8D8AAAAAAAAAAAAAAAAAAAAAAAAAAAAAAAAAAAAAAAAAAAAAAAAAAAAAAAAAAAAAAAAAAAAAAAAAAAAAAAAAAAAAAAAAAAAAAAAAAAAAAAAAAAAAAAAAAAAAAAAAAAAAAAAAAAAAAAAAAAAAAAAAAAAAAAAAAAAAAAAAAAAAAAAAAAAAAAAAAAAAAAAAAAAAAAAAAAAAAAAAAAAAAAAAAAAAAAAAAAAAAAAAAAAAAAAAAAAAAAAAAAAAAAAAAAAAAAAAAAAAAAAAAAAAAAAAAAAAAAAAAAAAAAAAAAAAAAAAAAAAAAAAAAAAAAAAAAAAAAAAAAAAAADwPwAAAAAAAAAAAAAAAAAAAAAAAAAAAAAAAAAAAAAAAAAAAAAAAAAAAAAAAAAAAAAAAAAAAAAAAAAAAAAAAAAAAAAAAAAAAAAAAAAAAAAAAAAAAAAAAAAAAAAAAAAAAAAAAAAAAAAAAAAAAAAAAAAAAAAAAAAAAAAAAAAAAAAAAAAAAAAAAAAAAAAAAAAAAAAAAAAAAAAAAAAAAAAAAAAAAAAAAAAAAAAAAAAAAAAAAAAAAAAAAAAAAAAAAAAAAAAAAAAAAAAAAAAAAAAAAAAAAAAAAAAAAAAAAAAAAAAAAAAAAAAAAAAAAAAAAAAAAAAAAAAAAAAAAAAAAAAAAAAAAAAAAAAAAAAAAAAAAAAAAAAAAAAAAAAAAAAAAAAAAAAAAAAAAAAAAAAAAAAAAAAAAAAAAAAAAAAAAAAAAAAAAAAAAAAAAAAAAAAAAAAAAAAAAAAAAAAAAAAAAAAAAAAAAAAAAAAAAAAAAAAAAAAAAAAAAAAAAAAAAAAAAAAAAADwPwAAAAAAAAAAAAAAAAAAAAAAAAAAAAAAAAAAAAAAAAAAAAAAAAAAAAAAAAAAAAAAAAAAAAAAAAAAAAAAAAAAAAAAAAAAAAAAAAAAAAAAAAAAAAAAAAAAAAAAAAAAAAAAAAAAAAAAAAAAAAAAAAAAAAAAAAAAAAAAAAAAAAAAAAAAAAAAAAAAAAAAAAAAAAAAAAAAAAAAAAAAAAAAAAAAAAAAAAAAAAAAAAAAAAAAAAAAAAAAAAAAAAAAAAAAAAAAAAAAAAAAAAAAAAAAAAAAAAAAAAAAAAAAAAAAAAAAAAAAAAAAAAAAAAAAAAAAAAAAAAAAAAAAAAAAAAAAAAAAAAAAAAAAAAAAAAAAAAAAAAAAAAAAAAAAAAAAAAAAAAAAAAAAAAAAAAAAAAAAAAAAAAAAAAAAAAAAAAAAAAAAAAAAAAAAAAAAAAAAAAAAAAAAAAAAAAAAAPA/AAAAAAAAAAAAAAAAAAAAAAAAAAAAAAAAAAAAAAAAAAAAAAAAAAAAAAAAAAAAAAAAAAAAAAAAAAAAAAAAAAAAAAAAAAAAAAAAAAAAAAAAAAAAAAAAAAAAAAAAAAAAAAAAAAAAAAAAAAAAAAAAAAAAAAAAAAAAAAAAAAAAAAAAAAAAAAAAAAAAAAAAAAAAAAAAAAAAAAAAAAAAAAAAAAAAAAAAAAAAAAAAAAAAAAAAAAAAAAAAAAAAAAAAAAAAAAAAAAAAAAAAAAAAAAAAAAAAAAAAAAAAAAAAAAAAAAAAAAAAAAAAAAAAAAAAAAAAAPA/AAAAAAAAAAAAAAAAAAAAAAAAAAAAAAAAAAAAAAAAAAAAAAAAAAAAAAAAAAAAAAAAAAAAAAAAAAAAAAAAAAAAAAAAAAAAAAAAAAAAAAAAAAAAAAAAAAAAAAAAAAAAAAAAAAAAAAAAAAAAAAAAAAAAAAAAAAAAAAAAAAAAAAAAAAAAAAAAAAAAAAAAAAAAAAAAAAAAAAAAAAAAAAAAAAAAAAAAAAAAAAAAAAAAAAAAAAAAAAAAAAAAAAAAAAAAAAAAAAAAAAAAAAAAAAAAAAAAAAAAAAAAAAAAAAAAAAAAAAAAAAAAAAAAAAAAAAAAAAAAAAAAAAAAAAAAAAAAAAAAAAAAAAAAAAAAAAAAAAAAAAAAAAAAAADwPwAAAAAAAAAAAAAAAAAAAAAAAAAAAAAAAAAAAAAAAAAAAAAAAAAAAAAAAAAAAAAAAAAAAAAAAAAAAAAAAAAAAAAAAAAAAAAAAAAAAAAAAAAAAAAAAAAAAAAAAAAAAAAAAAAAAAAAAAAAAAAAAAAAAAAAAAAAAAAAAAAAAAAAAPA/AAAAAAAAAAAAAAAAAAAAAAAAAAAAAAAAAAAAAAAAAAAAAAAAAAAAAAAAAAAAAAAAAAAAAAAAAAAAAAAAAAAAAAAAAAAAAAAAAAAAAAAAAAAAAAAAAAAAAAAAAAAAAAAAAAAAAAAAAAAAAAAAAAAAAAAAAAAAAAAAAAAAAAAAAAAAAAAAAAAAAAAAAAAAAAAAAAAAAAAAAAAAAAAAAAAAAAAAAAAAAAAAAAAAAAAAAAAAAAAAAAAAAAAAAAAAAAAAAAAAAAAAAAAAAAAAAAAAAAAAAAAAAAAAAAAAAAAAAAAAAAAAAAAAAAAAAAAAAAAAAAAAAAAAAAAAAAAAAAAAAAAAAAAAAAAAAAAAAAAAAAAAAAAAAAAAAAAAAAAAAPA/AAAAAAAAAAAAAAAAAAAAAAAAAAAAAAAAAAAAAAAAAAAAAAAAAADwPwAAAAAAAAAAAAAAAAAAAAAAAAAAAAAAAAAAAAAAAAAAAAAAAAAAAAAAAAAAAAAAAAAAAAAAAAAAAAAAAAAAAAAAAAAAAADwPwAAAAAAAAAAAAAAAAAAAAAAAAAAAAAAAAAAAAAAAAAAAAAAAAAAAAAAAAAAAAAAAAAAAAAAAAAAAAAAAAAAAAAAAAAAAAAAAAAAAAAAAAAAAAAAAAAAAAAAAAAAAAAAAAAAAAAAAAAAAAAAAAAAAAAAAAAAAAAAAAAAAAAAAAAAAAAAAAAAAAAAAAAAAAAAAAAAAAAAAAAAAAAAAAAAAAAAAAAAAAAAAAAAAAAAAAAAAAAAAAAA8D8AAAAAAAAAAAAAAAAAAAAAAAAAAAAAAAAAAAAAAAAAAAAAAAAAAAAAAAAAAAAAAAAAAAAAAAAAAAAAAAAAAAAAAAAAAAAAAAAAAAAAAAAAAAAAAAAAAAAAAAAAAAAAAAAAAAAAAAAAAAAAAAAAAAAAAAAAAAAAAAAAAAAAAAAAAAAAAAAAAAAAAAAAAAAAAAAAAAAAAAAAAAAAAAAAAPA/AAAAAAAAAAAAAAAAAAAAAAAAAAAAAAAAAAAAAAAAAAAAAAAAAAAAAAAAAAAAAAAAAAAAAAAAAAAAAAAAAAAAAAAAAAAAAAAAAAAAAAAAAAAAAAAAAAAAAAAAAAAAAAAAAAAAAAAAAAAAAAAAAAAAAAAAAAAAAAAAAAAAAAAAAAAAAAAAAAAAAAAAAAAAAAAAAAAAAAAAAAAAAAAAAAAAAAAAAAAAAAAAAAAAAAAAAAAAAAAAAAAAAAAAAAAAAAAAAAAAAAAAAAAAAAAAAAAAAAAAAAAAAAAAAAAAAAAAAAAAAAAAAAAAAAAAAAAAAAAAAAAAAAAAAAAAAAAAAAAAAAAAAAAAAAAAAAAAAAAA8D8AAAAAAAAAAAAAAAAAAAAAAAAAAAAAAAAAAAAAAAAAAAAAAAAAAAAAAAAAAAAAAAAAAAAAAAAAAAAAAAAAAAAAAAAAAAAAAAAAAAAAAAAAAAAAAAAAAAAAAAAAAAAAAAAAAAAAAAAAAAAAAAAAAAAAAAAAAAAAAAAAAAAAAAAAAAAAAAAAAAAAAAAAAAAAAAAAAAAAAAAAAAAAAAAAAAAAAAAAAAAAAAAAAAAAAAAAAAAAAAAAAAAAAAAAAAAAAAAAAAAAAAAAAAAAAAAAAAAAAAAAAAAAAAAAAAAAAAAAAAAAAAAAAAAAAAAAAAAAAAAAAAAAAADwPwAAAAAAAAAAAAAAAAAAAAAAAAAAAAAAAAAAAAAAAAAAAAAAAAAAAAAAAAAAAAAAAAAAAAAAAAAAAAAAAAAAAAAAAAAAAAAAAAAAAAAAAAAAAAAAAAAAAAAAAAAAAAAAAAAAAAAAAAAAAAAAAAAAAAAAAAAAAAAAAAAAAAAAAAAAAAAAAAAAAAAAAAAAAAAAAAAAAAAAAAAAAAAAAAAAAAAAAAAAAAAAAAAAAAAAAAAAAAAAAAAAAAAAAAAAAAAAAAAAAAAAAAAAAAAAAAAAAAAAAAAAAAAAAAAAAAAAAAAAAAAAAAAAAAAAAAAAAAAAAAAAAAAAAAAAAAAAAAAAAAAAAAAAAAAAAAAAAAAAAAAAAAAAAAAAAAAAAAAAAAAAAAAAAAAAAAAAAAAAAAAAAAAAAAAAAAAAAAAAAAAAAAAAAAAAAAAAAAAAAAAAAADwPwAAAAAAAAAAAAAAAAAAAAAAAAAAAAAAAAAAAAAAAAAAAAAAAAAAAAAAAAAAAAAAAAAAAAAAAAAAAAAAAAAAAAAAAAAAAAAAAAAAAAAAAAAAAAAAAAAAAAAAAAAAAAAAAAAAAAAAAAAAAAAAAAAAAAAAAAAAAAAAAAAAAAAAAAAAAAAAAAAAAAAAAAAAAAAAAAAAAAAAAAAAAAAAAAAAAAAAAAAAAAAAAAAAAAAAAPA/AAAAAAAAAAAAAAAAAAAAAAAAAAAAAAAAAAAAAAAAAAAAAAAAAAAAAAAAAAAAAAAAAAAAAAAAAAAAAAAAAAAAAAAAAAAAAAAAAAAAAAAAAAAAAAAAAAAAAAAAAAAAAAAAAAAAAAAAAAAAAAAAAADwPwAAAAAAAAAAAAAAAAAAAAAAAAAAAAAAAAAAAAAAAAAAAAAAAAAAAAAAAAAAAAAAAAAAAAAAAAAAAAAAAAAAAAAAAAAAAAAAAAAAAAAAAAAAAAAAAAAAAAAAAAAAAAAAAAAAAAAAAAAAAAAAAAAAAAAAAAAAAAAAAAAAAAAAAAAAAAAAAAAAAAAAAAAAAAAAAAAAAAAAAAAAAAAAAAAAAAAAAAAAAAAAAAAAAAAAAAAAAAAAAAAAAAAAAAAAAAAAAAAAAAAAAAAAAAAAAAAAAAAAAAAAAAAAAAAAAAAAAAAAAAAAAAAAAAAAAAAAAAAAAAAAAAAAAAAAAAAAAAAAAAAAAAAAAADwPwAAAAAAAAAAAAAAAAAAAAAAAAAAAAAAAAAAAAAAAAAAAAAAAAAAAAAAAAAAAAAAAAAAAAAAAAAAAAAAAAAAAAAAAAAAAAAAAAAAAAAAAAAAAAAAAAAAAAAAAAAAAAAAAAAAAAAAAAAAAAAAAAAAAAAAAAAAAADwPwAAAAAAAAAAAAAAAAAAAAAAAAAAAAAAAAAAAAAAAAAAAAAAAAAAAAAAAAAAAAAAAAAAAAAAAAAAAAAAAAAAAAAAAAAAAAAAAAAAAAAAAAAAAAAAAAAAAAAAAAAAAAAAAAAAAAAAAAAAAAAAAAAAAAAAAAAAAAAAAAAAAAAAAAAAAAAAAAAAAAAAAAAAAAAAAAAAAAAAAAAAAAAAAAAAAAAAAAAAAAAAAAAAAAAAAAAAAAAAAAAAAAAAAAAAAAAAAAAAAAAAAAAAAAAAAAAAAAAAAAAAAAAAAAAAAAAAAAAAAAAAAAAAAAAAAAAAAAAAAAAAAAAAAAAAAAAAAAAAAAAAAAAAAAAAAAAAAAAAAAAAAAAAAAAA8D8AAAAAAAAAAAAAAAAAAAAAAAAAAAAAAAAAAAAAAAAAAAAAAAAAAAAAAAAAAAAAAAAAAAAAAAAAAAAAAAAAAAAAAAAAAAAAAAAAAAAAAAAAAAAAAAAAAAAAAAAAAAAAAAAAAAAAAAAAAAAAAAAAAAAAAAAAAAAAAAAAAAAAAAAAAAAAAAAAAAAAAAAAAAAAAAAAAAAAAAAAAAAAAAAAAAAAAAAAAAAAAAAAAAAAAAAAAAAAAAAAAAAAAAAAAAAAAAAAAAAAAAAAAAAAAAAAAAAAAAAAAAAAAAAAAAAAAAAAAAAAAAAAAAAAAAAAAAAAAAAAAAAAAAAAAAAAAAAAAAAAAAAAAAAAAAAAAAAAAAAAAAAAAAAAAAAAAAAAAAAAAAAAAAAAAAAAAAAAAAAAAAAAAAAAAAAAAAAAAAAAAAAAAAAAAAAAAAAAAAAAAAAAAAAAAAAAAAAAAAAAAAAAAAAAAAAAAAAAAAAAAAAAAAAAAAAAAAAAAAAAAAAAAAAAAAAAAAAAAAAAAAAAAAAAAAAAAAAAAAAAAAAAAAAAAAAAAAAAAAAAAAAAAAAAAAAAAAAAAAAAAAAAAAAAAAAAAPA/AAAAAAAAAAAAAAAAAAAAAAAAAAAAAAAAAAAAAAAAAAAAAAAAAAAAAAAAAAAAAAAAAAAAAAAAAAAAAAAAAAAAAAAAAAAAAAAAAAAAAAAAAAAAAAAAAAAAAAAAAAAAAAAAAAAAAAAAAAAAAAAAAAAAAAAAAAAAAAAAAAAAAAAAAAAAAAAAAAAAAAAAAAAAAAAAAAAAAAAAAAAAAAAAAAAAAAAAAAAAAAAAAAAAAAAAAAAAAAAAAAAAAAAAAAAAAAAAAAAAAAAAAAAAAAAAAAAAAAAAAAAAAAAAAAAAAAAAAAAAAAAAAAAAAAAAAAAAAAAAAAAAAAAAAAAAAAAAAADwPwAAAAAAAAAAAAAAAAAAAAAAAAAAAAAAAAAAAAAAAAAAAAAAAAAAAAAAAAAAAAAAAAAAAAAAAAAAAAAAAAAAAAAAAAAAAAAAAAAAAAAAAAAAAAAAAAAAAAAAAAAAAAAAAAAAAAAAAAAAAAAAAAAAAAAAAAAAAAAAAAAAAAAAAAAAAAAAAAAAAAAAAAAAAAAAAAAAAAAAAAAAAAAAAAAAAAAAAAAAAAAAAAAAAAAAAAAAAAAAAAAA8D8AAAAAAAAAAAAAAAAAAAAAAAAAAAAAAAAAAAAAAAAAAAAAAAAAAAAAAAAAAAAAAAAAAAAAAAAAAAAAAAAAAAAAAAAAAAAAAAAAAAAAAAAAAAAAAAAAAAAAAAAAAAAAAAAAAAAAAAAAAAAAAAAAAAAAAAAAAAAAAAAAAAAAAAAAAAAAAAAAAAAAAAAAAAAAAAAAAAAAAAAAAAAAAAAAAAAAAAAAAAAAAAAAAAAAAAAAAAAAAAAAAAAAAAAAAAAAAAA=\",\"dtype\":\"float64\",\"shape\":[1225]},\"xname\":[\"topology.dependencies/dependencies\",\"topology.dependencies/dependencies\",\"topology.dependencies/dependencies\",\"topology.dependencies/dependencies\",\"topology.dependencies/dependencies\",\"topology.dependencies/dependencies\",\"topology.dependencies/dependencies\",\"topology.dependencies/dependencies\",\"topology.dependencies/dependencies\",\"topology.dependencies/dependencies\",\"topology.dependencies/dependencies\",\"topology.dependencies/dependencies\",\"topology.dependencies/dependencies\",\"topology.dependencies/dependencies\",\"topology.dependencies/dependencies\",\"topology.dependencies/dependencies\",\"topology.dependencies/dependencies\",\"topology.dependencies/dependencies\",\"topology.dependencies/dependencies\",\"topology.dependencies/dependencies\",\"topology.dependencies/dependencies\",\"topology.dependencies/dependencies\",\"topology.dependencies/dependencies\",\"topology.dependencies/dependencies\",\"topology.dependencies/dependencies\",\"topology.dependencies/dependencies\",\"topology.dependencies/dependencies\",\"topology.dependencies/dependencies\",\"topology.dependencies/dependencies\",\"topology.dependencies/dependencies\",\"topology.dependencies/dependencies\",\"topology.dependencies/dependencies\",\"topology.dependencies/dependencies\",\"topology.dependencies/dependencies\",\"topology.dependencies/dependencies\",\"topology.edgelist-test/syntax-quotes-add-seq-concat-list\",\"topology.edgelist-test/syntax-quotes-add-seq-concat-list\",\"topology.edgelist-test/syntax-quotes-add-seq-concat-list\",\"topology.edgelist-test/syntax-quotes-add-seq-concat-list\",\"topology.edgelist-test/syntax-quotes-add-seq-concat-list\",\"topology.edgelist-test/syntax-quotes-add-seq-concat-list\",\"topology.edgelist-test/syntax-quotes-add-seq-concat-list\",\"topology.edgelist-test/syntax-quotes-add-seq-concat-list\",\"topology.edgelist-test/syntax-quotes-add-seq-concat-list\",\"topology.edgelist-test/syntax-quotes-add-seq-concat-list\",\"topology.edgelist-test/syntax-quotes-add-seq-concat-list\",\"topology.edgelist-test/syntax-quotes-add-seq-concat-list\",\"topology.edgelist-test/syntax-quotes-add-seq-concat-list\",\"topology.edgelist-test/syntax-quotes-add-seq-concat-list\",\"topology.edgelist-test/syntax-quotes-add-seq-concat-list\",\"topology.edgelist-test/syntax-quotes-add-seq-concat-list\",\"topology.edgelist-test/syntax-quotes-add-seq-concat-list\",\"topology.edgelist-test/syntax-quotes-add-seq-concat-list\",\"topology.edgelist-test/syntax-quotes-add-seq-concat-list\",\"topology.edgelist-test/syntax-quotes-add-seq-concat-list\",\"topology.edgelist-test/syntax-quotes-add-seq-concat-list\",\"topology.edgelist-test/syntax-quotes-add-seq-concat-list\",\"topology.edgelist-test/syntax-quotes-add-seq-concat-list\",\"topology.edgelist-test/syntax-quotes-add-seq-concat-list\",\"topology.edgelist-test/syntax-quotes-add-seq-concat-list\",\"topology.edgelist-test/syntax-quotes-add-seq-concat-list\",\"topology.edgelist-test/syntax-quotes-add-seq-concat-list\",\"topology.edgelist-test/syntax-quotes-add-seq-concat-list\",\"topology.edgelist-test/syntax-quotes-add-seq-concat-list\",\"topology.edgelist-test/syntax-quotes-add-seq-concat-list\",\"topology.edgelist-test/syntax-quotes-add-seq-concat-list\",\"topology.edgelist-test/syntax-quotes-add-seq-concat-list\",\"topology.edgelist-test/syntax-quotes-add-seq-concat-list\",\"topology.edgelist-test/syntax-quotes-add-seq-concat-list\",\"topology.edgelist-test/syntax-quotes-add-seq-concat-list\",\"topology.dependencies-test/should-compute-fn-calls-in-namespace\",\"topology.dependencies-test/should-compute-fn-calls-in-namespace\",\"topology.dependencies-test/should-compute-fn-calls-in-namespace\",\"topology.dependencies-test/should-compute-fn-calls-in-namespace\",\"topology.dependencies-test/should-compute-fn-calls-in-namespace\",\"topology.dependencies-test/should-compute-fn-calls-in-namespace\",\"topology.dependencies-test/should-compute-fn-calls-in-namespace\",\"topology.dependencies-test/should-compute-fn-calls-in-namespace\",\"topology.dependencies-test/should-compute-fn-calls-in-namespace\",\"topology.dependencies-test/should-compute-fn-calls-in-namespace\",\"topology.dependencies-test/should-compute-fn-calls-in-namespace\",\"topology.dependencies-test/should-compute-fn-calls-in-namespace\",\"topology.dependencies-test/should-compute-fn-calls-in-namespace\",\"topology.dependencies-test/should-compute-fn-calls-in-namespace\",\"topology.dependencies-test/should-compute-fn-calls-in-namespace\",\"topology.dependencies-test/should-compute-fn-calls-in-namespace\",\"topology.dependencies-test/should-compute-fn-calls-in-namespace\",\"topology.dependencies-test/should-compute-fn-calls-in-namespace\",\"topology.dependencies-test/should-compute-fn-calls-in-namespace\",\"topology.dependencies-test/should-compute-fn-calls-in-namespace\",\"topology.dependencies-test/should-compute-fn-calls-in-namespace\",\"topology.dependencies-test/should-compute-fn-calls-in-namespace\",\"topology.dependencies-test/should-compute-fn-calls-in-namespace\",\"topology.dependencies-test/should-compute-fn-calls-in-namespace\",\"topology.dependencies-test/should-compute-fn-calls-in-namespace\",\"topology.dependencies-test/should-compute-fn-calls-in-namespace\",\"topology.dependencies-test/should-compute-fn-calls-in-namespace\",\"topology.dependencies-test/should-compute-fn-calls-in-namespace\",\"topology.dependencies-test/should-compute-fn-calls-in-namespace\",\"topology.dependencies-test/should-compute-fn-calls-in-namespace\",\"topology.dependencies-test/should-compute-fn-calls-in-namespace\",\"topology.dependencies-test/should-compute-fn-calls-in-namespace\",\"topology.dependencies-test/should-compute-fn-calls-in-namespace\",\"topology.dependencies-test/should-compute-fn-calls-in-namespace\",\"topology.dependencies-test/should-compute-fn-calls-in-namespace\",\"leiningen.topology/topology\",\"leiningen.topology/topology\",\"leiningen.topology/topology\",\"leiningen.topology/topology\",\"leiningen.topology/topology\",\"leiningen.topology/topology\",\"leiningen.topology/topology\",\"leiningen.topology/topology\",\"leiningen.topology/topology\",\"leiningen.topology/topology\",\"leiningen.topology/topology\",\"leiningen.topology/topology\",\"leiningen.topology/topology\",\"leiningen.topology/topology\",\"leiningen.topology/topology\",\"leiningen.topology/topology\",\"leiningen.topology/topology\",\"leiningen.topology/topology\",\"leiningen.topology/topology\",\"leiningen.topology/topology\",\"leiningen.topology/topology\",\"leiningen.topology/topology\",\"leiningen.topology/topology\",\"leiningen.topology/topology\",\"leiningen.topology/topology\",\"leiningen.topology/topology\",\"leiningen.topology/topology\",\"leiningen.topology/topology\",\"leiningen.topology/topology\",\"leiningen.topology/topology\",\"leiningen.topology/topology\",\"leiningen.topology/topology\",\"leiningen.topology/topology\",\"leiningen.topology/topology\",\"leiningen.topology/topology\",\"topology.finder/find-sources-in-dir\",\"topology.finder/find-sources-in-dir\",\"topology.finder/find-sources-in-dir\",\"topology.finder/find-sources-in-dir\",\"topology.finder/find-sources-in-dir\",\"topology.finder/find-sources-in-dir\",\"topology.finder/find-sources-in-dir\",\"topology.finder/find-sources-in-dir\",\"topology.finder/find-sources-in-dir\",\"topology.finder/find-sources-in-dir\",\"topology.finder/find-sources-in-dir\",\"topology.finder/find-sources-in-dir\",\"topology.finder/find-sources-in-dir\",\"topology.finder/find-sources-in-dir\",\"topology.finder/find-sources-in-dir\",\"topology.finder/find-sources-in-dir\",\"topology.finder/find-sources-in-dir\",\"topology.finder/find-sources-in-dir\",\"topology.finder/find-sources-in-dir\",\"topology.finder/find-sources-in-dir\",\"topology.finder/find-sources-in-dir\",\"topology.finder/find-sources-in-dir\",\"topology.finder/find-sources-in-dir\",\"topology.finder/find-sources-in-dir\",\"topology.finder/find-sources-in-dir\",\"topology.finder/find-sources-in-dir\",\"topology.finder/find-sources-in-dir\",\"topology.finder/find-sources-in-dir\",\"topology.finder/find-sources-in-dir\",\"topology.finder/find-sources-in-dir\",\"topology.finder/find-sources-in-dir\",\"topology.finder/find-sources-in-dir\",\"topology.finder/find-sources-in-dir\",\"topology.finder/find-sources-in-dir\",\"topology.finder/find-sources-in-dir\",\"topology.finder/clojurescript-file?\",\"topology.finder/clojurescript-file?\",\"topology.finder/clojurescript-file?\",\"topology.finder/clojurescript-file?\",\"topology.finder/clojurescript-file?\",\"topology.finder/clojurescript-file?\",\"topology.finder/clojurescript-file?\",\"topology.finder/clojurescript-file?\",\"topology.finder/clojurescript-file?\",\"topology.finder/clojurescript-file?\",\"topology.finder/clojurescript-file?\",\"topology.finder/clojurescript-file?\",\"topology.finder/clojurescript-file?\",\"topology.finder/clojurescript-file?\",\"topology.finder/clojurescript-file?\",\"topology.finder/clojurescript-file?\",\"topology.finder/clojurescript-file?\",\"topology.finder/clojurescript-file?\",\"topology.finder/clojurescript-file?\",\"topology.finder/clojurescript-file?\",\"topology.finder/clojurescript-file?\",\"topology.finder/clojurescript-file?\",\"topology.finder/clojurescript-file?\",\"topology.finder/clojurescript-file?\",\"topology.finder/clojurescript-file?\",\"topology.finder/clojurescript-file?\",\"topology.finder/clojurescript-file?\",\"topology.finder/clojurescript-file?\",\"topology.finder/clojurescript-file?\",\"topology.finder/clojurescript-file?\",\"topology.finder/clojurescript-file?\",\"topology.finder/clojurescript-file?\",\"topology.finder/clojurescript-file?\",\"topology.finder/clojurescript-file?\",\"topology.finder/clojurescript-file?\",\"topology.edgelist-test/should-produce-weighted-edges-for-multiple-calls\",\"topology.edgelist-test/should-produce-weighted-edges-for-multiple-calls\",\"topology.edgelist-test/should-produce-weighted-edges-for-multiple-calls\",\"topology.edgelist-test/should-produce-weighted-edges-for-multiple-calls\",\"topology.edgelist-test/should-produce-weighted-edges-for-multiple-calls\",\"topology.edgelist-test/should-produce-weighted-edges-for-multiple-calls\",\"topology.edgelist-test/should-produce-weighted-edges-for-multiple-calls\",\"topology.edgelist-test/should-produce-weighted-edges-for-multiple-calls\",\"topology.edgelist-test/should-produce-weighted-edges-for-multiple-calls\",\"topology.edgelist-test/should-produce-weighted-edges-for-multiple-calls\",\"topology.edgelist-test/should-produce-weighted-edges-for-multiple-calls\",\"topology.edgelist-test/should-produce-weighted-edges-for-multiple-calls\",\"topology.edgelist-test/should-produce-weighted-edges-for-multiple-calls\",\"topology.edgelist-test/should-produce-weighted-edges-for-multiple-calls\",\"topology.edgelist-test/should-produce-weighted-edges-for-multiple-calls\",\"topology.edgelist-test/should-produce-weighted-edges-for-multiple-calls\",\"topology.edgelist-test/should-produce-weighted-edges-for-multiple-calls\",\"topology.edgelist-test/should-produce-weighted-edges-for-multiple-calls\",\"topology.edgelist-test/should-produce-weighted-edges-for-multiple-calls\",\"topology.edgelist-test/should-produce-weighted-edges-for-multiple-calls\",\"topology.edgelist-test/should-produce-weighted-edges-for-multiple-calls\",\"topology.edgelist-test/should-produce-weighted-edges-for-multiple-calls\",\"topology.edgelist-test/should-produce-weighted-edges-for-multiple-calls\",\"topology.edgelist-test/should-produce-weighted-edges-for-multiple-calls\",\"topology.edgelist-test/should-produce-weighted-edges-for-multiple-calls\",\"topology.edgelist-test/should-produce-weighted-edges-for-multiple-calls\",\"topology.edgelist-test/should-produce-weighted-edges-for-multiple-calls\",\"topology.edgelist-test/should-produce-weighted-edges-for-multiple-calls\",\"topology.edgelist-test/should-produce-weighted-edges-for-multiple-calls\",\"topology.edgelist-test/should-produce-weighted-edges-for-multiple-calls\",\"topology.edgelist-test/should-produce-weighted-edges-for-multiple-calls\",\"topology.edgelist-test/should-produce-weighted-edges-for-multiple-calls\",\"topology.edgelist-test/should-produce-weighted-edges-for-multiple-calls\",\"topology.edgelist-test/should-produce-weighted-edges-for-multiple-calls\",\"topology.edgelist-test/should-produce-weighted-edges-for-multiple-calls\",\"topology.dependencies/ns->fn-dep-map\",\"topology.dependencies/ns->fn-dep-map\",\"topology.dependencies/ns->fn-dep-map\",\"topology.dependencies/ns->fn-dep-map\",\"topology.dependencies/ns->fn-dep-map\",\"topology.dependencies/ns->fn-dep-map\",\"topology.dependencies/ns->fn-dep-map\",\"topology.dependencies/ns->fn-dep-map\",\"topology.dependencies/ns->fn-dep-map\",\"topology.dependencies/ns->fn-dep-map\",\"topology.dependencies/ns->fn-dep-map\",\"topology.dependencies/ns->fn-dep-map\",\"topology.dependencies/ns->fn-dep-map\",\"topology.dependencies/ns->fn-dep-map\",\"topology.dependencies/ns->fn-dep-map\",\"topology.dependencies/ns->fn-dep-map\",\"topology.dependencies/ns->fn-dep-map\",\"topology.dependencies/ns->fn-dep-map\",\"topology.dependencies/ns->fn-dep-map\",\"topology.dependencies/ns->fn-dep-map\",\"topology.dependencies/ns->fn-dep-map\",\"topology.dependencies/ns->fn-dep-map\",\"topology.dependencies/ns->fn-dep-map\",\"topology.dependencies/ns->fn-dep-map\",\"topology.dependencies/ns->fn-dep-map\",\"topology.dependencies/ns->fn-dep-map\",\"topology.dependencies/ns->fn-dep-map\",\"topology.dependencies/ns->fn-dep-map\",\"topology.dependencies/ns->fn-dep-map\",\"topology.dependencies/ns->fn-dep-map\",\"topology.dependencies/ns->fn-dep-map\",\"topology.dependencies/ns->fn-dep-map\",\"topology.dependencies/ns->fn-dep-map\",\"topology.dependencies/ns->fn-dep-map\",\"topology.dependencies/ns->fn-dep-map\",\"topology.printer/print-weighted-edges\",\"topology.printer/print-weighted-edges\",\"topology.printer/print-weighted-edges\",\"topology.printer/print-weighted-edges\",\"topology.printer/print-weighted-edges\",\"topology.printer/print-weighted-edges\",\"topology.printer/print-weighted-edges\",\"topology.printer/print-weighted-edges\",\"topology.printer/print-weighted-edges\",\"topology.printer/print-weighted-edges\",\"topology.printer/print-weighted-edges\",\"topology.printer/print-weighted-edges\",\"topology.printer/print-weighted-edges\",\"topology.printer/print-weighted-edges\",\"topology.printer/print-weighted-edges\",\"topology.printer/print-weighted-edges\",\"topology.printer/print-weighted-edges\",\"topology.printer/print-weighted-edges\",\"topology.printer/print-weighted-edges\",\"topology.printer/print-weighted-edges\",\"topology.printer/print-weighted-edges\",\"topology.printer/print-weighted-edges\",\"topology.printer/print-weighted-edges\",\"topology.printer/print-weighted-edges\",\"topology.printer/print-weighted-edges\",\"topology.printer/print-weighted-edges\",\"topology.printer/print-weighted-edges\",\"topology.printer/print-weighted-edges\",\"topology.printer/print-weighted-edges\",\"topology.printer/print-weighted-edges\",\"topology.printer/print-weighted-edges\",\"topology.printer/print-weighted-edges\",\"topology.printer/print-weighted-edges\",\"topology.printer/print-weighted-edges\",\"topology.printer/print-weighted-edges\",\"clojure.core/println\",\"clojure.core/println\",\"clojure.core/println\",\"clojure.core/println\",\"clojure.core/println\",\"clojure.core/println\",\"clojure.core/println\",\"clojure.core/println\",\"clojure.core/println\",\"clojure.core/println\",\"clojure.core/println\",\"clojure.core/println\",\"clojure.core/println\",\"clojure.core/println\",\"clojure.core/println\",\"clojure.core/println\",\"clojure.core/println\",\"clojure.core/println\",\"clojure.core/println\",\"clojure.core/println\",\"clojure.core/println\",\"clojure.core/println\",\"clojure.core/println\",\"clojure.core/println\",\"clojure.core/println\",\"clojure.core/println\",\"clojure.core/println\",\"clojure.core/println\",\"clojure.core/println\",\"clojure.core/println\",\"clojure.core/println\",\"clojure.core/println\",\"clojure.core/println\",\"clojure.core/println\",\"clojure.core/println\",\"topology.symbols/seq-map-zip\",\"topology.symbols/seq-map-zip\",\"topology.symbols/seq-map-zip\",\"topology.symbols/seq-map-zip\",\"topology.symbols/seq-map-zip\",\"topology.symbols/seq-map-zip\",\"topology.symbols/seq-map-zip\",\"topology.symbols/seq-map-zip\",\"topology.symbols/seq-map-zip\",\"topology.symbols/seq-map-zip\",\"topology.symbols/seq-map-zip\",\"topology.symbols/seq-map-zip\",\"topology.symbols/seq-map-zip\",\"topology.symbols/seq-map-zip\",\"topology.symbols/seq-map-zip\",\"topology.symbols/seq-map-zip\",\"topology.symbols/seq-map-zip\",\"topology.symbols/seq-map-zip\",\"topology.symbols/seq-map-zip\",\"topology.symbols/seq-map-zip\",\"topology.symbols/seq-map-zip\",\"topology.symbols/seq-map-zip\",\"topology.symbols/seq-map-zip\",\"topology.symbols/seq-map-zip\",\"topology.symbols/seq-map-zip\",\"topology.symbols/seq-map-zip\",\"topology.symbols/seq-map-zip\",\"topology.symbols/seq-map-zip\",\"topology.symbols/seq-map-zip\",\"topology.symbols/seq-map-zip\",\"topology.symbols/seq-map-zip\",\"topology.symbols/seq-map-zip\",\"topology.symbols/seq-map-zip\",\"topology.symbols/seq-map-zip\",\"topology.symbols/seq-map-zip\",\"topology.edgelist/interleave-keys\",\"topology.edgelist/interleave-keys\",\"topology.edgelist/interleave-keys\",\"topology.edgelist/interleave-keys\",\"topology.edgelist/interleave-keys\",\"topology.edgelist/interleave-keys\",\"topology.edgelist/interleave-keys\",\"topology.edgelist/interleave-keys\",\"topology.edgelist/interleave-keys\",\"topology.edgelist/interleave-keys\",\"topology.edgelist/interleave-keys\",\"topology.edgelist/interleave-keys\",\"topology.edgelist/interleave-keys\",\"topology.edgelist/interleave-keys\",\"topology.edgelist/interleave-keys\",\"topology.edgelist/interleave-keys\",\"topology.edgelist/interleave-keys\",\"topology.edgelist/interleave-keys\",\"topology.edgelist/interleave-keys\",\"topology.edgelist/interleave-keys\",\"topology.edgelist/interleave-keys\",\"topology.edgelist/interleave-keys\",\"topology.edgelist/interleave-keys\",\"topology.edgelist/interleave-keys\",\"topology.edgelist/interleave-keys\",\"topology.edgelist/interleave-keys\",\"topology.edgelist/interleave-keys\",\"topology.edgelist/interleave-keys\",\"topology.edgelist/interleave-keys\",\"topology.edgelist/interleave-keys\",\"topology.edgelist/interleave-keys\",\"topology.edgelist/interleave-keys\",\"topology.edgelist/interleave-keys\",\"topology.edgelist/interleave-keys\",\"topology.edgelist/interleave-keys\",\"topology.dependencies/interns\",\"topology.dependencies/interns\",\"topology.dependencies/interns\",\"topology.dependencies/interns\",\"topology.dependencies/interns\",\"topology.dependencies/interns\",\"topology.dependencies/interns\",\"topology.dependencies/interns\",\"topology.dependencies/interns\",\"topology.dependencies/interns\",\"topology.dependencies/interns\",\"topology.dependencies/interns\",\"topology.dependencies/interns\",\"topology.dependencies/interns\",\"topology.dependencies/interns\",\"topology.dependencies/interns\",\"topology.dependencies/interns\",\"topology.dependencies/interns\",\"topology.dependencies/interns\",\"topology.dependencies/interns\",\"topology.dependencies/interns\",\"topology.dependencies/interns\",\"topology.dependencies/interns\",\"topology.dependencies/interns\",\"topology.dependencies/interns\",\"topology.dependencies/interns\",\"topology.dependencies/interns\",\"topology.dependencies/interns\",\"topology.dependencies/interns\",\"topology.dependencies/interns\",\"topology.dependencies/interns\",\"topology.dependencies/interns\",\"topology.dependencies/interns\",\"topology.dependencies/interns\",\"topology.dependencies/interns\",\"topology.dependencies/sources\",\"topology.dependencies/sources\",\"topology.dependencies/sources\",\"topology.dependencies/sources\",\"topology.dependencies/sources\",\"topology.dependencies/sources\",\"topology.dependencies/sources\",\"topology.dependencies/sources\",\"topology.dependencies/sources\",\"topology.dependencies/sources\",\"topology.dependencies/sources\",\"topology.dependencies/sources\",\"topology.dependencies/sources\",\"topology.dependencies/sources\",\"topology.dependencies/sources\",\"topology.dependencies/sources\",\"topology.dependencies/sources\",\"topology.dependencies/sources\",\"topology.dependencies/sources\",\"topology.dependencies/sources\",\"topology.dependencies/sources\",\"topology.dependencies/sources\",\"topology.dependencies/sources\",\"topology.dependencies/sources\",\"topology.dependencies/sources\",\"topology.dependencies/sources\",\"topology.dependencies/sources\",\"topology.dependencies/sources\",\"topology.dependencies/sources\",\"topology.dependencies/sources\",\"topology.dependencies/sources\",\"topology.dependencies/sources\",\"topology.dependencies/sources\",\"topology.dependencies/sources\",\"topology.dependencies/sources\",\"clojure.repl/source-fn\",\"clojure.repl/source-fn\",\"clojure.repl/source-fn\",\"clojure.repl/source-fn\",\"clojure.repl/source-fn\",\"clojure.repl/source-fn\",\"clojure.repl/source-fn\",\"clojure.repl/source-fn\",\"clojure.repl/source-fn\",\"clojure.repl/source-fn\",\"clojure.repl/source-fn\",\"clojure.repl/source-fn\",\"clojure.repl/source-fn\",\"clojure.repl/source-fn\",\"clojure.repl/source-fn\",\"clojure.repl/source-fn\",\"clojure.repl/source-fn\",\"clojure.repl/source-fn\",\"clojure.repl/source-fn\",\"clojure.repl/source-fn\",\"clojure.repl/source-fn\",\"clojure.repl/source-fn\",\"clojure.repl/source-fn\",\"clojure.repl/source-fn\",\"clojure.repl/source-fn\",\"clojure.repl/source-fn\",\"clojure.repl/source-fn\",\"clojure.repl/source-fn\",\"clojure.repl/source-fn\",\"clojure.repl/source-fn\",\"clojure.repl/source-fn\",\"clojure.repl/source-fn\",\"clojure.repl/source-fn\",\"clojure.repl/source-fn\",\"clojure.repl/source-fn\",\"topology.edgelist-test/should-report-java-interop\",\"topology.edgelist-test/should-report-java-interop\",\"topology.edgelist-test/should-report-java-interop\",\"topology.edgelist-test/should-report-java-interop\",\"topology.edgelist-test/should-report-java-interop\",\"topology.edgelist-test/should-report-java-interop\",\"topology.edgelist-test/should-report-java-interop\",\"topology.edgelist-test/should-report-java-interop\",\"topology.edgelist-test/should-report-java-interop\",\"topology.edgelist-test/should-report-java-interop\",\"topology.edgelist-test/should-report-java-interop\",\"topology.edgelist-test/should-report-java-interop\",\"topology.edgelist-test/should-report-java-interop\",\"topology.edgelist-test/should-report-java-interop\",\"topology.edgelist-test/should-report-java-interop\",\"topology.edgelist-test/should-report-java-interop\",\"topology.edgelist-test/should-report-java-interop\",\"topology.edgelist-test/should-report-java-interop\",\"topology.edgelist-test/should-report-java-interop\",\"topology.edgelist-test/should-report-java-interop\",\"topology.edgelist-test/should-report-java-interop\",\"topology.edgelist-test/should-report-java-interop\",\"topology.edgelist-test/should-report-java-interop\",\"topology.edgelist-test/should-report-java-interop\",\"topology.edgelist-test/should-report-java-interop\",\"topology.edgelist-test/should-report-java-interop\",\"topology.edgelist-test/should-report-java-interop\",\"topology.edgelist-test/should-report-java-interop\",\"topology.edgelist-test/should-report-java-interop\",\"topology.edgelist-test/should-report-java-interop\",\"topology.edgelist-test/should-report-java-interop\",\"topology.edgelist-test/should-report-java-interop\",\"topology.edgelist-test/should-report-java-interop\",\"topology.edgelist-test/should-report-java-interop\",\"topology.edgelist-test/should-report-java-interop\",\"topology.qualifier/filter-fully-qualified\",\"topology.qualifier/filter-fully-qualified\",\"topology.qualifier/filter-fully-qualified\",\"topology.qualifier/filter-fully-qualified\",\"topology.qualifier/filter-fully-qualified\",\"topology.qualifier/filter-fully-qualified\",\"topology.qualifier/filter-fully-qualified\",\"topology.qualifier/filter-fully-qualified\",\"topology.qualifier/filter-fully-qualified\",\"topology.qualifier/filter-fully-qualified\",\"topology.qualifier/filter-fully-qualified\",\"topology.qualifier/filter-fully-qualified\",\"topology.qualifier/filter-fully-qualified\",\"topology.qualifier/filter-fully-qualified\",\"topology.qualifier/filter-fully-qualified\",\"topology.qualifier/filter-fully-qualified\",\"topology.qualifier/filter-fully-qualified\",\"topology.qualifier/filter-fully-qualified\",\"topology.qualifier/filter-fully-qualified\",\"topology.qualifier/filter-fully-qualified\",\"topology.qualifier/filter-fully-qualified\",\"topology.qualifier/filter-fully-qualified\",\"topology.qualifier/filter-fully-qualified\",\"topology.qualifier/filter-fully-qualified\",\"topology.qualifier/filter-fully-qualified\",\"topology.qualifier/filter-fully-qualified\",\"topology.qualifier/filter-fully-qualified\",\"topology.qualifier/filter-fully-qualified\",\"topology.qualifier/filter-fully-qualified\",\"topology.qualifier/filter-fully-qualified\",\"topology.qualifier/filter-fully-qualified\",\"topology.qualifier/filter-fully-qualified\",\"topology.qualifier/filter-fully-qualified\",\"topology.qualifier/filter-fully-qualified\",\"topology.qualifier/filter-fully-qualified\",\"leiningen.core.eval/eval-in-project\",\"leiningen.core.eval/eval-in-project\",\"leiningen.core.eval/eval-in-project\",\"leiningen.core.eval/eval-in-project\",\"leiningen.core.eval/eval-in-project\",\"leiningen.core.eval/eval-in-project\",\"leiningen.core.eval/eval-in-project\",\"leiningen.core.eval/eval-in-project\",\"leiningen.core.eval/eval-in-project\",\"leiningen.core.eval/eval-in-project\",\"leiningen.core.eval/eval-in-project\",\"leiningen.core.eval/eval-in-project\",\"leiningen.core.eval/eval-in-project\",\"leiningen.core.eval/eval-in-project\",\"leiningen.core.eval/eval-in-project\",\"leiningen.core.eval/eval-in-project\",\"leiningen.core.eval/eval-in-project\",\"leiningen.core.eval/eval-in-project\",\"leiningen.core.eval/eval-in-project\",\"leiningen.core.eval/eval-in-project\",\"leiningen.core.eval/eval-in-project\",\"leiningen.core.eval/eval-in-project\",\"leiningen.core.eval/eval-in-project\",\"leiningen.core.eval/eval-in-project\",\"leiningen.core.eval/eval-in-project\",\"leiningen.core.eval/eval-in-project\",\"leiningen.core.eval/eval-in-project\",\"leiningen.core.eval/eval-in-project\",\"leiningen.core.eval/eval-in-project\",\"leiningen.core.eval/eval-in-project\",\"leiningen.core.eval/eval-in-project\",\"leiningen.core.eval/eval-in-project\",\"leiningen.core.eval/eval-in-project\",\"leiningen.core.eval/eval-in-project\",\"leiningen.core.eval/eval-in-project\",\"topology.qualifier/all-fq\",\"topology.qualifier/all-fq\",\"topology.qualifier/all-fq\",\"topology.qualifier/all-fq\",\"topology.qualifier/all-fq\",\"topology.qualifier/all-fq\",\"topology.qualifier/all-fq\",\"topology.qualifier/all-fq\",\"topology.qualifier/all-fq\",\"topology.qualifier/all-fq\",\"topology.qualifier/all-fq\",\"topology.qualifier/all-fq\",\"topology.qualifier/all-fq\",\"topology.qualifier/all-fq\",\"topology.qualifier/all-fq\",\"topology.qualifier/all-fq\",\"topology.qualifier/all-fq\",\"topology.qualifier/all-fq\",\"topology.qualifier/all-fq\",\"topology.qualifier/all-fq\",\"topology.qualifier/all-fq\",\"topology.qualifier/all-fq\",\"topology.qualifier/all-fq\",\"topology.qualifier/all-fq\",\"topology.qualifier/all-fq\",\"topology.qualifier/all-fq\",\"topology.qualifier/all-fq\",\"topology.qualifier/all-fq\",\"topology.qualifier/all-fq\",\"topology.qualifier/all-fq\",\"topology.qualifier/all-fq\",\"topology.qualifier/all-fq\",\"topology.qualifier/all-fq\",\"topology.qualifier/all-fq\",\"topology.qualifier/all-fq\",\"topology.finder/source-paths->namespaces\",\"topology.finder/source-paths->namespaces\",\"topology.finder/source-paths->namespaces\",\"topology.finder/source-paths->namespaces\",\"topology.finder/source-paths->namespaces\",\"topology.finder/source-paths->namespaces\",\"topology.finder/source-paths->namespaces\",\"topology.finder/source-paths->namespaces\",\"topology.finder/source-paths->namespaces\",\"topology.finder/source-paths->namespaces\",\"topology.finder/source-paths->namespaces\",\"topology.finder/source-paths->namespaces\",\"topology.finder/source-paths->namespaces\",\"topology.finder/source-paths->namespaces\",\"topology.finder/source-paths->namespaces\",\"topology.finder/source-paths->namespaces\",\"topology.finder/source-paths->namespaces\",\"topology.finder/source-paths->namespaces\",\"topology.finder/source-paths->namespaces\",\"topology.finder/source-paths->namespaces\",\"topology.finder/source-paths->namespaces\",\"topology.finder/source-paths->namespaces\",\"topology.finder/source-paths->namespaces\",\"topology.finder/source-paths->namespaces\",\"topology.finder/source-paths->namespaces\",\"topology.finder/source-paths->namespaces\",\"topology.finder/source-paths->namespaces\",\"topology.finder/source-paths->namespaces\",\"topology.finder/source-paths->namespaces\",\"topology.finder/source-paths->namespaces\",\"topology.finder/source-paths->namespaces\",\"topology.finder/source-paths->namespaces\",\"topology.finder/source-paths->namespaces\",\"topology.finder/source-paths->namespaces\",\"topology.finder/source-paths->namespaces\",\"topology.finder/dirs->sources\",\"topology.finder/dirs->sources\",\"topology.finder/dirs->sources\",\"topology.finder/dirs->sources\",\"topology.finder/dirs->sources\",\"topology.finder/dirs->sources\",\"topology.finder/dirs->sources\",\"topology.finder/dirs->sources\",\"topology.finder/dirs->sources\",\"topology.finder/dirs->sources\",\"topology.finder/dirs->sources\",\"topology.finder/dirs->sources\",\"topology.finder/dirs->sources\",\"topology.finder/dirs->sources\",\"topology.finder/dirs->sources\",\"topology.finder/dirs->sources\",\"topology.finder/dirs->sources\",\"topology.finder/dirs->sources\",\"topology.finder/dirs->sources\",\"topology.finder/dirs->sources\",\"topology.finder/dirs->sources\",\"topology.finder/dirs->sources\",\"topology.finder/dirs->sources\",\"topology.finder/dirs->sources\",\"topology.finder/dirs->sources\",\"topology.finder/dirs->sources\",\"topology.finder/dirs->sources\",\"topology.finder/dirs->sources\",\"topology.finder/dirs->sources\",\"topology.finder/dirs->sources\",\"topology.finder/dirs->sources\",\"topology.finder/dirs->sources\",\"topology.finder/dirs->sources\",\"topology.finder/dirs->sources\",\"topology.finder/dirs->sources\",\"clojure.tools.namespace.file/read-file-ns-decl\",\"clojure.tools.namespace.file/read-file-ns-decl\",\"clojure.tools.namespace.file/read-file-ns-decl\",\"clojure.tools.namespace.file/read-file-ns-decl\",\"clojure.tools.namespace.file/read-file-ns-decl\",\"clojure.tools.namespace.file/read-file-ns-decl\",\"clojure.tools.namespace.file/read-file-ns-decl\",\"clojure.tools.namespace.file/read-file-ns-decl\",\"clojure.tools.namespace.file/read-file-ns-decl\",\"clojure.tools.namespace.file/read-file-ns-decl\",\"clojure.tools.namespace.file/read-file-ns-decl\",\"clojure.tools.namespace.file/read-file-ns-decl\",\"clojure.tools.namespace.file/read-file-ns-decl\",\"clojure.tools.namespace.file/read-file-ns-decl\",\"clojure.tools.namespace.file/read-file-ns-decl\",\"clojure.tools.namespace.file/read-file-ns-decl\",\"clojure.tools.namespace.file/read-file-ns-decl\",\"clojure.tools.namespace.file/read-file-ns-decl\",\"clojure.tools.namespace.file/read-file-ns-decl\",\"clojure.tools.namespace.file/read-file-ns-decl\",\"clojure.tools.namespace.file/read-file-ns-decl\",\"clojure.tools.namespace.file/read-file-ns-decl\",\"clojure.tools.namespace.file/read-file-ns-decl\",\"clojure.tools.namespace.file/read-file-ns-decl\",\"clojure.tools.namespace.file/read-file-ns-decl\",\"clojure.tools.namespace.file/read-file-ns-decl\",\"clojure.tools.namespace.file/read-file-ns-decl\",\"clojure.tools.namespace.file/read-file-ns-decl\",\"clojure.tools.namespace.file/read-file-ns-decl\",\"clojure.tools.namespace.file/read-file-ns-decl\",\"clojure.tools.namespace.file/read-file-ns-decl\",\"clojure.tools.namespace.file/read-file-ns-decl\",\"clojure.tools.namespace.file/read-file-ns-decl\",\"clojure.tools.namespace.file/read-file-ns-decl\",\"clojure.tools.namespace.file/read-file-ns-decl\",\"topology.symbols/symbols\",\"topology.symbols/symbols\",\"topology.symbols/symbols\",\"topology.symbols/symbols\",\"topology.symbols/symbols\",\"topology.symbols/symbols\",\"topology.symbols/symbols\",\"topology.symbols/symbols\",\"topology.symbols/symbols\",\"topology.symbols/symbols\",\"topology.symbols/symbols\",\"topology.symbols/symbols\",\"topology.symbols/symbols\",\"topology.symbols/symbols\",\"topology.symbols/symbols\",\"topology.symbols/symbols\",\"topology.symbols/symbols\",\"topology.symbols/symbols\",\"topology.symbols/symbols\",\"topology.symbols/symbols\",\"topology.symbols/symbols\",\"topology.symbols/symbols\",\"topology.symbols/symbols\",\"topology.symbols/symbols\",\"topology.symbols/symbols\",\"topology.symbols/symbols\",\"topology.symbols/symbols\",\"topology.symbols/symbols\",\"topology.symbols/symbols\",\"topology.symbols/symbols\",\"topology.symbols/symbols\",\"topology.symbols/symbols\",\"topology.symbols/symbols\",\"topology.symbols/symbols\",\"topology.symbols/symbols\",\"topology.edgelist-test/edges\",\"topology.edgelist-test/edges\",\"topology.edgelist-test/edges\",\"topology.edgelist-test/edges\",\"topology.edgelist-test/edges\",\"topology.edgelist-test/edges\",\"topology.edgelist-test/edges\",\"topology.edgelist-test/edges\",\"topology.edgelist-test/edges\",\"topology.edgelist-test/edges\",\"topology.edgelist-test/edges\",\"topology.edgelist-test/edges\",\"topology.edgelist-test/edges\",\"topology.edgelist-test/edges\",\"topology.edgelist-test/edges\",\"topology.edgelist-test/edges\",\"topology.edgelist-test/edges\",\"topology.edgelist-test/edges\",\"topology.edgelist-test/edges\",\"topology.edgelist-test/edges\",\"topology.edgelist-test/edges\",\"topology.edgelist-test/edges\",\"topology.edgelist-test/edges\",\"topology.edgelist-test/edges\",\"topology.edgelist-test/edges\",\"topology.edgelist-test/edges\",\"topology.edgelist-test/edges\",\"topology.edgelist-test/edges\",\"topology.edgelist-test/edges\",\"topology.edgelist-test/edges\",\"topology.edgelist-test/edges\",\"topology.edgelist-test/edges\",\"topology.edgelist-test/edges\",\"topology.edgelist-test/edges\",\"topology.edgelist-test/edges\",\"topology.edgelist/dirs->fn-edges\",\"topology.edgelist/dirs->fn-edges\",\"topology.edgelist/dirs->fn-edges\",\"topology.edgelist/dirs->fn-edges\",\"topology.edgelist/dirs->fn-edges\",\"topology.edgelist/dirs->fn-edges\",\"topology.edgelist/dirs->fn-edges\",\"topology.edgelist/dirs->fn-edges\",\"topology.edgelist/dirs->fn-edges\",\"topology.edgelist/dirs->fn-edges\",\"topology.edgelist/dirs->fn-edges\",\"topology.edgelist/dirs->fn-edges\",\"topology.edgelist/dirs->fn-edges\",\"topology.edgelist/dirs->fn-edges\",\"topology.edgelist/dirs->fn-edges\",\"topology.edgelist/dirs->fn-edges\",\"topology.edgelist/dirs->fn-edges\",\"topology.edgelist/dirs->fn-edges\",\"topology.edgelist/dirs->fn-edges\",\"topology.edgelist/dirs->fn-edges\",\"topology.edgelist/dirs->fn-edges\",\"topology.edgelist/dirs->fn-edges\",\"topology.edgelist/dirs->fn-edges\",\"topology.edgelist/dirs->fn-edges\",\"topology.edgelist/dirs->fn-edges\",\"topology.edgelist/dirs->fn-edges\",\"topology.edgelist/dirs->fn-edges\",\"topology.edgelist/dirs->fn-edges\",\"topology.edgelist/dirs->fn-edges\",\"topology.edgelist/dirs->fn-edges\",\"topology.edgelist/dirs->fn-edges\",\"topology.edgelist/dirs->fn-edges\",\"topology.edgelist/dirs->fn-edges\",\"topology.edgelist/dirs->fn-edges\",\"topology.edgelist/dirs->fn-edges\",\"topology.symbols/zip-nodes\",\"topology.symbols/zip-nodes\",\"topology.symbols/zip-nodes\",\"topology.symbols/zip-nodes\",\"topology.symbols/zip-nodes\",\"topology.symbols/zip-nodes\",\"topology.symbols/zip-nodes\",\"topology.symbols/zip-nodes\",\"topology.symbols/zip-nodes\",\"topology.symbols/zip-nodes\",\"topology.symbols/zip-nodes\",\"topology.symbols/zip-nodes\",\"topology.symbols/zip-nodes\",\"topology.symbols/zip-nodes\",\"topology.symbols/zip-nodes\",\"topology.symbols/zip-nodes\",\"topology.symbols/zip-nodes\",\"topology.symbols/zip-nodes\",\"topology.symbols/zip-nodes\",\"topology.symbols/zip-nodes\",\"topology.symbols/zip-nodes\",\"topology.symbols/zip-nodes\",\"topology.symbols/zip-nodes\",\"topology.symbols/zip-nodes\",\"topology.symbols/zip-nodes\",\"topology.symbols/zip-nodes\",\"topology.symbols/zip-nodes\",\"topology.symbols/zip-nodes\",\"topology.symbols/zip-nodes\",\"topology.symbols/zip-nodes\",\"topology.symbols/zip-nodes\",\"topology.symbols/zip-nodes\",\"topology.symbols/zip-nodes\",\"topology.symbols/zip-nodes\",\"topology.symbols/zip-nodes\",\"topology.qualifier/fq-ns\",\"topology.qualifier/fq-ns\",\"topology.qualifier/fq-ns\",\"topology.qualifier/fq-ns\",\"topology.qualifier/fq-ns\",\"topology.qualifier/fq-ns\",\"topology.qualifier/fq-ns\",\"topology.qualifier/fq-ns\",\"topology.qualifier/fq-ns\",\"topology.qualifier/fq-ns\",\"topology.qualifier/fq-ns\",\"topology.qualifier/fq-ns\",\"topology.qualifier/fq-ns\",\"topology.qualifier/fq-ns\",\"topology.qualifier/fq-ns\",\"topology.qualifier/fq-ns\",\"topology.qualifier/fq-ns\",\"topology.qualifier/fq-ns\",\"topology.qualifier/fq-ns\",\"topology.qualifier/fq-ns\",\"topology.qualifier/fq-ns\",\"topology.qualifier/fq-ns\",\"topology.qualifier/fq-ns\",\"topology.qualifier/fq-ns\",\"topology.qualifier/fq-ns\",\"topology.qualifier/fq-ns\",\"topology.qualifier/fq-ns\",\"topology.qualifier/fq-ns\",\"topology.qualifier/fq-ns\",\"topology.qualifier/fq-ns\",\"topology.qualifier/fq-ns\",\"topology.qualifier/fq-ns\",\"topology.qualifier/fq-ns\",\"topology.qualifier/fq-ns\",\"topology.qualifier/fq-ns\",\"clojure.zip/next\",\"clojure.zip/next\",\"clojure.zip/next\",\"clojure.zip/next\",\"clojure.zip/next\",\"clojure.zip/next\",\"clojure.zip/next\",\"clojure.zip/next\",\"clojure.zip/next\",\"clojure.zip/next\",\"clojure.zip/next\",\"clojure.zip/next\",\"clojure.zip/next\",\"clojure.zip/next\",\"clojure.zip/next\",\"clojure.zip/next\",\"clojure.zip/next\",\"clojure.zip/next\",\"clojure.zip/next\",\"clojure.zip/next\",\"clojure.zip/next\",\"clojure.zip/next\",\"clojure.zip/next\",\"clojure.zip/next\",\"clojure.zip/next\",\"clojure.zip/next\",\"clojure.zip/next\",\"clojure.zip/next\",\"clojure.zip/next\",\"clojure.zip/next\",\"clojure.zip/next\",\"clojure.zip/next\",\"clojure.zip/next\",\"clojure.zip/next\",\"clojure.zip/next\",\"clojure.core/*err*\",\"clojure.core/*err*\",\"clojure.core/*err*\",\"clojure.core/*err*\",\"clojure.core/*err*\",\"clojure.core/*err*\",\"clojure.core/*err*\",\"clojure.core/*err*\",\"clojure.core/*err*\",\"clojure.core/*err*\",\"clojure.core/*err*\",\"clojure.core/*err*\",\"clojure.core/*err*\",\"clojure.core/*err*\",\"clojure.core/*err*\",\"clojure.core/*err*\",\"clojure.core/*err*\",\"clojure.core/*err*\",\"clojure.core/*err*\",\"clojure.core/*err*\",\"clojure.core/*err*\",\"clojure.core/*err*\",\"clojure.core/*err*\",\"clojure.core/*err*\",\"clojure.core/*err*\",\"clojure.core/*err*\",\"clojure.core/*err*\",\"clojure.core/*err*\",\"clojure.core/*err*\",\"clojure.core/*err*\",\"clojure.core/*err*\",\"clojure.core/*err*\",\"clojure.core/*err*\",\"clojure.core/*err*\",\"clojure.core/*err*\",\"topology.edgelist/ns->edgelist\",\"topology.edgelist/ns->edgelist\",\"topology.edgelist/ns->edgelist\",\"topology.edgelist/ns->edgelist\",\"topology.edgelist/ns->edgelist\",\"topology.edgelist/ns->edgelist\",\"topology.edgelist/ns->edgelist\",\"topology.edgelist/ns->edgelist\",\"topology.edgelist/ns->edgelist\",\"topology.edgelist/ns->edgelist\",\"topology.edgelist/ns->edgelist\",\"topology.edgelist/ns->edgelist\",\"topology.edgelist/ns->edgelist\",\"topology.edgelist/ns->edgelist\",\"topology.edgelist/ns->edgelist\",\"topology.edgelist/ns->edgelist\",\"topology.edgelist/ns->edgelist\",\"topology.edgelist/ns->edgelist\",\"topology.edgelist/ns->edgelist\",\"topology.edgelist/ns->edgelist\",\"topology.edgelist/ns->edgelist\",\"topology.edgelist/ns->edgelist\",\"topology.edgelist/ns->edgelist\",\"topology.edgelist/ns->edgelist\",\"topology.edgelist/ns->edgelist\",\"topology.edgelist/ns->edgelist\",\"topology.edgelist/ns->edgelist\",\"topology.edgelist/ns->edgelist\",\"topology.edgelist/ns->edgelist\",\"topology.edgelist/ns->edgelist\",\"topology.edgelist/ns->edgelist\",\"topology.edgelist/ns->edgelist\",\"topology.edgelist/ns->edgelist\",\"topology.edgelist/ns->edgelist\",\"topology.edgelist/ns->edgelist\",\"clojure.tools.namespace.file/clojure-file?\",\"clojure.tools.namespace.file/clojure-file?\",\"clojure.tools.namespace.file/clojure-file?\",\"clojure.tools.namespace.file/clojure-file?\",\"clojure.tools.namespace.file/clojure-file?\",\"clojure.tools.namespace.file/clojure-file?\",\"clojure.tools.namespace.file/clojure-file?\",\"clojure.tools.namespace.file/clojure-file?\",\"clojure.tools.namespace.file/clojure-file?\",\"clojure.tools.namespace.file/clojure-file?\",\"clojure.tools.namespace.file/clojure-file?\",\"clojure.tools.namespace.file/clojure-file?\",\"clojure.tools.namespace.file/clojure-file?\",\"clojure.tools.namespace.file/clojure-file?\",\"clojure.tools.namespace.file/clojure-file?\",\"clojure.tools.namespace.file/clojure-file?\",\"clojure.tools.namespace.file/clojure-file?\",\"clojure.tools.namespace.file/clojure-file?\",\"clojure.tools.namespace.file/clojure-file?\",\"clojure.tools.namespace.file/clojure-file?\",\"clojure.tools.namespace.file/clojure-file?\",\"clojure.tools.namespace.file/clojure-file?\",\"clojure.tools.namespace.file/clojure-file?\",\"clojure.tools.namespace.file/clojure-file?\",\"clojure.tools.namespace.file/clojure-file?\",\"clojure.tools.namespace.file/clojure-file?\",\"clojure.tools.namespace.file/clojure-file?\",\"clojure.tools.namespace.file/clojure-file?\",\"clojure.tools.namespace.file/clojure-file?\",\"clojure.tools.namespace.file/clojure-file?\",\"clojure.tools.namespace.file/clojure-file?\",\"clojure.tools.namespace.file/clojure-file?\",\"clojure.tools.namespace.file/clojure-file?\",\"clojure.tools.namespace.file/clojure-file?\",\"clojure.tools.namespace.file/clojure-file?\",\"clojure.java.io/file\",\"clojure.java.io/file\",\"clojure.java.io/file\",\"clojure.java.io/file\",\"clojure.java.io/file\",\"clojure.java.io/file\",\"clojure.java.io/file\",\"clojure.java.io/file\",\"clojure.java.io/file\",\"clojure.java.io/file\",\"clojure.java.io/file\",\"clojure.java.io/file\",\"clojure.java.io/file\",\"clojure.java.io/file\",\"clojure.java.io/file\",\"clojure.java.io/file\",\"clojure.java.io/file\",\"clojure.java.io/file\",\"clojure.java.io/file\",\"clojure.java.io/file\",\"clojure.java.io/file\",\"clojure.java.io/file\",\"clojure.java.io/file\",\"clojure.java.io/file\",\"clojure.java.io/file\",\"clojure.java.io/file\",\"clojure.java.io/file\",\"clojure.java.io/file\",\"clojure.java.io/file\",\"clojure.java.io/file\",\"clojure.java.io/file\",\"clojure.java.io/file\",\"clojure.java.io/file\",\"clojure.java.io/file\",\"clojure.java.io/file\",\"clojure.zip/end?\",\"clojure.zip/end?\",\"clojure.zip/end?\",\"clojure.zip/end?\",\"clojure.zip/end?\",\"clojure.zip/end?\",\"clojure.zip/end?\",\"clojure.zip/end?\",\"clojure.zip/end?\",\"clojure.zip/end?\",\"clojure.zip/end?\",\"clojure.zip/end?\",\"clojure.zip/end?\",\"clojure.zip/end?\",\"clojure.zip/end?\",\"clojure.zip/end?\",\"clojure.zip/end?\",\"clojure.zip/end?\",\"clojure.zip/end?\",\"clojure.zip/end?\",\"clojure.zip/end?\",\"clojure.zip/end?\",\"clojure.zip/end?\",\"clojure.zip/end?\",\"clojure.zip/end?\",\"clojure.zip/end?\",\"clojure.zip/end?\",\"clojure.zip/end?\",\"clojure.zip/end?\",\"clojure.zip/end?\",\"clojure.zip/end?\",\"clojure.zip/end?\",\"clojure.zip/end?\",\"clojure.zip/end?\",\"clojure.zip/end?\",\"clojure.zip/node\",\"clojure.zip/node\",\"clojure.zip/node\",\"clojure.zip/node\",\"clojure.zip/node\",\"clojure.zip/node\",\"clojure.zip/node\",\"clojure.zip/node\",\"clojure.zip/node\",\"clojure.zip/node\",\"clojure.zip/node\",\"clojure.zip/node\",\"clojure.zip/node\",\"clojure.zip/node\",\"clojure.zip/node\",\"clojure.zip/node\",\"clojure.zip/node\",\"clojure.zip/node\",\"clojure.zip/node\",\"clojure.zip/node\",\"clojure.zip/node\",\"clojure.zip/node\",\"clojure.zip/node\",\"clojure.zip/node\",\"clojure.zip/node\",\"clojure.zip/node\",\"clojure.zip/node\",\"clojure.zip/node\",\"clojure.zip/node\",\"clojure.zip/node\",\"clojure.zip/node\",\"clojure.zip/node\",\"clojure.zip/node\",\"clojure.zip/node\",\"clojure.zip/node\",\"clojure.zip/zipper\",\"clojure.zip/zipper\",\"clojure.zip/zipper\",\"clojure.zip/zipper\",\"clojure.zip/zipper\",\"clojure.zip/zipper\",\"clojure.zip/zipper\",\"clojure.zip/zipper\",\"clojure.zip/zipper\",\"clojure.zip/zipper\",\"clojure.zip/zipper\",\"clojure.zip/zipper\",\"clojure.zip/zipper\",\"clojure.zip/zipper\",\"clojure.zip/zipper\",\"clojure.zip/zipper\",\"clojure.zip/zipper\",\"clojure.zip/zipper\",\"clojure.zip/zipper\",\"clojure.zip/zipper\",\"clojure.zip/zipper\",\"clojure.zip/zipper\",\"clojure.zip/zipper\",\"clojure.zip/zipper\",\"clojure.zip/zipper\",\"clojure.zip/zipper\",\"clojure.zip/zipper\",\"clojure.zip/zipper\",\"clojure.zip/zipper\",\"clojure.zip/zipper\",\"clojure.zip/zipper\",\"clojure.zip/zipper\",\"clojure.zip/zipper\",\"clojure.zip/zipper\",\"clojure.zip/zipper\"],\"yname\":[\"topology.dependencies/dependencies\",\"topology.edgelist-test/syntax-quotes-add-seq-concat-list\",\"topology.dependencies-test/should-compute-fn-calls-in-namespace\",\"leiningen.topology/topology\",\"topology.finder/find-sources-in-dir\",\"topology.finder/clojurescript-file?\",\"topology.edgelist-test/should-produce-weighted-edges-for-multiple-calls\",\"topology.dependencies/ns->fn-dep-map\",\"topology.printer/print-weighted-edges\",\"clojure.core/println\",\"topology.symbols/seq-map-zip\",\"topology.edgelist/interleave-keys\",\"topology.dependencies/interns\",\"topology.dependencies/sources\",\"clojure.repl/source-fn\",\"topology.edgelist-test/should-report-java-interop\",\"topology.qualifier/filter-fully-qualified\",\"leiningen.core.eval/eval-in-project\",\"topology.qualifier/all-fq\",\"topology.finder/source-paths->namespaces\",\"topology.finder/dirs->sources\",\"clojure.tools.namespace.file/read-file-ns-decl\",\"topology.symbols/symbols\",\"topology.edgelist-test/edges\",\"topology.edgelist/dirs->fn-edges\",\"topology.symbols/zip-nodes\",\"topology.qualifier/fq-ns\",\"clojure.zip/next\",\"clojure.core/*err*\",\"topology.edgelist/ns->edgelist\",\"clojure.tools.namespace.file/clojure-file?\",\"clojure.java.io/file\",\"clojure.zip/end?\",\"clojure.zip/node\",\"clojure.zip/zipper\",\"topology.dependencies/dependencies\",\"topology.edgelist-test/syntax-quotes-add-seq-concat-list\",\"topology.dependencies-test/should-compute-fn-calls-in-namespace\",\"leiningen.topology/topology\",\"topology.finder/find-sources-in-dir\",\"topology.finder/clojurescript-file?\",\"topology.edgelist-test/should-produce-weighted-edges-for-multiple-calls\",\"topology.dependencies/ns->fn-dep-map\",\"topology.printer/print-weighted-edges\",\"clojure.core/println\",\"topology.symbols/seq-map-zip\",\"topology.edgelist/interleave-keys\",\"topology.dependencies/interns\",\"topology.dependencies/sources\",\"clojure.repl/source-fn\",\"topology.edgelist-test/should-report-java-interop\",\"topology.qualifier/filter-fully-qualified\",\"leiningen.core.eval/eval-in-project\",\"topology.qualifier/all-fq\",\"topology.finder/source-paths->namespaces\",\"topology.finder/dirs->sources\",\"clojure.tools.namespace.file/read-file-ns-decl\",\"topology.symbols/symbols\",\"topology.edgelist-test/edges\",\"topology.edgelist/dirs->fn-edges\",\"topology.symbols/zip-nodes\",\"topology.qualifier/fq-ns\",\"clojure.zip/next\",\"clojure.core/*err*\",\"topology.edgelist/ns->edgelist\",\"clojure.tools.namespace.file/clojure-file?\",\"clojure.java.io/file\",\"clojure.zip/end?\",\"clojure.zip/node\",\"clojure.zip/zipper\",\"topology.dependencies/dependencies\",\"topology.edgelist-test/syntax-quotes-add-seq-concat-list\",\"topology.dependencies-test/should-compute-fn-calls-in-namespace\",\"leiningen.topology/topology\",\"topology.finder/find-sources-in-dir\",\"topology.finder/clojurescript-file?\",\"topology.edgelist-test/should-produce-weighted-edges-for-multiple-calls\",\"topology.dependencies/ns->fn-dep-map\",\"topology.printer/print-weighted-edges\",\"clojure.core/println\",\"topology.symbols/seq-map-zip\",\"topology.edgelist/interleave-keys\",\"topology.dependencies/interns\",\"topology.dependencies/sources\",\"clojure.repl/source-fn\",\"topology.edgelist-test/should-report-java-interop\",\"topology.qualifier/filter-fully-qualified\",\"leiningen.core.eval/eval-in-project\",\"topology.qualifier/all-fq\",\"topology.finder/source-paths->namespaces\",\"topology.finder/dirs->sources\",\"clojure.tools.namespace.file/read-file-ns-decl\",\"topology.symbols/symbols\",\"topology.edgelist-test/edges\",\"topology.edgelist/dirs->fn-edges\",\"topology.symbols/zip-nodes\",\"topology.qualifier/fq-ns\",\"clojure.zip/next\",\"clojure.core/*err*\",\"topology.edgelist/ns->edgelist\",\"clojure.tools.namespace.file/clojure-file?\",\"clojure.java.io/file\",\"clojure.zip/end?\",\"clojure.zip/node\",\"clojure.zip/zipper\",\"topology.dependencies/dependencies\",\"topology.edgelist-test/syntax-quotes-add-seq-concat-list\",\"topology.dependencies-test/should-compute-fn-calls-in-namespace\",\"leiningen.topology/topology\",\"topology.finder/find-sources-in-dir\",\"topology.finder/clojurescript-file?\",\"topology.edgelist-test/should-produce-weighted-edges-for-multiple-calls\",\"topology.dependencies/ns->fn-dep-map\",\"topology.printer/print-weighted-edges\",\"clojure.core/println\",\"topology.symbols/seq-map-zip\",\"topology.edgelist/interleave-keys\",\"topology.dependencies/interns\",\"topology.dependencies/sources\",\"clojure.repl/source-fn\",\"topology.edgelist-test/should-report-java-interop\",\"topology.qualifier/filter-fully-qualified\",\"leiningen.core.eval/eval-in-project\",\"topology.qualifier/all-fq\",\"topology.finder/source-paths->namespaces\",\"topology.finder/dirs->sources\",\"clojure.tools.namespace.file/read-file-ns-decl\",\"topology.symbols/symbols\",\"topology.edgelist-test/edges\",\"topology.edgelist/dirs->fn-edges\",\"topology.symbols/zip-nodes\",\"topology.qualifier/fq-ns\",\"clojure.zip/next\",\"clojure.core/*err*\",\"topology.edgelist/ns->edgelist\",\"clojure.tools.namespace.file/clojure-file?\",\"clojure.java.io/file\",\"clojure.zip/end?\",\"clojure.zip/node\",\"clojure.zip/zipper\",\"topology.dependencies/dependencies\",\"topology.edgelist-test/syntax-quotes-add-seq-concat-list\",\"topology.dependencies-test/should-compute-fn-calls-in-namespace\",\"leiningen.topology/topology\",\"topology.finder/find-sources-in-dir\",\"topology.finder/clojurescript-file?\",\"topology.edgelist-test/should-produce-weighted-edges-for-multiple-calls\",\"topology.dependencies/ns->fn-dep-map\",\"topology.printer/print-weighted-edges\",\"clojure.core/println\",\"topology.symbols/seq-map-zip\",\"topology.edgelist/interleave-keys\",\"topology.dependencies/interns\",\"topology.dependencies/sources\",\"clojure.repl/source-fn\",\"topology.edgelist-test/should-report-java-interop\",\"topology.qualifier/filter-fully-qualified\",\"leiningen.core.eval/eval-in-project\",\"topology.qualifier/all-fq\",\"topology.finder/source-paths->namespaces\",\"topology.finder/dirs->sources\",\"clojure.tools.namespace.file/read-file-ns-decl\",\"topology.symbols/symbols\",\"topology.edgelist-test/edges\",\"topology.edgelist/dirs->fn-edges\",\"topology.symbols/zip-nodes\",\"topology.qualifier/fq-ns\",\"clojure.zip/next\",\"clojure.core/*err*\",\"topology.edgelist/ns->edgelist\",\"clojure.tools.namespace.file/clojure-file?\",\"clojure.java.io/file\",\"clojure.zip/end?\",\"clojure.zip/node\",\"clojure.zip/zipper\",\"topology.dependencies/dependencies\",\"topology.edgelist-test/syntax-quotes-add-seq-concat-list\",\"topology.dependencies-test/should-compute-fn-calls-in-namespace\",\"leiningen.topology/topology\",\"topology.finder/find-sources-in-dir\",\"topology.finder/clojurescript-file?\",\"topology.edgelist-test/should-produce-weighted-edges-for-multiple-calls\",\"topology.dependencies/ns->fn-dep-map\",\"topology.printer/print-weighted-edges\",\"clojure.core/println\",\"topology.symbols/seq-map-zip\",\"topology.edgelist/interleave-keys\",\"topology.dependencies/interns\",\"topology.dependencies/sources\",\"clojure.repl/source-fn\",\"topology.edgelist-test/should-report-java-interop\",\"topology.qualifier/filter-fully-qualified\",\"leiningen.core.eval/eval-in-project\",\"topology.qualifier/all-fq\",\"topology.finder/source-paths->namespaces\",\"topology.finder/dirs->sources\",\"clojure.tools.namespace.file/read-file-ns-decl\",\"topology.symbols/symbols\",\"topology.edgelist-test/edges\",\"topology.edgelist/dirs->fn-edges\",\"topology.symbols/zip-nodes\",\"topology.qualifier/fq-ns\",\"clojure.zip/next\",\"clojure.core/*err*\",\"topology.edgelist/ns->edgelist\",\"clojure.tools.namespace.file/clojure-file?\",\"clojure.java.io/file\",\"clojure.zip/end?\",\"clojure.zip/node\",\"clojure.zip/zipper\",\"topology.dependencies/dependencies\",\"topology.edgelist-test/syntax-quotes-add-seq-concat-list\",\"topology.dependencies-test/should-compute-fn-calls-in-namespace\",\"leiningen.topology/topology\",\"topology.finder/find-sources-in-dir\",\"topology.finder/clojurescript-file?\",\"topology.edgelist-test/should-produce-weighted-edges-for-multiple-calls\",\"topology.dependencies/ns->fn-dep-map\",\"topology.printer/print-weighted-edges\",\"clojure.core/println\",\"topology.symbols/seq-map-zip\",\"topology.edgelist/interleave-keys\",\"topology.dependencies/interns\",\"topology.dependencies/sources\",\"clojure.repl/source-fn\",\"topology.edgelist-test/should-report-java-interop\",\"topology.qualifier/filter-fully-qualified\",\"leiningen.core.eval/eval-in-project\",\"topology.qualifier/all-fq\",\"topology.finder/source-paths->namespaces\",\"topology.finder/dirs->sources\",\"clojure.tools.namespace.file/read-file-ns-decl\",\"topology.symbols/symbols\",\"topology.edgelist-test/edges\",\"topology.edgelist/dirs->fn-edges\",\"topology.symbols/zip-nodes\",\"topology.qualifier/fq-ns\",\"clojure.zip/next\",\"clojure.core/*err*\",\"topology.edgelist/ns->edgelist\",\"clojure.tools.namespace.file/clojure-file?\",\"clojure.java.io/file\",\"clojure.zip/end?\",\"clojure.zip/node\",\"clojure.zip/zipper\",\"topology.dependencies/dependencies\",\"topology.edgelist-test/syntax-quotes-add-seq-concat-list\",\"topology.dependencies-test/should-compute-fn-calls-in-namespace\",\"leiningen.topology/topology\",\"topology.finder/find-sources-in-dir\",\"topology.finder/clojurescript-file?\",\"topology.edgelist-test/should-produce-weighted-edges-for-multiple-calls\",\"topology.dependencies/ns->fn-dep-map\",\"topology.printer/print-weighted-edges\",\"clojure.core/println\",\"topology.symbols/seq-map-zip\",\"topology.edgelist/interleave-keys\",\"topology.dependencies/interns\",\"topology.dependencies/sources\",\"clojure.repl/source-fn\",\"topology.edgelist-test/should-report-java-interop\",\"topology.qualifier/filter-fully-qualified\",\"leiningen.core.eval/eval-in-project\",\"topology.qualifier/all-fq\",\"topology.finder/source-paths->namespaces\",\"topology.finder/dirs->sources\",\"clojure.tools.namespace.file/read-file-ns-decl\",\"topology.symbols/symbols\",\"topology.edgelist-test/edges\",\"topology.edgelist/dirs->fn-edges\",\"topology.symbols/zip-nodes\",\"topology.qualifier/fq-ns\",\"clojure.zip/next\",\"clojure.core/*err*\",\"topology.edgelist/ns->edgelist\",\"clojure.tools.namespace.file/clojure-file?\",\"clojure.java.io/file\",\"clojure.zip/end?\",\"clojure.zip/node\",\"clojure.zip/zipper\",\"topology.dependencies/dependencies\",\"topology.edgelist-test/syntax-quotes-add-seq-concat-list\",\"topology.dependencies-test/should-compute-fn-calls-in-namespace\",\"leiningen.topology/topology\",\"topology.finder/find-sources-in-dir\",\"topology.finder/clojurescript-file?\",\"topology.edgelist-test/should-produce-weighted-edges-for-multiple-calls\",\"topology.dependencies/ns->fn-dep-map\",\"topology.printer/print-weighted-edges\",\"clojure.core/println\",\"topology.symbols/seq-map-zip\",\"topology.edgelist/interleave-keys\",\"topology.dependencies/interns\",\"topology.dependencies/sources\",\"clojure.repl/source-fn\",\"topology.edgelist-test/should-report-java-interop\",\"topology.qualifier/filter-fully-qualified\",\"leiningen.core.eval/eval-in-project\",\"topology.qualifier/all-fq\",\"topology.finder/source-paths->namespaces\",\"topology.finder/dirs->sources\",\"clojure.tools.namespace.file/read-file-ns-decl\",\"topology.symbols/symbols\",\"topology.edgelist-test/edges\",\"topology.edgelist/dirs->fn-edges\",\"topology.symbols/zip-nodes\",\"topology.qualifier/fq-ns\",\"clojure.zip/next\",\"clojure.core/*err*\",\"topology.edgelist/ns->edgelist\",\"clojure.tools.namespace.file/clojure-file?\",\"clojure.java.io/file\",\"clojure.zip/end?\",\"clojure.zip/node\",\"clojure.zip/zipper\",\"topology.dependencies/dependencies\",\"topology.edgelist-test/syntax-quotes-add-seq-concat-list\",\"topology.dependencies-test/should-compute-fn-calls-in-namespace\",\"leiningen.topology/topology\",\"topology.finder/find-sources-in-dir\",\"topology.finder/clojurescript-file?\",\"topology.edgelist-test/should-produce-weighted-edges-for-multiple-calls\",\"topology.dependencies/ns->fn-dep-map\",\"topology.printer/print-weighted-edges\",\"clojure.core/println\",\"topology.symbols/seq-map-zip\",\"topology.edgelist/interleave-keys\",\"topology.dependencies/interns\",\"topology.dependencies/sources\",\"clojure.repl/source-fn\",\"topology.edgelist-test/should-report-java-interop\",\"topology.qualifier/filter-fully-qualified\",\"leiningen.core.eval/eval-in-project\",\"topology.qualifier/all-fq\",\"topology.finder/source-paths->namespaces\",\"topology.finder/dirs->sources\",\"clojure.tools.namespace.file/read-file-ns-decl\",\"topology.symbols/symbols\",\"topology.edgelist-test/edges\",\"topology.edgelist/dirs->fn-edges\",\"topology.symbols/zip-nodes\",\"topology.qualifier/fq-ns\",\"clojure.zip/next\",\"clojure.core/*err*\",\"topology.edgelist/ns->edgelist\",\"clojure.tools.namespace.file/clojure-file?\",\"clojure.java.io/file\",\"clojure.zip/end?\",\"clojure.zip/node\",\"clojure.zip/zipper\",\"topology.dependencies/dependencies\",\"topology.edgelist-test/syntax-quotes-add-seq-concat-list\",\"topology.dependencies-test/should-compute-fn-calls-in-namespace\",\"leiningen.topology/topology\",\"topology.finder/find-sources-in-dir\",\"topology.finder/clojurescript-file?\",\"topology.edgelist-test/should-produce-weighted-edges-for-multiple-calls\",\"topology.dependencies/ns->fn-dep-map\",\"topology.printer/print-weighted-edges\",\"clojure.core/println\",\"topology.symbols/seq-map-zip\",\"topology.edgelist/interleave-keys\",\"topology.dependencies/interns\",\"topology.dependencies/sources\",\"clojure.repl/source-fn\",\"topology.edgelist-test/should-report-java-interop\",\"topology.qualifier/filter-fully-qualified\",\"leiningen.core.eval/eval-in-project\",\"topology.qualifier/all-fq\",\"topology.finder/source-paths->namespaces\",\"topology.finder/dirs->sources\",\"clojure.tools.namespace.file/read-file-ns-decl\",\"topology.symbols/symbols\",\"topology.edgelist-test/edges\",\"topology.edgelist/dirs->fn-edges\",\"topology.symbols/zip-nodes\",\"topology.qualifier/fq-ns\",\"clojure.zip/next\",\"clojure.core/*err*\",\"topology.edgelist/ns->edgelist\",\"clojure.tools.namespace.file/clojure-file?\",\"clojure.java.io/file\",\"clojure.zip/end?\",\"clojure.zip/node\",\"clojure.zip/zipper\",\"topology.dependencies/dependencies\",\"topology.edgelist-test/syntax-quotes-add-seq-concat-list\",\"topology.dependencies-test/should-compute-fn-calls-in-namespace\",\"leiningen.topology/topology\",\"topology.finder/find-sources-in-dir\",\"topology.finder/clojurescript-file?\",\"topology.edgelist-test/should-produce-weighted-edges-for-multiple-calls\",\"topology.dependencies/ns->fn-dep-map\",\"topology.printer/print-weighted-edges\",\"clojure.core/println\",\"topology.symbols/seq-map-zip\",\"topology.edgelist/interleave-keys\",\"topology.dependencies/interns\",\"topology.dependencies/sources\",\"clojure.repl/source-fn\",\"topology.edgelist-test/should-report-java-interop\",\"topology.qualifier/filter-fully-qualified\",\"leiningen.core.eval/eval-in-project\",\"topology.qualifier/all-fq\",\"topology.finder/source-paths->namespaces\",\"topology.finder/dirs->sources\",\"clojure.tools.namespace.file/read-file-ns-decl\",\"topology.symbols/symbols\",\"topology.edgelist-test/edges\",\"topology.edgelist/dirs->fn-edges\",\"topology.symbols/zip-nodes\",\"topology.qualifier/fq-ns\",\"clojure.zip/next\",\"clojure.core/*err*\",\"topology.edgelist/ns->edgelist\",\"clojure.tools.namespace.file/clojure-file?\",\"clojure.java.io/file\",\"clojure.zip/end?\",\"clojure.zip/node\",\"clojure.zip/zipper\",\"topology.dependencies/dependencies\",\"topology.edgelist-test/syntax-quotes-add-seq-concat-list\",\"topology.dependencies-test/should-compute-fn-calls-in-namespace\",\"leiningen.topology/topology\",\"topology.finder/find-sources-in-dir\",\"topology.finder/clojurescript-file?\",\"topology.edgelist-test/should-produce-weighted-edges-for-multiple-calls\",\"topology.dependencies/ns->fn-dep-map\",\"topology.printer/print-weighted-edges\",\"clojure.core/println\",\"topology.symbols/seq-map-zip\",\"topology.edgelist/interleave-keys\",\"topology.dependencies/interns\",\"topology.dependencies/sources\",\"clojure.repl/source-fn\",\"topology.edgelist-test/should-report-java-interop\",\"topology.qualifier/filter-fully-qualified\",\"leiningen.core.eval/eval-in-project\",\"topology.qualifier/all-fq\",\"topology.finder/source-paths->namespaces\",\"topology.finder/dirs->sources\",\"clojure.tools.namespace.file/read-file-ns-decl\",\"topology.symbols/symbols\",\"topology.edgelist-test/edges\",\"topology.edgelist/dirs->fn-edges\",\"topology.symbols/zip-nodes\",\"topology.qualifier/fq-ns\",\"clojure.zip/next\",\"clojure.core/*err*\",\"topology.edgelist/ns->edgelist\",\"clojure.tools.namespace.file/clojure-file?\",\"clojure.java.io/file\",\"clojure.zip/end?\",\"clojure.zip/node\",\"clojure.zip/zipper\",\"topology.dependencies/dependencies\",\"topology.edgelist-test/syntax-quotes-add-seq-concat-list\",\"topology.dependencies-test/should-compute-fn-calls-in-namespace\",\"leiningen.topology/topology\",\"topology.finder/find-sources-in-dir\",\"topology.finder/clojurescript-file?\",\"topology.edgelist-test/should-produce-weighted-edges-for-multiple-calls\",\"topology.dependencies/ns->fn-dep-map\",\"topology.printer/print-weighted-edges\",\"clojure.core/println\",\"topology.symbols/seq-map-zip\",\"topology.edgelist/interleave-keys\",\"topology.dependencies/interns\",\"topology.dependencies/sources\",\"clojure.repl/source-fn\",\"topology.edgelist-test/should-report-java-interop\",\"topology.qualifier/filter-fully-qualified\",\"leiningen.core.eval/eval-in-project\",\"topology.qualifier/all-fq\",\"topology.finder/source-paths->namespaces\",\"topology.finder/dirs->sources\",\"clojure.tools.namespace.file/read-file-ns-decl\",\"topology.symbols/symbols\",\"topology.edgelist-test/edges\",\"topology.edgelist/dirs->fn-edges\",\"topology.symbols/zip-nodes\",\"topology.qualifier/fq-ns\",\"clojure.zip/next\",\"clojure.core/*err*\",\"topology.edgelist/ns->edgelist\",\"clojure.tools.namespace.file/clojure-file?\",\"clojure.java.io/file\",\"clojure.zip/end?\",\"clojure.zip/node\",\"clojure.zip/zipper\",\"topology.dependencies/dependencies\",\"topology.edgelist-test/syntax-quotes-add-seq-concat-list\",\"topology.dependencies-test/should-compute-fn-calls-in-namespace\",\"leiningen.topology/topology\",\"topology.finder/find-sources-in-dir\",\"topology.finder/clojurescript-file?\",\"topology.edgelist-test/should-produce-weighted-edges-for-multiple-calls\",\"topology.dependencies/ns->fn-dep-map\",\"topology.printer/print-weighted-edges\",\"clojure.core/println\",\"topology.symbols/seq-map-zip\",\"topology.edgelist/interleave-keys\",\"topology.dependencies/interns\",\"topology.dependencies/sources\",\"clojure.repl/source-fn\",\"topology.edgelist-test/should-report-java-interop\",\"topology.qualifier/filter-fully-qualified\",\"leiningen.core.eval/eval-in-project\",\"topology.qualifier/all-fq\",\"topology.finder/source-paths->namespaces\",\"topology.finder/dirs->sources\",\"clojure.tools.namespace.file/read-file-ns-decl\",\"topology.symbols/symbols\",\"topology.edgelist-test/edges\",\"topology.edgelist/dirs->fn-edges\",\"topology.symbols/zip-nodes\",\"topology.qualifier/fq-ns\",\"clojure.zip/next\",\"clojure.core/*err*\",\"topology.edgelist/ns->edgelist\",\"clojure.tools.namespace.file/clojure-file?\",\"clojure.java.io/file\",\"clojure.zip/end?\",\"clojure.zip/node\",\"clojure.zip/zipper\",\"topology.dependencies/dependencies\",\"topology.edgelist-test/syntax-quotes-add-seq-concat-list\",\"topology.dependencies-test/should-compute-fn-calls-in-namespace\",\"leiningen.topology/topology\",\"topology.finder/find-sources-in-dir\",\"topology.finder/clojurescript-file?\",\"topology.edgelist-test/should-produce-weighted-edges-for-multiple-calls\",\"topology.dependencies/ns->fn-dep-map\",\"topology.printer/print-weighted-edges\",\"clojure.core/println\",\"topology.symbols/seq-map-zip\",\"topology.edgelist/interleave-keys\",\"topology.dependencies/interns\",\"topology.dependencies/sources\",\"clojure.repl/source-fn\",\"topology.edgelist-test/should-report-java-interop\",\"topology.qualifier/filter-fully-qualified\",\"leiningen.core.eval/eval-in-project\",\"topology.qualifier/all-fq\",\"topology.finder/source-paths->namespaces\",\"topology.finder/dirs->sources\",\"clojure.tools.namespace.file/read-file-ns-decl\",\"topology.symbols/symbols\",\"topology.edgelist-test/edges\",\"topology.edgelist/dirs->fn-edges\",\"topology.symbols/zip-nodes\",\"topology.qualifier/fq-ns\",\"clojure.zip/next\",\"clojure.core/*err*\",\"topology.edgelist/ns->edgelist\",\"clojure.tools.namespace.file/clojure-file?\",\"clojure.java.io/file\",\"clojure.zip/end?\",\"clojure.zip/node\",\"clojure.zip/zipper\",\"topology.dependencies/dependencies\",\"topology.edgelist-test/syntax-quotes-add-seq-concat-list\",\"topology.dependencies-test/should-compute-fn-calls-in-namespace\",\"leiningen.topology/topology\",\"topology.finder/find-sources-in-dir\",\"topology.finder/clojurescript-file?\",\"topology.edgelist-test/should-produce-weighted-edges-for-multiple-calls\",\"topology.dependencies/ns->fn-dep-map\",\"topology.printer/print-weighted-edges\",\"clojure.core/println\",\"topology.symbols/seq-map-zip\",\"topology.edgelist/interleave-keys\",\"topology.dependencies/interns\",\"topology.dependencies/sources\",\"clojure.repl/source-fn\",\"topology.edgelist-test/should-report-java-interop\",\"topology.qualifier/filter-fully-qualified\",\"leiningen.core.eval/eval-in-project\",\"topology.qualifier/all-fq\",\"topology.finder/source-paths->namespaces\",\"topology.finder/dirs->sources\",\"clojure.tools.namespace.file/read-file-ns-decl\",\"topology.symbols/symbols\",\"topology.edgelist-test/edges\",\"topology.edgelist/dirs->fn-edges\",\"topology.symbols/zip-nodes\",\"topology.qualifier/fq-ns\",\"clojure.zip/next\",\"clojure.core/*err*\",\"topology.edgelist/ns->edgelist\",\"clojure.tools.namespace.file/clojure-file?\",\"clojure.java.io/file\",\"clojure.zip/end?\",\"clojure.zip/node\",\"clojure.zip/zipper\",\"topology.dependencies/dependencies\",\"topology.edgelist-test/syntax-quotes-add-seq-concat-list\",\"topology.dependencies-test/should-compute-fn-calls-in-namespace\",\"leiningen.topology/topology\",\"topology.finder/find-sources-in-dir\",\"topology.finder/clojurescript-file?\",\"topology.edgelist-test/should-produce-weighted-edges-for-multiple-calls\",\"topology.dependencies/ns->fn-dep-map\",\"topology.printer/print-weighted-edges\",\"clojure.core/println\",\"topology.symbols/seq-map-zip\",\"topology.edgelist/interleave-keys\",\"topology.dependencies/interns\",\"topology.dependencies/sources\",\"clojure.repl/source-fn\",\"topology.edgelist-test/should-report-java-interop\",\"topology.qualifier/filter-fully-qualified\",\"leiningen.core.eval/eval-in-project\",\"topology.qualifier/all-fq\",\"topology.finder/source-paths->namespaces\",\"topology.finder/dirs->sources\",\"clojure.tools.namespace.file/read-file-ns-decl\",\"topology.symbols/symbols\",\"topology.edgelist-test/edges\",\"topology.edgelist/dirs->fn-edges\",\"topology.symbols/zip-nodes\",\"topology.qualifier/fq-ns\",\"clojure.zip/next\",\"clojure.core/*err*\",\"topology.edgelist/ns->edgelist\",\"clojure.tools.namespace.file/clojure-file?\",\"clojure.java.io/file\",\"clojure.zip/end?\",\"clojure.zip/node\",\"clojure.zip/zipper\",\"topology.dependencies/dependencies\",\"topology.edgelist-test/syntax-quotes-add-seq-concat-list\",\"topology.dependencies-test/should-compute-fn-calls-in-namespace\",\"leiningen.topology/topology\",\"topology.finder/find-sources-in-dir\",\"topology.finder/clojurescript-file?\",\"topology.edgelist-test/should-produce-weighted-edges-for-multiple-calls\",\"topology.dependencies/ns->fn-dep-map\",\"topology.printer/print-weighted-edges\",\"clojure.core/println\",\"topology.symbols/seq-map-zip\",\"topology.edgelist/interleave-keys\",\"topology.dependencies/interns\",\"topology.dependencies/sources\",\"clojure.repl/source-fn\",\"topology.edgelist-test/should-report-java-interop\",\"topology.qualifier/filter-fully-qualified\",\"leiningen.core.eval/eval-in-project\",\"topology.qualifier/all-fq\",\"topology.finder/source-paths->namespaces\",\"topology.finder/dirs->sources\",\"clojure.tools.namespace.file/read-file-ns-decl\",\"topology.symbols/symbols\",\"topology.edgelist-test/edges\",\"topology.edgelist/dirs->fn-edges\",\"topology.symbols/zip-nodes\",\"topology.qualifier/fq-ns\",\"clojure.zip/next\",\"clojure.core/*err*\",\"topology.edgelist/ns->edgelist\",\"clojure.tools.namespace.file/clojure-file?\",\"clojure.java.io/file\",\"clojure.zip/end?\",\"clojure.zip/node\",\"clojure.zip/zipper\",\"topology.dependencies/dependencies\",\"topology.edgelist-test/syntax-quotes-add-seq-concat-list\",\"topology.dependencies-test/should-compute-fn-calls-in-namespace\",\"leiningen.topology/topology\",\"topology.finder/find-sources-in-dir\",\"topology.finder/clojurescript-file?\",\"topology.edgelist-test/should-produce-weighted-edges-for-multiple-calls\",\"topology.dependencies/ns->fn-dep-map\",\"topology.printer/print-weighted-edges\",\"clojure.core/println\",\"topology.symbols/seq-map-zip\",\"topology.edgelist/interleave-keys\",\"topology.dependencies/interns\",\"topology.dependencies/sources\",\"clojure.repl/source-fn\",\"topology.edgelist-test/should-report-java-interop\",\"topology.qualifier/filter-fully-qualified\",\"leiningen.core.eval/eval-in-project\",\"topology.qualifier/all-fq\",\"topology.finder/source-paths->namespaces\",\"topology.finder/dirs->sources\",\"clojure.tools.namespace.file/read-file-ns-decl\",\"topology.symbols/symbols\",\"topology.edgelist-test/edges\",\"topology.edgelist/dirs->fn-edges\",\"topology.symbols/zip-nodes\",\"topology.qualifier/fq-ns\",\"clojure.zip/next\",\"clojure.core/*err*\",\"topology.edgelist/ns->edgelist\",\"clojure.tools.namespace.file/clojure-file?\",\"clojure.java.io/file\",\"clojure.zip/end?\",\"clojure.zip/node\",\"clojure.zip/zipper\",\"topology.dependencies/dependencies\",\"topology.edgelist-test/syntax-quotes-add-seq-concat-list\",\"topology.dependencies-test/should-compute-fn-calls-in-namespace\",\"leiningen.topology/topology\",\"topology.finder/find-sources-in-dir\",\"topology.finder/clojurescript-file?\",\"topology.edgelist-test/should-produce-weighted-edges-for-multiple-calls\",\"topology.dependencies/ns->fn-dep-map\",\"topology.printer/print-weighted-edges\",\"clojure.core/println\",\"topology.symbols/seq-map-zip\",\"topology.edgelist/interleave-keys\",\"topology.dependencies/interns\",\"topology.dependencies/sources\",\"clojure.repl/source-fn\",\"topology.edgelist-test/should-report-java-interop\",\"topology.qualifier/filter-fully-qualified\",\"leiningen.core.eval/eval-in-project\",\"topology.qualifier/all-fq\",\"topology.finder/source-paths->namespaces\",\"topology.finder/dirs->sources\",\"clojure.tools.namespace.file/read-file-ns-decl\",\"topology.symbols/symbols\",\"topology.edgelist-test/edges\",\"topology.edgelist/dirs->fn-edges\",\"topology.symbols/zip-nodes\",\"topology.qualifier/fq-ns\",\"clojure.zip/next\",\"clojure.core/*err*\",\"topology.edgelist/ns->edgelist\",\"clojure.tools.namespace.file/clojure-file?\",\"clojure.java.io/file\",\"clojure.zip/end?\",\"clojure.zip/node\",\"clojure.zip/zipper\",\"topology.dependencies/dependencies\",\"topology.edgelist-test/syntax-quotes-add-seq-concat-list\",\"topology.dependencies-test/should-compute-fn-calls-in-namespace\",\"leiningen.topology/topology\",\"topology.finder/find-sources-in-dir\",\"topology.finder/clojurescript-file?\",\"topology.edgelist-test/should-produce-weighted-edges-for-multiple-calls\",\"topology.dependencies/ns->fn-dep-map\",\"topology.printer/print-weighted-edges\",\"clojure.core/println\",\"topology.symbols/seq-map-zip\",\"topology.edgelist/interleave-keys\",\"topology.dependencies/interns\",\"topology.dependencies/sources\",\"clojure.repl/source-fn\",\"topology.edgelist-test/should-report-java-interop\",\"topology.qualifier/filter-fully-qualified\",\"leiningen.core.eval/eval-in-project\",\"topology.qualifier/all-fq\",\"topology.finder/source-paths->namespaces\",\"topology.finder/dirs->sources\",\"clojure.tools.namespace.file/read-file-ns-decl\",\"topology.symbols/symbols\",\"topology.edgelist-test/edges\",\"topology.edgelist/dirs->fn-edges\",\"topology.symbols/zip-nodes\",\"topology.qualifier/fq-ns\",\"clojure.zip/next\",\"clojure.core/*err*\",\"topology.edgelist/ns->edgelist\",\"clojure.tools.namespace.file/clojure-file?\",\"clojure.java.io/file\",\"clojure.zip/end?\",\"clojure.zip/node\",\"clojure.zip/zipper\",\"topology.dependencies/dependencies\",\"topology.edgelist-test/syntax-quotes-add-seq-concat-list\",\"topology.dependencies-test/should-compute-fn-calls-in-namespace\",\"leiningen.topology/topology\",\"topology.finder/find-sources-in-dir\",\"topology.finder/clojurescript-file?\",\"topology.edgelist-test/should-produce-weighted-edges-for-multiple-calls\",\"topology.dependencies/ns->fn-dep-map\",\"topology.printer/print-weighted-edges\",\"clojure.core/println\",\"topology.symbols/seq-map-zip\",\"topology.edgelist/interleave-keys\",\"topology.dependencies/interns\",\"topology.dependencies/sources\",\"clojure.repl/source-fn\",\"topology.edgelist-test/should-report-java-interop\",\"topology.qualifier/filter-fully-qualified\",\"leiningen.core.eval/eval-in-project\",\"topology.qualifier/all-fq\",\"topology.finder/source-paths->namespaces\",\"topology.finder/dirs->sources\",\"clojure.tools.namespace.file/read-file-ns-decl\",\"topology.symbols/symbols\",\"topology.edgelist-test/edges\",\"topology.edgelist/dirs->fn-edges\",\"topology.symbols/zip-nodes\",\"topology.qualifier/fq-ns\",\"clojure.zip/next\",\"clojure.core/*err*\",\"topology.edgelist/ns->edgelist\",\"clojure.tools.namespace.file/clojure-file?\",\"clojure.java.io/file\",\"clojure.zip/end?\",\"clojure.zip/node\",\"clojure.zip/zipper\",\"topology.dependencies/dependencies\",\"topology.edgelist-test/syntax-quotes-add-seq-concat-list\",\"topology.dependencies-test/should-compute-fn-calls-in-namespace\",\"leiningen.topology/topology\",\"topology.finder/find-sources-in-dir\",\"topology.finder/clojurescript-file?\",\"topology.edgelist-test/should-produce-weighted-edges-for-multiple-calls\",\"topology.dependencies/ns->fn-dep-map\",\"topology.printer/print-weighted-edges\",\"clojure.core/println\",\"topology.symbols/seq-map-zip\",\"topology.edgelist/interleave-keys\",\"topology.dependencies/interns\",\"topology.dependencies/sources\",\"clojure.repl/source-fn\",\"topology.edgelist-test/should-report-java-interop\",\"topology.qualifier/filter-fully-qualified\",\"leiningen.core.eval/eval-in-project\",\"topology.qualifier/all-fq\",\"topology.finder/source-paths->namespaces\",\"topology.finder/dirs->sources\",\"clojure.tools.namespace.file/read-file-ns-decl\",\"topology.symbols/symbols\",\"topology.edgelist-test/edges\",\"topology.edgelist/dirs->fn-edges\",\"topology.symbols/zip-nodes\",\"topology.qualifier/fq-ns\",\"clojure.zip/next\",\"clojure.core/*err*\",\"topology.edgelist/ns->edgelist\",\"clojure.tools.namespace.file/clojure-file?\",\"clojure.java.io/file\",\"clojure.zip/end?\",\"clojure.zip/node\",\"clojure.zip/zipper\",\"topology.dependencies/dependencies\",\"topology.edgelist-test/syntax-quotes-add-seq-concat-list\",\"topology.dependencies-test/should-compute-fn-calls-in-namespace\",\"leiningen.topology/topology\",\"topology.finder/find-sources-in-dir\",\"topology.finder/clojurescript-file?\",\"topology.edgelist-test/should-produce-weighted-edges-for-multiple-calls\",\"topology.dependencies/ns->fn-dep-map\",\"topology.printer/print-weighted-edges\",\"clojure.core/println\",\"topology.symbols/seq-map-zip\",\"topology.edgelist/interleave-keys\",\"topology.dependencies/interns\",\"topology.dependencies/sources\",\"clojure.repl/source-fn\",\"topology.edgelist-test/should-report-java-interop\",\"topology.qualifier/filter-fully-qualified\",\"leiningen.core.eval/eval-in-project\",\"topology.qualifier/all-fq\",\"topology.finder/source-paths->namespaces\",\"topology.finder/dirs->sources\",\"clojure.tools.namespace.file/read-file-ns-decl\",\"topology.symbols/symbols\",\"topology.edgelist-test/edges\",\"topology.edgelist/dirs->fn-edges\",\"topology.symbols/zip-nodes\",\"topology.qualifier/fq-ns\",\"clojure.zip/next\",\"clojure.core/*err*\",\"topology.edgelist/ns->edgelist\",\"clojure.tools.namespace.file/clojure-file?\",\"clojure.java.io/file\",\"clojure.zip/end?\",\"clojure.zip/node\",\"clojure.zip/zipper\",\"topology.dependencies/dependencies\",\"topology.edgelist-test/syntax-quotes-add-seq-concat-list\",\"topology.dependencies-test/should-compute-fn-calls-in-namespace\",\"leiningen.topology/topology\",\"topology.finder/find-sources-in-dir\",\"topology.finder/clojurescript-file?\",\"topology.edgelist-test/should-produce-weighted-edges-for-multiple-calls\",\"topology.dependencies/ns->fn-dep-map\",\"topology.printer/print-weighted-edges\",\"clojure.core/println\",\"topology.symbols/seq-map-zip\",\"topology.edgelist/interleave-keys\",\"topology.dependencies/interns\",\"topology.dependencies/sources\",\"clojure.repl/source-fn\",\"topology.edgelist-test/should-report-java-interop\",\"topology.qualifier/filter-fully-qualified\",\"leiningen.core.eval/eval-in-project\",\"topology.qualifier/all-fq\",\"topology.finder/source-paths->namespaces\",\"topology.finder/dirs->sources\",\"clojure.tools.namespace.file/read-file-ns-decl\",\"topology.symbols/symbols\",\"topology.edgelist-test/edges\",\"topology.edgelist/dirs->fn-edges\",\"topology.symbols/zip-nodes\",\"topology.qualifier/fq-ns\",\"clojure.zip/next\",\"clojure.core/*err*\",\"topology.edgelist/ns->edgelist\",\"clojure.tools.namespace.file/clojure-file?\",\"clojure.java.io/file\",\"clojure.zip/end?\",\"clojure.zip/node\",\"clojure.zip/zipper\",\"topology.dependencies/dependencies\",\"topology.edgelist-test/syntax-quotes-add-seq-concat-list\",\"topology.dependencies-test/should-compute-fn-calls-in-namespace\",\"leiningen.topology/topology\",\"topology.finder/find-sources-in-dir\",\"topology.finder/clojurescript-file?\",\"topology.edgelist-test/should-produce-weighted-edges-for-multiple-calls\",\"topology.dependencies/ns->fn-dep-map\",\"topology.printer/print-weighted-edges\",\"clojure.core/println\",\"topology.symbols/seq-map-zip\",\"topology.edgelist/interleave-keys\",\"topology.dependencies/interns\",\"topology.dependencies/sources\",\"clojure.repl/source-fn\",\"topology.edgelist-test/should-report-java-interop\",\"topology.qualifier/filter-fully-qualified\",\"leiningen.core.eval/eval-in-project\",\"topology.qualifier/all-fq\",\"topology.finder/source-paths->namespaces\",\"topology.finder/dirs->sources\",\"clojure.tools.namespace.file/read-file-ns-decl\",\"topology.symbols/symbols\",\"topology.edgelist-test/edges\",\"topology.edgelist/dirs->fn-edges\",\"topology.symbols/zip-nodes\",\"topology.qualifier/fq-ns\",\"clojure.zip/next\",\"clojure.core/*err*\",\"topology.edgelist/ns->edgelist\",\"clojure.tools.namespace.file/clojure-file?\",\"clojure.java.io/file\",\"clojure.zip/end?\",\"clojure.zip/node\",\"clojure.zip/zipper\",\"topology.dependencies/dependencies\",\"topology.edgelist-test/syntax-quotes-add-seq-concat-list\",\"topology.dependencies-test/should-compute-fn-calls-in-namespace\",\"leiningen.topology/topology\",\"topology.finder/find-sources-in-dir\",\"topology.finder/clojurescript-file?\",\"topology.edgelist-test/should-produce-weighted-edges-for-multiple-calls\",\"topology.dependencies/ns->fn-dep-map\",\"topology.printer/print-weighted-edges\",\"clojure.core/println\",\"topology.symbols/seq-map-zip\",\"topology.edgelist/interleave-keys\",\"topology.dependencies/interns\",\"topology.dependencies/sources\",\"clojure.repl/source-fn\",\"topology.edgelist-test/should-report-java-interop\",\"topology.qualifier/filter-fully-qualified\",\"leiningen.core.eval/eval-in-project\",\"topology.qualifier/all-fq\",\"topology.finder/source-paths->namespaces\",\"topology.finder/dirs->sources\",\"clojure.tools.namespace.file/read-file-ns-decl\",\"topology.symbols/symbols\",\"topology.edgelist-test/edges\",\"topology.edgelist/dirs->fn-edges\",\"topology.symbols/zip-nodes\",\"topology.qualifier/fq-ns\",\"clojure.zip/next\",\"clojure.core/*err*\",\"topology.edgelist/ns->edgelist\",\"clojure.tools.namespace.file/clojure-file?\",\"clojure.java.io/file\",\"clojure.zip/end?\",\"clojure.zip/node\",\"clojure.zip/zipper\",\"topology.dependencies/dependencies\",\"topology.edgelist-test/syntax-quotes-add-seq-concat-list\",\"topology.dependencies-test/should-compute-fn-calls-in-namespace\",\"leiningen.topology/topology\",\"topology.finder/find-sources-in-dir\",\"topology.finder/clojurescript-file?\",\"topology.edgelist-test/should-produce-weighted-edges-for-multiple-calls\",\"topology.dependencies/ns->fn-dep-map\",\"topology.printer/print-weighted-edges\",\"clojure.core/println\",\"topology.symbols/seq-map-zip\",\"topology.edgelist/interleave-keys\",\"topology.dependencies/interns\",\"topology.dependencies/sources\",\"clojure.repl/source-fn\",\"topology.edgelist-test/should-report-java-interop\",\"topology.qualifier/filter-fully-qualified\",\"leiningen.core.eval/eval-in-project\",\"topology.qualifier/all-fq\",\"topology.finder/source-paths->namespaces\",\"topology.finder/dirs->sources\",\"clojure.tools.namespace.file/read-file-ns-decl\",\"topology.symbols/symbols\",\"topology.edgelist-test/edges\",\"topology.edgelist/dirs->fn-edges\",\"topology.symbols/zip-nodes\",\"topology.qualifier/fq-ns\",\"clojure.zip/next\",\"clojure.core/*err*\",\"topology.edgelist/ns->edgelist\",\"clojure.tools.namespace.file/clojure-file?\",\"clojure.java.io/file\",\"clojure.zip/end?\",\"clojure.zip/node\",\"clojure.zip/zipper\",\"topology.dependencies/dependencies\",\"topology.edgelist-test/syntax-quotes-add-seq-concat-list\",\"topology.dependencies-test/should-compute-fn-calls-in-namespace\",\"leiningen.topology/topology\",\"topology.finder/find-sources-in-dir\",\"topology.finder/clojurescript-file?\",\"topology.edgelist-test/should-produce-weighted-edges-for-multiple-calls\",\"topology.dependencies/ns->fn-dep-map\",\"topology.printer/print-weighted-edges\",\"clojure.core/println\",\"topology.symbols/seq-map-zip\",\"topology.edgelist/interleave-keys\",\"topology.dependencies/interns\",\"topology.dependencies/sources\",\"clojure.repl/source-fn\",\"topology.edgelist-test/should-report-java-interop\",\"topology.qualifier/filter-fully-qualified\",\"leiningen.core.eval/eval-in-project\",\"topology.qualifier/all-fq\",\"topology.finder/source-paths->namespaces\",\"topology.finder/dirs->sources\",\"clojure.tools.namespace.file/read-file-ns-decl\",\"topology.symbols/symbols\",\"topology.edgelist-test/edges\",\"topology.edgelist/dirs->fn-edges\",\"topology.symbols/zip-nodes\",\"topology.qualifier/fq-ns\",\"clojure.zip/next\",\"clojure.core/*err*\",\"topology.edgelist/ns->edgelist\",\"clojure.tools.namespace.file/clojure-file?\",\"clojure.java.io/file\",\"clojure.zip/end?\",\"clojure.zip/node\",\"clojure.zip/zipper\",\"topology.dependencies/dependencies\",\"topology.edgelist-test/syntax-quotes-add-seq-concat-list\",\"topology.dependencies-test/should-compute-fn-calls-in-namespace\",\"leiningen.topology/topology\",\"topology.finder/find-sources-in-dir\",\"topology.finder/clojurescript-file?\",\"topology.edgelist-test/should-produce-weighted-edges-for-multiple-calls\",\"topology.dependencies/ns->fn-dep-map\",\"topology.printer/print-weighted-edges\",\"clojure.core/println\",\"topology.symbols/seq-map-zip\",\"topology.edgelist/interleave-keys\",\"topology.dependencies/interns\",\"topology.dependencies/sources\",\"clojure.repl/source-fn\",\"topology.edgelist-test/should-report-java-interop\",\"topology.qualifier/filter-fully-qualified\",\"leiningen.core.eval/eval-in-project\",\"topology.qualifier/all-fq\",\"topology.finder/source-paths->namespaces\",\"topology.finder/dirs->sources\",\"clojure.tools.namespace.file/read-file-ns-decl\",\"topology.symbols/symbols\",\"topology.edgelist-test/edges\",\"topology.edgelist/dirs->fn-edges\",\"topology.symbols/zip-nodes\",\"topology.qualifier/fq-ns\",\"clojure.zip/next\",\"clojure.core/*err*\",\"topology.edgelist/ns->edgelist\",\"clojure.tools.namespace.file/clojure-file?\",\"clojure.java.io/file\",\"clojure.zip/end?\",\"clojure.zip/node\",\"clojure.zip/zipper\",\"topology.dependencies/dependencies\",\"topology.edgelist-test/syntax-quotes-add-seq-concat-list\",\"topology.dependencies-test/should-compute-fn-calls-in-namespace\",\"leiningen.topology/topology\",\"topology.finder/find-sources-in-dir\",\"topology.finder/clojurescript-file?\",\"topology.edgelist-test/should-produce-weighted-edges-for-multiple-calls\",\"topology.dependencies/ns->fn-dep-map\",\"topology.printer/print-weighted-edges\",\"clojure.core/println\",\"topology.symbols/seq-map-zip\",\"topology.edgelist/interleave-keys\",\"topology.dependencies/interns\",\"topology.dependencies/sources\",\"clojure.repl/source-fn\",\"topology.edgelist-test/should-report-java-interop\",\"topology.qualifier/filter-fully-qualified\",\"leiningen.core.eval/eval-in-project\",\"topology.qualifier/all-fq\",\"topology.finder/source-paths->namespaces\",\"topology.finder/dirs->sources\",\"clojure.tools.namespace.file/read-file-ns-decl\",\"topology.symbols/symbols\",\"topology.edgelist-test/edges\",\"topology.edgelist/dirs->fn-edges\",\"topology.symbols/zip-nodes\",\"topology.qualifier/fq-ns\",\"clojure.zip/next\",\"clojure.core/*err*\",\"topology.edgelist/ns->edgelist\",\"clojure.tools.namespace.file/clojure-file?\",\"clojure.java.io/file\",\"clojure.zip/end?\",\"clojure.zip/node\",\"clojure.zip/zipper\",\"topology.dependencies/dependencies\",\"topology.edgelist-test/syntax-quotes-add-seq-concat-list\",\"topology.dependencies-test/should-compute-fn-calls-in-namespace\",\"leiningen.topology/topology\",\"topology.finder/find-sources-in-dir\",\"topology.finder/clojurescript-file?\",\"topology.edgelist-test/should-produce-weighted-edges-for-multiple-calls\",\"topology.dependencies/ns->fn-dep-map\",\"topology.printer/print-weighted-edges\",\"clojure.core/println\",\"topology.symbols/seq-map-zip\",\"topology.edgelist/interleave-keys\",\"topology.dependencies/interns\",\"topology.dependencies/sources\",\"clojure.repl/source-fn\",\"topology.edgelist-test/should-report-java-interop\",\"topology.qualifier/filter-fully-qualified\",\"leiningen.core.eval/eval-in-project\",\"topology.qualifier/all-fq\",\"topology.finder/source-paths->namespaces\",\"topology.finder/dirs->sources\",\"clojure.tools.namespace.file/read-file-ns-decl\",\"topology.symbols/symbols\",\"topology.edgelist-test/edges\",\"topology.edgelist/dirs->fn-edges\",\"topology.symbols/zip-nodes\",\"topology.qualifier/fq-ns\",\"clojure.zip/next\",\"clojure.core/*err*\",\"topology.edgelist/ns->edgelist\",\"clojure.tools.namespace.file/clojure-file?\",\"clojure.java.io/file\",\"clojure.zip/end?\",\"clojure.zip/node\",\"clojure.zip/zipper\",\"topology.dependencies/dependencies\",\"topology.edgelist-test/syntax-quotes-add-seq-concat-list\",\"topology.dependencies-test/should-compute-fn-calls-in-namespace\",\"leiningen.topology/topology\",\"topology.finder/find-sources-in-dir\",\"topology.finder/clojurescript-file?\",\"topology.edgelist-test/should-produce-weighted-edges-for-multiple-calls\",\"topology.dependencies/ns->fn-dep-map\",\"topology.printer/print-weighted-edges\",\"clojure.core/println\",\"topology.symbols/seq-map-zip\",\"topology.edgelist/interleave-keys\",\"topology.dependencies/interns\",\"topology.dependencies/sources\",\"clojure.repl/source-fn\",\"topology.edgelist-test/should-report-java-interop\",\"topology.qualifier/filter-fully-qualified\",\"leiningen.core.eval/eval-in-project\",\"topology.qualifier/all-fq\",\"topology.finder/source-paths->namespaces\",\"topology.finder/dirs->sources\",\"clojure.tools.namespace.file/read-file-ns-decl\",\"topology.symbols/symbols\",\"topology.edgelist-test/edges\",\"topology.edgelist/dirs->fn-edges\",\"topology.symbols/zip-nodes\",\"topology.qualifier/fq-ns\",\"clojure.zip/next\",\"clojure.core/*err*\",\"topology.edgelist/ns->edgelist\",\"clojure.tools.namespace.file/clojure-file?\",\"clojure.java.io/file\",\"clojure.zip/end?\",\"clojure.zip/node\",\"clojure.zip/zipper\",\"topology.dependencies/dependencies\",\"topology.edgelist-test/syntax-quotes-add-seq-concat-list\",\"topology.dependencies-test/should-compute-fn-calls-in-namespace\",\"leiningen.topology/topology\",\"topology.finder/find-sources-in-dir\",\"topology.finder/clojurescript-file?\",\"topology.edgelist-test/should-produce-weighted-edges-for-multiple-calls\",\"topology.dependencies/ns->fn-dep-map\",\"topology.printer/print-weighted-edges\",\"clojure.core/println\",\"topology.symbols/seq-map-zip\",\"topology.edgelist/interleave-keys\",\"topology.dependencies/interns\",\"topology.dependencies/sources\",\"clojure.repl/source-fn\",\"topology.edgelist-test/should-report-java-interop\",\"topology.qualifier/filter-fully-qualified\",\"leiningen.core.eval/eval-in-project\",\"topology.qualifier/all-fq\",\"topology.finder/source-paths->namespaces\",\"topology.finder/dirs->sources\",\"clojure.tools.namespace.file/read-file-ns-decl\",\"topology.symbols/symbols\",\"topology.edgelist-test/edges\",\"topology.edgelist/dirs->fn-edges\",\"topology.symbols/zip-nodes\",\"topology.qualifier/fq-ns\",\"clojure.zip/next\",\"clojure.core/*err*\",\"topology.edgelist/ns->edgelist\",\"clojure.tools.namespace.file/clojure-file?\",\"clojure.java.io/file\",\"clojure.zip/end?\",\"clojure.zip/node\",\"clojure.zip/zipper\"]}},\"id\":\"4f8a7bb7-2a04-4643-b6d1-a5f7909baa8a\",\"type\":\"ColumnDataSource\"},{\"attributes\":{\"fill_alpha\":{\"field\":\"alphas\"},\"fill_color\":{\"field\":\"colors\"},\"height\":{\"units\":\"data\",\"value\":0.9},\"line_alpha\":{\"field\":\"alphas\"},\"line_color\":{\"value\":null},\"width\":{\"units\":\"data\",\"value\":0.9},\"x\":{\"field\":\"xname\"},\"y\":{\"field\":\"yname\"}},\"id\":\"b3fe22a0-8e6d-4a50-950b-a3c64e95f374\",\"type\":\"Rect\"},{\"attributes\":{\"active_drag\":\"auto\",\"active_inspect\":\"auto\",\"active_scroll\":\"auto\",\"active_tap\":\"auto\",\"tools\":[{\"id\":\"f056cf2b-65cc-4a2c-ab13-5e3a1a2a668e\",\"type\":\"HoverTool\"},{\"id\":\"c38f80af-4857-478f-a114-4a2c77e1e7ca\",\"type\":\"SaveTool\"}]},\"id\":\"070c578f-d921-4967-9e28-e8fcb9e395c9\",\"type\":\"Toolbar\"},{\"attributes\":{},\"id\":\"1de47314-17b0-4619-a3db-32ddb235505e\",\"type\":\"CategoricalScale\"},{\"attributes\":{\"callback\":null,\"factors\":[\"topology.edgelist-test/syntax-quotes-add-seq-concat-list\",\"topology.dependencies-test/should-compute-fn-calls-in-namespace\",\"leiningen.topology/topology\",\"topology.edgelist-test/should-produce-weighted-edges-for-multiple-calls\",\"topology.edgelist-test/should-report-java-interop\",\"topology.dependencies/dependencies\",\"topology.finder/find-sources-in-dir\",\"topology.finder/clojurescript-file?\",\"topology.printer/print-weighted-edges\",\"clojure.core/println\",\"topology.symbols/seq-map-zip\",\"topology.edgelist/interleave-keys\",\"topology.dependencies/interns\",\"topology.dependencies/sources\",\"clojure.repl/source-fn\",\"topology.qualifier/filter-fully-qualified\",\"leiningen.core.eval/eval-in-project\",\"topology.qualifier/all-fq\",\"topology.finder/source-paths->namespaces\",\"topology.finder/dirs->sources\",\"clojure.tools.namespace.file/read-file-ns-decl\",\"topology.symbols/symbols\",\"topology.symbols/zip-nodes\",\"topology.qualifier/fq-ns\",\"clojure.zip/next\",\"topology.edgelist/ns->edgelist\",\"clojure.tools.namespace.file/clojure-file?\",\"clojure.java.io/file\",\"clojure.zip/end?\",\"clojure.zip/node\",\"clojure.zip/zipper\",\"topology.dependencies/ns->fn-dep-map\",\"topology.edgelist/dirs->fn-edges\",\"clojure.core/*err*\",\"topology.edgelist-test/edges\"]},\"id\":\"c02707ad-1105-474d-83e3-3d02b50d6aaa\",\"type\":\"FactorRange\"},{\"attributes\":{},\"id\":\"4cb013eb-3221-4e49-b209-3c482f412d21\",\"type\":\"CategoricalScale\"},{\"attributes\":{\"axis_line_color\":{\"value\":null},\"formatter\":{\"id\":\"c6b900d7-5f13-412e-a3b3-23d131e5ef9d\",\"type\":\"CategoricalTickFormatter\"},\"major_label_standoff\":0,\"major_label_text_font_size\":{\"value\":\"6pt\"},\"major_tick_line_color\":{\"value\":null},\"plot\":{\"id\":\"eea5e90a-af3e-462e-8382-a8bd4df740ac\",\"subtype\":\"Figure\",\"type\":\"Plot\"},\"ticker\":{\"id\":\"5f8d17ac-00c9-4b8b-abdb-a727297928ec\",\"type\":\"CategoricalTicker\"}},\"id\":\"d383fc1f-1f6d-42bd-8e54-da0eb8538dbd\",\"type\":\"CategoricalAxis\"},{\"attributes\":{\"axis_line_color\":{\"value\":null},\"formatter\":{\"id\":\"488d65a2-70ee-4349-961d-41a5a47dd2f7\",\"type\":\"CategoricalTickFormatter\"},\"major_label_orientation\":1.0471975511965976,\"major_label_standoff\":0,\"major_label_text_font_size\":{\"value\":\"6pt\"},\"major_tick_line_color\":{\"value\":null},\"plot\":{\"id\":\"eea5e90a-af3e-462e-8382-a8bd4df740ac\",\"subtype\":\"Figure\",\"type\":\"Plot\"},\"ticker\":{\"id\":\"d5def4e6-71da-491d-9d5f-b518c4c410a7\",\"type\":\"CategoricalTicker\"}},\"id\":\"7d814aad-72fa-4a94-8c08-17d2180fcfa0\",\"type\":\"CategoricalAxis\"},{\"attributes\":{},\"id\":\"d5def4e6-71da-491d-9d5f-b518c4c410a7\",\"type\":\"CategoricalTicker\"},{\"attributes\":{\"grid_line_color\":{\"value\":null},\"plot\":{\"id\":\"eea5e90a-af3e-462e-8382-a8bd4df740ac\",\"subtype\":\"Figure\",\"type\":\"Plot\"},\"ticker\":{\"id\":\"d5def4e6-71da-491d-9d5f-b518c4c410a7\",\"type\":\"CategoricalTicker\"}},\"id\":\"882c08b1-dc67-4575-980b-8090b8bc5313\",\"type\":\"Grid\"},{\"attributes\":{\"dimension\":1,\"grid_line_color\":{\"value\":null},\"plot\":{\"id\":\"eea5e90a-af3e-462e-8382-a8bd4df740ac\",\"subtype\":\"Figure\",\"type\":\"Plot\"},\"ticker\":{\"id\":\"5f8d17ac-00c9-4b8b-abdb-a727297928ec\",\"type\":\"CategoricalTicker\"}},\"id\":\"99ff3419-0056-4059-9cb0-9b9fa0829718\",\"type\":\"Grid\"},{\"attributes\":{\"callback\":null,\"factors\":[\"topology.edgelist-test/edges\",\"clojure.core/*err*\",\"topology.edgelist/dirs->fn-edges\",\"topology.dependencies/ns->fn-dep-map\",\"clojure.zip/zipper\",\"clojure.zip/node\",\"clojure.zip/end?\",\"clojure.java.io/file\",\"clojure.tools.namespace.file/clojure-file?\",\"topology.edgelist/ns->edgelist\",\"clojure.zip/next\",\"topology.qualifier/fq-ns\",\"topology.symbols/zip-nodes\",\"topology.symbols/symbols\",\"clojure.tools.namespace.file/read-file-ns-decl\",\"topology.finder/dirs->sources\",\"topology.finder/source-paths->namespaces\",\"topology.qualifier/all-fq\",\"leiningen.core.eval/eval-in-project\",\"topology.qualifier/filter-fully-qualified\",\"clojure.repl/source-fn\",\"topology.dependencies/sources\",\"topology.dependencies/interns\",\"topology.edgelist/interleave-keys\",\"topology.symbols/seq-map-zip\",\"clojure.core/println\",\"topology.printer/print-weighted-edges\",\"topology.finder/clojurescript-file?\",\"topology.finder/find-sources-in-dir\",\"topology.dependencies/dependencies\",\"topology.edgelist-test/should-report-java-interop\",\"topology.edgelist-test/should-produce-weighted-edges-for-multiple-calls\",\"leiningen.topology/topology\",\"topology.dependencies-test/should-compute-fn-calls-in-namespace\",\"topology.edgelist-test/syntax-quotes-add-seq-concat-list\"]},\"id\":\"bc0735b0-56ba-4c88-9409-f6cbb0167708\",\"type\":\"FactorRange\"},{\"attributes\":{},\"id\":\"5f8d17ac-00c9-4b8b-abdb-a727297928ec\",\"type\":\"CategoricalTicker\"}],\"root_ids\":[\"eea5e90a-af3e-462e-8382-a8bd4df740ac\"]},\"title\":\"Bokeh Application\",\"version\":\"0.12.6\"}};\n",
       "            var render_items = [{\"docid\":\"3c195f51-9043-4ff3-95c8-3bd83cd73513\",\"elementid\":\"1846d4e3-dc2e-49d7-9a44-8614299fb736\",\"modelid\":\"eea5e90a-af3e-462e-8382-a8bd4df740ac\"}];\n",
       "            \n",
       "            Bokeh.embed.embed_items(docs_json, render_items);\n",
       "          };\n",
       "          if (document.readyState != \"loading\") fn();\n",
       "          else document.addEventListener(\"DOMContentLoaded\", fn);\n",
       "        })();\n",
       "      },\n",
       "      function(Bokeh) {\n",
       "      }\n",
       "    ];\n",
       "  \n",
       "    function run_inline_js() {\n",
       "      \n",
       "      if ((window.Bokeh !== undefined) || (force === true)) {\n",
       "        for (var i = 0; i < inline_js.length; i++) {\n",
       "          inline_js[i](window.Bokeh);\n",
       "        }if (force === true) {\n",
       "          display_loaded();\n",
       "        }} else if (Date.now() < window._bokeh_timeout) {\n",
       "        setTimeout(run_inline_js, 100);\n",
       "      } else if (!window._bokeh_failed_load) {\n",
       "        console.log(\"Bokeh: BokehJS failed to load within specified timeout.\");\n",
       "        window._bokeh_failed_load = true;\n",
       "      } else if (force !== true) {\n",
       "        var cell = $(document.getElementById(\"1846d4e3-dc2e-49d7-9a44-8614299fb736\")).parents('.cell').data().cell;\n",
       "        cell.output_area.append_execute_result(NB_LOAD_WARNING)\n",
       "      }\n",
       "  \n",
       "    }\n",
       "  \n",
       "    if (window._bokeh_is_loading === 0) {\n",
       "      console.log(\"Bokeh: BokehJS loaded, going straight to plotting\");\n",
       "      run_inline_js();\n",
       "    } else {\n",
       "      load_libs(js_urls, function() {\n",
       "        console.log(\"Bokeh: BokehJS plotting callback run at\", now());\n",
       "        run_inline_js();\n",
       "      });\n",
       "    }\n",
       "  }(this));\n",
       "</script>"
      ]
     },
     "metadata": {},
     "output_type": "display_data"
    }
   ],
   "source": [
    "p = matrix(lg, 'indegree', \"{}-{} by indegree\".format(network_collection, network_name), 900, palette)\n",
    "show(p)"
   ]
  },
  {
   "cell_type": "code",
   "execution_count": 56,
   "metadata": {
    "collapsed": false,
    "deletable": true,
    "editable": true
   },
   "outputs": [
    {
     "data": {
      "text/html": [
       "\n",
       "\n",
       "    <div class=\"bk-root\">\n",
       "        <div class=\"bk-plotdiv\" id=\"03556f0c-377e-457d-a544-4291e237364d\"></div>\n",
       "    </div>\n",
       "<script type=\"text/javascript\">\n",
       "  \n",
       "  (function(global) {\n",
       "    function now() {\n",
       "      return new Date();\n",
       "    }\n",
       "  \n",
       "    var force = false;\n",
       "  \n",
       "    if (typeof (window._bokeh_onload_callbacks) === \"undefined\" || force === true) {\n",
       "      window._bokeh_onload_callbacks = [];\n",
       "      window._bokeh_is_loading = undefined;\n",
       "    }\n",
       "  \n",
       "  \n",
       "    \n",
       "    if (typeof (window._bokeh_timeout) === \"undefined\" || force === true) {\n",
       "      window._bokeh_timeout = Date.now() + 0;\n",
       "      window._bokeh_failed_load = false;\n",
       "    }\n",
       "  \n",
       "    var NB_LOAD_WARNING = {'data': {'text/html':\n",
       "       \"<div style='background-color: #fdd'>\\n\"+\n",
       "       \"<p>\\n\"+\n",
       "       \"BokehJS does not appear to have successfully loaded. If loading BokehJS from CDN, this \\n\"+\n",
       "       \"may be due to a slow or bad network connection. Possible fixes:\\n\"+\n",
       "       \"</p>\\n\"+\n",
       "       \"<ul>\\n\"+\n",
       "       \"<li>re-rerun `output_notebook()` to attempt to load from CDN again, or</li>\\n\"+\n",
       "       \"<li>use INLINE resources instead, as so:</li>\\n\"+\n",
       "       \"</ul>\\n\"+\n",
       "       \"<code>\\n\"+\n",
       "       \"from bokeh.resources import INLINE\\n\"+\n",
       "       \"output_notebook(resources=INLINE)\\n\"+\n",
       "       \"</code>\\n\"+\n",
       "       \"</div>\"}};\n",
       "  \n",
       "    function display_loaded() {\n",
       "      if (window.Bokeh !== undefined) {\n",
       "        var el = document.getElementById(\"03556f0c-377e-457d-a544-4291e237364d\");\n",
       "        el.textContent = \"BokehJS \" + Bokeh.version + \" successfully loaded.\";\n",
       "      } else if (Date.now() < window._bokeh_timeout) {\n",
       "        setTimeout(display_loaded, 100)\n",
       "      }\n",
       "    }\n",
       "  \n",
       "    function run_callbacks() {\n",
       "      try {\n",
       "        window._bokeh_onload_callbacks.forEach(function(callback) { callback() });\n",
       "      }\n",
       "      finally {\n",
       "        delete window._bokeh_onload_callbacks\n",
       "      }\n",
       "      console.info(\"Bokeh: all callbacks have finished\");\n",
       "    }\n",
       "  \n",
       "    function load_libs(js_urls, callback) {\n",
       "      window._bokeh_onload_callbacks.push(callback);\n",
       "      if (window._bokeh_is_loading > 0) {\n",
       "        console.log(\"Bokeh: BokehJS is being loaded, scheduling callback at\", now());\n",
       "        return null;\n",
       "      }\n",
       "      if (js_urls == null || js_urls.length === 0) {\n",
       "        run_callbacks();\n",
       "        return null;\n",
       "      }\n",
       "      console.log(\"Bokeh: BokehJS not loaded, scheduling load and callback at\", now());\n",
       "      window._bokeh_is_loading = js_urls.length;\n",
       "      for (var i = 0; i < js_urls.length; i++) {\n",
       "        var url = js_urls[i];\n",
       "        var s = document.createElement('script');\n",
       "        s.src = url;\n",
       "        s.async = false;\n",
       "        s.onreadystatechange = s.onload = function() {\n",
       "          window._bokeh_is_loading--;\n",
       "          if (window._bokeh_is_loading === 0) {\n",
       "            console.log(\"Bokeh: all BokehJS libraries loaded\");\n",
       "            run_callbacks()\n",
       "          }\n",
       "        };\n",
       "        s.onerror = function() {\n",
       "          console.warn(\"failed to load library \" + url);\n",
       "        };\n",
       "        console.log(\"Bokeh: injecting script tag for BokehJS library: \", url);\n",
       "        document.getElementsByTagName(\"head\")[0].appendChild(s);\n",
       "      }\n",
       "    };var element = document.getElementById(\"03556f0c-377e-457d-a544-4291e237364d\");\n",
       "    if (element == null) {\n",
       "      console.log(\"Bokeh: ERROR: autoload.js configured with elementid '03556f0c-377e-457d-a544-4291e237364d' but no matching script tag was found. \")\n",
       "      return false;\n",
       "    }\n",
       "  \n",
       "    var js_urls = [];\n",
       "  \n",
       "    var inline_js = [\n",
       "      function(Bokeh) {\n",
       "        (function() {\n",
       "          var fn = function() {\n",
       "            var docs_json = {\"b9900d33-f8cd-4bf4-8817-1aff12369ed4\":{\"roots\":{\"references\":[{\"attributes\":{\"plot\":null,\"text\":\"lein-topology-5b2a6e3 by outdegree\"},\"id\":\"70abe701-bbc0-45be-9f58-c707292976fd\",\"type\":\"Title\"},{\"attributes\":{\"callback\":null,\"factors\":[\"topology.dependencies/ns->fn-dep-map\",\"topology.symbols/zip-nodes\",\"topology.finder/find-sources-in-dir\",\"leiningen.topology/topology\",\"topology.edgelist/ns->edgelist\",\"topology.edgelist/dirs->fn-edges\",\"topology.symbols/symbols\",\"topology.finder/source-paths->namespaces\",\"topology.qualifier/fq-ns\",\"topology.edgelist-test/edges\",\"topology.finder/dirs->sources\",\"topology.qualifier/all-fq\",\"topology.qualifier/filter-fully-qualified\",\"topology.edgelist-test/should-report-java-interop\",\"topology.dependencies/sources\",\"topology.dependencies/interns\",\"topology.symbols/seq-map-zip\",\"topology.printer/print-weighted-edges\",\"topology.edgelist-test/should-produce-weighted-edges-for-multiple-calls\",\"topology.dependencies-test/should-compute-fn-calls-in-namespace\",\"topology.edgelist-test/syntax-quotes-add-seq-concat-list\",\"topology.dependencies/dependencies\",\"clojure.zip/zipper\",\"clojure.zip/node\",\"clojure.zip/end?\",\"clojure.java.io/file\",\"clojure.tools.namespace.file/clojure-file?\",\"clojure.core/*err*\",\"clojure.zip/next\",\"clojure.tools.namespace.file/read-file-ns-decl\",\"leiningen.core.eval/eval-in-project\",\"clojure.repl/source-fn\",\"topology.edgelist/interleave-keys\",\"clojure.core/println\",\"topology.finder/clojurescript-file?\"]},\"id\":\"14c86610-79d6-444e-bb97-817c1e864178\",\"type\":\"FactorRange\"},{\"attributes\":{},\"id\":\"3a2e2f43-a99f-4e29-963c-658845f96bbf\",\"type\":\"ToolEvents\"},{\"attributes\":{\"active_drag\":\"auto\",\"active_inspect\":\"auto\",\"active_scroll\":\"auto\",\"active_tap\":\"auto\",\"tools\":[{\"id\":\"3063b6b4-c6b3-4252-ba6b-dbedd7482ad6\",\"type\":\"HoverTool\"},{\"id\":\"2060ef73-5563-41ad-8598-1c1b610e021c\",\"type\":\"SaveTool\"}]},\"id\":\"0f2531f6-cb98-403e-8545-6e926e6ff147\",\"type\":\"Toolbar\"},{\"attributes\":{\"axis_line_color\":{\"value\":null},\"formatter\":{\"id\":\"03b50781-72bb-47e8-8b11-88ac6625b931\",\"type\":\"CategoricalTickFormatter\"},\"major_label_standoff\":0,\"major_label_text_font_size\":{\"value\":\"6pt\"},\"major_tick_line_color\":{\"value\":null},\"plot\":{\"id\":\"6326ae22-a33e-41ea-a700-bb3f9c52b70b\",\"subtype\":\"Figure\",\"type\":\"Plot\"},\"ticker\":{\"id\":\"8dc558cb-024c-4de3-bcb1-2cb1065d75f4\",\"type\":\"CategoricalTicker\"}},\"id\":\"0a156a3c-328f-4b08-bfa2-5b25cc6b8002\",\"type\":\"CategoricalAxis\"},{\"attributes\":{},\"id\":\"26bcfc77-208d-43c7-8c56-d828bcf19858\",\"type\":\"CategoricalScale\"},{\"attributes\":{\"callback\":null,\"factors\":[\"topology.finder/clojurescript-file?\",\"clojure.core/println\",\"topology.edgelist/interleave-keys\",\"clojure.repl/source-fn\",\"leiningen.core.eval/eval-in-project\",\"clojure.tools.namespace.file/read-file-ns-decl\",\"clojure.zip/next\",\"clojure.core/*err*\",\"clojure.tools.namespace.file/clojure-file?\",\"clojure.java.io/file\",\"clojure.zip/end?\",\"clojure.zip/node\",\"clojure.zip/zipper\",\"topology.dependencies/dependencies\",\"topology.edgelist-test/syntax-quotes-add-seq-concat-list\",\"topology.dependencies-test/should-compute-fn-calls-in-namespace\",\"topology.edgelist-test/should-produce-weighted-edges-for-multiple-calls\",\"topology.printer/print-weighted-edges\",\"topology.symbols/seq-map-zip\",\"topology.dependencies/interns\",\"topology.dependencies/sources\",\"topology.edgelist-test/should-report-java-interop\",\"topology.qualifier/filter-fully-qualified\",\"topology.qualifier/all-fq\",\"topology.finder/dirs->sources\",\"topology.edgelist-test/edges\",\"topology.qualifier/fq-ns\",\"topology.finder/source-paths->namespaces\",\"topology.symbols/symbols\",\"topology.edgelist/dirs->fn-edges\",\"topology.edgelist/ns->edgelist\",\"leiningen.topology/topology\",\"topology.finder/find-sources-in-dir\",\"topology.symbols/zip-nodes\",\"topology.dependencies/ns->fn-dep-map\"]},\"id\":\"8ede9cb1-8eab-462e-b90b-5499d0b7a87a\",\"type\":\"FactorRange\"},{\"attributes\":{},\"id\":\"ab830a7e-277e-46e3-886c-317f3abbff0f\",\"type\":\"CategoricalScale\"},{\"attributes\":{\"grid_line_color\":{\"value\":null},\"plot\":{\"id\":\"6326ae22-a33e-41ea-a700-bb3f9c52b70b\",\"subtype\":\"Figure\",\"type\":\"Plot\"},\"ticker\":{\"id\":\"58700a71-aacb-41f8-a346-4976c1ee4e87\",\"type\":\"CategoricalTicker\"}},\"id\":\"3c64c666-7881-4e68-ae68-75c4a5ef3073\",\"type\":\"Grid\"},{\"attributes\":{\"axis_line_color\":{\"value\":null},\"formatter\":{\"id\":\"4849a06c-2503-40a9-b7e0-91054fe407a2\",\"type\":\"CategoricalTickFormatter\"},\"major_label_orientation\":1.0471975511965976,\"major_label_standoff\":0,\"major_label_text_font_size\":{\"value\":\"6pt\"},\"major_tick_line_color\":{\"value\":null},\"plot\":{\"id\":\"6326ae22-a33e-41ea-a700-bb3f9c52b70b\",\"subtype\":\"Figure\",\"type\":\"Plot\"},\"ticker\":{\"id\":\"58700a71-aacb-41f8-a346-4976c1ee4e87\",\"type\":\"CategoricalTicker\"}},\"id\":\"d6c8fb6d-7a22-4455-ad90-712644bc77a3\",\"type\":\"CategoricalAxis\"},{\"attributes\":{},\"id\":\"58700a71-aacb-41f8-a346-4976c1ee4e87\",\"type\":\"CategoricalTicker\"},{\"attributes\":{},\"id\":\"8dc558cb-024c-4de3-bcb1-2cb1065d75f4\",\"type\":\"CategoricalTicker\"},{\"attributes\":{\"dimension\":1,\"grid_line_color\":{\"value\":null},\"plot\":{\"id\":\"6326ae22-a33e-41ea-a700-bb3f9c52b70b\",\"subtype\":\"Figure\",\"type\":\"Plot\"},\"ticker\":{\"id\":\"8dc558cb-024c-4de3-bcb1-2cb1065d75f4\",\"type\":\"CategoricalTicker\"}},\"id\":\"870b6d42-4983-4de5-92c6-20d24aa68d4c\",\"type\":\"Grid\"},{\"attributes\":{\"fill_color\":{\"field\":\"colors\"},\"height\":{\"units\":\"data\",\"value\":0.9},\"width\":{\"units\":\"data\",\"value\":0.9},\"x\":{\"field\":\"xname\"},\"y\":{\"field\":\"yname\"}},\"id\":\"efdb9478-7044-4a9d-8c58-7fb99a958778\",\"type\":\"Rect\"},{\"attributes\":{\"callback\":null,\"column_names\":[\"xname\",\"yname\",\"colors\",\"alphas\",\"weight\"],\"data\":{\"alphas\":[0.2,0.1,0.1,0.1,0.1,0.1,0.1,1.0,0.1,0.1,0.1,0.1,0.1,0.1,0.1,0.1,0.1,0.1,0.1,0.1,0.1,0.1,0.1,0.1,0.1,0.1,0.1,0.1,0.1,0.1,0.1,0.1,0.1,0.1,0.1,0.1,0.2,0.1,0.1,0.1,0.1,0.1,0.1,0.1,0.1,0.1,0.1,0.1,0.1,0.1,0.1,0.1,0.1,0.1,0.1,0.1,0.1,0.1,0.1,0.1,0.1,0.1,0.1,0.1,0.1,0.1,0.1,0.1,0.1,0.1,0.1,0.1,0.2,0.1,0.1,0.1,0.1,0.1,0.1,0.1,0.1,0.1,0.1,0.1,0.1,0.1,0.1,0.1,0.1,0.1,0.1,0.1,0.1,0.1,0.1,0.1,0.1,0.1,0.1,0.1,0.1,0.1,0.1,0.1,0.1,0.1,0.1,0.1,0.2,0.1,0.1,0.1,0.1,0.1,0.1,0.1,0.1,0.1,0.1,0.1,0.1,0.1,0.1,0.1,0.1,0.1,0.1,0.1,0.1,0.1,0.1,0.1,0.1,0.1,0.1,0.1,0.1,0.1,0.1,0.1,0.1,0.1,0.1,0.1,0.2,0.1,0.1,0.1,0.1,0.1,0.1,0.1,0.1,0.1,0.1,0.1,0.1,0.1,0.1,0.1,1.0,0.1,0.1,0.1,0.1,0.1,0.1,0.1,0.1,0.1,0.1,0.1,0.1,0.1,0.1,0.1,0.1,0.1,0.1,1.0,0.2,0.1,0.1,0.1,0.1,0.1,0.1,0.1,0.1,0.1,0.1,0.1,0.1,0.1,0.1,0.1,0.1,0.1,0.1,0.1,0.1,0.1,0.1,0.1,0.1,0.1,0.1,0.1,0.1,0.1,0.1,0.1,0.1,0.1,0.1,0.1,0.2,0.1,0.1,0.1,0.1,0.1,0.1,0.1,0.1,0.1,0.1,0.1,0.1,0.1,0.1,0.1,0.1,0.1,0.1,0.1,0.1,0.1,0.1,0.1,0.1,0.1,0.1,0.1,0.1,0.1,0.1,0.9,0.1,0.1,0.1,0.1,0.2,0.1,0.1,0.1,0.1,0.1,0.1,0.1,0.1,0.1,0.1,0.1,0.1,0.1,0.1,0.1,0.1,0.1,0.1,0.1,0.1,0.1,0.9,0.1,0.1,0.1,0.1,0.1,0.1,0.1,0.1,0.9,0.1,0.1,0.1,0.1,0.2,0.1,0.1,0.1,0.1,0.1,0.1,0.1,0.1,0.1,0.1,0.1,0.1,0.1,0.1,0.1,0.1,0.1,0.1,0.1,0.1,0.1,0.1,0.1,0.1,0.1,0.1,0.1,0.1,0.1,0.1,0.1,0.1,0.1,0.1,0.9,0.2,0.1,0.1,0.1,0.1,0.1,0.1,0.1,0.1,0.1,0.1,0.1,0.1,0.1,0.1,0.1,0.1,0.1,0.1,0.1,0.1,0.1,0.1,0.1,0.1,0.1,0.1,0.1,0.1,0.1,0.1,0.1,0.1,0.1,0.1,0.1,0.2,0.1,0.1,0.1,0.1,0.1,0.1,0.1,0.1,0.1,0.1,0.1,0.1,0.1,0.1,1.0,0.1,0.1,0.1,0.1,0.1,0.1,0.1,0.1,0.1,0.1,0.1,0.1,0.1,0.1,0.1,0.1,0.1,0.1,0.1,0.1,0.2,0.1,0.1,0.1,0.1,0.1,0.1,0.1,0.1,0.1,0.1,0.1,0.1,0.1,0.1,0.1,0.1,0.1,1.0,0.1,0.1,0.1,0.1,0.1,0.1,0.1,0.1,0.1,0.1,0.1,0.1,1.0,0.1,0.1,0.1,0.1,0.2,0.1,0.1,0.1,0.1,0.1,0.1,0.1,0.1,0.1,0.1,0.1,0.1,0.1,0.1,0.1,0.1,0.1,0.1,0.1,0.1,0.1,0.1,0.1,0.1,0.1,0.1,0.1,0.1,0.1,1.0,0.1,0.1,0.1,0.1,0.1,0.2,0.1,0.1,0.1,0.1,0.1,0.1,0.1,0.1,0.1,0.1,0.1,0.1,0.1,0.1,0.1,0.1,0.1,0.1,0.1,0.1,0.1,0.1,0.1,0.1,0.1,0.1,0.1,0.1,0.1,0.1,0.1,0.1,0.1,0.1,0.9,0.2,0.1,0.1,0.1,0.1,0.1,0.1,0.1,0.1,0.1,0.1,0.1,0.1,0.1,0.1,0.1,0.1,0.1,0.1,0.1,0.1,0.1,0.1,0.1,0.1,0.1,0.1,0.1,0.1,0.1,0.1,0.1,0.1,0.1,0.1,0.1,0.2,0.1,0.1,0.1,0.1,0.1,0.1,0.1,0.1,0.1,0.1,0.1,0.1,0.1,0.1,0.1,0.1,0.1,0.1,0.1,0.1,0.1,0.1,0.1,0.1,0.1,0.1,0.9,0.1,0.1,0.1,0.1,0.1,0.1,0.1,0.1,0.2,0.1,0.1,0.1,0.1,0.1,0.1,0.1,0.1,0.1,0.1,0.1,0.1,0.1,0.1,0.1,0.1,0.1,0.1,0.1,0.1,0.1,0.9,0.1,0.1,0.1,0.1,0.1,0.1,0.1,0.1,0.1,0.1,0.1,0.1,0.1,0.2,0.1,0.1,0.1,0.1,0.1,0.1,0.1,0.1,0.1,0.1,0.1,0.1,0.1,0.1,0.1,0.1,0.1,0.1,0.1,0.1,0.1,0.1,0.1,0.1,0.1,0.1,0.1,0.1,0.1,0.1,0.1,0.1,0.1,1.0,0.1,0.2,0.1,0.1,0.1,0.1,0.1,0.1,0.1,0.1,0.1,0.1,0.1,0.1,0.1,0.1,0.1,0.1,0.1,0.1,0.1,0.1,0.1,0.1,0.1,0.1,0.1,0.1,0.1,0.1,0.1,0.1,0.1,0.1,0.1,0.1,0.1,0.2,0.1,0.1,0.1,0.1,0.9,0.1,0.1,0.1,0.1,0.1,0.1,0.1,0.1,0.1,0.1,0.1,0.1,0.1,0.1,0.1,0.1,0.1,0.1,0.1,0.1,0.1,0.1,0.1,0.1,0.1,0.1,0.1,0.1,0.1,1.0,0.2,0.1,0.1,0.1,0.1,0.1,0.1,0.1,0.1,0.1,0.1,0.1,0.1,0.1,0.1,0.1,0.1,0.1,0.1,0.1,0.1,0.1,0.1,0.1,0.1,0.1,0.1,0.1,0.1,0.1,0.1,0.1,0.1,0.1,0.9,0.1,0.2,0.1,0.1,0.1,0.1,0.1,0.1,0.1,0.1,0.1,0.1,0.1,0.1,0.1,0.9,0.1,0.1,0.1,0.1,0.1,0.1,0.1,0.1,0.1,0.1,0.1,0.1,0.1,0.1,0.1,0.1,0.1,0.1,0.1,0.1,0.1,0.2,0.1,0.1,0.1,0.1,0.1,0.1,0.1,0.1,0.1,0.1,0.1,0.1,0.1,1.0,0.1,0.1,0.1,0.1,1.0,0.1,0.1,0.1,0.1,0.1,0.1,0.1,0.1,1.0,0.1,0.1,0.1,0.1,0.1,0.1,0.1,0.2,0.1,0.1,0.1,0.1,0.1,0.1,0.1,0.1,0.1,0.1,0.1,0.1,0.1,0.1,0.9,0.1,0.1,0.1,0.1,0.1,0.1,0.1,0.1,0.1,0.1,0.1,0.1,0.1,0.1,0.1,0.1,0.1,0.1,0.1,0.9,0.2,0.1,0.1,0.1,0.1,0.1,0.1,0.1,0.1,0.1,0.1,0.1,0.1,0.1,0.1,0.1,0.1,0.1,0.1,0.1,0.1,0.1,0.1,0.1,0.1,0.1,0.1,0.1,0.1,0.1,0.1,0.1,0.1,1.0,0.1,0.1,0.2,0.1,0.1,0.1,0.1,0.1,0.1,0.1,0.1,0.1,0.1,0.1,0.1,0.1,0.1,0.1,0.1,0.1,0.1,0.1,0.1,0.1,0.1,0.1,0.1,0.1,0.1,0.1,1.0,0.1,0.1,0.1,0.1,0.1,0.1,0.1,0.2,0.1,0.1,0.1,0.1,0.1,0.1,0.1,0.1,0.1,0.1,0.1,0.1,0.1,0.1,0.1,0.1,0.1,0.1,0.1,0.1,0.1,0.1,0.1,0.1,0.1,0.1,0.1,0.1,0.1,0.1,0.1,0.1,0.1,0.9,0.1,0.2,0.1,0.1,0.1,0.1,0.1,0.1,0.1,0.1,0.1,0.1,0.1,0.1,0.1,0.1,0.1,0.1,0.1,0.1,0.1,0.9,0.1,0.1,0.1,0.1,0.1,0.1,0.1,0.1,0.1,0.1,0.1,0.1,0.1,0.9,0.1,0.2,0.1,0.1,0.1,0.1,0.1,0.1,0.1,0.1,0.1,0.1,0.1,0.1,0.1,0.1,0.1,0.1,0.1,0.1,0.1,0.1,0.1,0.1,0.1,0.1,0.1,0.1,0.1,0.1,0.1,0.1,1.0,0.1,0.1,0.1,0.1,0.2,0.1,0.1,0.1,0.1,0.1,0.1,0.1,0.1,0.1,0.9,0.1,0.1,0.1,0.1,0.1,0.1,0.1,0.1,0.1,0.1,0.1,0.1,0.1,0.1,0.1,0.1,0.1,0.1,0.1,0.1,0.1,0.1,0.1,0.1,0.1,0.2,0.1,0.1,0.1,0.1,0.1,0.1,0.1,0.1,0.9,0.1,0.1,0.1,0.1,0.1,0.1,0.1,0.1,0.1,0.1,0.1,0.1,0.1,0.1,0.1,0.1,0.1,0.1,0.1,0.1,0.1,0.1,0.1,0.1,0.1,0.1,0.2,0.1,0.1,0.1,0.1,0.1,0.1,0.1,0.1,0.1,0.1,0.1,0.1,0.1,0.1,0.1,0.1,0.1,0.1,0.1,0.1,0.1,0.1,0.1,0.1,0.1,0.1,0.1,0.1,0.9,0.1,0.1,0.1,0.1,0.1,0.1,0.2,0.1,0.1,0.1,0.1,0.1,0.1,0.1,0.1,0.1,0.1,0.1,0.1,0.1,0.1,0.1,0.1,0.1,0.1,0.1,0.1,0.1,0.1,0.1,0.1,0.9,0.1,0.1,0.1,0.1,0.1,0.1,0.1,0.1,0.1,0.1,0.2,0.1,0.1,0.1,0.1,0.1,0.1,0.1,0.1,0.1,0.1,0.1,0.9,0.1,0.1,0.1,0.1,0.1,0.1,0.1,0.1,0.1,0.1,0.1,0.1,0.1,0.1,0.1,0.1,0.1,0.1,0.1,0.1,0.1,0.1,0.1,0.2],\"colors\":[\"lightgrey\",\"lightgrey\",\"lightgrey\",\"lightgrey\",\"lightgrey\",\"lightgrey\",\"lightgrey\",\"#e377c2\",\"lightgrey\",\"lightgrey\",\"lightgrey\",\"lightgrey\",\"lightgrey\",\"lightgrey\",\"lightgrey\",\"lightgrey\",\"lightgrey\",\"lightgrey\",\"lightgrey\",\"lightgrey\",\"lightgrey\",\"lightgrey\",\"lightgrey\",\"lightgrey\",\"lightgrey\",\"lightgrey\",\"lightgrey\",\"lightgrey\",\"lightgrey\",\"lightgrey\",\"lightgrey\",\"lightgrey\",\"lightgrey\",\"lightgrey\",\"lightgrey\",\"lightgrey\",\"lightgrey\",\"lightgrey\",\"lightgrey\",\"lightgrey\",\"lightgrey\",\"lightgrey\",\"lightgrey\",\"lightgrey\",\"lightgrey\",\"lightgrey\",\"lightgrey\",\"lightgrey\",\"lightgrey\",\"lightgrey\",\"lightgrey\",\"lightgrey\",\"lightgrey\",\"lightgrey\",\"lightgrey\",\"lightgrey\",\"lightgrey\",\"lightgrey\",\"lightgrey\",\"lightgrey\",\"lightgrey\",\"lightgrey\",\"lightgrey\",\"lightgrey\",\"lightgrey\",\"lightgrey\",\"lightgrey\",\"lightgrey\",\"lightgrey\",\"lightgrey\",\"lightgrey\",\"lightgrey\",\"lightgrey\",\"lightgrey\",\"lightgrey\",\"lightgrey\",\"lightgrey\",\"lightgrey\",\"lightgrey\",\"lightgrey\",\"lightgrey\",\"lightgrey\",\"lightgrey\",\"lightgrey\",\"lightgrey\",\"lightgrey\",\"lightgrey\",\"lightgrey\",\"lightgrey\",\"lightgrey\",\"lightgrey\",\"lightgrey\",\"lightgrey\",\"lightgrey\",\"lightgrey\",\"lightgrey\",\"lightgrey\",\"lightgrey\",\"lightgrey\",\"lightgrey\",\"lightgrey\",\"lightgrey\",\"lightgrey\",\"lightgrey\",\"lightgrey\",\"lightgrey\",\"lightgrey\",\"lightgrey\",\"lightgrey\",\"lightgrey\",\"lightgrey\",\"lightgrey\",\"lightgrey\",\"lightgrey\",\"lightgrey\",\"lightgrey\",\"lightgrey\",\"lightgrey\",\"lightgrey\",\"lightgrey\",\"lightgrey\",\"lightgrey\",\"lightgrey\",\"lightgrey\",\"lightgrey\",\"lightgrey\",\"lightgrey\",\"lightgrey\",\"lightgrey\",\"lightgrey\",\"lightgrey\",\"lightgrey\",\"lightgrey\",\"lightgrey\",\"lightgrey\",\"lightgrey\",\"lightgrey\",\"lightgrey\",\"lightgrey\",\"lightgrey\",\"lightgrey\",\"lightgrey\",\"lightgrey\",\"lightgrey\",\"lightgrey\",\"lightgrey\",\"lightgrey\",\"lightgrey\",\"lightgrey\",\"lightgrey\",\"lightgrey\",\"lightgrey\",\"lightgrey\",\"lightgrey\",\"lightgrey\",\"lightgrey\",\"lightgrey\",\"lightgrey\",\"lightgrey\",\"lightgrey\",\"#ff7f0e\",\"lightgrey\",\"lightgrey\",\"lightgrey\",\"lightgrey\",\"lightgrey\",\"lightgrey\",\"lightgrey\",\"lightgrey\",\"lightgrey\",\"lightgrey\",\"lightgrey\",\"lightgrey\",\"lightgrey\",\"lightgrey\",\"lightgrey\",\"lightgrey\",\"lightgrey\",\"lightgrey\",\"#ff7f0e\",\"lightgrey\",\"lightgrey\",\"lightgrey\",\"lightgrey\",\"lightgrey\",\"lightgrey\",\"lightgrey\",\"lightgrey\",\"lightgrey\",\"lightgrey\",\"lightgrey\",\"lightgrey\",\"lightgrey\",\"lightgrey\",\"lightgrey\",\"lightgrey\",\"lightgrey\",\"lightgrey\",\"lightgrey\",\"lightgrey\",\"lightgrey\",\"lightgrey\",\"lightgrey\",\"lightgrey\",\"lightgrey\",\"lightgrey\",\"lightgrey\",\"lightgrey\",\"lightgrey\",\"lightgrey\",\"lightgrey\",\"lightgrey\",\"lightgrey\",\"lightgrey\",\"lightgrey\",\"lightgrey\",\"lightgrey\",\"lightgrey\",\"lightgrey\",\"lightgrey\",\"lightgrey\",\"lightgrey\",\"lightgrey\",\"lightgrey\",\"lightgrey\",\"lightgrey\",\"lightgrey\",\"lightgrey\",\"lightgrey\",\"lightgrey\",\"lightgrey\",\"lightgrey\",\"lightgrey\",\"lightgrey\",\"lightgrey\",\"lightgrey\",\"lightgrey\",\"lightgrey\",\"lightgrey\",\"lightgrey\",\"lightgrey\",\"lightgrey\",\"lightgrey\",\"lightgrey\",\"lightgrey\",\"lightgrey\",\"lightgrey\",\"grey\",\"lightgrey\",\"lightgrey\",\"lightgrey\",\"lightgrey\",\"lightgrey\",\"lightgrey\",\"lightgrey\",\"lightgrey\",\"lightgrey\",\"lightgrey\",\"lightgrey\",\"lightgrey\",\"lightgrey\",\"lightgrey\",\"lightgrey\",\"lightgrey\",\"lightgrey\",\"lightgrey\",\"lightgrey\",\"lightgrey\",\"lightgrey\",\"lightgrey\",\"lightgrey\",\"lightgrey\",\"lightgrey\",\"lightgrey\",\"grey\",\"lightgrey\",\"lightgrey\",\"lightgrey\",\"lightgrey\",\"lightgrey\",\"lightgrey\",\"lightgrey\",\"lightgrey\",\"grey\",\"lightgrey\",\"lightgrey\",\"lightgrey\",\"lightgrey\",\"lightgrey\",\"lightgrey\",\"lightgrey\",\"lightgrey\",\"lightgrey\",\"lightgrey\",\"lightgrey\",\"lightgrey\",\"lightgrey\",\"lightgrey\",\"lightgrey\",\"lightgrey\",\"lightgrey\",\"lightgrey\",\"lightgrey\",\"lightgrey\",\"lightgrey\",\"lightgrey\",\"lightgrey\",\"lightgrey\",\"lightgrey\",\"lightgrey\",\"lightgrey\",\"lightgrey\",\"lightgrey\",\"lightgrey\",\"lightgrey\",\"lightgrey\",\"lightgrey\",\"lightgrey\",\"lightgrey\",\"lightgrey\",\"lightgrey\",\"lightgrey\",\"lightgrey\",\"grey\",\"lightgrey\",\"lightgrey\",\"lightgrey\",\"lightgrey\",\"lightgrey\",\"lightgrey\",\"lightgrey\",\"lightgrey\",\"lightgrey\",\"lightgrey\",\"lightgrey\",\"lightgrey\",\"lightgrey\",\"lightgrey\",\"lightgrey\",\"lightgrey\",\"lightgrey\",\"lightgrey\",\"lightgrey\",\"lightgrey\",\"lightgrey\",\"lightgrey\",\"lightgrey\",\"lightgrey\",\"lightgrey\",\"lightgrey\",\"lightgrey\",\"lightgrey\",\"lightgrey\",\"lightgrey\",\"lightgrey\",\"lightgrey\",\"lightgrey\",\"lightgrey\",\"lightgrey\",\"lightgrey\",\"lightgrey\",\"lightgrey\",\"lightgrey\",\"lightgrey\",\"lightgrey\",\"lightgrey\",\"lightgrey\",\"lightgrey\",\"lightgrey\",\"lightgrey\",\"lightgrey\",\"lightgrey\",\"lightgrey\",\"lightgrey\",\"lightgrey\",\"#dbdb8d\",\"lightgrey\",\"lightgrey\",\"lightgrey\",\"lightgrey\",\"lightgrey\",\"lightgrey\",\"lightgrey\",\"lightgrey\",\"lightgrey\",\"lightgrey\",\"lightgrey\",\"lightgrey\",\"lightgrey\",\"lightgrey\",\"lightgrey\",\"lightgrey\",\"lightgrey\",\"lightgrey\",\"lightgrey\",\"lightgrey\",\"lightgrey\",\"lightgrey\",\"lightgrey\",\"lightgrey\",\"lightgrey\",\"lightgrey\",\"lightgrey\",\"lightgrey\",\"lightgrey\",\"lightgrey\",\"lightgrey\",\"lightgrey\",\"lightgrey\",\"lightgrey\",\"lightgrey\",\"lightgrey\",\"lightgrey\",\"lightgrey\",\"#17becf\",\"lightgrey\",\"lightgrey\",\"lightgrey\",\"lightgrey\",\"lightgrey\",\"lightgrey\",\"lightgrey\",\"lightgrey\",\"lightgrey\",\"lightgrey\",\"lightgrey\",\"lightgrey\",\"#e377c2\",\"lightgrey\",\"lightgrey\",\"lightgrey\",\"lightgrey\",\"lightgrey\",\"lightgrey\",\"lightgrey\",\"lightgrey\",\"lightgrey\",\"lightgrey\",\"lightgrey\",\"lightgrey\",\"lightgrey\",\"lightgrey\",\"lightgrey\",\"lightgrey\",\"lightgrey\",\"lightgrey\",\"lightgrey\",\"lightgrey\",\"lightgrey\",\"lightgrey\",\"lightgrey\",\"lightgrey\",\"lightgrey\",\"lightgrey\",\"lightgrey\",\"lightgrey\",\"lightgrey\",\"lightgrey\",\"lightgrey\",\"lightgrey\",\"lightgrey\",\"lightgrey\",\"#e377c2\",\"lightgrey\",\"lightgrey\",\"lightgrey\",\"lightgrey\",\"lightgrey\",\"lightgrey\",\"lightgrey\",\"lightgrey\",\"lightgrey\",\"lightgrey\",\"lightgrey\",\"lightgrey\",\"lightgrey\",\"lightgrey\",\"lightgrey\",\"lightgrey\",\"lightgrey\",\"lightgrey\",\"lightgrey\",\"lightgrey\",\"lightgrey\",\"lightgrey\",\"lightgrey\",\"lightgrey\",\"lightgrey\",\"lightgrey\",\"lightgrey\",\"lightgrey\",\"lightgrey\",\"lightgrey\",\"lightgrey\",\"lightgrey\",\"lightgrey\",\"lightgrey\",\"lightgrey\",\"lightgrey\",\"lightgrey\",\"lightgrey\",\"lightgrey\",\"lightgrey\",\"grey\",\"lightgrey\",\"lightgrey\",\"lightgrey\",\"lightgrey\",\"lightgrey\",\"lightgrey\",\"lightgrey\",\"lightgrey\",\"lightgrey\",\"lightgrey\",\"lightgrey\",\"lightgrey\",\"lightgrey\",\"lightgrey\",\"lightgrey\",\"lightgrey\",\"lightgrey\",\"lightgrey\",\"lightgrey\",\"lightgrey\",\"lightgrey\",\"lightgrey\",\"lightgrey\",\"lightgrey\",\"lightgrey\",\"lightgrey\",\"lightgrey\",\"lightgrey\",\"lightgrey\",\"lightgrey\",\"lightgrey\",\"lightgrey\",\"lightgrey\",\"lightgrey\",\"lightgrey\",\"lightgrey\",\"lightgrey\",\"lightgrey\",\"lightgrey\",\"lightgrey\",\"lightgrey\",\"lightgrey\",\"lightgrey\",\"lightgrey\",\"lightgrey\",\"lightgrey\",\"lightgrey\",\"lightgrey\",\"lightgrey\",\"lightgrey\",\"lightgrey\",\"lightgrey\",\"lightgrey\",\"lightgrey\",\"lightgrey\",\"lightgrey\",\"lightgrey\",\"lightgrey\",\"lightgrey\",\"lightgrey\",\"lightgrey\",\"lightgrey\",\"lightgrey\",\"grey\",\"lightgrey\",\"lightgrey\",\"lightgrey\",\"lightgrey\",\"lightgrey\",\"lightgrey\",\"lightgrey\",\"lightgrey\",\"lightgrey\",\"lightgrey\",\"lightgrey\",\"lightgrey\",\"lightgrey\",\"lightgrey\",\"lightgrey\",\"lightgrey\",\"lightgrey\",\"lightgrey\",\"lightgrey\",\"lightgrey\",\"lightgrey\",\"lightgrey\",\"lightgrey\",\"lightgrey\",\"lightgrey\",\"lightgrey\",\"lightgrey\",\"lightgrey\",\"lightgrey\",\"lightgrey\",\"grey\",\"lightgrey\",\"lightgrey\",\"lightgrey\",\"lightgrey\",\"lightgrey\",\"lightgrey\",\"lightgrey\",\"lightgrey\",\"lightgrey\",\"lightgrey\",\"lightgrey\",\"lightgrey\",\"lightgrey\",\"lightgrey\",\"lightgrey\",\"lightgrey\",\"lightgrey\",\"lightgrey\",\"lightgrey\",\"lightgrey\",\"lightgrey\",\"lightgrey\",\"lightgrey\",\"lightgrey\",\"lightgrey\",\"lightgrey\",\"lightgrey\",\"lightgrey\",\"lightgrey\",\"lightgrey\",\"lightgrey\",\"lightgrey\",\"lightgrey\",\"lightgrey\",\"lightgrey\",\"lightgrey\",\"lightgrey\",\"lightgrey\",\"lightgrey\",\"lightgrey\",\"lightgrey\",\"lightgrey\",\"lightgrey\",\"lightgrey\",\"lightgrey\",\"lightgrey\",\"lightgrey\",\"#bcbd22\",\"lightgrey\",\"lightgrey\",\"lightgrey\",\"lightgrey\",\"lightgrey\",\"lightgrey\",\"lightgrey\",\"lightgrey\",\"lightgrey\",\"lightgrey\",\"lightgrey\",\"lightgrey\",\"lightgrey\",\"lightgrey\",\"lightgrey\",\"lightgrey\",\"lightgrey\",\"lightgrey\",\"lightgrey\",\"lightgrey\",\"lightgrey\",\"lightgrey\",\"lightgrey\",\"lightgrey\",\"lightgrey\",\"lightgrey\",\"lightgrey\",\"lightgrey\",\"lightgrey\",\"lightgrey\",\"lightgrey\",\"lightgrey\",\"lightgrey\",\"lightgrey\",\"lightgrey\",\"lightgrey\",\"lightgrey\",\"lightgrey\",\"lightgrey\",\"lightgrey\",\"lightgrey\",\"lightgrey\",\"grey\",\"lightgrey\",\"lightgrey\",\"lightgrey\",\"lightgrey\",\"lightgrey\",\"lightgrey\",\"lightgrey\",\"lightgrey\",\"lightgrey\",\"lightgrey\",\"lightgrey\",\"lightgrey\",\"lightgrey\",\"lightgrey\",\"lightgrey\",\"lightgrey\",\"lightgrey\",\"lightgrey\",\"lightgrey\",\"lightgrey\",\"lightgrey\",\"lightgrey\",\"lightgrey\",\"lightgrey\",\"lightgrey\",\"lightgrey\",\"lightgrey\",\"lightgrey\",\"lightgrey\",\"#ff7f0e\",\"lightgrey\",\"lightgrey\",\"lightgrey\",\"lightgrey\",\"lightgrey\",\"lightgrey\",\"lightgrey\",\"lightgrey\",\"lightgrey\",\"lightgrey\",\"lightgrey\",\"lightgrey\",\"lightgrey\",\"lightgrey\",\"lightgrey\",\"lightgrey\",\"lightgrey\",\"lightgrey\",\"lightgrey\",\"lightgrey\",\"lightgrey\",\"lightgrey\",\"lightgrey\",\"lightgrey\",\"lightgrey\",\"lightgrey\",\"lightgrey\",\"lightgrey\",\"lightgrey\",\"lightgrey\",\"lightgrey\",\"lightgrey\",\"lightgrey\",\"lightgrey\",\"grey\",\"lightgrey\",\"lightgrey\",\"lightgrey\",\"lightgrey\",\"lightgrey\",\"lightgrey\",\"lightgrey\",\"lightgrey\",\"lightgrey\",\"lightgrey\",\"lightgrey\",\"lightgrey\",\"lightgrey\",\"lightgrey\",\"lightgrey\",\"grey\",\"lightgrey\",\"lightgrey\",\"lightgrey\",\"lightgrey\",\"lightgrey\",\"lightgrey\",\"lightgrey\",\"lightgrey\",\"lightgrey\",\"lightgrey\",\"lightgrey\",\"lightgrey\",\"lightgrey\",\"lightgrey\",\"lightgrey\",\"lightgrey\",\"lightgrey\",\"lightgrey\",\"lightgrey\",\"lightgrey\",\"lightgrey\",\"lightgrey\",\"lightgrey\",\"lightgrey\",\"lightgrey\",\"lightgrey\",\"lightgrey\",\"lightgrey\",\"lightgrey\",\"lightgrey\",\"lightgrey\",\"lightgrey\",\"lightgrey\",\"lightgrey\",\"lightgrey\",\"#d62728\",\"lightgrey\",\"lightgrey\",\"lightgrey\",\"lightgrey\",\"#d62728\",\"lightgrey\",\"lightgrey\",\"lightgrey\",\"lightgrey\",\"lightgrey\",\"lightgrey\",\"lightgrey\",\"lightgrey\",\"#d62728\",\"lightgrey\",\"lightgrey\",\"lightgrey\",\"lightgrey\",\"lightgrey\",\"lightgrey\",\"lightgrey\",\"lightgrey\",\"lightgrey\",\"lightgrey\",\"lightgrey\",\"lightgrey\",\"lightgrey\",\"lightgrey\",\"lightgrey\",\"lightgrey\",\"lightgrey\",\"lightgrey\",\"lightgrey\",\"lightgrey\",\"lightgrey\",\"lightgrey\",\"grey\",\"lightgrey\",\"lightgrey\",\"lightgrey\",\"lightgrey\",\"lightgrey\",\"lightgrey\",\"lightgrey\",\"lightgrey\",\"lightgrey\",\"lightgrey\",\"lightgrey\",\"lightgrey\",\"lightgrey\",\"lightgrey\",\"lightgrey\",\"lightgrey\",\"lightgrey\",\"lightgrey\",\"lightgrey\",\"grey\",\"lightgrey\",\"lightgrey\",\"lightgrey\",\"lightgrey\",\"lightgrey\",\"lightgrey\",\"lightgrey\",\"lightgrey\",\"lightgrey\",\"lightgrey\",\"lightgrey\",\"lightgrey\",\"lightgrey\",\"lightgrey\",\"lightgrey\",\"lightgrey\",\"lightgrey\",\"lightgrey\",\"lightgrey\",\"lightgrey\",\"lightgrey\",\"lightgrey\",\"lightgrey\",\"lightgrey\",\"lightgrey\",\"lightgrey\",\"lightgrey\",\"lightgrey\",\"lightgrey\",\"lightgrey\",\"lightgrey\",\"lightgrey\",\"lightgrey\",\"#dbdb8d\",\"lightgrey\",\"lightgrey\",\"lightgrey\",\"lightgrey\",\"lightgrey\",\"lightgrey\",\"lightgrey\",\"lightgrey\",\"lightgrey\",\"lightgrey\",\"lightgrey\",\"lightgrey\",\"lightgrey\",\"lightgrey\",\"lightgrey\",\"lightgrey\",\"lightgrey\",\"lightgrey\",\"lightgrey\",\"lightgrey\",\"lightgrey\",\"lightgrey\",\"lightgrey\",\"lightgrey\",\"lightgrey\",\"lightgrey\",\"lightgrey\",\"lightgrey\",\"lightgrey\",\"lightgrey\",\"#bcbd22\",\"lightgrey\",\"lightgrey\",\"lightgrey\",\"lightgrey\",\"lightgrey\",\"lightgrey\",\"lightgrey\",\"lightgrey\",\"lightgrey\",\"lightgrey\",\"lightgrey\",\"lightgrey\",\"lightgrey\",\"lightgrey\",\"lightgrey\",\"lightgrey\",\"lightgrey\",\"lightgrey\",\"lightgrey\",\"lightgrey\",\"lightgrey\",\"lightgrey\",\"lightgrey\",\"lightgrey\",\"lightgrey\",\"lightgrey\",\"lightgrey\",\"lightgrey\",\"lightgrey\",\"lightgrey\",\"lightgrey\",\"lightgrey\",\"lightgrey\",\"lightgrey\",\"lightgrey\",\"lightgrey\",\"lightgrey\",\"lightgrey\",\"lightgrey\",\"lightgrey\",\"lightgrey\",\"grey\",\"lightgrey\",\"lightgrey\",\"lightgrey\",\"lightgrey\",\"lightgrey\",\"lightgrey\",\"lightgrey\",\"lightgrey\",\"lightgrey\",\"lightgrey\",\"lightgrey\",\"lightgrey\",\"lightgrey\",\"lightgrey\",\"lightgrey\",\"lightgrey\",\"lightgrey\",\"lightgrey\",\"lightgrey\",\"lightgrey\",\"lightgrey\",\"grey\",\"lightgrey\",\"lightgrey\",\"lightgrey\",\"lightgrey\",\"lightgrey\",\"lightgrey\",\"lightgrey\",\"lightgrey\",\"lightgrey\",\"lightgrey\",\"lightgrey\",\"lightgrey\",\"lightgrey\",\"grey\",\"lightgrey\",\"lightgrey\",\"lightgrey\",\"lightgrey\",\"lightgrey\",\"lightgrey\",\"lightgrey\",\"lightgrey\",\"lightgrey\",\"lightgrey\",\"lightgrey\",\"lightgrey\",\"lightgrey\",\"lightgrey\",\"lightgrey\",\"lightgrey\",\"lightgrey\",\"lightgrey\",\"lightgrey\",\"lightgrey\",\"lightgrey\",\"lightgrey\",\"lightgrey\",\"lightgrey\",\"lightgrey\",\"lightgrey\",\"lightgrey\",\"lightgrey\",\"lightgrey\",\"lightgrey\",\"lightgrey\",\"lightgrey\",\"#17becf\",\"lightgrey\",\"lightgrey\",\"lightgrey\",\"lightgrey\",\"lightgrey\",\"lightgrey\",\"lightgrey\",\"lightgrey\",\"lightgrey\",\"lightgrey\",\"lightgrey\",\"lightgrey\",\"lightgrey\",\"lightgrey\",\"grey\",\"lightgrey\",\"lightgrey\",\"lightgrey\",\"lightgrey\",\"lightgrey\",\"lightgrey\",\"lightgrey\",\"lightgrey\",\"lightgrey\",\"lightgrey\",\"lightgrey\",\"lightgrey\",\"lightgrey\",\"lightgrey\",\"lightgrey\",\"lightgrey\",\"lightgrey\",\"lightgrey\",\"lightgrey\",\"lightgrey\",\"lightgrey\",\"lightgrey\",\"lightgrey\",\"lightgrey\",\"lightgrey\",\"lightgrey\",\"lightgrey\",\"lightgrey\",\"lightgrey\",\"lightgrey\",\"lightgrey\",\"lightgrey\",\"lightgrey\",\"lightgrey\",\"grey\",\"lightgrey\",\"lightgrey\",\"lightgrey\",\"lightgrey\",\"lightgrey\",\"lightgrey\",\"lightgrey\",\"lightgrey\",\"lightgrey\",\"lightgrey\",\"lightgrey\",\"lightgrey\",\"lightgrey\",\"lightgrey\",\"lightgrey\",\"lightgrey\",\"lightgrey\",\"lightgrey\",\"lightgrey\",\"lightgrey\",\"lightgrey\",\"lightgrey\",\"lightgrey\",\"lightgrey\",\"lightgrey\",\"lightgrey\",\"lightgrey\",\"lightgrey\",\"lightgrey\",\"lightgrey\",\"lightgrey\",\"lightgrey\",\"lightgrey\",\"lightgrey\",\"lightgrey\",\"lightgrey\",\"lightgrey\",\"lightgrey\",\"lightgrey\",\"lightgrey\",\"lightgrey\",\"lightgrey\",\"lightgrey\",\"lightgrey\",\"lightgrey\",\"lightgrey\",\"lightgrey\",\"lightgrey\",\"lightgrey\",\"lightgrey\",\"lightgrey\",\"lightgrey\",\"lightgrey\",\"lightgrey\",\"lightgrey\",\"grey\",\"lightgrey\",\"lightgrey\",\"lightgrey\",\"lightgrey\",\"lightgrey\",\"lightgrey\",\"lightgrey\",\"lightgrey\",\"lightgrey\",\"lightgrey\",\"lightgrey\",\"lightgrey\",\"lightgrey\",\"lightgrey\",\"lightgrey\",\"lightgrey\",\"lightgrey\",\"lightgrey\",\"lightgrey\",\"lightgrey\",\"lightgrey\",\"lightgrey\",\"lightgrey\",\"lightgrey\",\"lightgrey\",\"lightgrey\",\"lightgrey\",\"lightgrey\",\"lightgrey\",\"lightgrey\",\"lightgrey\",\"grey\",\"lightgrey\",\"lightgrey\",\"lightgrey\",\"lightgrey\",\"lightgrey\",\"lightgrey\",\"lightgrey\",\"lightgrey\",\"lightgrey\",\"lightgrey\",\"lightgrey\",\"lightgrey\",\"lightgrey\",\"lightgrey\",\"lightgrey\",\"lightgrey\",\"lightgrey\",\"lightgrey\",\"lightgrey\",\"lightgrey\",\"lightgrey\",\"lightgrey\",\"grey\",\"lightgrey\",\"lightgrey\",\"lightgrey\",\"lightgrey\",\"lightgrey\",\"lightgrey\",\"lightgrey\",\"lightgrey\",\"lightgrey\",\"lightgrey\",\"lightgrey\",\"lightgrey\",\"lightgrey\",\"lightgrey\",\"lightgrey\",\"lightgrey\",\"lightgrey\",\"lightgrey\",\"lightgrey\",\"lightgrey\",\"lightgrey\",\"lightgrey\",\"lightgrey\",\"lightgrey\"],\"weight\":{\"__ndarray__\":\"AAAAAAAAAAAAAAAAAAAAAAAAAAAAAAAAAAAAAAAAAAAAAAAAAAAAAAAAAAAAAAAAAAAAAAAAAAAAAAAAAADwPwAAAAAAAAAAAAAAAAAAAAAAAAAAAAAAAAAAAAAAAAAAAAAAAAAAAAAAAAAAAAAAAAAAAAAAAAAAAAAAAAAAAAAAAAAAAAAAAAAAAAAAAAAAAAAAAAAAAAAAAAAAAAAAAAAAAAAAAAAAAAAAAAAAAAAAAAAAAAAAAAAAAAAAAAAAAAAAAAAAAAAAAAAAAAAAAAAAAAAAAAAAAAAAAAAAAAAAAAAAAAAAAAAAAAAAAAAAAAAAAAAAAAAAAAAAAAAAAAAAAAAAAAAAAAAAAAAAAAAAAAAAAAAAAAAAAAAAAAAAAAAAAAAAAAAAAAAAAAAAAAAAAAAAAAAAAAAAAAAAAAAAAAAAAAAAAAAAAAAAAAAAAAAAAAAAAAAAAAAAAAAAAAAAAAAAAAAAAAAAAAAAAAAAAAAAAAAAAAAAAAAAAAAAAAAAAAAAAAAAAAAAAAAAAAAAAAAAAAAAAAAAAAAAAAAAAAAAAAAAAAAAAAAAAAAAAAAAAAAAAAAAAAAAAAAAAAAAAAAAAAAAAAAAAAAAAAAAAAAAAAAAAAAAAAAAAAAAAAAAAAAAAAAAAAAAAAAAAAAAAAAAAAAAAAAAAAAAAAAAAAAAAAAAAAAAAAAAAAAAAAAAAAAAAAAAAAAAAAAAAAAAAAAAAAAAAAAAAAAAAAAAAAAAAAAAAAAAAAAAAAAAAAAAAAAAAAAAAAAAAAAAAAAAAAAAAAAAAAAAAAAAAAAAAAAAAAAAAAAAAAAAAAAAAAAAAAAAAAAAAAAAAAAAAAAAAAAAAAAAAAAAAAAAAAAAAAAAAAAAAAAAAAAAAAAAAAAAAAAAAAAAAAAAAAAAAAAAAAAAAAAAAAAAAAAAAAAAAAAAAAAAAAAAAAAAAAAAAAAAAAAAAAAAAAAAAAAAAAAAAAAAAAAAAAAAAAAAAAAAAAAAAAAAAAAAAAAAAAAAAAAAAAAAAAAAAAAAAAAAAAAAAAAAAAAAAAAAAAAAAAAAAAAAAAAAAAAAAAAAAAAAAAAAAAAAAAAAAAAAAAAAAAAAAAAAAAAAAAAAAAAAAAAAAAAAAAAAAAAAAAAAAAAAAAAAAAAAAAAAAAAAAAAAAAAAAAAAAAAAAAAAAAAAAAAAAAAAAAAAAAAAAAAAAAAAAAAAAAAAAAAAAAAAAAAAAAAAAAAAAAAAAAAAAAAAAAAAAAAAAAAAAAAAAAAAAAAAAAAAAAAAAAAAAAAAAAAAAAAAAAAAAAAAAAAAAAAAAAAAAAAAAAAAAAAAAAAAAAAAAAAAAAAAAAAAAAAAAAAAAAAAAAAAAAAAAAAAAAAAAAAAAAAAAAAAAAAAAAAAAAAAAAAAAAAAAAAAAAAAAAAAAAAAAAAAAAAAAAAAAAAAAAAAAAAAAAAAAAAAAAAAAAAAAAAAAAAAAAAAAAAAAAAAAAAAAAAAAAAAAAAAAAAAAAAAAAAAAAAAAAAAAAAAAAAAAAAAAAAAAAAAAAAAAAAAAAAAAAAAAAAAAAAAAAAAAAAAAAAAAAAAAAAAAAAAAAAAAAAAAAAAAAAAAAAAAAAAAAAAAAAAAAAAAAAAAAAAAAAAAAAAAAAAAAAAAAAAAAAAAAAAAAAAAAAAAAAAAAAAAAAAAAAAAAAAAAAAAAAAAAAAAAAAAADwPwAAAAAAAAAAAAAAAAAAAAAAAAAAAAAAAAAAAAAAAAAAAAAAAAAAAAAAAAAAAAAAAAAAAAAAAAAAAAAAAAAAAAAAAAAAAAAAAAAAAAAAAAAAAAAAAAAAAAAAAAAAAAAAAAAAAAAAAAAAAAAAAAAAAAAAAAAAAAAAAAAAAAAAAAAAAAAAAAAAAAAAAAAAAAAAAAAAAAAAAPA/AAAAAAAAAAAAAAAAAAAAAAAAAAAAAAAAAAAAAAAAAAAAAAAAAAAAAAAAAAAAAAAAAAAAAAAAAAAAAAAAAAAAAAAAAAAAAAAAAAAAAAAAAAAAAAAAAAAAAAAAAAAAAAAAAAAAAAAAAAAAAAAAAAAAAAAAAAAAAAAAAAAAAAAAAAAAAAAAAAAAAAAAAAAAAAAAAAAAAAAAAAAAAAAAAAAAAAAAAAAAAAAAAAAAAAAAAAAAAAAAAAAAAAAAAAAAAAAAAAAAAAAAAAAAAAAAAAAAAAAAAAAAAAAAAAAAAAAAAAAAAAAAAAAAAAAAAAAAAAAAAAAAAAAAAAAAAAAAAAAAAAAAAAAAAAAAAAAAAAAAAAAAAAAAAAAAAAAAAAAAAAAAAAAAAAAAAAAAAAAAAAAAAAAAAAAAAAAAAAAAAAAAAAAAAAAAAAAAAAAAAAAAAAAAAAAAAAAAAAAAAAAAAAAAAAAAAAAAAAAAAAAAAAAAAAAAAAAAAAAAAAAAAAAAAAAAAAAAAAAAAAAAAAAAAAAAAAAAAAAAAAAAAAAAAAAAAAAAAAAAAAAAAAAAAAAAAAAAAAAAAAAAAAAAAAAAAAAAAAAAAAAAAAAAAAAAAAAAAAAAAAAAAAAAAAAAAAAAAAAAAAAAAAAAAAAAAAAAAAAAAAAAAAAAAAAAAAAAAAAAAAAAAAAAAAAAAAAAAAAAAAAAAAAAAAAAAAAAAAAAAADwPwAAAAAAAAAAAAAAAAAAAAAAAAAAAAAAAAAAAAAAAAAAAAAAAAAAAAAAAAAAAAAAAAAAAAAAAAAAAAAAAAAAAAAAAAAAAAAAAAAAAAAAAAAAAAAAAAAAAAAAAAAAAAAAAAAAAAAAAAAAAAAAAAAAAAAAAAAAAAAAAAAAAAAAAAAAAAAAAAAAAAAAAAAAAAAAAAAAAAAAAAAAAAAAAAAAAAAAAAAAAAAAAAAAAAAAAAAAAAAAAAAAAAAAAAAAAAAAAAAAAAAAAAAAAAAAAAAAAAAAAAAAAADwPwAAAAAAAAAAAAAAAAAAAAAAAAAAAAAAAAAAAAAAAAAAAAAAAAAAAAAAAAAAAAAAAAAAAAAAAAAAAAAAAAAAAAAAAAAAAADwPwAAAAAAAAAAAAAAAAAAAAAAAAAAAAAAAAAAAAAAAAAAAAAAAAAAAAAAAAAAAAAAAAAAAAAAAAAAAAAAAAAAAAAAAAAAAAAAAAAAAAAAAAAAAAAAAAAAAAAAAAAAAAAAAAAAAAAAAAAAAAAAAAAAAAAAAAAAAAAAAAAAAAAAAAAAAAAAAAAAAAAAAAAAAAAAAAAAAAAAAAAAAAAAAAAAAAAAAAAAAAAAAAAAAAAAAAAAAAAAAAAAAAAAAAAAAAAAAAAAAAAAAAAAAAAAAAAAAAAAAAAAAAAAAAAAAAAAAAAAAAAAAAAAAAAAAAAAAAAAAAAAAAAAAAAAAAAAAAAAAAAAAAAAAAAAAAAAAAAAAAAAAAAAAAAAAAAAAAAAAAAAAAAAAAAAAAAAAAAAAAAAAAAAAAAAAAAAAAAAAAAAAPA/AAAAAAAAAAAAAAAAAAAAAAAAAAAAAAAAAAAAAAAAAAAAAAAAAAAAAAAAAAAAAAAAAAAAAAAAAAAAAAAAAAAAAAAAAAAAAAAAAAAAAAAAAAAAAAAAAAAAAAAAAAAAAAAAAAAAAAAAAAAAAAAAAAAAAAAAAAAAAAAAAAAAAAAAAAAAAAAAAAAAAAAAAAAAAAAAAAAAAAAAAAAAAAAAAAAAAAAAAAAAAAAAAAAAAAAAAAAAAAAAAAAAAAAAAAAAAAAAAAAAAAAAAAAAAAAAAAAAAAAAAAAAAAAAAAAAAAAAAAAAAAAAAAAAAAAAAAAAAAAAAAAAAAAAAAAAAAAAAAAAAAAAAAAAAAAAAAAAAAAAAAAAAAAAAAAAAAAAAAAAAAAAAAAAAAAAAAAAAAAAAAAAAAAAAAAAAAAAAAAAAAAAAAAAAAAAAAAAAAAAAAAAAAAAAAAAAAAAAAAAAAAAAAAAAAAAAAAAAAAAAAAAAAAAAAAAAAAAAAAAAAAAAAAAAAAAAAAAAAAAAAAAAAAAAAAAAAAAAAAAAAAAAAAAAAAA8D8AAAAAAAAAAAAAAAAAAAAAAAAAAAAAAAAAAAAAAAAAAAAAAAAAAAAAAAAAAAAAAAAAAAAAAAAAAAAAAAAAAAAAAAAAAAAAAAAAAAAAAAAAAAAAAAAAAAAAAAAAAAAAAAAAAAAAAAAAAAAAAAAAAAAAAAAAAAAAAAAAAAAAAAAAAAAAAAAAAAAAAAAAAAAAAAAAAAAAAAAAAAAAAAAAAAAAAAAAAAAAAAAAAAAAAAAAAAAAAAAAAAAAAAAAAAAAAAAAAAAAAAAAAAAAAAAAAAAAAAAAAAAAAAAAAAAAAAAAAAAAAAAAAAAAAAAAAAAAAAAAAAAAAAAAAAAAAAAAAAAAAAAAAAAAAAAAAAAAAAAAAAAAAAAAAAAAAAAAAAAAAAAAAAAAAAAAAAAAAAAAAAAAAAAAAAAA8D8AAAAAAAAAAAAAAAAAAAAAAAAAAAAAAAAAAAAAAAAAAAAAAAAAAAAAAAAAAAAAAAAAAAAAAAAAAAAAAAAAAAAAAAAAAAAAAAAAAAAAAAAAAAAAAAAAAAAAAAAAAAAAAAAAAAAAAADwPwAAAAAAAAAAAAAAAAAAAAAAAAAAAAAAAAAAAAAAAAAAAAAAAAAAAAAAAAAAAAAAAAAAAAAAAAAAAAAAAAAAAAAAAAAAAAAAAAAAAAAAAAAAAAAAAAAAAAAAAAAAAAAAAAAAAAAAAAAAAAAAAAAAAAAAAAAAAAAAAAAAAAAAAAAAAAAAAAAAAAAAAAAAAAAAAAAAAAAAAAAAAAAAAAAAAAAAAAAAAAAAAAAAAAAAAAAAAAAAAAAAAAAAAAAAAAAAAAAAAAAAAAAAAAAAAAAAAAAAAAAAAAAAAAAAAAAAAAAAAAAAAAAAAAAAAAAAAAAAAAAAAAAAAAAAAAAAAAAAAAAAAAAAAAAAAAAAAAAAAAAAAAAAAAAA8D8AAAAAAAAAAAAAAAAAAAAAAAAAAAAAAAAAAAAAAAAAAAAAAAAAAAAAAAAAAAAAAAAAAAAAAAAAAAAAAAAAAAAAAAAAAAAAAAAAAAAAAAAAAAAAAAAAAAAAAAAAAAAAAAAAAAAAAAAAAAAAAAAAAAAAAAAAAAAAAAAAAAAAAAAAAAAAAAAAAAAAAAAAAAAAAAAAAAAAAAAAAAAAAAAAAAAAAAAAAAAAAAAAAAAAAAAAAAAAAAAAAAAAAAAAAAAAAAAAAAAAAAAAAAAAAAAAAAAAAAAAAAAAAAAAAAAAAAAAAAAAAAAAAAAAAAAAAAAAAAAAAAAAAAAAAAAAAAAAAAAAAAAAAAAAAAAAAAAAAAAAAAAAAAAAAAAAAAAAAAAAAAAAAAAAAAAAAAAAAAAAAAAAAAAAAAAAAAAAAAAAAAAAAAAAAAAAAPA/AAAAAAAAAAAAAAAAAAAAAAAAAAAAAAAAAAAAAAAAAAAAAAAAAAAAAAAAAAAAAAAAAAAAAAAAAAAAAAAAAAAAAAAAAAAAAAAAAAAAAAAAAAAAAAAAAAAAAAAAAAAAAAAAAAAAAAAAAAAAAAAAAAAAAAAAAAAAAAAAAAAAAAAAAAAAAAAAAAAAAAAAAAAAAAAAAAAAAAAAAAAAAAAAAAAAAAAAAAAAAAAAAAAAAAAAAAAAAAAAAAAAAAAAAAAAAAAAAAAAAAAAAAAAAAAAAAAAAAAAAAAAAAAAAAAAAAAAAAAAAAAAAAAAAAAAAAAAAAAAAAAAAAAAAAAAAAAAAAAAAAAAAAAAAAAAAAAAAAAAAAAAAAAAAAAAAAAAAAAAAAAAAAAAAAAAAAAAAAAAAAAAAAAAAAAAAAAAAAAAAAAAAAAAAAAAAAAAAAAAAAAAAAAAAAAAAAAAAAAAAAAAAAAAAAAAAAAAAAAAAAAAAAAAAAAAAAAAAAAAAAAAAAAAAAAAAAAAAAAAAAAAAAAAAAAAAAAAAAAAAAAAAAAAAAAAAAAAAAAAAAAAAAAAAAAAAAAAAAAAAAAAAAAAAAAAAAAAAAAAAAAAAAAAAAAAAAAAAAAAAAAAAAAAAAAAAAAAAAAAAAAAAAAAAAAAAAAAAAAAAAAAAAAAAAAAAAAAAAAA8D8AAAAAAAAAAAAAAAAAAAAAAAAAAAAAAAAAAAAAAAAAAAAAAAAAAAAAAAAAAAAAAAAAAAAAAAAAAAAAAAAAAAAAAAAAAAAAAAAAAAAAAAAAAAAAAAAAAAAAAAAAAAAAAAAAAAAAAAAAAAAAAAAAAAAAAAAAAAAAAAAAAAAAAAAAAAAAAAAAAAAAAAAAAAAAAAAAAAAAAAAAAAAAAAAAAAAAAAAAAAAAAAAAAAAAAAAAAAAAAAAAAAAAAAAAAAAAAAAAAAAAAAAAAAAAAAAAAAAAAAAAAAAAAAAAAAAAAAAAAAAAAAAAAAAAAAAAAAAAAAAAAAAAAADwPwAAAAAAAAAAAAAAAAAAAAAAAAAAAAAAAAAAAAAAAAAAAAAAAAAAAAAAAAAAAAAAAAAAAAAAAAAAAAAAAAAAAAAAAAAAAAAAAAAAAAAAAAAAAAAAAAAAAAAAAAAAAAAAAAAAAAAAAAAAAAAAAAAAAAAAAAAAAAAAAAAAAAAAAAAAAAAAAAAAAAAAAAAAAAAAAAAAAAAAAAAAAAAAAAAAAAAAAAAAAAAAAAAAAAAAAAAAAAAAAAAAAAAAAAAAAAAAAAAAAAAAAAAAAAAAAAAAAAAAAAAAAAAAAAAAAAAAAAAAAAAAAAAAAAAAAAAAAAAAAAAAAAAAAAAAAAAAAAAAAAAAAAAAAAAAAAAAAAAAAAAAAAAAAAAAAAAAAAAAAAAAAAAAAAAAAAAAAAAAAAAAAAAAAAAAAAAAAAAAAAAAAAAAAAAAAAAAAAAAAAAAAAAAAAAAAAAAAAAAAAAAAAAAAAAAAAAAAAAAAAAAAAAAAAAAAAAAAAAAAAAAAAAAAADwPwAAAAAAAAAAAAAAAAAAAAAAAAAAAAAAAAAAAAAAAAAAAAAAAAAAAAAAAAAAAAAAAAAAAAAAAAAAAAAAAAAAAAAAAAAAAAAAAAAAAAAAAAAAAAAAAAAAAAAAAAAAAAAAAAAAAAAAAAAAAAAAAAAAAAAAAAAAAAAAAAAAAAAAAAAAAAAAAAAAAAAAAAAAAAAAAAAAAAAAAAAAAAAAAAAAAAAAAAAAAAAAAAAAAAAAAAAAAAAAAAAAAAAAAAAAAAAAAAAAAAAAAAAAAAAAAAAAAAAAAAAAAAAAAAAAAAAAAAAAAAAAAAAAAAAAAAAAAAAAAAAAAAAAAAAAAAAAAAAAAAAAAAAAAAAAAAAAAAAAAAAAAAAAAAAAAAAAAAAAAAAAAAAAAAAAAAAAAAAAAAAAAAAAAAAAAAAAAAAAAAAAAAAAAAAAAAAAAAAAAAAAAAAAAAAAAAAAAPA/AAAAAAAAAAAAAAAAAAAAAAAAAAAAAAAAAAAAAAAAAAAAAAAAAAAAAAAAAAAAAAAAAAAAAAAAAAAAAAAAAAAAAAAAAAAAAAAAAAAAAAAAAAAAAAAAAAAAAAAAAAAAAAAAAAAAAAAAAAAAAAAAAAAAAAAAAAAAAAAAAAAAAAAAAAAAAAAAAAAAAAAAAAAAAAAAAAAAAAAAAAAAAAAAAAAAAAAAAAAAAAAAAAAAAAAAAAAAAAAAAAAAAAAAAAAAAAAAAAAAAAAAAAAAAAAAAAAAAAAAAAAAAAAAAAAAAAAAAAAAAAAAAAAAAAAAAAAAAPA/AAAAAAAAAAAAAAAAAAAAAAAAAAAAAAAAAAAAAAAAAAAAAAAAAAAAAAAAAAAAAAAAAAAAAAAAAAAAAAAAAAAAAAAAAAAAAAAAAAAAAAAAAAAAAAAAAAAAAAAAAAAAAAAAAAAAAAAAAAAAAAAAAAAAAAAAAAAAAAAAAAAAAAAAAAAAAAAAAAAAAAAAAAAAAAAAAAAAAAAAAAAAAAAAAAAAAAAAAAAAAAAAAAAAAAAAAAAAAAAAAAAAAAAAAAAAAAAAAAAAAAAAAAAAAAAAAAAAAAAAAAAAAAAAAAAAAAAAAAAAAAAAAAAAAAAAAAAAAAAAAAAAAAAAAAAAAAAAAAAAAAAAAAAAAAAAAAAAAAAAAAAAAAAAAADwPwAAAAAAAAAAAAAAAAAAAAAAAAAAAAAAAAAAAAAAAAAAAAAAAAAAAAAAAAAAAAAAAAAAAAAAAAAAAAAAAAAAAAAAAAAAAAAAAAAAAAAAAAAAAAAAAAAAAAAAAAAAAAAAAAAAAAAAAAAAAAAAAAAAAAAAAAAAAAAAAAAAAAAAAPA/AAAAAAAAAAAAAAAAAAAAAAAAAAAAAAAAAAAAAAAAAAAAAAAAAAAAAAAAAAAAAAAAAAAAAAAAAAAAAAAAAAAAAAAAAAAAAAAAAAAAAAAAAAAAAAAAAAAAAAAAAAAAAAAAAAAAAAAAAAAAAAAAAAAAAAAAAAAAAAAAAAAAAAAAAAAAAAAAAAAAAAAAAAAAAAAAAAAAAAAAAAAAAAAAAAAAAAAAAAAAAAAAAAAAAAAAAAAAAAAAAAAAAAAAAAAAAAAAAAAAAAAAAAAAAAAAAAAAAAAAAAAAAAAAAAAAAAAAAAAAAAAAAAAAAAAAAAAAAAAAAAAAAAAAAAAAAAAAAAAAAAAAAAAAAAAAAAAAAAAAAAAAAAAAAAAAAAAAAAAAAPA/AAAAAAAAAAAAAAAAAAAAAAAAAAAAAAAAAAAAAAAAAAAAAAAAAADwPwAAAAAAAAAAAAAAAAAAAAAAAAAAAAAAAAAAAAAAAAAAAAAAAAAAAAAAAAAAAAAAAAAAAAAAAAAAAAAAAAAAAAAAAAAAAADwPwAAAAAAAAAAAAAAAAAAAAAAAAAAAAAAAAAAAAAAAAAAAAAAAAAAAAAAAAAAAAAAAAAAAAAAAAAAAAAAAAAAAAAAAAAAAAAAAAAAAAAAAAAAAAAAAAAAAAAAAAAAAAAAAAAAAAAAAAAAAAAAAAAAAAAAAAAAAAAAAAAAAAAAAAAAAAAAAAAAAAAAAAAAAAAAAAAAAAAAAAAAAAAAAAAAAAAAAAAAAAAAAAAAAAAAAAAAAAAAAAAA8D8AAAAAAAAAAAAAAAAAAAAAAAAAAAAAAAAAAAAAAAAAAAAAAAAAAAAAAAAAAAAAAAAAAAAAAAAAAAAAAAAAAAAAAAAAAAAAAAAAAAAAAAAAAAAAAAAAAAAAAAAAAAAAAAAAAAAAAAAAAAAAAAAAAAAAAAAAAAAAAAAAAAAAAAAAAAAAAAAAAAAAAAAAAAAAAAAAAAAAAAAAAAAAAAAAAPA/AAAAAAAAAAAAAAAAAAAAAAAAAAAAAAAAAAAAAAAAAAAAAAAAAAAAAAAAAAAAAAAAAAAAAAAAAAAAAAAAAAAAAAAAAAAAAAAAAAAAAAAAAAAAAAAAAAAAAAAAAAAAAAAAAAAAAAAAAAAAAAAAAAAAAAAAAAAAAAAAAAAAAAAAAAAAAAAAAAAAAAAAAAAAAAAAAAAAAAAAAAAAAAAAAAAAAAAAAAAAAAAAAAAAAAAAAAAAAAAAAAAAAAAAAAAAAAAAAAAAAAAAAAAAAAAAAAAAAAAAAAAAAAAAAAAAAAAAAAAAAAAAAAAAAAAAAAAAAAAAAAAAAAAAAAAAAAAAAAAAAAAAAAAAAAAAAAAAAAAA8D8AAAAAAAAAAAAAAAAAAAAAAAAAAAAAAAAAAAAAAAAAAAAAAAAAAAAAAAAAAAAAAAAAAAAAAAAAAAAAAAAAAAAAAAAAAAAAAAAAAAAAAAAAAAAAAAAAAAAAAAAAAAAAAAAAAAAAAAAAAAAAAAAAAAAAAAAAAAAAAAAAAAAAAAAAAAAAAAAAAAAAAAAAAAAAAAAAAAAAAAAAAAAAAAAAAAAAAAAAAAAAAAAAAAAAAAAAAAAAAAAAAAAAAAAAAAAAAAAAAAAAAAAAAAAAAAAAAAAAAAAAAAAAAAAAAAAAAAAAAAAAAAAAAAAAAAAAAAAAAAAAAAAAAADwPwAAAAAAAAAAAAAAAAAAAAAAAAAAAAAAAAAAAAAAAAAAAAAAAAAAAAAAAAAAAAAAAAAAAAAAAAAAAAAAAAAAAAAAAAAAAAAAAAAAAAAAAAAAAAAAAAAAAAAAAAAAAAAAAAAAAAAAAAAAAAAAAAAAAAAAAAAAAAAAAAAAAAAAAAAAAAAAAAAAAAAAAAAAAAAAAAAAAAAAAAAAAAAAAAAAAAAAAAAAAAAAAAAAAAAAAAAAAAAAAAAAAAAAAAAAAAAAAAAAAAAAAAAAAAAAAAAAAAAAAAAAAAAAAAAAAAAAAAAAAAAAAAAAAAAAAAAAAAAAAAAAAAAAAAAAAAAAAAAAAAAAAAAAAAAAAAAAAAAAAAAAAAAAAAAAAAAAAAAAAAAAAAAAAAAAAAAAAAAAAAAAAAAAAAAAAAAAAAAAAAAAAAAAAAAAAAAAAAAAAAAAAADwPwAAAAAAAAAAAAAAAAAAAAAAAAAAAAAAAAAAAAAAAAAAAAAAAAAAAAAAAAAAAAAAAAAAAAAAAAAAAAAAAAAAAAAAAAAAAAAAAAAAAAAAAAAAAAAAAAAAAAAAAAAAAAAAAAAAAAAAAAAAAAAAAAAAAAAAAAAAAAAAAAAAAAAAAAAAAAAAAAAAAAAAAAAAAAAAAAAAAAAAAAAAAAAAAAAAAAAAAAAAAAAAAAAAAAAAAPA/AAAAAAAAAAAAAAAAAAAAAAAAAAAAAAAAAAAAAAAAAAAAAAAAAAAAAAAAAAAAAAAAAAAAAAAAAAAAAAAAAAAAAAAAAAAAAAAAAAAAAAAAAAAAAAAAAAAAAAAAAAAAAAAAAAAAAAAAAAAAAAAAAADwPwAAAAAAAAAAAAAAAAAAAAAAAAAAAAAAAAAAAAAAAAAAAAAAAAAAAAAAAAAAAAAAAAAAAAAAAAAAAAAAAAAAAAAAAAAAAAAAAAAAAAAAAAAAAAAAAAAAAAAAAAAAAAAAAAAAAAAAAAAAAAAAAAAAAAAAAAAAAAAAAAAAAAAAAAAAAAAAAAAAAAAAAAAAAAAAAAAAAAAAAAAAAAAAAAAAAAAAAAAAAAAAAAAAAAAAAAAAAAAAAAAAAAAAAAAAAAAAAAAAAAAAAAAAAAAAAAAAAAAAAAAAAAAAAAAAAAAAAAAAAAAAAAAAAAAAAAAAAAAAAAAAAAAAAAAAAAAAAAAAAAAAAAAAAADwPwAAAAAAAAAAAAAAAAAAAAAAAAAAAAAAAAAAAAAAAAAAAAAAAAAAAAAAAAAAAAAAAAAAAAAAAAAAAAAAAAAAAAAAAAAAAAAAAAAAAAAAAAAAAAAAAAAAAAAAAAAAAAAAAAAAAAAAAAAAAAAAAAAAAAAAAAAAAADwPwAAAAAAAAAAAAAAAAAAAAAAAAAAAAAAAAAAAAAAAAAAAAAAAAAAAAAAAAAAAAAAAAAAAAAAAAAAAAAAAAAAAAAAAAAAAAAAAAAAAAAAAAAAAAAAAAAAAAAAAAAAAAAAAAAAAAAAAAAAAAAAAAAAAAAAAAAAAAAAAAAAAAAAAAAAAAAAAAAAAAAAAAAAAAAAAAAAAAAAAAAAAAAAAAAAAAAAAAAAAAAAAAAAAAAAAAAAAAAAAAAAAAAAAAAAAAAAAAAAAAAAAAAAAAAAAAAAAAAAAAAAAAAAAAAAAAAAAAAAAAAAAAAAAAAAAAAAAAAAAAAAAAAAAAAAAAAAAAAAAAAAAAAAAAAAAAAAAAAAAAAAAAAAAAAA8D8AAAAAAAAAAAAAAAAAAAAAAAAAAAAAAAAAAAAAAAAAAAAAAAAAAAAAAAAAAAAAAAAAAAAAAAAAAAAAAAAAAAAAAAAAAAAAAAAAAAAAAAAAAAAAAAAAAAAAAAAAAAAAAAAAAAAAAAAAAAAAAAAAAAAAAAAAAAAAAAAAAAAAAAAAAAAAAAAAAAAAAAAAAAAAAAAAAAAAAAAAAAAAAAAAAAAAAAAAAAAAAAAAAAAAAAAAAAAAAAAAAAAAAAAAAAAAAAAAAAAAAAAAAAAAAAAAAAAAAAAAAAAAAAAAAAAAAAAAAAAAAAAAAAAAAAAAAAAAAAAAAAAAAAAAAAAAAAAAAAAAAAAAAAAAAAAAAAAAAAAAAAAAAAAAAAAAAAAAAAAAAAAAAAAAAAAAAAAAAAAAAAAAAAAAAAAAAAAAAAAAAAAAAAAAAAAAAAAAAAAAAAAAAAAAAAAAAAAAAAAAAAAAAAAAAAAAAAAAAAAAAAAAAAAAAAAAAAAAAAAAAAAAAAAAAAAAAAAAAAAAAAAAAAAAAAAAAAAAAAAAAAAAAAAAAAAAAAAAAAAAAAAAAAAAAAAAAAAAAAAAAAAAAAAAAAAAAPA/AAAAAAAAAAAAAAAAAAAAAAAAAAAAAAAAAAAAAAAAAAAAAAAAAAAAAAAAAAAAAAAAAAAAAAAAAAAAAAAAAAAAAAAAAAAAAAAAAAAAAAAAAAAAAAAAAAAAAAAAAAAAAAAAAAAAAAAAAAAAAAAAAAAAAAAAAAAAAAAAAAAAAAAAAAAAAAAAAAAAAAAAAAAAAAAAAAAAAAAAAAAAAAAAAAAAAAAAAAAAAAAAAAAAAAAAAAAAAAAAAAAAAAAAAAAAAAAAAAAAAAAAAAAAAAAAAAAAAAAAAAAAAAAAAAAAAAAAAAAAAAAAAAAAAAAAAAAAAAAAAAAAAAAAAAAAAAAAAADwPwAAAAAAAAAAAAAAAAAAAAAAAAAAAAAAAAAAAAAAAAAAAAAAAAAAAAAAAAAAAAAAAAAAAAAAAAAAAAAAAAAAAAAAAAAAAAAAAAAAAAAAAAAAAAAAAAAAAAAAAAAAAAAAAAAAAAAAAAAAAAAAAAAAAAAAAAAAAAAAAAAAAAAAAAAAAAAAAAAAAAAAAAAAAAAAAAAAAAAAAAAAAAAAAAAAAAAAAAAAAAAAAAAAAAAAAAAAAAAAAAAA8D8AAAAAAAAAAAAAAAAAAAAAAAAAAAAAAAAAAAAAAAAAAAAAAAAAAAAAAAAAAAAAAAAAAAAAAAAAAAAAAAAAAAAAAAAAAAAAAAAAAAAAAAAAAAAAAAAAAAAAAAAAAAAAAAAAAAAAAAAAAAAAAAAAAAAAAAAAAAAAAAAAAAAAAAAAAAAAAAAAAAAAAAAAAAAAAAAAAAAAAAAAAAAAAAAAAAAAAAAAAAAAAAAAAAAAAAAAAAAAAAAAAAAAAAAAAAAAAAA=\",\"dtype\":\"float64\",\"shape\":[1225]},\"xname\":[\"topology.dependencies/dependencies\",\"topology.dependencies/dependencies\",\"topology.dependencies/dependencies\",\"topology.dependencies/dependencies\",\"topology.dependencies/dependencies\",\"topology.dependencies/dependencies\",\"topology.dependencies/dependencies\",\"topology.dependencies/dependencies\",\"topology.dependencies/dependencies\",\"topology.dependencies/dependencies\",\"topology.dependencies/dependencies\",\"topology.dependencies/dependencies\",\"topology.dependencies/dependencies\",\"topology.dependencies/dependencies\",\"topology.dependencies/dependencies\",\"topology.dependencies/dependencies\",\"topology.dependencies/dependencies\",\"topology.dependencies/dependencies\",\"topology.dependencies/dependencies\",\"topology.dependencies/dependencies\",\"topology.dependencies/dependencies\",\"topology.dependencies/dependencies\",\"topology.dependencies/dependencies\",\"topology.dependencies/dependencies\",\"topology.dependencies/dependencies\",\"topology.dependencies/dependencies\",\"topology.dependencies/dependencies\",\"topology.dependencies/dependencies\",\"topology.dependencies/dependencies\",\"topology.dependencies/dependencies\",\"topology.dependencies/dependencies\",\"topology.dependencies/dependencies\",\"topology.dependencies/dependencies\",\"topology.dependencies/dependencies\",\"topology.dependencies/dependencies\",\"topology.edgelist-test/syntax-quotes-add-seq-concat-list\",\"topology.edgelist-test/syntax-quotes-add-seq-concat-list\",\"topology.edgelist-test/syntax-quotes-add-seq-concat-list\",\"topology.edgelist-test/syntax-quotes-add-seq-concat-list\",\"topology.edgelist-test/syntax-quotes-add-seq-concat-list\",\"topology.edgelist-test/syntax-quotes-add-seq-concat-list\",\"topology.edgelist-test/syntax-quotes-add-seq-concat-list\",\"topology.edgelist-test/syntax-quotes-add-seq-concat-list\",\"topology.edgelist-test/syntax-quotes-add-seq-concat-list\",\"topology.edgelist-test/syntax-quotes-add-seq-concat-list\",\"topology.edgelist-test/syntax-quotes-add-seq-concat-list\",\"topology.edgelist-test/syntax-quotes-add-seq-concat-list\",\"topology.edgelist-test/syntax-quotes-add-seq-concat-list\",\"topology.edgelist-test/syntax-quotes-add-seq-concat-list\",\"topology.edgelist-test/syntax-quotes-add-seq-concat-list\",\"topology.edgelist-test/syntax-quotes-add-seq-concat-list\",\"topology.edgelist-test/syntax-quotes-add-seq-concat-list\",\"topology.edgelist-test/syntax-quotes-add-seq-concat-list\",\"topology.edgelist-test/syntax-quotes-add-seq-concat-list\",\"topology.edgelist-test/syntax-quotes-add-seq-concat-list\",\"topology.edgelist-test/syntax-quotes-add-seq-concat-list\",\"topology.edgelist-test/syntax-quotes-add-seq-concat-list\",\"topology.edgelist-test/syntax-quotes-add-seq-concat-list\",\"topology.edgelist-test/syntax-quotes-add-seq-concat-list\",\"topology.edgelist-test/syntax-quotes-add-seq-concat-list\",\"topology.edgelist-test/syntax-quotes-add-seq-concat-list\",\"topology.edgelist-test/syntax-quotes-add-seq-concat-list\",\"topology.edgelist-test/syntax-quotes-add-seq-concat-list\",\"topology.edgelist-test/syntax-quotes-add-seq-concat-list\",\"topology.edgelist-test/syntax-quotes-add-seq-concat-list\",\"topology.edgelist-test/syntax-quotes-add-seq-concat-list\",\"topology.edgelist-test/syntax-quotes-add-seq-concat-list\",\"topology.edgelist-test/syntax-quotes-add-seq-concat-list\",\"topology.edgelist-test/syntax-quotes-add-seq-concat-list\",\"topology.edgelist-test/syntax-quotes-add-seq-concat-list\",\"topology.dependencies-test/should-compute-fn-calls-in-namespace\",\"topology.dependencies-test/should-compute-fn-calls-in-namespace\",\"topology.dependencies-test/should-compute-fn-calls-in-namespace\",\"topology.dependencies-test/should-compute-fn-calls-in-namespace\",\"topology.dependencies-test/should-compute-fn-calls-in-namespace\",\"topology.dependencies-test/should-compute-fn-calls-in-namespace\",\"topology.dependencies-test/should-compute-fn-calls-in-namespace\",\"topology.dependencies-test/should-compute-fn-calls-in-namespace\",\"topology.dependencies-test/should-compute-fn-calls-in-namespace\",\"topology.dependencies-test/should-compute-fn-calls-in-namespace\",\"topology.dependencies-test/should-compute-fn-calls-in-namespace\",\"topology.dependencies-test/should-compute-fn-calls-in-namespace\",\"topology.dependencies-test/should-compute-fn-calls-in-namespace\",\"topology.dependencies-test/should-compute-fn-calls-in-namespace\",\"topology.dependencies-test/should-compute-fn-calls-in-namespace\",\"topology.dependencies-test/should-compute-fn-calls-in-namespace\",\"topology.dependencies-test/should-compute-fn-calls-in-namespace\",\"topology.dependencies-test/should-compute-fn-calls-in-namespace\",\"topology.dependencies-test/should-compute-fn-calls-in-namespace\",\"topology.dependencies-test/should-compute-fn-calls-in-namespace\",\"topology.dependencies-test/should-compute-fn-calls-in-namespace\",\"topology.dependencies-test/should-compute-fn-calls-in-namespace\",\"topology.dependencies-test/should-compute-fn-calls-in-namespace\",\"topology.dependencies-test/should-compute-fn-calls-in-namespace\",\"topology.dependencies-test/should-compute-fn-calls-in-namespace\",\"topology.dependencies-test/should-compute-fn-calls-in-namespace\",\"topology.dependencies-test/should-compute-fn-calls-in-namespace\",\"topology.dependencies-test/should-compute-fn-calls-in-namespace\",\"topology.dependencies-test/should-compute-fn-calls-in-namespace\",\"topology.dependencies-test/should-compute-fn-calls-in-namespace\",\"topology.dependencies-test/should-compute-fn-calls-in-namespace\",\"topology.dependencies-test/should-compute-fn-calls-in-namespace\",\"topology.dependencies-test/should-compute-fn-calls-in-namespace\",\"topology.dependencies-test/should-compute-fn-calls-in-namespace\",\"topology.dependencies-test/should-compute-fn-calls-in-namespace\",\"leiningen.topology/topology\",\"leiningen.topology/topology\",\"leiningen.topology/topology\",\"leiningen.topology/topology\",\"leiningen.topology/topology\",\"leiningen.topology/topology\",\"leiningen.topology/topology\",\"leiningen.topology/topology\",\"leiningen.topology/topology\",\"leiningen.topology/topology\",\"leiningen.topology/topology\",\"leiningen.topology/topology\",\"leiningen.topology/topology\",\"leiningen.topology/topology\",\"leiningen.topology/topology\",\"leiningen.topology/topology\",\"leiningen.topology/topology\",\"leiningen.topology/topology\",\"leiningen.topology/topology\",\"leiningen.topology/topology\",\"leiningen.topology/topology\",\"leiningen.topology/topology\",\"leiningen.topology/topology\",\"leiningen.topology/topology\",\"leiningen.topology/topology\",\"leiningen.topology/topology\",\"leiningen.topology/topology\",\"leiningen.topology/topology\",\"leiningen.topology/topology\",\"leiningen.topology/topology\",\"leiningen.topology/topology\",\"leiningen.topology/topology\",\"leiningen.topology/topology\",\"leiningen.topology/topology\",\"leiningen.topology/topology\",\"topology.finder/find-sources-in-dir\",\"topology.finder/find-sources-in-dir\",\"topology.finder/find-sources-in-dir\",\"topology.finder/find-sources-in-dir\",\"topology.finder/find-sources-in-dir\",\"topology.finder/find-sources-in-dir\",\"topology.finder/find-sources-in-dir\",\"topology.finder/find-sources-in-dir\",\"topology.finder/find-sources-in-dir\",\"topology.finder/find-sources-in-dir\",\"topology.finder/find-sources-in-dir\",\"topology.finder/find-sources-in-dir\",\"topology.finder/find-sources-in-dir\",\"topology.finder/find-sources-in-dir\",\"topology.finder/find-sources-in-dir\",\"topology.finder/find-sources-in-dir\",\"topology.finder/find-sources-in-dir\",\"topology.finder/find-sources-in-dir\",\"topology.finder/find-sources-in-dir\",\"topology.finder/find-sources-in-dir\",\"topology.finder/find-sources-in-dir\",\"topology.finder/find-sources-in-dir\",\"topology.finder/find-sources-in-dir\",\"topology.finder/find-sources-in-dir\",\"topology.finder/find-sources-in-dir\",\"topology.finder/find-sources-in-dir\",\"topology.finder/find-sources-in-dir\",\"topology.finder/find-sources-in-dir\",\"topology.finder/find-sources-in-dir\",\"topology.finder/find-sources-in-dir\",\"topology.finder/find-sources-in-dir\",\"topology.finder/find-sources-in-dir\",\"topology.finder/find-sources-in-dir\",\"topology.finder/find-sources-in-dir\",\"topology.finder/find-sources-in-dir\",\"topology.finder/clojurescript-file?\",\"topology.finder/clojurescript-file?\",\"topology.finder/clojurescript-file?\",\"topology.finder/clojurescript-file?\",\"topology.finder/clojurescript-file?\",\"topology.finder/clojurescript-file?\",\"topology.finder/clojurescript-file?\",\"topology.finder/clojurescript-file?\",\"topology.finder/clojurescript-file?\",\"topology.finder/clojurescript-file?\",\"topology.finder/clojurescript-file?\",\"topology.finder/clojurescript-file?\",\"topology.finder/clojurescript-file?\",\"topology.finder/clojurescript-file?\",\"topology.finder/clojurescript-file?\",\"topology.finder/clojurescript-file?\",\"topology.finder/clojurescript-file?\",\"topology.finder/clojurescript-file?\",\"topology.finder/clojurescript-file?\",\"topology.finder/clojurescript-file?\",\"topology.finder/clojurescript-file?\",\"topology.finder/clojurescript-file?\",\"topology.finder/clojurescript-file?\",\"topology.finder/clojurescript-file?\",\"topology.finder/clojurescript-file?\",\"topology.finder/clojurescript-file?\",\"topology.finder/clojurescript-file?\",\"topology.finder/clojurescript-file?\",\"topology.finder/clojurescript-file?\",\"topology.finder/clojurescript-file?\",\"topology.finder/clojurescript-file?\",\"topology.finder/clojurescript-file?\",\"topology.finder/clojurescript-file?\",\"topology.finder/clojurescript-file?\",\"topology.finder/clojurescript-file?\",\"topology.edgelist-test/should-produce-weighted-edges-for-multiple-calls\",\"topology.edgelist-test/should-produce-weighted-edges-for-multiple-calls\",\"topology.edgelist-test/should-produce-weighted-edges-for-multiple-calls\",\"topology.edgelist-test/should-produce-weighted-edges-for-multiple-calls\",\"topology.edgelist-test/should-produce-weighted-edges-for-multiple-calls\",\"topology.edgelist-test/should-produce-weighted-edges-for-multiple-calls\",\"topology.edgelist-test/should-produce-weighted-edges-for-multiple-calls\",\"topology.edgelist-test/should-produce-weighted-edges-for-multiple-calls\",\"topology.edgelist-test/should-produce-weighted-edges-for-multiple-calls\",\"topology.edgelist-test/should-produce-weighted-edges-for-multiple-calls\",\"topology.edgelist-test/should-produce-weighted-edges-for-multiple-calls\",\"topology.edgelist-test/should-produce-weighted-edges-for-multiple-calls\",\"topology.edgelist-test/should-produce-weighted-edges-for-multiple-calls\",\"topology.edgelist-test/should-produce-weighted-edges-for-multiple-calls\",\"topology.edgelist-test/should-produce-weighted-edges-for-multiple-calls\",\"topology.edgelist-test/should-produce-weighted-edges-for-multiple-calls\",\"topology.edgelist-test/should-produce-weighted-edges-for-multiple-calls\",\"topology.edgelist-test/should-produce-weighted-edges-for-multiple-calls\",\"topology.edgelist-test/should-produce-weighted-edges-for-multiple-calls\",\"topology.edgelist-test/should-produce-weighted-edges-for-multiple-calls\",\"topology.edgelist-test/should-produce-weighted-edges-for-multiple-calls\",\"topology.edgelist-test/should-produce-weighted-edges-for-multiple-calls\",\"topology.edgelist-test/should-produce-weighted-edges-for-multiple-calls\",\"topology.edgelist-test/should-produce-weighted-edges-for-multiple-calls\",\"topology.edgelist-test/should-produce-weighted-edges-for-multiple-calls\",\"topology.edgelist-test/should-produce-weighted-edges-for-multiple-calls\",\"topology.edgelist-test/should-produce-weighted-edges-for-multiple-calls\",\"topology.edgelist-test/should-produce-weighted-edges-for-multiple-calls\",\"topology.edgelist-test/should-produce-weighted-edges-for-multiple-calls\",\"topology.edgelist-test/should-produce-weighted-edges-for-multiple-calls\",\"topology.edgelist-test/should-produce-weighted-edges-for-multiple-calls\",\"topology.edgelist-test/should-produce-weighted-edges-for-multiple-calls\",\"topology.edgelist-test/should-produce-weighted-edges-for-multiple-calls\",\"topology.edgelist-test/should-produce-weighted-edges-for-multiple-calls\",\"topology.edgelist-test/should-produce-weighted-edges-for-multiple-calls\",\"topology.dependencies/ns->fn-dep-map\",\"topology.dependencies/ns->fn-dep-map\",\"topology.dependencies/ns->fn-dep-map\",\"topology.dependencies/ns->fn-dep-map\",\"topology.dependencies/ns->fn-dep-map\",\"topology.dependencies/ns->fn-dep-map\",\"topology.dependencies/ns->fn-dep-map\",\"topology.dependencies/ns->fn-dep-map\",\"topology.dependencies/ns->fn-dep-map\",\"topology.dependencies/ns->fn-dep-map\",\"topology.dependencies/ns->fn-dep-map\",\"topology.dependencies/ns->fn-dep-map\",\"topology.dependencies/ns->fn-dep-map\",\"topology.dependencies/ns->fn-dep-map\",\"topology.dependencies/ns->fn-dep-map\",\"topology.dependencies/ns->fn-dep-map\",\"topology.dependencies/ns->fn-dep-map\",\"topology.dependencies/ns->fn-dep-map\",\"topology.dependencies/ns->fn-dep-map\",\"topology.dependencies/ns->fn-dep-map\",\"topology.dependencies/ns->fn-dep-map\",\"topology.dependencies/ns->fn-dep-map\",\"topology.dependencies/ns->fn-dep-map\",\"topology.dependencies/ns->fn-dep-map\",\"topology.dependencies/ns->fn-dep-map\",\"topology.dependencies/ns->fn-dep-map\",\"topology.dependencies/ns->fn-dep-map\",\"topology.dependencies/ns->fn-dep-map\",\"topology.dependencies/ns->fn-dep-map\",\"topology.dependencies/ns->fn-dep-map\",\"topology.dependencies/ns->fn-dep-map\",\"topology.dependencies/ns->fn-dep-map\",\"topology.dependencies/ns->fn-dep-map\",\"topology.dependencies/ns->fn-dep-map\",\"topology.dependencies/ns->fn-dep-map\",\"topology.printer/print-weighted-edges\",\"topology.printer/print-weighted-edges\",\"topology.printer/print-weighted-edges\",\"topology.printer/print-weighted-edges\",\"topology.printer/print-weighted-edges\",\"topology.printer/print-weighted-edges\",\"topology.printer/print-weighted-edges\",\"topology.printer/print-weighted-edges\",\"topology.printer/print-weighted-edges\",\"topology.printer/print-weighted-edges\",\"topology.printer/print-weighted-edges\",\"topology.printer/print-weighted-edges\",\"topology.printer/print-weighted-edges\",\"topology.printer/print-weighted-edges\",\"topology.printer/print-weighted-edges\",\"topology.printer/print-weighted-edges\",\"topology.printer/print-weighted-edges\",\"topology.printer/print-weighted-edges\",\"topology.printer/print-weighted-edges\",\"topology.printer/print-weighted-edges\",\"topology.printer/print-weighted-edges\",\"topology.printer/print-weighted-edges\",\"topology.printer/print-weighted-edges\",\"topology.printer/print-weighted-edges\",\"topology.printer/print-weighted-edges\",\"topology.printer/print-weighted-edges\",\"topology.printer/print-weighted-edges\",\"topology.printer/print-weighted-edges\",\"topology.printer/print-weighted-edges\",\"topology.printer/print-weighted-edges\",\"topology.printer/print-weighted-edges\",\"topology.printer/print-weighted-edges\",\"topology.printer/print-weighted-edges\",\"topology.printer/print-weighted-edges\",\"topology.printer/print-weighted-edges\",\"clojure.core/println\",\"clojure.core/println\",\"clojure.core/println\",\"clojure.core/println\",\"clojure.core/println\",\"clojure.core/println\",\"clojure.core/println\",\"clojure.core/println\",\"clojure.core/println\",\"clojure.core/println\",\"clojure.core/println\",\"clojure.core/println\",\"clojure.core/println\",\"clojure.core/println\",\"clojure.core/println\",\"clojure.core/println\",\"clojure.core/println\",\"clojure.core/println\",\"clojure.core/println\",\"clojure.core/println\",\"clojure.core/println\",\"clojure.core/println\",\"clojure.core/println\",\"clojure.core/println\",\"clojure.core/println\",\"clojure.core/println\",\"clojure.core/println\",\"clojure.core/println\",\"clojure.core/println\",\"clojure.core/println\",\"clojure.core/println\",\"clojure.core/println\",\"clojure.core/println\",\"clojure.core/println\",\"clojure.core/println\",\"topology.symbols/seq-map-zip\",\"topology.symbols/seq-map-zip\",\"topology.symbols/seq-map-zip\",\"topology.symbols/seq-map-zip\",\"topology.symbols/seq-map-zip\",\"topology.symbols/seq-map-zip\",\"topology.symbols/seq-map-zip\",\"topology.symbols/seq-map-zip\",\"topology.symbols/seq-map-zip\",\"topology.symbols/seq-map-zip\",\"topology.symbols/seq-map-zip\",\"topology.symbols/seq-map-zip\",\"topology.symbols/seq-map-zip\",\"topology.symbols/seq-map-zip\",\"topology.symbols/seq-map-zip\",\"topology.symbols/seq-map-zip\",\"topology.symbols/seq-map-zip\",\"topology.symbols/seq-map-zip\",\"topology.symbols/seq-map-zip\",\"topology.symbols/seq-map-zip\",\"topology.symbols/seq-map-zip\",\"topology.symbols/seq-map-zip\",\"topology.symbols/seq-map-zip\",\"topology.symbols/seq-map-zip\",\"topology.symbols/seq-map-zip\",\"topology.symbols/seq-map-zip\",\"topology.symbols/seq-map-zip\",\"topology.symbols/seq-map-zip\",\"topology.symbols/seq-map-zip\",\"topology.symbols/seq-map-zip\",\"topology.symbols/seq-map-zip\",\"topology.symbols/seq-map-zip\",\"topology.symbols/seq-map-zip\",\"topology.symbols/seq-map-zip\",\"topology.symbols/seq-map-zip\",\"topology.edgelist/interleave-keys\",\"topology.edgelist/interleave-keys\",\"topology.edgelist/interleave-keys\",\"topology.edgelist/interleave-keys\",\"topology.edgelist/interleave-keys\",\"topology.edgelist/interleave-keys\",\"topology.edgelist/interleave-keys\",\"topology.edgelist/interleave-keys\",\"topology.edgelist/interleave-keys\",\"topology.edgelist/interleave-keys\",\"topology.edgelist/interleave-keys\",\"topology.edgelist/interleave-keys\",\"topology.edgelist/interleave-keys\",\"topology.edgelist/interleave-keys\",\"topology.edgelist/interleave-keys\",\"topology.edgelist/interleave-keys\",\"topology.edgelist/interleave-keys\",\"topology.edgelist/interleave-keys\",\"topology.edgelist/interleave-keys\",\"topology.edgelist/interleave-keys\",\"topology.edgelist/interleave-keys\",\"topology.edgelist/interleave-keys\",\"topology.edgelist/interleave-keys\",\"topology.edgelist/interleave-keys\",\"topology.edgelist/interleave-keys\",\"topology.edgelist/interleave-keys\",\"topology.edgelist/interleave-keys\",\"topology.edgelist/interleave-keys\",\"topology.edgelist/interleave-keys\",\"topology.edgelist/interleave-keys\",\"topology.edgelist/interleave-keys\",\"topology.edgelist/interleave-keys\",\"topology.edgelist/interleave-keys\",\"topology.edgelist/interleave-keys\",\"topology.edgelist/interleave-keys\",\"topology.dependencies/interns\",\"topology.dependencies/interns\",\"topology.dependencies/interns\",\"topology.dependencies/interns\",\"topology.dependencies/interns\",\"topology.dependencies/interns\",\"topology.dependencies/interns\",\"topology.dependencies/interns\",\"topology.dependencies/interns\",\"topology.dependencies/interns\",\"topology.dependencies/interns\",\"topology.dependencies/interns\",\"topology.dependencies/interns\",\"topology.dependencies/interns\",\"topology.dependencies/interns\",\"topology.dependencies/interns\",\"topology.dependencies/interns\",\"topology.dependencies/interns\",\"topology.dependencies/interns\",\"topology.dependencies/interns\",\"topology.dependencies/interns\",\"topology.dependencies/interns\",\"topology.dependencies/interns\",\"topology.dependencies/interns\",\"topology.dependencies/interns\",\"topology.dependencies/interns\",\"topology.dependencies/interns\",\"topology.dependencies/interns\",\"topology.dependencies/interns\",\"topology.dependencies/interns\",\"topology.dependencies/interns\",\"topology.dependencies/interns\",\"topology.dependencies/interns\",\"topology.dependencies/interns\",\"topology.dependencies/interns\",\"topology.dependencies/sources\",\"topology.dependencies/sources\",\"topology.dependencies/sources\",\"topology.dependencies/sources\",\"topology.dependencies/sources\",\"topology.dependencies/sources\",\"topology.dependencies/sources\",\"topology.dependencies/sources\",\"topology.dependencies/sources\",\"topology.dependencies/sources\",\"topology.dependencies/sources\",\"topology.dependencies/sources\",\"topology.dependencies/sources\",\"topology.dependencies/sources\",\"topology.dependencies/sources\",\"topology.dependencies/sources\",\"topology.dependencies/sources\",\"topology.dependencies/sources\",\"topology.dependencies/sources\",\"topology.dependencies/sources\",\"topology.dependencies/sources\",\"topology.dependencies/sources\",\"topology.dependencies/sources\",\"topology.dependencies/sources\",\"topology.dependencies/sources\",\"topology.dependencies/sources\",\"topology.dependencies/sources\",\"topology.dependencies/sources\",\"topology.dependencies/sources\",\"topology.dependencies/sources\",\"topology.dependencies/sources\",\"topology.dependencies/sources\",\"topology.dependencies/sources\",\"topology.dependencies/sources\",\"topology.dependencies/sources\",\"clojure.repl/source-fn\",\"clojure.repl/source-fn\",\"clojure.repl/source-fn\",\"clojure.repl/source-fn\",\"clojure.repl/source-fn\",\"clojure.repl/source-fn\",\"clojure.repl/source-fn\",\"clojure.repl/source-fn\",\"clojure.repl/source-fn\",\"clojure.repl/source-fn\",\"clojure.repl/source-fn\",\"clojure.repl/source-fn\",\"clojure.repl/source-fn\",\"clojure.repl/source-fn\",\"clojure.repl/source-fn\",\"clojure.repl/source-fn\",\"clojure.repl/source-fn\",\"clojure.repl/source-fn\",\"clojure.repl/source-fn\",\"clojure.repl/source-fn\",\"clojure.repl/source-fn\",\"clojure.repl/source-fn\",\"clojure.repl/source-fn\",\"clojure.repl/source-fn\",\"clojure.repl/source-fn\",\"clojure.repl/source-fn\",\"clojure.repl/source-fn\",\"clojure.repl/source-fn\",\"clojure.repl/source-fn\",\"clojure.repl/source-fn\",\"clojure.repl/source-fn\",\"clojure.repl/source-fn\",\"clojure.repl/source-fn\",\"clojure.repl/source-fn\",\"clojure.repl/source-fn\",\"topology.edgelist-test/should-report-java-interop\",\"topology.edgelist-test/should-report-java-interop\",\"topology.edgelist-test/should-report-java-interop\",\"topology.edgelist-test/should-report-java-interop\",\"topology.edgelist-test/should-report-java-interop\",\"topology.edgelist-test/should-report-java-interop\",\"topology.edgelist-test/should-report-java-interop\",\"topology.edgelist-test/should-report-java-interop\",\"topology.edgelist-test/should-report-java-interop\",\"topology.edgelist-test/should-report-java-interop\",\"topology.edgelist-test/should-report-java-interop\",\"topology.edgelist-test/should-report-java-interop\",\"topology.edgelist-test/should-report-java-interop\",\"topology.edgelist-test/should-report-java-interop\",\"topology.edgelist-test/should-report-java-interop\",\"topology.edgelist-test/should-report-java-interop\",\"topology.edgelist-test/should-report-java-interop\",\"topology.edgelist-test/should-report-java-interop\",\"topology.edgelist-test/should-report-java-interop\",\"topology.edgelist-test/should-report-java-interop\",\"topology.edgelist-test/should-report-java-interop\",\"topology.edgelist-test/should-report-java-interop\",\"topology.edgelist-test/should-report-java-interop\",\"topology.edgelist-test/should-report-java-interop\",\"topology.edgelist-test/should-report-java-interop\",\"topology.edgelist-test/should-report-java-interop\",\"topology.edgelist-test/should-report-java-interop\",\"topology.edgelist-test/should-report-java-interop\",\"topology.edgelist-test/should-report-java-interop\",\"topology.edgelist-test/should-report-java-interop\",\"topology.edgelist-test/should-report-java-interop\",\"topology.edgelist-test/should-report-java-interop\",\"topology.edgelist-test/should-report-java-interop\",\"topology.edgelist-test/should-report-java-interop\",\"topology.edgelist-test/should-report-java-interop\",\"topology.qualifier/filter-fully-qualified\",\"topology.qualifier/filter-fully-qualified\",\"topology.qualifier/filter-fully-qualified\",\"topology.qualifier/filter-fully-qualified\",\"topology.qualifier/filter-fully-qualified\",\"topology.qualifier/filter-fully-qualified\",\"topology.qualifier/filter-fully-qualified\",\"topology.qualifier/filter-fully-qualified\",\"topology.qualifier/filter-fully-qualified\",\"topology.qualifier/filter-fully-qualified\",\"topology.qualifier/filter-fully-qualified\",\"topology.qualifier/filter-fully-qualified\",\"topology.qualifier/filter-fully-qualified\",\"topology.qualifier/filter-fully-qualified\",\"topology.qualifier/filter-fully-qualified\",\"topology.qualifier/filter-fully-qualified\",\"topology.qualifier/filter-fully-qualified\",\"topology.qualifier/filter-fully-qualified\",\"topology.qualifier/filter-fully-qualified\",\"topology.qualifier/filter-fully-qualified\",\"topology.qualifier/filter-fully-qualified\",\"topology.qualifier/filter-fully-qualified\",\"topology.qualifier/filter-fully-qualified\",\"topology.qualifier/filter-fully-qualified\",\"topology.qualifier/filter-fully-qualified\",\"topology.qualifier/filter-fully-qualified\",\"topology.qualifier/filter-fully-qualified\",\"topology.qualifier/filter-fully-qualified\",\"topology.qualifier/filter-fully-qualified\",\"topology.qualifier/filter-fully-qualified\",\"topology.qualifier/filter-fully-qualified\",\"topology.qualifier/filter-fully-qualified\",\"topology.qualifier/filter-fully-qualified\",\"topology.qualifier/filter-fully-qualified\",\"topology.qualifier/filter-fully-qualified\",\"leiningen.core.eval/eval-in-project\",\"leiningen.core.eval/eval-in-project\",\"leiningen.core.eval/eval-in-project\",\"leiningen.core.eval/eval-in-project\",\"leiningen.core.eval/eval-in-project\",\"leiningen.core.eval/eval-in-project\",\"leiningen.core.eval/eval-in-project\",\"leiningen.core.eval/eval-in-project\",\"leiningen.core.eval/eval-in-project\",\"leiningen.core.eval/eval-in-project\",\"leiningen.core.eval/eval-in-project\",\"leiningen.core.eval/eval-in-project\",\"leiningen.core.eval/eval-in-project\",\"leiningen.core.eval/eval-in-project\",\"leiningen.core.eval/eval-in-project\",\"leiningen.core.eval/eval-in-project\",\"leiningen.core.eval/eval-in-project\",\"leiningen.core.eval/eval-in-project\",\"leiningen.core.eval/eval-in-project\",\"leiningen.core.eval/eval-in-project\",\"leiningen.core.eval/eval-in-project\",\"leiningen.core.eval/eval-in-project\",\"leiningen.core.eval/eval-in-project\",\"leiningen.core.eval/eval-in-project\",\"leiningen.core.eval/eval-in-project\",\"leiningen.core.eval/eval-in-project\",\"leiningen.core.eval/eval-in-project\",\"leiningen.core.eval/eval-in-project\",\"leiningen.core.eval/eval-in-project\",\"leiningen.core.eval/eval-in-project\",\"leiningen.core.eval/eval-in-project\",\"leiningen.core.eval/eval-in-project\",\"leiningen.core.eval/eval-in-project\",\"leiningen.core.eval/eval-in-project\",\"leiningen.core.eval/eval-in-project\",\"topology.qualifier/all-fq\",\"topology.qualifier/all-fq\",\"topology.qualifier/all-fq\",\"topology.qualifier/all-fq\",\"topology.qualifier/all-fq\",\"topology.qualifier/all-fq\",\"topology.qualifier/all-fq\",\"topology.qualifier/all-fq\",\"topology.qualifier/all-fq\",\"topology.qualifier/all-fq\",\"topology.qualifier/all-fq\",\"topology.qualifier/all-fq\",\"topology.qualifier/all-fq\",\"topology.qualifier/all-fq\",\"topology.qualifier/all-fq\",\"topology.qualifier/all-fq\",\"topology.qualifier/all-fq\",\"topology.qualifier/all-fq\",\"topology.qualifier/all-fq\",\"topology.qualifier/all-fq\",\"topology.qualifier/all-fq\",\"topology.qualifier/all-fq\",\"topology.qualifier/all-fq\",\"topology.qualifier/all-fq\",\"topology.qualifier/all-fq\",\"topology.qualifier/all-fq\",\"topology.qualifier/all-fq\",\"topology.qualifier/all-fq\",\"topology.qualifier/all-fq\",\"topology.qualifier/all-fq\",\"topology.qualifier/all-fq\",\"topology.qualifier/all-fq\",\"topology.qualifier/all-fq\",\"topology.qualifier/all-fq\",\"topology.qualifier/all-fq\",\"topology.finder/source-paths->namespaces\",\"topology.finder/source-paths->namespaces\",\"topology.finder/source-paths->namespaces\",\"topology.finder/source-paths->namespaces\",\"topology.finder/source-paths->namespaces\",\"topology.finder/source-paths->namespaces\",\"topology.finder/source-paths->namespaces\",\"topology.finder/source-paths->namespaces\",\"topology.finder/source-paths->namespaces\",\"topology.finder/source-paths->namespaces\",\"topology.finder/source-paths->namespaces\",\"topology.finder/source-paths->namespaces\",\"topology.finder/source-paths->namespaces\",\"topology.finder/source-paths->namespaces\",\"topology.finder/source-paths->namespaces\",\"topology.finder/source-paths->namespaces\",\"topology.finder/source-paths->namespaces\",\"topology.finder/source-paths->namespaces\",\"topology.finder/source-paths->namespaces\",\"topology.finder/source-paths->namespaces\",\"topology.finder/source-paths->namespaces\",\"topology.finder/source-paths->namespaces\",\"topology.finder/source-paths->namespaces\",\"topology.finder/source-paths->namespaces\",\"topology.finder/source-paths->namespaces\",\"topology.finder/source-paths->namespaces\",\"topology.finder/source-paths->namespaces\",\"topology.finder/source-paths->namespaces\",\"topology.finder/source-paths->namespaces\",\"topology.finder/source-paths->namespaces\",\"topology.finder/source-paths->namespaces\",\"topology.finder/source-paths->namespaces\",\"topology.finder/source-paths->namespaces\",\"topology.finder/source-paths->namespaces\",\"topology.finder/source-paths->namespaces\",\"topology.finder/dirs->sources\",\"topology.finder/dirs->sources\",\"topology.finder/dirs->sources\",\"topology.finder/dirs->sources\",\"topology.finder/dirs->sources\",\"topology.finder/dirs->sources\",\"topology.finder/dirs->sources\",\"topology.finder/dirs->sources\",\"topology.finder/dirs->sources\",\"topology.finder/dirs->sources\",\"topology.finder/dirs->sources\",\"topology.finder/dirs->sources\",\"topology.finder/dirs->sources\",\"topology.finder/dirs->sources\",\"topology.finder/dirs->sources\",\"topology.finder/dirs->sources\",\"topology.finder/dirs->sources\",\"topology.finder/dirs->sources\",\"topology.finder/dirs->sources\",\"topology.finder/dirs->sources\",\"topology.finder/dirs->sources\",\"topology.finder/dirs->sources\",\"topology.finder/dirs->sources\",\"topology.finder/dirs->sources\",\"topology.finder/dirs->sources\",\"topology.finder/dirs->sources\",\"topology.finder/dirs->sources\",\"topology.finder/dirs->sources\",\"topology.finder/dirs->sources\",\"topology.finder/dirs->sources\",\"topology.finder/dirs->sources\",\"topology.finder/dirs->sources\",\"topology.finder/dirs->sources\",\"topology.finder/dirs->sources\",\"topology.finder/dirs->sources\",\"clojure.tools.namespace.file/read-file-ns-decl\",\"clojure.tools.namespace.file/read-file-ns-decl\",\"clojure.tools.namespace.file/read-file-ns-decl\",\"clojure.tools.namespace.file/read-file-ns-decl\",\"clojure.tools.namespace.file/read-file-ns-decl\",\"clojure.tools.namespace.file/read-file-ns-decl\",\"clojure.tools.namespace.file/read-file-ns-decl\",\"clojure.tools.namespace.file/read-file-ns-decl\",\"clojure.tools.namespace.file/read-file-ns-decl\",\"clojure.tools.namespace.file/read-file-ns-decl\",\"clojure.tools.namespace.file/read-file-ns-decl\",\"clojure.tools.namespace.file/read-file-ns-decl\",\"clojure.tools.namespace.file/read-file-ns-decl\",\"clojure.tools.namespace.file/read-file-ns-decl\",\"clojure.tools.namespace.file/read-file-ns-decl\",\"clojure.tools.namespace.file/read-file-ns-decl\",\"clojure.tools.namespace.file/read-file-ns-decl\",\"clojure.tools.namespace.file/read-file-ns-decl\",\"clojure.tools.namespace.file/read-file-ns-decl\",\"clojure.tools.namespace.file/read-file-ns-decl\",\"clojure.tools.namespace.file/read-file-ns-decl\",\"clojure.tools.namespace.file/read-file-ns-decl\",\"clojure.tools.namespace.file/read-file-ns-decl\",\"clojure.tools.namespace.file/read-file-ns-decl\",\"clojure.tools.namespace.file/read-file-ns-decl\",\"clojure.tools.namespace.file/read-file-ns-decl\",\"clojure.tools.namespace.file/read-file-ns-decl\",\"clojure.tools.namespace.file/read-file-ns-decl\",\"clojure.tools.namespace.file/read-file-ns-decl\",\"clojure.tools.namespace.file/read-file-ns-decl\",\"clojure.tools.namespace.file/read-file-ns-decl\",\"clojure.tools.namespace.file/read-file-ns-decl\",\"clojure.tools.namespace.file/read-file-ns-decl\",\"clojure.tools.namespace.file/read-file-ns-decl\",\"clojure.tools.namespace.file/read-file-ns-decl\",\"topology.symbols/symbols\",\"topology.symbols/symbols\",\"topology.symbols/symbols\",\"topology.symbols/symbols\",\"topology.symbols/symbols\",\"topology.symbols/symbols\",\"topology.symbols/symbols\",\"topology.symbols/symbols\",\"topology.symbols/symbols\",\"topology.symbols/symbols\",\"topology.symbols/symbols\",\"topology.symbols/symbols\",\"topology.symbols/symbols\",\"topology.symbols/symbols\",\"topology.symbols/symbols\",\"topology.symbols/symbols\",\"topology.symbols/symbols\",\"topology.symbols/symbols\",\"topology.symbols/symbols\",\"topology.symbols/symbols\",\"topology.symbols/symbols\",\"topology.symbols/symbols\",\"topology.symbols/symbols\",\"topology.symbols/symbols\",\"topology.symbols/symbols\",\"topology.symbols/symbols\",\"topology.symbols/symbols\",\"topology.symbols/symbols\",\"topology.symbols/symbols\",\"topology.symbols/symbols\",\"topology.symbols/symbols\",\"topology.symbols/symbols\",\"topology.symbols/symbols\",\"topology.symbols/symbols\",\"topology.symbols/symbols\",\"topology.edgelist-test/edges\",\"topology.edgelist-test/edges\",\"topology.edgelist-test/edges\",\"topology.edgelist-test/edges\",\"topology.edgelist-test/edges\",\"topology.edgelist-test/edges\",\"topology.edgelist-test/edges\",\"topology.edgelist-test/edges\",\"topology.edgelist-test/edges\",\"topology.edgelist-test/edges\",\"topology.edgelist-test/edges\",\"topology.edgelist-test/edges\",\"topology.edgelist-test/edges\",\"topology.edgelist-test/edges\",\"topology.edgelist-test/edges\",\"topology.edgelist-test/edges\",\"topology.edgelist-test/edges\",\"topology.edgelist-test/edges\",\"topology.edgelist-test/edges\",\"topology.edgelist-test/edges\",\"topology.edgelist-test/edges\",\"topology.edgelist-test/edges\",\"topology.edgelist-test/edges\",\"topology.edgelist-test/edges\",\"topology.edgelist-test/edges\",\"topology.edgelist-test/edges\",\"topology.edgelist-test/edges\",\"topology.edgelist-test/edges\",\"topology.edgelist-test/edges\",\"topology.edgelist-test/edges\",\"topology.edgelist-test/edges\",\"topology.edgelist-test/edges\",\"topology.edgelist-test/edges\",\"topology.edgelist-test/edges\",\"topology.edgelist-test/edges\",\"topology.edgelist/dirs->fn-edges\",\"topology.edgelist/dirs->fn-edges\",\"topology.edgelist/dirs->fn-edges\",\"topology.edgelist/dirs->fn-edges\",\"topology.edgelist/dirs->fn-edges\",\"topology.edgelist/dirs->fn-edges\",\"topology.edgelist/dirs->fn-edges\",\"topology.edgelist/dirs->fn-edges\",\"topology.edgelist/dirs->fn-edges\",\"topology.edgelist/dirs->fn-edges\",\"topology.edgelist/dirs->fn-edges\",\"topology.edgelist/dirs->fn-edges\",\"topology.edgelist/dirs->fn-edges\",\"topology.edgelist/dirs->fn-edges\",\"topology.edgelist/dirs->fn-edges\",\"topology.edgelist/dirs->fn-edges\",\"topology.edgelist/dirs->fn-edges\",\"topology.edgelist/dirs->fn-edges\",\"topology.edgelist/dirs->fn-edges\",\"topology.edgelist/dirs->fn-edges\",\"topology.edgelist/dirs->fn-edges\",\"topology.edgelist/dirs->fn-edges\",\"topology.edgelist/dirs->fn-edges\",\"topology.edgelist/dirs->fn-edges\",\"topology.edgelist/dirs->fn-edges\",\"topology.edgelist/dirs->fn-edges\",\"topology.edgelist/dirs->fn-edges\",\"topology.edgelist/dirs->fn-edges\",\"topology.edgelist/dirs->fn-edges\",\"topology.edgelist/dirs->fn-edges\",\"topology.edgelist/dirs->fn-edges\",\"topology.edgelist/dirs->fn-edges\",\"topology.edgelist/dirs->fn-edges\",\"topology.edgelist/dirs->fn-edges\",\"topology.edgelist/dirs->fn-edges\",\"topology.symbols/zip-nodes\",\"topology.symbols/zip-nodes\",\"topology.symbols/zip-nodes\",\"topology.symbols/zip-nodes\",\"topology.symbols/zip-nodes\",\"topology.symbols/zip-nodes\",\"topology.symbols/zip-nodes\",\"topology.symbols/zip-nodes\",\"topology.symbols/zip-nodes\",\"topology.symbols/zip-nodes\",\"topology.symbols/zip-nodes\",\"topology.symbols/zip-nodes\",\"topology.symbols/zip-nodes\",\"topology.symbols/zip-nodes\",\"topology.symbols/zip-nodes\",\"topology.symbols/zip-nodes\",\"topology.symbols/zip-nodes\",\"topology.symbols/zip-nodes\",\"topology.symbols/zip-nodes\",\"topology.symbols/zip-nodes\",\"topology.symbols/zip-nodes\",\"topology.symbols/zip-nodes\",\"topology.symbols/zip-nodes\",\"topology.symbols/zip-nodes\",\"topology.symbols/zip-nodes\",\"topology.symbols/zip-nodes\",\"topology.symbols/zip-nodes\",\"topology.symbols/zip-nodes\",\"topology.symbols/zip-nodes\",\"topology.symbols/zip-nodes\",\"topology.symbols/zip-nodes\",\"topology.symbols/zip-nodes\",\"topology.symbols/zip-nodes\",\"topology.symbols/zip-nodes\",\"topology.symbols/zip-nodes\",\"topology.qualifier/fq-ns\",\"topology.qualifier/fq-ns\",\"topology.qualifier/fq-ns\",\"topology.qualifier/fq-ns\",\"topology.qualifier/fq-ns\",\"topology.qualifier/fq-ns\",\"topology.qualifier/fq-ns\",\"topology.qualifier/fq-ns\",\"topology.qualifier/fq-ns\",\"topology.qualifier/fq-ns\",\"topology.qualifier/fq-ns\",\"topology.qualifier/fq-ns\",\"topology.qualifier/fq-ns\",\"topology.qualifier/fq-ns\",\"topology.qualifier/fq-ns\",\"topology.qualifier/fq-ns\",\"topology.qualifier/fq-ns\",\"topology.qualifier/fq-ns\",\"topology.qualifier/fq-ns\",\"topology.qualifier/fq-ns\",\"topology.qualifier/fq-ns\",\"topology.qualifier/fq-ns\",\"topology.qualifier/fq-ns\",\"topology.qualifier/fq-ns\",\"topology.qualifier/fq-ns\",\"topology.qualifier/fq-ns\",\"topology.qualifier/fq-ns\",\"topology.qualifier/fq-ns\",\"topology.qualifier/fq-ns\",\"topology.qualifier/fq-ns\",\"topology.qualifier/fq-ns\",\"topology.qualifier/fq-ns\",\"topology.qualifier/fq-ns\",\"topology.qualifier/fq-ns\",\"topology.qualifier/fq-ns\",\"clojure.zip/next\",\"clojure.zip/next\",\"clojure.zip/next\",\"clojure.zip/next\",\"clojure.zip/next\",\"clojure.zip/next\",\"clojure.zip/next\",\"clojure.zip/next\",\"clojure.zip/next\",\"clojure.zip/next\",\"clojure.zip/next\",\"clojure.zip/next\",\"clojure.zip/next\",\"clojure.zip/next\",\"clojure.zip/next\",\"clojure.zip/next\",\"clojure.zip/next\",\"clojure.zip/next\",\"clojure.zip/next\",\"clojure.zip/next\",\"clojure.zip/next\",\"clojure.zip/next\",\"clojure.zip/next\",\"clojure.zip/next\",\"clojure.zip/next\",\"clojure.zip/next\",\"clojure.zip/next\",\"clojure.zip/next\",\"clojure.zip/next\",\"clojure.zip/next\",\"clojure.zip/next\",\"clojure.zip/next\",\"clojure.zip/next\",\"clojure.zip/next\",\"clojure.zip/next\",\"clojure.core/*err*\",\"clojure.core/*err*\",\"clojure.core/*err*\",\"clojure.core/*err*\",\"clojure.core/*err*\",\"clojure.core/*err*\",\"clojure.core/*err*\",\"clojure.core/*err*\",\"clojure.core/*err*\",\"clojure.core/*err*\",\"clojure.core/*err*\",\"clojure.core/*err*\",\"clojure.core/*err*\",\"clojure.core/*err*\",\"clojure.core/*err*\",\"clojure.core/*err*\",\"clojure.core/*err*\",\"clojure.core/*err*\",\"clojure.core/*err*\",\"clojure.core/*err*\",\"clojure.core/*err*\",\"clojure.core/*err*\",\"clojure.core/*err*\",\"clojure.core/*err*\",\"clojure.core/*err*\",\"clojure.core/*err*\",\"clojure.core/*err*\",\"clojure.core/*err*\",\"clojure.core/*err*\",\"clojure.core/*err*\",\"clojure.core/*err*\",\"clojure.core/*err*\",\"clojure.core/*err*\",\"clojure.core/*err*\",\"clojure.core/*err*\",\"topology.edgelist/ns->edgelist\",\"topology.edgelist/ns->edgelist\",\"topology.edgelist/ns->edgelist\",\"topology.edgelist/ns->edgelist\",\"topology.edgelist/ns->edgelist\",\"topology.edgelist/ns->edgelist\",\"topology.edgelist/ns->edgelist\",\"topology.edgelist/ns->edgelist\",\"topology.edgelist/ns->edgelist\",\"topology.edgelist/ns->edgelist\",\"topology.edgelist/ns->edgelist\",\"topology.edgelist/ns->edgelist\",\"topology.edgelist/ns->edgelist\",\"topology.edgelist/ns->edgelist\",\"topology.edgelist/ns->edgelist\",\"topology.edgelist/ns->edgelist\",\"topology.edgelist/ns->edgelist\",\"topology.edgelist/ns->edgelist\",\"topology.edgelist/ns->edgelist\",\"topology.edgelist/ns->edgelist\",\"topology.edgelist/ns->edgelist\",\"topology.edgelist/ns->edgelist\",\"topology.edgelist/ns->edgelist\",\"topology.edgelist/ns->edgelist\",\"topology.edgelist/ns->edgelist\",\"topology.edgelist/ns->edgelist\",\"topology.edgelist/ns->edgelist\",\"topology.edgelist/ns->edgelist\",\"topology.edgelist/ns->edgelist\",\"topology.edgelist/ns->edgelist\",\"topology.edgelist/ns->edgelist\",\"topology.edgelist/ns->edgelist\",\"topology.edgelist/ns->edgelist\",\"topology.edgelist/ns->edgelist\",\"topology.edgelist/ns->edgelist\",\"clojure.tools.namespace.file/clojure-file?\",\"clojure.tools.namespace.file/clojure-file?\",\"clojure.tools.namespace.file/clojure-file?\",\"clojure.tools.namespace.file/clojure-file?\",\"clojure.tools.namespace.file/clojure-file?\",\"clojure.tools.namespace.file/clojure-file?\",\"clojure.tools.namespace.file/clojure-file?\",\"clojure.tools.namespace.file/clojure-file?\",\"clojure.tools.namespace.file/clojure-file?\",\"clojure.tools.namespace.file/clojure-file?\",\"clojure.tools.namespace.file/clojure-file?\",\"clojure.tools.namespace.file/clojure-file?\",\"clojure.tools.namespace.file/clojure-file?\",\"clojure.tools.namespace.file/clojure-file?\",\"clojure.tools.namespace.file/clojure-file?\",\"clojure.tools.namespace.file/clojure-file?\",\"clojure.tools.namespace.file/clojure-file?\",\"clojure.tools.namespace.file/clojure-file?\",\"clojure.tools.namespace.file/clojure-file?\",\"clojure.tools.namespace.file/clojure-file?\",\"clojure.tools.namespace.file/clojure-file?\",\"clojure.tools.namespace.file/clojure-file?\",\"clojure.tools.namespace.file/clojure-file?\",\"clojure.tools.namespace.file/clojure-file?\",\"clojure.tools.namespace.file/clojure-file?\",\"clojure.tools.namespace.file/clojure-file?\",\"clojure.tools.namespace.file/clojure-file?\",\"clojure.tools.namespace.file/clojure-file?\",\"clojure.tools.namespace.file/clojure-file?\",\"clojure.tools.namespace.file/clojure-file?\",\"clojure.tools.namespace.file/clojure-file?\",\"clojure.tools.namespace.file/clojure-file?\",\"clojure.tools.namespace.file/clojure-file?\",\"clojure.tools.namespace.file/clojure-file?\",\"clojure.tools.namespace.file/clojure-file?\",\"clojure.java.io/file\",\"clojure.java.io/file\",\"clojure.java.io/file\",\"clojure.java.io/file\",\"clojure.java.io/file\",\"clojure.java.io/file\",\"clojure.java.io/file\",\"clojure.java.io/file\",\"clojure.java.io/file\",\"clojure.java.io/file\",\"clojure.java.io/file\",\"clojure.java.io/file\",\"clojure.java.io/file\",\"clojure.java.io/file\",\"clojure.java.io/file\",\"clojure.java.io/file\",\"clojure.java.io/file\",\"clojure.java.io/file\",\"clojure.java.io/file\",\"clojure.java.io/file\",\"clojure.java.io/file\",\"clojure.java.io/file\",\"clojure.java.io/file\",\"clojure.java.io/file\",\"clojure.java.io/file\",\"clojure.java.io/file\",\"clojure.java.io/file\",\"clojure.java.io/file\",\"clojure.java.io/file\",\"clojure.java.io/file\",\"clojure.java.io/file\",\"clojure.java.io/file\",\"clojure.java.io/file\",\"clojure.java.io/file\",\"clojure.java.io/file\",\"clojure.zip/end?\",\"clojure.zip/end?\",\"clojure.zip/end?\",\"clojure.zip/end?\",\"clojure.zip/end?\",\"clojure.zip/end?\",\"clojure.zip/end?\",\"clojure.zip/end?\",\"clojure.zip/end?\",\"clojure.zip/end?\",\"clojure.zip/end?\",\"clojure.zip/end?\",\"clojure.zip/end?\",\"clojure.zip/end?\",\"clojure.zip/end?\",\"clojure.zip/end?\",\"clojure.zip/end?\",\"clojure.zip/end?\",\"clojure.zip/end?\",\"clojure.zip/end?\",\"clojure.zip/end?\",\"clojure.zip/end?\",\"clojure.zip/end?\",\"clojure.zip/end?\",\"clojure.zip/end?\",\"clojure.zip/end?\",\"clojure.zip/end?\",\"clojure.zip/end?\",\"clojure.zip/end?\",\"clojure.zip/end?\",\"clojure.zip/end?\",\"clojure.zip/end?\",\"clojure.zip/end?\",\"clojure.zip/end?\",\"clojure.zip/end?\",\"clojure.zip/node\",\"clojure.zip/node\",\"clojure.zip/node\",\"clojure.zip/node\",\"clojure.zip/node\",\"clojure.zip/node\",\"clojure.zip/node\",\"clojure.zip/node\",\"clojure.zip/node\",\"clojure.zip/node\",\"clojure.zip/node\",\"clojure.zip/node\",\"clojure.zip/node\",\"clojure.zip/node\",\"clojure.zip/node\",\"clojure.zip/node\",\"clojure.zip/node\",\"clojure.zip/node\",\"clojure.zip/node\",\"clojure.zip/node\",\"clojure.zip/node\",\"clojure.zip/node\",\"clojure.zip/node\",\"clojure.zip/node\",\"clojure.zip/node\",\"clojure.zip/node\",\"clojure.zip/node\",\"clojure.zip/node\",\"clojure.zip/node\",\"clojure.zip/node\",\"clojure.zip/node\",\"clojure.zip/node\",\"clojure.zip/node\",\"clojure.zip/node\",\"clojure.zip/node\",\"clojure.zip/zipper\",\"clojure.zip/zipper\",\"clojure.zip/zipper\",\"clojure.zip/zipper\",\"clojure.zip/zipper\",\"clojure.zip/zipper\",\"clojure.zip/zipper\",\"clojure.zip/zipper\",\"clojure.zip/zipper\",\"clojure.zip/zipper\",\"clojure.zip/zipper\",\"clojure.zip/zipper\",\"clojure.zip/zipper\",\"clojure.zip/zipper\",\"clojure.zip/zipper\",\"clojure.zip/zipper\",\"clojure.zip/zipper\",\"clojure.zip/zipper\",\"clojure.zip/zipper\",\"clojure.zip/zipper\",\"clojure.zip/zipper\",\"clojure.zip/zipper\",\"clojure.zip/zipper\",\"clojure.zip/zipper\",\"clojure.zip/zipper\",\"clojure.zip/zipper\",\"clojure.zip/zipper\",\"clojure.zip/zipper\",\"clojure.zip/zipper\",\"clojure.zip/zipper\",\"clojure.zip/zipper\",\"clojure.zip/zipper\",\"clojure.zip/zipper\",\"clojure.zip/zipper\",\"clojure.zip/zipper\"],\"yname\":[\"topology.dependencies/dependencies\",\"topology.edgelist-test/syntax-quotes-add-seq-concat-list\",\"topology.dependencies-test/should-compute-fn-calls-in-namespace\",\"leiningen.topology/topology\",\"topology.finder/find-sources-in-dir\",\"topology.finder/clojurescript-file?\",\"topology.edgelist-test/should-produce-weighted-edges-for-multiple-calls\",\"topology.dependencies/ns->fn-dep-map\",\"topology.printer/print-weighted-edges\",\"clojure.core/println\",\"topology.symbols/seq-map-zip\",\"topology.edgelist/interleave-keys\",\"topology.dependencies/interns\",\"topology.dependencies/sources\",\"clojure.repl/source-fn\",\"topology.edgelist-test/should-report-java-interop\",\"topology.qualifier/filter-fully-qualified\",\"leiningen.core.eval/eval-in-project\",\"topology.qualifier/all-fq\",\"topology.finder/source-paths->namespaces\",\"topology.finder/dirs->sources\",\"clojure.tools.namespace.file/read-file-ns-decl\",\"topology.symbols/symbols\",\"topology.edgelist-test/edges\",\"topology.edgelist/dirs->fn-edges\",\"topology.symbols/zip-nodes\",\"topology.qualifier/fq-ns\",\"clojure.zip/next\",\"clojure.core/*err*\",\"topology.edgelist/ns->edgelist\",\"clojure.tools.namespace.file/clojure-file?\",\"clojure.java.io/file\",\"clojure.zip/end?\",\"clojure.zip/node\",\"clojure.zip/zipper\",\"topology.dependencies/dependencies\",\"topology.edgelist-test/syntax-quotes-add-seq-concat-list\",\"topology.dependencies-test/should-compute-fn-calls-in-namespace\",\"leiningen.topology/topology\",\"topology.finder/find-sources-in-dir\",\"topology.finder/clojurescript-file?\",\"topology.edgelist-test/should-produce-weighted-edges-for-multiple-calls\",\"topology.dependencies/ns->fn-dep-map\",\"topology.printer/print-weighted-edges\",\"clojure.core/println\",\"topology.symbols/seq-map-zip\",\"topology.edgelist/interleave-keys\",\"topology.dependencies/interns\",\"topology.dependencies/sources\",\"clojure.repl/source-fn\",\"topology.edgelist-test/should-report-java-interop\",\"topology.qualifier/filter-fully-qualified\",\"leiningen.core.eval/eval-in-project\",\"topology.qualifier/all-fq\",\"topology.finder/source-paths->namespaces\",\"topology.finder/dirs->sources\",\"clojure.tools.namespace.file/read-file-ns-decl\",\"topology.symbols/symbols\",\"topology.edgelist-test/edges\",\"topology.edgelist/dirs->fn-edges\",\"topology.symbols/zip-nodes\",\"topology.qualifier/fq-ns\",\"clojure.zip/next\",\"clojure.core/*err*\",\"topology.edgelist/ns->edgelist\",\"clojure.tools.namespace.file/clojure-file?\",\"clojure.java.io/file\",\"clojure.zip/end?\",\"clojure.zip/node\",\"clojure.zip/zipper\",\"topology.dependencies/dependencies\",\"topology.edgelist-test/syntax-quotes-add-seq-concat-list\",\"topology.dependencies-test/should-compute-fn-calls-in-namespace\",\"leiningen.topology/topology\",\"topology.finder/find-sources-in-dir\",\"topology.finder/clojurescript-file?\",\"topology.edgelist-test/should-produce-weighted-edges-for-multiple-calls\",\"topology.dependencies/ns->fn-dep-map\",\"topology.printer/print-weighted-edges\",\"clojure.core/println\",\"topology.symbols/seq-map-zip\",\"topology.edgelist/interleave-keys\",\"topology.dependencies/interns\",\"topology.dependencies/sources\",\"clojure.repl/source-fn\",\"topology.edgelist-test/should-report-java-interop\",\"topology.qualifier/filter-fully-qualified\",\"leiningen.core.eval/eval-in-project\",\"topology.qualifier/all-fq\",\"topology.finder/source-paths->namespaces\",\"topology.finder/dirs->sources\",\"clojure.tools.namespace.file/read-file-ns-decl\",\"topology.symbols/symbols\",\"topology.edgelist-test/edges\",\"topology.edgelist/dirs->fn-edges\",\"topology.symbols/zip-nodes\",\"topology.qualifier/fq-ns\",\"clojure.zip/next\",\"clojure.core/*err*\",\"topology.edgelist/ns->edgelist\",\"clojure.tools.namespace.file/clojure-file?\",\"clojure.java.io/file\",\"clojure.zip/end?\",\"clojure.zip/node\",\"clojure.zip/zipper\",\"topology.dependencies/dependencies\",\"topology.edgelist-test/syntax-quotes-add-seq-concat-list\",\"topology.dependencies-test/should-compute-fn-calls-in-namespace\",\"leiningen.topology/topology\",\"topology.finder/find-sources-in-dir\",\"topology.finder/clojurescript-file?\",\"topology.edgelist-test/should-produce-weighted-edges-for-multiple-calls\",\"topology.dependencies/ns->fn-dep-map\",\"topology.printer/print-weighted-edges\",\"clojure.core/println\",\"topology.symbols/seq-map-zip\",\"topology.edgelist/interleave-keys\",\"topology.dependencies/interns\",\"topology.dependencies/sources\",\"clojure.repl/source-fn\",\"topology.edgelist-test/should-report-java-interop\",\"topology.qualifier/filter-fully-qualified\",\"leiningen.core.eval/eval-in-project\",\"topology.qualifier/all-fq\",\"topology.finder/source-paths->namespaces\",\"topology.finder/dirs->sources\",\"clojure.tools.namespace.file/read-file-ns-decl\",\"topology.symbols/symbols\",\"topology.edgelist-test/edges\",\"topology.edgelist/dirs->fn-edges\",\"topology.symbols/zip-nodes\",\"topology.qualifier/fq-ns\",\"clojure.zip/next\",\"clojure.core/*err*\",\"topology.edgelist/ns->edgelist\",\"clojure.tools.namespace.file/clojure-file?\",\"clojure.java.io/file\",\"clojure.zip/end?\",\"clojure.zip/node\",\"clojure.zip/zipper\",\"topology.dependencies/dependencies\",\"topology.edgelist-test/syntax-quotes-add-seq-concat-list\",\"topology.dependencies-test/should-compute-fn-calls-in-namespace\",\"leiningen.topology/topology\",\"topology.finder/find-sources-in-dir\",\"topology.finder/clojurescript-file?\",\"topology.edgelist-test/should-produce-weighted-edges-for-multiple-calls\",\"topology.dependencies/ns->fn-dep-map\",\"topology.printer/print-weighted-edges\",\"clojure.core/println\",\"topology.symbols/seq-map-zip\",\"topology.edgelist/interleave-keys\",\"topology.dependencies/interns\",\"topology.dependencies/sources\",\"clojure.repl/source-fn\",\"topology.edgelist-test/should-report-java-interop\",\"topology.qualifier/filter-fully-qualified\",\"leiningen.core.eval/eval-in-project\",\"topology.qualifier/all-fq\",\"topology.finder/source-paths->namespaces\",\"topology.finder/dirs->sources\",\"clojure.tools.namespace.file/read-file-ns-decl\",\"topology.symbols/symbols\",\"topology.edgelist-test/edges\",\"topology.edgelist/dirs->fn-edges\",\"topology.symbols/zip-nodes\",\"topology.qualifier/fq-ns\",\"clojure.zip/next\",\"clojure.core/*err*\",\"topology.edgelist/ns->edgelist\",\"clojure.tools.namespace.file/clojure-file?\",\"clojure.java.io/file\",\"clojure.zip/end?\",\"clojure.zip/node\",\"clojure.zip/zipper\",\"topology.dependencies/dependencies\",\"topology.edgelist-test/syntax-quotes-add-seq-concat-list\",\"topology.dependencies-test/should-compute-fn-calls-in-namespace\",\"leiningen.topology/topology\",\"topology.finder/find-sources-in-dir\",\"topology.finder/clojurescript-file?\",\"topology.edgelist-test/should-produce-weighted-edges-for-multiple-calls\",\"topology.dependencies/ns->fn-dep-map\",\"topology.printer/print-weighted-edges\",\"clojure.core/println\",\"topology.symbols/seq-map-zip\",\"topology.edgelist/interleave-keys\",\"topology.dependencies/interns\",\"topology.dependencies/sources\",\"clojure.repl/source-fn\",\"topology.edgelist-test/should-report-java-interop\",\"topology.qualifier/filter-fully-qualified\",\"leiningen.core.eval/eval-in-project\",\"topology.qualifier/all-fq\",\"topology.finder/source-paths->namespaces\",\"topology.finder/dirs->sources\",\"clojure.tools.namespace.file/read-file-ns-decl\",\"topology.symbols/symbols\",\"topology.edgelist-test/edges\",\"topology.edgelist/dirs->fn-edges\",\"topology.symbols/zip-nodes\",\"topology.qualifier/fq-ns\",\"clojure.zip/next\",\"clojure.core/*err*\",\"topology.edgelist/ns->edgelist\",\"clojure.tools.namespace.file/clojure-file?\",\"clojure.java.io/file\",\"clojure.zip/end?\",\"clojure.zip/node\",\"clojure.zip/zipper\",\"topology.dependencies/dependencies\",\"topology.edgelist-test/syntax-quotes-add-seq-concat-list\",\"topology.dependencies-test/should-compute-fn-calls-in-namespace\",\"leiningen.topology/topology\",\"topology.finder/find-sources-in-dir\",\"topology.finder/clojurescript-file?\",\"topology.edgelist-test/should-produce-weighted-edges-for-multiple-calls\",\"topology.dependencies/ns->fn-dep-map\",\"topology.printer/print-weighted-edges\",\"clojure.core/println\",\"topology.symbols/seq-map-zip\",\"topology.edgelist/interleave-keys\",\"topology.dependencies/interns\",\"topology.dependencies/sources\",\"clojure.repl/source-fn\",\"topology.edgelist-test/should-report-java-interop\",\"topology.qualifier/filter-fully-qualified\",\"leiningen.core.eval/eval-in-project\",\"topology.qualifier/all-fq\",\"topology.finder/source-paths->namespaces\",\"topology.finder/dirs->sources\",\"clojure.tools.namespace.file/read-file-ns-decl\",\"topology.symbols/symbols\",\"topology.edgelist-test/edges\",\"topology.edgelist/dirs->fn-edges\",\"topology.symbols/zip-nodes\",\"topology.qualifier/fq-ns\",\"clojure.zip/next\",\"clojure.core/*err*\",\"topology.edgelist/ns->edgelist\",\"clojure.tools.namespace.file/clojure-file?\",\"clojure.java.io/file\",\"clojure.zip/end?\",\"clojure.zip/node\",\"clojure.zip/zipper\",\"topology.dependencies/dependencies\",\"topology.edgelist-test/syntax-quotes-add-seq-concat-list\",\"topology.dependencies-test/should-compute-fn-calls-in-namespace\",\"leiningen.topology/topology\",\"topology.finder/find-sources-in-dir\",\"topology.finder/clojurescript-file?\",\"topology.edgelist-test/should-produce-weighted-edges-for-multiple-calls\",\"topology.dependencies/ns->fn-dep-map\",\"topology.printer/print-weighted-edges\",\"clojure.core/println\",\"topology.symbols/seq-map-zip\",\"topology.edgelist/interleave-keys\",\"topology.dependencies/interns\",\"topology.dependencies/sources\",\"clojure.repl/source-fn\",\"topology.edgelist-test/should-report-java-interop\",\"topology.qualifier/filter-fully-qualified\",\"leiningen.core.eval/eval-in-project\",\"topology.qualifier/all-fq\",\"topology.finder/source-paths->namespaces\",\"topology.finder/dirs->sources\",\"clojure.tools.namespace.file/read-file-ns-decl\",\"topology.symbols/symbols\",\"topology.edgelist-test/edges\",\"topology.edgelist/dirs->fn-edges\",\"topology.symbols/zip-nodes\",\"topology.qualifier/fq-ns\",\"clojure.zip/next\",\"clojure.core/*err*\",\"topology.edgelist/ns->edgelist\",\"clojure.tools.namespace.file/clojure-file?\",\"clojure.java.io/file\",\"clojure.zip/end?\",\"clojure.zip/node\",\"clojure.zip/zipper\",\"topology.dependencies/dependencies\",\"topology.edgelist-test/syntax-quotes-add-seq-concat-list\",\"topology.dependencies-test/should-compute-fn-calls-in-namespace\",\"leiningen.topology/topology\",\"topology.finder/find-sources-in-dir\",\"topology.finder/clojurescript-file?\",\"topology.edgelist-test/should-produce-weighted-edges-for-multiple-calls\",\"topology.dependencies/ns->fn-dep-map\",\"topology.printer/print-weighted-edges\",\"clojure.core/println\",\"topology.symbols/seq-map-zip\",\"topology.edgelist/interleave-keys\",\"topology.dependencies/interns\",\"topology.dependencies/sources\",\"clojure.repl/source-fn\",\"topology.edgelist-test/should-report-java-interop\",\"topology.qualifier/filter-fully-qualified\",\"leiningen.core.eval/eval-in-project\",\"topology.qualifier/all-fq\",\"topology.finder/source-paths->namespaces\",\"topology.finder/dirs->sources\",\"clojure.tools.namespace.file/read-file-ns-decl\",\"topology.symbols/symbols\",\"topology.edgelist-test/edges\",\"topology.edgelist/dirs->fn-edges\",\"topology.symbols/zip-nodes\",\"topology.qualifier/fq-ns\",\"clojure.zip/next\",\"clojure.core/*err*\",\"topology.edgelist/ns->edgelist\",\"clojure.tools.namespace.file/clojure-file?\",\"clojure.java.io/file\",\"clojure.zip/end?\",\"clojure.zip/node\",\"clojure.zip/zipper\",\"topology.dependencies/dependencies\",\"topology.edgelist-test/syntax-quotes-add-seq-concat-list\",\"topology.dependencies-test/should-compute-fn-calls-in-namespace\",\"leiningen.topology/topology\",\"topology.finder/find-sources-in-dir\",\"topology.finder/clojurescript-file?\",\"topology.edgelist-test/should-produce-weighted-edges-for-multiple-calls\",\"topology.dependencies/ns->fn-dep-map\",\"topology.printer/print-weighted-edges\",\"clojure.core/println\",\"topology.symbols/seq-map-zip\",\"topology.edgelist/interleave-keys\",\"topology.dependencies/interns\",\"topology.dependencies/sources\",\"clojure.repl/source-fn\",\"topology.edgelist-test/should-report-java-interop\",\"topology.qualifier/filter-fully-qualified\",\"leiningen.core.eval/eval-in-project\",\"topology.qualifier/all-fq\",\"topology.finder/source-paths->namespaces\",\"topology.finder/dirs->sources\",\"clojure.tools.namespace.file/read-file-ns-decl\",\"topology.symbols/symbols\",\"topology.edgelist-test/edges\",\"topology.edgelist/dirs->fn-edges\",\"topology.symbols/zip-nodes\",\"topology.qualifier/fq-ns\",\"clojure.zip/next\",\"clojure.core/*err*\",\"topology.edgelist/ns->edgelist\",\"clojure.tools.namespace.file/clojure-file?\",\"clojure.java.io/file\",\"clojure.zip/end?\",\"clojure.zip/node\",\"clojure.zip/zipper\",\"topology.dependencies/dependencies\",\"topology.edgelist-test/syntax-quotes-add-seq-concat-list\",\"topology.dependencies-test/should-compute-fn-calls-in-namespace\",\"leiningen.topology/topology\",\"topology.finder/find-sources-in-dir\",\"topology.finder/clojurescript-file?\",\"topology.edgelist-test/should-produce-weighted-edges-for-multiple-calls\",\"topology.dependencies/ns->fn-dep-map\",\"topology.printer/print-weighted-edges\",\"clojure.core/println\",\"topology.symbols/seq-map-zip\",\"topology.edgelist/interleave-keys\",\"topology.dependencies/interns\",\"topology.dependencies/sources\",\"clojure.repl/source-fn\",\"topology.edgelist-test/should-report-java-interop\",\"topology.qualifier/filter-fully-qualified\",\"leiningen.core.eval/eval-in-project\",\"topology.qualifier/all-fq\",\"topology.finder/source-paths->namespaces\",\"topology.finder/dirs->sources\",\"clojure.tools.namespace.file/read-file-ns-decl\",\"topology.symbols/symbols\",\"topology.edgelist-test/edges\",\"topology.edgelist/dirs->fn-edges\",\"topology.symbols/zip-nodes\",\"topology.qualifier/fq-ns\",\"clojure.zip/next\",\"clojure.core/*err*\",\"topology.edgelist/ns->edgelist\",\"clojure.tools.namespace.file/clojure-file?\",\"clojure.java.io/file\",\"clojure.zip/end?\",\"clojure.zip/node\",\"clojure.zip/zipper\",\"topology.dependencies/dependencies\",\"topology.edgelist-test/syntax-quotes-add-seq-concat-list\",\"topology.dependencies-test/should-compute-fn-calls-in-namespace\",\"leiningen.topology/topology\",\"topology.finder/find-sources-in-dir\",\"topology.finder/clojurescript-file?\",\"topology.edgelist-test/should-produce-weighted-edges-for-multiple-calls\",\"topology.dependencies/ns->fn-dep-map\",\"topology.printer/print-weighted-edges\",\"clojure.core/println\",\"topology.symbols/seq-map-zip\",\"topology.edgelist/interleave-keys\",\"topology.dependencies/interns\",\"topology.dependencies/sources\",\"clojure.repl/source-fn\",\"topology.edgelist-test/should-report-java-interop\",\"topology.qualifier/filter-fully-qualified\",\"leiningen.core.eval/eval-in-project\",\"topology.qualifier/all-fq\",\"topology.finder/source-paths->namespaces\",\"topology.finder/dirs->sources\",\"clojure.tools.namespace.file/read-file-ns-decl\",\"topology.symbols/symbols\",\"topology.edgelist-test/edges\",\"topology.edgelist/dirs->fn-edges\",\"topology.symbols/zip-nodes\",\"topology.qualifier/fq-ns\",\"clojure.zip/next\",\"clojure.core/*err*\",\"topology.edgelist/ns->edgelist\",\"clojure.tools.namespace.file/clojure-file?\",\"clojure.java.io/file\",\"clojure.zip/end?\",\"clojure.zip/node\",\"clojure.zip/zipper\",\"topology.dependencies/dependencies\",\"topology.edgelist-test/syntax-quotes-add-seq-concat-list\",\"topology.dependencies-test/should-compute-fn-calls-in-namespace\",\"leiningen.topology/topology\",\"topology.finder/find-sources-in-dir\",\"topology.finder/clojurescript-file?\",\"topology.edgelist-test/should-produce-weighted-edges-for-multiple-calls\",\"topology.dependencies/ns->fn-dep-map\",\"topology.printer/print-weighted-edges\",\"clojure.core/println\",\"topology.symbols/seq-map-zip\",\"topology.edgelist/interleave-keys\",\"topology.dependencies/interns\",\"topology.dependencies/sources\",\"clojure.repl/source-fn\",\"topology.edgelist-test/should-report-java-interop\",\"topology.qualifier/filter-fully-qualified\",\"leiningen.core.eval/eval-in-project\",\"topology.qualifier/all-fq\",\"topology.finder/source-paths->namespaces\",\"topology.finder/dirs->sources\",\"clojure.tools.namespace.file/read-file-ns-decl\",\"topology.symbols/symbols\",\"topology.edgelist-test/edges\",\"topology.edgelist/dirs->fn-edges\",\"topology.symbols/zip-nodes\",\"topology.qualifier/fq-ns\",\"clojure.zip/next\",\"clojure.core/*err*\",\"topology.edgelist/ns->edgelist\",\"clojure.tools.namespace.file/clojure-file?\",\"clojure.java.io/file\",\"clojure.zip/end?\",\"clojure.zip/node\",\"clojure.zip/zipper\",\"topology.dependencies/dependencies\",\"topology.edgelist-test/syntax-quotes-add-seq-concat-list\",\"topology.dependencies-test/should-compute-fn-calls-in-namespace\",\"leiningen.topology/topology\",\"topology.finder/find-sources-in-dir\",\"topology.finder/clojurescript-file?\",\"topology.edgelist-test/should-produce-weighted-edges-for-multiple-calls\",\"topology.dependencies/ns->fn-dep-map\",\"topology.printer/print-weighted-edges\",\"clojure.core/println\",\"topology.symbols/seq-map-zip\",\"topology.edgelist/interleave-keys\",\"topology.dependencies/interns\",\"topology.dependencies/sources\",\"clojure.repl/source-fn\",\"topology.edgelist-test/should-report-java-interop\",\"topology.qualifier/filter-fully-qualified\",\"leiningen.core.eval/eval-in-project\",\"topology.qualifier/all-fq\",\"topology.finder/source-paths->namespaces\",\"topology.finder/dirs->sources\",\"clojure.tools.namespace.file/read-file-ns-decl\",\"topology.symbols/symbols\",\"topology.edgelist-test/edges\",\"topology.edgelist/dirs->fn-edges\",\"topology.symbols/zip-nodes\",\"topology.qualifier/fq-ns\",\"clojure.zip/next\",\"clojure.core/*err*\",\"topology.edgelist/ns->edgelist\",\"clojure.tools.namespace.file/clojure-file?\",\"clojure.java.io/file\",\"clojure.zip/end?\",\"clojure.zip/node\",\"clojure.zip/zipper\",\"topology.dependencies/dependencies\",\"topology.edgelist-test/syntax-quotes-add-seq-concat-list\",\"topology.dependencies-test/should-compute-fn-calls-in-namespace\",\"leiningen.topology/topology\",\"topology.finder/find-sources-in-dir\",\"topology.finder/clojurescript-file?\",\"topology.edgelist-test/should-produce-weighted-edges-for-multiple-calls\",\"topology.dependencies/ns->fn-dep-map\",\"topology.printer/print-weighted-edges\",\"clojure.core/println\",\"topology.symbols/seq-map-zip\",\"topology.edgelist/interleave-keys\",\"topology.dependencies/interns\",\"topology.dependencies/sources\",\"clojure.repl/source-fn\",\"topology.edgelist-test/should-report-java-interop\",\"topology.qualifier/filter-fully-qualified\",\"leiningen.core.eval/eval-in-project\",\"topology.qualifier/all-fq\",\"topology.finder/source-paths->namespaces\",\"topology.finder/dirs->sources\",\"clojure.tools.namespace.file/read-file-ns-decl\",\"topology.symbols/symbols\",\"topology.edgelist-test/edges\",\"topology.edgelist/dirs->fn-edges\",\"topology.symbols/zip-nodes\",\"topology.qualifier/fq-ns\",\"clojure.zip/next\",\"clojure.core/*err*\",\"topology.edgelist/ns->edgelist\",\"clojure.tools.namespace.file/clojure-file?\",\"clojure.java.io/file\",\"clojure.zip/end?\",\"clojure.zip/node\",\"clojure.zip/zipper\",\"topology.dependencies/dependencies\",\"topology.edgelist-test/syntax-quotes-add-seq-concat-list\",\"topology.dependencies-test/should-compute-fn-calls-in-namespace\",\"leiningen.topology/topology\",\"topology.finder/find-sources-in-dir\",\"topology.finder/clojurescript-file?\",\"topology.edgelist-test/should-produce-weighted-edges-for-multiple-calls\",\"topology.dependencies/ns->fn-dep-map\",\"topology.printer/print-weighted-edges\",\"clojure.core/println\",\"topology.symbols/seq-map-zip\",\"topology.edgelist/interleave-keys\",\"topology.dependencies/interns\",\"topology.dependencies/sources\",\"clojure.repl/source-fn\",\"topology.edgelist-test/should-report-java-interop\",\"topology.qualifier/filter-fully-qualified\",\"leiningen.core.eval/eval-in-project\",\"topology.qualifier/all-fq\",\"topology.finder/source-paths->namespaces\",\"topology.finder/dirs->sources\",\"clojure.tools.namespace.file/read-file-ns-decl\",\"topology.symbols/symbols\",\"topology.edgelist-test/edges\",\"topology.edgelist/dirs->fn-edges\",\"topology.symbols/zip-nodes\",\"topology.qualifier/fq-ns\",\"clojure.zip/next\",\"clojure.core/*err*\",\"topology.edgelist/ns->edgelist\",\"clojure.tools.namespace.file/clojure-file?\",\"clojure.java.io/file\",\"clojure.zip/end?\",\"clojure.zip/node\",\"clojure.zip/zipper\",\"topology.dependencies/dependencies\",\"topology.edgelist-test/syntax-quotes-add-seq-concat-list\",\"topology.dependencies-test/should-compute-fn-calls-in-namespace\",\"leiningen.topology/topology\",\"topology.finder/find-sources-in-dir\",\"topology.finder/clojurescript-file?\",\"topology.edgelist-test/should-produce-weighted-edges-for-multiple-calls\",\"topology.dependencies/ns->fn-dep-map\",\"topology.printer/print-weighted-edges\",\"clojure.core/println\",\"topology.symbols/seq-map-zip\",\"topology.edgelist/interleave-keys\",\"topology.dependencies/interns\",\"topology.dependencies/sources\",\"clojure.repl/source-fn\",\"topology.edgelist-test/should-report-java-interop\",\"topology.qualifier/filter-fully-qualified\",\"leiningen.core.eval/eval-in-project\",\"topology.qualifier/all-fq\",\"topology.finder/source-paths->namespaces\",\"topology.finder/dirs->sources\",\"clojure.tools.namespace.file/read-file-ns-decl\",\"topology.symbols/symbols\",\"topology.edgelist-test/edges\",\"topology.edgelist/dirs->fn-edges\",\"topology.symbols/zip-nodes\",\"topology.qualifier/fq-ns\",\"clojure.zip/next\",\"clojure.core/*err*\",\"topology.edgelist/ns->edgelist\",\"clojure.tools.namespace.file/clojure-file?\",\"clojure.java.io/file\",\"clojure.zip/end?\",\"clojure.zip/node\",\"clojure.zip/zipper\",\"topology.dependencies/dependencies\",\"topology.edgelist-test/syntax-quotes-add-seq-concat-list\",\"topology.dependencies-test/should-compute-fn-calls-in-namespace\",\"leiningen.topology/topology\",\"topology.finder/find-sources-in-dir\",\"topology.finder/clojurescript-file?\",\"topology.edgelist-test/should-produce-weighted-edges-for-multiple-calls\",\"topology.dependencies/ns->fn-dep-map\",\"topology.printer/print-weighted-edges\",\"clojure.core/println\",\"topology.symbols/seq-map-zip\",\"topology.edgelist/interleave-keys\",\"topology.dependencies/interns\",\"topology.dependencies/sources\",\"clojure.repl/source-fn\",\"topology.edgelist-test/should-report-java-interop\",\"topology.qualifier/filter-fully-qualified\",\"leiningen.core.eval/eval-in-project\",\"topology.qualifier/all-fq\",\"topology.finder/source-paths->namespaces\",\"topology.finder/dirs->sources\",\"clojure.tools.namespace.file/read-file-ns-decl\",\"topology.symbols/symbols\",\"topology.edgelist-test/edges\",\"topology.edgelist/dirs->fn-edges\",\"topology.symbols/zip-nodes\",\"topology.qualifier/fq-ns\",\"clojure.zip/next\",\"clojure.core/*err*\",\"topology.edgelist/ns->edgelist\",\"clojure.tools.namespace.file/clojure-file?\",\"clojure.java.io/file\",\"clojure.zip/end?\",\"clojure.zip/node\",\"clojure.zip/zipper\",\"topology.dependencies/dependencies\",\"topology.edgelist-test/syntax-quotes-add-seq-concat-list\",\"topology.dependencies-test/should-compute-fn-calls-in-namespace\",\"leiningen.topology/topology\",\"topology.finder/find-sources-in-dir\",\"topology.finder/clojurescript-file?\",\"topology.edgelist-test/should-produce-weighted-edges-for-multiple-calls\",\"topology.dependencies/ns->fn-dep-map\",\"topology.printer/print-weighted-edges\",\"clojure.core/println\",\"topology.symbols/seq-map-zip\",\"topology.edgelist/interleave-keys\",\"topology.dependencies/interns\",\"topology.dependencies/sources\",\"clojure.repl/source-fn\",\"topology.edgelist-test/should-report-java-interop\",\"topology.qualifier/filter-fully-qualified\",\"leiningen.core.eval/eval-in-project\",\"topology.qualifier/all-fq\",\"topology.finder/source-paths->namespaces\",\"topology.finder/dirs->sources\",\"clojure.tools.namespace.file/read-file-ns-decl\",\"topology.symbols/symbols\",\"topology.edgelist-test/edges\",\"topology.edgelist/dirs->fn-edges\",\"topology.symbols/zip-nodes\",\"topology.qualifier/fq-ns\",\"clojure.zip/next\",\"clojure.core/*err*\",\"topology.edgelist/ns->edgelist\",\"clojure.tools.namespace.file/clojure-file?\",\"clojure.java.io/file\",\"clojure.zip/end?\",\"clojure.zip/node\",\"clojure.zip/zipper\",\"topology.dependencies/dependencies\",\"topology.edgelist-test/syntax-quotes-add-seq-concat-list\",\"topology.dependencies-test/should-compute-fn-calls-in-namespace\",\"leiningen.topology/topology\",\"topology.finder/find-sources-in-dir\",\"topology.finder/clojurescript-file?\",\"topology.edgelist-test/should-produce-weighted-edges-for-multiple-calls\",\"topology.dependencies/ns->fn-dep-map\",\"topology.printer/print-weighted-edges\",\"clojure.core/println\",\"topology.symbols/seq-map-zip\",\"topology.edgelist/interleave-keys\",\"topology.dependencies/interns\",\"topology.dependencies/sources\",\"clojure.repl/source-fn\",\"topology.edgelist-test/should-report-java-interop\",\"topology.qualifier/filter-fully-qualified\",\"leiningen.core.eval/eval-in-project\",\"topology.qualifier/all-fq\",\"topology.finder/source-paths->namespaces\",\"topology.finder/dirs->sources\",\"clojure.tools.namespace.file/read-file-ns-decl\",\"topology.symbols/symbols\",\"topology.edgelist-test/edges\",\"topology.edgelist/dirs->fn-edges\",\"topology.symbols/zip-nodes\",\"topology.qualifier/fq-ns\",\"clojure.zip/next\",\"clojure.core/*err*\",\"topology.edgelist/ns->edgelist\",\"clojure.tools.namespace.file/clojure-file?\",\"clojure.java.io/file\",\"clojure.zip/end?\",\"clojure.zip/node\",\"clojure.zip/zipper\",\"topology.dependencies/dependencies\",\"topology.edgelist-test/syntax-quotes-add-seq-concat-list\",\"topology.dependencies-test/should-compute-fn-calls-in-namespace\",\"leiningen.topology/topology\",\"topology.finder/find-sources-in-dir\",\"topology.finder/clojurescript-file?\",\"topology.edgelist-test/should-produce-weighted-edges-for-multiple-calls\",\"topology.dependencies/ns->fn-dep-map\",\"topology.printer/print-weighted-edges\",\"clojure.core/println\",\"topology.symbols/seq-map-zip\",\"topology.edgelist/interleave-keys\",\"topology.dependencies/interns\",\"topology.dependencies/sources\",\"clojure.repl/source-fn\",\"topology.edgelist-test/should-report-java-interop\",\"topology.qualifier/filter-fully-qualified\",\"leiningen.core.eval/eval-in-project\",\"topology.qualifier/all-fq\",\"topology.finder/source-paths->namespaces\",\"topology.finder/dirs->sources\",\"clojure.tools.namespace.file/read-file-ns-decl\",\"topology.symbols/symbols\",\"topology.edgelist-test/edges\",\"topology.edgelist/dirs->fn-edges\",\"topology.symbols/zip-nodes\",\"topology.qualifier/fq-ns\",\"clojure.zip/next\",\"clojure.core/*err*\",\"topology.edgelist/ns->edgelist\",\"clojure.tools.namespace.file/clojure-file?\",\"clojure.java.io/file\",\"clojure.zip/end?\",\"clojure.zip/node\",\"clojure.zip/zipper\",\"topology.dependencies/dependencies\",\"topology.edgelist-test/syntax-quotes-add-seq-concat-list\",\"topology.dependencies-test/should-compute-fn-calls-in-namespace\",\"leiningen.topology/topology\",\"topology.finder/find-sources-in-dir\",\"topology.finder/clojurescript-file?\",\"topology.edgelist-test/should-produce-weighted-edges-for-multiple-calls\",\"topology.dependencies/ns->fn-dep-map\",\"topology.printer/print-weighted-edges\",\"clojure.core/println\",\"topology.symbols/seq-map-zip\",\"topology.edgelist/interleave-keys\",\"topology.dependencies/interns\",\"topology.dependencies/sources\",\"clojure.repl/source-fn\",\"topology.edgelist-test/should-report-java-interop\",\"topology.qualifier/filter-fully-qualified\",\"leiningen.core.eval/eval-in-project\",\"topology.qualifier/all-fq\",\"topology.finder/source-paths->namespaces\",\"topology.finder/dirs->sources\",\"clojure.tools.namespace.file/read-file-ns-decl\",\"topology.symbols/symbols\",\"topology.edgelist-test/edges\",\"topology.edgelist/dirs->fn-edges\",\"topology.symbols/zip-nodes\",\"topology.qualifier/fq-ns\",\"clojure.zip/next\",\"clojure.core/*err*\",\"topology.edgelist/ns->edgelist\",\"clojure.tools.namespace.file/clojure-file?\",\"clojure.java.io/file\",\"clojure.zip/end?\",\"clojure.zip/node\",\"clojure.zip/zipper\",\"topology.dependencies/dependencies\",\"topology.edgelist-test/syntax-quotes-add-seq-concat-list\",\"topology.dependencies-test/should-compute-fn-calls-in-namespace\",\"leiningen.topology/topology\",\"topology.finder/find-sources-in-dir\",\"topology.finder/clojurescript-file?\",\"topology.edgelist-test/should-produce-weighted-edges-for-multiple-calls\",\"topology.dependencies/ns->fn-dep-map\",\"topology.printer/print-weighted-edges\",\"clojure.core/println\",\"topology.symbols/seq-map-zip\",\"topology.edgelist/interleave-keys\",\"topology.dependencies/interns\",\"topology.dependencies/sources\",\"clojure.repl/source-fn\",\"topology.edgelist-test/should-report-java-interop\",\"topology.qualifier/filter-fully-qualified\",\"leiningen.core.eval/eval-in-project\",\"topology.qualifier/all-fq\",\"topology.finder/source-paths->namespaces\",\"topology.finder/dirs->sources\",\"clojure.tools.namespace.file/read-file-ns-decl\",\"topology.symbols/symbols\",\"topology.edgelist-test/edges\",\"topology.edgelist/dirs->fn-edges\",\"topology.symbols/zip-nodes\",\"topology.qualifier/fq-ns\",\"clojure.zip/next\",\"clojure.core/*err*\",\"topology.edgelist/ns->edgelist\",\"clojure.tools.namespace.file/clojure-file?\",\"clojure.java.io/file\",\"clojure.zip/end?\",\"clojure.zip/node\",\"clojure.zip/zipper\",\"topology.dependencies/dependencies\",\"topology.edgelist-test/syntax-quotes-add-seq-concat-list\",\"topology.dependencies-test/should-compute-fn-calls-in-namespace\",\"leiningen.topology/topology\",\"topology.finder/find-sources-in-dir\",\"topology.finder/clojurescript-file?\",\"topology.edgelist-test/should-produce-weighted-edges-for-multiple-calls\",\"topology.dependencies/ns->fn-dep-map\",\"topology.printer/print-weighted-edges\",\"clojure.core/println\",\"topology.symbols/seq-map-zip\",\"topology.edgelist/interleave-keys\",\"topology.dependencies/interns\",\"topology.dependencies/sources\",\"clojure.repl/source-fn\",\"topology.edgelist-test/should-report-java-interop\",\"topology.qualifier/filter-fully-qualified\",\"leiningen.core.eval/eval-in-project\",\"topology.qualifier/all-fq\",\"topology.finder/source-paths->namespaces\",\"topology.finder/dirs->sources\",\"clojure.tools.namespace.file/read-file-ns-decl\",\"topology.symbols/symbols\",\"topology.edgelist-test/edges\",\"topology.edgelist/dirs->fn-edges\",\"topology.symbols/zip-nodes\",\"topology.qualifier/fq-ns\",\"clojure.zip/next\",\"clojure.core/*err*\",\"topology.edgelist/ns->edgelist\",\"clojure.tools.namespace.file/clojure-file?\",\"clojure.java.io/file\",\"clojure.zip/end?\",\"clojure.zip/node\",\"clojure.zip/zipper\",\"topology.dependencies/dependencies\",\"topology.edgelist-test/syntax-quotes-add-seq-concat-list\",\"topology.dependencies-test/should-compute-fn-calls-in-namespace\",\"leiningen.topology/topology\",\"topology.finder/find-sources-in-dir\",\"topology.finder/clojurescript-file?\",\"topology.edgelist-test/should-produce-weighted-edges-for-multiple-calls\",\"topology.dependencies/ns->fn-dep-map\",\"topology.printer/print-weighted-edges\",\"clojure.core/println\",\"topology.symbols/seq-map-zip\",\"topology.edgelist/interleave-keys\",\"topology.dependencies/interns\",\"topology.dependencies/sources\",\"clojure.repl/source-fn\",\"topology.edgelist-test/should-report-java-interop\",\"topology.qualifier/filter-fully-qualified\",\"leiningen.core.eval/eval-in-project\",\"topology.qualifier/all-fq\",\"topology.finder/source-paths->namespaces\",\"topology.finder/dirs->sources\",\"clojure.tools.namespace.file/read-file-ns-decl\",\"topology.symbols/symbols\",\"topology.edgelist-test/edges\",\"topology.edgelist/dirs->fn-edges\",\"topology.symbols/zip-nodes\",\"topology.qualifier/fq-ns\",\"clojure.zip/next\",\"clojure.core/*err*\",\"topology.edgelist/ns->edgelist\",\"clojure.tools.namespace.file/clojure-file?\",\"clojure.java.io/file\",\"clojure.zip/end?\",\"clojure.zip/node\",\"clojure.zip/zipper\",\"topology.dependencies/dependencies\",\"topology.edgelist-test/syntax-quotes-add-seq-concat-list\",\"topology.dependencies-test/should-compute-fn-calls-in-namespace\",\"leiningen.topology/topology\",\"topology.finder/find-sources-in-dir\",\"topology.finder/clojurescript-file?\",\"topology.edgelist-test/should-produce-weighted-edges-for-multiple-calls\",\"topology.dependencies/ns->fn-dep-map\",\"topology.printer/print-weighted-edges\",\"clojure.core/println\",\"topology.symbols/seq-map-zip\",\"topology.edgelist/interleave-keys\",\"topology.dependencies/interns\",\"topology.dependencies/sources\",\"clojure.repl/source-fn\",\"topology.edgelist-test/should-report-java-interop\",\"topology.qualifier/filter-fully-qualified\",\"leiningen.core.eval/eval-in-project\",\"topology.qualifier/all-fq\",\"topology.finder/source-paths->namespaces\",\"topology.finder/dirs->sources\",\"clojure.tools.namespace.file/read-file-ns-decl\",\"topology.symbols/symbols\",\"topology.edgelist-test/edges\",\"topology.edgelist/dirs->fn-edges\",\"topology.symbols/zip-nodes\",\"topology.qualifier/fq-ns\",\"clojure.zip/next\",\"clojure.core/*err*\",\"topology.edgelist/ns->edgelist\",\"clojure.tools.namespace.file/clojure-file?\",\"clojure.java.io/file\",\"clojure.zip/end?\",\"clojure.zip/node\",\"clojure.zip/zipper\",\"topology.dependencies/dependencies\",\"topology.edgelist-test/syntax-quotes-add-seq-concat-list\",\"topology.dependencies-test/should-compute-fn-calls-in-namespace\",\"leiningen.topology/topology\",\"topology.finder/find-sources-in-dir\",\"topology.finder/clojurescript-file?\",\"topology.edgelist-test/should-produce-weighted-edges-for-multiple-calls\",\"topology.dependencies/ns->fn-dep-map\",\"topology.printer/print-weighted-edges\",\"clojure.core/println\",\"topology.symbols/seq-map-zip\",\"topology.edgelist/interleave-keys\",\"topology.dependencies/interns\",\"topology.dependencies/sources\",\"clojure.repl/source-fn\",\"topology.edgelist-test/should-report-java-interop\",\"topology.qualifier/filter-fully-qualified\",\"leiningen.core.eval/eval-in-project\",\"topology.qualifier/all-fq\",\"topology.finder/source-paths->namespaces\",\"topology.finder/dirs->sources\",\"clojure.tools.namespace.file/read-file-ns-decl\",\"topology.symbols/symbols\",\"topology.edgelist-test/edges\",\"topology.edgelist/dirs->fn-edges\",\"topology.symbols/zip-nodes\",\"topology.qualifier/fq-ns\",\"clojure.zip/next\",\"clojure.core/*err*\",\"topology.edgelist/ns->edgelist\",\"clojure.tools.namespace.file/clojure-file?\",\"clojure.java.io/file\",\"clojure.zip/end?\",\"clojure.zip/node\",\"clojure.zip/zipper\",\"topology.dependencies/dependencies\",\"topology.edgelist-test/syntax-quotes-add-seq-concat-list\",\"topology.dependencies-test/should-compute-fn-calls-in-namespace\",\"leiningen.topology/topology\",\"topology.finder/find-sources-in-dir\",\"topology.finder/clojurescript-file?\",\"topology.edgelist-test/should-produce-weighted-edges-for-multiple-calls\",\"topology.dependencies/ns->fn-dep-map\",\"topology.printer/print-weighted-edges\",\"clojure.core/println\",\"topology.symbols/seq-map-zip\",\"topology.edgelist/interleave-keys\",\"topology.dependencies/interns\",\"topology.dependencies/sources\",\"clojure.repl/source-fn\",\"topology.edgelist-test/should-report-java-interop\",\"topology.qualifier/filter-fully-qualified\",\"leiningen.core.eval/eval-in-project\",\"topology.qualifier/all-fq\",\"topology.finder/source-paths->namespaces\",\"topology.finder/dirs->sources\",\"clojure.tools.namespace.file/read-file-ns-decl\",\"topology.symbols/symbols\",\"topology.edgelist-test/edges\",\"topology.edgelist/dirs->fn-edges\",\"topology.symbols/zip-nodes\",\"topology.qualifier/fq-ns\",\"clojure.zip/next\",\"clojure.core/*err*\",\"topology.edgelist/ns->edgelist\",\"clojure.tools.namespace.file/clojure-file?\",\"clojure.java.io/file\",\"clojure.zip/end?\",\"clojure.zip/node\",\"clojure.zip/zipper\",\"topology.dependencies/dependencies\",\"topology.edgelist-test/syntax-quotes-add-seq-concat-list\",\"topology.dependencies-test/should-compute-fn-calls-in-namespace\",\"leiningen.topology/topology\",\"topology.finder/find-sources-in-dir\",\"topology.finder/clojurescript-file?\",\"topology.edgelist-test/should-produce-weighted-edges-for-multiple-calls\",\"topology.dependencies/ns->fn-dep-map\",\"topology.printer/print-weighted-edges\",\"clojure.core/println\",\"topology.symbols/seq-map-zip\",\"topology.edgelist/interleave-keys\",\"topology.dependencies/interns\",\"topology.dependencies/sources\",\"clojure.repl/source-fn\",\"topology.edgelist-test/should-report-java-interop\",\"topology.qualifier/filter-fully-qualified\",\"leiningen.core.eval/eval-in-project\",\"topology.qualifier/all-fq\",\"topology.finder/source-paths->namespaces\",\"topology.finder/dirs->sources\",\"clojure.tools.namespace.file/read-file-ns-decl\",\"topology.symbols/symbols\",\"topology.edgelist-test/edges\",\"topology.edgelist/dirs->fn-edges\",\"topology.symbols/zip-nodes\",\"topology.qualifier/fq-ns\",\"clojure.zip/next\",\"clojure.core/*err*\",\"topology.edgelist/ns->edgelist\",\"clojure.tools.namespace.file/clojure-file?\",\"clojure.java.io/file\",\"clojure.zip/end?\",\"clojure.zip/node\",\"clojure.zip/zipper\",\"topology.dependencies/dependencies\",\"topology.edgelist-test/syntax-quotes-add-seq-concat-list\",\"topology.dependencies-test/should-compute-fn-calls-in-namespace\",\"leiningen.topology/topology\",\"topology.finder/find-sources-in-dir\",\"topology.finder/clojurescript-file?\",\"topology.edgelist-test/should-produce-weighted-edges-for-multiple-calls\",\"topology.dependencies/ns->fn-dep-map\",\"topology.printer/print-weighted-edges\",\"clojure.core/println\",\"topology.symbols/seq-map-zip\",\"topology.edgelist/interleave-keys\",\"topology.dependencies/interns\",\"topology.dependencies/sources\",\"clojure.repl/source-fn\",\"topology.edgelist-test/should-report-java-interop\",\"topology.qualifier/filter-fully-qualified\",\"leiningen.core.eval/eval-in-project\",\"topology.qualifier/all-fq\",\"topology.finder/source-paths->namespaces\",\"topology.finder/dirs->sources\",\"clojure.tools.namespace.file/read-file-ns-decl\",\"topology.symbols/symbols\",\"topology.edgelist-test/edges\",\"topology.edgelist/dirs->fn-edges\",\"topology.symbols/zip-nodes\",\"topology.qualifier/fq-ns\",\"clojure.zip/next\",\"clojure.core/*err*\",\"topology.edgelist/ns->edgelist\",\"clojure.tools.namespace.file/clojure-file?\",\"clojure.java.io/file\",\"clojure.zip/end?\",\"clojure.zip/node\",\"clojure.zip/zipper\",\"topology.dependencies/dependencies\",\"topology.edgelist-test/syntax-quotes-add-seq-concat-list\",\"topology.dependencies-test/should-compute-fn-calls-in-namespace\",\"leiningen.topology/topology\",\"topology.finder/find-sources-in-dir\",\"topology.finder/clojurescript-file?\",\"topology.edgelist-test/should-produce-weighted-edges-for-multiple-calls\",\"topology.dependencies/ns->fn-dep-map\",\"topology.printer/print-weighted-edges\",\"clojure.core/println\",\"topology.symbols/seq-map-zip\",\"topology.edgelist/interleave-keys\",\"topology.dependencies/interns\",\"topology.dependencies/sources\",\"clojure.repl/source-fn\",\"topology.edgelist-test/should-report-java-interop\",\"topology.qualifier/filter-fully-qualified\",\"leiningen.core.eval/eval-in-project\",\"topology.qualifier/all-fq\",\"topology.finder/source-paths->namespaces\",\"topology.finder/dirs->sources\",\"clojure.tools.namespace.file/read-file-ns-decl\",\"topology.symbols/symbols\",\"topology.edgelist-test/edges\",\"topology.edgelist/dirs->fn-edges\",\"topology.symbols/zip-nodes\",\"topology.qualifier/fq-ns\",\"clojure.zip/next\",\"clojure.core/*err*\",\"topology.edgelist/ns->edgelist\",\"clojure.tools.namespace.file/clojure-file?\",\"clojure.java.io/file\",\"clojure.zip/end?\",\"clojure.zip/node\",\"clojure.zip/zipper\",\"topology.dependencies/dependencies\",\"topology.edgelist-test/syntax-quotes-add-seq-concat-list\",\"topology.dependencies-test/should-compute-fn-calls-in-namespace\",\"leiningen.topology/topology\",\"topology.finder/find-sources-in-dir\",\"topology.finder/clojurescript-file?\",\"topology.edgelist-test/should-produce-weighted-edges-for-multiple-calls\",\"topology.dependencies/ns->fn-dep-map\",\"topology.printer/print-weighted-edges\",\"clojure.core/println\",\"topology.symbols/seq-map-zip\",\"topology.edgelist/interleave-keys\",\"topology.dependencies/interns\",\"topology.dependencies/sources\",\"clojure.repl/source-fn\",\"topology.edgelist-test/should-report-java-interop\",\"topology.qualifier/filter-fully-qualified\",\"leiningen.core.eval/eval-in-project\",\"topology.qualifier/all-fq\",\"topology.finder/source-paths->namespaces\",\"topology.finder/dirs->sources\",\"clojure.tools.namespace.file/read-file-ns-decl\",\"topology.symbols/symbols\",\"topology.edgelist-test/edges\",\"topology.edgelist/dirs->fn-edges\",\"topology.symbols/zip-nodes\",\"topology.qualifier/fq-ns\",\"clojure.zip/next\",\"clojure.core/*err*\",\"topology.edgelist/ns->edgelist\",\"clojure.tools.namespace.file/clojure-file?\",\"clojure.java.io/file\",\"clojure.zip/end?\",\"clojure.zip/node\",\"clojure.zip/zipper\",\"topology.dependencies/dependencies\",\"topology.edgelist-test/syntax-quotes-add-seq-concat-list\",\"topology.dependencies-test/should-compute-fn-calls-in-namespace\",\"leiningen.topology/topology\",\"topology.finder/find-sources-in-dir\",\"topology.finder/clojurescript-file?\",\"topology.edgelist-test/should-produce-weighted-edges-for-multiple-calls\",\"topology.dependencies/ns->fn-dep-map\",\"topology.printer/print-weighted-edges\",\"clojure.core/println\",\"topology.symbols/seq-map-zip\",\"topology.edgelist/interleave-keys\",\"topology.dependencies/interns\",\"topology.dependencies/sources\",\"clojure.repl/source-fn\",\"topology.edgelist-test/should-report-java-interop\",\"topology.qualifier/filter-fully-qualified\",\"leiningen.core.eval/eval-in-project\",\"topology.qualifier/all-fq\",\"topology.finder/source-paths->namespaces\",\"topology.finder/dirs->sources\",\"clojure.tools.namespace.file/read-file-ns-decl\",\"topology.symbols/symbols\",\"topology.edgelist-test/edges\",\"topology.edgelist/dirs->fn-edges\",\"topology.symbols/zip-nodes\",\"topology.qualifier/fq-ns\",\"clojure.zip/next\",\"clojure.core/*err*\",\"topology.edgelist/ns->edgelist\",\"clojure.tools.namespace.file/clojure-file?\",\"clojure.java.io/file\",\"clojure.zip/end?\",\"clojure.zip/node\",\"clojure.zip/zipper\",\"topology.dependencies/dependencies\",\"topology.edgelist-test/syntax-quotes-add-seq-concat-list\",\"topology.dependencies-test/should-compute-fn-calls-in-namespace\",\"leiningen.topology/topology\",\"topology.finder/find-sources-in-dir\",\"topology.finder/clojurescript-file?\",\"topology.edgelist-test/should-produce-weighted-edges-for-multiple-calls\",\"topology.dependencies/ns->fn-dep-map\",\"topology.printer/print-weighted-edges\",\"clojure.core/println\",\"topology.symbols/seq-map-zip\",\"topology.edgelist/interleave-keys\",\"topology.dependencies/interns\",\"topology.dependencies/sources\",\"clojure.repl/source-fn\",\"topology.edgelist-test/should-report-java-interop\",\"topology.qualifier/filter-fully-qualified\",\"leiningen.core.eval/eval-in-project\",\"topology.qualifier/all-fq\",\"topology.finder/source-paths->namespaces\",\"topology.finder/dirs->sources\",\"clojure.tools.namespace.file/read-file-ns-decl\",\"topology.symbols/symbols\",\"topology.edgelist-test/edges\",\"topology.edgelist/dirs->fn-edges\",\"topology.symbols/zip-nodes\",\"topology.qualifier/fq-ns\",\"clojure.zip/next\",\"clojure.core/*err*\",\"topology.edgelist/ns->edgelist\",\"clojure.tools.namespace.file/clojure-file?\",\"clojure.java.io/file\",\"clojure.zip/end?\",\"clojure.zip/node\",\"clojure.zip/zipper\",\"topology.dependencies/dependencies\",\"topology.edgelist-test/syntax-quotes-add-seq-concat-list\",\"topology.dependencies-test/should-compute-fn-calls-in-namespace\",\"leiningen.topology/topology\",\"topology.finder/find-sources-in-dir\",\"topology.finder/clojurescript-file?\",\"topology.edgelist-test/should-produce-weighted-edges-for-multiple-calls\",\"topology.dependencies/ns->fn-dep-map\",\"topology.printer/print-weighted-edges\",\"clojure.core/println\",\"topology.symbols/seq-map-zip\",\"topology.edgelist/interleave-keys\",\"topology.dependencies/interns\",\"topology.dependencies/sources\",\"clojure.repl/source-fn\",\"topology.edgelist-test/should-report-java-interop\",\"topology.qualifier/filter-fully-qualified\",\"leiningen.core.eval/eval-in-project\",\"topology.qualifier/all-fq\",\"topology.finder/source-paths->namespaces\",\"topology.finder/dirs->sources\",\"clojure.tools.namespace.file/read-file-ns-decl\",\"topology.symbols/symbols\",\"topology.edgelist-test/edges\",\"topology.edgelist/dirs->fn-edges\",\"topology.symbols/zip-nodes\",\"topology.qualifier/fq-ns\",\"clojure.zip/next\",\"clojure.core/*err*\",\"topology.edgelist/ns->edgelist\",\"clojure.tools.namespace.file/clojure-file?\",\"clojure.java.io/file\",\"clojure.zip/end?\",\"clojure.zip/node\",\"clojure.zip/zipper\"]}},\"id\":\"58bf37de-bf44-45de-a394-1136a45a6bd6\",\"type\":\"ColumnDataSource\"},{\"attributes\":{\"callback\":null,\"plot\":{\"id\":\"6326ae22-a33e-41ea-a700-bb3f9c52b70b\",\"subtype\":\"Figure\",\"type\":\"Plot\"},\"tooltips\":[[\"names\",\"@yname, @xname\"],[\"weight\",\"@weight\"]]},\"id\":\"3063b6b4-c6b3-4252-ba6b-dbedd7482ad6\",\"type\":\"HoverTool\"},{\"attributes\":{\"fill_alpha\":{\"field\":\"alphas\"},\"fill_color\":{\"field\":\"colors\"},\"height\":{\"units\":\"data\",\"value\":0.9},\"line_alpha\":{\"field\":\"alphas\"},\"line_color\":{\"value\":null},\"width\":{\"units\":\"data\",\"value\":0.9},\"x\":{\"field\":\"xname\"},\"y\":{\"field\":\"yname\"}},\"id\":\"6d1aa4a5-599e-4fdb-bdbb-be01e905eb1d\",\"type\":\"Rect\"},{\"attributes\":{\"plot\":{\"id\":\"6326ae22-a33e-41ea-a700-bb3f9c52b70b\",\"subtype\":\"Figure\",\"type\":\"Plot\"}},\"id\":\"2060ef73-5563-41ad-8598-1c1b610e021c\",\"type\":\"SaveTool\"},{\"attributes\":{\"fill_alpha\":{\"value\":0.1},\"fill_color\":{\"value\":\"#1f77b4\"},\"height\":{\"units\":\"data\",\"value\":0.9},\"line_alpha\":{\"value\":0.1},\"line_color\":{\"value\":\"#1f77b4\"},\"width\":{\"units\":\"data\",\"value\":0.9},\"x\":{\"field\":\"xname\"},\"y\":{\"field\":\"yname\"}},\"id\":\"70de6f5d-6c35-41b2-b989-5532a6ef935d\",\"type\":\"Rect\"},{\"attributes\":{\"data_source\":{\"id\":\"58bf37de-bf44-45de-a394-1136a45a6bd6\",\"type\":\"ColumnDataSource\"},\"glyph\":{\"id\":\"6d1aa4a5-599e-4fdb-bdbb-be01e905eb1d\",\"type\":\"Rect\"},\"hover_glyph\":{\"id\":\"efdb9478-7044-4a9d-8c58-7fb99a958778\",\"type\":\"Rect\"},\"muted_glyph\":null,\"nonselection_glyph\":{\"id\":\"70de6f5d-6c35-41b2-b989-5532a6ef935d\",\"type\":\"Rect\"},\"selection_glyph\":null},\"id\":\"25b2617a-c2a9-45ce-9fc6-fc52b34d7312\",\"type\":\"GlyphRenderer\"},{\"attributes\":{},\"id\":\"03b50781-72bb-47e8-8b11-88ac6625b931\",\"type\":\"CategoricalTickFormatter\"},{\"attributes\":{},\"id\":\"4849a06c-2503-40a9-b7e0-91054fe407a2\",\"type\":\"CategoricalTickFormatter\"},{\"attributes\":{\"above\":[{\"id\":\"d6c8fb6d-7a22-4455-ad90-712644bc77a3\",\"type\":\"CategoricalAxis\"}],\"left\":[{\"id\":\"0a156a3c-328f-4b08-bfa2-5b25cc6b8002\",\"type\":\"CategoricalAxis\"}],\"name\":\"outdegree\",\"plot_height\":900,\"plot_width\":900,\"renderers\":[{\"id\":\"d6c8fb6d-7a22-4455-ad90-712644bc77a3\",\"type\":\"CategoricalAxis\"},{\"id\":\"3c64c666-7881-4e68-ae68-75c4a5ef3073\",\"type\":\"Grid\"},{\"id\":\"0a156a3c-328f-4b08-bfa2-5b25cc6b8002\",\"type\":\"CategoricalAxis\"},{\"id\":\"870b6d42-4983-4de5-92c6-20d24aa68d4c\",\"type\":\"Grid\"},{\"id\":\"25b2617a-c2a9-45ce-9fc6-fc52b34d7312\",\"type\":\"GlyphRenderer\"}],\"title\":{\"id\":\"70abe701-bbc0-45be-9f58-c707292976fd\",\"type\":\"Title\"},\"tool_events\":{\"id\":\"3a2e2f43-a99f-4e29-963c-658845f96bbf\",\"type\":\"ToolEvents\"},\"toolbar\":{\"id\":\"0f2531f6-cb98-403e-8545-6e926e6ff147\",\"type\":\"Toolbar\"},\"x_range\":{\"id\":\"14c86610-79d6-444e-bb97-817c1e864178\",\"type\":\"FactorRange\"},\"x_scale\":{\"id\":\"26bcfc77-208d-43c7-8c56-d828bcf19858\",\"type\":\"CategoricalScale\"},\"y_range\":{\"id\":\"8ede9cb1-8eab-462e-b90b-5499d0b7a87a\",\"type\":\"FactorRange\"},\"y_scale\":{\"id\":\"ab830a7e-277e-46e3-886c-317f3abbff0f\",\"type\":\"CategoricalScale\"}},\"id\":\"6326ae22-a33e-41ea-a700-bb3f9c52b70b\",\"subtype\":\"Figure\",\"type\":\"Plot\"}],\"root_ids\":[\"6326ae22-a33e-41ea-a700-bb3f9c52b70b\"]},\"title\":\"Bokeh Application\",\"version\":\"0.12.6\"}};\n",
       "            var render_items = [{\"docid\":\"b9900d33-f8cd-4bf4-8817-1aff12369ed4\",\"elementid\":\"03556f0c-377e-457d-a544-4291e237364d\",\"modelid\":\"6326ae22-a33e-41ea-a700-bb3f9c52b70b\"}];\n",
       "            \n",
       "            Bokeh.embed.embed_items(docs_json, render_items);\n",
       "          };\n",
       "          if (document.readyState != \"loading\") fn();\n",
       "          else document.addEventListener(\"DOMContentLoaded\", fn);\n",
       "        })();\n",
       "      },\n",
       "      function(Bokeh) {\n",
       "      }\n",
       "    ];\n",
       "  \n",
       "    function run_inline_js() {\n",
       "      \n",
       "      if ((window.Bokeh !== undefined) || (force === true)) {\n",
       "        for (var i = 0; i < inline_js.length; i++) {\n",
       "          inline_js[i](window.Bokeh);\n",
       "        }if (force === true) {\n",
       "          display_loaded();\n",
       "        }} else if (Date.now() < window._bokeh_timeout) {\n",
       "        setTimeout(run_inline_js, 100);\n",
       "      } else if (!window._bokeh_failed_load) {\n",
       "        console.log(\"Bokeh: BokehJS failed to load within specified timeout.\");\n",
       "        window._bokeh_failed_load = true;\n",
       "      } else if (force !== true) {\n",
       "        var cell = $(document.getElementById(\"03556f0c-377e-457d-a544-4291e237364d\")).parents('.cell').data().cell;\n",
       "        cell.output_area.append_execute_result(NB_LOAD_WARNING)\n",
       "      }\n",
       "  \n",
       "    }\n",
       "  \n",
       "    if (window._bokeh_is_loading === 0) {\n",
       "      console.log(\"Bokeh: BokehJS loaded, going straight to plotting\");\n",
       "      run_inline_js();\n",
       "    } else {\n",
       "      load_libs(js_urls, function() {\n",
       "        console.log(\"Bokeh: BokehJS plotting callback run at\", now());\n",
       "        run_inline_js();\n",
       "      });\n",
       "    }\n",
       "  }(this));\n",
       "</script>"
      ]
     },
     "metadata": {},
     "output_type": "display_data"
    }
   ],
   "source": [
    "p = matrix(lg, 'outdegree', \"{}-{} by outdegree\".format(network_collection, network_name), 900, palette)\n",
    "show(p)"
   ]
  },
  {
   "cell_type": "code",
   "execution_count": 57,
   "metadata": {
    "collapsed": false,
    "deletable": true,
    "editable": true
   },
   "outputs": [
    {
     "data": {
      "text/html": [
       "\n",
       "\n",
       "    <div class=\"bk-root\">\n",
       "        <div class=\"bk-plotdiv\" id=\"e939ffa3-710a-4794-a067-c589bd0af0c6\"></div>\n",
       "    </div>\n",
       "<script type=\"text/javascript\">\n",
       "  \n",
       "  (function(global) {\n",
       "    function now() {\n",
       "      return new Date();\n",
       "    }\n",
       "  \n",
       "    var force = false;\n",
       "  \n",
       "    if (typeof (window._bokeh_onload_callbacks) === \"undefined\" || force === true) {\n",
       "      window._bokeh_onload_callbacks = [];\n",
       "      window._bokeh_is_loading = undefined;\n",
       "    }\n",
       "  \n",
       "  \n",
       "    \n",
       "    if (typeof (window._bokeh_timeout) === \"undefined\" || force === true) {\n",
       "      window._bokeh_timeout = Date.now() + 0;\n",
       "      window._bokeh_failed_load = false;\n",
       "    }\n",
       "  \n",
       "    var NB_LOAD_WARNING = {'data': {'text/html':\n",
       "       \"<div style='background-color: #fdd'>\\n\"+\n",
       "       \"<p>\\n\"+\n",
       "       \"BokehJS does not appear to have successfully loaded. If loading BokehJS from CDN, this \\n\"+\n",
       "       \"may be due to a slow or bad network connection. Possible fixes:\\n\"+\n",
       "       \"</p>\\n\"+\n",
       "       \"<ul>\\n\"+\n",
       "       \"<li>re-rerun `output_notebook()` to attempt to load from CDN again, or</li>\\n\"+\n",
       "       \"<li>use INLINE resources instead, as so:</li>\\n\"+\n",
       "       \"</ul>\\n\"+\n",
       "       \"<code>\\n\"+\n",
       "       \"from bokeh.resources import INLINE\\n\"+\n",
       "       \"output_notebook(resources=INLINE)\\n\"+\n",
       "       \"</code>\\n\"+\n",
       "       \"</div>\"}};\n",
       "  \n",
       "    function display_loaded() {\n",
       "      if (window.Bokeh !== undefined) {\n",
       "        var el = document.getElementById(\"e939ffa3-710a-4794-a067-c589bd0af0c6\");\n",
       "        el.textContent = \"BokehJS \" + Bokeh.version + \" successfully loaded.\";\n",
       "      } else if (Date.now() < window._bokeh_timeout) {\n",
       "        setTimeout(display_loaded, 100)\n",
       "      }\n",
       "    }\n",
       "  \n",
       "    function run_callbacks() {\n",
       "      try {\n",
       "        window._bokeh_onload_callbacks.forEach(function(callback) { callback() });\n",
       "      }\n",
       "      finally {\n",
       "        delete window._bokeh_onload_callbacks\n",
       "      }\n",
       "      console.info(\"Bokeh: all callbacks have finished\");\n",
       "    }\n",
       "  \n",
       "    function load_libs(js_urls, callback) {\n",
       "      window._bokeh_onload_callbacks.push(callback);\n",
       "      if (window._bokeh_is_loading > 0) {\n",
       "        console.log(\"Bokeh: BokehJS is being loaded, scheduling callback at\", now());\n",
       "        return null;\n",
       "      }\n",
       "      if (js_urls == null || js_urls.length === 0) {\n",
       "        run_callbacks();\n",
       "        return null;\n",
       "      }\n",
       "      console.log(\"Bokeh: BokehJS not loaded, scheduling load and callback at\", now());\n",
       "      window._bokeh_is_loading = js_urls.length;\n",
       "      for (var i = 0; i < js_urls.length; i++) {\n",
       "        var url = js_urls[i];\n",
       "        var s = document.createElement('script');\n",
       "        s.src = url;\n",
       "        s.async = false;\n",
       "        s.onreadystatechange = s.onload = function() {\n",
       "          window._bokeh_is_loading--;\n",
       "          if (window._bokeh_is_loading === 0) {\n",
       "            console.log(\"Bokeh: all BokehJS libraries loaded\");\n",
       "            run_callbacks()\n",
       "          }\n",
       "        };\n",
       "        s.onerror = function() {\n",
       "          console.warn(\"failed to load library \" + url);\n",
       "        };\n",
       "        console.log(\"Bokeh: injecting script tag for BokehJS library: \", url);\n",
       "        document.getElementsByTagName(\"head\")[0].appendChild(s);\n",
       "      }\n",
       "    };var element = document.getElementById(\"e939ffa3-710a-4794-a067-c589bd0af0c6\");\n",
       "    if (element == null) {\n",
       "      console.log(\"Bokeh: ERROR: autoload.js configured with elementid 'e939ffa3-710a-4794-a067-c589bd0af0c6' but no matching script tag was found. \")\n",
       "      return false;\n",
       "    }\n",
       "  \n",
       "    var js_urls = [];\n",
       "  \n",
       "    var inline_js = [\n",
       "      function(Bokeh) {\n",
       "        (function() {\n",
       "          var fn = function() {\n",
       "            var docs_json = {\"6f035699-263a-4d6b-afe4-43a32374d7c5\":{\"roots\":{\"references\":[{\"attributes\":{\"callback\":null,\"column_names\":[\"xname\",\"yname\",\"colors\",\"alphas\",\"weight\"],\"data\":{\"alphas\":[0.2,0.1,0.1,0.1,0.1,0.1,0.1,1.0,0.1,0.1,0.1,0.1,0.1,0.1,0.1,0.1,0.1,0.1,0.1,0.1,0.1,0.1,0.1,0.1,0.1,0.1,0.1,0.1,0.1,0.1,0.1,0.1,0.1,0.1,0.1,0.1,0.2,0.1,0.1,0.1,0.1,0.1,0.1,0.1,0.1,0.1,0.1,0.1,0.1,0.1,0.1,0.1,0.1,0.1,0.1,0.1,0.1,0.1,0.1,0.1,0.1,0.1,0.1,0.1,0.1,0.1,0.1,0.1,0.1,0.1,0.1,0.1,0.2,0.1,0.1,0.1,0.1,0.1,0.1,0.1,0.1,0.1,0.1,0.1,0.1,0.1,0.1,0.1,0.1,0.1,0.1,0.1,0.1,0.1,0.1,0.1,0.1,0.1,0.1,0.1,0.1,0.1,0.1,0.1,0.1,0.1,0.1,0.1,0.2,0.1,0.1,0.1,0.1,0.1,0.1,0.1,0.1,0.1,0.1,0.1,0.1,0.1,0.1,0.1,0.1,0.1,0.1,0.1,0.1,0.1,0.1,0.1,0.1,0.1,0.1,0.1,0.1,0.1,0.1,0.1,0.1,0.1,0.1,0.1,0.2,0.1,0.1,0.1,0.1,0.1,0.1,0.1,0.1,0.1,0.1,0.1,0.1,0.1,0.1,0.1,1.0,0.1,0.1,0.1,0.1,0.1,0.1,0.1,0.1,0.1,0.1,0.1,0.1,0.1,0.1,0.1,0.1,0.1,0.1,1.0,0.2,0.1,0.1,0.1,0.1,0.1,0.1,0.1,0.1,0.1,0.1,0.1,0.1,0.1,0.1,0.1,0.1,0.1,0.1,0.1,0.1,0.1,0.1,0.1,0.1,0.1,0.1,0.1,0.1,0.1,0.1,0.1,0.1,0.1,0.1,0.1,0.2,0.1,0.1,0.1,0.1,0.1,0.1,0.1,0.1,0.1,0.1,0.1,0.1,0.1,0.1,0.1,0.1,0.1,0.1,0.1,0.1,0.1,0.1,0.1,0.1,0.1,0.1,0.1,0.1,0.1,0.1,0.9,0.1,0.1,0.1,0.1,0.2,0.1,0.1,0.1,0.1,0.1,0.1,0.1,0.1,0.1,0.1,0.1,0.1,0.1,0.1,0.1,0.1,0.1,0.1,0.1,0.1,0.1,0.9,0.1,0.1,0.1,0.1,0.1,0.1,0.1,0.1,0.9,0.1,0.1,0.1,0.1,0.2,0.1,0.1,0.1,0.1,0.1,0.1,0.1,0.1,0.1,0.1,0.1,0.1,0.1,0.1,0.1,0.1,0.1,0.1,0.1,0.1,0.1,0.1,0.1,0.1,0.1,0.1,0.1,0.1,0.1,0.1,0.1,0.1,0.1,0.1,0.9,0.2,0.1,0.1,0.1,0.1,0.1,0.1,0.1,0.1,0.1,0.1,0.1,0.1,0.1,0.1,0.1,0.1,0.1,0.1,0.1,0.1,0.1,0.1,0.1,0.1,0.1,0.1,0.1,0.1,0.1,0.1,0.1,0.1,0.1,0.1,0.1,0.2,0.1,0.1,0.1,0.1,0.1,0.1,0.1,0.1,0.1,0.1,0.1,0.1,0.1,0.1,1.0,0.1,0.1,0.1,0.1,0.1,0.1,0.1,0.1,0.1,0.1,0.1,0.1,0.1,0.1,0.1,0.1,0.1,0.1,0.1,0.1,0.2,0.1,0.1,0.1,0.1,0.1,0.1,0.1,0.1,0.1,0.1,0.1,0.1,0.1,0.1,0.1,0.1,0.1,1.0,0.1,0.1,0.1,0.1,0.1,0.1,0.1,0.1,0.1,0.1,0.1,0.1,1.0,0.1,0.1,0.1,0.1,0.2,0.1,0.1,0.1,0.1,0.1,0.1,0.1,0.1,0.1,0.1,0.1,0.1,0.1,0.1,0.1,0.1,0.1,0.1,0.1,0.1,0.1,0.1,0.1,0.1,0.1,0.1,0.1,0.1,0.1,1.0,0.1,0.1,0.1,0.1,0.1,0.2,0.1,0.1,0.1,0.1,0.1,0.1,0.1,0.1,0.1,0.1,0.1,0.1,0.1,0.1,0.1,0.1,0.1,0.1,0.1,0.1,0.1,0.1,0.1,0.1,0.1,0.1,0.1,0.1,0.1,0.1,0.1,0.1,0.1,0.1,0.9,0.2,0.1,0.1,0.1,0.1,0.1,0.1,0.1,0.1,0.1,0.1,0.1,0.1,0.1,0.1,0.1,0.1,0.1,0.1,0.1,0.1,0.1,0.1,0.1,0.1,0.1,0.1,0.1,0.1,0.1,0.1,0.1,0.1,0.1,0.1,0.1,0.2,0.1,0.1,0.1,0.1,0.1,0.1,0.1,0.1,0.1,0.1,0.1,0.1,0.1,0.1,0.1,0.1,0.1,0.1,0.1,0.1,0.1,0.1,0.1,0.1,0.1,0.1,0.9,0.1,0.1,0.1,0.1,0.1,0.1,0.1,0.1,0.2,0.1,0.1,0.1,0.1,0.1,0.1,0.1,0.1,0.1,0.1,0.1,0.1,0.1,0.1,0.1,0.1,0.1,0.1,0.1,0.1,0.1,0.9,0.1,0.1,0.1,0.1,0.1,0.1,0.1,0.1,0.1,0.1,0.1,0.1,0.1,0.2,0.1,0.1,0.1,0.1,0.1,0.1,0.1,0.1,0.1,0.1,0.1,0.1,0.1,0.1,0.1,0.1,0.1,0.1,0.1,0.1,0.1,0.1,0.1,0.1,0.1,0.1,0.1,0.1,0.1,0.1,0.1,0.1,0.1,1.0,0.1,0.2,0.1,0.1,0.1,0.1,0.1,0.1,0.1,0.1,0.1,0.1,0.1,0.1,0.1,0.1,0.1,0.1,0.1,0.1,0.1,0.1,0.1,0.1,0.1,0.1,0.1,0.1,0.1,0.1,0.1,0.1,0.1,0.1,0.1,0.1,0.1,0.2,0.1,0.1,0.1,0.1,0.9,0.1,0.1,0.1,0.1,0.1,0.1,0.1,0.1,0.1,0.1,0.1,0.1,0.1,0.1,0.1,0.1,0.1,0.1,0.1,0.1,0.1,0.1,0.1,0.1,0.1,0.1,0.1,0.1,0.1,1.0,0.2,0.1,0.1,0.1,0.1,0.1,0.1,0.1,0.1,0.1,0.1,0.1,0.1,0.1,0.1,0.1,0.1,0.1,0.1,0.1,0.1,0.1,0.1,0.1,0.1,0.1,0.1,0.1,0.1,0.1,0.1,0.1,0.1,0.1,0.9,0.1,0.2,0.1,0.1,0.1,0.1,0.1,0.1,0.1,0.1,0.1,0.1,0.1,0.1,0.1,0.9,0.1,0.1,0.1,0.1,0.1,0.1,0.1,0.1,0.1,0.1,0.1,0.1,0.1,0.1,0.1,0.1,0.1,0.1,0.1,0.1,0.1,0.2,0.1,0.1,0.1,0.1,0.1,0.1,0.1,0.1,0.1,0.1,0.1,0.1,0.1,1.0,0.1,0.1,0.1,0.1,1.0,0.1,0.1,0.1,0.1,0.1,0.1,0.1,0.1,1.0,0.1,0.1,0.1,0.1,0.1,0.1,0.1,0.2,0.1,0.1,0.1,0.1,0.1,0.1,0.1,0.1,0.1,0.1,0.1,0.1,0.1,0.1,0.9,0.1,0.1,0.1,0.1,0.1,0.1,0.1,0.1,0.1,0.1,0.1,0.1,0.1,0.1,0.1,0.1,0.1,0.1,0.1,0.9,0.2,0.1,0.1,0.1,0.1,0.1,0.1,0.1,0.1,0.1,0.1,0.1,0.1,0.1,0.1,0.1,0.1,0.1,0.1,0.1,0.1,0.1,0.1,0.1,0.1,0.1,0.1,0.1,0.1,0.1,0.1,0.1,0.1,1.0,0.1,0.1,0.2,0.1,0.1,0.1,0.1,0.1,0.1,0.1,0.1,0.1,0.1,0.1,0.1,0.1,0.1,0.1,0.1,0.1,0.1,0.1,0.1,0.1,0.1,0.1,0.1,0.1,0.1,0.1,1.0,0.1,0.1,0.1,0.1,0.1,0.1,0.1,0.2,0.1,0.1,0.1,0.1,0.1,0.1,0.1,0.1,0.1,0.1,0.1,0.1,0.1,0.1,0.1,0.1,0.1,0.1,0.1,0.1,0.1,0.1,0.1,0.1,0.1,0.1,0.1,0.1,0.1,0.1,0.1,0.1,0.1,0.9,0.1,0.2,0.1,0.1,0.1,0.1,0.1,0.1,0.1,0.1,0.1,0.1,0.1,0.1,0.1,0.1,0.1,0.1,0.1,0.1,0.1,0.9,0.1,0.1,0.1,0.1,0.1,0.1,0.1,0.1,0.1,0.1,0.1,0.1,0.1,0.9,0.1,0.2,0.1,0.1,0.1,0.1,0.1,0.1,0.1,0.1,0.1,0.1,0.1,0.1,0.1,0.1,0.1,0.1,0.1,0.1,0.1,0.1,0.1,0.1,0.1,0.1,0.1,0.1,0.1,0.1,0.1,0.1,1.0,0.1,0.1,0.1,0.1,0.2,0.1,0.1,0.1,0.1,0.1,0.1,0.1,0.1,0.1,0.9,0.1,0.1,0.1,0.1,0.1,0.1,0.1,0.1,0.1,0.1,0.1,0.1,0.1,0.1,0.1,0.1,0.1,0.1,0.1,0.1,0.1,0.1,0.1,0.1,0.1,0.2,0.1,0.1,0.1,0.1,0.1,0.1,0.1,0.1,0.9,0.1,0.1,0.1,0.1,0.1,0.1,0.1,0.1,0.1,0.1,0.1,0.1,0.1,0.1,0.1,0.1,0.1,0.1,0.1,0.1,0.1,0.1,0.1,0.1,0.1,0.1,0.2,0.1,0.1,0.1,0.1,0.1,0.1,0.1,0.1,0.1,0.1,0.1,0.1,0.1,0.1,0.1,0.1,0.1,0.1,0.1,0.1,0.1,0.1,0.1,0.1,0.1,0.1,0.1,0.1,0.9,0.1,0.1,0.1,0.1,0.1,0.1,0.2,0.1,0.1,0.1,0.1,0.1,0.1,0.1,0.1,0.1,0.1,0.1,0.1,0.1,0.1,0.1,0.1,0.1,0.1,0.1,0.1,0.1,0.1,0.1,0.1,0.9,0.1,0.1,0.1,0.1,0.1,0.1,0.1,0.1,0.1,0.1,0.2,0.1,0.1,0.1,0.1,0.1,0.1,0.1,0.1,0.1,0.1,0.1,0.9,0.1,0.1,0.1,0.1,0.1,0.1,0.1,0.1,0.1,0.1,0.1,0.1,0.1,0.1,0.1,0.1,0.1,0.1,0.1,0.1,0.1,0.1,0.1,0.2],\"colors\":[\"lightgrey\",\"lightgrey\",\"lightgrey\",\"lightgrey\",\"lightgrey\",\"lightgrey\",\"lightgrey\",\"#e377c2\",\"lightgrey\",\"lightgrey\",\"lightgrey\",\"lightgrey\",\"lightgrey\",\"lightgrey\",\"lightgrey\",\"lightgrey\",\"lightgrey\",\"lightgrey\",\"lightgrey\",\"lightgrey\",\"lightgrey\",\"lightgrey\",\"lightgrey\",\"lightgrey\",\"lightgrey\",\"lightgrey\",\"lightgrey\",\"lightgrey\",\"lightgrey\",\"lightgrey\",\"lightgrey\",\"lightgrey\",\"lightgrey\",\"lightgrey\",\"lightgrey\",\"lightgrey\",\"lightgrey\",\"lightgrey\",\"lightgrey\",\"lightgrey\",\"lightgrey\",\"lightgrey\",\"lightgrey\",\"lightgrey\",\"lightgrey\",\"lightgrey\",\"lightgrey\",\"lightgrey\",\"lightgrey\",\"lightgrey\",\"lightgrey\",\"lightgrey\",\"lightgrey\",\"lightgrey\",\"lightgrey\",\"lightgrey\",\"lightgrey\",\"lightgrey\",\"lightgrey\",\"lightgrey\",\"lightgrey\",\"lightgrey\",\"lightgrey\",\"lightgrey\",\"lightgrey\",\"lightgrey\",\"lightgrey\",\"lightgrey\",\"lightgrey\",\"lightgrey\",\"lightgrey\",\"lightgrey\",\"lightgrey\",\"lightgrey\",\"lightgrey\",\"lightgrey\",\"lightgrey\",\"lightgrey\",\"lightgrey\",\"lightgrey\",\"lightgrey\",\"lightgrey\",\"lightgrey\",\"lightgrey\",\"lightgrey\",\"lightgrey\",\"lightgrey\",\"lightgrey\",\"lightgrey\",\"lightgrey\",\"lightgrey\",\"lightgrey\",\"lightgrey\",\"lightgrey\",\"lightgrey\",\"lightgrey\",\"lightgrey\",\"lightgrey\",\"lightgrey\",\"lightgrey\",\"lightgrey\",\"lightgrey\",\"lightgrey\",\"lightgrey\",\"lightgrey\",\"lightgrey\",\"lightgrey\",\"lightgrey\",\"lightgrey\",\"lightgrey\",\"lightgrey\",\"lightgrey\",\"lightgrey\",\"lightgrey\",\"lightgrey\",\"lightgrey\",\"lightgrey\",\"lightgrey\",\"lightgrey\",\"lightgrey\",\"lightgrey\",\"lightgrey\",\"lightgrey\",\"lightgrey\",\"lightgrey\",\"lightgrey\",\"lightgrey\",\"lightgrey\",\"lightgrey\",\"lightgrey\",\"lightgrey\",\"lightgrey\",\"lightgrey\",\"lightgrey\",\"lightgrey\",\"lightgrey\",\"lightgrey\",\"lightgrey\",\"lightgrey\",\"lightgrey\",\"lightgrey\",\"lightgrey\",\"lightgrey\",\"lightgrey\",\"lightgrey\",\"lightgrey\",\"lightgrey\",\"lightgrey\",\"lightgrey\",\"lightgrey\",\"lightgrey\",\"lightgrey\",\"lightgrey\",\"lightgrey\",\"lightgrey\",\"lightgrey\",\"lightgrey\",\"lightgrey\",\"lightgrey\",\"lightgrey\",\"#ff7f0e\",\"lightgrey\",\"lightgrey\",\"lightgrey\",\"lightgrey\",\"lightgrey\",\"lightgrey\",\"lightgrey\",\"lightgrey\",\"lightgrey\",\"lightgrey\",\"lightgrey\",\"lightgrey\",\"lightgrey\",\"lightgrey\",\"lightgrey\",\"lightgrey\",\"lightgrey\",\"lightgrey\",\"#ff7f0e\",\"lightgrey\",\"lightgrey\",\"lightgrey\",\"lightgrey\",\"lightgrey\",\"lightgrey\",\"lightgrey\",\"lightgrey\",\"lightgrey\",\"lightgrey\",\"lightgrey\",\"lightgrey\",\"lightgrey\",\"lightgrey\",\"lightgrey\",\"lightgrey\",\"lightgrey\",\"lightgrey\",\"lightgrey\",\"lightgrey\",\"lightgrey\",\"lightgrey\",\"lightgrey\",\"lightgrey\",\"lightgrey\",\"lightgrey\",\"lightgrey\",\"lightgrey\",\"lightgrey\",\"lightgrey\",\"lightgrey\",\"lightgrey\",\"lightgrey\",\"lightgrey\",\"lightgrey\",\"lightgrey\",\"lightgrey\",\"lightgrey\",\"lightgrey\",\"lightgrey\",\"lightgrey\",\"lightgrey\",\"lightgrey\",\"lightgrey\",\"lightgrey\",\"lightgrey\",\"lightgrey\",\"lightgrey\",\"lightgrey\",\"lightgrey\",\"lightgrey\",\"lightgrey\",\"lightgrey\",\"lightgrey\",\"lightgrey\",\"lightgrey\",\"lightgrey\",\"lightgrey\",\"lightgrey\",\"lightgrey\",\"lightgrey\",\"lightgrey\",\"lightgrey\",\"lightgrey\",\"lightgrey\",\"lightgrey\",\"lightgrey\",\"grey\",\"lightgrey\",\"lightgrey\",\"lightgrey\",\"lightgrey\",\"lightgrey\",\"lightgrey\",\"lightgrey\",\"lightgrey\",\"lightgrey\",\"lightgrey\",\"lightgrey\",\"lightgrey\",\"lightgrey\",\"lightgrey\",\"lightgrey\",\"lightgrey\",\"lightgrey\",\"lightgrey\",\"lightgrey\",\"lightgrey\",\"lightgrey\",\"lightgrey\",\"lightgrey\",\"lightgrey\",\"lightgrey\",\"lightgrey\",\"grey\",\"lightgrey\",\"lightgrey\",\"lightgrey\",\"lightgrey\",\"lightgrey\",\"lightgrey\",\"lightgrey\",\"lightgrey\",\"grey\",\"lightgrey\",\"lightgrey\",\"lightgrey\",\"lightgrey\",\"lightgrey\",\"lightgrey\",\"lightgrey\",\"lightgrey\",\"lightgrey\",\"lightgrey\",\"lightgrey\",\"lightgrey\",\"lightgrey\",\"lightgrey\",\"lightgrey\",\"lightgrey\",\"lightgrey\",\"lightgrey\",\"lightgrey\",\"lightgrey\",\"lightgrey\",\"lightgrey\",\"lightgrey\",\"lightgrey\",\"lightgrey\",\"lightgrey\",\"lightgrey\",\"lightgrey\",\"lightgrey\",\"lightgrey\",\"lightgrey\",\"lightgrey\",\"lightgrey\",\"lightgrey\",\"lightgrey\",\"lightgrey\",\"lightgrey\",\"lightgrey\",\"lightgrey\",\"grey\",\"lightgrey\",\"lightgrey\",\"lightgrey\",\"lightgrey\",\"lightgrey\",\"lightgrey\",\"lightgrey\",\"lightgrey\",\"lightgrey\",\"lightgrey\",\"lightgrey\",\"lightgrey\",\"lightgrey\",\"lightgrey\",\"lightgrey\",\"lightgrey\",\"lightgrey\",\"lightgrey\",\"lightgrey\",\"lightgrey\",\"lightgrey\",\"lightgrey\",\"lightgrey\",\"lightgrey\",\"lightgrey\",\"lightgrey\",\"lightgrey\",\"lightgrey\",\"lightgrey\",\"lightgrey\",\"lightgrey\",\"lightgrey\",\"lightgrey\",\"lightgrey\",\"lightgrey\",\"lightgrey\",\"lightgrey\",\"lightgrey\",\"lightgrey\",\"lightgrey\",\"lightgrey\",\"lightgrey\",\"lightgrey\",\"lightgrey\",\"lightgrey\",\"lightgrey\",\"lightgrey\",\"lightgrey\",\"lightgrey\",\"lightgrey\",\"lightgrey\",\"#dbdb8d\",\"lightgrey\",\"lightgrey\",\"lightgrey\",\"lightgrey\",\"lightgrey\",\"lightgrey\",\"lightgrey\",\"lightgrey\",\"lightgrey\",\"lightgrey\",\"lightgrey\",\"lightgrey\",\"lightgrey\",\"lightgrey\",\"lightgrey\",\"lightgrey\",\"lightgrey\",\"lightgrey\",\"lightgrey\",\"lightgrey\",\"lightgrey\",\"lightgrey\",\"lightgrey\",\"lightgrey\",\"lightgrey\",\"lightgrey\",\"lightgrey\",\"lightgrey\",\"lightgrey\",\"lightgrey\",\"lightgrey\",\"lightgrey\",\"lightgrey\",\"lightgrey\",\"lightgrey\",\"lightgrey\",\"lightgrey\",\"lightgrey\",\"#17becf\",\"lightgrey\",\"lightgrey\",\"lightgrey\",\"lightgrey\",\"lightgrey\",\"lightgrey\",\"lightgrey\",\"lightgrey\",\"lightgrey\",\"lightgrey\",\"lightgrey\",\"lightgrey\",\"#e377c2\",\"lightgrey\",\"lightgrey\",\"lightgrey\",\"lightgrey\",\"lightgrey\",\"lightgrey\",\"lightgrey\",\"lightgrey\",\"lightgrey\",\"lightgrey\",\"lightgrey\",\"lightgrey\",\"lightgrey\",\"lightgrey\",\"lightgrey\",\"lightgrey\",\"lightgrey\",\"lightgrey\",\"lightgrey\",\"lightgrey\",\"lightgrey\",\"lightgrey\",\"lightgrey\",\"lightgrey\",\"lightgrey\",\"lightgrey\",\"lightgrey\",\"lightgrey\",\"lightgrey\",\"lightgrey\",\"lightgrey\",\"lightgrey\",\"lightgrey\",\"lightgrey\",\"#e377c2\",\"lightgrey\",\"lightgrey\",\"lightgrey\",\"lightgrey\",\"lightgrey\",\"lightgrey\",\"lightgrey\",\"lightgrey\",\"lightgrey\",\"lightgrey\",\"lightgrey\",\"lightgrey\",\"lightgrey\",\"lightgrey\",\"lightgrey\",\"lightgrey\",\"lightgrey\",\"lightgrey\",\"lightgrey\",\"lightgrey\",\"lightgrey\",\"lightgrey\",\"lightgrey\",\"lightgrey\",\"lightgrey\",\"lightgrey\",\"lightgrey\",\"lightgrey\",\"lightgrey\",\"lightgrey\",\"lightgrey\",\"lightgrey\",\"lightgrey\",\"lightgrey\",\"lightgrey\",\"lightgrey\",\"lightgrey\",\"lightgrey\",\"lightgrey\",\"lightgrey\",\"grey\",\"lightgrey\",\"lightgrey\",\"lightgrey\",\"lightgrey\",\"lightgrey\",\"lightgrey\",\"lightgrey\",\"lightgrey\",\"lightgrey\",\"lightgrey\",\"lightgrey\",\"lightgrey\",\"lightgrey\",\"lightgrey\",\"lightgrey\",\"lightgrey\",\"lightgrey\",\"lightgrey\",\"lightgrey\",\"lightgrey\",\"lightgrey\",\"lightgrey\",\"lightgrey\",\"lightgrey\",\"lightgrey\",\"lightgrey\",\"lightgrey\",\"lightgrey\",\"lightgrey\",\"lightgrey\",\"lightgrey\",\"lightgrey\",\"lightgrey\",\"lightgrey\",\"lightgrey\",\"lightgrey\",\"lightgrey\",\"lightgrey\",\"lightgrey\",\"lightgrey\",\"lightgrey\",\"lightgrey\",\"lightgrey\",\"lightgrey\",\"lightgrey\",\"lightgrey\",\"lightgrey\",\"lightgrey\",\"lightgrey\",\"lightgrey\",\"lightgrey\",\"lightgrey\",\"lightgrey\",\"lightgrey\",\"lightgrey\",\"lightgrey\",\"lightgrey\",\"lightgrey\",\"lightgrey\",\"lightgrey\",\"lightgrey\",\"lightgrey\",\"lightgrey\",\"grey\",\"lightgrey\",\"lightgrey\",\"lightgrey\",\"lightgrey\",\"lightgrey\",\"lightgrey\",\"lightgrey\",\"lightgrey\",\"lightgrey\",\"lightgrey\",\"lightgrey\",\"lightgrey\",\"lightgrey\",\"lightgrey\",\"lightgrey\",\"lightgrey\",\"lightgrey\",\"lightgrey\",\"lightgrey\",\"lightgrey\",\"lightgrey\",\"lightgrey\",\"lightgrey\",\"lightgrey\",\"lightgrey\",\"lightgrey\",\"lightgrey\",\"lightgrey\",\"lightgrey\",\"lightgrey\",\"grey\",\"lightgrey\",\"lightgrey\",\"lightgrey\",\"lightgrey\",\"lightgrey\",\"lightgrey\",\"lightgrey\",\"lightgrey\",\"lightgrey\",\"lightgrey\",\"lightgrey\",\"lightgrey\",\"lightgrey\",\"lightgrey\",\"lightgrey\",\"lightgrey\",\"lightgrey\",\"lightgrey\",\"lightgrey\",\"lightgrey\",\"lightgrey\",\"lightgrey\",\"lightgrey\",\"lightgrey\",\"lightgrey\",\"lightgrey\",\"lightgrey\",\"lightgrey\",\"lightgrey\",\"lightgrey\",\"lightgrey\",\"lightgrey\",\"lightgrey\",\"lightgrey\",\"lightgrey\",\"lightgrey\",\"lightgrey\",\"lightgrey\",\"lightgrey\",\"lightgrey\",\"lightgrey\",\"lightgrey\",\"lightgrey\",\"lightgrey\",\"lightgrey\",\"lightgrey\",\"lightgrey\",\"#bcbd22\",\"lightgrey\",\"lightgrey\",\"lightgrey\",\"lightgrey\",\"lightgrey\",\"lightgrey\",\"lightgrey\",\"lightgrey\",\"lightgrey\",\"lightgrey\",\"lightgrey\",\"lightgrey\",\"lightgrey\",\"lightgrey\",\"lightgrey\",\"lightgrey\",\"lightgrey\",\"lightgrey\",\"lightgrey\",\"lightgrey\",\"lightgrey\",\"lightgrey\",\"lightgrey\",\"lightgrey\",\"lightgrey\",\"lightgrey\",\"lightgrey\",\"lightgrey\",\"lightgrey\",\"lightgrey\",\"lightgrey\",\"lightgrey\",\"lightgrey\",\"lightgrey\",\"lightgrey\",\"lightgrey\",\"lightgrey\",\"lightgrey\",\"lightgrey\",\"lightgrey\",\"lightgrey\",\"lightgrey\",\"grey\",\"lightgrey\",\"lightgrey\",\"lightgrey\",\"lightgrey\",\"lightgrey\",\"lightgrey\",\"lightgrey\",\"lightgrey\",\"lightgrey\",\"lightgrey\",\"lightgrey\",\"lightgrey\",\"lightgrey\",\"lightgrey\",\"lightgrey\",\"lightgrey\",\"lightgrey\",\"lightgrey\",\"lightgrey\",\"lightgrey\",\"lightgrey\",\"lightgrey\",\"lightgrey\",\"lightgrey\",\"lightgrey\",\"lightgrey\",\"lightgrey\",\"lightgrey\",\"lightgrey\",\"#ff7f0e\",\"lightgrey\",\"lightgrey\",\"lightgrey\",\"lightgrey\",\"lightgrey\",\"lightgrey\",\"lightgrey\",\"lightgrey\",\"lightgrey\",\"lightgrey\",\"lightgrey\",\"lightgrey\",\"lightgrey\",\"lightgrey\",\"lightgrey\",\"lightgrey\",\"lightgrey\",\"lightgrey\",\"lightgrey\",\"lightgrey\",\"lightgrey\",\"lightgrey\",\"lightgrey\",\"lightgrey\",\"lightgrey\",\"lightgrey\",\"lightgrey\",\"lightgrey\",\"lightgrey\",\"lightgrey\",\"lightgrey\",\"lightgrey\",\"lightgrey\",\"lightgrey\",\"grey\",\"lightgrey\",\"lightgrey\",\"lightgrey\",\"lightgrey\",\"lightgrey\",\"lightgrey\",\"lightgrey\",\"lightgrey\",\"lightgrey\",\"lightgrey\",\"lightgrey\",\"lightgrey\",\"lightgrey\",\"lightgrey\",\"lightgrey\",\"grey\",\"lightgrey\",\"lightgrey\",\"lightgrey\",\"lightgrey\",\"lightgrey\",\"lightgrey\",\"lightgrey\",\"lightgrey\",\"lightgrey\",\"lightgrey\",\"lightgrey\",\"lightgrey\",\"lightgrey\",\"lightgrey\",\"lightgrey\",\"lightgrey\",\"lightgrey\",\"lightgrey\",\"lightgrey\",\"lightgrey\",\"lightgrey\",\"lightgrey\",\"lightgrey\",\"lightgrey\",\"lightgrey\",\"lightgrey\",\"lightgrey\",\"lightgrey\",\"lightgrey\",\"lightgrey\",\"lightgrey\",\"lightgrey\",\"lightgrey\",\"lightgrey\",\"lightgrey\",\"#d62728\",\"lightgrey\",\"lightgrey\",\"lightgrey\",\"lightgrey\",\"#d62728\",\"lightgrey\",\"lightgrey\",\"lightgrey\",\"lightgrey\",\"lightgrey\",\"lightgrey\",\"lightgrey\",\"lightgrey\",\"#d62728\",\"lightgrey\",\"lightgrey\",\"lightgrey\",\"lightgrey\",\"lightgrey\",\"lightgrey\",\"lightgrey\",\"lightgrey\",\"lightgrey\",\"lightgrey\",\"lightgrey\",\"lightgrey\",\"lightgrey\",\"lightgrey\",\"lightgrey\",\"lightgrey\",\"lightgrey\",\"lightgrey\",\"lightgrey\",\"lightgrey\",\"lightgrey\",\"lightgrey\",\"grey\",\"lightgrey\",\"lightgrey\",\"lightgrey\",\"lightgrey\",\"lightgrey\",\"lightgrey\",\"lightgrey\",\"lightgrey\",\"lightgrey\",\"lightgrey\",\"lightgrey\",\"lightgrey\",\"lightgrey\",\"lightgrey\",\"lightgrey\",\"lightgrey\",\"lightgrey\",\"lightgrey\",\"lightgrey\",\"grey\",\"lightgrey\",\"lightgrey\",\"lightgrey\",\"lightgrey\",\"lightgrey\",\"lightgrey\",\"lightgrey\",\"lightgrey\",\"lightgrey\",\"lightgrey\",\"lightgrey\",\"lightgrey\",\"lightgrey\",\"lightgrey\",\"lightgrey\",\"lightgrey\",\"lightgrey\",\"lightgrey\",\"lightgrey\",\"lightgrey\",\"lightgrey\",\"lightgrey\",\"lightgrey\",\"lightgrey\",\"lightgrey\",\"lightgrey\",\"lightgrey\",\"lightgrey\",\"lightgrey\",\"lightgrey\",\"lightgrey\",\"lightgrey\",\"lightgrey\",\"#dbdb8d\",\"lightgrey\",\"lightgrey\",\"lightgrey\",\"lightgrey\",\"lightgrey\",\"lightgrey\",\"lightgrey\",\"lightgrey\",\"lightgrey\",\"lightgrey\",\"lightgrey\",\"lightgrey\",\"lightgrey\",\"lightgrey\",\"lightgrey\",\"lightgrey\",\"lightgrey\",\"lightgrey\",\"lightgrey\",\"lightgrey\",\"lightgrey\",\"lightgrey\",\"lightgrey\",\"lightgrey\",\"lightgrey\",\"lightgrey\",\"lightgrey\",\"lightgrey\",\"lightgrey\",\"lightgrey\",\"#bcbd22\",\"lightgrey\",\"lightgrey\",\"lightgrey\",\"lightgrey\",\"lightgrey\",\"lightgrey\",\"lightgrey\",\"lightgrey\",\"lightgrey\",\"lightgrey\",\"lightgrey\",\"lightgrey\",\"lightgrey\",\"lightgrey\",\"lightgrey\",\"lightgrey\",\"lightgrey\",\"lightgrey\",\"lightgrey\",\"lightgrey\",\"lightgrey\",\"lightgrey\",\"lightgrey\",\"lightgrey\",\"lightgrey\",\"lightgrey\",\"lightgrey\",\"lightgrey\",\"lightgrey\",\"lightgrey\",\"lightgrey\",\"lightgrey\",\"lightgrey\",\"lightgrey\",\"lightgrey\",\"lightgrey\",\"lightgrey\",\"lightgrey\",\"lightgrey\",\"lightgrey\",\"lightgrey\",\"grey\",\"lightgrey\",\"lightgrey\",\"lightgrey\",\"lightgrey\",\"lightgrey\",\"lightgrey\",\"lightgrey\",\"lightgrey\",\"lightgrey\",\"lightgrey\",\"lightgrey\",\"lightgrey\",\"lightgrey\",\"lightgrey\",\"lightgrey\",\"lightgrey\",\"lightgrey\",\"lightgrey\",\"lightgrey\",\"lightgrey\",\"lightgrey\",\"grey\",\"lightgrey\",\"lightgrey\",\"lightgrey\",\"lightgrey\",\"lightgrey\",\"lightgrey\",\"lightgrey\",\"lightgrey\",\"lightgrey\",\"lightgrey\",\"lightgrey\",\"lightgrey\",\"lightgrey\",\"grey\",\"lightgrey\",\"lightgrey\",\"lightgrey\",\"lightgrey\",\"lightgrey\",\"lightgrey\",\"lightgrey\",\"lightgrey\",\"lightgrey\",\"lightgrey\",\"lightgrey\",\"lightgrey\",\"lightgrey\",\"lightgrey\",\"lightgrey\",\"lightgrey\",\"lightgrey\",\"lightgrey\",\"lightgrey\",\"lightgrey\",\"lightgrey\",\"lightgrey\",\"lightgrey\",\"lightgrey\",\"lightgrey\",\"lightgrey\",\"lightgrey\",\"lightgrey\",\"lightgrey\",\"lightgrey\",\"lightgrey\",\"lightgrey\",\"#17becf\",\"lightgrey\",\"lightgrey\",\"lightgrey\",\"lightgrey\",\"lightgrey\",\"lightgrey\",\"lightgrey\",\"lightgrey\",\"lightgrey\",\"lightgrey\",\"lightgrey\",\"lightgrey\",\"lightgrey\",\"lightgrey\",\"grey\",\"lightgrey\",\"lightgrey\",\"lightgrey\",\"lightgrey\",\"lightgrey\",\"lightgrey\",\"lightgrey\",\"lightgrey\",\"lightgrey\",\"lightgrey\",\"lightgrey\",\"lightgrey\",\"lightgrey\",\"lightgrey\",\"lightgrey\",\"lightgrey\",\"lightgrey\",\"lightgrey\",\"lightgrey\",\"lightgrey\",\"lightgrey\",\"lightgrey\",\"lightgrey\",\"lightgrey\",\"lightgrey\",\"lightgrey\",\"lightgrey\",\"lightgrey\",\"lightgrey\",\"lightgrey\",\"lightgrey\",\"lightgrey\",\"lightgrey\",\"lightgrey\",\"grey\",\"lightgrey\",\"lightgrey\",\"lightgrey\",\"lightgrey\",\"lightgrey\",\"lightgrey\",\"lightgrey\",\"lightgrey\",\"lightgrey\",\"lightgrey\",\"lightgrey\",\"lightgrey\",\"lightgrey\",\"lightgrey\",\"lightgrey\",\"lightgrey\",\"lightgrey\",\"lightgrey\",\"lightgrey\",\"lightgrey\",\"lightgrey\",\"lightgrey\",\"lightgrey\",\"lightgrey\",\"lightgrey\",\"lightgrey\",\"lightgrey\",\"lightgrey\",\"lightgrey\",\"lightgrey\",\"lightgrey\",\"lightgrey\",\"lightgrey\",\"lightgrey\",\"lightgrey\",\"lightgrey\",\"lightgrey\",\"lightgrey\",\"lightgrey\",\"lightgrey\",\"lightgrey\",\"lightgrey\",\"lightgrey\",\"lightgrey\",\"lightgrey\",\"lightgrey\",\"lightgrey\",\"lightgrey\",\"lightgrey\",\"lightgrey\",\"lightgrey\",\"lightgrey\",\"lightgrey\",\"lightgrey\",\"lightgrey\",\"grey\",\"lightgrey\",\"lightgrey\",\"lightgrey\",\"lightgrey\",\"lightgrey\",\"lightgrey\",\"lightgrey\",\"lightgrey\",\"lightgrey\",\"lightgrey\",\"lightgrey\",\"lightgrey\",\"lightgrey\",\"lightgrey\",\"lightgrey\",\"lightgrey\",\"lightgrey\",\"lightgrey\",\"lightgrey\",\"lightgrey\",\"lightgrey\",\"lightgrey\",\"lightgrey\",\"lightgrey\",\"lightgrey\",\"lightgrey\",\"lightgrey\",\"lightgrey\",\"lightgrey\",\"lightgrey\",\"lightgrey\",\"grey\",\"lightgrey\",\"lightgrey\",\"lightgrey\",\"lightgrey\",\"lightgrey\",\"lightgrey\",\"lightgrey\",\"lightgrey\",\"lightgrey\",\"lightgrey\",\"lightgrey\",\"lightgrey\",\"lightgrey\",\"lightgrey\",\"lightgrey\",\"lightgrey\",\"lightgrey\",\"lightgrey\",\"lightgrey\",\"lightgrey\",\"lightgrey\",\"lightgrey\",\"grey\",\"lightgrey\",\"lightgrey\",\"lightgrey\",\"lightgrey\",\"lightgrey\",\"lightgrey\",\"lightgrey\",\"lightgrey\",\"lightgrey\",\"lightgrey\",\"lightgrey\",\"lightgrey\",\"lightgrey\",\"lightgrey\",\"lightgrey\",\"lightgrey\",\"lightgrey\",\"lightgrey\",\"lightgrey\",\"lightgrey\",\"lightgrey\",\"lightgrey\",\"lightgrey\",\"lightgrey\"],\"weight\":{\"__ndarray__\":\"AAAAAAAAAAAAAAAAAAAAAAAAAAAAAAAAAAAAAAAAAAAAAAAAAAAAAAAAAAAAAAAAAAAAAAAAAAAAAAAAAADwPwAAAAAAAAAAAAAAAAAAAAAAAAAAAAAAAAAAAAAAAAAAAAAAAAAAAAAAAAAAAAAAAAAAAAAAAAAAAAAAAAAAAAAAAAAAAAAAAAAAAAAAAAAAAAAAAAAAAAAAAAAAAAAAAAAAAAAAAAAAAAAAAAAAAAAAAAAAAAAAAAAAAAAAAAAAAAAAAAAAAAAAAAAAAAAAAAAAAAAAAAAAAAAAAAAAAAAAAAAAAAAAAAAAAAAAAAAAAAAAAAAAAAAAAAAAAAAAAAAAAAAAAAAAAAAAAAAAAAAAAAAAAAAAAAAAAAAAAAAAAAAAAAAAAAAAAAAAAAAAAAAAAAAAAAAAAAAAAAAAAAAAAAAAAAAAAAAAAAAAAAAAAAAAAAAAAAAAAAAAAAAAAAAAAAAAAAAAAAAAAAAAAAAAAAAAAAAAAAAAAAAAAAAAAAAAAAAAAAAAAAAAAAAAAAAAAAAAAAAAAAAAAAAAAAAAAAAAAAAAAAAAAAAAAAAAAAAAAAAAAAAAAAAAAAAAAAAAAAAAAAAAAAAAAAAAAAAAAAAAAAAAAAAAAAAAAAAAAAAAAAAAAAAAAAAAAAAAAAAAAAAAAAAAAAAAAAAAAAAAAAAAAAAAAAAAAAAAAAAAAAAAAAAAAAAAAAAAAAAAAAAAAAAAAAAAAAAAAAAAAAAAAAAAAAAAAAAAAAAAAAAAAAAAAAAAAAAAAAAAAAAAAAAAAAAAAAAAAAAAAAAAAAAAAAAAAAAAAAAAAAAAAAAAAAAAAAAAAAAAAAAAAAAAAAAAAAAAAAAAAAAAAAAAAAAAAAAAAAAAAAAAAAAAAAAAAAAAAAAAAAAAAAAAAAAAAAAAAAAAAAAAAAAAAAAAAAAAAAAAAAAAAAAAAAAAAAAAAAAAAAAAAAAAAAAAAAAAAAAAAAAAAAAAAAAAAAAAAAAAAAAAAAAAAAAAAAAAAAAAAAAAAAAAAAAAAAAAAAAAAAAAAAAAAAAAAAAAAAAAAAAAAAAAAAAAAAAAAAAAAAAAAAAAAAAAAAAAAAAAAAAAAAAAAAAAAAAAAAAAAAAAAAAAAAAAAAAAAAAAAAAAAAAAAAAAAAAAAAAAAAAAAAAAAAAAAAAAAAAAAAAAAAAAAAAAAAAAAAAAAAAAAAAAAAAAAAAAAAAAAAAAAAAAAAAAAAAAAAAAAAAAAAAAAAAAAAAAAAAAAAAAAAAAAAAAAAAAAAAAAAAAAAAAAAAAAAAAAAAAAAAAAAAAAAAAAAAAAAAAAAAAAAAAAAAAAAAAAAAAAAAAAAAAAAAAAAAAAAAAAAAAAAAAAAAAAAAAAAAAAAAAAAAAAAAAAAAAAAAAAAAAAAAAAAAAAAAAAAAAAAAAAAAAAAAAAAAAAAAAAAAAAAAAAAAAAAAAAAAAAAAAAAAAAAAAAAAAAAAAAAAAAAAAAAAAAAAAAAAAAAAAAAAAAAAAAAAAAAAAAAAAAAAAAAAAAAAAAAAAAAAAAAAAAAAAAAAAAAAAAAAAAAAAAAAAAAAAAAAAAAAAAAAAAAAAAAAAAAAAAAAAAAAAAAAAAAAAAAAAAAAAAAAAAAAAAAAAAAAAAAAAAAAAAAAAAAAAAAAAAAAAAAAAAAAAAAAAAAAAAAAAAAAAAAAAAAAAAAAAAAAAAAAAAADwPwAAAAAAAAAAAAAAAAAAAAAAAAAAAAAAAAAAAAAAAAAAAAAAAAAAAAAAAAAAAAAAAAAAAAAAAAAAAAAAAAAAAAAAAAAAAAAAAAAAAAAAAAAAAAAAAAAAAAAAAAAAAAAAAAAAAAAAAAAAAAAAAAAAAAAAAAAAAAAAAAAAAAAAAAAAAAAAAAAAAAAAAAAAAAAAAAAAAAAAAPA/AAAAAAAAAAAAAAAAAAAAAAAAAAAAAAAAAAAAAAAAAAAAAAAAAAAAAAAAAAAAAAAAAAAAAAAAAAAAAAAAAAAAAAAAAAAAAAAAAAAAAAAAAAAAAAAAAAAAAAAAAAAAAAAAAAAAAAAAAAAAAAAAAAAAAAAAAAAAAAAAAAAAAAAAAAAAAAAAAAAAAAAAAAAAAAAAAAAAAAAAAAAAAAAAAAAAAAAAAAAAAAAAAAAAAAAAAAAAAAAAAAAAAAAAAAAAAAAAAAAAAAAAAAAAAAAAAAAAAAAAAAAAAAAAAAAAAAAAAAAAAAAAAAAAAAAAAAAAAAAAAAAAAAAAAAAAAAAAAAAAAAAAAAAAAAAAAAAAAAAAAAAAAAAAAAAAAAAAAAAAAAAAAAAAAAAAAAAAAAAAAAAAAAAAAAAAAAAAAAAAAAAAAAAAAAAAAAAAAAAAAAAAAAAAAAAAAAAAAAAAAAAAAAAAAAAAAAAAAAAAAAAAAAAAAAAAAAAAAAAAAAAAAAAAAAAAAAAAAAAAAAAAAAAAAAAAAAAAAAAAAAAAAAAAAAAAAAAAAAAAAAAAAAAAAAAAAAAAAAAAAAAAAAAAAAAAAAAAAAAAAAAAAAAAAAAAAAAAAAAAAAAAAAAAAAAAAAAAAAAAAAAAAAAAAAAAAAAAAAAAAAAAAAAAAAAAAAAAAAAAAAAAAAAAAAAAAAAAAAAAAAAAAAAAAAAAAAAAAAAAAADwPwAAAAAAAAAAAAAAAAAAAAAAAAAAAAAAAAAAAAAAAAAAAAAAAAAAAAAAAAAAAAAAAAAAAAAAAAAAAAAAAAAAAAAAAAAAAAAAAAAAAAAAAAAAAAAAAAAAAAAAAAAAAAAAAAAAAAAAAAAAAAAAAAAAAAAAAAAAAAAAAAAAAAAAAAAAAAAAAAAAAAAAAAAAAAAAAAAAAAAAAAAAAAAAAAAAAAAAAAAAAAAAAAAAAAAAAAAAAAAAAAAAAAAAAAAAAAAAAAAAAAAAAAAAAAAAAAAAAAAAAAAAAADwPwAAAAAAAAAAAAAAAAAAAAAAAAAAAAAAAAAAAAAAAAAAAAAAAAAAAAAAAAAAAAAAAAAAAAAAAAAAAAAAAAAAAAAAAAAAAADwPwAAAAAAAAAAAAAAAAAAAAAAAAAAAAAAAAAAAAAAAAAAAAAAAAAAAAAAAAAAAAAAAAAAAAAAAAAAAAAAAAAAAAAAAAAAAAAAAAAAAAAAAAAAAAAAAAAAAAAAAAAAAAAAAAAAAAAAAAAAAAAAAAAAAAAAAAAAAAAAAAAAAAAAAAAAAAAAAAAAAAAAAAAAAAAAAAAAAAAAAAAAAAAAAAAAAAAAAAAAAAAAAAAAAAAAAAAAAAAAAAAAAAAAAAAAAAAAAAAAAAAAAAAAAAAAAAAAAAAAAAAAAAAAAAAAAAAAAAAAAAAAAAAAAAAAAAAAAAAAAAAAAAAAAAAAAAAAAAAAAAAAAAAAAAAAAAAAAAAAAAAAAAAAAAAAAAAAAAAAAAAAAAAAAAAAAAAAAAAAAAAAAAAAAAAAAAAAAAAAAAAAAPA/AAAAAAAAAAAAAAAAAAAAAAAAAAAAAAAAAAAAAAAAAAAAAAAAAAAAAAAAAAAAAAAAAAAAAAAAAAAAAAAAAAAAAAAAAAAAAAAAAAAAAAAAAAAAAAAAAAAAAAAAAAAAAAAAAAAAAAAAAAAAAAAAAAAAAAAAAAAAAAAAAAAAAAAAAAAAAAAAAAAAAAAAAAAAAAAAAAAAAAAAAAAAAAAAAAAAAAAAAAAAAAAAAAAAAAAAAAAAAAAAAAAAAAAAAAAAAAAAAAAAAAAAAAAAAAAAAAAAAAAAAAAAAAAAAAAAAAAAAAAAAAAAAAAAAAAAAAAAAAAAAAAAAAAAAAAAAAAAAAAAAAAAAAAAAAAAAAAAAAAAAAAAAAAAAAAAAAAAAAAAAAAAAAAAAAAAAAAAAAAAAAAAAAAAAAAAAAAAAAAAAAAAAAAAAAAAAAAAAAAAAAAAAAAAAAAAAAAAAAAAAAAAAAAAAAAAAAAAAAAAAAAAAAAAAAAAAAAAAAAAAAAAAAAAAAAAAAAAAAAAAAAAAAAAAAAAAAAAAAAAAAAAAAAAAAAA8D8AAAAAAAAAAAAAAAAAAAAAAAAAAAAAAAAAAAAAAAAAAAAAAAAAAAAAAAAAAAAAAAAAAAAAAAAAAAAAAAAAAAAAAAAAAAAAAAAAAAAAAAAAAAAAAAAAAAAAAAAAAAAAAAAAAAAAAAAAAAAAAAAAAAAAAAAAAAAAAAAAAAAAAAAAAAAAAAAAAAAAAAAAAAAAAAAAAAAAAAAAAAAAAAAAAAAAAAAAAAAAAAAAAAAAAAAAAAAAAAAAAAAAAAAAAAAAAAAAAAAAAAAAAAAAAAAAAAAAAAAAAAAAAAAAAAAAAAAAAAAAAAAAAAAAAAAAAAAAAAAAAAAAAAAAAAAAAAAAAAAAAAAAAAAAAAAAAAAAAAAAAAAAAAAAAAAAAAAAAAAAAAAAAAAAAAAAAAAAAAAAAAAAAAAAAAAA8D8AAAAAAAAAAAAAAAAAAAAAAAAAAAAAAAAAAAAAAAAAAAAAAAAAAAAAAAAAAAAAAAAAAAAAAAAAAAAAAAAAAAAAAAAAAAAAAAAAAAAAAAAAAAAAAAAAAAAAAAAAAAAAAAAAAAAAAADwPwAAAAAAAAAAAAAAAAAAAAAAAAAAAAAAAAAAAAAAAAAAAAAAAAAAAAAAAAAAAAAAAAAAAAAAAAAAAAAAAAAAAAAAAAAAAAAAAAAAAAAAAAAAAAAAAAAAAAAAAAAAAAAAAAAAAAAAAAAAAAAAAAAAAAAAAAAAAAAAAAAAAAAAAAAAAAAAAAAAAAAAAAAAAAAAAAAAAAAAAAAAAAAAAAAAAAAAAAAAAAAAAAAAAAAAAAAAAAAAAAAAAAAAAAAAAAAAAAAAAAAAAAAAAAAAAAAAAAAAAAAAAAAAAAAAAAAAAAAAAAAAAAAAAAAAAAAAAAAAAAAAAAAAAAAAAAAAAAAAAAAAAAAAAAAAAAAAAAAAAAAAAAAAAAAA8D8AAAAAAAAAAAAAAAAAAAAAAAAAAAAAAAAAAAAAAAAAAAAAAAAAAAAAAAAAAAAAAAAAAAAAAAAAAAAAAAAAAAAAAAAAAAAAAAAAAAAAAAAAAAAAAAAAAAAAAAAAAAAAAAAAAAAAAAAAAAAAAAAAAAAAAAAAAAAAAAAAAAAAAAAAAAAAAAAAAAAAAAAAAAAAAAAAAAAAAAAAAAAAAAAAAAAAAAAAAAAAAAAAAAAAAAAAAAAAAAAAAAAAAAAAAAAAAAAAAAAAAAAAAAAAAAAAAAAAAAAAAAAAAAAAAAAAAAAAAAAAAAAAAAAAAAAAAAAAAAAAAAAAAAAAAAAAAAAAAAAAAAAAAAAAAAAAAAAAAAAAAAAAAAAAAAAAAAAAAAAAAAAAAAAAAAAAAAAAAAAAAAAAAAAAAAAAAAAAAAAAAAAAAAAAAAAAAPA/AAAAAAAAAAAAAAAAAAAAAAAAAAAAAAAAAAAAAAAAAAAAAAAAAAAAAAAAAAAAAAAAAAAAAAAAAAAAAAAAAAAAAAAAAAAAAAAAAAAAAAAAAAAAAAAAAAAAAAAAAAAAAAAAAAAAAAAAAAAAAAAAAAAAAAAAAAAAAAAAAAAAAAAAAAAAAAAAAAAAAAAAAAAAAAAAAAAAAAAAAAAAAAAAAAAAAAAAAAAAAAAAAAAAAAAAAAAAAAAAAAAAAAAAAAAAAAAAAAAAAAAAAAAAAAAAAAAAAAAAAAAAAAAAAAAAAAAAAAAAAAAAAAAAAAAAAAAAAAAAAAAAAAAAAAAAAAAAAAAAAAAAAAAAAAAAAAAAAAAAAAAAAAAAAAAAAAAAAAAAAAAAAAAAAAAAAAAAAAAAAAAAAAAAAAAAAAAAAAAAAAAAAAAAAAAAAAAAAAAAAAAAAAAAAAAAAAAAAAAAAAAAAAAAAAAAAAAAAAAAAAAAAAAAAAAAAAAAAAAAAAAAAAAAAAAAAAAAAAAAAAAAAAAAAAAAAAAAAAAAAAAAAAAAAAAAAAAAAAAAAAAAAAAAAAAAAAAAAAAAAAAAAAAAAAAAAAAAAAAAAAAAAAAAAAAAAAAAAAAAAAAAAAAAAAAAAAAAAAAAAAAAAAAAAAAAAAAAAAAAAAAAAAAAAAAAAAAAAAAA8D8AAAAAAAAAAAAAAAAAAAAAAAAAAAAAAAAAAAAAAAAAAAAAAAAAAAAAAAAAAAAAAAAAAAAAAAAAAAAAAAAAAAAAAAAAAAAAAAAAAAAAAAAAAAAAAAAAAAAAAAAAAAAAAAAAAAAAAAAAAAAAAAAAAAAAAAAAAAAAAAAAAAAAAAAAAAAAAAAAAAAAAAAAAAAAAAAAAAAAAAAAAAAAAAAAAAAAAAAAAAAAAAAAAAAAAAAAAAAAAAAAAAAAAAAAAAAAAAAAAAAAAAAAAAAAAAAAAAAAAAAAAAAAAAAAAAAAAAAAAAAAAAAAAAAAAAAAAAAAAAAAAAAAAADwPwAAAAAAAAAAAAAAAAAAAAAAAAAAAAAAAAAAAAAAAAAAAAAAAAAAAAAAAAAAAAAAAAAAAAAAAAAAAAAAAAAAAAAAAAAAAAAAAAAAAAAAAAAAAAAAAAAAAAAAAAAAAAAAAAAAAAAAAAAAAAAAAAAAAAAAAAAAAAAAAAAAAAAAAAAAAAAAAAAAAAAAAAAAAAAAAAAAAAAAAAAAAAAAAAAAAAAAAAAAAAAAAAAAAAAAAAAAAAAAAAAAAAAAAAAAAAAAAAAAAAAAAAAAAAAAAAAAAAAAAAAAAAAAAAAAAAAAAAAAAAAAAAAAAAAAAAAAAAAAAAAAAAAAAAAAAAAAAAAAAAAAAAAAAAAAAAAAAAAAAAAAAAAAAAAAAAAAAAAAAAAAAAAAAAAAAAAAAAAAAAAAAAAAAAAAAAAAAAAAAAAAAAAAAAAAAAAAAAAAAAAAAAAAAAAAAAAAAAAAAAAAAAAAAAAAAAAAAAAAAAAAAAAAAAAAAAAAAAAAAAAAAAAAAADwPwAAAAAAAAAAAAAAAAAAAAAAAAAAAAAAAAAAAAAAAAAAAAAAAAAAAAAAAAAAAAAAAAAAAAAAAAAAAAAAAAAAAAAAAAAAAAAAAAAAAAAAAAAAAAAAAAAAAAAAAAAAAAAAAAAAAAAAAAAAAAAAAAAAAAAAAAAAAAAAAAAAAAAAAAAAAAAAAAAAAAAAAAAAAAAAAAAAAAAAAAAAAAAAAAAAAAAAAAAAAAAAAAAAAAAAAAAAAAAAAAAAAAAAAAAAAAAAAAAAAAAAAAAAAAAAAAAAAAAAAAAAAAAAAAAAAAAAAAAAAAAAAAAAAAAAAAAAAAAAAAAAAAAAAAAAAAAAAAAAAAAAAAAAAAAAAAAAAAAAAAAAAAAAAAAAAAAAAAAAAAAAAAAAAAAAAAAAAAAAAAAAAAAAAAAAAAAAAAAAAAAAAAAAAAAAAAAAAAAAAAAAAAAAAAAAAAAAAPA/AAAAAAAAAAAAAAAAAAAAAAAAAAAAAAAAAAAAAAAAAAAAAAAAAAAAAAAAAAAAAAAAAAAAAAAAAAAAAAAAAAAAAAAAAAAAAAAAAAAAAAAAAAAAAAAAAAAAAAAAAAAAAAAAAAAAAAAAAAAAAAAAAAAAAAAAAAAAAAAAAAAAAAAAAAAAAAAAAAAAAAAAAAAAAAAAAAAAAAAAAAAAAAAAAAAAAAAAAAAAAAAAAAAAAAAAAAAAAAAAAAAAAAAAAAAAAAAAAAAAAAAAAAAAAAAAAAAAAAAAAAAAAAAAAAAAAAAAAAAAAAAAAAAAAAAAAAAAAPA/AAAAAAAAAAAAAAAAAAAAAAAAAAAAAAAAAAAAAAAAAAAAAAAAAAAAAAAAAAAAAAAAAAAAAAAAAAAAAAAAAAAAAAAAAAAAAAAAAAAAAAAAAAAAAAAAAAAAAAAAAAAAAAAAAAAAAAAAAAAAAAAAAAAAAAAAAAAAAAAAAAAAAAAAAAAAAAAAAAAAAAAAAAAAAAAAAAAAAAAAAAAAAAAAAAAAAAAAAAAAAAAAAAAAAAAAAAAAAAAAAAAAAAAAAAAAAAAAAAAAAAAAAAAAAAAAAAAAAAAAAAAAAAAAAAAAAAAAAAAAAAAAAAAAAAAAAAAAAAAAAAAAAAAAAAAAAAAAAAAAAAAAAAAAAAAAAAAAAAAAAAAAAAAAAADwPwAAAAAAAAAAAAAAAAAAAAAAAAAAAAAAAAAAAAAAAAAAAAAAAAAAAAAAAAAAAAAAAAAAAAAAAAAAAAAAAAAAAAAAAAAAAAAAAAAAAAAAAAAAAAAAAAAAAAAAAAAAAAAAAAAAAAAAAAAAAAAAAAAAAAAAAAAAAAAAAAAAAAAAAPA/AAAAAAAAAAAAAAAAAAAAAAAAAAAAAAAAAAAAAAAAAAAAAAAAAAAAAAAAAAAAAAAAAAAAAAAAAAAAAAAAAAAAAAAAAAAAAAAAAAAAAAAAAAAAAAAAAAAAAAAAAAAAAAAAAAAAAAAAAAAAAAAAAAAAAAAAAAAAAAAAAAAAAAAAAAAAAAAAAAAAAAAAAAAAAAAAAAAAAAAAAAAAAAAAAAAAAAAAAAAAAAAAAAAAAAAAAAAAAAAAAAAAAAAAAAAAAAAAAAAAAAAAAAAAAAAAAAAAAAAAAAAAAAAAAAAAAAAAAAAAAAAAAAAAAAAAAAAAAAAAAAAAAAAAAAAAAAAAAAAAAAAAAAAAAAAAAAAAAAAAAAAAAAAAAAAAAAAAAAAAAPA/AAAAAAAAAAAAAAAAAAAAAAAAAAAAAAAAAAAAAAAAAAAAAAAAAADwPwAAAAAAAAAAAAAAAAAAAAAAAAAAAAAAAAAAAAAAAAAAAAAAAAAAAAAAAAAAAAAAAAAAAAAAAAAAAAAAAAAAAAAAAAAAAADwPwAAAAAAAAAAAAAAAAAAAAAAAAAAAAAAAAAAAAAAAAAAAAAAAAAAAAAAAAAAAAAAAAAAAAAAAAAAAAAAAAAAAAAAAAAAAAAAAAAAAAAAAAAAAAAAAAAAAAAAAAAAAAAAAAAAAAAAAAAAAAAAAAAAAAAAAAAAAAAAAAAAAAAAAAAAAAAAAAAAAAAAAAAAAAAAAAAAAAAAAAAAAAAAAAAAAAAAAAAAAAAAAAAAAAAAAAAAAAAAAAAA8D8AAAAAAAAAAAAAAAAAAAAAAAAAAAAAAAAAAAAAAAAAAAAAAAAAAAAAAAAAAAAAAAAAAAAAAAAAAAAAAAAAAAAAAAAAAAAAAAAAAAAAAAAAAAAAAAAAAAAAAAAAAAAAAAAAAAAAAAAAAAAAAAAAAAAAAAAAAAAAAAAAAAAAAAAAAAAAAAAAAAAAAAAAAAAAAAAAAAAAAAAAAAAAAAAAAPA/AAAAAAAAAAAAAAAAAAAAAAAAAAAAAAAAAAAAAAAAAAAAAAAAAAAAAAAAAAAAAAAAAAAAAAAAAAAAAAAAAAAAAAAAAAAAAAAAAAAAAAAAAAAAAAAAAAAAAAAAAAAAAAAAAAAAAAAAAAAAAAAAAAAAAAAAAAAAAAAAAAAAAAAAAAAAAAAAAAAAAAAAAAAAAAAAAAAAAAAAAAAAAAAAAAAAAAAAAAAAAAAAAAAAAAAAAAAAAAAAAAAAAAAAAAAAAAAAAAAAAAAAAAAAAAAAAAAAAAAAAAAAAAAAAAAAAAAAAAAAAAAAAAAAAAAAAAAAAAAAAAAAAAAAAAAAAAAAAAAAAAAAAAAAAAAAAAAAAAAA8D8AAAAAAAAAAAAAAAAAAAAAAAAAAAAAAAAAAAAAAAAAAAAAAAAAAAAAAAAAAAAAAAAAAAAAAAAAAAAAAAAAAAAAAAAAAAAAAAAAAAAAAAAAAAAAAAAAAAAAAAAAAAAAAAAAAAAAAAAAAAAAAAAAAAAAAAAAAAAAAAAAAAAAAAAAAAAAAAAAAAAAAAAAAAAAAAAAAAAAAAAAAAAAAAAAAAAAAAAAAAAAAAAAAAAAAAAAAAAAAAAAAAAAAAAAAAAAAAAAAAAAAAAAAAAAAAAAAAAAAAAAAAAAAAAAAAAAAAAAAAAAAAAAAAAAAAAAAAAAAAAAAAAAAADwPwAAAAAAAAAAAAAAAAAAAAAAAAAAAAAAAAAAAAAAAAAAAAAAAAAAAAAAAAAAAAAAAAAAAAAAAAAAAAAAAAAAAAAAAAAAAAAAAAAAAAAAAAAAAAAAAAAAAAAAAAAAAAAAAAAAAAAAAAAAAAAAAAAAAAAAAAAAAAAAAAAAAAAAAAAAAAAAAAAAAAAAAAAAAAAAAAAAAAAAAAAAAAAAAAAAAAAAAAAAAAAAAAAAAAAAAAAAAAAAAAAAAAAAAAAAAAAAAAAAAAAAAAAAAAAAAAAAAAAAAAAAAAAAAAAAAAAAAAAAAAAAAAAAAAAAAAAAAAAAAAAAAAAAAAAAAAAAAAAAAAAAAAAAAAAAAAAAAAAAAAAAAAAAAAAAAAAAAAAAAAAAAAAAAAAAAAAAAAAAAAAAAAAAAAAAAAAAAAAAAAAAAAAAAAAAAAAAAAAAAAAAAADwPwAAAAAAAAAAAAAAAAAAAAAAAAAAAAAAAAAAAAAAAAAAAAAAAAAAAAAAAAAAAAAAAAAAAAAAAAAAAAAAAAAAAAAAAAAAAAAAAAAAAAAAAAAAAAAAAAAAAAAAAAAAAAAAAAAAAAAAAAAAAAAAAAAAAAAAAAAAAAAAAAAAAAAAAAAAAAAAAAAAAAAAAAAAAAAAAAAAAAAAAAAAAAAAAAAAAAAAAAAAAAAAAAAAAAAAAPA/AAAAAAAAAAAAAAAAAAAAAAAAAAAAAAAAAAAAAAAAAAAAAAAAAAAAAAAAAAAAAAAAAAAAAAAAAAAAAAAAAAAAAAAAAAAAAAAAAAAAAAAAAAAAAAAAAAAAAAAAAAAAAAAAAAAAAAAAAAAAAAAAAADwPwAAAAAAAAAAAAAAAAAAAAAAAAAAAAAAAAAAAAAAAAAAAAAAAAAAAAAAAAAAAAAAAAAAAAAAAAAAAAAAAAAAAAAAAAAAAAAAAAAAAAAAAAAAAAAAAAAAAAAAAAAAAAAAAAAAAAAAAAAAAAAAAAAAAAAAAAAAAAAAAAAAAAAAAAAAAAAAAAAAAAAAAAAAAAAAAAAAAAAAAAAAAAAAAAAAAAAAAAAAAAAAAAAAAAAAAAAAAAAAAAAAAAAAAAAAAAAAAAAAAAAAAAAAAAAAAAAAAAAAAAAAAAAAAAAAAAAAAAAAAAAAAAAAAAAAAAAAAAAAAAAAAAAAAAAAAAAAAAAAAAAAAAAAAADwPwAAAAAAAAAAAAAAAAAAAAAAAAAAAAAAAAAAAAAAAAAAAAAAAAAAAAAAAAAAAAAAAAAAAAAAAAAAAAAAAAAAAAAAAAAAAAAAAAAAAAAAAAAAAAAAAAAAAAAAAAAAAAAAAAAAAAAAAAAAAAAAAAAAAAAAAAAAAADwPwAAAAAAAAAAAAAAAAAAAAAAAAAAAAAAAAAAAAAAAAAAAAAAAAAAAAAAAAAAAAAAAAAAAAAAAAAAAAAAAAAAAAAAAAAAAAAAAAAAAAAAAAAAAAAAAAAAAAAAAAAAAAAAAAAAAAAAAAAAAAAAAAAAAAAAAAAAAAAAAAAAAAAAAAAAAAAAAAAAAAAAAAAAAAAAAAAAAAAAAAAAAAAAAAAAAAAAAAAAAAAAAAAAAAAAAAAAAAAAAAAAAAAAAAAAAAAAAAAAAAAAAAAAAAAAAAAAAAAAAAAAAAAAAAAAAAAAAAAAAAAAAAAAAAAAAAAAAAAAAAAAAAAAAAAAAAAAAAAAAAAAAAAAAAAAAAAAAAAAAAAAAAAAAAAA8D8AAAAAAAAAAAAAAAAAAAAAAAAAAAAAAAAAAAAAAAAAAAAAAAAAAAAAAAAAAAAAAAAAAAAAAAAAAAAAAAAAAAAAAAAAAAAAAAAAAAAAAAAAAAAAAAAAAAAAAAAAAAAAAAAAAAAAAAAAAAAAAAAAAAAAAAAAAAAAAAAAAAAAAAAAAAAAAAAAAAAAAAAAAAAAAAAAAAAAAAAAAAAAAAAAAAAAAAAAAAAAAAAAAAAAAAAAAAAAAAAAAAAAAAAAAAAAAAAAAAAAAAAAAAAAAAAAAAAAAAAAAAAAAAAAAAAAAAAAAAAAAAAAAAAAAAAAAAAAAAAAAAAAAAAAAAAAAAAAAAAAAAAAAAAAAAAAAAAAAAAAAAAAAAAAAAAAAAAAAAAAAAAAAAAAAAAAAAAAAAAAAAAAAAAAAAAAAAAAAAAAAAAAAAAAAAAAAAAAAAAAAAAAAAAAAAAAAAAAAAAAAAAAAAAAAAAAAAAAAAAAAAAAAAAAAAAAAAAAAAAAAAAAAAAAAAAAAAAAAAAAAAAAAAAAAAAAAAAAAAAAAAAAAAAAAAAAAAAAAAAAAAAAAAAAAAAAAAAAAAAAAAAAAAAAAAAAAPA/AAAAAAAAAAAAAAAAAAAAAAAAAAAAAAAAAAAAAAAAAAAAAAAAAAAAAAAAAAAAAAAAAAAAAAAAAAAAAAAAAAAAAAAAAAAAAAAAAAAAAAAAAAAAAAAAAAAAAAAAAAAAAAAAAAAAAAAAAAAAAAAAAAAAAAAAAAAAAAAAAAAAAAAAAAAAAAAAAAAAAAAAAAAAAAAAAAAAAAAAAAAAAAAAAAAAAAAAAAAAAAAAAAAAAAAAAAAAAAAAAAAAAAAAAAAAAAAAAAAAAAAAAAAAAAAAAAAAAAAAAAAAAAAAAAAAAAAAAAAAAAAAAAAAAAAAAAAAAAAAAAAAAAAAAAAAAAAAAADwPwAAAAAAAAAAAAAAAAAAAAAAAAAAAAAAAAAAAAAAAAAAAAAAAAAAAAAAAAAAAAAAAAAAAAAAAAAAAAAAAAAAAAAAAAAAAAAAAAAAAAAAAAAAAAAAAAAAAAAAAAAAAAAAAAAAAAAAAAAAAAAAAAAAAAAAAAAAAAAAAAAAAAAAAAAAAAAAAAAAAAAAAAAAAAAAAAAAAAAAAAAAAAAAAAAAAAAAAAAAAAAAAAAAAAAAAAAAAAAAAAAA8D8AAAAAAAAAAAAAAAAAAAAAAAAAAAAAAAAAAAAAAAAAAAAAAAAAAAAAAAAAAAAAAAAAAAAAAAAAAAAAAAAAAAAAAAAAAAAAAAAAAAAAAAAAAAAAAAAAAAAAAAAAAAAAAAAAAAAAAAAAAAAAAAAAAAAAAAAAAAAAAAAAAAAAAAAAAAAAAAAAAAAAAAAAAAAAAAAAAAAAAAAAAAAAAAAAAAAAAAAAAAAAAAAAAAAAAAAAAAAAAAAAAAAAAAAAAAAAAAA=\",\"dtype\":\"float64\",\"shape\":[1225]},\"xname\":[\"topology.dependencies/dependencies\",\"topology.dependencies/dependencies\",\"topology.dependencies/dependencies\",\"topology.dependencies/dependencies\",\"topology.dependencies/dependencies\",\"topology.dependencies/dependencies\",\"topology.dependencies/dependencies\",\"topology.dependencies/dependencies\",\"topology.dependencies/dependencies\",\"topology.dependencies/dependencies\",\"topology.dependencies/dependencies\",\"topology.dependencies/dependencies\",\"topology.dependencies/dependencies\",\"topology.dependencies/dependencies\",\"topology.dependencies/dependencies\",\"topology.dependencies/dependencies\",\"topology.dependencies/dependencies\",\"topology.dependencies/dependencies\",\"topology.dependencies/dependencies\",\"topology.dependencies/dependencies\",\"topology.dependencies/dependencies\",\"topology.dependencies/dependencies\",\"topology.dependencies/dependencies\",\"topology.dependencies/dependencies\",\"topology.dependencies/dependencies\",\"topology.dependencies/dependencies\",\"topology.dependencies/dependencies\",\"topology.dependencies/dependencies\",\"topology.dependencies/dependencies\",\"topology.dependencies/dependencies\",\"topology.dependencies/dependencies\",\"topology.dependencies/dependencies\",\"topology.dependencies/dependencies\",\"topology.dependencies/dependencies\",\"topology.dependencies/dependencies\",\"topology.edgelist-test/syntax-quotes-add-seq-concat-list\",\"topology.edgelist-test/syntax-quotes-add-seq-concat-list\",\"topology.edgelist-test/syntax-quotes-add-seq-concat-list\",\"topology.edgelist-test/syntax-quotes-add-seq-concat-list\",\"topology.edgelist-test/syntax-quotes-add-seq-concat-list\",\"topology.edgelist-test/syntax-quotes-add-seq-concat-list\",\"topology.edgelist-test/syntax-quotes-add-seq-concat-list\",\"topology.edgelist-test/syntax-quotes-add-seq-concat-list\",\"topology.edgelist-test/syntax-quotes-add-seq-concat-list\",\"topology.edgelist-test/syntax-quotes-add-seq-concat-list\",\"topology.edgelist-test/syntax-quotes-add-seq-concat-list\",\"topology.edgelist-test/syntax-quotes-add-seq-concat-list\",\"topology.edgelist-test/syntax-quotes-add-seq-concat-list\",\"topology.edgelist-test/syntax-quotes-add-seq-concat-list\",\"topology.edgelist-test/syntax-quotes-add-seq-concat-list\",\"topology.edgelist-test/syntax-quotes-add-seq-concat-list\",\"topology.edgelist-test/syntax-quotes-add-seq-concat-list\",\"topology.edgelist-test/syntax-quotes-add-seq-concat-list\",\"topology.edgelist-test/syntax-quotes-add-seq-concat-list\",\"topology.edgelist-test/syntax-quotes-add-seq-concat-list\",\"topology.edgelist-test/syntax-quotes-add-seq-concat-list\",\"topology.edgelist-test/syntax-quotes-add-seq-concat-list\",\"topology.edgelist-test/syntax-quotes-add-seq-concat-list\",\"topology.edgelist-test/syntax-quotes-add-seq-concat-list\",\"topology.edgelist-test/syntax-quotes-add-seq-concat-list\",\"topology.edgelist-test/syntax-quotes-add-seq-concat-list\",\"topology.edgelist-test/syntax-quotes-add-seq-concat-list\",\"topology.edgelist-test/syntax-quotes-add-seq-concat-list\",\"topology.edgelist-test/syntax-quotes-add-seq-concat-list\",\"topology.edgelist-test/syntax-quotes-add-seq-concat-list\",\"topology.edgelist-test/syntax-quotes-add-seq-concat-list\",\"topology.edgelist-test/syntax-quotes-add-seq-concat-list\",\"topology.edgelist-test/syntax-quotes-add-seq-concat-list\",\"topology.edgelist-test/syntax-quotes-add-seq-concat-list\",\"topology.edgelist-test/syntax-quotes-add-seq-concat-list\",\"topology.dependencies-test/should-compute-fn-calls-in-namespace\",\"topology.dependencies-test/should-compute-fn-calls-in-namespace\",\"topology.dependencies-test/should-compute-fn-calls-in-namespace\",\"topology.dependencies-test/should-compute-fn-calls-in-namespace\",\"topology.dependencies-test/should-compute-fn-calls-in-namespace\",\"topology.dependencies-test/should-compute-fn-calls-in-namespace\",\"topology.dependencies-test/should-compute-fn-calls-in-namespace\",\"topology.dependencies-test/should-compute-fn-calls-in-namespace\",\"topology.dependencies-test/should-compute-fn-calls-in-namespace\",\"topology.dependencies-test/should-compute-fn-calls-in-namespace\",\"topology.dependencies-test/should-compute-fn-calls-in-namespace\",\"topology.dependencies-test/should-compute-fn-calls-in-namespace\",\"topology.dependencies-test/should-compute-fn-calls-in-namespace\",\"topology.dependencies-test/should-compute-fn-calls-in-namespace\",\"topology.dependencies-test/should-compute-fn-calls-in-namespace\",\"topology.dependencies-test/should-compute-fn-calls-in-namespace\",\"topology.dependencies-test/should-compute-fn-calls-in-namespace\",\"topology.dependencies-test/should-compute-fn-calls-in-namespace\",\"topology.dependencies-test/should-compute-fn-calls-in-namespace\",\"topology.dependencies-test/should-compute-fn-calls-in-namespace\",\"topology.dependencies-test/should-compute-fn-calls-in-namespace\",\"topology.dependencies-test/should-compute-fn-calls-in-namespace\",\"topology.dependencies-test/should-compute-fn-calls-in-namespace\",\"topology.dependencies-test/should-compute-fn-calls-in-namespace\",\"topology.dependencies-test/should-compute-fn-calls-in-namespace\",\"topology.dependencies-test/should-compute-fn-calls-in-namespace\",\"topology.dependencies-test/should-compute-fn-calls-in-namespace\",\"topology.dependencies-test/should-compute-fn-calls-in-namespace\",\"topology.dependencies-test/should-compute-fn-calls-in-namespace\",\"topology.dependencies-test/should-compute-fn-calls-in-namespace\",\"topology.dependencies-test/should-compute-fn-calls-in-namespace\",\"topology.dependencies-test/should-compute-fn-calls-in-namespace\",\"topology.dependencies-test/should-compute-fn-calls-in-namespace\",\"topology.dependencies-test/should-compute-fn-calls-in-namespace\",\"topology.dependencies-test/should-compute-fn-calls-in-namespace\",\"leiningen.topology/topology\",\"leiningen.topology/topology\",\"leiningen.topology/topology\",\"leiningen.topology/topology\",\"leiningen.topology/topology\",\"leiningen.topology/topology\",\"leiningen.topology/topology\",\"leiningen.topology/topology\",\"leiningen.topology/topology\",\"leiningen.topology/topology\",\"leiningen.topology/topology\",\"leiningen.topology/topology\",\"leiningen.topology/topology\",\"leiningen.topology/topology\",\"leiningen.topology/topology\",\"leiningen.topology/topology\",\"leiningen.topology/topology\",\"leiningen.topology/topology\",\"leiningen.topology/topology\",\"leiningen.topology/topology\",\"leiningen.topology/topology\",\"leiningen.topology/topology\",\"leiningen.topology/topology\",\"leiningen.topology/topology\",\"leiningen.topology/topology\",\"leiningen.topology/topology\",\"leiningen.topology/topology\",\"leiningen.topology/topology\",\"leiningen.topology/topology\",\"leiningen.topology/topology\",\"leiningen.topology/topology\",\"leiningen.topology/topology\",\"leiningen.topology/topology\",\"leiningen.topology/topology\",\"leiningen.topology/topology\",\"topology.finder/find-sources-in-dir\",\"topology.finder/find-sources-in-dir\",\"topology.finder/find-sources-in-dir\",\"topology.finder/find-sources-in-dir\",\"topology.finder/find-sources-in-dir\",\"topology.finder/find-sources-in-dir\",\"topology.finder/find-sources-in-dir\",\"topology.finder/find-sources-in-dir\",\"topology.finder/find-sources-in-dir\",\"topology.finder/find-sources-in-dir\",\"topology.finder/find-sources-in-dir\",\"topology.finder/find-sources-in-dir\",\"topology.finder/find-sources-in-dir\",\"topology.finder/find-sources-in-dir\",\"topology.finder/find-sources-in-dir\",\"topology.finder/find-sources-in-dir\",\"topology.finder/find-sources-in-dir\",\"topology.finder/find-sources-in-dir\",\"topology.finder/find-sources-in-dir\",\"topology.finder/find-sources-in-dir\",\"topology.finder/find-sources-in-dir\",\"topology.finder/find-sources-in-dir\",\"topology.finder/find-sources-in-dir\",\"topology.finder/find-sources-in-dir\",\"topology.finder/find-sources-in-dir\",\"topology.finder/find-sources-in-dir\",\"topology.finder/find-sources-in-dir\",\"topology.finder/find-sources-in-dir\",\"topology.finder/find-sources-in-dir\",\"topology.finder/find-sources-in-dir\",\"topology.finder/find-sources-in-dir\",\"topology.finder/find-sources-in-dir\",\"topology.finder/find-sources-in-dir\",\"topology.finder/find-sources-in-dir\",\"topology.finder/find-sources-in-dir\",\"topology.finder/clojurescript-file?\",\"topology.finder/clojurescript-file?\",\"topology.finder/clojurescript-file?\",\"topology.finder/clojurescript-file?\",\"topology.finder/clojurescript-file?\",\"topology.finder/clojurescript-file?\",\"topology.finder/clojurescript-file?\",\"topology.finder/clojurescript-file?\",\"topology.finder/clojurescript-file?\",\"topology.finder/clojurescript-file?\",\"topology.finder/clojurescript-file?\",\"topology.finder/clojurescript-file?\",\"topology.finder/clojurescript-file?\",\"topology.finder/clojurescript-file?\",\"topology.finder/clojurescript-file?\",\"topology.finder/clojurescript-file?\",\"topology.finder/clojurescript-file?\",\"topology.finder/clojurescript-file?\",\"topology.finder/clojurescript-file?\",\"topology.finder/clojurescript-file?\",\"topology.finder/clojurescript-file?\",\"topology.finder/clojurescript-file?\",\"topology.finder/clojurescript-file?\",\"topology.finder/clojurescript-file?\",\"topology.finder/clojurescript-file?\",\"topology.finder/clojurescript-file?\",\"topology.finder/clojurescript-file?\",\"topology.finder/clojurescript-file?\",\"topology.finder/clojurescript-file?\",\"topology.finder/clojurescript-file?\",\"topology.finder/clojurescript-file?\",\"topology.finder/clojurescript-file?\",\"topology.finder/clojurescript-file?\",\"topology.finder/clojurescript-file?\",\"topology.finder/clojurescript-file?\",\"topology.edgelist-test/should-produce-weighted-edges-for-multiple-calls\",\"topology.edgelist-test/should-produce-weighted-edges-for-multiple-calls\",\"topology.edgelist-test/should-produce-weighted-edges-for-multiple-calls\",\"topology.edgelist-test/should-produce-weighted-edges-for-multiple-calls\",\"topology.edgelist-test/should-produce-weighted-edges-for-multiple-calls\",\"topology.edgelist-test/should-produce-weighted-edges-for-multiple-calls\",\"topology.edgelist-test/should-produce-weighted-edges-for-multiple-calls\",\"topology.edgelist-test/should-produce-weighted-edges-for-multiple-calls\",\"topology.edgelist-test/should-produce-weighted-edges-for-multiple-calls\",\"topology.edgelist-test/should-produce-weighted-edges-for-multiple-calls\",\"topology.edgelist-test/should-produce-weighted-edges-for-multiple-calls\",\"topology.edgelist-test/should-produce-weighted-edges-for-multiple-calls\",\"topology.edgelist-test/should-produce-weighted-edges-for-multiple-calls\",\"topology.edgelist-test/should-produce-weighted-edges-for-multiple-calls\",\"topology.edgelist-test/should-produce-weighted-edges-for-multiple-calls\",\"topology.edgelist-test/should-produce-weighted-edges-for-multiple-calls\",\"topology.edgelist-test/should-produce-weighted-edges-for-multiple-calls\",\"topology.edgelist-test/should-produce-weighted-edges-for-multiple-calls\",\"topology.edgelist-test/should-produce-weighted-edges-for-multiple-calls\",\"topology.edgelist-test/should-produce-weighted-edges-for-multiple-calls\",\"topology.edgelist-test/should-produce-weighted-edges-for-multiple-calls\",\"topology.edgelist-test/should-produce-weighted-edges-for-multiple-calls\",\"topology.edgelist-test/should-produce-weighted-edges-for-multiple-calls\",\"topology.edgelist-test/should-produce-weighted-edges-for-multiple-calls\",\"topology.edgelist-test/should-produce-weighted-edges-for-multiple-calls\",\"topology.edgelist-test/should-produce-weighted-edges-for-multiple-calls\",\"topology.edgelist-test/should-produce-weighted-edges-for-multiple-calls\",\"topology.edgelist-test/should-produce-weighted-edges-for-multiple-calls\",\"topology.edgelist-test/should-produce-weighted-edges-for-multiple-calls\",\"topology.edgelist-test/should-produce-weighted-edges-for-multiple-calls\",\"topology.edgelist-test/should-produce-weighted-edges-for-multiple-calls\",\"topology.edgelist-test/should-produce-weighted-edges-for-multiple-calls\",\"topology.edgelist-test/should-produce-weighted-edges-for-multiple-calls\",\"topology.edgelist-test/should-produce-weighted-edges-for-multiple-calls\",\"topology.edgelist-test/should-produce-weighted-edges-for-multiple-calls\",\"topology.dependencies/ns->fn-dep-map\",\"topology.dependencies/ns->fn-dep-map\",\"topology.dependencies/ns->fn-dep-map\",\"topology.dependencies/ns->fn-dep-map\",\"topology.dependencies/ns->fn-dep-map\",\"topology.dependencies/ns->fn-dep-map\",\"topology.dependencies/ns->fn-dep-map\",\"topology.dependencies/ns->fn-dep-map\",\"topology.dependencies/ns->fn-dep-map\",\"topology.dependencies/ns->fn-dep-map\",\"topology.dependencies/ns->fn-dep-map\",\"topology.dependencies/ns->fn-dep-map\",\"topology.dependencies/ns->fn-dep-map\",\"topology.dependencies/ns->fn-dep-map\",\"topology.dependencies/ns->fn-dep-map\",\"topology.dependencies/ns->fn-dep-map\",\"topology.dependencies/ns->fn-dep-map\",\"topology.dependencies/ns->fn-dep-map\",\"topology.dependencies/ns->fn-dep-map\",\"topology.dependencies/ns->fn-dep-map\",\"topology.dependencies/ns->fn-dep-map\",\"topology.dependencies/ns->fn-dep-map\",\"topology.dependencies/ns->fn-dep-map\",\"topology.dependencies/ns->fn-dep-map\",\"topology.dependencies/ns->fn-dep-map\",\"topology.dependencies/ns->fn-dep-map\",\"topology.dependencies/ns->fn-dep-map\",\"topology.dependencies/ns->fn-dep-map\",\"topology.dependencies/ns->fn-dep-map\",\"topology.dependencies/ns->fn-dep-map\",\"topology.dependencies/ns->fn-dep-map\",\"topology.dependencies/ns->fn-dep-map\",\"topology.dependencies/ns->fn-dep-map\",\"topology.dependencies/ns->fn-dep-map\",\"topology.dependencies/ns->fn-dep-map\",\"topology.printer/print-weighted-edges\",\"topology.printer/print-weighted-edges\",\"topology.printer/print-weighted-edges\",\"topology.printer/print-weighted-edges\",\"topology.printer/print-weighted-edges\",\"topology.printer/print-weighted-edges\",\"topology.printer/print-weighted-edges\",\"topology.printer/print-weighted-edges\",\"topology.printer/print-weighted-edges\",\"topology.printer/print-weighted-edges\",\"topology.printer/print-weighted-edges\",\"topology.printer/print-weighted-edges\",\"topology.printer/print-weighted-edges\",\"topology.printer/print-weighted-edges\",\"topology.printer/print-weighted-edges\",\"topology.printer/print-weighted-edges\",\"topology.printer/print-weighted-edges\",\"topology.printer/print-weighted-edges\",\"topology.printer/print-weighted-edges\",\"topology.printer/print-weighted-edges\",\"topology.printer/print-weighted-edges\",\"topology.printer/print-weighted-edges\",\"topology.printer/print-weighted-edges\",\"topology.printer/print-weighted-edges\",\"topology.printer/print-weighted-edges\",\"topology.printer/print-weighted-edges\",\"topology.printer/print-weighted-edges\",\"topology.printer/print-weighted-edges\",\"topology.printer/print-weighted-edges\",\"topology.printer/print-weighted-edges\",\"topology.printer/print-weighted-edges\",\"topology.printer/print-weighted-edges\",\"topology.printer/print-weighted-edges\",\"topology.printer/print-weighted-edges\",\"topology.printer/print-weighted-edges\",\"clojure.core/println\",\"clojure.core/println\",\"clojure.core/println\",\"clojure.core/println\",\"clojure.core/println\",\"clojure.core/println\",\"clojure.core/println\",\"clojure.core/println\",\"clojure.core/println\",\"clojure.core/println\",\"clojure.core/println\",\"clojure.core/println\",\"clojure.core/println\",\"clojure.core/println\",\"clojure.core/println\",\"clojure.core/println\",\"clojure.core/println\",\"clojure.core/println\",\"clojure.core/println\",\"clojure.core/println\",\"clojure.core/println\",\"clojure.core/println\",\"clojure.core/println\",\"clojure.core/println\",\"clojure.core/println\",\"clojure.core/println\",\"clojure.core/println\",\"clojure.core/println\",\"clojure.core/println\",\"clojure.core/println\",\"clojure.core/println\",\"clojure.core/println\",\"clojure.core/println\",\"clojure.core/println\",\"clojure.core/println\",\"topology.symbols/seq-map-zip\",\"topology.symbols/seq-map-zip\",\"topology.symbols/seq-map-zip\",\"topology.symbols/seq-map-zip\",\"topology.symbols/seq-map-zip\",\"topology.symbols/seq-map-zip\",\"topology.symbols/seq-map-zip\",\"topology.symbols/seq-map-zip\",\"topology.symbols/seq-map-zip\",\"topology.symbols/seq-map-zip\",\"topology.symbols/seq-map-zip\",\"topology.symbols/seq-map-zip\",\"topology.symbols/seq-map-zip\",\"topology.symbols/seq-map-zip\",\"topology.symbols/seq-map-zip\",\"topology.symbols/seq-map-zip\",\"topology.symbols/seq-map-zip\",\"topology.symbols/seq-map-zip\",\"topology.symbols/seq-map-zip\",\"topology.symbols/seq-map-zip\",\"topology.symbols/seq-map-zip\",\"topology.symbols/seq-map-zip\",\"topology.symbols/seq-map-zip\",\"topology.symbols/seq-map-zip\",\"topology.symbols/seq-map-zip\",\"topology.symbols/seq-map-zip\",\"topology.symbols/seq-map-zip\",\"topology.symbols/seq-map-zip\",\"topology.symbols/seq-map-zip\",\"topology.symbols/seq-map-zip\",\"topology.symbols/seq-map-zip\",\"topology.symbols/seq-map-zip\",\"topology.symbols/seq-map-zip\",\"topology.symbols/seq-map-zip\",\"topology.symbols/seq-map-zip\",\"topology.edgelist/interleave-keys\",\"topology.edgelist/interleave-keys\",\"topology.edgelist/interleave-keys\",\"topology.edgelist/interleave-keys\",\"topology.edgelist/interleave-keys\",\"topology.edgelist/interleave-keys\",\"topology.edgelist/interleave-keys\",\"topology.edgelist/interleave-keys\",\"topology.edgelist/interleave-keys\",\"topology.edgelist/interleave-keys\",\"topology.edgelist/interleave-keys\",\"topology.edgelist/interleave-keys\",\"topology.edgelist/interleave-keys\",\"topology.edgelist/interleave-keys\",\"topology.edgelist/interleave-keys\",\"topology.edgelist/interleave-keys\",\"topology.edgelist/interleave-keys\",\"topology.edgelist/interleave-keys\",\"topology.edgelist/interleave-keys\",\"topology.edgelist/interleave-keys\",\"topology.edgelist/interleave-keys\",\"topology.edgelist/interleave-keys\",\"topology.edgelist/interleave-keys\",\"topology.edgelist/interleave-keys\",\"topology.edgelist/interleave-keys\",\"topology.edgelist/interleave-keys\",\"topology.edgelist/interleave-keys\",\"topology.edgelist/interleave-keys\",\"topology.edgelist/interleave-keys\",\"topology.edgelist/interleave-keys\",\"topology.edgelist/interleave-keys\",\"topology.edgelist/interleave-keys\",\"topology.edgelist/interleave-keys\",\"topology.edgelist/interleave-keys\",\"topology.edgelist/interleave-keys\",\"topology.dependencies/interns\",\"topology.dependencies/interns\",\"topology.dependencies/interns\",\"topology.dependencies/interns\",\"topology.dependencies/interns\",\"topology.dependencies/interns\",\"topology.dependencies/interns\",\"topology.dependencies/interns\",\"topology.dependencies/interns\",\"topology.dependencies/interns\",\"topology.dependencies/interns\",\"topology.dependencies/interns\",\"topology.dependencies/interns\",\"topology.dependencies/interns\",\"topology.dependencies/interns\",\"topology.dependencies/interns\",\"topology.dependencies/interns\",\"topology.dependencies/interns\",\"topology.dependencies/interns\",\"topology.dependencies/interns\",\"topology.dependencies/interns\",\"topology.dependencies/interns\",\"topology.dependencies/interns\",\"topology.dependencies/interns\",\"topology.dependencies/interns\",\"topology.dependencies/interns\",\"topology.dependencies/interns\",\"topology.dependencies/interns\",\"topology.dependencies/interns\",\"topology.dependencies/interns\",\"topology.dependencies/interns\",\"topology.dependencies/interns\",\"topology.dependencies/interns\",\"topology.dependencies/interns\",\"topology.dependencies/interns\",\"topology.dependencies/sources\",\"topology.dependencies/sources\",\"topology.dependencies/sources\",\"topology.dependencies/sources\",\"topology.dependencies/sources\",\"topology.dependencies/sources\",\"topology.dependencies/sources\",\"topology.dependencies/sources\",\"topology.dependencies/sources\",\"topology.dependencies/sources\",\"topology.dependencies/sources\",\"topology.dependencies/sources\",\"topology.dependencies/sources\",\"topology.dependencies/sources\",\"topology.dependencies/sources\",\"topology.dependencies/sources\",\"topology.dependencies/sources\",\"topology.dependencies/sources\",\"topology.dependencies/sources\",\"topology.dependencies/sources\",\"topology.dependencies/sources\",\"topology.dependencies/sources\",\"topology.dependencies/sources\",\"topology.dependencies/sources\",\"topology.dependencies/sources\",\"topology.dependencies/sources\",\"topology.dependencies/sources\",\"topology.dependencies/sources\",\"topology.dependencies/sources\",\"topology.dependencies/sources\",\"topology.dependencies/sources\",\"topology.dependencies/sources\",\"topology.dependencies/sources\",\"topology.dependencies/sources\",\"topology.dependencies/sources\",\"clojure.repl/source-fn\",\"clojure.repl/source-fn\",\"clojure.repl/source-fn\",\"clojure.repl/source-fn\",\"clojure.repl/source-fn\",\"clojure.repl/source-fn\",\"clojure.repl/source-fn\",\"clojure.repl/source-fn\",\"clojure.repl/source-fn\",\"clojure.repl/source-fn\",\"clojure.repl/source-fn\",\"clojure.repl/source-fn\",\"clojure.repl/source-fn\",\"clojure.repl/source-fn\",\"clojure.repl/source-fn\",\"clojure.repl/source-fn\",\"clojure.repl/source-fn\",\"clojure.repl/source-fn\",\"clojure.repl/source-fn\",\"clojure.repl/source-fn\",\"clojure.repl/source-fn\",\"clojure.repl/source-fn\",\"clojure.repl/source-fn\",\"clojure.repl/source-fn\",\"clojure.repl/source-fn\",\"clojure.repl/source-fn\",\"clojure.repl/source-fn\",\"clojure.repl/source-fn\",\"clojure.repl/source-fn\",\"clojure.repl/source-fn\",\"clojure.repl/source-fn\",\"clojure.repl/source-fn\",\"clojure.repl/source-fn\",\"clojure.repl/source-fn\",\"clojure.repl/source-fn\",\"topology.edgelist-test/should-report-java-interop\",\"topology.edgelist-test/should-report-java-interop\",\"topology.edgelist-test/should-report-java-interop\",\"topology.edgelist-test/should-report-java-interop\",\"topology.edgelist-test/should-report-java-interop\",\"topology.edgelist-test/should-report-java-interop\",\"topology.edgelist-test/should-report-java-interop\",\"topology.edgelist-test/should-report-java-interop\",\"topology.edgelist-test/should-report-java-interop\",\"topology.edgelist-test/should-report-java-interop\",\"topology.edgelist-test/should-report-java-interop\",\"topology.edgelist-test/should-report-java-interop\",\"topology.edgelist-test/should-report-java-interop\",\"topology.edgelist-test/should-report-java-interop\",\"topology.edgelist-test/should-report-java-interop\",\"topology.edgelist-test/should-report-java-interop\",\"topology.edgelist-test/should-report-java-interop\",\"topology.edgelist-test/should-report-java-interop\",\"topology.edgelist-test/should-report-java-interop\",\"topology.edgelist-test/should-report-java-interop\",\"topology.edgelist-test/should-report-java-interop\",\"topology.edgelist-test/should-report-java-interop\",\"topology.edgelist-test/should-report-java-interop\",\"topology.edgelist-test/should-report-java-interop\",\"topology.edgelist-test/should-report-java-interop\",\"topology.edgelist-test/should-report-java-interop\",\"topology.edgelist-test/should-report-java-interop\",\"topology.edgelist-test/should-report-java-interop\",\"topology.edgelist-test/should-report-java-interop\",\"topology.edgelist-test/should-report-java-interop\",\"topology.edgelist-test/should-report-java-interop\",\"topology.edgelist-test/should-report-java-interop\",\"topology.edgelist-test/should-report-java-interop\",\"topology.edgelist-test/should-report-java-interop\",\"topology.edgelist-test/should-report-java-interop\",\"topology.qualifier/filter-fully-qualified\",\"topology.qualifier/filter-fully-qualified\",\"topology.qualifier/filter-fully-qualified\",\"topology.qualifier/filter-fully-qualified\",\"topology.qualifier/filter-fully-qualified\",\"topology.qualifier/filter-fully-qualified\",\"topology.qualifier/filter-fully-qualified\",\"topology.qualifier/filter-fully-qualified\",\"topology.qualifier/filter-fully-qualified\",\"topology.qualifier/filter-fully-qualified\",\"topology.qualifier/filter-fully-qualified\",\"topology.qualifier/filter-fully-qualified\",\"topology.qualifier/filter-fully-qualified\",\"topology.qualifier/filter-fully-qualified\",\"topology.qualifier/filter-fully-qualified\",\"topology.qualifier/filter-fully-qualified\",\"topology.qualifier/filter-fully-qualified\",\"topology.qualifier/filter-fully-qualified\",\"topology.qualifier/filter-fully-qualified\",\"topology.qualifier/filter-fully-qualified\",\"topology.qualifier/filter-fully-qualified\",\"topology.qualifier/filter-fully-qualified\",\"topology.qualifier/filter-fully-qualified\",\"topology.qualifier/filter-fully-qualified\",\"topology.qualifier/filter-fully-qualified\",\"topology.qualifier/filter-fully-qualified\",\"topology.qualifier/filter-fully-qualified\",\"topology.qualifier/filter-fully-qualified\",\"topology.qualifier/filter-fully-qualified\",\"topology.qualifier/filter-fully-qualified\",\"topology.qualifier/filter-fully-qualified\",\"topology.qualifier/filter-fully-qualified\",\"topology.qualifier/filter-fully-qualified\",\"topology.qualifier/filter-fully-qualified\",\"topology.qualifier/filter-fully-qualified\",\"leiningen.core.eval/eval-in-project\",\"leiningen.core.eval/eval-in-project\",\"leiningen.core.eval/eval-in-project\",\"leiningen.core.eval/eval-in-project\",\"leiningen.core.eval/eval-in-project\",\"leiningen.core.eval/eval-in-project\",\"leiningen.core.eval/eval-in-project\",\"leiningen.core.eval/eval-in-project\",\"leiningen.core.eval/eval-in-project\",\"leiningen.core.eval/eval-in-project\",\"leiningen.core.eval/eval-in-project\",\"leiningen.core.eval/eval-in-project\",\"leiningen.core.eval/eval-in-project\",\"leiningen.core.eval/eval-in-project\",\"leiningen.core.eval/eval-in-project\",\"leiningen.core.eval/eval-in-project\",\"leiningen.core.eval/eval-in-project\",\"leiningen.core.eval/eval-in-project\",\"leiningen.core.eval/eval-in-project\",\"leiningen.core.eval/eval-in-project\",\"leiningen.core.eval/eval-in-project\",\"leiningen.core.eval/eval-in-project\",\"leiningen.core.eval/eval-in-project\",\"leiningen.core.eval/eval-in-project\",\"leiningen.core.eval/eval-in-project\",\"leiningen.core.eval/eval-in-project\",\"leiningen.core.eval/eval-in-project\",\"leiningen.core.eval/eval-in-project\",\"leiningen.core.eval/eval-in-project\",\"leiningen.core.eval/eval-in-project\",\"leiningen.core.eval/eval-in-project\",\"leiningen.core.eval/eval-in-project\",\"leiningen.core.eval/eval-in-project\",\"leiningen.core.eval/eval-in-project\",\"leiningen.core.eval/eval-in-project\",\"topology.qualifier/all-fq\",\"topology.qualifier/all-fq\",\"topology.qualifier/all-fq\",\"topology.qualifier/all-fq\",\"topology.qualifier/all-fq\",\"topology.qualifier/all-fq\",\"topology.qualifier/all-fq\",\"topology.qualifier/all-fq\",\"topology.qualifier/all-fq\",\"topology.qualifier/all-fq\",\"topology.qualifier/all-fq\",\"topology.qualifier/all-fq\",\"topology.qualifier/all-fq\",\"topology.qualifier/all-fq\",\"topology.qualifier/all-fq\",\"topology.qualifier/all-fq\",\"topology.qualifier/all-fq\",\"topology.qualifier/all-fq\",\"topology.qualifier/all-fq\",\"topology.qualifier/all-fq\",\"topology.qualifier/all-fq\",\"topology.qualifier/all-fq\",\"topology.qualifier/all-fq\",\"topology.qualifier/all-fq\",\"topology.qualifier/all-fq\",\"topology.qualifier/all-fq\",\"topology.qualifier/all-fq\",\"topology.qualifier/all-fq\",\"topology.qualifier/all-fq\",\"topology.qualifier/all-fq\",\"topology.qualifier/all-fq\",\"topology.qualifier/all-fq\",\"topology.qualifier/all-fq\",\"topology.qualifier/all-fq\",\"topology.qualifier/all-fq\",\"topology.finder/source-paths->namespaces\",\"topology.finder/source-paths->namespaces\",\"topology.finder/source-paths->namespaces\",\"topology.finder/source-paths->namespaces\",\"topology.finder/source-paths->namespaces\",\"topology.finder/source-paths->namespaces\",\"topology.finder/source-paths->namespaces\",\"topology.finder/source-paths->namespaces\",\"topology.finder/source-paths->namespaces\",\"topology.finder/source-paths->namespaces\",\"topology.finder/source-paths->namespaces\",\"topology.finder/source-paths->namespaces\",\"topology.finder/source-paths->namespaces\",\"topology.finder/source-paths->namespaces\",\"topology.finder/source-paths->namespaces\",\"topology.finder/source-paths->namespaces\",\"topology.finder/source-paths->namespaces\",\"topology.finder/source-paths->namespaces\",\"topology.finder/source-paths->namespaces\",\"topology.finder/source-paths->namespaces\",\"topology.finder/source-paths->namespaces\",\"topology.finder/source-paths->namespaces\",\"topology.finder/source-paths->namespaces\",\"topology.finder/source-paths->namespaces\",\"topology.finder/source-paths->namespaces\",\"topology.finder/source-paths->namespaces\",\"topology.finder/source-paths->namespaces\",\"topology.finder/source-paths->namespaces\",\"topology.finder/source-paths->namespaces\",\"topology.finder/source-paths->namespaces\",\"topology.finder/source-paths->namespaces\",\"topology.finder/source-paths->namespaces\",\"topology.finder/source-paths->namespaces\",\"topology.finder/source-paths->namespaces\",\"topology.finder/source-paths->namespaces\",\"topology.finder/dirs->sources\",\"topology.finder/dirs->sources\",\"topology.finder/dirs->sources\",\"topology.finder/dirs->sources\",\"topology.finder/dirs->sources\",\"topology.finder/dirs->sources\",\"topology.finder/dirs->sources\",\"topology.finder/dirs->sources\",\"topology.finder/dirs->sources\",\"topology.finder/dirs->sources\",\"topology.finder/dirs->sources\",\"topology.finder/dirs->sources\",\"topology.finder/dirs->sources\",\"topology.finder/dirs->sources\",\"topology.finder/dirs->sources\",\"topology.finder/dirs->sources\",\"topology.finder/dirs->sources\",\"topology.finder/dirs->sources\",\"topology.finder/dirs->sources\",\"topology.finder/dirs->sources\",\"topology.finder/dirs->sources\",\"topology.finder/dirs->sources\",\"topology.finder/dirs->sources\",\"topology.finder/dirs->sources\",\"topology.finder/dirs->sources\",\"topology.finder/dirs->sources\",\"topology.finder/dirs->sources\",\"topology.finder/dirs->sources\",\"topology.finder/dirs->sources\",\"topology.finder/dirs->sources\",\"topology.finder/dirs->sources\",\"topology.finder/dirs->sources\",\"topology.finder/dirs->sources\",\"topology.finder/dirs->sources\",\"topology.finder/dirs->sources\",\"clojure.tools.namespace.file/read-file-ns-decl\",\"clojure.tools.namespace.file/read-file-ns-decl\",\"clojure.tools.namespace.file/read-file-ns-decl\",\"clojure.tools.namespace.file/read-file-ns-decl\",\"clojure.tools.namespace.file/read-file-ns-decl\",\"clojure.tools.namespace.file/read-file-ns-decl\",\"clojure.tools.namespace.file/read-file-ns-decl\",\"clojure.tools.namespace.file/read-file-ns-decl\",\"clojure.tools.namespace.file/read-file-ns-decl\",\"clojure.tools.namespace.file/read-file-ns-decl\",\"clojure.tools.namespace.file/read-file-ns-decl\",\"clojure.tools.namespace.file/read-file-ns-decl\",\"clojure.tools.namespace.file/read-file-ns-decl\",\"clojure.tools.namespace.file/read-file-ns-decl\",\"clojure.tools.namespace.file/read-file-ns-decl\",\"clojure.tools.namespace.file/read-file-ns-decl\",\"clojure.tools.namespace.file/read-file-ns-decl\",\"clojure.tools.namespace.file/read-file-ns-decl\",\"clojure.tools.namespace.file/read-file-ns-decl\",\"clojure.tools.namespace.file/read-file-ns-decl\",\"clojure.tools.namespace.file/read-file-ns-decl\",\"clojure.tools.namespace.file/read-file-ns-decl\",\"clojure.tools.namespace.file/read-file-ns-decl\",\"clojure.tools.namespace.file/read-file-ns-decl\",\"clojure.tools.namespace.file/read-file-ns-decl\",\"clojure.tools.namespace.file/read-file-ns-decl\",\"clojure.tools.namespace.file/read-file-ns-decl\",\"clojure.tools.namespace.file/read-file-ns-decl\",\"clojure.tools.namespace.file/read-file-ns-decl\",\"clojure.tools.namespace.file/read-file-ns-decl\",\"clojure.tools.namespace.file/read-file-ns-decl\",\"clojure.tools.namespace.file/read-file-ns-decl\",\"clojure.tools.namespace.file/read-file-ns-decl\",\"clojure.tools.namespace.file/read-file-ns-decl\",\"clojure.tools.namespace.file/read-file-ns-decl\",\"topology.symbols/symbols\",\"topology.symbols/symbols\",\"topology.symbols/symbols\",\"topology.symbols/symbols\",\"topology.symbols/symbols\",\"topology.symbols/symbols\",\"topology.symbols/symbols\",\"topology.symbols/symbols\",\"topology.symbols/symbols\",\"topology.symbols/symbols\",\"topology.symbols/symbols\",\"topology.symbols/symbols\",\"topology.symbols/symbols\",\"topology.symbols/symbols\",\"topology.symbols/symbols\",\"topology.symbols/symbols\",\"topology.symbols/symbols\",\"topology.symbols/symbols\",\"topology.symbols/symbols\",\"topology.symbols/symbols\",\"topology.symbols/symbols\",\"topology.symbols/symbols\",\"topology.symbols/symbols\",\"topology.symbols/symbols\",\"topology.symbols/symbols\",\"topology.symbols/symbols\",\"topology.symbols/symbols\",\"topology.symbols/symbols\",\"topology.symbols/symbols\",\"topology.symbols/symbols\",\"topology.symbols/symbols\",\"topology.symbols/symbols\",\"topology.symbols/symbols\",\"topology.symbols/symbols\",\"topology.symbols/symbols\",\"topology.edgelist-test/edges\",\"topology.edgelist-test/edges\",\"topology.edgelist-test/edges\",\"topology.edgelist-test/edges\",\"topology.edgelist-test/edges\",\"topology.edgelist-test/edges\",\"topology.edgelist-test/edges\",\"topology.edgelist-test/edges\",\"topology.edgelist-test/edges\",\"topology.edgelist-test/edges\",\"topology.edgelist-test/edges\",\"topology.edgelist-test/edges\",\"topology.edgelist-test/edges\",\"topology.edgelist-test/edges\",\"topology.edgelist-test/edges\",\"topology.edgelist-test/edges\",\"topology.edgelist-test/edges\",\"topology.edgelist-test/edges\",\"topology.edgelist-test/edges\",\"topology.edgelist-test/edges\",\"topology.edgelist-test/edges\",\"topology.edgelist-test/edges\",\"topology.edgelist-test/edges\",\"topology.edgelist-test/edges\",\"topology.edgelist-test/edges\",\"topology.edgelist-test/edges\",\"topology.edgelist-test/edges\",\"topology.edgelist-test/edges\",\"topology.edgelist-test/edges\",\"topology.edgelist-test/edges\",\"topology.edgelist-test/edges\",\"topology.edgelist-test/edges\",\"topology.edgelist-test/edges\",\"topology.edgelist-test/edges\",\"topology.edgelist-test/edges\",\"topology.edgelist/dirs->fn-edges\",\"topology.edgelist/dirs->fn-edges\",\"topology.edgelist/dirs->fn-edges\",\"topology.edgelist/dirs->fn-edges\",\"topology.edgelist/dirs->fn-edges\",\"topology.edgelist/dirs->fn-edges\",\"topology.edgelist/dirs->fn-edges\",\"topology.edgelist/dirs->fn-edges\",\"topology.edgelist/dirs->fn-edges\",\"topology.edgelist/dirs->fn-edges\",\"topology.edgelist/dirs->fn-edges\",\"topology.edgelist/dirs->fn-edges\",\"topology.edgelist/dirs->fn-edges\",\"topology.edgelist/dirs->fn-edges\",\"topology.edgelist/dirs->fn-edges\",\"topology.edgelist/dirs->fn-edges\",\"topology.edgelist/dirs->fn-edges\",\"topology.edgelist/dirs->fn-edges\",\"topology.edgelist/dirs->fn-edges\",\"topology.edgelist/dirs->fn-edges\",\"topology.edgelist/dirs->fn-edges\",\"topology.edgelist/dirs->fn-edges\",\"topology.edgelist/dirs->fn-edges\",\"topology.edgelist/dirs->fn-edges\",\"topology.edgelist/dirs->fn-edges\",\"topology.edgelist/dirs->fn-edges\",\"topology.edgelist/dirs->fn-edges\",\"topology.edgelist/dirs->fn-edges\",\"topology.edgelist/dirs->fn-edges\",\"topology.edgelist/dirs->fn-edges\",\"topology.edgelist/dirs->fn-edges\",\"topology.edgelist/dirs->fn-edges\",\"topology.edgelist/dirs->fn-edges\",\"topology.edgelist/dirs->fn-edges\",\"topology.edgelist/dirs->fn-edges\",\"topology.symbols/zip-nodes\",\"topology.symbols/zip-nodes\",\"topology.symbols/zip-nodes\",\"topology.symbols/zip-nodes\",\"topology.symbols/zip-nodes\",\"topology.symbols/zip-nodes\",\"topology.symbols/zip-nodes\",\"topology.symbols/zip-nodes\",\"topology.symbols/zip-nodes\",\"topology.symbols/zip-nodes\",\"topology.symbols/zip-nodes\",\"topology.symbols/zip-nodes\",\"topology.symbols/zip-nodes\",\"topology.symbols/zip-nodes\",\"topology.symbols/zip-nodes\",\"topology.symbols/zip-nodes\",\"topology.symbols/zip-nodes\",\"topology.symbols/zip-nodes\",\"topology.symbols/zip-nodes\",\"topology.symbols/zip-nodes\",\"topology.symbols/zip-nodes\",\"topology.symbols/zip-nodes\",\"topology.symbols/zip-nodes\",\"topology.symbols/zip-nodes\",\"topology.symbols/zip-nodes\",\"topology.symbols/zip-nodes\",\"topology.symbols/zip-nodes\",\"topology.symbols/zip-nodes\",\"topology.symbols/zip-nodes\",\"topology.symbols/zip-nodes\",\"topology.symbols/zip-nodes\",\"topology.symbols/zip-nodes\",\"topology.symbols/zip-nodes\",\"topology.symbols/zip-nodes\",\"topology.symbols/zip-nodes\",\"topology.qualifier/fq-ns\",\"topology.qualifier/fq-ns\",\"topology.qualifier/fq-ns\",\"topology.qualifier/fq-ns\",\"topology.qualifier/fq-ns\",\"topology.qualifier/fq-ns\",\"topology.qualifier/fq-ns\",\"topology.qualifier/fq-ns\",\"topology.qualifier/fq-ns\",\"topology.qualifier/fq-ns\",\"topology.qualifier/fq-ns\",\"topology.qualifier/fq-ns\",\"topology.qualifier/fq-ns\",\"topology.qualifier/fq-ns\",\"topology.qualifier/fq-ns\",\"topology.qualifier/fq-ns\",\"topology.qualifier/fq-ns\",\"topology.qualifier/fq-ns\",\"topology.qualifier/fq-ns\",\"topology.qualifier/fq-ns\",\"topology.qualifier/fq-ns\",\"topology.qualifier/fq-ns\",\"topology.qualifier/fq-ns\",\"topology.qualifier/fq-ns\",\"topology.qualifier/fq-ns\",\"topology.qualifier/fq-ns\",\"topology.qualifier/fq-ns\",\"topology.qualifier/fq-ns\",\"topology.qualifier/fq-ns\",\"topology.qualifier/fq-ns\",\"topology.qualifier/fq-ns\",\"topology.qualifier/fq-ns\",\"topology.qualifier/fq-ns\",\"topology.qualifier/fq-ns\",\"topology.qualifier/fq-ns\",\"clojure.zip/next\",\"clojure.zip/next\",\"clojure.zip/next\",\"clojure.zip/next\",\"clojure.zip/next\",\"clojure.zip/next\",\"clojure.zip/next\",\"clojure.zip/next\",\"clojure.zip/next\",\"clojure.zip/next\",\"clojure.zip/next\",\"clojure.zip/next\",\"clojure.zip/next\",\"clojure.zip/next\",\"clojure.zip/next\",\"clojure.zip/next\",\"clojure.zip/next\",\"clojure.zip/next\",\"clojure.zip/next\",\"clojure.zip/next\",\"clojure.zip/next\",\"clojure.zip/next\",\"clojure.zip/next\",\"clojure.zip/next\",\"clojure.zip/next\",\"clojure.zip/next\",\"clojure.zip/next\",\"clojure.zip/next\",\"clojure.zip/next\",\"clojure.zip/next\",\"clojure.zip/next\",\"clojure.zip/next\",\"clojure.zip/next\",\"clojure.zip/next\",\"clojure.zip/next\",\"clojure.core/*err*\",\"clojure.core/*err*\",\"clojure.core/*err*\",\"clojure.core/*err*\",\"clojure.core/*err*\",\"clojure.core/*err*\",\"clojure.core/*err*\",\"clojure.core/*err*\",\"clojure.core/*err*\",\"clojure.core/*err*\",\"clojure.core/*err*\",\"clojure.core/*err*\",\"clojure.core/*err*\",\"clojure.core/*err*\",\"clojure.core/*err*\",\"clojure.core/*err*\",\"clojure.core/*err*\",\"clojure.core/*err*\",\"clojure.core/*err*\",\"clojure.core/*err*\",\"clojure.core/*err*\",\"clojure.core/*err*\",\"clojure.core/*err*\",\"clojure.core/*err*\",\"clojure.core/*err*\",\"clojure.core/*err*\",\"clojure.core/*err*\",\"clojure.core/*err*\",\"clojure.core/*err*\",\"clojure.core/*err*\",\"clojure.core/*err*\",\"clojure.core/*err*\",\"clojure.core/*err*\",\"clojure.core/*err*\",\"clojure.core/*err*\",\"topology.edgelist/ns->edgelist\",\"topology.edgelist/ns->edgelist\",\"topology.edgelist/ns->edgelist\",\"topology.edgelist/ns->edgelist\",\"topology.edgelist/ns->edgelist\",\"topology.edgelist/ns->edgelist\",\"topology.edgelist/ns->edgelist\",\"topology.edgelist/ns->edgelist\",\"topology.edgelist/ns->edgelist\",\"topology.edgelist/ns->edgelist\",\"topology.edgelist/ns->edgelist\",\"topology.edgelist/ns->edgelist\",\"topology.edgelist/ns->edgelist\",\"topology.edgelist/ns->edgelist\",\"topology.edgelist/ns->edgelist\",\"topology.edgelist/ns->edgelist\",\"topology.edgelist/ns->edgelist\",\"topology.edgelist/ns->edgelist\",\"topology.edgelist/ns->edgelist\",\"topology.edgelist/ns->edgelist\",\"topology.edgelist/ns->edgelist\",\"topology.edgelist/ns->edgelist\",\"topology.edgelist/ns->edgelist\",\"topology.edgelist/ns->edgelist\",\"topology.edgelist/ns->edgelist\",\"topology.edgelist/ns->edgelist\",\"topology.edgelist/ns->edgelist\",\"topology.edgelist/ns->edgelist\",\"topology.edgelist/ns->edgelist\",\"topology.edgelist/ns->edgelist\",\"topology.edgelist/ns->edgelist\",\"topology.edgelist/ns->edgelist\",\"topology.edgelist/ns->edgelist\",\"topology.edgelist/ns->edgelist\",\"topology.edgelist/ns->edgelist\",\"clojure.tools.namespace.file/clojure-file?\",\"clojure.tools.namespace.file/clojure-file?\",\"clojure.tools.namespace.file/clojure-file?\",\"clojure.tools.namespace.file/clojure-file?\",\"clojure.tools.namespace.file/clojure-file?\",\"clojure.tools.namespace.file/clojure-file?\",\"clojure.tools.namespace.file/clojure-file?\",\"clojure.tools.namespace.file/clojure-file?\",\"clojure.tools.namespace.file/clojure-file?\",\"clojure.tools.namespace.file/clojure-file?\",\"clojure.tools.namespace.file/clojure-file?\",\"clojure.tools.namespace.file/clojure-file?\",\"clojure.tools.namespace.file/clojure-file?\",\"clojure.tools.namespace.file/clojure-file?\",\"clojure.tools.namespace.file/clojure-file?\",\"clojure.tools.namespace.file/clojure-file?\",\"clojure.tools.namespace.file/clojure-file?\",\"clojure.tools.namespace.file/clojure-file?\",\"clojure.tools.namespace.file/clojure-file?\",\"clojure.tools.namespace.file/clojure-file?\",\"clojure.tools.namespace.file/clojure-file?\",\"clojure.tools.namespace.file/clojure-file?\",\"clojure.tools.namespace.file/clojure-file?\",\"clojure.tools.namespace.file/clojure-file?\",\"clojure.tools.namespace.file/clojure-file?\",\"clojure.tools.namespace.file/clojure-file?\",\"clojure.tools.namespace.file/clojure-file?\",\"clojure.tools.namespace.file/clojure-file?\",\"clojure.tools.namespace.file/clojure-file?\",\"clojure.tools.namespace.file/clojure-file?\",\"clojure.tools.namespace.file/clojure-file?\",\"clojure.tools.namespace.file/clojure-file?\",\"clojure.tools.namespace.file/clojure-file?\",\"clojure.tools.namespace.file/clojure-file?\",\"clojure.tools.namespace.file/clojure-file?\",\"clojure.java.io/file\",\"clojure.java.io/file\",\"clojure.java.io/file\",\"clojure.java.io/file\",\"clojure.java.io/file\",\"clojure.java.io/file\",\"clojure.java.io/file\",\"clojure.java.io/file\",\"clojure.java.io/file\",\"clojure.java.io/file\",\"clojure.java.io/file\",\"clojure.java.io/file\",\"clojure.java.io/file\",\"clojure.java.io/file\",\"clojure.java.io/file\",\"clojure.java.io/file\",\"clojure.java.io/file\",\"clojure.java.io/file\",\"clojure.java.io/file\",\"clojure.java.io/file\",\"clojure.java.io/file\",\"clojure.java.io/file\",\"clojure.java.io/file\",\"clojure.java.io/file\",\"clojure.java.io/file\",\"clojure.java.io/file\",\"clojure.java.io/file\",\"clojure.java.io/file\",\"clojure.java.io/file\",\"clojure.java.io/file\",\"clojure.java.io/file\",\"clojure.java.io/file\",\"clojure.java.io/file\",\"clojure.java.io/file\",\"clojure.java.io/file\",\"clojure.zip/end?\",\"clojure.zip/end?\",\"clojure.zip/end?\",\"clojure.zip/end?\",\"clojure.zip/end?\",\"clojure.zip/end?\",\"clojure.zip/end?\",\"clojure.zip/end?\",\"clojure.zip/end?\",\"clojure.zip/end?\",\"clojure.zip/end?\",\"clojure.zip/end?\",\"clojure.zip/end?\",\"clojure.zip/end?\",\"clojure.zip/end?\",\"clojure.zip/end?\",\"clojure.zip/end?\",\"clojure.zip/end?\",\"clojure.zip/end?\",\"clojure.zip/end?\",\"clojure.zip/end?\",\"clojure.zip/end?\",\"clojure.zip/end?\",\"clojure.zip/end?\",\"clojure.zip/end?\",\"clojure.zip/end?\",\"clojure.zip/end?\",\"clojure.zip/end?\",\"clojure.zip/end?\",\"clojure.zip/end?\",\"clojure.zip/end?\",\"clojure.zip/end?\",\"clojure.zip/end?\",\"clojure.zip/end?\",\"clojure.zip/end?\",\"clojure.zip/node\",\"clojure.zip/node\",\"clojure.zip/node\",\"clojure.zip/node\",\"clojure.zip/node\",\"clojure.zip/node\",\"clojure.zip/node\",\"clojure.zip/node\",\"clojure.zip/node\",\"clojure.zip/node\",\"clojure.zip/node\",\"clojure.zip/node\",\"clojure.zip/node\",\"clojure.zip/node\",\"clojure.zip/node\",\"clojure.zip/node\",\"clojure.zip/node\",\"clojure.zip/node\",\"clojure.zip/node\",\"clojure.zip/node\",\"clojure.zip/node\",\"clojure.zip/node\",\"clojure.zip/node\",\"clojure.zip/node\",\"clojure.zip/node\",\"clojure.zip/node\",\"clojure.zip/node\",\"clojure.zip/node\",\"clojure.zip/node\",\"clojure.zip/node\",\"clojure.zip/node\",\"clojure.zip/node\",\"clojure.zip/node\",\"clojure.zip/node\",\"clojure.zip/node\",\"clojure.zip/zipper\",\"clojure.zip/zipper\",\"clojure.zip/zipper\",\"clojure.zip/zipper\",\"clojure.zip/zipper\",\"clojure.zip/zipper\",\"clojure.zip/zipper\",\"clojure.zip/zipper\",\"clojure.zip/zipper\",\"clojure.zip/zipper\",\"clojure.zip/zipper\",\"clojure.zip/zipper\",\"clojure.zip/zipper\",\"clojure.zip/zipper\",\"clojure.zip/zipper\",\"clojure.zip/zipper\",\"clojure.zip/zipper\",\"clojure.zip/zipper\",\"clojure.zip/zipper\",\"clojure.zip/zipper\",\"clojure.zip/zipper\",\"clojure.zip/zipper\",\"clojure.zip/zipper\",\"clojure.zip/zipper\",\"clojure.zip/zipper\",\"clojure.zip/zipper\",\"clojure.zip/zipper\",\"clojure.zip/zipper\",\"clojure.zip/zipper\",\"clojure.zip/zipper\",\"clojure.zip/zipper\",\"clojure.zip/zipper\",\"clojure.zip/zipper\",\"clojure.zip/zipper\",\"clojure.zip/zipper\"],\"yname\":[\"topology.dependencies/dependencies\",\"topology.edgelist-test/syntax-quotes-add-seq-concat-list\",\"topology.dependencies-test/should-compute-fn-calls-in-namespace\",\"leiningen.topology/topology\",\"topology.finder/find-sources-in-dir\",\"topology.finder/clojurescript-file?\",\"topology.edgelist-test/should-produce-weighted-edges-for-multiple-calls\",\"topology.dependencies/ns->fn-dep-map\",\"topology.printer/print-weighted-edges\",\"clojure.core/println\",\"topology.symbols/seq-map-zip\",\"topology.edgelist/interleave-keys\",\"topology.dependencies/interns\",\"topology.dependencies/sources\",\"clojure.repl/source-fn\",\"topology.edgelist-test/should-report-java-interop\",\"topology.qualifier/filter-fully-qualified\",\"leiningen.core.eval/eval-in-project\",\"topology.qualifier/all-fq\",\"topology.finder/source-paths->namespaces\",\"topology.finder/dirs->sources\",\"clojure.tools.namespace.file/read-file-ns-decl\",\"topology.symbols/symbols\",\"topology.edgelist-test/edges\",\"topology.edgelist/dirs->fn-edges\",\"topology.symbols/zip-nodes\",\"topology.qualifier/fq-ns\",\"clojure.zip/next\",\"clojure.core/*err*\",\"topology.edgelist/ns->edgelist\",\"clojure.tools.namespace.file/clojure-file?\",\"clojure.java.io/file\",\"clojure.zip/end?\",\"clojure.zip/node\",\"clojure.zip/zipper\",\"topology.dependencies/dependencies\",\"topology.edgelist-test/syntax-quotes-add-seq-concat-list\",\"topology.dependencies-test/should-compute-fn-calls-in-namespace\",\"leiningen.topology/topology\",\"topology.finder/find-sources-in-dir\",\"topology.finder/clojurescript-file?\",\"topology.edgelist-test/should-produce-weighted-edges-for-multiple-calls\",\"topology.dependencies/ns->fn-dep-map\",\"topology.printer/print-weighted-edges\",\"clojure.core/println\",\"topology.symbols/seq-map-zip\",\"topology.edgelist/interleave-keys\",\"topology.dependencies/interns\",\"topology.dependencies/sources\",\"clojure.repl/source-fn\",\"topology.edgelist-test/should-report-java-interop\",\"topology.qualifier/filter-fully-qualified\",\"leiningen.core.eval/eval-in-project\",\"topology.qualifier/all-fq\",\"topology.finder/source-paths->namespaces\",\"topology.finder/dirs->sources\",\"clojure.tools.namespace.file/read-file-ns-decl\",\"topology.symbols/symbols\",\"topology.edgelist-test/edges\",\"topology.edgelist/dirs->fn-edges\",\"topology.symbols/zip-nodes\",\"topology.qualifier/fq-ns\",\"clojure.zip/next\",\"clojure.core/*err*\",\"topology.edgelist/ns->edgelist\",\"clojure.tools.namespace.file/clojure-file?\",\"clojure.java.io/file\",\"clojure.zip/end?\",\"clojure.zip/node\",\"clojure.zip/zipper\",\"topology.dependencies/dependencies\",\"topology.edgelist-test/syntax-quotes-add-seq-concat-list\",\"topology.dependencies-test/should-compute-fn-calls-in-namespace\",\"leiningen.topology/topology\",\"topology.finder/find-sources-in-dir\",\"topology.finder/clojurescript-file?\",\"topology.edgelist-test/should-produce-weighted-edges-for-multiple-calls\",\"topology.dependencies/ns->fn-dep-map\",\"topology.printer/print-weighted-edges\",\"clojure.core/println\",\"topology.symbols/seq-map-zip\",\"topology.edgelist/interleave-keys\",\"topology.dependencies/interns\",\"topology.dependencies/sources\",\"clojure.repl/source-fn\",\"topology.edgelist-test/should-report-java-interop\",\"topology.qualifier/filter-fully-qualified\",\"leiningen.core.eval/eval-in-project\",\"topology.qualifier/all-fq\",\"topology.finder/source-paths->namespaces\",\"topology.finder/dirs->sources\",\"clojure.tools.namespace.file/read-file-ns-decl\",\"topology.symbols/symbols\",\"topology.edgelist-test/edges\",\"topology.edgelist/dirs->fn-edges\",\"topology.symbols/zip-nodes\",\"topology.qualifier/fq-ns\",\"clojure.zip/next\",\"clojure.core/*err*\",\"topology.edgelist/ns->edgelist\",\"clojure.tools.namespace.file/clojure-file?\",\"clojure.java.io/file\",\"clojure.zip/end?\",\"clojure.zip/node\",\"clojure.zip/zipper\",\"topology.dependencies/dependencies\",\"topology.edgelist-test/syntax-quotes-add-seq-concat-list\",\"topology.dependencies-test/should-compute-fn-calls-in-namespace\",\"leiningen.topology/topology\",\"topology.finder/find-sources-in-dir\",\"topology.finder/clojurescript-file?\",\"topology.edgelist-test/should-produce-weighted-edges-for-multiple-calls\",\"topology.dependencies/ns->fn-dep-map\",\"topology.printer/print-weighted-edges\",\"clojure.core/println\",\"topology.symbols/seq-map-zip\",\"topology.edgelist/interleave-keys\",\"topology.dependencies/interns\",\"topology.dependencies/sources\",\"clojure.repl/source-fn\",\"topology.edgelist-test/should-report-java-interop\",\"topology.qualifier/filter-fully-qualified\",\"leiningen.core.eval/eval-in-project\",\"topology.qualifier/all-fq\",\"topology.finder/source-paths->namespaces\",\"topology.finder/dirs->sources\",\"clojure.tools.namespace.file/read-file-ns-decl\",\"topology.symbols/symbols\",\"topology.edgelist-test/edges\",\"topology.edgelist/dirs->fn-edges\",\"topology.symbols/zip-nodes\",\"topology.qualifier/fq-ns\",\"clojure.zip/next\",\"clojure.core/*err*\",\"topology.edgelist/ns->edgelist\",\"clojure.tools.namespace.file/clojure-file?\",\"clojure.java.io/file\",\"clojure.zip/end?\",\"clojure.zip/node\",\"clojure.zip/zipper\",\"topology.dependencies/dependencies\",\"topology.edgelist-test/syntax-quotes-add-seq-concat-list\",\"topology.dependencies-test/should-compute-fn-calls-in-namespace\",\"leiningen.topology/topology\",\"topology.finder/find-sources-in-dir\",\"topology.finder/clojurescript-file?\",\"topology.edgelist-test/should-produce-weighted-edges-for-multiple-calls\",\"topology.dependencies/ns->fn-dep-map\",\"topology.printer/print-weighted-edges\",\"clojure.core/println\",\"topology.symbols/seq-map-zip\",\"topology.edgelist/interleave-keys\",\"topology.dependencies/interns\",\"topology.dependencies/sources\",\"clojure.repl/source-fn\",\"topology.edgelist-test/should-report-java-interop\",\"topology.qualifier/filter-fully-qualified\",\"leiningen.core.eval/eval-in-project\",\"topology.qualifier/all-fq\",\"topology.finder/source-paths->namespaces\",\"topology.finder/dirs->sources\",\"clojure.tools.namespace.file/read-file-ns-decl\",\"topology.symbols/symbols\",\"topology.edgelist-test/edges\",\"topology.edgelist/dirs->fn-edges\",\"topology.symbols/zip-nodes\",\"topology.qualifier/fq-ns\",\"clojure.zip/next\",\"clojure.core/*err*\",\"topology.edgelist/ns->edgelist\",\"clojure.tools.namespace.file/clojure-file?\",\"clojure.java.io/file\",\"clojure.zip/end?\",\"clojure.zip/node\",\"clojure.zip/zipper\",\"topology.dependencies/dependencies\",\"topology.edgelist-test/syntax-quotes-add-seq-concat-list\",\"topology.dependencies-test/should-compute-fn-calls-in-namespace\",\"leiningen.topology/topology\",\"topology.finder/find-sources-in-dir\",\"topology.finder/clojurescript-file?\",\"topology.edgelist-test/should-produce-weighted-edges-for-multiple-calls\",\"topology.dependencies/ns->fn-dep-map\",\"topology.printer/print-weighted-edges\",\"clojure.core/println\",\"topology.symbols/seq-map-zip\",\"topology.edgelist/interleave-keys\",\"topology.dependencies/interns\",\"topology.dependencies/sources\",\"clojure.repl/source-fn\",\"topology.edgelist-test/should-report-java-interop\",\"topology.qualifier/filter-fully-qualified\",\"leiningen.core.eval/eval-in-project\",\"topology.qualifier/all-fq\",\"topology.finder/source-paths->namespaces\",\"topology.finder/dirs->sources\",\"clojure.tools.namespace.file/read-file-ns-decl\",\"topology.symbols/symbols\",\"topology.edgelist-test/edges\",\"topology.edgelist/dirs->fn-edges\",\"topology.symbols/zip-nodes\",\"topology.qualifier/fq-ns\",\"clojure.zip/next\",\"clojure.core/*err*\",\"topology.edgelist/ns->edgelist\",\"clojure.tools.namespace.file/clojure-file?\",\"clojure.java.io/file\",\"clojure.zip/end?\",\"clojure.zip/node\",\"clojure.zip/zipper\",\"topology.dependencies/dependencies\",\"topology.edgelist-test/syntax-quotes-add-seq-concat-list\",\"topology.dependencies-test/should-compute-fn-calls-in-namespace\",\"leiningen.topology/topology\",\"topology.finder/find-sources-in-dir\",\"topology.finder/clojurescript-file?\",\"topology.edgelist-test/should-produce-weighted-edges-for-multiple-calls\",\"topology.dependencies/ns->fn-dep-map\",\"topology.printer/print-weighted-edges\",\"clojure.core/println\",\"topology.symbols/seq-map-zip\",\"topology.edgelist/interleave-keys\",\"topology.dependencies/interns\",\"topology.dependencies/sources\",\"clojure.repl/source-fn\",\"topology.edgelist-test/should-report-java-interop\",\"topology.qualifier/filter-fully-qualified\",\"leiningen.core.eval/eval-in-project\",\"topology.qualifier/all-fq\",\"topology.finder/source-paths->namespaces\",\"topology.finder/dirs->sources\",\"clojure.tools.namespace.file/read-file-ns-decl\",\"topology.symbols/symbols\",\"topology.edgelist-test/edges\",\"topology.edgelist/dirs->fn-edges\",\"topology.symbols/zip-nodes\",\"topology.qualifier/fq-ns\",\"clojure.zip/next\",\"clojure.core/*err*\",\"topology.edgelist/ns->edgelist\",\"clojure.tools.namespace.file/clojure-file?\",\"clojure.java.io/file\",\"clojure.zip/end?\",\"clojure.zip/node\",\"clojure.zip/zipper\",\"topology.dependencies/dependencies\",\"topology.edgelist-test/syntax-quotes-add-seq-concat-list\",\"topology.dependencies-test/should-compute-fn-calls-in-namespace\",\"leiningen.topology/topology\",\"topology.finder/find-sources-in-dir\",\"topology.finder/clojurescript-file?\",\"topology.edgelist-test/should-produce-weighted-edges-for-multiple-calls\",\"topology.dependencies/ns->fn-dep-map\",\"topology.printer/print-weighted-edges\",\"clojure.core/println\",\"topology.symbols/seq-map-zip\",\"topology.edgelist/interleave-keys\",\"topology.dependencies/interns\",\"topology.dependencies/sources\",\"clojure.repl/source-fn\",\"topology.edgelist-test/should-report-java-interop\",\"topology.qualifier/filter-fully-qualified\",\"leiningen.core.eval/eval-in-project\",\"topology.qualifier/all-fq\",\"topology.finder/source-paths->namespaces\",\"topology.finder/dirs->sources\",\"clojure.tools.namespace.file/read-file-ns-decl\",\"topology.symbols/symbols\",\"topology.edgelist-test/edges\",\"topology.edgelist/dirs->fn-edges\",\"topology.symbols/zip-nodes\",\"topology.qualifier/fq-ns\",\"clojure.zip/next\",\"clojure.core/*err*\",\"topology.edgelist/ns->edgelist\",\"clojure.tools.namespace.file/clojure-file?\",\"clojure.java.io/file\",\"clojure.zip/end?\",\"clojure.zip/node\",\"clojure.zip/zipper\",\"topology.dependencies/dependencies\",\"topology.edgelist-test/syntax-quotes-add-seq-concat-list\",\"topology.dependencies-test/should-compute-fn-calls-in-namespace\",\"leiningen.topology/topology\",\"topology.finder/find-sources-in-dir\",\"topology.finder/clojurescript-file?\",\"topology.edgelist-test/should-produce-weighted-edges-for-multiple-calls\",\"topology.dependencies/ns->fn-dep-map\",\"topology.printer/print-weighted-edges\",\"clojure.core/println\",\"topology.symbols/seq-map-zip\",\"topology.edgelist/interleave-keys\",\"topology.dependencies/interns\",\"topology.dependencies/sources\",\"clojure.repl/source-fn\",\"topology.edgelist-test/should-report-java-interop\",\"topology.qualifier/filter-fully-qualified\",\"leiningen.core.eval/eval-in-project\",\"topology.qualifier/all-fq\",\"topology.finder/source-paths->namespaces\",\"topology.finder/dirs->sources\",\"clojure.tools.namespace.file/read-file-ns-decl\",\"topology.symbols/symbols\",\"topology.edgelist-test/edges\",\"topology.edgelist/dirs->fn-edges\",\"topology.symbols/zip-nodes\",\"topology.qualifier/fq-ns\",\"clojure.zip/next\",\"clojure.core/*err*\",\"topology.edgelist/ns->edgelist\",\"clojure.tools.namespace.file/clojure-file?\",\"clojure.java.io/file\",\"clojure.zip/end?\",\"clojure.zip/node\",\"clojure.zip/zipper\",\"topology.dependencies/dependencies\",\"topology.edgelist-test/syntax-quotes-add-seq-concat-list\",\"topology.dependencies-test/should-compute-fn-calls-in-namespace\",\"leiningen.topology/topology\",\"topology.finder/find-sources-in-dir\",\"topology.finder/clojurescript-file?\",\"topology.edgelist-test/should-produce-weighted-edges-for-multiple-calls\",\"topology.dependencies/ns->fn-dep-map\",\"topology.printer/print-weighted-edges\",\"clojure.core/println\",\"topology.symbols/seq-map-zip\",\"topology.edgelist/interleave-keys\",\"topology.dependencies/interns\",\"topology.dependencies/sources\",\"clojure.repl/source-fn\",\"topology.edgelist-test/should-report-java-interop\",\"topology.qualifier/filter-fully-qualified\",\"leiningen.core.eval/eval-in-project\",\"topology.qualifier/all-fq\",\"topology.finder/source-paths->namespaces\",\"topology.finder/dirs->sources\",\"clojure.tools.namespace.file/read-file-ns-decl\",\"topology.symbols/symbols\",\"topology.edgelist-test/edges\",\"topology.edgelist/dirs->fn-edges\",\"topology.symbols/zip-nodes\",\"topology.qualifier/fq-ns\",\"clojure.zip/next\",\"clojure.core/*err*\",\"topology.edgelist/ns->edgelist\",\"clojure.tools.namespace.file/clojure-file?\",\"clojure.java.io/file\",\"clojure.zip/end?\",\"clojure.zip/node\",\"clojure.zip/zipper\",\"topology.dependencies/dependencies\",\"topology.edgelist-test/syntax-quotes-add-seq-concat-list\",\"topology.dependencies-test/should-compute-fn-calls-in-namespace\",\"leiningen.topology/topology\",\"topology.finder/find-sources-in-dir\",\"topology.finder/clojurescript-file?\",\"topology.edgelist-test/should-produce-weighted-edges-for-multiple-calls\",\"topology.dependencies/ns->fn-dep-map\",\"topology.printer/print-weighted-edges\",\"clojure.core/println\",\"topology.symbols/seq-map-zip\",\"topology.edgelist/interleave-keys\",\"topology.dependencies/interns\",\"topology.dependencies/sources\",\"clojure.repl/source-fn\",\"topology.edgelist-test/should-report-java-interop\",\"topology.qualifier/filter-fully-qualified\",\"leiningen.core.eval/eval-in-project\",\"topology.qualifier/all-fq\",\"topology.finder/source-paths->namespaces\",\"topology.finder/dirs->sources\",\"clojure.tools.namespace.file/read-file-ns-decl\",\"topology.symbols/symbols\",\"topology.edgelist-test/edges\",\"topology.edgelist/dirs->fn-edges\",\"topology.symbols/zip-nodes\",\"topology.qualifier/fq-ns\",\"clojure.zip/next\",\"clojure.core/*err*\",\"topology.edgelist/ns->edgelist\",\"clojure.tools.namespace.file/clojure-file?\",\"clojure.java.io/file\",\"clojure.zip/end?\",\"clojure.zip/node\",\"clojure.zip/zipper\",\"topology.dependencies/dependencies\",\"topology.edgelist-test/syntax-quotes-add-seq-concat-list\",\"topology.dependencies-test/should-compute-fn-calls-in-namespace\",\"leiningen.topology/topology\",\"topology.finder/find-sources-in-dir\",\"topology.finder/clojurescript-file?\",\"topology.edgelist-test/should-produce-weighted-edges-for-multiple-calls\",\"topology.dependencies/ns->fn-dep-map\",\"topology.printer/print-weighted-edges\",\"clojure.core/println\",\"topology.symbols/seq-map-zip\",\"topology.edgelist/interleave-keys\",\"topology.dependencies/interns\",\"topology.dependencies/sources\",\"clojure.repl/source-fn\",\"topology.edgelist-test/should-report-java-interop\",\"topology.qualifier/filter-fully-qualified\",\"leiningen.core.eval/eval-in-project\",\"topology.qualifier/all-fq\",\"topology.finder/source-paths->namespaces\",\"topology.finder/dirs->sources\",\"clojure.tools.namespace.file/read-file-ns-decl\",\"topology.symbols/symbols\",\"topology.edgelist-test/edges\",\"topology.edgelist/dirs->fn-edges\",\"topology.symbols/zip-nodes\",\"topology.qualifier/fq-ns\",\"clojure.zip/next\",\"clojure.core/*err*\",\"topology.edgelist/ns->edgelist\",\"clojure.tools.namespace.file/clojure-file?\",\"clojure.java.io/file\",\"clojure.zip/end?\",\"clojure.zip/node\",\"clojure.zip/zipper\",\"topology.dependencies/dependencies\",\"topology.edgelist-test/syntax-quotes-add-seq-concat-list\",\"topology.dependencies-test/should-compute-fn-calls-in-namespace\",\"leiningen.topology/topology\",\"topology.finder/find-sources-in-dir\",\"topology.finder/clojurescript-file?\",\"topology.edgelist-test/should-produce-weighted-edges-for-multiple-calls\",\"topology.dependencies/ns->fn-dep-map\",\"topology.printer/print-weighted-edges\",\"clojure.core/println\",\"topology.symbols/seq-map-zip\",\"topology.edgelist/interleave-keys\",\"topology.dependencies/interns\",\"topology.dependencies/sources\",\"clojure.repl/source-fn\",\"topology.edgelist-test/should-report-java-interop\",\"topology.qualifier/filter-fully-qualified\",\"leiningen.core.eval/eval-in-project\",\"topology.qualifier/all-fq\",\"topology.finder/source-paths->namespaces\",\"topology.finder/dirs->sources\",\"clojure.tools.namespace.file/read-file-ns-decl\",\"topology.symbols/symbols\",\"topology.edgelist-test/edges\",\"topology.edgelist/dirs->fn-edges\",\"topology.symbols/zip-nodes\",\"topology.qualifier/fq-ns\",\"clojure.zip/next\",\"clojure.core/*err*\",\"topology.edgelist/ns->edgelist\",\"clojure.tools.namespace.file/clojure-file?\",\"clojure.java.io/file\",\"clojure.zip/end?\",\"clojure.zip/node\",\"clojure.zip/zipper\",\"topology.dependencies/dependencies\",\"topology.edgelist-test/syntax-quotes-add-seq-concat-list\",\"topology.dependencies-test/should-compute-fn-calls-in-namespace\",\"leiningen.topology/topology\",\"topology.finder/find-sources-in-dir\",\"topology.finder/clojurescript-file?\",\"topology.edgelist-test/should-produce-weighted-edges-for-multiple-calls\",\"topology.dependencies/ns->fn-dep-map\",\"topology.printer/print-weighted-edges\",\"clojure.core/println\",\"topology.symbols/seq-map-zip\",\"topology.edgelist/interleave-keys\",\"topology.dependencies/interns\",\"topology.dependencies/sources\",\"clojure.repl/source-fn\",\"topology.edgelist-test/should-report-java-interop\",\"topology.qualifier/filter-fully-qualified\",\"leiningen.core.eval/eval-in-project\",\"topology.qualifier/all-fq\",\"topology.finder/source-paths->namespaces\",\"topology.finder/dirs->sources\",\"clojure.tools.namespace.file/read-file-ns-decl\",\"topology.symbols/symbols\",\"topology.edgelist-test/edges\",\"topology.edgelist/dirs->fn-edges\",\"topology.symbols/zip-nodes\",\"topology.qualifier/fq-ns\",\"clojure.zip/next\",\"clojure.core/*err*\",\"topology.edgelist/ns->edgelist\",\"clojure.tools.namespace.file/clojure-file?\",\"clojure.java.io/file\",\"clojure.zip/end?\",\"clojure.zip/node\",\"clojure.zip/zipper\",\"topology.dependencies/dependencies\",\"topology.edgelist-test/syntax-quotes-add-seq-concat-list\",\"topology.dependencies-test/should-compute-fn-calls-in-namespace\",\"leiningen.topology/topology\",\"topology.finder/find-sources-in-dir\",\"topology.finder/clojurescript-file?\",\"topology.edgelist-test/should-produce-weighted-edges-for-multiple-calls\",\"topology.dependencies/ns->fn-dep-map\",\"topology.printer/print-weighted-edges\",\"clojure.core/println\",\"topology.symbols/seq-map-zip\",\"topology.edgelist/interleave-keys\",\"topology.dependencies/interns\",\"topology.dependencies/sources\",\"clojure.repl/source-fn\",\"topology.edgelist-test/should-report-java-interop\",\"topology.qualifier/filter-fully-qualified\",\"leiningen.core.eval/eval-in-project\",\"topology.qualifier/all-fq\",\"topology.finder/source-paths->namespaces\",\"topology.finder/dirs->sources\",\"clojure.tools.namespace.file/read-file-ns-decl\",\"topology.symbols/symbols\",\"topology.edgelist-test/edges\",\"topology.edgelist/dirs->fn-edges\",\"topology.symbols/zip-nodes\",\"topology.qualifier/fq-ns\",\"clojure.zip/next\",\"clojure.core/*err*\",\"topology.edgelist/ns->edgelist\",\"clojure.tools.namespace.file/clojure-file?\",\"clojure.java.io/file\",\"clojure.zip/end?\",\"clojure.zip/node\",\"clojure.zip/zipper\",\"topology.dependencies/dependencies\",\"topology.edgelist-test/syntax-quotes-add-seq-concat-list\",\"topology.dependencies-test/should-compute-fn-calls-in-namespace\",\"leiningen.topology/topology\",\"topology.finder/find-sources-in-dir\",\"topology.finder/clojurescript-file?\",\"topology.edgelist-test/should-produce-weighted-edges-for-multiple-calls\",\"topology.dependencies/ns->fn-dep-map\",\"topology.printer/print-weighted-edges\",\"clojure.core/println\",\"topology.symbols/seq-map-zip\",\"topology.edgelist/interleave-keys\",\"topology.dependencies/interns\",\"topology.dependencies/sources\",\"clojure.repl/source-fn\",\"topology.edgelist-test/should-report-java-interop\",\"topology.qualifier/filter-fully-qualified\",\"leiningen.core.eval/eval-in-project\",\"topology.qualifier/all-fq\",\"topology.finder/source-paths->namespaces\",\"topology.finder/dirs->sources\",\"clojure.tools.namespace.file/read-file-ns-decl\",\"topology.symbols/symbols\",\"topology.edgelist-test/edges\",\"topology.edgelist/dirs->fn-edges\",\"topology.symbols/zip-nodes\",\"topology.qualifier/fq-ns\",\"clojure.zip/next\",\"clojure.core/*err*\",\"topology.edgelist/ns->edgelist\",\"clojure.tools.namespace.file/clojure-file?\",\"clojure.java.io/file\",\"clojure.zip/end?\",\"clojure.zip/node\",\"clojure.zip/zipper\",\"topology.dependencies/dependencies\",\"topology.edgelist-test/syntax-quotes-add-seq-concat-list\",\"topology.dependencies-test/should-compute-fn-calls-in-namespace\",\"leiningen.topology/topology\",\"topology.finder/find-sources-in-dir\",\"topology.finder/clojurescript-file?\",\"topology.edgelist-test/should-produce-weighted-edges-for-multiple-calls\",\"topology.dependencies/ns->fn-dep-map\",\"topology.printer/print-weighted-edges\",\"clojure.core/println\",\"topology.symbols/seq-map-zip\",\"topology.edgelist/interleave-keys\",\"topology.dependencies/interns\",\"topology.dependencies/sources\",\"clojure.repl/source-fn\",\"topology.edgelist-test/should-report-java-interop\",\"topology.qualifier/filter-fully-qualified\",\"leiningen.core.eval/eval-in-project\",\"topology.qualifier/all-fq\",\"topology.finder/source-paths->namespaces\",\"topology.finder/dirs->sources\",\"clojure.tools.namespace.file/read-file-ns-decl\",\"topology.symbols/symbols\",\"topology.edgelist-test/edges\",\"topology.edgelist/dirs->fn-edges\",\"topology.symbols/zip-nodes\",\"topology.qualifier/fq-ns\",\"clojure.zip/next\",\"clojure.core/*err*\",\"topology.edgelist/ns->edgelist\",\"clojure.tools.namespace.file/clojure-file?\",\"clojure.java.io/file\",\"clojure.zip/end?\",\"clojure.zip/node\",\"clojure.zip/zipper\",\"topology.dependencies/dependencies\",\"topology.edgelist-test/syntax-quotes-add-seq-concat-list\",\"topology.dependencies-test/should-compute-fn-calls-in-namespace\",\"leiningen.topology/topology\",\"topology.finder/find-sources-in-dir\",\"topology.finder/clojurescript-file?\",\"topology.edgelist-test/should-produce-weighted-edges-for-multiple-calls\",\"topology.dependencies/ns->fn-dep-map\",\"topology.printer/print-weighted-edges\",\"clojure.core/println\",\"topology.symbols/seq-map-zip\",\"topology.edgelist/interleave-keys\",\"topology.dependencies/interns\",\"topology.dependencies/sources\",\"clojure.repl/source-fn\",\"topology.edgelist-test/should-report-java-interop\",\"topology.qualifier/filter-fully-qualified\",\"leiningen.core.eval/eval-in-project\",\"topology.qualifier/all-fq\",\"topology.finder/source-paths->namespaces\",\"topology.finder/dirs->sources\",\"clojure.tools.namespace.file/read-file-ns-decl\",\"topology.symbols/symbols\",\"topology.edgelist-test/edges\",\"topology.edgelist/dirs->fn-edges\",\"topology.symbols/zip-nodes\",\"topology.qualifier/fq-ns\",\"clojure.zip/next\",\"clojure.core/*err*\",\"topology.edgelist/ns->edgelist\",\"clojure.tools.namespace.file/clojure-file?\",\"clojure.java.io/file\",\"clojure.zip/end?\",\"clojure.zip/node\",\"clojure.zip/zipper\",\"topology.dependencies/dependencies\",\"topology.edgelist-test/syntax-quotes-add-seq-concat-list\",\"topology.dependencies-test/should-compute-fn-calls-in-namespace\",\"leiningen.topology/topology\",\"topology.finder/find-sources-in-dir\",\"topology.finder/clojurescript-file?\",\"topology.edgelist-test/should-produce-weighted-edges-for-multiple-calls\",\"topology.dependencies/ns->fn-dep-map\",\"topology.printer/print-weighted-edges\",\"clojure.core/println\",\"topology.symbols/seq-map-zip\",\"topology.edgelist/interleave-keys\",\"topology.dependencies/interns\",\"topology.dependencies/sources\",\"clojure.repl/source-fn\",\"topology.edgelist-test/should-report-java-interop\",\"topology.qualifier/filter-fully-qualified\",\"leiningen.core.eval/eval-in-project\",\"topology.qualifier/all-fq\",\"topology.finder/source-paths->namespaces\",\"topology.finder/dirs->sources\",\"clojure.tools.namespace.file/read-file-ns-decl\",\"topology.symbols/symbols\",\"topology.edgelist-test/edges\",\"topology.edgelist/dirs->fn-edges\",\"topology.symbols/zip-nodes\",\"topology.qualifier/fq-ns\",\"clojure.zip/next\",\"clojure.core/*err*\",\"topology.edgelist/ns->edgelist\",\"clojure.tools.namespace.file/clojure-file?\",\"clojure.java.io/file\",\"clojure.zip/end?\",\"clojure.zip/node\",\"clojure.zip/zipper\",\"topology.dependencies/dependencies\",\"topology.edgelist-test/syntax-quotes-add-seq-concat-list\",\"topology.dependencies-test/should-compute-fn-calls-in-namespace\",\"leiningen.topology/topology\",\"topology.finder/find-sources-in-dir\",\"topology.finder/clojurescript-file?\",\"topology.edgelist-test/should-produce-weighted-edges-for-multiple-calls\",\"topology.dependencies/ns->fn-dep-map\",\"topology.printer/print-weighted-edges\",\"clojure.core/println\",\"topology.symbols/seq-map-zip\",\"topology.edgelist/interleave-keys\",\"topology.dependencies/interns\",\"topology.dependencies/sources\",\"clojure.repl/source-fn\",\"topology.edgelist-test/should-report-java-interop\",\"topology.qualifier/filter-fully-qualified\",\"leiningen.core.eval/eval-in-project\",\"topology.qualifier/all-fq\",\"topology.finder/source-paths->namespaces\",\"topology.finder/dirs->sources\",\"clojure.tools.namespace.file/read-file-ns-decl\",\"topology.symbols/symbols\",\"topology.edgelist-test/edges\",\"topology.edgelist/dirs->fn-edges\",\"topology.symbols/zip-nodes\",\"topology.qualifier/fq-ns\",\"clojure.zip/next\",\"clojure.core/*err*\",\"topology.edgelist/ns->edgelist\",\"clojure.tools.namespace.file/clojure-file?\",\"clojure.java.io/file\",\"clojure.zip/end?\",\"clojure.zip/node\",\"clojure.zip/zipper\",\"topology.dependencies/dependencies\",\"topology.edgelist-test/syntax-quotes-add-seq-concat-list\",\"topology.dependencies-test/should-compute-fn-calls-in-namespace\",\"leiningen.topology/topology\",\"topology.finder/find-sources-in-dir\",\"topology.finder/clojurescript-file?\",\"topology.edgelist-test/should-produce-weighted-edges-for-multiple-calls\",\"topology.dependencies/ns->fn-dep-map\",\"topology.printer/print-weighted-edges\",\"clojure.core/println\",\"topology.symbols/seq-map-zip\",\"topology.edgelist/interleave-keys\",\"topology.dependencies/interns\",\"topology.dependencies/sources\",\"clojure.repl/source-fn\",\"topology.edgelist-test/should-report-java-interop\",\"topology.qualifier/filter-fully-qualified\",\"leiningen.core.eval/eval-in-project\",\"topology.qualifier/all-fq\",\"topology.finder/source-paths->namespaces\",\"topology.finder/dirs->sources\",\"clojure.tools.namespace.file/read-file-ns-decl\",\"topology.symbols/symbols\",\"topology.edgelist-test/edges\",\"topology.edgelist/dirs->fn-edges\",\"topology.symbols/zip-nodes\",\"topology.qualifier/fq-ns\",\"clojure.zip/next\",\"clojure.core/*err*\",\"topology.edgelist/ns->edgelist\",\"clojure.tools.namespace.file/clojure-file?\",\"clojure.java.io/file\",\"clojure.zip/end?\",\"clojure.zip/node\",\"clojure.zip/zipper\",\"topology.dependencies/dependencies\",\"topology.edgelist-test/syntax-quotes-add-seq-concat-list\",\"topology.dependencies-test/should-compute-fn-calls-in-namespace\",\"leiningen.topology/topology\",\"topology.finder/find-sources-in-dir\",\"topology.finder/clojurescript-file?\",\"topology.edgelist-test/should-produce-weighted-edges-for-multiple-calls\",\"topology.dependencies/ns->fn-dep-map\",\"topology.printer/print-weighted-edges\",\"clojure.core/println\",\"topology.symbols/seq-map-zip\",\"topology.edgelist/interleave-keys\",\"topology.dependencies/interns\",\"topology.dependencies/sources\",\"clojure.repl/source-fn\",\"topology.edgelist-test/should-report-java-interop\",\"topology.qualifier/filter-fully-qualified\",\"leiningen.core.eval/eval-in-project\",\"topology.qualifier/all-fq\",\"topology.finder/source-paths->namespaces\",\"topology.finder/dirs->sources\",\"clojure.tools.namespace.file/read-file-ns-decl\",\"topology.symbols/symbols\",\"topology.edgelist-test/edges\",\"topology.edgelist/dirs->fn-edges\",\"topology.symbols/zip-nodes\",\"topology.qualifier/fq-ns\",\"clojure.zip/next\",\"clojure.core/*err*\",\"topology.edgelist/ns->edgelist\",\"clojure.tools.namespace.file/clojure-file?\",\"clojure.java.io/file\",\"clojure.zip/end?\",\"clojure.zip/node\",\"clojure.zip/zipper\",\"topology.dependencies/dependencies\",\"topology.edgelist-test/syntax-quotes-add-seq-concat-list\",\"topology.dependencies-test/should-compute-fn-calls-in-namespace\",\"leiningen.topology/topology\",\"topology.finder/find-sources-in-dir\",\"topology.finder/clojurescript-file?\",\"topology.edgelist-test/should-produce-weighted-edges-for-multiple-calls\",\"topology.dependencies/ns->fn-dep-map\",\"topology.printer/print-weighted-edges\",\"clojure.core/println\",\"topology.symbols/seq-map-zip\",\"topology.edgelist/interleave-keys\",\"topology.dependencies/interns\",\"topology.dependencies/sources\",\"clojure.repl/source-fn\",\"topology.edgelist-test/should-report-java-interop\",\"topology.qualifier/filter-fully-qualified\",\"leiningen.core.eval/eval-in-project\",\"topology.qualifier/all-fq\",\"topology.finder/source-paths->namespaces\",\"topology.finder/dirs->sources\",\"clojure.tools.namespace.file/read-file-ns-decl\",\"topology.symbols/symbols\",\"topology.edgelist-test/edges\",\"topology.edgelist/dirs->fn-edges\",\"topology.symbols/zip-nodes\",\"topology.qualifier/fq-ns\",\"clojure.zip/next\",\"clojure.core/*err*\",\"topology.edgelist/ns->edgelist\",\"clojure.tools.namespace.file/clojure-file?\",\"clojure.java.io/file\",\"clojure.zip/end?\",\"clojure.zip/node\",\"clojure.zip/zipper\",\"topology.dependencies/dependencies\",\"topology.edgelist-test/syntax-quotes-add-seq-concat-list\",\"topology.dependencies-test/should-compute-fn-calls-in-namespace\",\"leiningen.topology/topology\",\"topology.finder/find-sources-in-dir\",\"topology.finder/clojurescript-file?\",\"topology.edgelist-test/should-produce-weighted-edges-for-multiple-calls\",\"topology.dependencies/ns->fn-dep-map\",\"topology.printer/print-weighted-edges\",\"clojure.core/println\",\"topology.symbols/seq-map-zip\",\"topology.edgelist/interleave-keys\",\"topology.dependencies/interns\",\"topology.dependencies/sources\",\"clojure.repl/source-fn\",\"topology.edgelist-test/should-report-java-interop\",\"topology.qualifier/filter-fully-qualified\",\"leiningen.core.eval/eval-in-project\",\"topology.qualifier/all-fq\",\"topology.finder/source-paths->namespaces\",\"topology.finder/dirs->sources\",\"clojure.tools.namespace.file/read-file-ns-decl\",\"topology.symbols/symbols\",\"topology.edgelist-test/edges\",\"topology.edgelist/dirs->fn-edges\",\"topology.symbols/zip-nodes\",\"topology.qualifier/fq-ns\",\"clojure.zip/next\",\"clojure.core/*err*\",\"topology.edgelist/ns->edgelist\",\"clojure.tools.namespace.file/clojure-file?\",\"clojure.java.io/file\",\"clojure.zip/end?\",\"clojure.zip/node\",\"clojure.zip/zipper\",\"topology.dependencies/dependencies\",\"topology.edgelist-test/syntax-quotes-add-seq-concat-list\",\"topology.dependencies-test/should-compute-fn-calls-in-namespace\",\"leiningen.topology/topology\",\"topology.finder/find-sources-in-dir\",\"topology.finder/clojurescript-file?\",\"topology.edgelist-test/should-produce-weighted-edges-for-multiple-calls\",\"topology.dependencies/ns->fn-dep-map\",\"topology.printer/print-weighted-edges\",\"clojure.core/println\",\"topology.symbols/seq-map-zip\",\"topology.edgelist/interleave-keys\",\"topology.dependencies/interns\",\"topology.dependencies/sources\",\"clojure.repl/source-fn\",\"topology.edgelist-test/should-report-java-interop\",\"topology.qualifier/filter-fully-qualified\",\"leiningen.core.eval/eval-in-project\",\"topology.qualifier/all-fq\",\"topology.finder/source-paths->namespaces\",\"topology.finder/dirs->sources\",\"clojure.tools.namespace.file/read-file-ns-decl\",\"topology.symbols/symbols\",\"topology.edgelist-test/edges\",\"topology.edgelist/dirs->fn-edges\",\"topology.symbols/zip-nodes\",\"topology.qualifier/fq-ns\",\"clojure.zip/next\",\"clojure.core/*err*\",\"topology.edgelist/ns->edgelist\",\"clojure.tools.namespace.file/clojure-file?\",\"clojure.java.io/file\",\"clojure.zip/end?\",\"clojure.zip/node\",\"clojure.zip/zipper\",\"topology.dependencies/dependencies\",\"topology.edgelist-test/syntax-quotes-add-seq-concat-list\",\"topology.dependencies-test/should-compute-fn-calls-in-namespace\",\"leiningen.topology/topology\",\"topology.finder/find-sources-in-dir\",\"topology.finder/clojurescript-file?\",\"topology.edgelist-test/should-produce-weighted-edges-for-multiple-calls\",\"topology.dependencies/ns->fn-dep-map\",\"topology.printer/print-weighted-edges\",\"clojure.core/println\",\"topology.symbols/seq-map-zip\",\"topology.edgelist/interleave-keys\",\"topology.dependencies/interns\",\"topology.dependencies/sources\",\"clojure.repl/source-fn\",\"topology.edgelist-test/should-report-java-interop\",\"topology.qualifier/filter-fully-qualified\",\"leiningen.core.eval/eval-in-project\",\"topology.qualifier/all-fq\",\"topology.finder/source-paths->namespaces\",\"topology.finder/dirs->sources\",\"clojure.tools.namespace.file/read-file-ns-decl\",\"topology.symbols/symbols\",\"topology.edgelist-test/edges\",\"topology.edgelist/dirs->fn-edges\",\"topology.symbols/zip-nodes\",\"topology.qualifier/fq-ns\",\"clojure.zip/next\",\"clojure.core/*err*\",\"topology.edgelist/ns->edgelist\",\"clojure.tools.namespace.file/clojure-file?\",\"clojure.java.io/file\",\"clojure.zip/end?\",\"clojure.zip/node\",\"clojure.zip/zipper\",\"topology.dependencies/dependencies\",\"topology.edgelist-test/syntax-quotes-add-seq-concat-list\",\"topology.dependencies-test/should-compute-fn-calls-in-namespace\",\"leiningen.topology/topology\",\"topology.finder/find-sources-in-dir\",\"topology.finder/clojurescript-file?\",\"topology.edgelist-test/should-produce-weighted-edges-for-multiple-calls\",\"topology.dependencies/ns->fn-dep-map\",\"topology.printer/print-weighted-edges\",\"clojure.core/println\",\"topology.symbols/seq-map-zip\",\"topology.edgelist/interleave-keys\",\"topology.dependencies/interns\",\"topology.dependencies/sources\",\"clojure.repl/source-fn\",\"topology.edgelist-test/should-report-java-interop\",\"topology.qualifier/filter-fully-qualified\",\"leiningen.core.eval/eval-in-project\",\"topology.qualifier/all-fq\",\"topology.finder/source-paths->namespaces\",\"topology.finder/dirs->sources\",\"clojure.tools.namespace.file/read-file-ns-decl\",\"topology.symbols/symbols\",\"topology.edgelist-test/edges\",\"topology.edgelist/dirs->fn-edges\",\"topology.symbols/zip-nodes\",\"topology.qualifier/fq-ns\",\"clojure.zip/next\",\"clojure.core/*err*\",\"topology.edgelist/ns->edgelist\",\"clojure.tools.namespace.file/clojure-file?\",\"clojure.java.io/file\",\"clojure.zip/end?\",\"clojure.zip/node\",\"clojure.zip/zipper\",\"topology.dependencies/dependencies\",\"topology.edgelist-test/syntax-quotes-add-seq-concat-list\",\"topology.dependencies-test/should-compute-fn-calls-in-namespace\",\"leiningen.topology/topology\",\"topology.finder/find-sources-in-dir\",\"topology.finder/clojurescript-file?\",\"topology.edgelist-test/should-produce-weighted-edges-for-multiple-calls\",\"topology.dependencies/ns->fn-dep-map\",\"topology.printer/print-weighted-edges\",\"clojure.core/println\",\"topology.symbols/seq-map-zip\",\"topology.edgelist/interleave-keys\",\"topology.dependencies/interns\",\"topology.dependencies/sources\",\"clojure.repl/source-fn\",\"topology.edgelist-test/should-report-java-interop\",\"topology.qualifier/filter-fully-qualified\",\"leiningen.core.eval/eval-in-project\",\"topology.qualifier/all-fq\",\"topology.finder/source-paths->namespaces\",\"topology.finder/dirs->sources\",\"clojure.tools.namespace.file/read-file-ns-decl\",\"topology.symbols/symbols\",\"topology.edgelist-test/edges\",\"topology.edgelist/dirs->fn-edges\",\"topology.symbols/zip-nodes\",\"topology.qualifier/fq-ns\",\"clojure.zip/next\",\"clojure.core/*err*\",\"topology.edgelist/ns->edgelist\",\"clojure.tools.namespace.file/clojure-file?\",\"clojure.java.io/file\",\"clojure.zip/end?\",\"clojure.zip/node\",\"clojure.zip/zipper\",\"topology.dependencies/dependencies\",\"topology.edgelist-test/syntax-quotes-add-seq-concat-list\",\"topology.dependencies-test/should-compute-fn-calls-in-namespace\",\"leiningen.topology/topology\",\"topology.finder/find-sources-in-dir\",\"topology.finder/clojurescript-file?\",\"topology.edgelist-test/should-produce-weighted-edges-for-multiple-calls\",\"topology.dependencies/ns->fn-dep-map\",\"topology.printer/print-weighted-edges\",\"clojure.core/println\",\"topology.symbols/seq-map-zip\",\"topology.edgelist/interleave-keys\",\"topology.dependencies/interns\",\"topology.dependencies/sources\",\"clojure.repl/source-fn\",\"topology.edgelist-test/should-report-java-interop\",\"topology.qualifier/filter-fully-qualified\",\"leiningen.core.eval/eval-in-project\",\"topology.qualifier/all-fq\",\"topology.finder/source-paths->namespaces\",\"topology.finder/dirs->sources\",\"clojure.tools.namespace.file/read-file-ns-decl\",\"topology.symbols/symbols\",\"topology.edgelist-test/edges\",\"topology.edgelist/dirs->fn-edges\",\"topology.symbols/zip-nodes\",\"topology.qualifier/fq-ns\",\"clojure.zip/next\",\"clojure.core/*err*\",\"topology.edgelist/ns->edgelist\",\"clojure.tools.namespace.file/clojure-file?\",\"clojure.java.io/file\",\"clojure.zip/end?\",\"clojure.zip/node\",\"clojure.zip/zipper\",\"topology.dependencies/dependencies\",\"topology.edgelist-test/syntax-quotes-add-seq-concat-list\",\"topology.dependencies-test/should-compute-fn-calls-in-namespace\",\"leiningen.topology/topology\",\"topology.finder/find-sources-in-dir\",\"topology.finder/clojurescript-file?\",\"topology.edgelist-test/should-produce-weighted-edges-for-multiple-calls\",\"topology.dependencies/ns->fn-dep-map\",\"topology.printer/print-weighted-edges\",\"clojure.core/println\",\"topology.symbols/seq-map-zip\",\"topology.edgelist/interleave-keys\",\"topology.dependencies/interns\",\"topology.dependencies/sources\",\"clojure.repl/source-fn\",\"topology.edgelist-test/should-report-java-interop\",\"topology.qualifier/filter-fully-qualified\",\"leiningen.core.eval/eval-in-project\",\"topology.qualifier/all-fq\",\"topology.finder/source-paths->namespaces\",\"topology.finder/dirs->sources\",\"clojure.tools.namespace.file/read-file-ns-decl\",\"topology.symbols/symbols\",\"topology.edgelist-test/edges\",\"topology.edgelist/dirs->fn-edges\",\"topology.symbols/zip-nodes\",\"topology.qualifier/fq-ns\",\"clojure.zip/next\",\"clojure.core/*err*\",\"topology.edgelist/ns->edgelist\",\"clojure.tools.namespace.file/clojure-file?\",\"clojure.java.io/file\",\"clojure.zip/end?\",\"clojure.zip/node\",\"clojure.zip/zipper\",\"topology.dependencies/dependencies\",\"topology.edgelist-test/syntax-quotes-add-seq-concat-list\",\"topology.dependencies-test/should-compute-fn-calls-in-namespace\",\"leiningen.topology/topology\",\"topology.finder/find-sources-in-dir\",\"topology.finder/clojurescript-file?\",\"topology.edgelist-test/should-produce-weighted-edges-for-multiple-calls\",\"topology.dependencies/ns->fn-dep-map\",\"topology.printer/print-weighted-edges\",\"clojure.core/println\",\"topology.symbols/seq-map-zip\",\"topology.edgelist/interleave-keys\",\"topology.dependencies/interns\",\"topology.dependencies/sources\",\"clojure.repl/source-fn\",\"topology.edgelist-test/should-report-java-interop\",\"topology.qualifier/filter-fully-qualified\",\"leiningen.core.eval/eval-in-project\",\"topology.qualifier/all-fq\",\"topology.finder/source-paths->namespaces\",\"topology.finder/dirs->sources\",\"clojure.tools.namespace.file/read-file-ns-decl\",\"topology.symbols/symbols\",\"topology.edgelist-test/edges\",\"topology.edgelist/dirs->fn-edges\",\"topology.symbols/zip-nodes\",\"topology.qualifier/fq-ns\",\"clojure.zip/next\",\"clojure.core/*err*\",\"topology.edgelist/ns->edgelist\",\"clojure.tools.namespace.file/clojure-file?\",\"clojure.java.io/file\",\"clojure.zip/end?\",\"clojure.zip/node\",\"clojure.zip/zipper\",\"topology.dependencies/dependencies\",\"topology.edgelist-test/syntax-quotes-add-seq-concat-list\",\"topology.dependencies-test/should-compute-fn-calls-in-namespace\",\"leiningen.topology/topology\",\"topology.finder/find-sources-in-dir\",\"topology.finder/clojurescript-file?\",\"topology.edgelist-test/should-produce-weighted-edges-for-multiple-calls\",\"topology.dependencies/ns->fn-dep-map\",\"topology.printer/print-weighted-edges\",\"clojure.core/println\",\"topology.symbols/seq-map-zip\",\"topology.edgelist/interleave-keys\",\"topology.dependencies/interns\",\"topology.dependencies/sources\",\"clojure.repl/source-fn\",\"topology.edgelist-test/should-report-java-interop\",\"topology.qualifier/filter-fully-qualified\",\"leiningen.core.eval/eval-in-project\",\"topology.qualifier/all-fq\",\"topology.finder/source-paths->namespaces\",\"topology.finder/dirs->sources\",\"clojure.tools.namespace.file/read-file-ns-decl\",\"topology.symbols/symbols\",\"topology.edgelist-test/edges\",\"topology.edgelist/dirs->fn-edges\",\"topology.symbols/zip-nodes\",\"topology.qualifier/fq-ns\",\"clojure.zip/next\",\"clojure.core/*err*\",\"topology.edgelist/ns->edgelist\",\"clojure.tools.namespace.file/clojure-file?\",\"clojure.java.io/file\",\"clojure.zip/end?\",\"clojure.zip/node\",\"clojure.zip/zipper\",\"topology.dependencies/dependencies\",\"topology.edgelist-test/syntax-quotes-add-seq-concat-list\",\"topology.dependencies-test/should-compute-fn-calls-in-namespace\",\"leiningen.topology/topology\",\"topology.finder/find-sources-in-dir\",\"topology.finder/clojurescript-file?\",\"topology.edgelist-test/should-produce-weighted-edges-for-multiple-calls\",\"topology.dependencies/ns->fn-dep-map\",\"topology.printer/print-weighted-edges\",\"clojure.core/println\",\"topology.symbols/seq-map-zip\",\"topology.edgelist/interleave-keys\",\"topology.dependencies/interns\",\"topology.dependencies/sources\",\"clojure.repl/source-fn\",\"topology.edgelist-test/should-report-java-interop\",\"topology.qualifier/filter-fully-qualified\",\"leiningen.core.eval/eval-in-project\",\"topology.qualifier/all-fq\",\"topology.finder/source-paths->namespaces\",\"topology.finder/dirs->sources\",\"clojure.tools.namespace.file/read-file-ns-decl\",\"topology.symbols/symbols\",\"topology.edgelist-test/edges\",\"topology.edgelist/dirs->fn-edges\",\"topology.symbols/zip-nodes\",\"topology.qualifier/fq-ns\",\"clojure.zip/next\",\"clojure.core/*err*\",\"topology.edgelist/ns->edgelist\",\"clojure.tools.namespace.file/clojure-file?\",\"clojure.java.io/file\",\"clojure.zip/end?\",\"clojure.zip/node\",\"clojure.zip/zipper\",\"topology.dependencies/dependencies\",\"topology.edgelist-test/syntax-quotes-add-seq-concat-list\",\"topology.dependencies-test/should-compute-fn-calls-in-namespace\",\"leiningen.topology/topology\",\"topology.finder/find-sources-in-dir\",\"topology.finder/clojurescript-file?\",\"topology.edgelist-test/should-produce-weighted-edges-for-multiple-calls\",\"topology.dependencies/ns->fn-dep-map\",\"topology.printer/print-weighted-edges\",\"clojure.core/println\",\"topology.symbols/seq-map-zip\",\"topology.edgelist/interleave-keys\",\"topology.dependencies/interns\",\"topology.dependencies/sources\",\"clojure.repl/source-fn\",\"topology.edgelist-test/should-report-java-interop\",\"topology.qualifier/filter-fully-qualified\",\"leiningen.core.eval/eval-in-project\",\"topology.qualifier/all-fq\",\"topology.finder/source-paths->namespaces\",\"topology.finder/dirs->sources\",\"clojure.tools.namespace.file/read-file-ns-decl\",\"topology.symbols/symbols\",\"topology.edgelist-test/edges\",\"topology.edgelist/dirs->fn-edges\",\"topology.symbols/zip-nodes\",\"topology.qualifier/fq-ns\",\"clojure.zip/next\",\"clojure.core/*err*\",\"topology.edgelist/ns->edgelist\",\"clojure.tools.namespace.file/clojure-file?\",\"clojure.java.io/file\",\"clojure.zip/end?\",\"clojure.zip/node\",\"clojure.zip/zipper\",\"topology.dependencies/dependencies\",\"topology.edgelist-test/syntax-quotes-add-seq-concat-list\",\"topology.dependencies-test/should-compute-fn-calls-in-namespace\",\"leiningen.topology/topology\",\"topology.finder/find-sources-in-dir\",\"topology.finder/clojurescript-file?\",\"topology.edgelist-test/should-produce-weighted-edges-for-multiple-calls\",\"topology.dependencies/ns->fn-dep-map\",\"topology.printer/print-weighted-edges\",\"clojure.core/println\",\"topology.symbols/seq-map-zip\",\"topology.edgelist/interleave-keys\",\"topology.dependencies/interns\",\"topology.dependencies/sources\",\"clojure.repl/source-fn\",\"topology.edgelist-test/should-report-java-interop\",\"topology.qualifier/filter-fully-qualified\",\"leiningen.core.eval/eval-in-project\",\"topology.qualifier/all-fq\",\"topology.finder/source-paths->namespaces\",\"topology.finder/dirs->sources\",\"clojure.tools.namespace.file/read-file-ns-decl\",\"topology.symbols/symbols\",\"topology.edgelist-test/edges\",\"topology.edgelist/dirs->fn-edges\",\"topology.symbols/zip-nodes\",\"topology.qualifier/fq-ns\",\"clojure.zip/next\",\"clojure.core/*err*\",\"topology.edgelist/ns->edgelist\",\"clojure.tools.namespace.file/clojure-file?\",\"clojure.java.io/file\",\"clojure.zip/end?\",\"clojure.zip/node\",\"clojure.zip/zipper\"]}},\"id\":\"057240d3-1381-4ddf-b15c-4385f4d876ae\",\"type\":\"ColumnDataSource\"},{\"attributes\":{\"above\":[{\"id\":\"3988eb06-63c2-48b4-942f-e230759c4e85\",\"type\":\"CategoricalAxis\"}],\"left\":[{\"id\":\"94598d1b-ec09-4b19-828f-1e0148ff9bc6\",\"type\":\"CategoricalAxis\"}],\"name\":\"group\",\"plot_height\":900,\"plot_width\":900,\"renderers\":[{\"id\":\"3988eb06-63c2-48b4-942f-e230759c4e85\",\"type\":\"CategoricalAxis\"},{\"id\":\"ff1f1740-693e-4e77-9bb6-13cd7b2ecb62\",\"type\":\"Grid\"},{\"id\":\"94598d1b-ec09-4b19-828f-1e0148ff9bc6\",\"type\":\"CategoricalAxis\"},{\"id\":\"46cd1d48-76e8-46fe-a9c8-20f9a54de1b9\",\"type\":\"Grid\"},{\"id\":\"8b42f6b5-a651-44e6-a711-23f4139405b0\",\"type\":\"GlyphRenderer\"}],\"title\":{\"id\":\"ec2e6f73-b36c-4043-afd9-81c871cc40e1\",\"type\":\"Title\"},\"tool_events\":{\"id\":\"7b7f141c-434c-4a44-9dcb-d5d9a77f5b41\",\"type\":\"ToolEvents\"},\"toolbar\":{\"id\":\"1a3f7db2-a03d-4c17-8ea6-f8bf957699f2\",\"type\":\"Toolbar\"},\"x_range\":{\"id\":\"6b1a5ba8-575d-47f2-ab5b-e07224b77d5b\",\"type\":\"FactorRange\"},\"x_scale\":{\"id\":\"7ef8184c-77c1-4333-8141-8b33459ac2ca\",\"type\":\"CategoricalScale\"},\"y_range\":{\"id\":\"c8be7bc5-54a5-4426-884d-f258d3527842\",\"type\":\"FactorRange\"},\"y_scale\":{\"id\":\"4e879f90-0a48-48fc-90a4-5e2cef7dde4b\",\"type\":\"CategoricalScale\"}},\"id\":\"4e62b49d-0608-4e04-9704-05e765f5be17\",\"subtype\":\"Figure\",\"type\":\"Plot\"},{\"attributes\":{\"plot\":null,\"text\":\"lein-topology-5b2a6e3 by group\"},\"id\":\"ec2e6f73-b36c-4043-afd9-81c871cc40e1\",\"type\":\"Title\"},{\"attributes\":{\"active_drag\":\"auto\",\"active_inspect\":\"auto\",\"active_scroll\":\"auto\",\"active_tap\":\"auto\",\"tools\":[{\"id\":\"0453a285-d3d6-436a-aebe-e01168e7a50b\",\"type\":\"HoverTool\"},{\"id\":\"0989c2a6-1037-41d0-a678-a3e802ff0de4\",\"type\":\"SaveTool\"}]},\"id\":\"1a3f7db2-a03d-4c17-8ea6-f8bf957699f2\",\"type\":\"Toolbar\"},{\"attributes\":{\"dimension\":1,\"grid_line_color\":{\"value\":null},\"plot\":{\"id\":\"4e62b49d-0608-4e04-9704-05e765f5be17\",\"subtype\":\"Figure\",\"type\":\"Plot\"},\"ticker\":{\"id\":\"b3a39993-e11c-4cf7-8deb-8c8178080326\",\"type\":\"CategoricalTicker\"}},\"id\":\"46cd1d48-76e8-46fe-a9c8-20f9a54de1b9\",\"type\":\"Grid\"},{\"attributes\":{\"fill_alpha\":{\"field\":\"alphas\"},\"fill_color\":{\"field\":\"colors\"},\"height\":{\"units\":\"data\",\"value\":0.9},\"line_alpha\":{\"field\":\"alphas\"},\"line_color\":{\"value\":null},\"width\":{\"units\":\"data\",\"value\":0.9},\"x\":{\"field\":\"xname\"},\"y\":{\"field\":\"yname\"}},\"id\":\"9667ec9d-2153-447c-9114-e408ef742470\",\"type\":\"Rect\"},{\"attributes\":{},\"id\":\"7ef8184c-77c1-4333-8141-8b33459ac2ca\",\"type\":\"CategoricalScale\"},{\"attributes\":{\"axis_line_color\":{\"value\":null},\"formatter\":{\"id\":\"4a683970-daf0-4195-b9e6-4e5668a451e8\",\"type\":\"CategoricalTickFormatter\"},\"major_label_standoff\":0,\"major_label_text_font_size\":{\"value\":\"6pt\"},\"major_tick_line_color\":{\"value\":null},\"plot\":{\"id\":\"4e62b49d-0608-4e04-9704-05e765f5be17\",\"subtype\":\"Figure\",\"type\":\"Plot\"},\"ticker\":{\"id\":\"b3a39993-e11c-4cf7-8deb-8c8178080326\",\"type\":\"CategoricalTicker\"}},\"id\":\"94598d1b-ec09-4b19-828f-1e0148ff9bc6\",\"type\":\"CategoricalAxis\"},{\"attributes\":{\"callback\":null,\"factors\":[\"topology.edgelist/ns->edgelist\",\"topology.edgelist/dirs->fn-edges\",\"topology.edgelist/interleave-keys\",\"topology.symbols/zip-nodes\",\"topology.symbols/symbols\",\"topology.symbols/seq-map-zip\",\"topology.qualifier/fq-ns\",\"topology.qualifier/all-fq\",\"topology.qualifier/filter-fully-qualified\",\"clojure.java.io/file\",\"clojure.zip/zipper\",\"clojure.zip/node\",\"clojure.zip/end?\",\"clojure.zip/next\",\"topology.dependencies/sources\",\"topology.dependencies/interns\",\"topology.dependencies/ns->fn-dep-map\",\"topology.dependencies/dependencies\",\"topology.dependencies-test/should-compute-fn-calls-in-namespace\",\"clojure.core/*err*\",\"clojure.core/println\",\"clojure.repl/source-fn\",\"leiningen.topology/topology\",\"topology.printer/print-weighted-edges\",\"topology.edgelist-test/edges\",\"topology.edgelist-test/should-report-java-interop\",\"topology.edgelist-test/should-produce-weighted-edges-for-multiple-calls\",\"topology.edgelist-test/syntax-quotes-add-seq-concat-list\",\"leiningen.core.eval/eval-in-project\",\"topology.finder/dirs->sources\",\"topology.finder/source-paths->namespaces\",\"topology.finder/clojurescript-file?\",\"topology.finder/find-sources-in-dir\",\"clojure.tools.namespace.file/clojure-file?\",\"clojure.tools.namespace.file/read-file-ns-decl\"]},\"id\":\"6b1a5ba8-575d-47f2-ab5b-e07224b77d5b\",\"type\":\"FactorRange\"},{\"attributes\":{\"data_source\":{\"id\":\"057240d3-1381-4ddf-b15c-4385f4d876ae\",\"type\":\"ColumnDataSource\"},\"glyph\":{\"id\":\"9667ec9d-2153-447c-9114-e408ef742470\",\"type\":\"Rect\"},\"hover_glyph\":{\"id\":\"c604c690-f2de-47d1-ad90-607a1ec3a100\",\"type\":\"Rect\"},\"muted_glyph\":null,\"nonselection_glyph\":{\"id\":\"5c6d7b01-ef51-47f3-8789-a7d5abdb4e18\",\"type\":\"Rect\"},\"selection_glyph\":null},\"id\":\"8b42f6b5-a651-44e6-a711-23f4139405b0\",\"type\":\"GlyphRenderer\"},{\"attributes\":{},\"id\":\"7b7f141c-434c-4a44-9dcb-d5d9a77f5b41\",\"type\":\"ToolEvents\"},{\"attributes\":{},\"id\":\"4a683970-daf0-4195-b9e6-4e5668a451e8\",\"type\":\"CategoricalTickFormatter\"},{\"attributes\":{\"plot\":{\"id\":\"4e62b49d-0608-4e04-9704-05e765f5be17\",\"subtype\":\"Figure\",\"type\":\"Plot\"}},\"id\":\"0989c2a6-1037-41d0-a678-a3e802ff0de4\",\"type\":\"SaveTool\"},{\"attributes\":{\"axis_line_color\":{\"value\":null},\"formatter\":{\"id\":\"b4556657-e749-4cbd-8e79-c80489d6a37e\",\"type\":\"CategoricalTickFormatter\"},\"major_label_orientation\":1.0471975511965976,\"major_label_standoff\":0,\"major_label_text_font_size\":{\"value\":\"6pt\"},\"major_tick_line_color\":{\"value\":null},\"plot\":{\"id\":\"4e62b49d-0608-4e04-9704-05e765f5be17\",\"subtype\":\"Figure\",\"type\":\"Plot\"},\"ticker\":{\"id\":\"2e8815cc-fd9f-4b2a-922d-322bd814d168\",\"type\":\"CategoricalTicker\"}},\"id\":\"3988eb06-63c2-48b4-942f-e230759c4e85\",\"type\":\"CategoricalAxis\"},{\"attributes\":{},\"id\":\"b3a39993-e11c-4cf7-8deb-8c8178080326\",\"type\":\"CategoricalTicker\"},{\"attributes\":{},\"id\":\"2e8815cc-fd9f-4b2a-922d-322bd814d168\",\"type\":\"CategoricalTicker\"},{\"attributes\":{\"fill_alpha\":{\"value\":0.1},\"fill_color\":{\"value\":\"#1f77b4\"},\"height\":{\"units\":\"data\",\"value\":0.9},\"line_alpha\":{\"value\":0.1},\"line_color\":{\"value\":\"#1f77b4\"},\"width\":{\"units\":\"data\",\"value\":0.9},\"x\":{\"field\":\"xname\"},\"y\":{\"field\":\"yname\"}},\"id\":\"5c6d7b01-ef51-47f3-8789-a7d5abdb4e18\",\"type\":\"Rect\"},{\"attributes\":{\"grid_line_color\":{\"value\":null},\"plot\":{\"id\":\"4e62b49d-0608-4e04-9704-05e765f5be17\",\"subtype\":\"Figure\",\"type\":\"Plot\"},\"ticker\":{\"id\":\"2e8815cc-fd9f-4b2a-922d-322bd814d168\",\"type\":\"CategoricalTicker\"}},\"id\":\"ff1f1740-693e-4e77-9bb6-13cd7b2ecb62\",\"type\":\"Grid\"},{\"attributes\":{},\"id\":\"4e879f90-0a48-48fc-90a4-5e2cef7dde4b\",\"type\":\"CategoricalScale\"},{\"attributes\":{\"fill_color\":{\"field\":\"colors\"},\"height\":{\"units\":\"data\",\"value\":0.9},\"width\":{\"units\":\"data\",\"value\":0.9},\"x\":{\"field\":\"xname\"},\"y\":{\"field\":\"yname\"}},\"id\":\"c604c690-f2de-47d1-ad90-607a1ec3a100\",\"type\":\"Rect\"},{\"attributes\":{\"callback\":null,\"factors\":[\"clojure.tools.namespace.file/read-file-ns-decl\",\"clojure.tools.namespace.file/clojure-file?\",\"topology.finder/find-sources-in-dir\",\"topology.finder/clojurescript-file?\",\"topology.finder/source-paths->namespaces\",\"topology.finder/dirs->sources\",\"leiningen.core.eval/eval-in-project\",\"topology.edgelist-test/syntax-quotes-add-seq-concat-list\",\"topology.edgelist-test/should-produce-weighted-edges-for-multiple-calls\",\"topology.edgelist-test/should-report-java-interop\",\"topology.edgelist-test/edges\",\"topology.printer/print-weighted-edges\",\"leiningen.topology/topology\",\"clojure.repl/source-fn\",\"clojure.core/println\",\"clojure.core/*err*\",\"topology.dependencies-test/should-compute-fn-calls-in-namespace\",\"topology.dependencies/dependencies\",\"topology.dependencies/ns->fn-dep-map\",\"topology.dependencies/interns\",\"topology.dependencies/sources\",\"clojure.zip/next\",\"clojure.zip/end?\",\"clojure.zip/node\",\"clojure.zip/zipper\",\"clojure.java.io/file\",\"topology.qualifier/filter-fully-qualified\",\"topology.qualifier/all-fq\",\"topology.qualifier/fq-ns\",\"topology.symbols/seq-map-zip\",\"topology.symbols/symbols\",\"topology.symbols/zip-nodes\",\"topology.edgelist/interleave-keys\",\"topology.edgelist/dirs->fn-edges\",\"topology.edgelist/ns->edgelist\"]},\"id\":\"c8be7bc5-54a5-4426-884d-f258d3527842\",\"type\":\"FactorRange\"},{\"attributes\":{\"callback\":null,\"plot\":{\"id\":\"4e62b49d-0608-4e04-9704-05e765f5be17\",\"subtype\":\"Figure\",\"type\":\"Plot\"},\"tooltips\":[[\"names\",\"@yname, @xname\"],[\"weight\",\"@weight\"]]},\"id\":\"0453a285-d3d6-436a-aebe-e01168e7a50b\",\"type\":\"HoverTool\"},{\"attributes\":{},\"id\":\"b4556657-e749-4cbd-8e79-c80489d6a37e\",\"type\":\"CategoricalTickFormatter\"}],\"root_ids\":[\"4e62b49d-0608-4e04-9704-05e765f5be17\"]},\"title\":\"Bokeh Application\",\"version\":\"0.12.6\"}};\n",
       "            var render_items = [{\"docid\":\"6f035699-263a-4d6b-afe4-43a32374d7c5\",\"elementid\":\"e939ffa3-710a-4794-a067-c589bd0af0c6\",\"modelid\":\"4e62b49d-0608-4e04-9704-05e765f5be17\"}];\n",
       "            \n",
       "            Bokeh.embed.embed_items(docs_json, render_items);\n",
       "          };\n",
       "          if (document.readyState != \"loading\") fn();\n",
       "          else document.addEventListener(\"DOMContentLoaded\", fn);\n",
       "        })();\n",
       "      },\n",
       "      function(Bokeh) {\n",
       "      }\n",
       "    ];\n",
       "  \n",
       "    function run_inline_js() {\n",
       "      \n",
       "      if ((window.Bokeh !== undefined) || (force === true)) {\n",
       "        for (var i = 0; i < inline_js.length; i++) {\n",
       "          inline_js[i](window.Bokeh);\n",
       "        }if (force === true) {\n",
       "          display_loaded();\n",
       "        }} else if (Date.now() < window._bokeh_timeout) {\n",
       "        setTimeout(run_inline_js, 100);\n",
       "      } else if (!window._bokeh_failed_load) {\n",
       "        console.log(\"Bokeh: BokehJS failed to load within specified timeout.\");\n",
       "        window._bokeh_failed_load = true;\n",
       "      } else if (force !== true) {\n",
       "        var cell = $(document.getElementById(\"e939ffa3-710a-4794-a067-c589bd0af0c6\")).parents('.cell').data().cell;\n",
       "        cell.output_area.append_execute_result(NB_LOAD_WARNING)\n",
       "      }\n",
       "  \n",
       "    }\n",
       "  \n",
       "    if (window._bokeh_is_loading === 0) {\n",
       "      console.log(\"Bokeh: BokehJS loaded, going straight to plotting\");\n",
       "      run_inline_js();\n",
       "    } else {\n",
       "      load_libs(js_urls, function() {\n",
       "        console.log(\"Bokeh: BokehJS plotting callback run at\", now());\n",
       "        run_inline_js();\n",
       "      });\n",
       "    }\n",
       "  }(this));\n",
       "</script>"
      ]
     },
     "metadata": {},
     "output_type": "display_data"
    }
   ],
   "source": [
    "p = matrix(lg, 'group', \"{}-{} by group\".format(network_collection, network_name), 900, palette)\n",
    "show(p)"
   ]
  },
  {
   "cell_type": "markdown",
   "metadata": {
    "deletable": true,
    "editable": true
   },
   "source": [
    "## Organizing the system by scoring coupling and cohesion\n",
    "\n",
    "### Intuition\n",
    "\n",
    "Ordering by group / modules gives us a visual indication of how well the system accomplishes the design goal of loosely coupled and highly cohesive modules. We can quantify this idea.\n",
    "\n",
    "Clustering is a type of assignment problem seeking the optimal allocation of N components to M clusters. One of the prominent heuristics of system architecting is to choose modules such that they are as independent as possible...low coupling and high cohesion.\n",
    "\n",
    "We can objectively score these clustering algorithms using an objective function that considers both the size of the clusters ($C_i$) and the number of interactions outside the clusters ($I_0$) according to the following equation, where $\\alpha = 10$, $\\beta = 100$ or $\\alpha = 1$, $\\beta = 10$, and $M$ is the number of clusters:\n",
    "\n",
    "$Obj = \\alpha \\sum_{i=1}^{M}C_i^2 + \\beta I_0$\n",
    "\n",
    "_See page 25 of Design Structure Matrix Methods and Applications for more information._\n",
    "\n",
    "Clustering objectives work against two competing forces:\n",
    "\n",
    "* We want to minimize the size of the largest modules...otherwise, we could just take the trivial result of putting everything into one module. M=1\n",
    "* We want to minimize the number and/or strength of interactions among components that cross the module boundaries. As we get to more components, more and more interactions will be required to cross module boundaries. The extreme result would be M=N.\n",
    "\n",
    "The objective function could be evaluated for any number of potential designs that were manually or automatically created. This essentially provides a real-time feedback loop about the potential quality of a design. The range of the function is immediately bound by the two extremes. Your job as an architect and designer is to minimize this function."
   ]
  },
  {
   "cell_type": "markdown",
   "metadata": {
    "deletable": true,
    "editable": true
   },
   "source": [
    "### Scoring `lein-topology`"
   ]
  },
  {
   "cell_type": "markdown",
   "metadata": {
    "deletable": true,
    "editable": true
   },
   "source": [
    "For us to apply this scoring methodology meaningfully, we'll make a couple of simplifying assumptions:\n",
    "\n",
    "* `clojure.core` functions aren't moving to a different namespace.\n",
    "* tests shouldn't factor in to how the system is structured.\n",
    "\n",
    "With these, we can apply the filtering from above a bit more strictly to get an even smaller subgraph of the function call network:"
   ]
  },
  {
   "cell_type": "code",
   "execution_count": 59,
   "metadata": {
    "collapsed": false,
    "deletable": true,
    "editable": true
   },
   "outputs": [
    {
     "data": {
      "text/plain": [
       "'IGRAPH DNW- 19 18 -- \\n+ attr: group (v), indegree (v), label (v), name (v), namespace (v), outdegree (v), weight (e)'"
      ]
     },
     "execution_count": 59,
     "metadata": {},
     "output_type": "execute_result"
    }
   ],
   "source": [
    "v_to_keep = g.vs(lambda v: 'topology' in v['label'] and not 'test' in v['label'])\n",
    "tg = g.subgraph(v_to_keep)\n",
    "\n",
    "# Recompute degree after building the subgraph:\n",
    "tg.vs['indegree'] = tg.degree(mode=\"in\")\n",
    "tg.vs['outdegree'] = tg.degree(mode=\"out\")\n",
    "\n",
    "tg.summary()"
   ]
  },
  {
   "cell_type": "markdown",
   "metadata": {
    "deletable": true,
    "editable": true
   },
   "source": [
    "The baseline modularity score of `lein-topology`'s core function dependency graph is:"
   ]
  },
  {
   "cell_type": "code",
   "execution_count": 60,
   "metadata": {
    "collapsed": false,
    "deletable": true,
    "editable": true
   },
   "outputs": [
    {
     "data": {
      "text/plain": [
       "121"
      ]
     },
     "execution_count": 60,
     "metadata": {},
     "output_type": "execute_result"
    }
   ],
   "source": [
    "mod.objective(tg, tg.vs['group'])"
   ]
  },
  {
   "cell_type": "markdown",
   "metadata": {
    "deletable": true,
    "editable": true
   },
   "source": [
    "Where is this on the range of possibilities? \n",
    "\n",
    "Suppose all functions were in the same namespace. We'll simulate this by setting the group membership vector to all 1's:"
   ]
  },
  {
   "cell_type": "code",
   "execution_count": 61,
   "metadata": {
    "collapsed": false,
    "deletable": true,
    "editable": true
   },
   "outputs": [
    {
     "data": {
      "text/plain": [
       "361"
      ]
     },
     "execution_count": 61,
     "metadata": {},
     "output_type": "execute_result"
    }
   ],
   "source": [
    "mod.objective(tg, [1 for _ in range(len(tg.vs))])"
   ]
  },
  {
   "cell_type": "markdown",
   "metadata": {
    "deletable": true,
    "editable": true
   },
   "source": [
    "This is the degenerate case of M=1, so the objective function simply returns the square of the number of vertices:"
   ]
  },
  {
   "cell_type": "code",
   "execution_count": 62,
   "metadata": {
    "collapsed": false,
    "deletable": true,
    "editable": true
   },
   "outputs": [
    {
     "data": {
      "text/plain": [
       "361"
      ]
     },
     "execution_count": 62,
     "metadata": {},
     "output_type": "execute_result"
    }
   ],
   "source": [
    "len(tg.vs) * len(tg.vs)"
   ]
  },
  {
   "cell_type": "markdown",
   "metadata": {
    "deletable": true,
    "editable": true
   },
   "source": [
    "The other extreme occurs when we have the extreme of M=N, or all functions in their own namespace. We can simulate this by providing a unique group membership id for each vertex:"
   ]
  },
  {
   "cell_type": "code",
   "execution_count": 63,
   "metadata": {
    "collapsed": false,
    "deletable": true,
    "editable": true
   },
   "outputs": [
    {
     "data": {
      "text/plain": [
       "199"
      ]
     },
     "execution_count": 63,
     "metadata": {},
     "output_type": "execute_result"
    }
   ],
   "source": [
    "mod.objective(tg, range(len(tg.vs)))"
   ]
  },
  {
   "cell_type": "markdown",
   "metadata": {
    "deletable": true,
    "editable": true
   },
   "source": [
    "Finally, we can compare our actual modularity score to a computational result. We can use Girvan-Newman edge-betweenness community detection to generate a modular design based on the network structure alone:"
   ]
  },
  {
   "cell_type": "code",
   "execution_count": 64,
   "metadata": {
    "collapsed": true,
    "deletable": true,
    "editable": true
   },
   "outputs": [],
   "source": [
    "eb_membership = edge_betweenness(tg, directed=True)"
   ]
  },
  {
   "cell_type": "code",
   "execution_count": 65,
   "metadata": {
    "collapsed": false,
    "deletable": true,
    "editable": true
   },
   "outputs": [
    {
     "data": {
      "text/plain": [
       "4"
      ]
     },
     "execution_count": 65,
     "metadata": {},
     "output_type": "execute_result"
    }
   ],
   "source": [
    "len(set(eb_membership))"
   ]
  },
  {
   "cell_type": "code",
   "execution_count": 66,
   "metadata": {
    "collapsed": false,
    "deletable": true,
    "editable": true
   },
   "outputs": [
    {
     "data": {
      "text/plain": [
       "7"
      ]
     },
     "execution_count": 66,
     "metadata": {},
     "output_type": "execute_result"
    }
   ],
   "source": [
    "len(set(tg.vs['group']))"
   ]
  },
  {
   "cell_type": "markdown",
   "metadata": {
    "deletable": true,
    "editable": true
   },
   "source": [
    "So the edge betweenness algorithm comes up with fewer communities, i.e. namespace in this context. Let's see how the modularity score compares:"
   ]
  },
  {
   "cell_type": "code",
   "execution_count": 67,
   "metadata": {
    "collapsed": false,
    "deletable": true,
    "editable": true
   },
   "outputs": [
    {
     "data": {
      "text/plain": [
       "133"
      ]
     },
     "execution_count": 67,
     "metadata": {},
     "output_type": "execute_result"
    }
   ],
   "source": [
    "mod.objective(tg, eb_membership)"
   ]
  },
  {
   "cell_type": "markdown",
   "metadata": {
    "deletable": true,
    "editable": true
   },
   "source": [
    "If this score is lower than our actual baseline, than the computational community structure may represent an improvement over the current structure. Which namespaces have changed groups? We may wish to refactor the code to reflect this structure.\n",
    "\n",
    "If the edge betweenness modularity score is higher than our baseline, this fact acts as a quantitative defense of our design.\n",
    "\n",
    "### The novelty here is receiving an algorithmic recommendation about how to improve the organization of the code."
   ]
  }
 ],
 "metadata": {
  "kernelspec": {
   "display_name": "Python 3",
   "language": "python",
   "name": "python3"
  },
  "language_info": {
   "codemirror_mode": {
    "name": "ipython",
    "version": 3
   },
   "file_extension": ".py",
   "mimetype": "text/x-python",
   "name": "python",
   "nbconvert_exporter": "python",
   "pygments_lexer": "ipython3",
   "version": "3.6.1"
  }
 },
 "nbformat": 4,
 "nbformat_minor": 2
}
